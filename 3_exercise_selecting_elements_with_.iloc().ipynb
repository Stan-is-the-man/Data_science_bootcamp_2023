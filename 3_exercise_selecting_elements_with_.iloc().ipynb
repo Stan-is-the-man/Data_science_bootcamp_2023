{
 "cells": [
  {
   "cell_type": "code",
   "execution_count": 1,
   "id": "6f179e1f",
   "metadata": {},
   "outputs": [],
   "source": [
    "import pandas as pd"
   ]
  },
  {
   "cell_type": "code",
   "execution_count": 2,
   "id": "ad07a021",
   "metadata": {},
   "outputs": [],
   "source": [
    "# reads csv file\n",
    "df = pd.read_csv('players_20.csv')\n",
    "# set index\n",
    "df.set_index('short_name', inplace=True)\n",
    "# select column\n",
    "df = df[['long_name', 'age', 'dob', 'height_cm', 'weight_kg', 'nationality', 'club']]"
   ]
  },
  {
   "cell_type": "code",
   "execution_count": 3,
   "id": "733e2174",
   "metadata": {},
   "outputs": [
    {
     "data": {
      "text/plain": "                                             long_name  age         dob   \nshort_name                                                                \nL. Messi                Lionel Andrés Messi Cuccittini   32  1987-06-24  \\\nCristiano Ronaldo  Cristiano Ronaldo dos Santos Aveiro   34  1985-02-05   \nNeymar Jr                Neymar da Silva Santos Junior   27  1992-02-05   \nJ. Oblak                                     Jan Oblak   26  1993-01-07   \nE. Hazard                                  Eden Hazard   28  1991-01-07   \n...                                                ...  ...         ...   \nShao Shuai                                          邵帅   22  1997-03-10   \nXiao Mingjie                              Mingjie Xiao   22  1997-01-01   \nZhang Wei                                           张威   19  2000-05-16   \nWang Haijian                                       汪海健   18  2000-08-02   \nPan Ximing                                         潘喜明   26  1993-01-11   \n\n                   height_cm  weight_kg nationality   \nshort_name                                            \nL. Messi                 170         72   Argentina  \\\nCristiano Ronaldo        187         83    Portugal   \nNeymar Jr                175         68      Brazil   \nJ. Oblak                 188         87    Slovenia   \nE. Hazard                175         74     Belgium   \n...                      ...        ...         ...   \nShao Shuai               186         79    China PR   \nXiao Mingjie             177         66    China PR   \nZhang Wei                186         75    China PR   \nWang Haijian             185         74    China PR   \nPan Ximing               182         78    China PR   \n\n                                            club  \nshort_name                                        \nL. Messi                            FC Barcelona  \nCristiano Ronaldo                       Juventus  \nNeymar Jr                    Paris Saint-Germain  \nJ. Oblak                         Atlético Madrid  \nE. Hazard                            Real Madrid  \n...                                          ...  \nShao Shuai                      Beijing Renhe FC  \nXiao Mingjie                    Shanghai SIPG FC  \nZhang Wei                 Hebei China Fortune FC  \nWang Haijian       Shanghai Greenland Shenhua FC  \nPan Ximing                Hebei China Fortune FC  \n\n[18278 rows x 7 columns]",
      "text/html": "<div>\n<style scoped>\n    .dataframe tbody tr th:only-of-type {\n        vertical-align: middle;\n    }\n\n    .dataframe tbody tr th {\n        vertical-align: top;\n    }\n\n    .dataframe thead th {\n        text-align: right;\n    }\n</style>\n<table border=\"1\" class=\"dataframe\">\n  <thead>\n    <tr style=\"text-align: right;\">\n      <th></th>\n      <th>long_name</th>\n      <th>age</th>\n      <th>dob</th>\n      <th>height_cm</th>\n      <th>weight_kg</th>\n      <th>nationality</th>\n      <th>club</th>\n    </tr>\n    <tr>\n      <th>short_name</th>\n      <th></th>\n      <th></th>\n      <th></th>\n      <th></th>\n      <th></th>\n      <th></th>\n      <th></th>\n    </tr>\n  </thead>\n  <tbody>\n    <tr>\n      <th>L. Messi</th>\n      <td>Lionel Andrés Messi Cuccittini</td>\n      <td>32</td>\n      <td>1987-06-24</td>\n      <td>170</td>\n      <td>72</td>\n      <td>Argentina</td>\n      <td>FC Barcelona</td>\n    </tr>\n    <tr>\n      <th>Cristiano Ronaldo</th>\n      <td>Cristiano Ronaldo dos Santos Aveiro</td>\n      <td>34</td>\n      <td>1985-02-05</td>\n      <td>187</td>\n      <td>83</td>\n      <td>Portugal</td>\n      <td>Juventus</td>\n    </tr>\n    <tr>\n      <th>Neymar Jr</th>\n      <td>Neymar da Silva Santos Junior</td>\n      <td>27</td>\n      <td>1992-02-05</td>\n      <td>175</td>\n      <td>68</td>\n      <td>Brazil</td>\n      <td>Paris Saint-Germain</td>\n    </tr>\n    <tr>\n      <th>J. Oblak</th>\n      <td>Jan Oblak</td>\n      <td>26</td>\n      <td>1993-01-07</td>\n      <td>188</td>\n      <td>87</td>\n      <td>Slovenia</td>\n      <td>Atlético Madrid</td>\n    </tr>\n    <tr>\n      <th>E. Hazard</th>\n      <td>Eden Hazard</td>\n      <td>28</td>\n      <td>1991-01-07</td>\n      <td>175</td>\n      <td>74</td>\n      <td>Belgium</td>\n      <td>Real Madrid</td>\n    </tr>\n    <tr>\n      <th>...</th>\n      <td>...</td>\n      <td>...</td>\n      <td>...</td>\n      <td>...</td>\n      <td>...</td>\n      <td>...</td>\n      <td>...</td>\n    </tr>\n    <tr>\n      <th>Shao Shuai</th>\n      <td>邵帅</td>\n      <td>22</td>\n      <td>1997-03-10</td>\n      <td>186</td>\n      <td>79</td>\n      <td>China PR</td>\n      <td>Beijing Renhe FC</td>\n    </tr>\n    <tr>\n      <th>Xiao Mingjie</th>\n      <td>Mingjie Xiao</td>\n      <td>22</td>\n      <td>1997-01-01</td>\n      <td>177</td>\n      <td>66</td>\n      <td>China PR</td>\n      <td>Shanghai SIPG FC</td>\n    </tr>\n    <tr>\n      <th>Zhang Wei</th>\n      <td>张威</td>\n      <td>19</td>\n      <td>2000-05-16</td>\n      <td>186</td>\n      <td>75</td>\n      <td>China PR</td>\n      <td>Hebei China Fortune FC</td>\n    </tr>\n    <tr>\n      <th>Wang Haijian</th>\n      <td>汪海健</td>\n      <td>18</td>\n      <td>2000-08-02</td>\n      <td>185</td>\n      <td>74</td>\n      <td>China PR</td>\n      <td>Shanghai Greenland Shenhua FC</td>\n    </tr>\n    <tr>\n      <th>Pan Ximing</th>\n      <td>潘喜明</td>\n      <td>26</td>\n      <td>1993-01-11</td>\n      <td>182</td>\n      <td>78</td>\n      <td>China PR</td>\n      <td>Hebei China Fortune FC</td>\n    </tr>\n  </tbody>\n</table>\n<p>18278 rows × 7 columns</p>\n</div>"
     },
     "execution_count": 3,
     "metadata": {},
     "output_type": "execute_result"
    }
   ],
   "source": [
    "# show dataframe\n",
    "df"
   ]
  },
  {
   "cell_type": "markdown",
   "id": "8d67a493",
   "metadata": {},
   "source": [
    "# Selecting with a single value"
   ]
  },
  {
   "cell_type": "markdown",
   "id": "0489d915",
   "metadata": {},
   "source": [
    "iloc[row_position, column_position]"
   ]
  },
  {
   "cell_type": "code",
   "execution_count": 26,
   "id": "d500dc19",
   "metadata": {},
   "outputs": [
    {
     "data": {
      "text/plain": "170"
     },
     "execution_count": 26,
     "metadata": {},
     "output_type": "execute_result"
    }
   ],
   "source": [
    "# get the height of L.Messi\n",
    "df.iloc[0, 3]"
   ]
  },
  {
   "cell_type": "code",
   "execution_count": 18,
   "id": "e98c90f1",
   "metadata": {},
   "outputs": [
    {
     "data": {
      "text/plain": "187"
     },
     "execution_count": 18,
     "metadata": {},
     "output_type": "execute_result"
    }
   ],
   "source": [
    "# get the weight of Cristiano Ronaldo\n",
    "df.iloc[1, 3]"
   ]
  },
  {
   "cell_type": "code",
   "execution_count": 19,
   "id": "d74f5c8e",
   "metadata": {},
   "outputs": [
    {
     "data": {
      "text/plain": "short_name\nL. Messi             170\nCristiano Ronaldo    187\nNeymar Jr            175\nJ. Oblak             188\nE. Hazard            175\n                    ... \nShao Shuai           186\nXiao Mingjie         177\nZhang Wei            186\nWang Haijian         185\nPan Ximing           182\nName: height_cm, Length: 18278, dtype: int64"
     },
     "execution_count": 19,
     "metadata": {},
     "output_type": "execute_result"
    }
   ],
   "source": [
    "# get all rows inside the 'height_cm column'\n",
    "df.iloc[:, 3]\n"
   ]
  },
  {
   "cell_type": "code",
   "execution_count": 21,
   "id": "3357f2bf",
   "metadata": {},
   "outputs": [
    {
     "data": {
      "text/plain": "long_name      Lionel Andrés Messi Cuccittini\nage                                        32\ndob                                1987-06-24\nheight_cm                                 170\nweight_kg                                  72\nnationality                         Argentina\nclub                             FC Barcelona\nName: L. Messi, dtype: object"
     },
     "execution_count": 21,
     "metadata": {},
     "output_type": "execute_result"
    }
   ],
   "source": [
    "# get all columns that correspond to the index 'L. Messi'\n",
    "df.iloc[0, :]"
   ]
  },
  {
   "cell_type": "markdown",
   "id": "40bbab76",
   "metadata": {},
   "source": [
    "# Selecting with a list of values"
   ]
  },
  {
   "cell_type": "code",
   "execution_count": 23,
   "id": "5cbd4670",
   "metadata": {},
   "outputs": [
    {
     "data": {
      "text/plain": "                                             long_name  age         dob   \nshort_name                                                                \nL. Messi                Lionel Andrés Messi Cuccittini   32  1987-06-24  \\\nCristiano Ronaldo  Cristiano Ronaldo dos Santos Aveiro   34  1985-02-05   \n\n                   height_cm  weight_kg nationality          club  \nshort_name                                                         \nL. Messi                 170         72   Argentina  FC Barcelona  \nCristiano Ronaldo        187         83    Portugal      Juventus  ",
      "text/html": "<div>\n<style scoped>\n    .dataframe tbody tr th:only-of-type {\n        vertical-align: middle;\n    }\n\n    .dataframe tbody tr th {\n        vertical-align: top;\n    }\n\n    .dataframe thead th {\n        text-align: right;\n    }\n</style>\n<table border=\"1\" class=\"dataframe\">\n  <thead>\n    <tr style=\"text-align: right;\">\n      <th></th>\n      <th>long_name</th>\n      <th>age</th>\n      <th>dob</th>\n      <th>height_cm</th>\n      <th>weight_kg</th>\n      <th>nationality</th>\n      <th>club</th>\n    </tr>\n    <tr>\n      <th>short_name</th>\n      <th></th>\n      <th></th>\n      <th></th>\n      <th></th>\n      <th></th>\n      <th></th>\n      <th></th>\n    </tr>\n  </thead>\n  <tbody>\n    <tr>\n      <th>L. Messi</th>\n      <td>Lionel Andrés Messi Cuccittini</td>\n      <td>32</td>\n      <td>1987-06-24</td>\n      <td>170</td>\n      <td>72</td>\n      <td>Argentina</td>\n      <td>FC Barcelona</td>\n    </tr>\n    <tr>\n      <th>Cristiano Ronaldo</th>\n      <td>Cristiano Ronaldo dos Santos Aveiro</td>\n      <td>34</td>\n      <td>1985-02-05</td>\n      <td>187</td>\n      <td>83</td>\n      <td>Portugal</td>\n      <td>Juventus</td>\n    </tr>\n  </tbody>\n</table>\n</div>"
     },
     "execution_count": 23,
     "metadata": {},
     "output_type": "execute_result"
    }
   ],
   "source": [
    "# get all data about L.Messi and Cristiano Ronaldo\n",
    "df.iloc[[0, 1]]\n"
   ]
  },
  {
   "cell_type": "code",
   "execution_count": 24,
   "id": "aa47e64e",
   "metadata": {},
   "outputs": [
    {
     "data": {
      "text/plain": "short_name\nL. Messi             170\nCristiano Ronaldo    187\nName: height_cm, dtype: int64"
     },
     "execution_count": 24,
     "metadata": {},
     "output_type": "execute_result"
    }
   ],
   "source": [
    "# get the height of L.Messi and Cristiano Ronaldo\n",
    "df.iloc[[0, 1], 3]"
   ]
  },
  {
   "cell_type": "code",
   "execution_count": 28,
   "id": "87b8db25",
   "metadata": {},
   "outputs": [
    {
     "data": {
      "text/plain": "            height_cm  weight_kg\nshort_name                      \nL. Messi          170         72",
      "text/html": "<div>\n<style scoped>\n    .dataframe tbody tr th:only-of-type {\n        vertical-align: middle;\n    }\n\n    .dataframe tbody tr th {\n        vertical-align: top;\n    }\n\n    .dataframe thead th {\n        text-align: right;\n    }\n</style>\n<table border=\"1\" class=\"dataframe\">\n  <thead>\n    <tr style=\"text-align: right;\">\n      <th></th>\n      <th>height_cm</th>\n      <th>weight_kg</th>\n    </tr>\n    <tr>\n      <th>short_name</th>\n      <th></th>\n      <th></th>\n    </tr>\n  </thead>\n  <tbody>\n    <tr>\n      <th>L. Messi</th>\n      <td>170</td>\n      <td>72</td>\n    </tr>\n  </tbody>\n</table>\n</div>"
     },
     "execution_count": 28,
     "metadata": {},
     "output_type": "execute_result"
    }
   ],
   "source": [
    "# get the height and weight of L.Messi\n",
    "df.iloc[[0], [3, 4]]"
   ]
  },
  {
   "cell_type": "code",
   "execution_count": 30,
   "id": "d833fcdf",
   "metadata": {},
   "outputs": [
    {
     "data": {
      "text/plain": "                   height_cm  weight_kg\nshort_name                             \nL. Messi                 170         72\nCristiano Ronaldo        187         83",
      "text/html": "<div>\n<style scoped>\n    .dataframe tbody tr th:only-of-type {\n        vertical-align: middle;\n    }\n\n    .dataframe tbody tr th {\n        vertical-align: top;\n    }\n\n    .dataframe thead th {\n        text-align: right;\n    }\n</style>\n<table border=\"1\" class=\"dataframe\">\n  <thead>\n    <tr style=\"text-align: right;\">\n      <th></th>\n      <th>height_cm</th>\n      <th>weight_kg</th>\n    </tr>\n    <tr>\n      <th>short_name</th>\n      <th></th>\n      <th></th>\n    </tr>\n  </thead>\n  <tbody>\n    <tr>\n      <th>L. Messi</th>\n      <td>170</td>\n      <td>72</td>\n    </tr>\n    <tr>\n      <th>Cristiano Ronaldo</th>\n      <td>187</td>\n      <td>83</td>\n    </tr>\n  </tbody>\n</table>\n</div>"
     },
     "execution_count": 30,
     "metadata": {},
     "output_type": "execute_result"
    }
   ],
   "source": [
    "# get height and weight of L.Messi and Cristiano Ronaldo\n",
    "df.iloc[[0, 1], [3, 4]]"
   ]
  },
  {
   "cell_type": "markdown",
   "id": "8b5299c4",
   "metadata": {},
   "source": [
    "# Selecting a range of data with a slice"
   ]
  },
  {
   "cell_type": "markdown",
   "id": "47eabc80",
   "metadata": {},
   "source": [
    "start:stop  (Note that the start is included but the stop is excluded)"
   ]
  },
  {
   "cell_type": "code",
   "execution_count": 44,
   "id": "18be9cf0",
   "metadata": {},
   "outputs": [
    {
     "data": {
      "text/plain": "                   age         dob  height_cm  weight_kg nationality   \nshort_name                                                             \nL. Messi            32  1987-06-24        170         72   Argentina  \\\nCristiano Ronaldo   34  1985-02-05        187         83    Portugal   \n\n                           club  \nshort_name                       \nL. Messi           FC Barcelona  \nCristiano Ronaldo      Juventus  ",
      "text/html": "<div>\n<style scoped>\n    .dataframe tbody tr th:only-of-type {\n        vertical-align: middle;\n    }\n\n    .dataframe tbody tr th {\n        vertical-align: top;\n    }\n\n    .dataframe thead th {\n        text-align: right;\n    }\n</style>\n<table border=\"1\" class=\"dataframe\">\n  <thead>\n    <tr style=\"text-align: right;\">\n      <th></th>\n      <th>age</th>\n      <th>dob</th>\n      <th>height_cm</th>\n      <th>weight_kg</th>\n      <th>nationality</th>\n      <th>club</th>\n    </tr>\n    <tr>\n      <th>short_name</th>\n      <th></th>\n      <th></th>\n      <th></th>\n      <th></th>\n      <th></th>\n      <th></th>\n    </tr>\n  </thead>\n  <tbody>\n    <tr>\n      <th>L. Messi</th>\n      <td>32</td>\n      <td>1987-06-24</td>\n      <td>170</td>\n      <td>72</td>\n      <td>Argentina</td>\n      <td>FC Barcelona</td>\n    </tr>\n    <tr>\n      <th>Cristiano Ronaldo</th>\n      <td>34</td>\n      <td>1985-02-05</td>\n      <td>187</td>\n      <td>83</td>\n      <td>Portugal</td>\n      <td>Juventus</td>\n    </tr>\n  </tbody>\n</table>\n</div>"
     },
     "execution_count": 44,
     "metadata": {},
     "output_type": "execute_result"
    }
   ],
   "source": [
    "# slice column labels. From column \"age\" to column \"club\"\n",
    "# players = ['L. Messi', 'Cristiano Ronaldo']\n",
    "players = [0, 1]\n",
    "df.iloc[players, 1 :7]"
   ]
  },
  {
   "cell_type": "code",
   "execution_count": 76,
   "id": "5c4c43e0",
   "metadata": {},
   "outputs": [
    {
     "data": {
      "text/plain": "            age         dob  height_cm  weight_kg\nshort_name                                       \nL. Messi     32  1987-06-24        170         72\nM. Salah     27  1992-06-15        175         71",
      "text/html": "<div>\n<style scoped>\n    .dataframe tbody tr th:only-of-type {\n        vertical-align: middle;\n    }\n\n    .dataframe tbody tr th {\n        vertical-align: top;\n    }\n\n    .dataframe thead th {\n        text-align: right;\n    }\n</style>\n<table border=\"1\" class=\"dataframe\">\n  <thead>\n    <tr style=\"text-align: right;\">\n      <th></th>\n      <th>age</th>\n      <th>dob</th>\n      <th>height_cm</th>\n      <th>weight_kg</th>\n    </tr>\n    <tr>\n      <th>short_name</th>\n      <th></th>\n      <th></th>\n      <th></th>\n      <th></th>\n    </tr>\n  </thead>\n  <tbody>\n    <tr>\n      <th>L. Messi</th>\n      <td>32</td>\n      <td>1987-06-24</td>\n      <td>170</td>\n      <td>72</td>\n    </tr>\n    <tr>\n      <th>M. Salah</th>\n      <td>27</td>\n      <td>1992-06-15</td>\n      <td>175</td>\n      <td>71</td>\n    </tr>\n  </tbody>\n</table>\n</div>"
     },
     "execution_count": 76,
     "metadata": {},
     "output_type": "execute_result"
    }
   ],
   "source": [
    "# slice index labels. From top1 to top10 player\n",
    "# columns = ['age', 'dob', 'height_cm', 'weight_kg']\n",
    "columns = [1, 2, 3, 4]\n",
    "df_top10 = df.iloc[0:10, columns]\n",
    "df_top10.iloc[[0,9]]\n",
    "# get top1 and top10 player name\n"
   ]
  },
  {
   "cell_type": "markdown",
   "id": "a96f052e",
   "metadata": {},
   "source": [
    "# Selecting with conditions"
   ]
  },
  {
   "cell_type": "markdown",
   "id": "021ce028",
   "metadata": {},
   "source": [
    "iloc cannot accept a boolean Series, but only a boolean list. We have to use the list() function to convert a Series into a boolean list."
   ]
  },
  {
   "cell_type": "code",
   "execution_count": 86,
   "id": "31273b8a",
   "metadata": {},
   "outputs": [
    {
     "data": {
      "text/plain": "                   age         dob  height_cm  weight_kg\nshort_name                                              \nCristiano Ronaldo   34  1985-02-05        187         83\nJ. Oblak            26  1993-01-07        188         87\nK. De Bruyne        28  1991-06-28        181         70\nM. ter Stegen       27  1992-04-30        187         85\nV. van Dijk         27  1991-07-08        193         92\n...                ...         ...        ...        ...\nP. Martin           20  1999-01-05        188         84\nShao Shuai          22  1997-03-10        186         79\nZhang Wei           19  2000-05-16        186         75\nWang Haijian        18  2000-08-02        185         74\nPan Ximing          26  1993-01-11        182         78\n\n[9744 rows x 4 columns]",
      "text/html": "<div>\n<style scoped>\n    .dataframe tbody tr th:only-of-type {\n        vertical-align: middle;\n    }\n\n    .dataframe tbody tr th {\n        vertical-align: top;\n    }\n\n    .dataframe thead th {\n        text-align: right;\n    }\n</style>\n<table border=\"1\" class=\"dataframe\">\n  <thead>\n    <tr style=\"text-align: right;\">\n      <th></th>\n      <th>age</th>\n      <th>dob</th>\n      <th>height_cm</th>\n      <th>weight_kg</th>\n    </tr>\n    <tr>\n      <th>short_name</th>\n      <th></th>\n      <th></th>\n      <th></th>\n      <th></th>\n    </tr>\n  </thead>\n  <tbody>\n    <tr>\n      <th>Cristiano Ronaldo</th>\n      <td>34</td>\n      <td>1985-02-05</td>\n      <td>187</td>\n      <td>83</td>\n    </tr>\n    <tr>\n      <th>J. Oblak</th>\n      <td>26</td>\n      <td>1993-01-07</td>\n      <td>188</td>\n      <td>87</td>\n    </tr>\n    <tr>\n      <th>K. De Bruyne</th>\n      <td>28</td>\n      <td>1991-06-28</td>\n      <td>181</td>\n      <td>70</td>\n    </tr>\n    <tr>\n      <th>M. ter Stegen</th>\n      <td>27</td>\n      <td>1992-04-30</td>\n      <td>187</td>\n      <td>85</td>\n    </tr>\n    <tr>\n      <th>V. van Dijk</th>\n      <td>27</td>\n      <td>1991-07-08</td>\n      <td>193</td>\n      <td>92</td>\n    </tr>\n    <tr>\n      <th>...</th>\n      <td>...</td>\n      <td>...</td>\n      <td>...</td>\n      <td>...</td>\n    </tr>\n    <tr>\n      <th>P. Martin</th>\n      <td>20</td>\n      <td>1999-01-05</td>\n      <td>188</td>\n      <td>84</td>\n    </tr>\n    <tr>\n      <th>Shao Shuai</th>\n      <td>22</td>\n      <td>1997-03-10</td>\n      <td>186</td>\n      <td>79</td>\n    </tr>\n    <tr>\n      <th>Zhang Wei</th>\n      <td>19</td>\n      <td>2000-05-16</td>\n      <td>186</td>\n      <td>75</td>\n    </tr>\n    <tr>\n      <th>Wang Haijian</th>\n      <td>18</td>\n      <td>2000-08-02</td>\n      <td>185</td>\n      <td>74</td>\n    </tr>\n    <tr>\n      <th>Pan Ximing</th>\n      <td>26</td>\n      <td>1993-01-11</td>\n      <td>182</td>\n      <td>78</td>\n    </tr>\n  </tbody>\n</table>\n<p>9744 rows × 4 columns</p>\n</div>"
     },
     "execution_count": 86,
     "metadata": {},
     "output_type": "execute_result"
    }
   ],
   "source": [
    "# one condition: select player with height above 180cm\n",
    "# columns = ['age', 'dob', 'height_cm', 'weight_kg']\n",
    "columns = [1, 2, 3, 4]\n",
    "condition = df['height_cm'] > 180\n",
    "df.iloc[list(condition), columns]"
   ]
  },
  {
   "cell_type": "code",
   "execution_count": 105,
   "id": "f2d3232f",
   "metadata": {},
   "outputs": [
    {
     "data": {
      "text/plain": "                                  long_name nationality\nshort_name                                             \nM. Icardi       Mauro Emanuel Icardi Rivero   Argentina\nG. Higuaín          Gonzalo Gerardo Higuaín   Argentina\nE. Garay             Ezequiel Marcelo Garay   Argentina\nN. Otamendi         Nicolás Hernán Otamendi   Argentina\nG. Rulli                     Gerónimo Rulli   Argentina\n...                                     ...         ...\nT. Durso                        Tomás Durso   Argentina\nJ. Hass                        Joaquín Hass   Argentina\nR. Ferrario                 Rafael Ferrario   Argentina\nL. Finochietto          Leandro Finochietto   Argentina\nN. Forastiero            Nicolás Forastiero   Argentina\n\n[350 rows x 2 columns]",
      "text/html": "<div>\n<style scoped>\n    .dataframe tbody tr th:only-of-type {\n        vertical-align: middle;\n    }\n\n    .dataframe tbody tr th {\n        vertical-align: top;\n    }\n\n    .dataframe thead th {\n        text-align: right;\n    }\n</style>\n<table border=\"1\" class=\"dataframe\">\n  <thead>\n    <tr style=\"text-align: right;\">\n      <th></th>\n      <th>long_name</th>\n      <th>nationality</th>\n    </tr>\n    <tr>\n      <th>short_name</th>\n      <th></th>\n      <th></th>\n    </tr>\n  </thead>\n  <tbody>\n    <tr>\n      <th>M. Icardi</th>\n      <td>Mauro Emanuel Icardi Rivero</td>\n      <td>Argentina</td>\n    </tr>\n    <tr>\n      <th>G. Higuaín</th>\n      <td>Gonzalo Gerardo Higuaín</td>\n      <td>Argentina</td>\n    </tr>\n    <tr>\n      <th>E. Garay</th>\n      <td>Ezequiel Marcelo Garay</td>\n      <td>Argentina</td>\n    </tr>\n    <tr>\n      <th>N. Otamendi</th>\n      <td>Nicolás Hernán Otamendi</td>\n      <td>Argentina</td>\n    </tr>\n    <tr>\n      <th>G. Rulli</th>\n      <td>Gerónimo Rulli</td>\n      <td>Argentina</td>\n    </tr>\n    <tr>\n      <th>...</th>\n      <td>...</td>\n      <td>...</td>\n    </tr>\n    <tr>\n      <th>T. Durso</th>\n      <td>Tomás Durso</td>\n      <td>Argentina</td>\n    </tr>\n    <tr>\n      <th>J. Hass</th>\n      <td>Joaquín Hass</td>\n      <td>Argentina</td>\n    </tr>\n    <tr>\n      <th>R. Ferrario</th>\n      <td>Rafael Ferrario</td>\n      <td>Argentina</td>\n    </tr>\n    <tr>\n      <th>L. Finochietto</th>\n      <td>Leandro Finochietto</td>\n      <td>Argentina</td>\n    </tr>\n    <tr>\n      <th>N. Forastiero</th>\n      <td>Nicolás Forastiero</td>\n      <td>Argentina</td>\n    </tr>\n  </tbody>\n</table>\n<p>350 rows × 2 columns</p>\n</div>"
     },
     "execution_count": 105,
     "metadata": {},
     "output_type": "execute_result"
    }
   ],
   "source": [
    "# multiple conditions: select player with height above 180cm from Argentina\n",
    "con1 = df['height_cm'] > 180\n",
    "con2 = df['nationality']  == \"Argentina\"\n",
    "df.iloc[list(con1 & con2), [0,5]]\n"
   ]
  },
  {
   "cell_type": "code",
   "execution_count": null,
   "outputs": [],
   "source": [],
   "metadata": {
    "collapsed": false
   }
  }
 ],
 "metadata": {
  "kernelspec": {
   "display_name": "Python 3",
   "language": "python",
   "name": "python3"
  },
  "language_info": {
   "codemirror_mode": {
    "name": "ipython",
    "version": 3
   },
   "file_extension": ".py",
   "mimetype": "text/x-python",
   "name": "python",
   "nbconvert_exporter": "python",
   "pygments_lexer": "ipython3",
   "version": "3.8.8"
  },
  "toc": {
   "base_numbering": 1,
   "nav_menu": {},
   "number_sections": true,
   "sideBar": true,
   "skip_h1_title": false,
   "title_cell": "Table of Contents",
   "title_sidebar": "Contents",
   "toc_cell": false,
   "toc_position": {},
   "toc_section_display": true,
   "toc_window_display": false
  }
 },
 "nbformat": 4,
 "nbformat_minor": 5
}
