{
 "cells": [
  {
   "cell_type": "code",
   "execution_count": 1,
   "metadata": {
    "collapsed": true
   },
   "outputs": [],
   "source": [
    "import pandas as pd"
   ]
  },
  {
   "cell_type": "code",
   "execution_count": 2,
   "outputs": [
    {
     "data": {
      "text/plain": "    Manufacturer    Model  Sales_in_thousands  __year_resale_value   \n0          Acura  Integra              16.919               16.360  \\\n1          Acura       TL              39.384               19.875   \n2          Acura       CL              14.114               18.225   \n3          Acura       RL               8.588               29.725   \n4           Audi       A4              20.397               22.255   \n..           ...      ...                 ...                  ...   \n152        Volvo      V40               3.545                  NaN   \n153        Volvo      S70              15.245                  NaN   \n154        Volvo      V70              17.531                  NaN   \n155        Volvo      C70               3.493                  NaN   \n156        Volvo      S80              18.969                  NaN   \n\n    Vehicle_type  Price_in_thousands  Engine_size  Horsepower  Wheelbase   \n0      Passenger               21.50          1.8       140.0      101.2  \\\n1      Passenger               28.40          3.2       225.0      108.1   \n2      Passenger                 NaN          3.2       225.0      106.9   \n3      Passenger               42.00          3.5       210.0      114.6   \n4      Passenger               23.99          1.8       150.0      102.6   \n..           ...                 ...          ...         ...        ...   \n152    Passenger               24.40          1.9       160.0      100.5   \n153    Passenger               27.50          2.4       168.0      104.9   \n154    Passenger               28.80          2.4       168.0      104.9   \n155    Passenger               45.50          2.3       236.0      104.9   \n156    Passenger               36.00          2.9       201.0      109.9   \n\n     Width  Length  Curb_weight  Fuel_capacity  Fuel_efficiency Latest_Launch   \n0     67.3   172.4        2.639           13.2             28.0      2/2/2012  \\\n1     70.3   192.9        3.517           17.2             25.0      6/3/2011   \n2     70.6   192.0        3.470           17.2             26.0      1/4/2012   \n3     71.4   196.6        3.850           18.0             22.0     3/10/2011   \n4     68.2   178.0        2.998           16.4             27.0     10/8/2011   \n..     ...     ...          ...            ...              ...           ...   \n152   67.6   176.6        3.042           15.8             25.0     9/21/2011   \n153   69.3   185.9        3.208           17.9             25.0    11/24/2012   \n154   69.3   186.2        3.259           17.9             25.0     6/25/2011   \n155   71.5   185.7        3.601           18.5             23.0     4/26/2011   \n156   72.1   189.8        3.600           21.1             24.0    11/14/2011   \n\n     Power_perf_factor  \n0            58.280150  \n1            91.370778  \n2                  NaN  \n3            91.389779  \n4            62.777639  \n..                 ...  \n152          66.498812  \n153          70.654495  \n154          71.155978  \n155         101.623357  \n156          85.735655  \n\n[157 rows x 16 columns]",
      "text/html": "<div>\n<style scoped>\n    .dataframe tbody tr th:only-of-type {\n        vertical-align: middle;\n    }\n\n    .dataframe tbody tr th {\n        vertical-align: top;\n    }\n\n    .dataframe thead th {\n        text-align: right;\n    }\n</style>\n<table border=\"1\" class=\"dataframe\">\n  <thead>\n    <tr style=\"text-align: right;\">\n      <th></th>\n      <th>Manufacturer</th>\n      <th>Model</th>\n      <th>Sales_in_thousands</th>\n      <th>__year_resale_value</th>\n      <th>Vehicle_type</th>\n      <th>Price_in_thousands</th>\n      <th>Engine_size</th>\n      <th>Horsepower</th>\n      <th>Wheelbase</th>\n      <th>Width</th>\n      <th>Length</th>\n      <th>Curb_weight</th>\n      <th>Fuel_capacity</th>\n      <th>Fuel_efficiency</th>\n      <th>Latest_Launch</th>\n      <th>Power_perf_factor</th>\n    </tr>\n  </thead>\n  <tbody>\n    <tr>\n      <th>0</th>\n      <td>Acura</td>\n      <td>Integra</td>\n      <td>16.919</td>\n      <td>16.360</td>\n      <td>Passenger</td>\n      <td>21.50</td>\n      <td>1.8</td>\n      <td>140.0</td>\n      <td>101.2</td>\n      <td>67.3</td>\n      <td>172.4</td>\n      <td>2.639</td>\n      <td>13.2</td>\n      <td>28.0</td>\n      <td>2/2/2012</td>\n      <td>58.280150</td>\n    </tr>\n    <tr>\n      <th>1</th>\n      <td>Acura</td>\n      <td>TL</td>\n      <td>39.384</td>\n      <td>19.875</td>\n      <td>Passenger</td>\n      <td>28.40</td>\n      <td>3.2</td>\n      <td>225.0</td>\n      <td>108.1</td>\n      <td>70.3</td>\n      <td>192.9</td>\n      <td>3.517</td>\n      <td>17.2</td>\n      <td>25.0</td>\n      <td>6/3/2011</td>\n      <td>91.370778</td>\n    </tr>\n    <tr>\n      <th>2</th>\n      <td>Acura</td>\n      <td>CL</td>\n      <td>14.114</td>\n      <td>18.225</td>\n      <td>Passenger</td>\n      <td>NaN</td>\n      <td>3.2</td>\n      <td>225.0</td>\n      <td>106.9</td>\n      <td>70.6</td>\n      <td>192.0</td>\n      <td>3.470</td>\n      <td>17.2</td>\n      <td>26.0</td>\n      <td>1/4/2012</td>\n      <td>NaN</td>\n    </tr>\n    <tr>\n      <th>3</th>\n      <td>Acura</td>\n      <td>RL</td>\n      <td>8.588</td>\n      <td>29.725</td>\n      <td>Passenger</td>\n      <td>42.00</td>\n      <td>3.5</td>\n      <td>210.0</td>\n      <td>114.6</td>\n      <td>71.4</td>\n      <td>196.6</td>\n      <td>3.850</td>\n      <td>18.0</td>\n      <td>22.0</td>\n      <td>3/10/2011</td>\n      <td>91.389779</td>\n    </tr>\n    <tr>\n      <th>4</th>\n      <td>Audi</td>\n      <td>A4</td>\n      <td>20.397</td>\n      <td>22.255</td>\n      <td>Passenger</td>\n      <td>23.99</td>\n      <td>1.8</td>\n      <td>150.0</td>\n      <td>102.6</td>\n      <td>68.2</td>\n      <td>178.0</td>\n      <td>2.998</td>\n      <td>16.4</td>\n      <td>27.0</td>\n      <td>10/8/2011</td>\n      <td>62.777639</td>\n    </tr>\n    <tr>\n      <th>...</th>\n      <td>...</td>\n      <td>...</td>\n      <td>...</td>\n      <td>...</td>\n      <td>...</td>\n      <td>...</td>\n      <td>...</td>\n      <td>...</td>\n      <td>...</td>\n      <td>...</td>\n      <td>...</td>\n      <td>...</td>\n      <td>...</td>\n      <td>...</td>\n      <td>...</td>\n      <td>...</td>\n    </tr>\n    <tr>\n      <th>152</th>\n      <td>Volvo</td>\n      <td>V40</td>\n      <td>3.545</td>\n      <td>NaN</td>\n      <td>Passenger</td>\n      <td>24.40</td>\n      <td>1.9</td>\n      <td>160.0</td>\n      <td>100.5</td>\n      <td>67.6</td>\n      <td>176.6</td>\n      <td>3.042</td>\n      <td>15.8</td>\n      <td>25.0</td>\n      <td>9/21/2011</td>\n      <td>66.498812</td>\n    </tr>\n    <tr>\n      <th>153</th>\n      <td>Volvo</td>\n      <td>S70</td>\n      <td>15.245</td>\n      <td>NaN</td>\n      <td>Passenger</td>\n      <td>27.50</td>\n      <td>2.4</td>\n      <td>168.0</td>\n      <td>104.9</td>\n      <td>69.3</td>\n      <td>185.9</td>\n      <td>3.208</td>\n      <td>17.9</td>\n      <td>25.0</td>\n      <td>11/24/2012</td>\n      <td>70.654495</td>\n    </tr>\n    <tr>\n      <th>154</th>\n      <td>Volvo</td>\n      <td>V70</td>\n      <td>17.531</td>\n      <td>NaN</td>\n      <td>Passenger</td>\n      <td>28.80</td>\n      <td>2.4</td>\n      <td>168.0</td>\n      <td>104.9</td>\n      <td>69.3</td>\n      <td>186.2</td>\n      <td>3.259</td>\n      <td>17.9</td>\n      <td>25.0</td>\n      <td>6/25/2011</td>\n      <td>71.155978</td>\n    </tr>\n    <tr>\n      <th>155</th>\n      <td>Volvo</td>\n      <td>C70</td>\n      <td>3.493</td>\n      <td>NaN</td>\n      <td>Passenger</td>\n      <td>45.50</td>\n      <td>2.3</td>\n      <td>236.0</td>\n      <td>104.9</td>\n      <td>71.5</td>\n      <td>185.7</td>\n      <td>3.601</td>\n      <td>18.5</td>\n      <td>23.0</td>\n      <td>4/26/2011</td>\n      <td>101.623357</td>\n    </tr>\n    <tr>\n      <th>156</th>\n      <td>Volvo</td>\n      <td>S80</td>\n      <td>18.969</td>\n      <td>NaN</td>\n      <td>Passenger</td>\n      <td>36.00</td>\n      <td>2.9</td>\n      <td>201.0</td>\n      <td>109.9</td>\n      <td>72.1</td>\n      <td>189.8</td>\n      <td>3.600</td>\n      <td>21.1</td>\n      <td>24.0</td>\n      <td>11/14/2011</td>\n      <td>85.735655</td>\n    </tr>\n  </tbody>\n</table>\n<p>157 rows × 16 columns</p>\n</div>"
     },
     "execution_count": 2,
     "metadata": {},
     "output_type": "execute_result"
    }
   ],
   "source": [
    "df_cars = pd.read_csv('Car_sales.csv')\n",
    "df_cars"
   ],
   "metadata": {
    "collapsed": false
   }
  },
  {
   "cell_type": "code",
   "execution_count": 3,
   "outputs": [],
   "source": [
    "df_cars = df_cars[['Manufacturer', 'Model', 'Sales_in_thousands', 'Vehicle_type',\n",
    "                   'Price_in_thousands', 'Engine_size', 'Horsepower', 'Fuel_capacity']]\n"
   ],
   "metadata": {
    "collapsed": false
   }
  },
  {
   "cell_type": "code",
   "execution_count": 4,
   "outputs": [
    {
     "data": {
      "text/plain": "Manufacturer          AcuraAcuraAcuraAcuraAudiAudiAudiBMWBMWBMWBuick...\nModel                 IntegraTLCLRLA4A6A8323i328i528iCenturyRegalPar...\nSales_in_thousands                                             8320.698\nVehicle_type          PassengerPassengerPassengerPassengerPassengerP...\nPrice_in_thousands                                             4245.567\nEngine_size                                                       477.5\nHorsepower                                                      29008.0\nFuel_capacity                                                    2800.5\ndtype: object"
     },
     "execution_count": 4,
     "metadata": {},
     "output_type": "execute_result"
    }
   ],
   "source": [
    "df_cars.agg('sum')"
   ],
   "metadata": {
    "collapsed": false
   }
  },
  {
   "cell_type": "code",
   "execution_count": 5,
   "outputs": [
    {
     "data": {
      "text/plain": "                                          Manufacturer   \nsum  AcuraAcuraAcuraAcuraAudiAudiAudiBMWBMWBMWBuick...  \\\nmax                                              Volvo   \nmin                                              Acura   \n\n                                                 Model  Sales_in_thousands   \nsum  IntegraTLCLRLA4A6A8323i328i528iCenturyRegalPar...            8320.698  \\\nmax                                             Xterra             540.561   \nmin                                              3-Sep               0.110   \n\n                                          Vehicle_type  Price_in_thousands   \nsum  PassengerPassengerPassengerPassengerPassengerP...            4245.567  \\\nmax                                          Passenger              85.500   \nmin                                                Car               9.235   \n\n     Engine_size  Horsepower  Fuel_capacity  \nsum        477.5     29008.0         2800.5  \nmax          8.0       450.0           32.0  \nmin          1.0        55.0           10.3  ",
      "text/html": "<div>\n<style scoped>\n    .dataframe tbody tr th:only-of-type {\n        vertical-align: middle;\n    }\n\n    .dataframe tbody tr th {\n        vertical-align: top;\n    }\n\n    .dataframe thead th {\n        text-align: right;\n    }\n</style>\n<table border=\"1\" class=\"dataframe\">\n  <thead>\n    <tr style=\"text-align: right;\">\n      <th></th>\n      <th>Manufacturer</th>\n      <th>Model</th>\n      <th>Sales_in_thousands</th>\n      <th>Vehicle_type</th>\n      <th>Price_in_thousands</th>\n      <th>Engine_size</th>\n      <th>Horsepower</th>\n      <th>Fuel_capacity</th>\n    </tr>\n  </thead>\n  <tbody>\n    <tr>\n      <th>sum</th>\n      <td>AcuraAcuraAcuraAcuraAudiAudiAudiBMWBMWBMWBuick...</td>\n      <td>IntegraTLCLRLA4A6A8323i328i528iCenturyRegalPar...</td>\n      <td>8320.698</td>\n      <td>PassengerPassengerPassengerPassengerPassengerP...</td>\n      <td>4245.567</td>\n      <td>477.5</td>\n      <td>29008.0</td>\n      <td>2800.5</td>\n    </tr>\n    <tr>\n      <th>max</th>\n      <td>Volvo</td>\n      <td>Xterra</td>\n      <td>540.561</td>\n      <td>Passenger</td>\n      <td>85.500</td>\n      <td>8.0</td>\n      <td>450.0</td>\n      <td>32.0</td>\n    </tr>\n    <tr>\n      <th>min</th>\n      <td>Acura</td>\n      <td>3-Sep</td>\n      <td>0.110</td>\n      <td>Car</td>\n      <td>9.235</td>\n      <td>1.0</td>\n      <td>55.0</td>\n      <td>10.3</td>\n    </tr>\n  </tbody>\n</table>\n</div>"
     },
     "execution_count": 5,
     "metadata": {},
     "output_type": "execute_result"
    }
   ],
   "source": [
    "df_cars.agg(['sum', 'max', 'min'])"
   ],
   "metadata": {
    "collapsed": false
   }
  },
  {
   "cell_type": "code",
   "execution_count": 6,
   "outputs": [
    {
     "data": {
      "text/plain": "55.0"
     },
     "execution_count": 6,
     "metadata": {},
     "output_type": "execute_result"
    }
   ],
   "source": [
    "df_cars['Horsepower'].agg('min')"
   ],
   "metadata": {
    "collapsed": false
   }
  },
  {
   "cell_type": "code",
   "execution_count": 7,
   "outputs": [
    {
     "data": {
      "text/plain": "max     85.500000\nmin      9.235000\nmean    27.390755\nName: Price_in_thousands, dtype: float64"
     },
     "execution_count": 7,
     "metadata": {},
     "output_type": "execute_result"
    }
   ],
   "source": [
    "df_cars['Price_in_thousands'].agg(['max', 'min', 'mean'])"
   ],
   "metadata": {
    "collapsed": false
   }
  },
  {
   "cell_type": "code",
   "execution_count": 8,
   "outputs": [
    {
     "data": {
      "text/plain": "    Manufacturer    Model  Sales_in_thousands Vehicle_type   \n0          Acura  Integra              16.919    Passenger  \\\n1          Acura       TL              39.384    Passenger   \n2          Acura       CL              14.114    Passenger   \n3          Acura       RL               8.588    Passenger   \n4           Audi       A4              20.397    Passenger   \n..           ...      ...                 ...          ...   \n152        Volvo      V40               3.545    Passenger   \n153        Volvo      S70              15.245    Passenger   \n154        Volvo      V70              17.531    Passenger   \n155        Volvo      C70               3.493    Passenger   \n156        Volvo      S80              18.969    Passenger   \n\n     Price_in_thousands  Engine_size  Horsepower  Fuel_capacity  \n0                 21.50          1.8       140.0           13.2  \n1                 28.40          3.2       225.0           17.2  \n2                   NaN          3.2       225.0           17.2  \n3                 42.00          3.5       210.0           18.0  \n4                 23.99          1.8       150.0           16.4  \n..                  ...          ...         ...            ...  \n152               24.40          1.9       160.0           15.8  \n153               27.50          2.4       168.0           17.9  \n154               28.80          2.4       168.0           17.9  \n155               45.50          2.3       236.0           18.5  \n156               36.00          2.9       201.0           21.1  \n\n[157 rows x 8 columns]",
      "text/html": "<div>\n<style scoped>\n    .dataframe tbody tr th:only-of-type {\n        vertical-align: middle;\n    }\n\n    .dataframe tbody tr th {\n        vertical-align: top;\n    }\n\n    .dataframe thead th {\n        text-align: right;\n    }\n</style>\n<table border=\"1\" class=\"dataframe\">\n  <thead>\n    <tr style=\"text-align: right;\">\n      <th></th>\n      <th>Manufacturer</th>\n      <th>Model</th>\n      <th>Sales_in_thousands</th>\n      <th>Vehicle_type</th>\n      <th>Price_in_thousands</th>\n      <th>Engine_size</th>\n      <th>Horsepower</th>\n      <th>Fuel_capacity</th>\n    </tr>\n  </thead>\n  <tbody>\n    <tr>\n      <th>0</th>\n      <td>Acura</td>\n      <td>Integra</td>\n      <td>16.919</td>\n      <td>Passenger</td>\n      <td>21.50</td>\n      <td>1.8</td>\n      <td>140.0</td>\n      <td>13.2</td>\n    </tr>\n    <tr>\n      <th>1</th>\n      <td>Acura</td>\n      <td>TL</td>\n      <td>39.384</td>\n      <td>Passenger</td>\n      <td>28.40</td>\n      <td>3.2</td>\n      <td>225.0</td>\n      <td>17.2</td>\n    </tr>\n    <tr>\n      <th>2</th>\n      <td>Acura</td>\n      <td>CL</td>\n      <td>14.114</td>\n      <td>Passenger</td>\n      <td>NaN</td>\n      <td>3.2</td>\n      <td>225.0</td>\n      <td>17.2</td>\n    </tr>\n    <tr>\n      <th>3</th>\n      <td>Acura</td>\n      <td>RL</td>\n      <td>8.588</td>\n      <td>Passenger</td>\n      <td>42.00</td>\n      <td>3.5</td>\n      <td>210.0</td>\n      <td>18.0</td>\n    </tr>\n    <tr>\n      <th>4</th>\n      <td>Audi</td>\n      <td>A4</td>\n      <td>20.397</td>\n      <td>Passenger</td>\n      <td>23.99</td>\n      <td>1.8</td>\n      <td>150.0</td>\n      <td>16.4</td>\n    </tr>\n    <tr>\n      <th>...</th>\n      <td>...</td>\n      <td>...</td>\n      <td>...</td>\n      <td>...</td>\n      <td>...</td>\n      <td>...</td>\n      <td>...</td>\n      <td>...</td>\n    </tr>\n    <tr>\n      <th>152</th>\n      <td>Volvo</td>\n      <td>V40</td>\n      <td>3.545</td>\n      <td>Passenger</td>\n      <td>24.40</td>\n      <td>1.9</td>\n      <td>160.0</td>\n      <td>15.8</td>\n    </tr>\n    <tr>\n      <th>153</th>\n      <td>Volvo</td>\n      <td>S70</td>\n      <td>15.245</td>\n      <td>Passenger</td>\n      <td>27.50</td>\n      <td>2.4</td>\n      <td>168.0</td>\n      <td>17.9</td>\n    </tr>\n    <tr>\n      <th>154</th>\n      <td>Volvo</td>\n      <td>V70</td>\n      <td>17.531</td>\n      <td>Passenger</td>\n      <td>28.80</td>\n      <td>2.4</td>\n      <td>168.0</td>\n      <td>17.9</td>\n    </tr>\n    <tr>\n      <th>155</th>\n      <td>Volvo</td>\n      <td>C70</td>\n      <td>3.493</td>\n      <td>Passenger</td>\n      <td>45.50</td>\n      <td>2.3</td>\n      <td>236.0</td>\n      <td>18.5</td>\n    </tr>\n    <tr>\n      <th>156</th>\n      <td>Volvo</td>\n      <td>S80</td>\n      <td>18.969</td>\n      <td>Passenger</td>\n      <td>36.00</td>\n      <td>2.9</td>\n      <td>201.0</td>\n      <td>21.1</td>\n    </tr>\n  </tbody>\n</table>\n<p>157 rows × 8 columns</p>\n</div>"
     },
     "execution_count": 8,
     "metadata": {},
     "output_type": "execute_result"
    }
   ],
   "source": [
    "df_cars"
   ],
   "metadata": {
    "collapsed": false
   }
  },
  {
   "cell_type": "code",
   "execution_count": 9,
   "outputs": [
    {
     "data": {
      "text/plain": "      Sales_in_thousands  Price_in_thousands  Engine_size\nmax              540.561                 NaN          NaN\nsum                  NaN         4245.567000          NaN\nmean                 NaN           27.390755     3.060897",
      "text/html": "<div>\n<style scoped>\n    .dataframe tbody tr th:only-of-type {\n        vertical-align: middle;\n    }\n\n    .dataframe tbody tr th {\n        vertical-align: top;\n    }\n\n    .dataframe thead th {\n        text-align: right;\n    }\n</style>\n<table border=\"1\" class=\"dataframe\">\n  <thead>\n    <tr style=\"text-align: right;\">\n      <th></th>\n      <th>Sales_in_thousands</th>\n      <th>Price_in_thousands</th>\n      <th>Engine_size</th>\n    </tr>\n  </thead>\n  <tbody>\n    <tr>\n      <th>max</th>\n      <td>540.561</td>\n      <td>NaN</td>\n      <td>NaN</td>\n    </tr>\n    <tr>\n      <th>sum</th>\n      <td>NaN</td>\n      <td>4245.567000</td>\n      <td>NaN</td>\n    </tr>\n    <tr>\n      <th>mean</th>\n      <td>NaN</td>\n      <td>27.390755</td>\n      <td>3.060897</td>\n    </tr>\n  </tbody>\n</table>\n</div>"
     },
     "execution_count": 9,
     "metadata": {},
     "output_type": "execute_result"
    }
   ],
   "source": [
    "df_cars.agg({'Sales_in_thousands': 'max',\n",
    "             'Price_in_thousands': ['sum', 'mean'],\n",
    "             'Engine_size': 'mean'}\n",
    "            )"
   ],
   "metadata": {
    "collapsed": false
   }
  },
  {
   "cell_type": "code",
   "execution_count": 10,
   "outputs": [
    {
     "data": {
      "text/plain": "                Model  Sales_in_thousands Vehicle_type  Price_in_thousands   \nManufacturer                                                                 \nAcura         Integra              16.919    Passenger               21.50  \\\nAcura              TL              39.384    Passenger               28.40   \nAcura              CL              14.114    Passenger                 NaN   \nAcura              RL               8.588    Passenger               42.00   \nAudi               A4              20.397    Passenger               23.99   \n...               ...                 ...          ...                 ...   \nVolvo             V40               3.545    Passenger               24.40   \nVolvo             S70              15.245    Passenger               27.50   \nVolvo             V70              17.531    Passenger               28.80   \nVolvo             C70               3.493    Passenger               45.50   \nVolvo             S80              18.969    Passenger               36.00   \n\n              Engine_size  Horsepower  Fuel_capacity  \nManufacturer                                          \nAcura                 1.8       140.0           13.2  \nAcura                 3.2       225.0           17.2  \nAcura                 3.2       225.0           17.2  \nAcura                 3.5       210.0           18.0  \nAudi                  1.8       150.0           16.4  \n...                   ...         ...            ...  \nVolvo                 1.9       160.0           15.8  \nVolvo                 2.4       168.0           17.9  \nVolvo                 2.4       168.0           17.9  \nVolvo                 2.3       236.0           18.5  \nVolvo                 2.9       201.0           21.1  \n\n[157 rows x 7 columns]",
      "text/html": "<div>\n<style scoped>\n    .dataframe tbody tr th:only-of-type {\n        vertical-align: middle;\n    }\n\n    .dataframe tbody tr th {\n        vertical-align: top;\n    }\n\n    .dataframe thead th {\n        text-align: right;\n    }\n</style>\n<table border=\"1\" class=\"dataframe\">\n  <thead>\n    <tr style=\"text-align: right;\">\n      <th></th>\n      <th>Model</th>\n      <th>Sales_in_thousands</th>\n      <th>Vehicle_type</th>\n      <th>Price_in_thousands</th>\n      <th>Engine_size</th>\n      <th>Horsepower</th>\n      <th>Fuel_capacity</th>\n    </tr>\n    <tr>\n      <th>Manufacturer</th>\n      <th></th>\n      <th></th>\n      <th></th>\n      <th></th>\n      <th></th>\n      <th></th>\n      <th></th>\n    </tr>\n  </thead>\n  <tbody>\n    <tr>\n      <th>Acura</th>\n      <td>Integra</td>\n      <td>16.919</td>\n      <td>Passenger</td>\n      <td>21.50</td>\n      <td>1.8</td>\n      <td>140.0</td>\n      <td>13.2</td>\n    </tr>\n    <tr>\n      <th>Acura</th>\n      <td>TL</td>\n      <td>39.384</td>\n      <td>Passenger</td>\n      <td>28.40</td>\n      <td>3.2</td>\n      <td>225.0</td>\n      <td>17.2</td>\n    </tr>\n    <tr>\n      <th>Acura</th>\n      <td>CL</td>\n      <td>14.114</td>\n      <td>Passenger</td>\n      <td>NaN</td>\n      <td>3.2</td>\n      <td>225.0</td>\n      <td>17.2</td>\n    </tr>\n    <tr>\n      <th>Acura</th>\n      <td>RL</td>\n      <td>8.588</td>\n      <td>Passenger</td>\n      <td>42.00</td>\n      <td>3.5</td>\n      <td>210.0</td>\n      <td>18.0</td>\n    </tr>\n    <tr>\n      <th>Audi</th>\n      <td>A4</td>\n      <td>20.397</td>\n      <td>Passenger</td>\n      <td>23.99</td>\n      <td>1.8</td>\n      <td>150.0</td>\n      <td>16.4</td>\n    </tr>\n    <tr>\n      <th>...</th>\n      <td>...</td>\n      <td>...</td>\n      <td>...</td>\n      <td>...</td>\n      <td>...</td>\n      <td>...</td>\n      <td>...</td>\n    </tr>\n    <tr>\n      <th>Volvo</th>\n      <td>V40</td>\n      <td>3.545</td>\n      <td>Passenger</td>\n      <td>24.40</td>\n      <td>1.9</td>\n      <td>160.0</td>\n      <td>15.8</td>\n    </tr>\n    <tr>\n      <th>Volvo</th>\n      <td>S70</td>\n      <td>15.245</td>\n      <td>Passenger</td>\n      <td>27.50</td>\n      <td>2.4</td>\n      <td>168.0</td>\n      <td>17.9</td>\n    </tr>\n    <tr>\n      <th>Volvo</th>\n      <td>V70</td>\n      <td>17.531</td>\n      <td>Passenger</td>\n      <td>28.80</td>\n      <td>2.4</td>\n      <td>168.0</td>\n      <td>17.9</td>\n    </tr>\n    <tr>\n      <th>Volvo</th>\n      <td>C70</td>\n      <td>3.493</td>\n      <td>Passenger</td>\n      <td>45.50</td>\n      <td>2.3</td>\n      <td>236.0</td>\n      <td>18.5</td>\n    </tr>\n    <tr>\n      <th>Volvo</th>\n      <td>S80</td>\n      <td>18.969</td>\n      <td>Passenger</td>\n      <td>36.00</td>\n      <td>2.9</td>\n      <td>201.0</td>\n      <td>21.1</td>\n    </tr>\n  </tbody>\n</table>\n<p>157 rows × 7 columns</p>\n</div>"
     },
     "execution_count": 10,
     "metadata": {},
     "output_type": "execute_result"
    }
   ],
   "source": [
    "df_cars.set_index('Manufacturer')"
   ],
   "metadata": {
    "collapsed": false
   }
  },
  {
   "cell_type": "code",
   "execution_count": 11,
   "outputs": [
    {
     "data": {
      "text/plain": "0      38.419\n1      67.784\n2      14.114\n3      50.588\n4      44.387\n        ...  \n152    27.945\n153    42.745\n154    46.331\n155    48.993\n156    54.969\nLength: 157, dtype: float64"
     },
     "execution_count": 11,
     "metadata": {},
     "output_type": "execute_result"
    }
   ],
   "source": [
    "df_cars[['Sales_in_thousands', 'Price_in_thousands']].agg('sum',axis=1)"
   ],
   "metadata": {
    "collapsed": false
   }
  },
  {
   "cell_type": "markdown",
   "source": [],
   "metadata": {
    "collapsed": false
   }
  },
  {
   "cell_type": "code",
   "execution_count": 12,
   "outputs": [
    {
     "data": {
      "text/plain": "0      38.419\n1      67.784\n2         NaN\n3      50.588\n4      44.387\n        ...  \n152    27.945\n153    42.745\n154    46.331\n155    48.993\n156    54.969\nLength: 157, dtype: float64"
     },
     "execution_count": 12,
     "metadata": {},
     "output_type": "execute_result"
    }
   ],
   "source": [
    "df_cars['Sales_in_thousands'] + df_cars['Price_in_thousands']"
   ],
   "metadata": {
    "collapsed": false
   }
  },
  {
   "cell_type": "code",
   "execution_count": 13,
   "outputs": [],
   "source": [
    "vehicle_type_car = df_cars['Vehicle_type'] == 'Car'\n",
    "vehicle_type_passanger = df_cars['Vehicle_type'] == 'Passanger'"
   ],
   "metadata": {
    "collapsed": false
   }
  },
  {
   "cell_type": "markdown",
   "source": [],
   "metadata": {
    "collapsed": false
   }
  },
  {
   "cell_type": "code",
   "execution_count": 14,
   "outputs": [
    {
     "data": {
      "text/plain": "Engine_size     140.8\nHorsepower     7456.0\ndtype: float64"
     },
     "execution_count": 14,
     "metadata": {},
     "output_type": "execute_result"
    }
   ],
   "source": [
    "df_cars[vehicle_type_car][['Engine_size', 'Horsepower']].agg('sum')"
   ],
   "metadata": {
    "collapsed": false
   }
  },
  {
   "cell_type": "code",
   "execution_count": 15,
   "outputs": [],
   "source": [
    "df_bikes = pd.DataFrame(\n",
    "    {'Name':['Honda', 'Yamaha'],\n",
    "     'Model': ['Hornet', 'FRX']\n",
    "     }\n",
    ")"
   ],
   "metadata": {
    "collapsed": false
   }
  },
  {
   "cell_type": "code",
   "execution_count": 16,
   "outputs": [],
   "source": [
    "df_bikes = df_bikes.set_index('Name')"
   ],
   "metadata": {
    "collapsed": false
   }
  },
  {
   "cell_type": "code",
   "execution_count": 17,
   "outputs": [],
   "source": [
    "df_bikes['Year'] = [1992,2000]"
   ],
   "metadata": {
    "collapsed": false
   }
  },
  {
   "cell_type": "code",
   "execution_count": 18,
   "outputs": [
    {
     "data": {
      "text/plain": "         Model  Year\nName                \nHonda   Hornet  1992\nYamaha     FRX  2000",
      "text/html": "<div>\n<style scoped>\n    .dataframe tbody tr th:only-of-type {\n        vertical-align: middle;\n    }\n\n    .dataframe tbody tr th {\n        vertical-align: top;\n    }\n\n    .dataframe thead th {\n        text-align: right;\n    }\n</style>\n<table border=\"1\" class=\"dataframe\">\n  <thead>\n    <tr style=\"text-align: right;\">\n      <th></th>\n      <th>Model</th>\n      <th>Year</th>\n    </tr>\n    <tr>\n      <th>Name</th>\n      <th></th>\n      <th></th>\n    </tr>\n  </thead>\n  <tbody>\n    <tr>\n      <th>Honda</th>\n      <td>Hornet</td>\n      <td>1992</td>\n    </tr>\n    <tr>\n      <th>Yamaha</th>\n      <td>FRX</td>\n      <td>2000</td>\n    </tr>\n  </tbody>\n</table>\n</div>"
     },
     "execution_count": 18,
     "metadata": {},
     "output_type": "execute_result"
    }
   ],
   "source": [
    "df_bikes"
   ],
   "metadata": {
    "collapsed": false
   }
  },
  {
   "cell_type": "code",
   "execution_count": 19,
   "outputs": [],
   "source": [
    "df_bikes['Year'] = [2020,2022]"
   ],
   "metadata": {
    "collapsed": false
   }
  },
  {
   "cell_type": "code",
   "execution_count": 20,
   "outputs": [
    {
     "data": {
      "text/plain": "         Model  Year\nName                \nHonda   Hornet  2020\nYamaha     FRX  2022",
      "text/html": "<div>\n<style scoped>\n    .dataframe tbody tr th:only-of-type {\n        vertical-align: middle;\n    }\n\n    .dataframe tbody tr th {\n        vertical-align: top;\n    }\n\n    .dataframe thead th {\n        text-align: right;\n    }\n</style>\n<table border=\"1\" class=\"dataframe\">\n  <thead>\n    <tr style=\"text-align: right;\">\n      <th></th>\n      <th>Model</th>\n      <th>Year</th>\n    </tr>\n    <tr>\n      <th>Name</th>\n      <th></th>\n      <th></th>\n    </tr>\n  </thead>\n  <tbody>\n    <tr>\n      <th>Honda</th>\n      <td>Hornet</td>\n      <td>2020</td>\n    </tr>\n    <tr>\n      <th>Yamaha</th>\n      <td>FRX</td>\n      <td>2022</td>\n    </tr>\n  </tbody>\n</table>\n</div>"
     },
     "execution_count": 20,
     "metadata": {},
     "output_type": "execute_result"
    }
   ],
   "source": [
    "df_bikes"
   ],
   "metadata": {
    "collapsed": false
   }
  },
  {
   "cell_type": "code",
   "execution_count": 39,
   "outputs": [
    {
     "data": {
      "text/plain": "             Manufacturer    Model  Sales_in_thousands  Price_in_thousands   \nVehicle_type                                                                 \nCar              Cadillac  4Runner               9.126              11.528  \\\nPassenger           Acura    3-Sep               0.110               9.235   \n\n              Engine_size  Horsepower  Fuel_capacity  \nVehicle_type                                          \nCar                   2.0       119.0           15.1  \nPassenger             1.0        55.0           10.3  ",
      "text/html": "<div>\n<style scoped>\n    .dataframe tbody tr th:only-of-type {\n        vertical-align: middle;\n    }\n\n    .dataframe tbody tr th {\n        vertical-align: top;\n    }\n\n    .dataframe thead th {\n        text-align: right;\n    }\n</style>\n<table border=\"1\" class=\"dataframe\">\n  <thead>\n    <tr style=\"text-align: right;\">\n      <th></th>\n      <th>Manufacturer</th>\n      <th>Model</th>\n      <th>Sales_in_thousands</th>\n      <th>Price_in_thousands</th>\n      <th>Engine_size</th>\n      <th>Horsepower</th>\n      <th>Fuel_capacity</th>\n    </tr>\n    <tr>\n      <th>Vehicle_type</th>\n      <th></th>\n      <th></th>\n      <th></th>\n      <th></th>\n      <th></th>\n      <th></th>\n      <th></th>\n    </tr>\n  </thead>\n  <tbody>\n    <tr>\n      <th>Car</th>\n      <td>Cadillac</td>\n      <td>4Runner</td>\n      <td>9.126</td>\n      <td>11.528</td>\n      <td>2.0</td>\n      <td>119.0</td>\n      <td>15.1</td>\n    </tr>\n    <tr>\n      <th>Passenger</th>\n      <td>Acura</td>\n      <td>3-Sep</td>\n      <td>0.110</td>\n      <td>9.235</td>\n      <td>1.0</td>\n      <td>55.0</td>\n      <td>10.3</td>\n    </tr>\n  </tbody>\n</table>\n</div>"
     },
     "execution_count": 39,
     "metadata": {},
     "output_type": "execute_result"
    }
   ],
   "source": [
    "df_cars.groupby('Vehicle_type').min()"
   ],
   "metadata": {
    "collapsed": false
   }
  },
  {
   "cell_type": "code",
   "execution_count": 49,
   "outputs": [
    {
     "data": {
      "text/plain": "                       Model  Sales_in_thousands Vehicle_type   \nManufacturer                                                    \nMercedes-B            SLK230              28.976    Passenger  \\\nPorsche        Carrera Coupe               8.982    Passenger   \nDodge                  Viper             227.061    Passenger   \nAudi                      A8              20.397    Passenger   \nLexus                  RX300              51.238    Passenger   \nToyota                Tacoma             247.994    Passenger   \nCadillac             Seville              63.729    Passenger   \nChevrolet              Prizm             145.519    Passenger   \nVolvo                    V70              18.969    Passenger   \nLincoln             Town car              48.911    Passenger   \nPlymouth             Voyager              32.734    Passenger   \nJaguar                S-Type              15.467    Passenger   \nAcura                     TL              39.384    Passenger   \nBMW                     528i              19.747    Passenger   \nOldsmobile        Silhouette              80.255    Passenger   \nFord                Windstar             540.561    Passenger   \nSaab                   5-Sep              12.115    Passenger   \nBuick                  Regal              91.561    Passenger   \nMitsubishi     Montero Sport              55.616    Passenger   \nInfiniti                 I30              23.713    Passenger   \nNissan                Xterra              88.094    Passenger   \nChrysler      Town & Country              53.480    Passenger   \nMercury             Villager              81.174    Passenger   \nJeep                Wrangler             157.040          Car   \nHonda               Passport             230.902    Passenger   \nPontiac              Sunfire             131.097    Passenger   \nSubaru               Outback              47.107    Passenger   \nVolkswagen            Passat              83.721    Passenger   \nSaturn                    SW              80.620    Passenger   \nHyundai               Sonata              66.692    Passenger   \n\n              Price_in_thousands  Engine_size  Horsepower  Fuel_capacity  \nManufacturer                                                              \nMercedes-B                85.500          5.0       302.0           23.2  \nPorsche                   74.970          3.4       300.0           17.0  \nDodge                     69.725          8.0       450.0           32.0  \nAudi                      62.000          4.2       310.0           23.7  \nLexus                     60.105          4.7       300.0           25.4  \nToyota                    51.728          4.7       230.0           25.4  \nCadillac                  46.225          5.7       275.0           30.0  \nChevrolet                 45.705          5.7       345.0           19.1  \nVolvo                     45.500          2.9       236.0           21.1  \nLincoln                   43.330          5.4       300.0           30.0  \nPlymouth                  43.000          3.5       253.0           20.0  \nJaguar                    42.800          3.0       240.0           18.4  \nAcura                     42.000          3.5       225.0           18.0  \nBMW                       38.900          2.8       193.0           18.5  \nOldsmobile                36.229          4.3       250.0           25.0  \nFord                      36.135          4.6       240.0           26.0  \nSaab                      33.120          2.3       185.0           18.5  \nBuick                     31.965          3.8       240.0           18.5  \nMitsubishi                31.807          3.5       210.0           24.3  \nInfiniti                  29.465          3.0       227.0           18.5  \nNissan                    29.299          3.3       222.0           21.0  \nChrysler                  29.185          3.5       253.0           17.0  \nMercury                   27.560          4.6       210.0           21.0  \nJeep                      26.895          4.0       195.0           20.5  \nHonda                     26.600          3.5       210.0           21.1  \nPontiac                   25.635          3.8       205.0           25.0  \nSubaru                    22.695          2.5       165.0           16.9  \nVolkswagen                21.200          2.0       150.0           16.4  \nSaturn                    18.835          2.2       137.0           13.1  \nHyundai                   14.999          2.4       148.0           17.2  ",
      "text/html": "<div>\n<style scoped>\n    .dataframe tbody tr th:only-of-type {\n        vertical-align: middle;\n    }\n\n    .dataframe tbody tr th {\n        vertical-align: top;\n    }\n\n    .dataframe thead th {\n        text-align: right;\n    }\n</style>\n<table border=\"1\" class=\"dataframe\">\n  <thead>\n    <tr style=\"text-align: right;\">\n      <th></th>\n      <th>Model</th>\n      <th>Sales_in_thousands</th>\n      <th>Vehicle_type</th>\n      <th>Price_in_thousands</th>\n      <th>Engine_size</th>\n      <th>Horsepower</th>\n      <th>Fuel_capacity</th>\n    </tr>\n    <tr>\n      <th>Manufacturer</th>\n      <th></th>\n      <th></th>\n      <th></th>\n      <th></th>\n      <th></th>\n      <th></th>\n      <th></th>\n    </tr>\n  </thead>\n  <tbody>\n    <tr>\n      <th>Mercedes-B</th>\n      <td>SLK230</td>\n      <td>28.976</td>\n      <td>Passenger</td>\n      <td>85.500</td>\n      <td>5.0</td>\n      <td>302.0</td>\n      <td>23.2</td>\n    </tr>\n    <tr>\n      <th>Porsche</th>\n      <td>Carrera Coupe</td>\n      <td>8.982</td>\n      <td>Passenger</td>\n      <td>74.970</td>\n      <td>3.4</td>\n      <td>300.0</td>\n      <td>17.0</td>\n    </tr>\n    <tr>\n      <th>Dodge</th>\n      <td>Viper</td>\n      <td>227.061</td>\n      <td>Passenger</td>\n      <td>69.725</td>\n      <td>8.0</td>\n      <td>450.0</td>\n      <td>32.0</td>\n    </tr>\n    <tr>\n      <th>Audi</th>\n      <td>A8</td>\n      <td>20.397</td>\n      <td>Passenger</td>\n      <td>62.000</td>\n      <td>4.2</td>\n      <td>310.0</td>\n      <td>23.7</td>\n    </tr>\n    <tr>\n      <th>Lexus</th>\n      <td>RX300</td>\n      <td>51.238</td>\n      <td>Passenger</td>\n      <td>60.105</td>\n      <td>4.7</td>\n      <td>300.0</td>\n      <td>25.4</td>\n    </tr>\n    <tr>\n      <th>Toyota</th>\n      <td>Tacoma</td>\n      <td>247.994</td>\n      <td>Passenger</td>\n      <td>51.728</td>\n      <td>4.7</td>\n      <td>230.0</td>\n      <td>25.4</td>\n    </tr>\n    <tr>\n      <th>Cadillac</th>\n      <td>Seville</td>\n      <td>63.729</td>\n      <td>Passenger</td>\n      <td>46.225</td>\n      <td>5.7</td>\n      <td>275.0</td>\n      <td>30.0</td>\n    </tr>\n    <tr>\n      <th>Chevrolet</th>\n      <td>Prizm</td>\n      <td>145.519</td>\n      <td>Passenger</td>\n      <td>45.705</td>\n      <td>5.7</td>\n      <td>345.0</td>\n      <td>19.1</td>\n    </tr>\n    <tr>\n      <th>Volvo</th>\n      <td>V70</td>\n      <td>18.969</td>\n      <td>Passenger</td>\n      <td>45.500</td>\n      <td>2.9</td>\n      <td>236.0</td>\n      <td>21.1</td>\n    </tr>\n    <tr>\n      <th>Lincoln</th>\n      <td>Town car</td>\n      <td>48.911</td>\n      <td>Passenger</td>\n      <td>43.330</td>\n      <td>5.4</td>\n      <td>300.0</td>\n      <td>30.0</td>\n    </tr>\n    <tr>\n      <th>Plymouth</th>\n      <td>Voyager</td>\n      <td>32.734</td>\n      <td>Passenger</td>\n      <td>43.000</td>\n      <td>3.5</td>\n      <td>253.0</td>\n      <td>20.0</td>\n    </tr>\n    <tr>\n      <th>Jaguar</th>\n      <td>S-Type</td>\n      <td>15.467</td>\n      <td>Passenger</td>\n      <td>42.800</td>\n      <td>3.0</td>\n      <td>240.0</td>\n      <td>18.4</td>\n    </tr>\n    <tr>\n      <th>Acura</th>\n      <td>TL</td>\n      <td>39.384</td>\n      <td>Passenger</td>\n      <td>42.000</td>\n      <td>3.5</td>\n      <td>225.0</td>\n      <td>18.0</td>\n    </tr>\n    <tr>\n      <th>BMW</th>\n      <td>528i</td>\n      <td>19.747</td>\n      <td>Passenger</td>\n      <td>38.900</td>\n      <td>2.8</td>\n      <td>193.0</td>\n      <td>18.5</td>\n    </tr>\n    <tr>\n      <th>Oldsmobile</th>\n      <td>Silhouette</td>\n      <td>80.255</td>\n      <td>Passenger</td>\n      <td>36.229</td>\n      <td>4.3</td>\n      <td>250.0</td>\n      <td>25.0</td>\n    </tr>\n    <tr>\n      <th>Ford</th>\n      <td>Windstar</td>\n      <td>540.561</td>\n      <td>Passenger</td>\n      <td>36.135</td>\n      <td>4.6</td>\n      <td>240.0</td>\n      <td>26.0</td>\n    </tr>\n    <tr>\n      <th>Saab</th>\n      <td>5-Sep</td>\n      <td>12.115</td>\n      <td>Passenger</td>\n      <td>33.120</td>\n      <td>2.3</td>\n      <td>185.0</td>\n      <td>18.5</td>\n    </tr>\n    <tr>\n      <th>Buick</th>\n      <td>Regal</td>\n      <td>91.561</td>\n      <td>Passenger</td>\n      <td>31.965</td>\n      <td>3.8</td>\n      <td>240.0</td>\n      <td>18.5</td>\n    </tr>\n    <tr>\n      <th>Mitsubishi</th>\n      <td>Montero Sport</td>\n      <td>55.616</td>\n      <td>Passenger</td>\n      <td>31.807</td>\n      <td>3.5</td>\n      <td>210.0</td>\n      <td>24.3</td>\n    </tr>\n    <tr>\n      <th>Infiniti</th>\n      <td>I30</td>\n      <td>23.713</td>\n      <td>Passenger</td>\n      <td>29.465</td>\n      <td>3.0</td>\n      <td>227.0</td>\n      <td>18.5</td>\n    </tr>\n    <tr>\n      <th>Nissan</th>\n      <td>Xterra</td>\n      <td>88.094</td>\n      <td>Passenger</td>\n      <td>29.299</td>\n      <td>3.3</td>\n      <td>222.0</td>\n      <td>21.0</td>\n    </tr>\n    <tr>\n      <th>Chrysler</th>\n      <td>Town &amp; Country</td>\n      <td>53.480</td>\n      <td>Passenger</td>\n      <td>29.185</td>\n      <td>3.5</td>\n      <td>253.0</td>\n      <td>17.0</td>\n    </tr>\n    <tr>\n      <th>Mercury</th>\n      <td>Villager</td>\n      <td>81.174</td>\n      <td>Passenger</td>\n      <td>27.560</td>\n      <td>4.6</td>\n      <td>210.0</td>\n      <td>21.0</td>\n    </tr>\n    <tr>\n      <th>Jeep</th>\n      <td>Wrangler</td>\n      <td>157.040</td>\n      <td>Car</td>\n      <td>26.895</td>\n      <td>4.0</td>\n      <td>195.0</td>\n      <td>20.5</td>\n    </tr>\n    <tr>\n      <th>Honda</th>\n      <td>Passport</td>\n      <td>230.902</td>\n      <td>Passenger</td>\n      <td>26.600</td>\n      <td>3.5</td>\n      <td>210.0</td>\n      <td>21.1</td>\n    </tr>\n    <tr>\n      <th>Pontiac</th>\n      <td>Sunfire</td>\n      <td>131.097</td>\n      <td>Passenger</td>\n      <td>25.635</td>\n      <td>3.8</td>\n      <td>205.0</td>\n      <td>25.0</td>\n    </tr>\n    <tr>\n      <th>Subaru</th>\n      <td>Outback</td>\n      <td>47.107</td>\n      <td>Passenger</td>\n      <td>22.695</td>\n      <td>2.5</td>\n      <td>165.0</td>\n      <td>16.9</td>\n    </tr>\n    <tr>\n      <th>Volkswagen</th>\n      <td>Passat</td>\n      <td>83.721</td>\n      <td>Passenger</td>\n      <td>21.200</td>\n      <td>2.0</td>\n      <td>150.0</td>\n      <td>16.4</td>\n    </tr>\n    <tr>\n      <th>Saturn</th>\n      <td>SW</td>\n      <td>80.620</td>\n      <td>Passenger</td>\n      <td>18.835</td>\n      <td>2.2</td>\n      <td>137.0</td>\n      <td>13.1</td>\n    </tr>\n    <tr>\n      <th>Hyundai</th>\n      <td>Sonata</td>\n      <td>66.692</td>\n      <td>Passenger</td>\n      <td>14.999</td>\n      <td>2.4</td>\n      <td>148.0</td>\n      <td>17.2</td>\n    </tr>\n  </tbody>\n</table>\n</div>"
     },
     "execution_count": 49,
     "metadata": {},
     "output_type": "execute_result"
    }
   ],
   "source": [
    "df_cars.groupby('Manufacturer').max().sort_values('Price_in_thousands', ascending = False)"
   ],
   "metadata": {
    "collapsed": false
   }
  },
  {
   "cell_type": "code",
   "execution_count": 53,
   "outputs": [
    {
     "data": {
      "text/plain": "              Sales_in_thousands  Price_in_thousands  Engine_size  Horsepower   \nManufacturer                                                                    \nAcura                  19.751250           30.633333     2.925000  200.000000  \\\nAudi                   13.519000           39.980000     2.933333  220.000000   \nBMW                    15.501667           33.096667     2.700000  185.333333   \nBuick                  60.504750           26.781250     3.625000  206.250000   \nCadillac               22.435600           40.254000     4.500000  256.000000   \nChevrolet              61.596111           20.022778     3.055556  171.111111   \nChrysler               28.817286           23.430833     2.783333  194.833333   \nDodge                  82.740818           24.213636     3.709091  199.545455   \nFord                  183.875909           21.047273     3.327273  170.090909   \nHonda                 118.534800           20.277000     2.520000  160.400000   \nHyundai                45.775333           12.165667     1.966667  126.666667   \nInfiniti               23.713000           29.465000     3.000000  227.000000   \nJaguar                 15.467000           42.800000     3.000000  240.000000   \nJeep                   97.717667           20.991667     3.500000  168.333333   \nLexus                  17.807167           44.055000     3.616667  245.833333   \nLincoln                28.544667           41.690000     4.866667  263.333333   \nMercedes-B             13.013889           52.916667     3.422222  232.222222   \nMercury                39.666500           20.748333     3.150000  163.833333   \nMitsubishi             25.842143           22.167429     2.800000  165.142857   \nNissan                 57.090714           22.360714     2.914286  169.000000   \nOldsmobile             29.831500           25.622833     3.450000  190.000000   \nPlymouth               16.000250           22.642500     2.475000  166.750000   \nPontiac                61.755667           22.949167     3.433333  185.000000   \nPorsche                 4.042667           62.473333     3.166667  272.333333   \nSaab                   10.653000           29.610000     2.150000  177.500000   \nSaturn                 33.770000           14.271000     2.020000  119.600000   \nSubaru                 40.067500           21.395000     2.500000  165.000000   \nToyota                 82.245000           21.982889     2.622222  160.666667   \nVolkswagen             34.868667           17.698333     1.966667  120.833333   \nVolvo                  12.623333           30.933333     2.300000  182.166667   \n\n              Fuel_capacity  \nManufacturer                 \nAcura             16.400000  \nAudi              19.533333  \nBMW               17.233333  \nBuick             17.750000  \nCadillac          20.800000  \nChevrolet         15.477778  \nChrysler          16.483333  \nDodge             21.581818  \nFord              19.063636  \nHonda             17.080000  \nHyundai           14.533333  \nInfiniti          18.500000  \nJaguar            18.400000  \nJeep              19.833333  \nLexus             20.533333  \nLincoln           23.000000  \nMercedes-B        18.922222  \nMercury           17.833333  \nMitsubishi        18.285714  \nNissan            18.200000  \nOldsmobile        18.200000  \nPlymouth          15.125000  \nPontiac           17.916667  \nPorsche           17.000000  \nSaab              17.700000  \nSaturn            12.500000  \nSubaru            16.400000  \nToyota            17.766667  \nVolkswagen        14.700000  \nVolvo             17.833333  ",
      "text/html": "<div>\n<style scoped>\n    .dataframe tbody tr th:only-of-type {\n        vertical-align: middle;\n    }\n\n    .dataframe tbody tr th {\n        vertical-align: top;\n    }\n\n    .dataframe thead th {\n        text-align: right;\n    }\n</style>\n<table border=\"1\" class=\"dataframe\">\n  <thead>\n    <tr style=\"text-align: right;\">\n      <th></th>\n      <th>Sales_in_thousands</th>\n      <th>Price_in_thousands</th>\n      <th>Engine_size</th>\n      <th>Horsepower</th>\n      <th>Fuel_capacity</th>\n    </tr>\n    <tr>\n      <th>Manufacturer</th>\n      <th></th>\n      <th></th>\n      <th></th>\n      <th></th>\n      <th></th>\n    </tr>\n  </thead>\n  <tbody>\n    <tr>\n      <th>Acura</th>\n      <td>19.751250</td>\n      <td>30.633333</td>\n      <td>2.925000</td>\n      <td>200.000000</td>\n      <td>16.400000</td>\n    </tr>\n    <tr>\n      <th>Audi</th>\n      <td>13.519000</td>\n      <td>39.980000</td>\n      <td>2.933333</td>\n      <td>220.000000</td>\n      <td>19.533333</td>\n    </tr>\n    <tr>\n      <th>BMW</th>\n      <td>15.501667</td>\n      <td>33.096667</td>\n      <td>2.700000</td>\n      <td>185.333333</td>\n      <td>17.233333</td>\n    </tr>\n    <tr>\n      <th>Buick</th>\n      <td>60.504750</td>\n      <td>26.781250</td>\n      <td>3.625000</td>\n      <td>206.250000</td>\n      <td>17.750000</td>\n    </tr>\n    <tr>\n      <th>Cadillac</th>\n      <td>22.435600</td>\n      <td>40.254000</td>\n      <td>4.500000</td>\n      <td>256.000000</td>\n      <td>20.800000</td>\n    </tr>\n    <tr>\n      <th>Chevrolet</th>\n      <td>61.596111</td>\n      <td>20.022778</td>\n      <td>3.055556</td>\n      <td>171.111111</td>\n      <td>15.477778</td>\n    </tr>\n    <tr>\n      <th>Chrysler</th>\n      <td>28.817286</td>\n      <td>23.430833</td>\n      <td>2.783333</td>\n      <td>194.833333</td>\n      <td>16.483333</td>\n    </tr>\n    <tr>\n      <th>Dodge</th>\n      <td>82.740818</td>\n      <td>24.213636</td>\n      <td>3.709091</td>\n      <td>199.545455</td>\n      <td>21.581818</td>\n    </tr>\n    <tr>\n      <th>Ford</th>\n      <td>183.875909</td>\n      <td>21.047273</td>\n      <td>3.327273</td>\n      <td>170.090909</td>\n      <td>19.063636</td>\n    </tr>\n    <tr>\n      <th>Honda</th>\n      <td>118.534800</td>\n      <td>20.277000</td>\n      <td>2.520000</td>\n      <td>160.400000</td>\n      <td>17.080000</td>\n    </tr>\n    <tr>\n      <th>Hyundai</th>\n      <td>45.775333</td>\n      <td>12.165667</td>\n      <td>1.966667</td>\n      <td>126.666667</td>\n      <td>14.533333</td>\n    </tr>\n    <tr>\n      <th>Infiniti</th>\n      <td>23.713000</td>\n      <td>29.465000</td>\n      <td>3.000000</td>\n      <td>227.000000</td>\n      <td>18.500000</td>\n    </tr>\n    <tr>\n      <th>Jaguar</th>\n      <td>15.467000</td>\n      <td>42.800000</td>\n      <td>3.000000</td>\n      <td>240.000000</td>\n      <td>18.400000</td>\n    </tr>\n    <tr>\n      <th>Jeep</th>\n      <td>97.717667</td>\n      <td>20.991667</td>\n      <td>3.500000</td>\n      <td>168.333333</td>\n      <td>19.833333</td>\n    </tr>\n    <tr>\n      <th>Lexus</th>\n      <td>17.807167</td>\n      <td>44.055000</td>\n      <td>3.616667</td>\n      <td>245.833333</td>\n      <td>20.533333</td>\n    </tr>\n    <tr>\n      <th>Lincoln</th>\n      <td>28.544667</td>\n      <td>41.690000</td>\n      <td>4.866667</td>\n      <td>263.333333</td>\n      <td>23.000000</td>\n    </tr>\n    <tr>\n      <th>Mercedes-B</th>\n      <td>13.013889</td>\n      <td>52.916667</td>\n      <td>3.422222</td>\n      <td>232.222222</td>\n      <td>18.922222</td>\n    </tr>\n    <tr>\n      <th>Mercury</th>\n      <td>39.666500</td>\n      <td>20.748333</td>\n      <td>3.150000</td>\n      <td>163.833333</td>\n      <td>17.833333</td>\n    </tr>\n    <tr>\n      <th>Mitsubishi</th>\n      <td>25.842143</td>\n      <td>22.167429</td>\n      <td>2.800000</td>\n      <td>165.142857</td>\n      <td>18.285714</td>\n    </tr>\n    <tr>\n      <th>Nissan</th>\n      <td>57.090714</td>\n      <td>22.360714</td>\n      <td>2.914286</td>\n      <td>169.000000</td>\n      <td>18.200000</td>\n    </tr>\n    <tr>\n      <th>Oldsmobile</th>\n      <td>29.831500</td>\n      <td>25.622833</td>\n      <td>3.450000</td>\n      <td>190.000000</td>\n      <td>18.200000</td>\n    </tr>\n    <tr>\n      <th>Plymouth</th>\n      <td>16.000250</td>\n      <td>22.642500</td>\n      <td>2.475000</td>\n      <td>166.750000</td>\n      <td>15.125000</td>\n    </tr>\n    <tr>\n      <th>Pontiac</th>\n      <td>61.755667</td>\n      <td>22.949167</td>\n      <td>3.433333</td>\n      <td>185.000000</td>\n      <td>17.916667</td>\n    </tr>\n    <tr>\n      <th>Porsche</th>\n      <td>4.042667</td>\n      <td>62.473333</td>\n      <td>3.166667</td>\n      <td>272.333333</td>\n      <td>17.000000</td>\n    </tr>\n    <tr>\n      <th>Saab</th>\n      <td>10.653000</td>\n      <td>29.610000</td>\n      <td>2.150000</td>\n      <td>177.500000</td>\n      <td>17.700000</td>\n    </tr>\n    <tr>\n      <th>Saturn</th>\n      <td>33.770000</td>\n      <td>14.271000</td>\n      <td>2.020000</td>\n      <td>119.600000</td>\n      <td>12.500000</td>\n    </tr>\n    <tr>\n      <th>Subaru</th>\n      <td>40.067500</td>\n      <td>21.395000</td>\n      <td>2.500000</td>\n      <td>165.000000</td>\n      <td>16.400000</td>\n    </tr>\n    <tr>\n      <th>Toyota</th>\n      <td>82.245000</td>\n      <td>21.982889</td>\n      <td>2.622222</td>\n      <td>160.666667</td>\n      <td>17.766667</td>\n    </tr>\n    <tr>\n      <th>Volkswagen</th>\n      <td>34.868667</td>\n      <td>17.698333</td>\n      <td>1.966667</td>\n      <td>120.833333</td>\n      <td>14.700000</td>\n    </tr>\n    <tr>\n      <th>Volvo</th>\n      <td>12.623333</td>\n      <td>30.933333</td>\n      <td>2.300000</td>\n      <td>182.166667</td>\n      <td>17.833333</td>\n    </tr>\n  </tbody>\n</table>\n</div>"
     },
     "execution_count": 53,
     "metadata": {},
     "output_type": "execute_result"
    }
   ],
   "source": [
    "df_cars.groupby('Manufacturer').mean('Manufacturer')"
   ],
   "metadata": {
    "collapsed": false
   }
  },
  {
   "cell_type": "code",
   "execution_count": 55,
   "outputs": [
    {
     "data": {
      "text/plain": "                       Model  Sales_in_thousands Vehicle_type   \nManufacturer                                                    \nAcura                     TL              39.384    Passenger  \\\nAudi                      A8              20.397    Passenger   \nBMW                     528i              19.747    Passenger   \nBuick                  Regal              91.561    Passenger   \nCadillac             Seville              63.729    Passenger   \nChevrolet              Prizm             145.519    Passenger   \nChrysler      Town & Country              53.480    Passenger   \nDodge                  Viper             227.061    Passenger   \nFord                Windstar             540.561    Passenger   \nHonda               Passport             230.902    Passenger   \nHyundai               Sonata              66.692    Passenger   \nInfiniti                 I30              23.713    Passenger   \nJaguar                S-Type              15.467    Passenger   \nJeep                Wrangler             157.040          Car   \nLexus                  RX300              51.238    Passenger   \nLincoln             Town car              48.911    Passenger   \nMercedes-B            SLK230              28.976    Passenger   \nMercury             Villager              81.174    Passenger   \nMitsubishi     Montero Sport              55.616    Passenger   \nNissan                Xterra              88.094    Passenger   \nOldsmobile        Silhouette              80.255    Passenger   \nPlymouth             Voyager              32.734    Passenger   \nPontiac              Sunfire             131.097    Passenger   \nPorsche        Carrera Coupe               8.982    Passenger   \nSaab                   5-Sep              12.115    Passenger   \nSaturn                    SW              80.620    Passenger   \nSubaru               Outback              47.107    Passenger   \nToyota                Tacoma             247.994    Passenger   \nVolkswagen            Passat              83.721    Passenger   \nVolvo                    V70              18.969    Passenger   \n\n              Price_in_thousands  Engine_size  Horsepower  Fuel_capacity  \nManufacturer                                                              \nAcura                     42.000          3.5       225.0           18.0  \nAudi                      62.000          4.2       310.0           23.7  \nBMW                       38.900          2.8       193.0           18.5  \nBuick                     31.965          3.8       240.0           18.5  \nCadillac                  46.225          5.7       275.0           30.0  \nChevrolet                 45.705          5.7       345.0           19.1  \nChrysler                  29.185          3.5       253.0           17.0  \nDodge                     69.725          8.0       450.0           32.0  \nFord                      36.135          4.6       240.0           26.0  \nHonda                     26.600          3.5       210.0           21.1  \nHyundai                   14.999          2.4       148.0           17.2  \nInfiniti                  29.465          3.0       227.0           18.5  \nJaguar                    42.800          3.0       240.0           18.4  \nJeep                      26.895          4.0       195.0           20.5  \nLexus                     60.105          4.7       300.0           25.4  \nLincoln                   43.330          5.4       300.0           30.0  \nMercedes-B                85.500          5.0       302.0           23.2  \nMercury                   27.560          4.6       210.0           21.0  \nMitsubishi                31.807          3.5       210.0           24.3  \nNissan                    29.299          3.3       222.0           21.0  \nOldsmobile                36.229          4.3       250.0           25.0  \nPlymouth                  43.000          3.5       253.0           20.0  \nPontiac                   25.635          3.8       205.0           25.0  \nPorsche                   74.970          3.4       300.0           17.0  \nSaab                      33.120          2.3       185.0           18.5  \nSaturn                    18.835          2.2       137.0           13.1  \nSubaru                    22.695          2.5       165.0           16.9  \nToyota                    51.728          4.7       230.0           25.4  \nVolkswagen                21.200          2.0       150.0           16.4  \nVolvo                     45.500          2.9       236.0           21.1  ",
      "text/html": "<div>\n<style scoped>\n    .dataframe tbody tr th:only-of-type {\n        vertical-align: middle;\n    }\n\n    .dataframe tbody tr th {\n        vertical-align: top;\n    }\n\n    .dataframe thead th {\n        text-align: right;\n    }\n</style>\n<table border=\"1\" class=\"dataframe\">\n  <thead>\n    <tr style=\"text-align: right;\">\n      <th></th>\n      <th>Model</th>\n      <th>Sales_in_thousands</th>\n      <th>Vehicle_type</th>\n      <th>Price_in_thousands</th>\n      <th>Engine_size</th>\n      <th>Horsepower</th>\n      <th>Fuel_capacity</th>\n    </tr>\n    <tr>\n      <th>Manufacturer</th>\n      <th></th>\n      <th></th>\n      <th></th>\n      <th></th>\n      <th></th>\n      <th></th>\n      <th></th>\n    </tr>\n  </thead>\n  <tbody>\n    <tr>\n      <th>Acura</th>\n      <td>TL</td>\n      <td>39.384</td>\n      <td>Passenger</td>\n      <td>42.000</td>\n      <td>3.5</td>\n      <td>225.0</td>\n      <td>18.0</td>\n    </tr>\n    <tr>\n      <th>Audi</th>\n      <td>A8</td>\n      <td>20.397</td>\n      <td>Passenger</td>\n      <td>62.000</td>\n      <td>4.2</td>\n      <td>310.0</td>\n      <td>23.7</td>\n    </tr>\n    <tr>\n      <th>BMW</th>\n      <td>528i</td>\n      <td>19.747</td>\n      <td>Passenger</td>\n      <td>38.900</td>\n      <td>2.8</td>\n      <td>193.0</td>\n      <td>18.5</td>\n    </tr>\n    <tr>\n      <th>Buick</th>\n      <td>Regal</td>\n      <td>91.561</td>\n      <td>Passenger</td>\n      <td>31.965</td>\n      <td>3.8</td>\n      <td>240.0</td>\n      <td>18.5</td>\n    </tr>\n    <tr>\n      <th>Cadillac</th>\n      <td>Seville</td>\n      <td>63.729</td>\n      <td>Passenger</td>\n      <td>46.225</td>\n      <td>5.7</td>\n      <td>275.0</td>\n      <td>30.0</td>\n    </tr>\n    <tr>\n      <th>Chevrolet</th>\n      <td>Prizm</td>\n      <td>145.519</td>\n      <td>Passenger</td>\n      <td>45.705</td>\n      <td>5.7</td>\n      <td>345.0</td>\n      <td>19.1</td>\n    </tr>\n    <tr>\n      <th>Chrysler</th>\n      <td>Town &amp; Country</td>\n      <td>53.480</td>\n      <td>Passenger</td>\n      <td>29.185</td>\n      <td>3.5</td>\n      <td>253.0</td>\n      <td>17.0</td>\n    </tr>\n    <tr>\n      <th>Dodge</th>\n      <td>Viper</td>\n      <td>227.061</td>\n      <td>Passenger</td>\n      <td>69.725</td>\n      <td>8.0</td>\n      <td>450.0</td>\n      <td>32.0</td>\n    </tr>\n    <tr>\n      <th>Ford</th>\n      <td>Windstar</td>\n      <td>540.561</td>\n      <td>Passenger</td>\n      <td>36.135</td>\n      <td>4.6</td>\n      <td>240.0</td>\n      <td>26.0</td>\n    </tr>\n    <tr>\n      <th>Honda</th>\n      <td>Passport</td>\n      <td>230.902</td>\n      <td>Passenger</td>\n      <td>26.600</td>\n      <td>3.5</td>\n      <td>210.0</td>\n      <td>21.1</td>\n    </tr>\n    <tr>\n      <th>Hyundai</th>\n      <td>Sonata</td>\n      <td>66.692</td>\n      <td>Passenger</td>\n      <td>14.999</td>\n      <td>2.4</td>\n      <td>148.0</td>\n      <td>17.2</td>\n    </tr>\n    <tr>\n      <th>Infiniti</th>\n      <td>I30</td>\n      <td>23.713</td>\n      <td>Passenger</td>\n      <td>29.465</td>\n      <td>3.0</td>\n      <td>227.0</td>\n      <td>18.5</td>\n    </tr>\n    <tr>\n      <th>Jaguar</th>\n      <td>S-Type</td>\n      <td>15.467</td>\n      <td>Passenger</td>\n      <td>42.800</td>\n      <td>3.0</td>\n      <td>240.0</td>\n      <td>18.4</td>\n    </tr>\n    <tr>\n      <th>Jeep</th>\n      <td>Wrangler</td>\n      <td>157.040</td>\n      <td>Car</td>\n      <td>26.895</td>\n      <td>4.0</td>\n      <td>195.0</td>\n      <td>20.5</td>\n    </tr>\n    <tr>\n      <th>Lexus</th>\n      <td>RX300</td>\n      <td>51.238</td>\n      <td>Passenger</td>\n      <td>60.105</td>\n      <td>4.7</td>\n      <td>300.0</td>\n      <td>25.4</td>\n    </tr>\n    <tr>\n      <th>Lincoln</th>\n      <td>Town car</td>\n      <td>48.911</td>\n      <td>Passenger</td>\n      <td>43.330</td>\n      <td>5.4</td>\n      <td>300.0</td>\n      <td>30.0</td>\n    </tr>\n    <tr>\n      <th>Mercedes-B</th>\n      <td>SLK230</td>\n      <td>28.976</td>\n      <td>Passenger</td>\n      <td>85.500</td>\n      <td>5.0</td>\n      <td>302.0</td>\n      <td>23.2</td>\n    </tr>\n    <tr>\n      <th>Mercury</th>\n      <td>Villager</td>\n      <td>81.174</td>\n      <td>Passenger</td>\n      <td>27.560</td>\n      <td>4.6</td>\n      <td>210.0</td>\n      <td>21.0</td>\n    </tr>\n    <tr>\n      <th>Mitsubishi</th>\n      <td>Montero Sport</td>\n      <td>55.616</td>\n      <td>Passenger</td>\n      <td>31.807</td>\n      <td>3.5</td>\n      <td>210.0</td>\n      <td>24.3</td>\n    </tr>\n    <tr>\n      <th>Nissan</th>\n      <td>Xterra</td>\n      <td>88.094</td>\n      <td>Passenger</td>\n      <td>29.299</td>\n      <td>3.3</td>\n      <td>222.0</td>\n      <td>21.0</td>\n    </tr>\n    <tr>\n      <th>Oldsmobile</th>\n      <td>Silhouette</td>\n      <td>80.255</td>\n      <td>Passenger</td>\n      <td>36.229</td>\n      <td>4.3</td>\n      <td>250.0</td>\n      <td>25.0</td>\n    </tr>\n    <tr>\n      <th>Plymouth</th>\n      <td>Voyager</td>\n      <td>32.734</td>\n      <td>Passenger</td>\n      <td>43.000</td>\n      <td>3.5</td>\n      <td>253.0</td>\n      <td>20.0</td>\n    </tr>\n    <tr>\n      <th>Pontiac</th>\n      <td>Sunfire</td>\n      <td>131.097</td>\n      <td>Passenger</td>\n      <td>25.635</td>\n      <td>3.8</td>\n      <td>205.0</td>\n      <td>25.0</td>\n    </tr>\n    <tr>\n      <th>Porsche</th>\n      <td>Carrera Coupe</td>\n      <td>8.982</td>\n      <td>Passenger</td>\n      <td>74.970</td>\n      <td>3.4</td>\n      <td>300.0</td>\n      <td>17.0</td>\n    </tr>\n    <tr>\n      <th>Saab</th>\n      <td>5-Sep</td>\n      <td>12.115</td>\n      <td>Passenger</td>\n      <td>33.120</td>\n      <td>2.3</td>\n      <td>185.0</td>\n      <td>18.5</td>\n    </tr>\n    <tr>\n      <th>Saturn</th>\n      <td>SW</td>\n      <td>80.620</td>\n      <td>Passenger</td>\n      <td>18.835</td>\n      <td>2.2</td>\n      <td>137.0</td>\n      <td>13.1</td>\n    </tr>\n    <tr>\n      <th>Subaru</th>\n      <td>Outback</td>\n      <td>47.107</td>\n      <td>Passenger</td>\n      <td>22.695</td>\n      <td>2.5</td>\n      <td>165.0</td>\n      <td>16.9</td>\n    </tr>\n    <tr>\n      <th>Toyota</th>\n      <td>Tacoma</td>\n      <td>247.994</td>\n      <td>Passenger</td>\n      <td>51.728</td>\n      <td>4.7</td>\n      <td>230.0</td>\n      <td>25.4</td>\n    </tr>\n    <tr>\n      <th>Volkswagen</th>\n      <td>Passat</td>\n      <td>83.721</td>\n      <td>Passenger</td>\n      <td>21.200</td>\n      <td>2.0</td>\n      <td>150.0</td>\n      <td>16.4</td>\n    </tr>\n    <tr>\n      <th>Volvo</th>\n      <td>V70</td>\n      <td>18.969</td>\n      <td>Passenger</td>\n      <td>45.500</td>\n      <td>2.9</td>\n      <td>236.0</td>\n      <td>21.1</td>\n    </tr>\n  </tbody>\n</table>\n</div>"
     },
     "execution_count": 55,
     "metadata": {},
     "output_type": "execute_result"
    }
   ],
   "source": [
    "df_cars.groupby('Manufacturer').max()"
   ],
   "metadata": {
    "collapsed": false
   }
  },
  {
   "cell_type": "code",
   "execution_count": 61,
   "outputs": [
    {
     "data": {
      "text/plain": "                      Sales_in_thousands Vehicle_type  Price_in_thousands   \nManufacturer Model                                                          \nAcura        CL                   14.114    Passenger                 NaN  \\\n             Integra              16.919    Passenger               21.50   \n             RL                    8.588    Passenger               42.00   \n             TL                   39.384    Passenger               28.40   \nAudi         A4                   20.397    Passenger               23.99   \n...                                  ...          ...                 ...   \nVolvo        S40                  16.957    Passenger               23.40   \n             S70                  15.245    Passenger               27.50   \n             S80                  18.969    Passenger               36.00   \n             V40                   3.545    Passenger               24.40   \n             V70                  17.531    Passenger               28.80   \n\n                      Engine_size  Horsepower  Fuel_capacity  \nManufacturer Model                                            \nAcura        CL               3.2       225.0           17.2  \n             Integra          1.8       140.0           13.2  \n             RL               3.5       210.0           18.0  \n             TL               3.2       225.0           17.2  \nAudi         A4               1.8       150.0           16.4  \n...                           ...         ...            ...  \nVolvo        S40              1.9       160.0           15.8  \n             S70              2.4       168.0           17.9  \n             S80              2.9       201.0           21.1  \n             V40              1.9       160.0           15.8  \n             V70              2.4       168.0           17.9  \n\n[157 rows x 6 columns]",
      "text/html": "<div>\n<style scoped>\n    .dataframe tbody tr th:only-of-type {\n        vertical-align: middle;\n    }\n\n    .dataframe tbody tr th {\n        vertical-align: top;\n    }\n\n    .dataframe thead th {\n        text-align: right;\n    }\n</style>\n<table border=\"1\" class=\"dataframe\">\n  <thead>\n    <tr style=\"text-align: right;\">\n      <th></th>\n      <th></th>\n      <th>Sales_in_thousands</th>\n      <th>Vehicle_type</th>\n      <th>Price_in_thousands</th>\n      <th>Engine_size</th>\n      <th>Horsepower</th>\n      <th>Fuel_capacity</th>\n    </tr>\n    <tr>\n      <th>Manufacturer</th>\n      <th>Model</th>\n      <th></th>\n      <th></th>\n      <th></th>\n      <th></th>\n      <th></th>\n      <th></th>\n    </tr>\n  </thead>\n  <tbody>\n    <tr>\n      <th rowspan=\"4\" valign=\"top\">Acura</th>\n      <th>CL</th>\n      <td>14.114</td>\n      <td>Passenger</td>\n      <td>NaN</td>\n      <td>3.2</td>\n      <td>225.0</td>\n      <td>17.2</td>\n    </tr>\n    <tr>\n      <th>Integra</th>\n      <td>16.919</td>\n      <td>Passenger</td>\n      <td>21.50</td>\n      <td>1.8</td>\n      <td>140.0</td>\n      <td>13.2</td>\n    </tr>\n    <tr>\n      <th>RL</th>\n      <td>8.588</td>\n      <td>Passenger</td>\n      <td>42.00</td>\n      <td>3.5</td>\n      <td>210.0</td>\n      <td>18.0</td>\n    </tr>\n    <tr>\n      <th>TL</th>\n      <td>39.384</td>\n      <td>Passenger</td>\n      <td>28.40</td>\n      <td>3.2</td>\n      <td>225.0</td>\n      <td>17.2</td>\n    </tr>\n    <tr>\n      <th>Audi</th>\n      <th>A4</th>\n      <td>20.397</td>\n      <td>Passenger</td>\n      <td>23.99</td>\n      <td>1.8</td>\n      <td>150.0</td>\n      <td>16.4</td>\n    </tr>\n    <tr>\n      <th>...</th>\n      <th>...</th>\n      <td>...</td>\n      <td>...</td>\n      <td>...</td>\n      <td>...</td>\n      <td>...</td>\n      <td>...</td>\n    </tr>\n    <tr>\n      <th rowspan=\"5\" valign=\"top\">Volvo</th>\n      <th>S40</th>\n      <td>16.957</td>\n      <td>Passenger</td>\n      <td>23.40</td>\n      <td>1.9</td>\n      <td>160.0</td>\n      <td>15.8</td>\n    </tr>\n    <tr>\n      <th>S70</th>\n      <td>15.245</td>\n      <td>Passenger</td>\n      <td>27.50</td>\n      <td>2.4</td>\n      <td>168.0</td>\n      <td>17.9</td>\n    </tr>\n    <tr>\n      <th>S80</th>\n      <td>18.969</td>\n      <td>Passenger</td>\n      <td>36.00</td>\n      <td>2.9</td>\n      <td>201.0</td>\n      <td>21.1</td>\n    </tr>\n    <tr>\n      <th>V40</th>\n      <td>3.545</td>\n      <td>Passenger</td>\n      <td>24.40</td>\n      <td>1.9</td>\n      <td>160.0</td>\n      <td>15.8</td>\n    </tr>\n    <tr>\n      <th>V70</th>\n      <td>17.531</td>\n      <td>Passenger</td>\n      <td>28.80</td>\n      <td>2.4</td>\n      <td>168.0</td>\n      <td>17.9</td>\n    </tr>\n  </tbody>\n</table>\n<p>157 rows × 6 columns</p>\n</div>"
     },
     "execution_count": 61,
     "metadata": {},
     "output_type": "execute_result"
    }
   ],
   "source": [
    "df_cars.groupby(['Manufacturer','Model']).max()"
   ],
   "metadata": {
    "collapsed": false
   }
  },
  {
   "cell_type": "code",
   "execution_count": 62,
   "outputs": [
    {
     "data": {
      "text/plain": "                      Sales_in_thousands Vehicle_type  Price_in_thousands   \nManufacturer Model                                                          \nAcura        CL                   14.114    Passenger                 NaN  \\\n             Integra              16.919    Passenger               21.50   \n             RL                    8.588    Passenger               42.00   \n             TL                   39.384    Passenger               28.40   \nAudi         A4                   20.397    Passenger               23.99   \n...                                  ...          ...                 ...   \nVolvo        S40                  16.957    Passenger               23.40   \n             S70                  15.245    Passenger               27.50   \n             S80                  18.969    Passenger               36.00   \n             V40                   3.545    Passenger               24.40   \n             V70                  17.531    Passenger               28.80   \n\n                      Engine_size  Horsepower  Fuel_capacity  \nManufacturer Model                                            \nAcura        CL               3.2       225.0           17.2  \n             Integra          1.8       140.0           13.2  \n             RL               3.5       210.0           18.0  \n             TL               3.2       225.0           17.2  \nAudi         A4               1.8       150.0           16.4  \n...                           ...         ...            ...  \nVolvo        S40              1.9       160.0           15.8  \n             S70              2.4       168.0           17.9  \n             S80              2.9       201.0           21.1  \n             V40              1.9       160.0           15.8  \n             V70              2.4       168.0           17.9  \n\n[157 rows x 6 columns]",
      "text/html": "<div>\n<style scoped>\n    .dataframe tbody tr th:only-of-type {\n        vertical-align: middle;\n    }\n\n    .dataframe tbody tr th {\n        vertical-align: top;\n    }\n\n    .dataframe thead th {\n        text-align: right;\n    }\n</style>\n<table border=\"1\" class=\"dataframe\">\n  <thead>\n    <tr style=\"text-align: right;\">\n      <th></th>\n      <th></th>\n      <th>Sales_in_thousands</th>\n      <th>Vehicle_type</th>\n      <th>Price_in_thousands</th>\n      <th>Engine_size</th>\n      <th>Horsepower</th>\n      <th>Fuel_capacity</th>\n    </tr>\n    <tr>\n      <th>Manufacturer</th>\n      <th>Model</th>\n      <th></th>\n      <th></th>\n      <th></th>\n      <th></th>\n      <th></th>\n      <th></th>\n    </tr>\n  </thead>\n  <tbody>\n    <tr>\n      <th rowspan=\"4\" valign=\"top\">Acura</th>\n      <th>CL</th>\n      <td>14.114</td>\n      <td>Passenger</td>\n      <td>NaN</td>\n      <td>3.2</td>\n      <td>225.0</td>\n      <td>17.2</td>\n    </tr>\n    <tr>\n      <th>Integra</th>\n      <td>16.919</td>\n      <td>Passenger</td>\n      <td>21.50</td>\n      <td>1.8</td>\n      <td>140.0</td>\n      <td>13.2</td>\n    </tr>\n    <tr>\n      <th>RL</th>\n      <td>8.588</td>\n      <td>Passenger</td>\n      <td>42.00</td>\n      <td>3.5</td>\n      <td>210.0</td>\n      <td>18.0</td>\n    </tr>\n    <tr>\n      <th>TL</th>\n      <td>39.384</td>\n      <td>Passenger</td>\n      <td>28.40</td>\n      <td>3.2</td>\n      <td>225.0</td>\n      <td>17.2</td>\n    </tr>\n    <tr>\n      <th>Audi</th>\n      <th>A4</th>\n      <td>20.397</td>\n      <td>Passenger</td>\n      <td>23.99</td>\n      <td>1.8</td>\n      <td>150.0</td>\n      <td>16.4</td>\n    </tr>\n    <tr>\n      <th>...</th>\n      <th>...</th>\n      <td>...</td>\n      <td>...</td>\n      <td>...</td>\n      <td>...</td>\n      <td>...</td>\n      <td>...</td>\n    </tr>\n    <tr>\n      <th rowspan=\"5\" valign=\"top\">Volvo</th>\n      <th>S40</th>\n      <td>16.957</td>\n      <td>Passenger</td>\n      <td>23.40</td>\n      <td>1.9</td>\n      <td>160.0</td>\n      <td>15.8</td>\n    </tr>\n    <tr>\n      <th>S70</th>\n      <td>15.245</td>\n      <td>Passenger</td>\n      <td>27.50</td>\n      <td>2.4</td>\n      <td>168.0</td>\n      <td>17.9</td>\n    </tr>\n    <tr>\n      <th>S80</th>\n      <td>18.969</td>\n      <td>Passenger</td>\n      <td>36.00</td>\n      <td>2.9</td>\n      <td>201.0</td>\n      <td>21.1</td>\n    </tr>\n    <tr>\n      <th>V40</th>\n      <td>3.545</td>\n      <td>Passenger</td>\n      <td>24.40</td>\n      <td>1.9</td>\n      <td>160.0</td>\n      <td>15.8</td>\n    </tr>\n    <tr>\n      <th>V70</th>\n      <td>17.531</td>\n      <td>Passenger</td>\n      <td>28.80</td>\n      <td>2.4</td>\n      <td>168.0</td>\n      <td>17.9</td>\n    </tr>\n  </tbody>\n</table>\n<p>157 rows × 6 columns</p>\n</div>"
     },
     "execution_count": 62,
     "metadata": {},
     "output_type": "execute_result"
    }
   ],
   "source": [
    "df_cars.groupby(['Manufacturer','Model']).max().sort_values(['Manufacturer','Model']) #same"
   ],
   "metadata": {
    "collapsed": false
   }
  },
  {
   "cell_type": "code",
   "execution_count": 63,
   "outputs": [
    {
     "data": {
      "text/plain": "                                         Sales_in_thousands Vehicle_type   \nManufacturer Model   Price_in_thousands                                    \nAcura        Integra 21.50                           16.919    Passenger  \\\n             RL      42.00                            8.588    Passenger   \n             TL      28.40                           39.384    Passenger   \nAudi         A4      23.99                           20.397    Passenger   \n             A6      33.95                           18.780    Passenger   \n...                                                     ...          ...   \nVolvo        S40     23.40                           16.957    Passenger   \n             S70     27.50                           15.245    Passenger   \n             S80     36.00                           18.969    Passenger   \n             V40     24.40                            3.545    Passenger   \n             V70     28.80                           17.531    Passenger   \n\n                                         Engine_size  Horsepower   \nManufacturer Model   Price_in_thousands                            \nAcura        Integra 21.50                       1.8       140.0  \\\n             RL      42.00                       3.5       210.0   \n             TL      28.40                       3.2       225.0   \nAudi         A4      23.99                       1.8       150.0   \n             A6      33.95                       2.8       200.0   \n...                                              ...         ...   \nVolvo        S40     23.40                       1.9       160.0   \n             S70     27.50                       2.4       168.0   \n             S80     36.00                       2.9       201.0   \n             V40     24.40                       1.9       160.0   \n             V70     28.80                       2.4       168.0   \n\n                                         Fuel_capacity  \nManufacturer Model   Price_in_thousands                 \nAcura        Integra 21.50                        13.2  \n             RL      42.00                        18.0  \n             TL      28.40                        17.2  \nAudi         A4      23.99                        16.4  \n             A6      33.95                        18.5  \n...                                                ...  \nVolvo        S40     23.40                        15.8  \n             S70     27.50                        17.9  \n             S80     36.00                        21.1  \n             V40     24.40                        15.8  \n             V70     28.80                        17.9  \n\n[155 rows x 5 columns]",
      "text/html": "<div>\n<style scoped>\n    .dataframe tbody tr th:only-of-type {\n        vertical-align: middle;\n    }\n\n    .dataframe tbody tr th {\n        vertical-align: top;\n    }\n\n    .dataframe thead th {\n        text-align: right;\n    }\n</style>\n<table border=\"1\" class=\"dataframe\">\n  <thead>\n    <tr style=\"text-align: right;\">\n      <th></th>\n      <th></th>\n      <th></th>\n      <th>Sales_in_thousands</th>\n      <th>Vehicle_type</th>\n      <th>Engine_size</th>\n      <th>Horsepower</th>\n      <th>Fuel_capacity</th>\n    </tr>\n    <tr>\n      <th>Manufacturer</th>\n      <th>Model</th>\n      <th>Price_in_thousands</th>\n      <th></th>\n      <th></th>\n      <th></th>\n      <th></th>\n      <th></th>\n    </tr>\n  </thead>\n  <tbody>\n    <tr>\n      <th rowspan=\"3\" valign=\"top\">Acura</th>\n      <th>Integra</th>\n      <th>21.50</th>\n      <td>16.919</td>\n      <td>Passenger</td>\n      <td>1.8</td>\n      <td>140.0</td>\n      <td>13.2</td>\n    </tr>\n    <tr>\n      <th>RL</th>\n      <th>42.00</th>\n      <td>8.588</td>\n      <td>Passenger</td>\n      <td>3.5</td>\n      <td>210.0</td>\n      <td>18.0</td>\n    </tr>\n    <tr>\n      <th>TL</th>\n      <th>28.40</th>\n      <td>39.384</td>\n      <td>Passenger</td>\n      <td>3.2</td>\n      <td>225.0</td>\n      <td>17.2</td>\n    </tr>\n    <tr>\n      <th rowspan=\"2\" valign=\"top\">Audi</th>\n      <th>A4</th>\n      <th>23.99</th>\n      <td>20.397</td>\n      <td>Passenger</td>\n      <td>1.8</td>\n      <td>150.0</td>\n      <td>16.4</td>\n    </tr>\n    <tr>\n      <th>A6</th>\n      <th>33.95</th>\n      <td>18.780</td>\n      <td>Passenger</td>\n      <td>2.8</td>\n      <td>200.0</td>\n      <td>18.5</td>\n    </tr>\n    <tr>\n      <th>...</th>\n      <th>...</th>\n      <th>...</th>\n      <td>...</td>\n      <td>...</td>\n      <td>...</td>\n      <td>...</td>\n      <td>...</td>\n    </tr>\n    <tr>\n      <th rowspan=\"5\" valign=\"top\">Volvo</th>\n      <th>S40</th>\n      <th>23.40</th>\n      <td>16.957</td>\n      <td>Passenger</td>\n      <td>1.9</td>\n      <td>160.0</td>\n      <td>15.8</td>\n    </tr>\n    <tr>\n      <th>S70</th>\n      <th>27.50</th>\n      <td>15.245</td>\n      <td>Passenger</td>\n      <td>2.4</td>\n      <td>168.0</td>\n      <td>17.9</td>\n    </tr>\n    <tr>\n      <th>S80</th>\n      <th>36.00</th>\n      <td>18.969</td>\n      <td>Passenger</td>\n      <td>2.9</td>\n      <td>201.0</td>\n      <td>21.1</td>\n    </tr>\n    <tr>\n      <th>V40</th>\n      <th>24.40</th>\n      <td>3.545</td>\n      <td>Passenger</td>\n      <td>1.9</td>\n      <td>160.0</td>\n      <td>15.8</td>\n    </tr>\n    <tr>\n      <th>V70</th>\n      <th>28.80</th>\n      <td>17.531</td>\n      <td>Passenger</td>\n      <td>2.4</td>\n      <td>168.0</td>\n      <td>17.9</td>\n    </tr>\n  </tbody>\n</table>\n<p>155 rows × 5 columns</p>\n</div>"
     },
     "execution_count": 63,
     "metadata": {},
     "output_type": "execute_result"
    }
   ],
   "source": [
    "df_cars.groupby(['Manufacturer','Model','Price_in_thousands']).max()"
   ],
   "metadata": {
    "collapsed": false
   }
  },
  {
   "cell_type": "code",
   "execution_count": 64,
   "outputs": [
    {
     "data": {
      "text/plain": "                                                          Model   \nManufacturer                                                      \nAcura                                             IntegraTLCLRL  \\\nAudi                                                     A4A6A8   \nBMW                                                323i328i528i   \nBuick                            CenturyRegalPark AvenueLeSabre   \nCadillac                   DeVilleSevilleEldoradoCateraEscalade   \nChevrolet     CavalierMalibuLuminaMonte CarloCamaroCorvetteP...   \nChrysler      Sebring CoupeSebring Conv.ConcordeCirrusLHSTow...   \nDodge         NeonAvengerStratusIntrepidViperRam PickupRam W...   \nFord          EscortMustangContourTaurusFocusCrown VictoriaE...   \nHonda                            CivicAccordCR-VPassportOdyssey   \nHyundai                                     AccentElantraSonata   \nInfiniti                                                    I30   \nJaguar                                                   S-Type   \nJeep                             WranglerCherokeeGrand Cherokee   \nLexus                            ES300GS300GS400LS400LX470RX300   \nLincoln                            ContinentalTown carNavigator   \nMercedes-B    C-ClassE-ClassS-ClassSL-ClassSLKSLK230CLK Coup...   \nMercury       MystiqueCougarSableGrand MarquisMountaineerVil...   \nMitsubishi    MirageEclipseGalantDiamante3000GTMonteroMonter...   \nNissan          SentraAltimaMaximaQuestPathfinderXterraFrontier   \nOldsmobile          CutlassIntrigueAleroAuroraBravadaSilhouette   \nPlymouth                               NeonBreezeVoyagerProwler   \nPontiac       SunfireGrand AmFirebirdGrand PrixBonnevilleMon...   \nPorsche                       BoxterCarrera CoupeCarrera Cabrio   \nSaab                                                 5-Sep3-Sep   \nSaturn                                               SLSCSWLWLS   \nSubaru                                          OutbackForester   \nToyota        CorollaCamryAvalonCelicaTacomaSiennaRAV44Runne...   \nVolkswagen                       GolfJettaPassatCabrioGTIBeetle   \nVolvo                                        S40V40S70V70C70S80   \n\n              Sales_in_thousands   \nManufacturer                       \nAcura                     79.005  \\\nAudi                      40.557   \nBMW                       46.505   \nBuick                    242.019   \nCadillac                 112.178   \nChevrolet                554.365   \nChrysler                 201.721   \nDodge                    910.149   \nFord                    2022.635   \nHonda                    592.674   \nHyundai                  137.326   \nInfiniti                  23.713   \nJaguar                    15.467   \nJeep                     293.153   \nLexus                    106.843   \nLincoln                   85.634   \nMercedes-B               117.125   \nMercury                  237.999   \nMitsubishi               180.895   \nNissan                   399.635   \nOldsmobile               178.989   \nPlymouth                  64.001   \nPontiac                  370.534   \nPorsche                   12.128   \nSaab                      21.306   \nSaturn                   168.850   \nSubaru                    80.135   \nToyota                   740.205   \nVolkswagen               209.212   \nVolvo                     75.740   \n\n                                                   Vehicle_type   \nManufacturer                                                      \nAcura                      PassengerPassengerPassengerPassenger  \\\nAudi                                PassengerPassengerPassenger   \nBMW                                 PassengerPassengerPassenger   \nBuick                      PassengerPassengerPassengerPassenger   \nCadillac                PassengerPassengerPassengerPassengerCar   \nChevrolet     PassengerPassengerPassengerPassengerPassengerP...   \nChrysler      PassengerPassengerPassengerPassengerPassengerC...   \nDodge         PassengerPassengerPassengerPassengerPassengerC...   \nFord          PassengerPassengerPassengerPassengerPassengerP...   \nHonda                               PassengerPassengerCarCarCar   \nHyundai                             PassengerPassengerPassenger   \nInfiniti                                              Passenger   \nJaguar                                                Passenger   \nJeep                                                  CarCarCar   \nLexus                PassengerPassengerPassengerPassengerCarCar   \nLincoln                                   PassengerPassengerCar   \nMercedes-B    PassengerPassengerPassengerPassengerPassengerP...   \nMercury              PassengerPassengerPassengerPassengerCarCar   \nMitsubishi    PassengerPassengerPassengerPassengerPassengerC...   \nNissan                  PassengerPassengerPassengerCarCarCarCar   \nOldsmobile           PassengerPassengerPassengerPassengerCarCar   \nPlymouth                         PassengerPassengerCarPassenger   \nPontiac        PassengerPassengerPassengerPassengerPassengerCar   \nPorsche                             PassengerPassengerPassenger   \nSaab                                         PassengerPassenger   \nSaturn            PassengerPassengerPassengerPassengerPassenger   \nSubaru                                             PassengerCar   \nToyota        PassengerPassengerPassengerPassengerCarCarCarC...   \nVolkswagen    PassengerPassengerPassengerPassengerPassengerP...   \nVolvo         PassengerPassengerPassengerPassengerPassengerP...   \n\n              Price_in_thousands  Engine_size  Horsepower  Fuel_capacity  \nManufacturer                                                              \nAcura                     91.900         11.7       800.0           65.6  \nAudi                     119.940          8.8       660.0           58.6  \nBMW                       99.290          8.1       556.0           51.7  \nBuick                    107.125         14.5       825.0           71.0  \nCadillac                 201.270         22.5      1280.0          104.0  \nChevrolet                180.205         27.5      1540.0          139.3  \nChrysler                 140.585         16.7      1169.0           98.9  \nDodge                    266.350         40.8      2195.0          237.4  \nFord                     231.520         36.6      1871.0          209.7  \nHonda                    101.385         12.6       802.0           85.4  \nHyundai                   36.497          5.9       380.0           43.6  \nInfiniti                  29.465          3.0       227.0           18.5  \nJaguar                    42.800          3.0       240.0           18.4  \nJeep                      62.975         10.5       505.0           59.5  \nLexus                    264.330         21.7      1475.0          123.2  \nLincoln                  125.070         14.6       790.0           69.0  \nMercedes-B               476.250         30.8      2090.0          170.3  \nMercury                  124.490         18.9       983.0          107.0  \nMitsubishi               155.172         19.6      1156.0          128.0  \nNissan                   156.525         20.4      1183.0          127.4  \nOldsmobile               153.737         20.7      1140.0          109.2  \nPlymouth                  90.570          9.9       667.0           60.5  \nPontiac                  137.695         20.6      1110.0          107.5  \nPorsche                  187.420          9.5       817.0           51.0  \nSaab                      59.220          4.3       355.0           35.4  \nSaturn                    71.355         10.1       598.0           62.5  \nSubaru                    42.790          5.0       330.0           32.8  \nToyota                   197.846         23.6      1446.0          159.9  \nVolkswagen               106.190         11.8       725.0           88.2  \nVolvo                    185.600         13.8      1093.0          107.0  ",
      "text/html": "<div>\n<style scoped>\n    .dataframe tbody tr th:only-of-type {\n        vertical-align: middle;\n    }\n\n    .dataframe tbody tr th {\n        vertical-align: top;\n    }\n\n    .dataframe thead th {\n        text-align: right;\n    }\n</style>\n<table border=\"1\" class=\"dataframe\">\n  <thead>\n    <tr style=\"text-align: right;\">\n      <th></th>\n      <th>Model</th>\n      <th>Sales_in_thousands</th>\n      <th>Vehicle_type</th>\n      <th>Price_in_thousands</th>\n      <th>Engine_size</th>\n      <th>Horsepower</th>\n      <th>Fuel_capacity</th>\n    </tr>\n    <tr>\n      <th>Manufacturer</th>\n      <th></th>\n      <th></th>\n      <th></th>\n      <th></th>\n      <th></th>\n      <th></th>\n      <th></th>\n    </tr>\n  </thead>\n  <tbody>\n    <tr>\n      <th>Acura</th>\n      <td>IntegraTLCLRL</td>\n      <td>79.005</td>\n      <td>PassengerPassengerPassengerPassenger</td>\n      <td>91.900</td>\n      <td>11.7</td>\n      <td>800.0</td>\n      <td>65.6</td>\n    </tr>\n    <tr>\n      <th>Audi</th>\n      <td>A4A6A8</td>\n      <td>40.557</td>\n      <td>PassengerPassengerPassenger</td>\n      <td>119.940</td>\n      <td>8.8</td>\n      <td>660.0</td>\n      <td>58.6</td>\n    </tr>\n    <tr>\n      <th>BMW</th>\n      <td>323i328i528i</td>\n      <td>46.505</td>\n      <td>PassengerPassengerPassenger</td>\n      <td>99.290</td>\n      <td>8.1</td>\n      <td>556.0</td>\n      <td>51.7</td>\n    </tr>\n    <tr>\n      <th>Buick</th>\n      <td>CenturyRegalPark AvenueLeSabre</td>\n      <td>242.019</td>\n      <td>PassengerPassengerPassengerPassenger</td>\n      <td>107.125</td>\n      <td>14.5</td>\n      <td>825.0</td>\n      <td>71.0</td>\n    </tr>\n    <tr>\n      <th>Cadillac</th>\n      <td>DeVilleSevilleEldoradoCateraEscalade</td>\n      <td>112.178</td>\n      <td>PassengerPassengerPassengerPassengerCar</td>\n      <td>201.270</td>\n      <td>22.5</td>\n      <td>1280.0</td>\n      <td>104.0</td>\n    </tr>\n    <tr>\n      <th>Chevrolet</th>\n      <td>CavalierMalibuLuminaMonte CarloCamaroCorvetteP...</td>\n      <td>554.365</td>\n      <td>PassengerPassengerPassengerPassengerPassengerP...</td>\n      <td>180.205</td>\n      <td>27.5</td>\n      <td>1540.0</td>\n      <td>139.3</td>\n    </tr>\n    <tr>\n      <th>Chrysler</th>\n      <td>Sebring CoupeSebring Conv.ConcordeCirrusLHSTow...</td>\n      <td>201.721</td>\n      <td>PassengerPassengerPassengerPassengerPassengerC...</td>\n      <td>140.585</td>\n      <td>16.7</td>\n      <td>1169.0</td>\n      <td>98.9</td>\n    </tr>\n    <tr>\n      <th>Dodge</th>\n      <td>NeonAvengerStratusIntrepidViperRam PickupRam W...</td>\n      <td>910.149</td>\n      <td>PassengerPassengerPassengerPassengerPassengerC...</td>\n      <td>266.350</td>\n      <td>40.8</td>\n      <td>2195.0</td>\n      <td>237.4</td>\n    </tr>\n    <tr>\n      <th>Ford</th>\n      <td>EscortMustangContourTaurusFocusCrown VictoriaE...</td>\n      <td>2022.635</td>\n      <td>PassengerPassengerPassengerPassengerPassengerP...</td>\n      <td>231.520</td>\n      <td>36.6</td>\n      <td>1871.0</td>\n      <td>209.7</td>\n    </tr>\n    <tr>\n      <th>Honda</th>\n      <td>CivicAccordCR-VPassportOdyssey</td>\n      <td>592.674</td>\n      <td>PassengerPassengerCarCarCar</td>\n      <td>101.385</td>\n      <td>12.6</td>\n      <td>802.0</td>\n      <td>85.4</td>\n    </tr>\n    <tr>\n      <th>Hyundai</th>\n      <td>AccentElantraSonata</td>\n      <td>137.326</td>\n      <td>PassengerPassengerPassenger</td>\n      <td>36.497</td>\n      <td>5.9</td>\n      <td>380.0</td>\n      <td>43.6</td>\n    </tr>\n    <tr>\n      <th>Infiniti</th>\n      <td>I30</td>\n      <td>23.713</td>\n      <td>Passenger</td>\n      <td>29.465</td>\n      <td>3.0</td>\n      <td>227.0</td>\n      <td>18.5</td>\n    </tr>\n    <tr>\n      <th>Jaguar</th>\n      <td>S-Type</td>\n      <td>15.467</td>\n      <td>Passenger</td>\n      <td>42.800</td>\n      <td>3.0</td>\n      <td>240.0</td>\n      <td>18.4</td>\n    </tr>\n    <tr>\n      <th>Jeep</th>\n      <td>WranglerCherokeeGrand Cherokee</td>\n      <td>293.153</td>\n      <td>CarCarCar</td>\n      <td>62.975</td>\n      <td>10.5</td>\n      <td>505.0</td>\n      <td>59.5</td>\n    </tr>\n    <tr>\n      <th>Lexus</th>\n      <td>ES300GS300GS400LS400LX470RX300</td>\n      <td>106.843</td>\n      <td>PassengerPassengerPassengerPassengerCarCar</td>\n      <td>264.330</td>\n      <td>21.7</td>\n      <td>1475.0</td>\n      <td>123.2</td>\n    </tr>\n    <tr>\n      <th>Lincoln</th>\n      <td>ContinentalTown carNavigator</td>\n      <td>85.634</td>\n      <td>PassengerPassengerCar</td>\n      <td>125.070</td>\n      <td>14.6</td>\n      <td>790.0</td>\n      <td>69.0</td>\n    </tr>\n    <tr>\n      <th>Mercedes-B</th>\n      <td>C-ClassE-ClassS-ClassSL-ClassSLKSLK230CLK Coup...</td>\n      <td>117.125</td>\n      <td>PassengerPassengerPassengerPassengerPassengerP...</td>\n      <td>476.250</td>\n      <td>30.8</td>\n      <td>2090.0</td>\n      <td>170.3</td>\n    </tr>\n    <tr>\n      <th>Mercury</th>\n      <td>MystiqueCougarSableGrand MarquisMountaineerVil...</td>\n      <td>237.999</td>\n      <td>PassengerPassengerPassengerPassengerCarCar</td>\n      <td>124.490</td>\n      <td>18.9</td>\n      <td>983.0</td>\n      <td>107.0</td>\n    </tr>\n    <tr>\n      <th>Mitsubishi</th>\n      <td>MirageEclipseGalantDiamante3000GTMonteroMonter...</td>\n      <td>180.895</td>\n      <td>PassengerPassengerPassengerPassengerPassengerC...</td>\n      <td>155.172</td>\n      <td>19.6</td>\n      <td>1156.0</td>\n      <td>128.0</td>\n    </tr>\n    <tr>\n      <th>Nissan</th>\n      <td>SentraAltimaMaximaQuestPathfinderXterraFrontier</td>\n      <td>399.635</td>\n      <td>PassengerPassengerPassengerCarCarCarCar</td>\n      <td>156.525</td>\n      <td>20.4</td>\n      <td>1183.0</td>\n      <td>127.4</td>\n    </tr>\n    <tr>\n      <th>Oldsmobile</th>\n      <td>CutlassIntrigueAleroAuroraBravadaSilhouette</td>\n      <td>178.989</td>\n      <td>PassengerPassengerPassengerPassengerCarCar</td>\n      <td>153.737</td>\n      <td>20.7</td>\n      <td>1140.0</td>\n      <td>109.2</td>\n    </tr>\n    <tr>\n      <th>Plymouth</th>\n      <td>NeonBreezeVoyagerProwler</td>\n      <td>64.001</td>\n      <td>PassengerPassengerCarPassenger</td>\n      <td>90.570</td>\n      <td>9.9</td>\n      <td>667.0</td>\n      <td>60.5</td>\n    </tr>\n    <tr>\n      <th>Pontiac</th>\n      <td>SunfireGrand AmFirebirdGrand PrixBonnevilleMon...</td>\n      <td>370.534</td>\n      <td>PassengerPassengerPassengerPassengerPassengerCar</td>\n      <td>137.695</td>\n      <td>20.6</td>\n      <td>1110.0</td>\n      <td>107.5</td>\n    </tr>\n    <tr>\n      <th>Porsche</th>\n      <td>BoxterCarrera CoupeCarrera Cabrio</td>\n      <td>12.128</td>\n      <td>PassengerPassengerPassenger</td>\n      <td>187.420</td>\n      <td>9.5</td>\n      <td>817.0</td>\n      <td>51.0</td>\n    </tr>\n    <tr>\n      <th>Saab</th>\n      <td>5-Sep3-Sep</td>\n      <td>21.306</td>\n      <td>PassengerPassenger</td>\n      <td>59.220</td>\n      <td>4.3</td>\n      <td>355.0</td>\n      <td>35.4</td>\n    </tr>\n    <tr>\n      <th>Saturn</th>\n      <td>SLSCSWLWLS</td>\n      <td>168.850</td>\n      <td>PassengerPassengerPassengerPassengerPassenger</td>\n      <td>71.355</td>\n      <td>10.1</td>\n      <td>598.0</td>\n      <td>62.5</td>\n    </tr>\n    <tr>\n      <th>Subaru</th>\n      <td>OutbackForester</td>\n      <td>80.135</td>\n      <td>PassengerCar</td>\n      <td>42.790</td>\n      <td>5.0</td>\n      <td>330.0</td>\n      <td>32.8</td>\n    </tr>\n    <tr>\n      <th>Toyota</th>\n      <td>CorollaCamryAvalonCelicaTacomaSiennaRAV44Runne...</td>\n      <td>740.205</td>\n      <td>PassengerPassengerPassengerPassengerCarCarCarC...</td>\n      <td>197.846</td>\n      <td>23.6</td>\n      <td>1446.0</td>\n      <td>159.9</td>\n    </tr>\n    <tr>\n      <th>Volkswagen</th>\n      <td>GolfJettaPassatCabrioGTIBeetle</td>\n      <td>209.212</td>\n      <td>PassengerPassengerPassengerPassengerPassengerP...</td>\n      <td>106.190</td>\n      <td>11.8</td>\n      <td>725.0</td>\n      <td>88.2</td>\n    </tr>\n    <tr>\n      <th>Volvo</th>\n      <td>S40V40S70V70C70S80</td>\n      <td>75.740</td>\n      <td>PassengerPassengerPassengerPassengerPassengerP...</td>\n      <td>185.600</td>\n      <td>13.8</td>\n      <td>1093.0</td>\n      <td>107.0</td>\n    </tr>\n  </tbody>\n</table>\n</div>"
     },
     "execution_count": 64,
     "metadata": {},
     "output_type": "execute_result"
    }
   ],
   "source": [
    "df_cars.groupby('Manufacturer').sum()"
   ],
   "metadata": {
    "collapsed": false
   }
  },
  {
   "cell_type": "code",
   "execution_count": 68,
   "outputs": [
    {
     "data": {
      "text/plain": "              Sales_in_thousands  Price_in_thousands  Engine_size  Horsepower   \nManufacturer                                                                    \nAcura                     79.005              91.900         11.7       800.0  \\\nAudi                      40.557             119.940          8.8       660.0   \nBMW                       46.505              99.290          8.1       556.0   \nBuick                    242.019             107.125         14.5       825.0   \nCadillac                 112.178             201.270         22.5      1280.0   \nChevrolet                554.365             180.205         27.5      1540.0   \nChrysler                 201.721             140.585         16.7      1169.0   \nDodge                    910.149             266.350         40.8      2195.0   \nFord                    2022.635             231.520         36.6      1871.0   \nHonda                    592.674             101.385         12.6       802.0   \nHyundai                  137.326              36.497          5.9       380.0   \nInfiniti                  23.713              29.465          3.0       227.0   \nJaguar                    15.467              42.800          3.0       240.0   \nJeep                     293.153              62.975         10.5       505.0   \nLexus                    106.843             264.330         21.7      1475.0   \nLincoln                   85.634             125.070         14.6       790.0   \nMercedes-B               117.125             476.250         30.8      2090.0   \nMercury                  237.999             124.490         18.9       983.0   \nMitsubishi               180.895             155.172         19.6      1156.0   \nNissan                   399.635             156.525         20.4      1183.0   \nOldsmobile               178.989             153.737         20.7      1140.0   \nPlymouth                  64.001              90.570          9.9       667.0   \nPontiac                  370.534             137.695         20.6      1110.0   \nPorsche                   12.128             187.420          9.5       817.0   \nSaab                      21.306              59.220          4.3       355.0   \nSaturn                   168.850              71.355         10.1       598.0   \nSubaru                    80.135              42.790          5.0       330.0   \nToyota                   740.205             197.846         23.6      1446.0   \nVolkswagen               209.212             106.190         11.8       725.0   \nVolvo                     75.740             185.600         13.8      1093.0   \n\n              Fuel_capacity  \nManufacturer                 \nAcura                  65.6  \nAudi                   58.6  \nBMW                    51.7  \nBuick                  71.0  \nCadillac              104.0  \nChevrolet             139.3  \nChrysler               98.9  \nDodge                 237.4  \nFord                  209.7  \nHonda                  85.4  \nHyundai                43.6  \nInfiniti               18.5  \nJaguar                 18.4  \nJeep                   59.5  \nLexus                 123.2  \nLincoln                69.0  \nMercedes-B            170.3  \nMercury               107.0  \nMitsubishi            128.0  \nNissan                127.4  \nOldsmobile            109.2  \nPlymouth               60.5  \nPontiac               107.5  \nPorsche                51.0  \nSaab                   35.4  \nSaturn                 62.5  \nSubaru                 32.8  \nToyota                159.9  \nVolkswagen             88.2  \nVolvo                 107.0  ",
      "text/html": "<div>\n<style scoped>\n    .dataframe tbody tr th:only-of-type {\n        vertical-align: middle;\n    }\n\n    .dataframe tbody tr th {\n        vertical-align: top;\n    }\n\n    .dataframe thead th {\n        text-align: right;\n    }\n</style>\n<table border=\"1\" class=\"dataframe\">\n  <thead>\n    <tr style=\"text-align: right;\">\n      <th></th>\n      <th>Sales_in_thousands</th>\n      <th>Price_in_thousands</th>\n      <th>Engine_size</th>\n      <th>Horsepower</th>\n      <th>Fuel_capacity</th>\n    </tr>\n    <tr>\n      <th>Manufacturer</th>\n      <th></th>\n      <th></th>\n      <th></th>\n      <th></th>\n      <th></th>\n    </tr>\n  </thead>\n  <tbody>\n    <tr>\n      <th>Acura</th>\n      <td>79.005</td>\n      <td>91.900</td>\n      <td>11.7</td>\n      <td>800.0</td>\n      <td>65.6</td>\n    </tr>\n    <tr>\n      <th>Audi</th>\n      <td>40.557</td>\n      <td>119.940</td>\n      <td>8.8</td>\n      <td>660.0</td>\n      <td>58.6</td>\n    </tr>\n    <tr>\n      <th>BMW</th>\n      <td>46.505</td>\n      <td>99.290</td>\n      <td>8.1</td>\n      <td>556.0</td>\n      <td>51.7</td>\n    </tr>\n    <tr>\n      <th>Buick</th>\n      <td>242.019</td>\n      <td>107.125</td>\n      <td>14.5</td>\n      <td>825.0</td>\n      <td>71.0</td>\n    </tr>\n    <tr>\n      <th>Cadillac</th>\n      <td>112.178</td>\n      <td>201.270</td>\n      <td>22.5</td>\n      <td>1280.0</td>\n      <td>104.0</td>\n    </tr>\n    <tr>\n      <th>Chevrolet</th>\n      <td>554.365</td>\n      <td>180.205</td>\n      <td>27.5</td>\n      <td>1540.0</td>\n      <td>139.3</td>\n    </tr>\n    <tr>\n      <th>Chrysler</th>\n      <td>201.721</td>\n      <td>140.585</td>\n      <td>16.7</td>\n      <td>1169.0</td>\n      <td>98.9</td>\n    </tr>\n    <tr>\n      <th>Dodge</th>\n      <td>910.149</td>\n      <td>266.350</td>\n      <td>40.8</td>\n      <td>2195.0</td>\n      <td>237.4</td>\n    </tr>\n    <tr>\n      <th>Ford</th>\n      <td>2022.635</td>\n      <td>231.520</td>\n      <td>36.6</td>\n      <td>1871.0</td>\n      <td>209.7</td>\n    </tr>\n    <tr>\n      <th>Honda</th>\n      <td>592.674</td>\n      <td>101.385</td>\n      <td>12.6</td>\n      <td>802.0</td>\n      <td>85.4</td>\n    </tr>\n    <tr>\n      <th>Hyundai</th>\n      <td>137.326</td>\n      <td>36.497</td>\n      <td>5.9</td>\n      <td>380.0</td>\n      <td>43.6</td>\n    </tr>\n    <tr>\n      <th>Infiniti</th>\n      <td>23.713</td>\n      <td>29.465</td>\n      <td>3.0</td>\n      <td>227.0</td>\n      <td>18.5</td>\n    </tr>\n    <tr>\n      <th>Jaguar</th>\n      <td>15.467</td>\n      <td>42.800</td>\n      <td>3.0</td>\n      <td>240.0</td>\n      <td>18.4</td>\n    </tr>\n    <tr>\n      <th>Jeep</th>\n      <td>293.153</td>\n      <td>62.975</td>\n      <td>10.5</td>\n      <td>505.0</td>\n      <td>59.5</td>\n    </tr>\n    <tr>\n      <th>Lexus</th>\n      <td>106.843</td>\n      <td>264.330</td>\n      <td>21.7</td>\n      <td>1475.0</td>\n      <td>123.2</td>\n    </tr>\n    <tr>\n      <th>Lincoln</th>\n      <td>85.634</td>\n      <td>125.070</td>\n      <td>14.6</td>\n      <td>790.0</td>\n      <td>69.0</td>\n    </tr>\n    <tr>\n      <th>Mercedes-B</th>\n      <td>117.125</td>\n      <td>476.250</td>\n      <td>30.8</td>\n      <td>2090.0</td>\n      <td>170.3</td>\n    </tr>\n    <tr>\n      <th>Mercury</th>\n      <td>237.999</td>\n      <td>124.490</td>\n      <td>18.9</td>\n      <td>983.0</td>\n      <td>107.0</td>\n    </tr>\n    <tr>\n      <th>Mitsubishi</th>\n      <td>180.895</td>\n      <td>155.172</td>\n      <td>19.6</td>\n      <td>1156.0</td>\n      <td>128.0</td>\n    </tr>\n    <tr>\n      <th>Nissan</th>\n      <td>399.635</td>\n      <td>156.525</td>\n      <td>20.4</td>\n      <td>1183.0</td>\n      <td>127.4</td>\n    </tr>\n    <tr>\n      <th>Oldsmobile</th>\n      <td>178.989</td>\n      <td>153.737</td>\n      <td>20.7</td>\n      <td>1140.0</td>\n      <td>109.2</td>\n    </tr>\n    <tr>\n      <th>Plymouth</th>\n      <td>64.001</td>\n      <td>90.570</td>\n      <td>9.9</td>\n      <td>667.0</td>\n      <td>60.5</td>\n    </tr>\n    <tr>\n      <th>Pontiac</th>\n      <td>370.534</td>\n      <td>137.695</td>\n      <td>20.6</td>\n      <td>1110.0</td>\n      <td>107.5</td>\n    </tr>\n    <tr>\n      <th>Porsche</th>\n      <td>12.128</td>\n      <td>187.420</td>\n      <td>9.5</td>\n      <td>817.0</td>\n      <td>51.0</td>\n    </tr>\n    <tr>\n      <th>Saab</th>\n      <td>21.306</td>\n      <td>59.220</td>\n      <td>4.3</td>\n      <td>355.0</td>\n      <td>35.4</td>\n    </tr>\n    <tr>\n      <th>Saturn</th>\n      <td>168.850</td>\n      <td>71.355</td>\n      <td>10.1</td>\n      <td>598.0</td>\n      <td>62.5</td>\n    </tr>\n    <tr>\n      <th>Subaru</th>\n      <td>80.135</td>\n      <td>42.790</td>\n      <td>5.0</td>\n      <td>330.0</td>\n      <td>32.8</td>\n    </tr>\n    <tr>\n      <th>Toyota</th>\n      <td>740.205</td>\n      <td>197.846</td>\n      <td>23.6</td>\n      <td>1446.0</td>\n      <td>159.9</td>\n    </tr>\n    <tr>\n      <th>Volkswagen</th>\n      <td>209.212</td>\n      <td>106.190</td>\n      <td>11.8</td>\n      <td>725.0</td>\n      <td>88.2</td>\n    </tr>\n    <tr>\n      <th>Volvo</th>\n      <td>75.740</td>\n      <td>185.600</td>\n      <td>13.8</td>\n      <td>1093.0</td>\n      <td>107.0</td>\n    </tr>\n  </tbody>\n</table>\n</div>"
     },
     "execution_count": 68,
     "metadata": {},
     "output_type": "execute_result"
    }
   ],
   "source": [
    "df_cars.groupby('Manufacturer').sum('Manufacturer')"
   ],
   "metadata": {
    "collapsed": false
   }
  },
  {
   "cell_type": "code",
   "execution_count": 71,
   "outputs": [
    {
     "data": {
      "text/plain": "Manufacturer\nAcura           79.005\nAudi            40.557\nBMW             46.505\nBuick          242.019\nCadillac       112.178\nChevrolet      554.365\nChrysler       201.721\nDodge          910.149\nFord          2022.635\nHonda          592.674\nHyundai        137.326\nInfiniti        23.713\nJaguar          15.467\nJeep           293.153\nLexus          106.843\nLincoln         85.634\nMercedes-B     117.125\nMercury        237.999\nMitsubishi     180.895\nNissan         399.635\nOldsmobile     178.989\nPlymouth        64.001\nPontiac        370.534\nPorsche         12.128\nSaab            21.306\nSaturn         168.850\nSubaru          80.135\nToyota         740.205\nVolkswagen     209.212\nVolvo           75.740\nName: Sales_in_thousands, dtype: float64"
     },
     "execution_count": 71,
     "metadata": {},
     "output_type": "execute_result"
    }
   ],
   "source": [
    "df_cars.groupby('Manufacturer').sum('Manufacturer')['Sales_in_thousands']"
   ],
   "metadata": {
    "collapsed": false
   }
  },
  {
   "cell_type": "code",
   "execution_count": null,
   "outputs": [],
   "source": [],
   "metadata": {
    "collapsed": false
   }
  }
 ],
 "metadata": {
  "kernelspec": {
   "display_name": "Python 3",
   "language": "python",
   "name": "python3"
  },
  "language_info": {
   "codemirror_mode": {
    "name": "ipython",
    "version": 2
   },
   "file_extension": ".py",
   "mimetype": "text/x-python",
   "name": "python",
   "nbconvert_exporter": "python",
   "pygments_lexer": "ipython2",
   "version": "2.7.6"
  }
 },
 "nbformat": 4,
 "nbformat_minor": 0
}
