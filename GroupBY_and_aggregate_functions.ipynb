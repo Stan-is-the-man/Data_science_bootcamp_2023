{
 "cells": [
  {
   "cell_type": "code",
   "execution_count": 2,
   "metadata": {
    "collapsed": true
   },
   "outputs": [],
   "source": [
    "import pandas as pd"
   ]
  },
  {
   "cell_type": "code",
   "execution_count": 3,
   "outputs": [
    {
     "data": {
      "text/plain": "    Manufacturer    Model  Sales_in_thousands  __year_resale_value   \n0          Acura  Integra              16.919               16.360  \\\n1          Acura       TL              39.384               19.875   \n2          Acura       CL              14.114               18.225   \n3          Acura       RL               8.588               29.725   \n4           Audi       A4              20.397               22.255   \n..           ...      ...                 ...                  ...   \n152        Volvo      V40               3.545                  NaN   \n153        Volvo      S70              15.245                  NaN   \n154        Volvo      V70              17.531                  NaN   \n155        Volvo      C70               3.493                  NaN   \n156        Volvo      S80              18.969                  NaN   \n\n    Vehicle_type  Price_in_thousands  Engine_size  Horsepower  Wheelbase   \n0      Passenger               21.50          1.8       140.0      101.2  \\\n1      Passenger               28.40          3.2       225.0      108.1   \n2      Passenger                 NaN          3.2       225.0      106.9   \n3      Passenger               42.00          3.5       210.0      114.6   \n4      Passenger               23.99          1.8       150.0      102.6   \n..           ...                 ...          ...         ...        ...   \n152    Passenger               24.40          1.9       160.0      100.5   \n153    Passenger               27.50          2.4       168.0      104.9   \n154    Passenger               28.80          2.4       168.0      104.9   \n155    Passenger               45.50          2.3       236.0      104.9   \n156    Passenger               36.00          2.9       201.0      109.9   \n\n     Width  Length  Curb_weight  Fuel_capacity  Fuel_efficiency Latest_Launch   \n0     67.3   172.4        2.639           13.2             28.0      2/2/2012  \\\n1     70.3   192.9        3.517           17.2             25.0      6/3/2011   \n2     70.6   192.0        3.470           17.2             26.0      1/4/2012   \n3     71.4   196.6        3.850           18.0             22.0     3/10/2011   \n4     68.2   178.0        2.998           16.4             27.0     10/8/2011   \n..     ...     ...          ...            ...              ...           ...   \n152   67.6   176.6        3.042           15.8             25.0     9/21/2011   \n153   69.3   185.9        3.208           17.9             25.0    11/24/2012   \n154   69.3   186.2        3.259           17.9             25.0     6/25/2011   \n155   71.5   185.7        3.601           18.5             23.0     4/26/2011   \n156   72.1   189.8        3.600           21.1             24.0    11/14/2011   \n\n     Power_perf_factor  \n0            58.280150  \n1            91.370778  \n2                  NaN  \n3            91.389779  \n4            62.777639  \n..                 ...  \n152          66.498812  \n153          70.654495  \n154          71.155978  \n155         101.623357  \n156          85.735655  \n\n[157 rows x 16 columns]",
      "text/html": "<div>\n<style scoped>\n    .dataframe tbody tr th:only-of-type {\n        vertical-align: middle;\n    }\n\n    .dataframe tbody tr th {\n        vertical-align: top;\n    }\n\n    .dataframe thead th {\n        text-align: right;\n    }\n</style>\n<table border=\"1\" class=\"dataframe\">\n  <thead>\n    <tr style=\"text-align: right;\">\n      <th></th>\n      <th>Manufacturer</th>\n      <th>Model</th>\n      <th>Sales_in_thousands</th>\n      <th>__year_resale_value</th>\n      <th>Vehicle_type</th>\n      <th>Price_in_thousands</th>\n      <th>Engine_size</th>\n      <th>Horsepower</th>\n      <th>Wheelbase</th>\n      <th>Width</th>\n      <th>Length</th>\n      <th>Curb_weight</th>\n      <th>Fuel_capacity</th>\n      <th>Fuel_efficiency</th>\n      <th>Latest_Launch</th>\n      <th>Power_perf_factor</th>\n    </tr>\n  </thead>\n  <tbody>\n    <tr>\n      <th>0</th>\n      <td>Acura</td>\n      <td>Integra</td>\n      <td>16.919</td>\n      <td>16.360</td>\n      <td>Passenger</td>\n      <td>21.50</td>\n      <td>1.8</td>\n      <td>140.0</td>\n      <td>101.2</td>\n      <td>67.3</td>\n      <td>172.4</td>\n      <td>2.639</td>\n      <td>13.2</td>\n      <td>28.0</td>\n      <td>2/2/2012</td>\n      <td>58.280150</td>\n    </tr>\n    <tr>\n      <th>1</th>\n      <td>Acura</td>\n      <td>TL</td>\n      <td>39.384</td>\n      <td>19.875</td>\n      <td>Passenger</td>\n      <td>28.40</td>\n      <td>3.2</td>\n      <td>225.0</td>\n      <td>108.1</td>\n      <td>70.3</td>\n      <td>192.9</td>\n      <td>3.517</td>\n      <td>17.2</td>\n      <td>25.0</td>\n      <td>6/3/2011</td>\n      <td>91.370778</td>\n    </tr>\n    <tr>\n      <th>2</th>\n      <td>Acura</td>\n      <td>CL</td>\n      <td>14.114</td>\n      <td>18.225</td>\n      <td>Passenger</td>\n      <td>NaN</td>\n      <td>3.2</td>\n      <td>225.0</td>\n      <td>106.9</td>\n      <td>70.6</td>\n      <td>192.0</td>\n      <td>3.470</td>\n      <td>17.2</td>\n      <td>26.0</td>\n      <td>1/4/2012</td>\n      <td>NaN</td>\n    </tr>\n    <tr>\n      <th>3</th>\n      <td>Acura</td>\n      <td>RL</td>\n      <td>8.588</td>\n      <td>29.725</td>\n      <td>Passenger</td>\n      <td>42.00</td>\n      <td>3.5</td>\n      <td>210.0</td>\n      <td>114.6</td>\n      <td>71.4</td>\n      <td>196.6</td>\n      <td>3.850</td>\n      <td>18.0</td>\n      <td>22.0</td>\n      <td>3/10/2011</td>\n      <td>91.389779</td>\n    </tr>\n    <tr>\n      <th>4</th>\n      <td>Audi</td>\n      <td>A4</td>\n      <td>20.397</td>\n      <td>22.255</td>\n      <td>Passenger</td>\n      <td>23.99</td>\n      <td>1.8</td>\n      <td>150.0</td>\n      <td>102.6</td>\n      <td>68.2</td>\n      <td>178.0</td>\n      <td>2.998</td>\n      <td>16.4</td>\n      <td>27.0</td>\n      <td>10/8/2011</td>\n      <td>62.777639</td>\n    </tr>\n    <tr>\n      <th>...</th>\n      <td>...</td>\n      <td>...</td>\n      <td>...</td>\n      <td>...</td>\n      <td>...</td>\n      <td>...</td>\n      <td>...</td>\n      <td>...</td>\n      <td>...</td>\n      <td>...</td>\n      <td>...</td>\n      <td>...</td>\n      <td>...</td>\n      <td>...</td>\n      <td>...</td>\n      <td>...</td>\n    </tr>\n    <tr>\n      <th>152</th>\n      <td>Volvo</td>\n      <td>V40</td>\n      <td>3.545</td>\n      <td>NaN</td>\n      <td>Passenger</td>\n      <td>24.40</td>\n      <td>1.9</td>\n      <td>160.0</td>\n      <td>100.5</td>\n      <td>67.6</td>\n      <td>176.6</td>\n      <td>3.042</td>\n      <td>15.8</td>\n      <td>25.0</td>\n      <td>9/21/2011</td>\n      <td>66.498812</td>\n    </tr>\n    <tr>\n      <th>153</th>\n      <td>Volvo</td>\n      <td>S70</td>\n      <td>15.245</td>\n      <td>NaN</td>\n      <td>Passenger</td>\n      <td>27.50</td>\n      <td>2.4</td>\n      <td>168.0</td>\n      <td>104.9</td>\n      <td>69.3</td>\n      <td>185.9</td>\n      <td>3.208</td>\n      <td>17.9</td>\n      <td>25.0</td>\n      <td>11/24/2012</td>\n      <td>70.654495</td>\n    </tr>\n    <tr>\n      <th>154</th>\n      <td>Volvo</td>\n      <td>V70</td>\n      <td>17.531</td>\n      <td>NaN</td>\n      <td>Passenger</td>\n      <td>28.80</td>\n      <td>2.4</td>\n      <td>168.0</td>\n      <td>104.9</td>\n      <td>69.3</td>\n      <td>186.2</td>\n      <td>3.259</td>\n      <td>17.9</td>\n      <td>25.0</td>\n      <td>6/25/2011</td>\n      <td>71.155978</td>\n    </tr>\n    <tr>\n      <th>155</th>\n      <td>Volvo</td>\n      <td>C70</td>\n      <td>3.493</td>\n      <td>NaN</td>\n      <td>Passenger</td>\n      <td>45.50</td>\n      <td>2.3</td>\n      <td>236.0</td>\n      <td>104.9</td>\n      <td>71.5</td>\n      <td>185.7</td>\n      <td>3.601</td>\n      <td>18.5</td>\n      <td>23.0</td>\n      <td>4/26/2011</td>\n      <td>101.623357</td>\n    </tr>\n    <tr>\n      <th>156</th>\n      <td>Volvo</td>\n      <td>S80</td>\n      <td>18.969</td>\n      <td>NaN</td>\n      <td>Passenger</td>\n      <td>36.00</td>\n      <td>2.9</td>\n      <td>201.0</td>\n      <td>109.9</td>\n      <td>72.1</td>\n      <td>189.8</td>\n      <td>3.600</td>\n      <td>21.1</td>\n      <td>24.0</td>\n      <td>11/14/2011</td>\n      <td>85.735655</td>\n    </tr>\n  </tbody>\n</table>\n<p>157 rows × 16 columns</p>\n</div>"
     },
     "execution_count": 3,
     "metadata": {},
     "output_type": "execute_result"
    }
   ],
   "source": [
    "df_cars = pd.read_csv('Car_sales.csv')\n",
    "df_cars"
   ],
   "metadata": {
    "collapsed": false
   }
  },
  {
   "cell_type": "code",
   "execution_count": 4,
   "outputs": [],
   "source": [
    "df_cars = df_cars[['Manufacturer', 'Model', 'Sales_in_thousands', 'Vehicle_type',\n",
    "                   'Price_in_thousands', 'Engine_size', 'Horsepower', 'Fuel_capacity']]\n"
   ],
   "metadata": {
    "collapsed": false
   }
  },
  {
   "cell_type": "code",
   "execution_count": 5,
   "outputs": [
    {
     "data": {
      "text/plain": "Manufacturer          AcuraAcuraAcuraAcuraAudiAudiAudiBMWBMWBMWBuick...\nModel                 IntegraTLCLRLA4A6A8323i328i528iCenturyRegalPar...\nSales_in_thousands                                             8320.698\nVehicle_type          PassengerPassengerPassengerPassengerPassengerP...\nPrice_in_thousands                                             4245.567\nEngine_size                                                       477.5\nHorsepower                                                      29008.0\nFuel_capacity                                                    2800.5\ndtype: object"
     },
     "execution_count": 5,
     "metadata": {},
     "output_type": "execute_result"
    }
   ],
   "source": [
    "df_cars.agg('sum')"
   ],
   "metadata": {
    "collapsed": false
   }
  },
  {
   "cell_type": "code",
   "execution_count": 6,
   "outputs": [
    {
     "data": {
      "text/plain": "                                          Manufacturer   \nsum  AcuraAcuraAcuraAcuraAudiAudiAudiBMWBMWBMWBuick...  \\\nmax                                              Volvo   \nmin                                              Acura   \n\n                                                 Model  Sales_in_thousands   \nsum  IntegraTLCLRLA4A6A8323i328i528iCenturyRegalPar...            8320.698  \\\nmax                                             Xterra             540.561   \nmin                                              3-Sep               0.110   \n\n                                          Vehicle_type  Price_in_thousands   \nsum  PassengerPassengerPassengerPassengerPassengerP...            4245.567  \\\nmax                                          Passenger              85.500   \nmin                                                Car               9.235   \n\n     Engine_size  Horsepower  Fuel_capacity  \nsum        477.5     29008.0         2800.5  \nmax          8.0       450.0           32.0  \nmin          1.0        55.0           10.3  ",
      "text/html": "<div>\n<style scoped>\n    .dataframe tbody tr th:only-of-type {\n        vertical-align: middle;\n    }\n\n    .dataframe tbody tr th {\n        vertical-align: top;\n    }\n\n    .dataframe thead th {\n        text-align: right;\n    }\n</style>\n<table border=\"1\" class=\"dataframe\">\n  <thead>\n    <tr style=\"text-align: right;\">\n      <th></th>\n      <th>Manufacturer</th>\n      <th>Model</th>\n      <th>Sales_in_thousands</th>\n      <th>Vehicle_type</th>\n      <th>Price_in_thousands</th>\n      <th>Engine_size</th>\n      <th>Horsepower</th>\n      <th>Fuel_capacity</th>\n    </tr>\n  </thead>\n  <tbody>\n    <tr>\n      <th>sum</th>\n      <td>AcuraAcuraAcuraAcuraAudiAudiAudiBMWBMWBMWBuick...</td>\n      <td>IntegraTLCLRLA4A6A8323i328i528iCenturyRegalPar...</td>\n      <td>8320.698</td>\n      <td>PassengerPassengerPassengerPassengerPassengerP...</td>\n      <td>4245.567</td>\n      <td>477.5</td>\n      <td>29008.0</td>\n      <td>2800.5</td>\n    </tr>\n    <tr>\n      <th>max</th>\n      <td>Volvo</td>\n      <td>Xterra</td>\n      <td>540.561</td>\n      <td>Passenger</td>\n      <td>85.500</td>\n      <td>8.0</td>\n      <td>450.0</td>\n      <td>32.0</td>\n    </tr>\n    <tr>\n      <th>min</th>\n      <td>Acura</td>\n      <td>3-Sep</td>\n      <td>0.110</td>\n      <td>Car</td>\n      <td>9.235</td>\n      <td>1.0</td>\n      <td>55.0</td>\n      <td>10.3</td>\n    </tr>\n  </tbody>\n</table>\n</div>"
     },
     "execution_count": 6,
     "metadata": {},
     "output_type": "execute_result"
    }
   ],
   "source": [
    "df_cars.agg(['sum', 'max', 'min'])"
   ],
   "metadata": {
    "collapsed": false
   }
  },
  {
   "cell_type": "code",
   "execution_count": 7,
   "outputs": [
    {
     "data": {
      "text/plain": "55.0"
     },
     "execution_count": 7,
     "metadata": {},
     "output_type": "execute_result"
    }
   ],
   "source": [
    "df_cars['Horsepower'].agg('min')"
   ],
   "metadata": {
    "collapsed": false
   }
  },
  {
   "cell_type": "code",
   "execution_count": 8,
   "outputs": [
    {
     "data": {
      "text/plain": "max     85.500000\nmin      9.235000\nmean    27.390755\nName: Price_in_thousands, dtype: float64"
     },
     "execution_count": 8,
     "metadata": {},
     "output_type": "execute_result"
    }
   ],
   "source": [
    "df_cars['Price_in_thousands'].agg(['max', 'min', 'mean'])"
   ],
   "metadata": {
    "collapsed": false
   }
  },
  {
   "cell_type": "code",
   "execution_count": 9,
   "outputs": [
    {
     "data": {
      "text/plain": "    Manufacturer    Model  Sales_in_thousands Vehicle_type   \n0          Acura  Integra              16.919    Passenger  \\\n1          Acura       TL              39.384    Passenger   \n2          Acura       CL              14.114    Passenger   \n3          Acura       RL               8.588    Passenger   \n4           Audi       A4              20.397    Passenger   \n..           ...      ...                 ...          ...   \n152        Volvo      V40               3.545    Passenger   \n153        Volvo      S70              15.245    Passenger   \n154        Volvo      V70              17.531    Passenger   \n155        Volvo      C70               3.493    Passenger   \n156        Volvo      S80              18.969    Passenger   \n\n     Price_in_thousands  Engine_size  Horsepower  Fuel_capacity  \n0                 21.50          1.8       140.0           13.2  \n1                 28.40          3.2       225.0           17.2  \n2                   NaN          3.2       225.0           17.2  \n3                 42.00          3.5       210.0           18.0  \n4                 23.99          1.8       150.0           16.4  \n..                  ...          ...         ...            ...  \n152               24.40          1.9       160.0           15.8  \n153               27.50          2.4       168.0           17.9  \n154               28.80          2.4       168.0           17.9  \n155               45.50          2.3       236.0           18.5  \n156               36.00          2.9       201.0           21.1  \n\n[157 rows x 8 columns]",
      "text/html": "<div>\n<style scoped>\n    .dataframe tbody tr th:only-of-type {\n        vertical-align: middle;\n    }\n\n    .dataframe tbody tr th {\n        vertical-align: top;\n    }\n\n    .dataframe thead th {\n        text-align: right;\n    }\n</style>\n<table border=\"1\" class=\"dataframe\">\n  <thead>\n    <tr style=\"text-align: right;\">\n      <th></th>\n      <th>Manufacturer</th>\n      <th>Model</th>\n      <th>Sales_in_thousands</th>\n      <th>Vehicle_type</th>\n      <th>Price_in_thousands</th>\n      <th>Engine_size</th>\n      <th>Horsepower</th>\n      <th>Fuel_capacity</th>\n    </tr>\n  </thead>\n  <tbody>\n    <tr>\n      <th>0</th>\n      <td>Acura</td>\n      <td>Integra</td>\n      <td>16.919</td>\n      <td>Passenger</td>\n      <td>21.50</td>\n      <td>1.8</td>\n      <td>140.0</td>\n      <td>13.2</td>\n    </tr>\n    <tr>\n      <th>1</th>\n      <td>Acura</td>\n      <td>TL</td>\n      <td>39.384</td>\n      <td>Passenger</td>\n      <td>28.40</td>\n      <td>3.2</td>\n      <td>225.0</td>\n      <td>17.2</td>\n    </tr>\n    <tr>\n      <th>2</th>\n      <td>Acura</td>\n      <td>CL</td>\n      <td>14.114</td>\n      <td>Passenger</td>\n      <td>NaN</td>\n      <td>3.2</td>\n      <td>225.0</td>\n      <td>17.2</td>\n    </tr>\n    <tr>\n      <th>3</th>\n      <td>Acura</td>\n      <td>RL</td>\n      <td>8.588</td>\n      <td>Passenger</td>\n      <td>42.00</td>\n      <td>3.5</td>\n      <td>210.0</td>\n      <td>18.0</td>\n    </tr>\n    <tr>\n      <th>4</th>\n      <td>Audi</td>\n      <td>A4</td>\n      <td>20.397</td>\n      <td>Passenger</td>\n      <td>23.99</td>\n      <td>1.8</td>\n      <td>150.0</td>\n      <td>16.4</td>\n    </tr>\n    <tr>\n      <th>...</th>\n      <td>...</td>\n      <td>...</td>\n      <td>...</td>\n      <td>...</td>\n      <td>...</td>\n      <td>...</td>\n      <td>...</td>\n      <td>...</td>\n    </tr>\n    <tr>\n      <th>152</th>\n      <td>Volvo</td>\n      <td>V40</td>\n      <td>3.545</td>\n      <td>Passenger</td>\n      <td>24.40</td>\n      <td>1.9</td>\n      <td>160.0</td>\n      <td>15.8</td>\n    </tr>\n    <tr>\n      <th>153</th>\n      <td>Volvo</td>\n      <td>S70</td>\n      <td>15.245</td>\n      <td>Passenger</td>\n      <td>27.50</td>\n      <td>2.4</td>\n      <td>168.0</td>\n      <td>17.9</td>\n    </tr>\n    <tr>\n      <th>154</th>\n      <td>Volvo</td>\n      <td>V70</td>\n      <td>17.531</td>\n      <td>Passenger</td>\n      <td>28.80</td>\n      <td>2.4</td>\n      <td>168.0</td>\n      <td>17.9</td>\n    </tr>\n    <tr>\n      <th>155</th>\n      <td>Volvo</td>\n      <td>C70</td>\n      <td>3.493</td>\n      <td>Passenger</td>\n      <td>45.50</td>\n      <td>2.3</td>\n      <td>236.0</td>\n      <td>18.5</td>\n    </tr>\n    <tr>\n      <th>156</th>\n      <td>Volvo</td>\n      <td>S80</td>\n      <td>18.969</td>\n      <td>Passenger</td>\n      <td>36.00</td>\n      <td>2.9</td>\n      <td>201.0</td>\n      <td>21.1</td>\n    </tr>\n  </tbody>\n</table>\n<p>157 rows × 8 columns</p>\n</div>"
     },
     "execution_count": 9,
     "metadata": {},
     "output_type": "execute_result"
    }
   ],
   "source": [
    "df_cars"
   ],
   "metadata": {
    "collapsed": false
   }
  },
  {
   "cell_type": "code",
   "execution_count": 10,
   "outputs": [
    {
     "data": {
      "text/plain": "      Sales_in_thousands  Price_in_thousands  Engine_size\nmax              540.561                 NaN          NaN\nsum                  NaN         4245.567000          NaN\nmean                 NaN           27.390755     3.060897",
      "text/html": "<div>\n<style scoped>\n    .dataframe tbody tr th:only-of-type {\n        vertical-align: middle;\n    }\n\n    .dataframe tbody tr th {\n        vertical-align: top;\n    }\n\n    .dataframe thead th {\n        text-align: right;\n    }\n</style>\n<table border=\"1\" class=\"dataframe\">\n  <thead>\n    <tr style=\"text-align: right;\">\n      <th></th>\n      <th>Sales_in_thousands</th>\n      <th>Price_in_thousands</th>\n      <th>Engine_size</th>\n    </tr>\n  </thead>\n  <tbody>\n    <tr>\n      <th>max</th>\n      <td>540.561</td>\n      <td>NaN</td>\n      <td>NaN</td>\n    </tr>\n    <tr>\n      <th>sum</th>\n      <td>NaN</td>\n      <td>4245.567000</td>\n      <td>NaN</td>\n    </tr>\n    <tr>\n      <th>mean</th>\n      <td>NaN</td>\n      <td>27.390755</td>\n      <td>3.060897</td>\n    </tr>\n  </tbody>\n</table>\n</div>"
     },
     "execution_count": 10,
     "metadata": {},
     "output_type": "execute_result"
    }
   ],
   "source": [
    "df_cars.agg({'Sales_in_thousands': 'max',\n",
    "             'Price_in_thousands': ['sum', 'mean'],\n",
    "             'Engine_size': 'mean'}\n",
    "            )"
   ],
   "metadata": {
    "collapsed": false
   }
  },
  {
   "cell_type": "code",
   "execution_count": 11,
   "outputs": [
    {
     "data": {
      "text/plain": "                Model  Sales_in_thousands Vehicle_type  Price_in_thousands   \nManufacturer                                                                 \nAcura         Integra              16.919    Passenger               21.50  \\\nAcura              TL              39.384    Passenger               28.40   \nAcura              CL              14.114    Passenger                 NaN   \nAcura              RL               8.588    Passenger               42.00   \nAudi               A4              20.397    Passenger               23.99   \n...               ...                 ...          ...                 ...   \nVolvo             V40               3.545    Passenger               24.40   \nVolvo             S70              15.245    Passenger               27.50   \nVolvo             V70              17.531    Passenger               28.80   \nVolvo             C70               3.493    Passenger               45.50   \nVolvo             S80              18.969    Passenger               36.00   \n\n              Engine_size  Horsepower  Fuel_capacity  \nManufacturer                                          \nAcura                 1.8       140.0           13.2  \nAcura                 3.2       225.0           17.2  \nAcura                 3.2       225.0           17.2  \nAcura                 3.5       210.0           18.0  \nAudi                  1.8       150.0           16.4  \n...                   ...         ...            ...  \nVolvo                 1.9       160.0           15.8  \nVolvo                 2.4       168.0           17.9  \nVolvo                 2.4       168.0           17.9  \nVolvo                 2.3       236.0           18.5  \nVolvo                 2.9       201.0           21.1  \n\n[157 rows x 7 columns]",
      "text/html": "<div>\n<style scoped>\n    .dataframe tbody tr th:only-of-type {\n        vertical-align: middle;\n    }\n\n    .dataframe tbody tr th {\n        vertical-align: top;\n    }\n\n    .dataframe thead th {\n        text-align: right;\n    }\n</style>\n<table border=\"1\" class=\"dataframe\">\n  <thead>\n    <tr style=\"text-align: right;\">\n      <th></th>\n      <th>Model</th>\n      <th>Sales_in_thousands</th>\n      <th>Vehicle_type</th>\n      <th>Price_in_thousands</th>\n      <th>Engine_size</th>\n      <th>Horsepower</th>\n      <th>Fuel_capacity</th>\n    </tr>\n    <tr>\n      <th>Manufacturer</th>\n      <th></th>\n      <th></th>\n      <th></th>\n      <th></th>\n      <th></th>\n      <th></th>\n      <th></th>\n    </tr>\n  </thead>\n  <tbody>\n    <tr>\n      <th>Acura</th>\n      <td>Integra</td>\n      <td>16.919</td>\n      <td>Passenger</td>\n      <td>21.50</td>\n      <td>1.8</td>\n      <td>140.0</td>\n      <td>13.2</td>\n    </tr>\n    <tr>\n      <th>Acura</th>\n      <td>TL</td>\n      <td>39.384</td>\n      <td>Passenger</td>\n      <td>28.40</td>\n      <td>3.2</td>\n      <td>225.0</td>\n      <td>17.2</td>\n    </tr>\n    <tr>\n      <th>Acura</th>\n      <td>CL</td>\n      <td>14.114</td>\n      <td>Passenger</td>\n      <td>NaN</td>\n      <td>3.2</td>\n      <td>225.0</td>\n      <td>17.2</td>\n    </tr>\n    <tr>\n      <th>Acura</th>\n      <td>RL</td>\n      <td>8.588</td>\n      <td>Passenger</td>\n      <td>42.00</td>\n      <td>3.5</td>\n      <td>210.0</td>\n      <td>18.0</td>\n    </tr>\n    <tr>\n      <th>Audi</th>\n      <td>A4</td>\n      <td>20.397</td>\n      <td>Passenger</td>\n      <td>23.99</td>\n      <td>1.8</td>\n      <td>150.0</td>\n      <td>16.4</td>\n    </tr>\n    <tr>\n      <th>...</th>\n      <td>...</td>\n      <td>...</td>\n      <td>...</td>\n      <td>...</td>\n      <td>...</td>\n      <td>...</td>\n      <td>...</td>\n    </tr>\n    <tr>\n      <th>Volvo</th>\n      <td>V40</td>\n      <td>3.545</td>\n      <td>Passenger</td>\n      <td>24.40</td>\n      <td>1.9</td>\n      <td>160.0</td>\n      <td>15.8</td>\n    </tr>\n    <tr>\n      <th>Volvo</th>\n      <td>S70</td>\n      <td>15.245</td>\n      <td>Passenger</td>\n      <td>27.50</td>\n      <td>2.4</td>\n      <td>168.0</td>\n      <td>17.9</td>\n    </tr>\n    <tr>\n      <th>Volvo</th>\n      <td>V70</td>\n      <td>17.531</td>\n      <td>Passenger</td>\n      <td>28.80</td>\n      <td>2.4</td>\n      <td>168.0</td>\n      <td>17.9</td>\n    </tr>\n    <tr>\n      <th>Volvo</th>\n      <td>C70</td>\n      <td>3.493</td>\n      <td>Passenger</td>\n      <td>45.50</td>\n      <td>2.3</td>\n      <td>236.0</td>\n      <td>18.5</td>\n    </tr>\n    <tr>\n      <th>Volvo</th>\n      <td>S80</td>\n      <td>18.969</td>\n      <td>Passenger</td>\n      <td>36.00</td>\n      <td>2.9</td>\n      <td>201.0</td>\n      <td>21.1</td>\n    </tr>\n  </tbody>\n</table>\n<p>157 rows × 7 columns</p>\n</div>"
     },
     "execution_count": 11,
     "metadata": {},
     "output_type": "execute_result"
    }
   ],
   "source": [
    "df_cars.set_index('Manufacturer')"
   ],
   "metadata": {
    "collapsed": false
   }
  },
  {
   "cell_type": "code",
   "execution_count": 12,
   "outputs": [
    {
     "data": {
      "text/plain": "0      38.419\n1      67.784\n2      14.114\n3      50.588\n4      44.387\n        ...  \n152    27.945\n153    42.745\n154    46.331\n155    48.993\n156    54.969\nLength: 157, dtype: float64"
     },
     "execution_count": 12,
     "metadata": {},
     "output_type": "execute_result"
    }
   ],
   "source": [
    "df_cars[['Sales_in_thousands', 'Price_in_thousands']].agg('sum',axis=1)"
   ],
   "metadata": {
    "collapsed": false
   }
  },
  {
   "cell_type": "markdown",
   "source": [],
   "metadata": {
    "collapsed": false
   }
  },
  {
   "cell_type": "code",
   "execution_count": 13,
   "outputs": [
    {
     "data": {
      "text/plain": "0      38.419\n1      67.784\n2         NaN\n3      50.588\n4      44.387\n        ...  \n152    27.945\n153    42.745\n154    46.331\n155    48.993\n156    54.969\nLength: 157, dtype: float64"
     },
     "execution_count": 13,
     "metadata": {},
     "output_type": "execute_result"
    }
   ],
   "source": [
    "df_cars['Sales_in_thousands'] + df_cars['Price_in_thousands']"
   ],
   "metadata": {
    "collapsed": false
   }
  },
  {
   "cell_type": "code",
   "execution_count": 14,
   "outputs": [],
   "source": [
    "vehicle_type_car = df_cars['Vehicle_type'] == 'Car'\n",
    "vehicle_type_passanger = df_cars['Vehicle_type'] == 'Passanger'"
   ],
   "metadata": {
    "collapsed": false
   }
  },
  {
   "cell_type": "markdown",
   "source": [],
   "metadata": {
    "collapsed": false
   }
  },
  {
   "cell_type": "code",
   "execution_count": 15,
   "outputs": [
    {
     "data": {
      "text/plain": "Engine_size     140.8\nHorsepower     7456.0\ndtype: float64"
     },
     "execution_count": 15,
     "metadata": {},
     "output_type": "execute_result"
    }
   ],
   "source": [
    "df_cars[vehicle_type_car][['Engine_size', 'Horsepower']].agg('sum')"
   ],
   "metadata": {
    "collapsed": false
   }
  },
  {
   "cell_type": "code",
   "execution_count": 19,
   "outputs": [],
   "source": [
    "df_bikes = pd.DataFrame(\n",
    "    {'Name':['Honda', 'Yamaha'],\n",
    "     'Model': ['Hornet', 'FRX']\n",
    "     }\n",
    ")"
   ],
   "metadata": {
    "collapsed": false
   }
  },
  {
   "cell_type": "code",
   "execution_count": 22,
   "outputs": [],
   "source": [
    "df_bikes = df_bikes.set_index('Name')"
   ],
   "metadata": {
    "collapsed": false
   }
  },
  {
   "cell_type": "code",
   "execution_count": 24,
   "outputs": [],
   "source": [
    "df_bikes['Year'] = [1992,2000]"
   ],
   "metadata": {
    "collapsed": false
   }
  },
  {
   "cell_type": "code",
   "execution_count": 25,
   "outputs": [
    {
     "data": {
      "text/plain": "         Model  Year\nName                \nHonda   Hornet  1992\nYamaha     FRX  2000",
      "text/html": "<div>\n<style scoped>\n    .dataframe tbody tr th:only-of-type {\n        vertical-align: middle;\n    }\n\n    .dataframe tbody tr th {\n        vertical-align: top;\n    }\n\n    .dataframe thead th {\n        text-align: right;\n    }\n</style>\n<table border=\"1\" class=\"dataframe\">\n  <thead>\n    <tr style=\"text-align: right;\">\n      <th></th>\n      <th>Model</th>\n      <th>Year</th>\n    </tr>\n    <tr>\n      <th>Name</th>\n      <th></th>\n      <th></th>\n    </tr>\n  </thead>\n  <tbody>\n    <tr>\n      <th>Honda</th>\n      <td>Hornet</td>\n      <td>1992</td>\n    </tr>\n    <tr>\n      <th>Yamaha</th>\n      <td>FRX</td>\n      <td>2000</td>\n    </tr>\n  </tbody>\n</table>\n</div>"
     },
     "execution_count": 25,
     "metadata": {},
     "output_type": "execute_result"
    }
   ],
   "source": [
    "df_bikes"
   ],
   "metadata": {
    "collapsed": false
   }
  },
  {
   "cell_type": "code",
   "execution_count": 28,
   "outputs": [],
   "source": [
    "df_bikes['Year'] = [2020,2022]"
   ],
   "metadata": {
    "collapsed": false
   }
  },
  {
   "cell_type": "code",
   "execution_count": 29,
   "outputs": [
    {
     "data": {
      "text/plain": "         Model  Year\nName                \nHonda   Hornet     0\nYamaha     FRX     1",
      "text/html": "<div>\n<style scoped>\n    .dataframe tbody tr th:only-of-type {\n        vertical-align: middle;\n    }\n\n    .dataframe tbody tr th {\n        vertical-align: top;\n    }\n\n    .dataframe thead th {\n        text-align: right;\n    }\n</style>\n<table border=\"1\" class=\"dataframe\">\n  <thead>\n    <tr style=\"text-align: right;\">\n      <th></th>\n      <th>Model</th>\n      <th>Year</th>\n    </tr>\n    <tr>\n      <th>Name</th>\n      <th></th>\n      <th></th>\n    </tr>\n  </thead>\n  <tbody>\n    <tr>\n      <th>Honda</th>\n      <td>Hornet</td>\n      <td>0</td>\n    </tr>\n    <tr>\n      <th>Yamaha</th>\n      <td>FRX</td>\n      <td>1</td>\n    </tr>\n  </tbody>\n</table>\n</div>"
     },
     "execution_count": 29,
     "metadata": {},
     "output_type": "execute_result"
    }
   ],
   "source": [
    "df_bikes"
   ],
   "metadata": {
    "collapsed": false
   }
  },
  {
   "cell_type": "code",
   "execution_count": 31,
   "outputs": [
    {
     "data": {
      "text/plain": "<pandas.core.groupby.generic.DataFrameGroupBy object at 0x000001969183D2B0>"
     },
     "execution_count": 31,
     "metadata": {},
     "output_type": "execute_result"
    }
   ],
   "source": [],
   "metadata": {
    "collapsed": false
   }
  },
  {
   "cell_type": "code",
   "execution_count": null,
   "outputs": [],
   "source": [],
   "metadata": {
    "collapsed": false
   }
  }
 ],
 "metadata": {
  "kernelspec": {
   "display_name": "Python 3",
   "language": "python",
   "name": "python3"
  },
  "language_info": {
   "codemirror_mode": {
    "name": "ipython",
    "version": 2
   },
   "file_extension": ".py",
   "mimetype": "text/x-python",
   "name": "python",
   "nbconvert_exporter": "python",
   "pygments_lexer": "ipython2",
   "version": "2.7.6"
  }
 },
 "nbformat": 4,
 "nbformat_minor": 0
}
