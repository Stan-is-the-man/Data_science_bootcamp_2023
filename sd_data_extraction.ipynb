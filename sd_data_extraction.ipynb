{
 "cells": [
  {
   "cell_type": "code",
   "execution_count": 121,
   "metadata": {
    "collapsed": true
   },
   "outputs": [],
   "source": [
    "import pandas as pd"
   ]
  },
  {
   "cell_type": "code",
   "execution_count": 122,
   "outputs": [],
   "source": [
    "df_players = pd.read_csv('players_20.csv')"
   ],
   "metadata": {
    "collapsed": false
   }
  },
  {
   "cell_type": "code",
   "execution_count": 123,
   "outputs": [
    {
     "data": {
      "text/plain": "       sofifa_id                                         player_url   \n0         158023  https://sofifa.com/player/158023/lionel-messi/...  \\\n1          20801  https://sofifa.com/player/20801/c-ronaldo-dos-...   \n2         190871  https://sofifa.com/player/190871/neymar-da-sil...   \n3         200389  https://sofifa.com/player/200389/jan-oblak/20/...   \n4         183277  https://sofifa.com/player/183277/eden-hazard/2...   \n...          ...                                                ...   \n18273     245006  https://sofifa.com/player/245006/shuai-shao/20...   \n18274     250995  https://sofifa.com/player/250995/mingjie-xiao/...   \n18275     252332  https://sofifa.com/player/252332/wei-zhang/20/...   \n18276     251110  https://sofifa.com/player/251110/haijian-wang/...   \n18277     233449  https://sofifa.com/player/233449/ximing-pan/20...   \n\n              short_name                            long_name  age   \n0               L. Messi       Lionel Andrés Messi Cuccittini   32  \\\n1      Cristiano Ronaldo  Cristiano Ronaldo dos Santos Aveiro   34   \n2              Neymar Jr        Neymar da Silva Santos Junior   27   \n3               J. Oblak                            Jan Oblak   26   \n4              E. Hazard                          Eden Hazard   28   \n...                  ...                                  ...  ...   \n18273         Shao Shuai                                   邵帅   22   \n18274       Xiao Mingjie                         Mingjie Xiao   22   \n18275          Zhang Wei                                   张威   19   \n18276       Wang Haijian                                  汪海健   18   \n18277         Pan Ximing                                  潘喜明   26   \n\n              dob  height_cm  weight_kg nationality   \n0      1987-06-24        170         72   Argentina  \\\n1      1985-02-05        187         83    Portugal   \n2      1992-02-05        175         68      Brazil   \n3      1993-01-07        188         87    Slovenia   \n4      1991-01-07        175         74     Belgium   \n...           ...        ...        ...         ...   \n18273  1997-03-10        186         79    China PR   \n18274  1997-01-01        177         66    China PR   \n18275  2000-05-16        186         75    China PR   \n18276  2000-08-02        185         74    China PR   \n18277  1993-01-11        182         78    China PR   \n\n                                club  ...   lwb   ldm   cdm   rdm   rwb    lb   \n0                       FC Barcelona  ...  68+2  66+2  66+2  66+2  68+2  63+2  \\\n1                           Juventus  ...  65+3  61+3  61+3  61+3  65+3  61+3   \n2                Paris Saint-Germain  ...  66+3  61+3  61+3  61+3  66+3  61+3   \n3                    Atlético Madrid  ...   NaN   NaN   NaN   NaN   NaN   NaN   \n4                        Real Madrid  ...  66+3  63+3  63+3  63+3  66+3  61+3   \n...                              ...  ...   ...   ...   ...   ...   ...   ...   \n18273               Beijing Renhe FC  ...  43+2  42+2  42+2  42+2  43+2  45+2   \n18274               Shanghai SIPG FC  ...  44+2  43+2  43+2  43+2  44+2  46+2   \n18275         Hebei China Fortune FC  ...  47+2  49+2  49+2  49+2  47+2  47+2   \n18276  Shanghai Greenland Shenhua FC  ...  48+2  48+2  48+2  48+2  48+2  48+2   \n18277         Hebei China Fortune FC  ...  48+2  49+2  49+2  49+2  48+2  48+2   \n\n        lcb    cb   rcb    rb  \n0      52+2  52+2  52+2  63+2  \n1      53+3  53+3  53+3  61+3  \n2      46+3  46+3  46+3  61+3  \n3       NaN   NaN   NaN   NaN  \n4      49+3  49+3  49+3  61+3  \n...     ...   ...   ...   ...  \n18273  46+2  46+2  46+2  45+2  \n18274  47+2  47+2  47+2  46+2  \n18275  49+2  49+2  49+2  47+2  \n18276  49+2  49+2  49+2  48+2  \n18277  50+2  50+2  50+2  48+2  \n\n[18278 rows x 104 columns]",
      "text/html": "<div>\n<style scoped>\n    .dataframe tbody tr th:only-of-type {\n        vertical-align: middle;\n    }\n\n    .dataframe tbody tr th {\n        vertical-align: top;\n    }\n\n    .dataframe thead th {\n        text-align: right;\n    }\n</style>\n<table border=\"1\" class=\"dataframe\">\n  <thead>\n    <tr style=\"text-align: right;\">\n      <th></th>\n      <th>sofifa_id</th>\n      <th>player_url</th>\n      <th>short_name</th>\n      <th>long_name</th>\n      <th>age</th>\n      <th>dob</th>\n      <th>height_cm</th>\n      <th>weight_kg</th>\n      <th>nationality</th>\n      <th>club</th>\n      <th>...</th>\n      <th>lwb</th>\n      <th>ldm</th>\n      <th>cdm</th>\n      <th>rdm</th>\n      <th>rwb</th>\n      <th>lb</th>\n      <th>lcb</th>\n      <th>cb</th>\n      <th>rcb</th>\n      <th>rb</th>\n    </tr>\n  </thead>\n  <tbody>\n    <tr>\n      <th>0</th>\n      <td>158023</td>\n      <td>https://sofifa.com/player/158023/lionel-messi/...</td>\n      <td>L. Messi</td>\n      <td>Lionel Andrés Messi Cuccittini</td>\n      <td>32</td>\n      <td>1987-06-24</td>\n      <td>170</td>\n      <td>72</td>\n      <td>Argentina</td>\n      <td>FC Barcelona</td>\n      <td>...</td>\n      <td>68+2</td>\n      <td>66+2</td>\n      <td>66+2</td>\n      <td>66+2</td>\n      <td>68+2</td>\n      <td>63+2</td>\n      <td>52+2</td>\n      <td>52+2</td>\n      <td>52+2</td>\n      <td>63+2</td>\n    </tr>\n    <tr>\n      <th>1</th>\n      <td>20801</td>\n      <td>https://sofifa.com/player/20801/c-ronaldo-dos-...</td>\n      <td>Cristiano Ronaldo</td>\n      <td>Cristiano Ronaldo dos Santos Aveiro</td>\n      <td>34</td>\n      <td>1985-02-05</td>\n      <td>187</td>\n      <td>83</td>\n      <td>Portugal</td>\n      <td>Juventus</td>\n      <td>...</td>\n      <td>65+3</td>\n      <td>61+3</td>\n      <td>61+3</td>\n      <td>61+3</td>\n      <td>65+3</td>\n      <td>61+3</td>\n      <td>53+3</td>\n      <td>53+3</td>\n      <td>53+3</td>\n      <td>61+3</td>\n    </tr>\n    <tr>\n      <th>2</th>\n      <td>190871</td>\n      <td>https://sofifa.com/player/190871/neymar-da-sil...</td>\n      <td>Neymar Jr</td>\n      <td>Neymar da Silva Santos Junior</td>\n      <td>27</td>\n      <td>1992-02-05</td>\n      <td>175</td>\n      <td>68</td>\n      <td>Brazil</td>\n      <td>Paris Saint-Germain</td>\n      <td>...</td>\n      <td>66+3</td>\n      <td>61+3</td>\n      <td>61+3</td>\n      <td>61+3</td>\n      <td>66+3</td>\n      <td>61+3</td>\n      <td>46+3</td>\n      <td>46+3</td>\n      <td>46+3</td>\n      <td>61+3</td>\n    </tr>\n    <tr>\n      <th>3</th>\n      <td>200389</td>\n      <td>https://sofifa.com/player/200389/jan-oblak/20/...</td>\n      <td>J. Oblak</td>\n      <td>Jan Oblak</td>\n      <td>26</td>\n      <td>1993-01-07</td>\n      <td>188</td>\n      <td>87</td>\n      <td>Slovenia</td>\n      <td>Atlético Madrid</td>\n      <td>...</td>\n      <td>NaN</td>\n      <td>NaN</td>\n      <td>NaN</td>\n      <td>NaN</td>\n      <td>NaN</td>\n      <td>NaN</td>\n      <td>NaN</td>\n      <td>NaN</td>\n      <td>NaN</td>\n      <td>NaN</td>\n    </tr>\n    <tr>\n      <th>4</th>\n      <td>183277</td>\n      <td>https://sofifa.com/player/183277/eden-hazard/2...</td>\n      <td>E. Hazard</td>\n      <td>Eden Hazard</td>\n      <td>28</td>\n      <td>1991-01-07</td>\n      <td>175</td>\n      <td>74</td>\n      <td>Belgium</td>\n      <td>Real Madrid</td>\n      <td>...</td>\n      <td>66+3</td>\n      <td>63+3</td>\n      <td>63+3</td>\n      <td>63+3</td>\n      <td>66+3</td>\n      <td>61+3</td>\n      <td>49+3</td>\n      <td>49+3</td>\n      <td>49+3</td>\n      <td>61+3</td>\n    </tr>\n    <tr>\n      <th>...</th>\n      <td>...</td>\n      <td>...</td>\n      <td>...</td>\n      <td>...</td>\n      <td>...</td>\n      <td>...</td>\n      <td>...</td>\n      <td>...</td>\n      <td>...</td>\n      <td>...</td>\n      <td>...</td>\n      <td>...</td>\n      <td>...</td>\n      <td>...</td>\n      <td>...</td>\n      <td>...</td>\n      <td>...</td>\n      <td>...</td>\n      <td>...</td>\n      <td>...</td>\n      <td>...</td>\n    </tr>\n    <tr>\n      <th>18273</th>\n      <td>245006</td>\n      <td>https://sofifa.com/player/245006/shuai-shao/20...</td>\n      <td>Shao Shuai</td>\n      <td>邵帅</td>\n      <td>22</td>\n      <td>1997-03-10</td>\n      <td>186</td>\n      <td>79</td>\n      <td>China PR</td>\n      <td>Beijing Renhe FC</td>\n      <td>...</td>\n      <td>43+2</td>\n      <td>42+2</td>\n      <td>42+2</td>\n      <td>42+2</td>\n      <td>43+2</td>\n      <td>45+2</td>\n      <td>46+2</td>\n      <td>46+2</td>\n      <td>46+2</td>\n      <td>45+2</td>\n    </tr>\n    <tr>\n      <th>18274</th>\n      <td>250995</td>\n      <td>https://sofifa.com/player/250995/mingjie-xiao/...</td>\n      <td>Xiao Mingjie</td>\n      <td>Mingjie Xiao</td>\n      <td>22</td>\n      <td>1997-01-01</td>\n      <td>177</td>\n      <td>66</td>\n      <td>China PR</td>\n      <td>Shanghai SIPG FC</td>\n      <td>...</td>\n      <td>44+2</td>\n      <td>43+2</td>\n      <td>43+2</td>\n      <td>43+2</td>\n      <td>44+2</td>\n      <td>46+2</td>\n      <td>47+2</td>\n      <td>47+2</td>\n      <td>47+2</td>\n      <td>46+2</td>\n    </tr>\n    <tr>\n      <th>18275</th>\n      <td>252332</td>\n      <td>https://sofifa.com/player/252332/wei-zhang/20/...</td>\n      <td>Zhang Wei</td>\n      <td>张威</td>\n      <td>19</td>\n      <td>2000-05-16</td>\n      <td>186</td>\n      <td>75</td>\n      <td>China PR</td>\n      <td>Hebei China Fortune FC</td>\n      <td>...</td>\n      <td>47+2</td>\n      <td>49+2</td>\n      <td>49+2</td>\n      <td>49+2</td>\n      <td>47+2</td>\n      <td>47+2</td>\n      <td>49+2</td>\n      <td>49+2</td>\n      <td>49+2</td>\n      <td>47+2</td>\n    </tr>\n    <tr>\n      <th>18276</th>\n      <td>251110</td>\n      <td>https://sofifa.com/player/251110/haijian-wang/...</td>\n      <td>Wang Haijian</td>\n      <td>汪海健</td>\n      <td>18</td>\n      <td>2000-08-02</td>\n      <td>185</td>\n      <td>74</td>\n      <td>China PR</td>\n      <td>Shanghai Greenland Shenhua FC</td>\n      <td>...</td>\n      <td>48+2</td>\n      <td>48+2</td>\n      <td>48+2</td>\n      <td>48+2</td>\n      <td>48+2</td>\n      <td>48+2</td>\n      <td>49+2</td>\n      <td>49+2</td>\n      <td>49+2</td>\n      <td>48+2</td>\n    </tr>\n    <tr>\n      <th>18277</th>\n      <td>233449</td>\n      <td>https://sofifa.com/player/233449/ximing-pan/20...</td>\n      <td>Pan Ximing</td>\n      <td>潘喜明</td>\n      <td>26</td>\n      <td>1993-01-11</td>\n      <td>182</td>\n      <td>78</td>\n      <td>China PR</td>\n      <td>Hebei China Fortune FC</td>\n      <td>...</td>\n      <td>48+2</td>\n      <td>49+2</td>\n      <td>49+2</td>\n      <td>49+2</td>\n      <td>48+2</td>\n      <td>48+2</td>\n      <td>50+2</td>\n      <td>50+2</td>\n      <td>50+2</td>\n      <td>48+2</td>\n    </tr>\n  </tbody>\n</table>\n<p>18278 rows × 104 columns</p>\n</div>"
     },
     "execution_count": 123,
     "metadata": {},
     "output_type": "execute_result"
    }
   ],
   "source": [
    "df_players"
   ],
   "metadata": {
    "collapsed": false
   }
  },
  {
   "cell_type": "code",
   "execution_count": 124,
   "outputs": [],
   "source": [
    "df_players.set_index('short_name', inplace= True)"
   ],
   "metadata": {
    "collapsed": false
   }
  },
  {
   "cell_type": "code",
   "execution_count": 125,
   "outputs": [],
   "source": [
    "df_players = df_players[['long_name', 'age', 'dob', 'height_cm', 'weight_kg', 'nationality', 'club']]"
   ],
   "metadata": {
    "collapsed": false
   }
  },
  {
   "cell_type": "code",
   "execution_count": 126,
   "outputs": [
    {
     "data": {
      "text/plain": "                                             long_name  age         dob   \nshort_name                                                                \nL. Messi                Lionel Andrés Messi Cuccittini   32  1987-06-24  \\\nCristiano Ronaldo  Cristiano Ronaldo dos Santos Aveiro   34  1985-02-05   \nNeymar Jr                Neymar da Silva Santos Junior   27  1992-02-05   \nJ. Oblak                                     Jan Oblak   26  1993-01-07   \nE. Hazard                                  Eden Hazard   28  1991-01-07   \n...                                                ...  ...         ...   \nShao Shuai                                          邵帅   22  1997-03-10   \nXiao Mingjie                              Mingjie Xiao   22  1997-01-01   \nZhang Wei                                           张威   19  2000-05-16   \nWang Haijian                                       汪海健   18  2000-08-02   \nPan Ximing                                         潘喜明   26  1993-01-11   \n\n                   height_cm  weight_kg nationality   \nshort_name                                            \nL. Messi                 170         72   Argentina  \\\nCristiano Ronaldo        187         83    Portugal   \nNeymar Jr                175         68      Brazil   \nJ. Oblak                 188         87    Slovenia   \nE. Hazard                175         74     Belgium   \n...                      ...        ...         ...   \nShao Shuai               186         79    China PR   \nXiao Mingjie             177         66    China PR   \nZhang Wei                186         75    China PR   \nWang Haijian             185         74    China PR   \nPan Ximing               182         78    China PR   \n\n                                            club  \nshort_name                                        \nL. Messi                            FC Barcelona  \nCristiano Ronaldo                       Juventus  \nNeymar Jr                    Paris Saint-Germain  \nJ. Oblak                         Atlético Madrid  \nE. Hazard                            Real Madrid  \n...                                          ...  \nShao Shuai                      Beijing Renhe FC  \nXiao Mingjie                    Shanghai SIPG FC  \nZhang Wei                 Hebei China Fortune FC  \nWang Haijian       Shanghai Greenland Shenhua FC  \nPan Ximing                Hebei China Fortune FC  \n\n[18278 rows x 7 columns]",
      "text/html": "<div>\n<style scoped>\n    .dataframe tbody tr th:only-of-type {\n        vertical-align: middle;\n    }\n\n    .dataframe tbody tr th {\n        vertical-align: top;\n    }\n\n    .dataframe thead th {\n        text-align: right;\n    }\n</style>\n<table border=\"1\" class=\"dataframe\">\n  <thead>\n    <tr style=\"text-align: right;\">\n      <th></th>\n      <th>long_name</th>\n      <th>age</th>\n      <th>dob</th>\n      <th>height_cm</th>\n      <th>weight_kg</th>\n      <th>nationality</th>\n      <th>club</th>\n    </tr>\n    <tr>\n      <th>short_name</th>\n      <th></th>\n      <th></th>\n      <th></th>\n      <th></th>\n      <th></th>\n      <th></th>\n      <th></th>\n    </tr>\n  </thead>\n  <tbody>\n    <tr>\n      <th>L. Messi</th>\n      <td>Lionel Andrés Messi Cuccittini</td>\n      <td>32</td>\n      <td>1987-06-24</td>\n      <td>170</td>\n      <td>72</td>\n      <td>Argentina</td>\n      <td>FC Barcelona</td>\n    </tr>\n    <tr>\n      <th>Cristiano Ronaldo</th>\n      <td>Cristiano Ronaldo dos Santos Aveiro</td>\n      <td>34</td>\n      <td>1985-02-05</td>\n      <td>187</td>\n      <td>83</td>\n      <td>Portugal</td>\n      <td>Juventus</td>\n    </tr>\n    <tr>\n      <th>Neymar Jr</th>\n      <td>Neymar da Silva Santos Junior</td>\n      <td>27</td>\n      <td>1992-02-05</td>\n      <td>175</td>\n      <td>68</td>\n      <td>Brazil</td>\n      <td>Paris Saint-Germain</td>\n    </tr>\n    <tr>\n      <th>J. Oblak</th>\n      <td>Jan Oblak</td>\n      <td>26</td>\n      <td>1993-01-07</td>\n      <td>188</td>\n      <td>87</td>\n      <td>Slovenia</td>\n      <td>Atlético Madrid</td>\n    </tr>\n    <tr>\n      <th>E. Hazard</th>\n      <td>Eden Hazard</td>\n      <td>28</td>\n      <td>1991-01-07</td>\n      <td>175</td>\n      <td>74</td>\n      <td>Belgium</td>\n      <td>Real Madrid</td>\n    </tr>\n    <tr>\n      <th>...</th>\n      <td>...</td>\n      <td>...</td>\n      <td>...</td>\n      <td>...</td>\n      <td>...</td>\n      <td>...</td>\n      <td>...</td>\n    </tr>\n    <tr>\n      <th>Shao Shuai</th>\n      <td>邵帅</td>\n      <td>22</td>\n      <td>1997-03-10</td>\n      <td>186</td>\n      <td>79</td>\n      <td>China PR</td>\n      <td>Beijing Renhe FC</td>\n    </tr>\n    <tr>\n      <th>Xiao Mingjie</th>\n      <td>Mingjie Xiao</td>\n      <td>22</td>\n      <td>1997-01-01</td>\n      <td>177</td>\n      <td>66</td>\n      <td>China PR</td>\n      <td>Shanghai SIPG FC</td>\n    </tr>\n    <tr>\n      <th>Zhang Wei</th>\n      <td>张威</td>\n      <td>19</td>\n      <td>2000-05-16</td>\n      <td>186</td>\n      <td>75</td>\n      <td>China PR</td>\n      <td>Hebei China Fortune FC</td>\n    </tr>\n    <tr>\n      <th>Wang Haijian</th>\n      <td>汪海健</td>\n      <td>18</td>\n      <td>2000-08-02</td>\n      <td>185</td>\n      <td>74</td>\n      <td>China PR</td>\n      <td>Shanghai Greenland Shenhua FC</td>\n    </tr>\n    <tr>\n      <th>Pan Ximing</th>\n      <td>潘喜明</td>\n      <td>26</td>\n      <td>1993-01-11</td>\n      <td>182</td>\n      <td>78</td>\n      <td>China PR</td>\n      <td>Hebei China Fortune FC</td>\n    </tr>\n  </tbody>\n</table>\n<p>18278 rows × 7 columns</p>\n</div>"
     },
     "execution_count": 126,
     "metadata": {},
     "output_type": "execute_result"
    }
   ],
   "source": [
    "df_players"
   ],
   "metadata": {
    "collapsed": false
   }
  },
  {
   "cell_type": "code",
   "execution_count": 127,
   "outputs": [
    {
     "data": {
      "text/plain": "long_name      Lionel Andrés Messi Cuccittini\nage                                        32\ndob                                1987-06-24\nheight_cm                                 170\nweight_kg                                  72\nnationality                         Argentina\nclub                             FC Barcelona\nName: L. Messi, dtype: object"
     },
     "execution_count": 127,
     "metadata": {},
     "output_type": "execute_result"
    }
   ],
   "source": [
    "# get all data for Messi\n",
    "df_players.loc['L. Messi']"
   ],
   "metadata": {
    "collapsed": false
   }
  },
  {
   "cell_type": "code",
   "execution_count": 128,
   "outputs": [
    {
     "data": {
      "text/plain": "long_name      Lionel Andrés Messi Cuccittini\nage                                        32\ndob                                1987-06-24\nheight_cm                                 170\nweight_kg                                  72\nnationality                         Argentina\nclub                             FC Barcelona\nName: L. Messi, dtype: object"
     },
     "execution_count": 128,
     "metadata": {},
     "output_type": "execute_result"
    }
   ],
   "source": [
    "df_players.iloc[0]"
   ],
   "metadata": {
    "collapsed": false
   }
  },
  {
   "cell_type": "code",
   "execution_count": 129,
   "outputs": [
    {
     "data": {
      "text/plain": "32"
     },
     "execution_count": 129,
     "metadata": {},
     "output_type": "execute_result"
    }
   ],
   "source": [
    "df_players.loc['L. Messi', 'age']"
   ],
   "metadata": {
    "collapsed": false
   }
  },
  {
   "cell_type": "code",
   "execution_count": 130,
   "outputs": [
    {
     "data": {
      "text/plain": "32"
     },
     "execution_count": 130,
     "metadata": {},
     "output_type": "execute_result"
    }
   ],
   "source": [
    "df_players.iloc[0,1]"
   ],
   "metadata": {
    "collapsed": false
   }
  },
  {
   "cell_type": "code",
   "execution_count": 131,
   "outputs": [
    {
     "data": {
      "text/plain": "'Argentina'"
     },
     "execution_count": 131,
     "metadata": {},
     "output_type": "execute_result"
    }
   ],
   "source": [
    "df_players.loc['L. Messi', 'nationality']"
   ],
   "metadata": {
    "collapsed": false
   }
  },
  {
   "cell_type": "code",
   "execution_count": 132,
   "outputs": [
    {
     "data": {
      "text/plain": "long_name      Lionel Andrés Messi Cuccittini\nage                                        32\ndob                                1987-06-24\nheight_cm                                 170\nweight_kg                                  72\nnationality                         Argentina\nclub                             FC Barcelona\nName: L. Messi, dtype: object"
     },
     "execution_count": 132,
     "metadata": {},
     "output_type": "execute_result"
    }
   ],
   "source": [
    "df_players.loc['L. Messi', :]"
   ],
   "metadata": {
    "collapsed": false
   }
  },
  {
   "cell_type": "code",
   "execution_count": 133,
   "outputs": [
    {
     "data": {
      "text/plain": "                                             long_name  age         dob   \nshort_name                                                                \nL. Messi                Lionel Andrés Messi Cuccittini   32  1987-06-24  \\\nCristiano Ronaldo  Cristiano Ronaldo dos Santos Aveiro   34  1985-02-05   \n\n                   height_cm  weight_kg nationality          club  \nshort_name                                                         \nL. Messi                 170         72   Argentina  FC Barcelona  \nCristiano Ronaldo        187         83    Portugal      Juventus  ",
      "text/html": "<div>\n<style scoped>\n    .dataframe tbody tr th:only-of-type {\n        vertical-align: middle;\n    }\n\n    .dataframe tbody tr th {\n        vertical-align: top;\n    }\n\n    .dataframe thead th {\n        text-align: right;\n    }\n</style>\n<table border=\"1\" class=\"dataframe\">\n  <thead>\n    <tr style=\"text-align: right;\">\n      <th></th>\n      <th>long_name</th>\n      <th>age</th>\n      <th>dob</th>\n      <th>height_cm</th>\n      <th>weight_kg</th>\n      <th>nationality</th>\n      <th>club</th>\n    </tr>\n    <tr>\n      <th>short_name</th>\n      <th></th>\n      <th></th>\n      <th></th>\n      <th></th>\n      <th></th>\n      <th></th>\n      <th></th>\n    </tr>\n  </thead>\n  <tbody>\n    <tr>\n      <th>L. Messi</th>\n      <td>Lionel Andrés Messi Cuccittini</td>\n      <td>32</td>\n      <td>1987-06-24</td>\n      <td>170</td>\n      <td>72</td>\n      <td>Argentina</td>\n      <td>FC Barcelona</td>\n    </tr>\n    <tr>\n      <th>Cristiano Ronaldo</th>\n      <td>Cristiano Ronaldo dos Santos Aveiro</td>\n      <td>34</td>\n      <td>1985-02-05</td>\n      <td>187</td>\n      <td>83</td>\n      <td>Portugal</td>\n      <td>Juventus</td>\n    </tr>\n  </tbody>\n</table>\n</div>"
     },
     "execution_count": 133,
     "metadata": {},
     "output_type": "execute_result"
    }
   ],
   "source": [
    "df_players.loc[['L. Messi', 'Cristiano Ronaldo']]"
   ],
   "metadata": {
    "collapsed": false
   }
  },
  {
   "cell_type": "code",
   "execution_count": 134,
   "outputs": [
    {
     "data": {
      "text/plain": "                   age         dob\nshort_name                        \nL. Messi            32  1987-06-24\nCristiano Ronaldo   34  1985-02-05",
      "text/html": "<div>\n<style scoped>\n    .dataframe tbody tr th:only-of-type {\n        vertical-align: middle;\n    }\n\n    .dataframe tbody tr th {\n        vertical-align: top;\n    }\n\n    .dataframe thead th {\n        text-align: right;\n    }\n</style>\n<table border=\"1\" class=\"dataframe\">\n  <thead>\n    <tr style=\"text-align: right;\">\n      <th></th>\n      <th>age</th>\n      <th>dob</th>\n    </tr>\n    <tr>\n      <th>short_name</th>\n      <th></th>\n      <th></th>\n    </tr>\n  </thead>\n  <tbody>\n    <tr>\n      <th>L. Messi</th>\n      <td>32</td>\n      <td>1987-06-24</td>\n    </tr>\n    <tr>\n      <th>Cristiano Ronaldo</th>\n      <td>34</td>\n      <td>1985-02-05</td>\n    </tr>\n  </tbody>\n</table>\n</div>"
     },
     "execution_count": 134,
     "metadata": {},
     "output_type": "execute_result"
    }
   ],
   "source": [
    "df_players.loc[['L. Messi', 'Cristiano Ronaldo'], ['age', 'dob']]"
   ],
   "metadata": {
    "collapsed": false
   }
  },
  {
   "cell_type": "code",
   "execution_count": 135,
   "outputs": [
    {
     "data": {
      "text/plain": "            age         dob\nshort_name                 \nL. Messi     32  1987-06-24",
      "text/html": "<div>\n<style scoped>\n    .dataframe tbody tr th:only-of-type {\n        vertical-align: middle;\n    }\n\n    .dataframe tbody tr th {\n        vertical-align: top;\n    }\n\n    .dataframe thead th {\n        text-align: right;\n    }\n</style>\n<table border=\"1\" class=\"dataframe\">\n  <thead>\n    <tr style=\"text-align: right;\">\n      <th></th>\n      <th>age</th>\n      <th>dob</th>\n    </tr>\n    <tr>\n      <th>short_name</th>\n      <th></th>\n      <th></th>\n    </tr>\n  </thead>\n  <tbody>\n    <tr>\n      <th>L. Messi</th>\n      <td>32</td>\n      <td>1987-06-24</td>\n    </tr>\n  </tbody>\n</table>\n</div>"
     },
     "execution_count": 135,
     "metadata": {},
     "output_type": "execute_result"
    }
   ],
   "source": [
    "df_players.loc[['L. Messi'], ['age', 'dob']]"
   ],
   "metadata": {
    "collapsed": false
   }
  },
  {
   "cell_type": "code",
   "execution_count": 136,
   "outputs": [
    {
     "data": {
      "text/plain": "                                             long_name  age         dob   \nshort_name                                                                \nL. Messi                Lionel Andrés Messi Cuccittini   32  1987-06-24  \\\nCristiano Ronaldo  Cristiano Ronaldo dos Santos Aveiro   34  1985-02-05   \nNeymar Jr                Neymar da Silva Santos Junior   27  1992-02-05   \nJ. Oblak                                     Jan Oblak   26  1993-01-07   \nE. Hazard                                  Eden Hazard   28  1991-01-07   \n...                                                ...  ...         ...   \nShao Shuai                                          邵帅   22  1997-03-10   \nXiao Mingjie                              Mingjie Xiao   22  1997-01-01   \nZhang Wei                                           张威   19  2000-05-16   \nWang Haijian                                       汪海健   18  2000-08-02   \nPan Ximing                                         潘喜明   26  1993-01-11   \n\n                   height_cm  weight_kg nationality   \nshort_name                                            \nL. Messi                 170         72   Argentina  \\\nCristiano Ronaldo        187         83    Portugal   \nNeymar Jr                175         68      Brazil   \nJ. Oblak                 188         87    Slovenia   \nE. Hazard                175         74     Belgium   \n...                      ...        ...         ...   \nShao Shuai               186         79    China PR   \nXiao Mingjie             177         66    China PR   \nZhang Wei                186         75    China PR   \nWang Haijian             185         74    China PR   \nPan Ximing               182         78    China PR   \n\n                                            club  \nshort_name                                        \nL. Messi                            FC Barcelona  \nCristiano Ronaldo                       Juventus  \nNeymar Jr                    Paris Saint-Germain  \nJ. Oblak                         Atlético Madrid  \nE. Hazard                            Real Madrid  \n...                                          ...  \nShao Shuai                      Beijing Renhe FC  \nXiao Mingjie                    Shanghai SIPG FC  \nZhang Wei                 Hebei China Fortune FC  \nWang Haijian       Shanghai Greenland Shenhua FC  \nPan Ximing                Hebei China Fortune FC  \n\n[18278 rows x 7 columns]",
      "text/html": "<div>\n<style scoped>\n    .dataframe tbody tr th:only-of-type {\n        vertical-align: middle;\n    }\n\n    .dataframe tbody tr th {\n        vertical-align: top;\n    }\n\n    .dataframe thead th {\n        text-align: right;\n    }\n</style>\n<table border=\"1\" class=\"dataframe\">\n  <thead>\n    <tr style=\"text-align: right;\">\n      <th></th>\n      <th>long_name</th>\n      <th>age</th>\n      <th>dob</th>\n      <th>height_cm</th>\n      <th>weight_kg</th>\n      <th>nationality</th>\n      <th>club</th>\n    </tr>\n    <tr>\n      <th>short_name</th>\n      <th></th>\n      <th></th>\n      <th></th>\n      <th></th>\n      <th></th>\n      <th></th>\n      <th></th>\n    </tr>\n  </thead>\n  <tbody>\n    <tr>\n      <th>L. Messi</th>\n      <td>Lionel Andrés Messi Cuccittini</td>\n      <td>32</td>\n      <td>1987-06-24</td>\n      <td>170</td>\n      <td>72</td>\n      <td>Argentina</td>\n      <td>FC Barcelona</td>\n    </tr>\n    <tr>\n      <th>Cristiano Ronaldo</th>\n      <td>Cristiano Ronaldo dos Santos Aveiro</td>\n      <td>34</td>\n      <td>1985-02-05</td>\n      <td>187</td>\n      <td>83</td>\n      <td>Portugal</td>\n      <td>Juventus</td>\n    </tr>\n    <tr>\n      <th>Neymar Jr</th>\n      <td>Neymar da Silva Santos Junior</td>\n      <td>27</td>\n      <td>1992-02-05</td>\n      <td>175</td>\n      <td>68</td>\n      <td>Brazil</td>\n      <td>Paris Saint-Germain</td>\n    </tr>\n    <tr>\n      <th>J. Oblak</th>\n      <td>Jan Oblak</td>\n      <td>26</td>\n      <td>1993-01-07</td>\n      <td>188</td>\n      <td>87</td>\n      <td>Slovenia</td>\n      <td>Atlético Madrid</td>\n    </tr>\n    <tr>\n      <th>E. Hazard</th>\n      <td>Eden Hazard</td>\n      <td>28</td>\n      <td>1991-01-07</td>\n      <td>175</td>\n      <td>74</td>\n      <td>Belgium</td>\n      <td>Real Madrid</td>\n    </tr>\n    <tr>\n      <th>...</th>\n      <td>...</td>\n      <td>...</td>\n      <td>...</td>\n      <td>...</td>\n      <td>...</td>\n      <td>...</td>\n      <td>...</td>\n    </tr>\n    <tr>\n      <th>Shao Shuai</th>\n      <td>邵帅</td>\n      <td>22</td>\n      <td>1997-03-10</td>\n      <td>186</td>\n      <td>79</td>\n      <td>China PR</td>\n      <td>Beijing Renhe FC</td>\n    </tr>\n    <tr>\n      <th>Xiao Mingjie</th>\n      <td>Mingjie Xiao</td>\n      <td>22</td>\n      <td>1997-01-01</td>\n      <td>177</td>\n      <td>66</td>\n      <td>China PR</td>\n      <td>Shanghai SIPG FC</td>\n    </tr>\n    <tr>\n      <th>Zhang Wei</th>\n      <td>张威</td>\n      <td>19</td>\n      <td>2000-05-16</td>\n      <td>186</td>\n      <td>75</td>\n      <td>China PR</td>\n      <td>Hebei China Fortune FC</td>\n    </tr>\n    <tr>\n      <th>Wang Haijian</th>\n      <td>汪海健</td>\n      <td>18</td>\n      <td>2000-08-02</td>\n      <td>185</td>\n      <td>74</td>\n      <td>China PR</td>\n      <td>Shanghai Greenland Shenhua FC</td>\n    </tr>\n    <tr>\n      <th>Pan Ximing</th>\n      <td>潘喜明</td>\n      <td>26</td>\n      <td>1993-01-11</td>\n      <td>182</td>\n      <td>78</td>\n      <td>China PR</td>\n      <td>Hebei China Fortune FC</td>\n    </tr>\n  </tbody>\n</table>\n<p>18278 rows × 7 columns</p>\n</div>"
     },
     "execution_count": 136,
     "metadata": {},
     "output_type": "execute_result"
    }
   ],
   "source": [
    "df_players"
   ],
   "metadata": {
    "collapsed": false
   }
  },
  {
   "cell_type": "code",
   "execution_count": 137,
   "outputs": [
    {
     "data": {
      "text/plain": "Index(['L. Messi', 'Cristiano Ronaldo', 'Neymar Jr', 'J. Oblak', 'E. Hazard',\n       'K. De Bruyne', 'M. ter Stegen', 'V. van Dijk', 'L. Modrić',\n       'M. Salah'],\n      dtype='object', name='short_name')"
     },
     "execution_count": 137,
     "metadata": {},
     "output_type": "execute_result"
    }
   ],
   "source": [
    "df_players.index[:10]"
   ],
   "metadata": {
    "collapsed": false
   }
  },
  {
   "cell_type": "code",
   "execution_count": 138,
   "outputs": [
    {
     "data": {
      "text/plain": "                                             long_name  age         dob   \nshort_name                                                                \nL. Messi                Lionel Andrés Messi Cuccittini   32  1987-06-24  \\\nCristiano Ronaldo  Cristiano Ronaldo dos Santos Aveiro   34  1985-02-05   \nNeymar Jr                Neymar da Silva Santos Junior   27  1992-02-05   \nJ. Oblak                                     Jan Oblak   26  1993-01-07   \nE. Hazard                                  Eden Hazard   28  1991-01-07   \nK. De Bruyne                           Kevin De Bruyne   28  1991-06-28   \nM. ter Stegen                    Marc-André ter Stegen   27  1992-04-30   \nV. van Dijk                            Virgil van Dijk   27  1991-07-08   \nL. Modrić                                  Luka Modrić   33  1985-09-09   \nM. Salah                          Mohamed  Salah Ghaly   27  1992-06-15   \n\n                   height_cm  weight_kg  nationality                 club  \nshort_name                                                                 \nL. Messi                 170         72    Argentina         FC Barcelona  \nCristiano Ronaldo        187         83     Portugal             Juventus  \nNeymar Jr                175         68       Brazil  Paris Saint-Germain  \nJ. Oblak                 188         87     Slovenia      Atlético Madrid  \nE. Hazard                175         74      Belgium          Real Madrid  \nK. De Bruyne             181         70      Belgium      Manchester City  \nM. ter Stegen            187         85      Germany         FC Barcelona  \nV. van Dijk              193         92  Netherlands            Liverpool  \nL. Modrić                172         66      Croatia          Real Madrid  \nM. Salah                 175         71        Egypt            Liverpool  ",
      "text/html": "<div>\n<style scoped>\n    .dataframe tbody tr th:only-of-type {\n        vertical-align: middle;\n    }\n\n    .dataframe tbody tr th {\n        vertical-align: top;\n    }\n\n    .dataframe thead th {\n        text-align: right;\n    }\n</style>\n<table border=\"1\" class=\"dataframe\">\n  <thead>\n    <tr style=\"text-align: right;\">\n      <th></th>\n      <th>long_name</th>\n      <th>age</th>\n      <th>dob</th>\n      <th>height_cm</th>\n      <th>weight_kg</th>\n      <th>nationality</th>\n      <th>club</th>\n    </tr>\n    <tr>\n      <th>short_name</th>\n      <th></th>\n      <th></th>\n      <th></th>\n      <th></th>\n      <th></th>\n      <th></th>\n      <th></th>\n    </tr>\n  </thead>\n  <tbody>\n    <tr>\n      <th>L. Messi</th>\n      <td>Lionel Andrés Messi Cuccittini</td>\n      <td>32</td>\n      <td>1987-06-24</td>\n      <td>170</td>\n      <td>72</td>\n      <td>Argentina</td>\n      <td>FC Barcelona</td>\n    </tr>\n    <tr>\n      <th>Cristiano Ronaldo</th>\n      <td>Cristiano Ronaldo dos Santos Aveiro</td>\n      <td>34</td>\n      <td>1985-02-05</td>\n      <td>187</td>\n      <td>83</td>\n      <td>Portugal</td>\n      <td>Juventus</td>\n    </tr>\n    <tr>\n      <th>Neymar Jr</th>\n      <td>Neymar da Silva Santos Junior</td>\n      <td>27</td>\n      <td>1992-02-05</td>\n      <td>175</td>\n      <td>68</td>\n      <td>Brazil</td>\n      <td>Paris Saint-Germain</td>\n    </tr>\n    <tr>\n      <th>J. Oblak</th>\n      <td>Jan Oblak</td>\n      <td>26</td>\n      <td>1993-01-07</td>\n      <td>188</td>\n      <td>87</td>\n      <td>Slovenia</td>\n      <td>Atlético Madrid</td>\n    </tr>\n    <tr>\n      <th>E. Hazard</th>\n      <td>Eden Hazard</td>\n      <td>28</td>\n      <td>1991-01-07</td>\n      <td>175</td>\n      <td>74</td>\n      <td>Belgium</td>\n      <td>Real Madrid</td>\n    </tr>\n    <tr>\n      <th>K. De Bruyne</th>\n      <td>Kevin De Bruyne</td>\n      <td>28</td>\n      <td>1991-06-28</td>\n      <td>181</td>\n      <td>70</td>\n      <td>Belgium</td>\n      <td>Manchester City</td>\n    </tr>\n    <tr>\n      <th>M. ter Stegen</th>\n      <td>Marc-André ter Stegen</td>\n      <td>27</td>\n      <td>1992-04-30</td>\n      <td>187</td>\n      <td>85</td>\n      <td>Germany</td>\n      <td>FC Barcelona</td>\n    </tr>\n    <tr>\n      <th>V. van Dijk</th>\n      <td>Virgil van Dijk</td>\n      <td>27</td>\n      <td>1991-07-08</td>\n      <td>193</td>\n      <td>92</td>\n      <td>Netherlands</td>\n      <td>Liverpool</td>\n    </tr>\n    <tr>\n      <th>L. Modrić</th>\n      <td>Luka Modrić</td>\n      <td>33</td>\n      <td>1985-09-09</td>\n      <td>172</td>\n      <td>66</td>\n      <td>Croatia</td>\n      <td>Real Madrid</td>\n    </tr>\n    <tr>\n      <th>M. Salah</th>\n      <td>Mohamed  Salah Ghaly</td>\n      <td>27</td>\n      <td>1992-06-15</td>\n      <td>175</td>\n      <td>71</td>\n      <td>Egypt</td>\n      <td>Liverpool</td>\n    </tr>\n  </tbody>\n</table>\n</div>"
     },
     "execution_count": 138,
     "metadata": {},
     "output_type": "execute_result"
    }
   ],
   "source": [
    "df_players.loc['L. Messi': 'M. Salah']"
   ],
   "metadata": {
    "collapsed": false
   }
  },
  {
   "cell_type": "code",
   "execution_count": 139,
   "outputs": [],
   "source": [
    "needed_info = ['age', 'club']"
   ],
   "metadata": {
    "collapsed": false
   }
  },
  {
   "cell_type": "code",
   "execution_count": 140,
   "outputs": [
    {
     "data": {
      "text/plain": "                   age                 club\nshort_name                                 \nL. Messi            32         FC Barcelona\nCristiano Ronaldo   34             Juventus\nNeymar Jr           27  Paris Saint-Germain\nJ. Oblak            26      Atlético Madrid\nE. Hazard           28          Real Madrid\nK. De Bruyne        28      Manchester City\nM. ter Stegen       27         FC Barcelona\nV. van Dijk         27            Liverpool\nL. Modrić           33          Real Madrid\nM. Salah            27            Liverpool",
      "text/html": "<div>\n<style scoped>\n    .dataframe tbody tr th:only-of-type {\n        vertical-align: middle;\n    }\n\n    .dataframe tbody tr th {\n        vertical-align: top;\n    }\n\n    .dataframe thead th {\n        text-align: right;\n    }\n</style>\n<table border=\"1\" class=\"dataframe\">\n  <thead>\n    <tr style=\"text-align: right;\">\n      <th></th>\n      <th>age</th>\n      <th>club</th>\n    </tr>\n    <tr>\n      <th>short_name</th>\n      <th></th>\n      <th></th>\n    </tr>\n  </thead>\n  <tbody>\n    <tr>\n      <th>L. Messi</th>\n      <td>32</td>\n      <td>FC Barcelona</td>\n    </tr>\n    <tr>\n      <th>Cristiano Ronaldo</th>\n      <td>34</td>\n      <td>Juventus</td>\n    </tr>\n    <tr>\n      <th>Neymar Jr</th>\n      <td>27</td>\n      <td>Paris Saint-Germain</td>\n    </tr>\n    <tr>\n      <th>J. Oblak</th>\n      <td>26</td>\n      <td>Atlético Madrid</td>\n    </tr>\n    <tr>\n      <th>E. Hazard</th>\n      <td>28</td>\n      <td>Real Madrid</td>\n    </tr>\n    <tr>\n      <th>K. De Bruyne</th>\n      <td>28</td>\n      <td>Manchester City</td>\n    </tr>\n    <tr>\n      <th>M. ter Stegen</th>\n      <td>27</td>\n      <td>FC Barcelona</td>\n    </tr>\n    <tr>\n      <th>V. van Dijk</th>\n      <td>27</td>\n      <td>Liverpool</td>\n    </tr>\n    <tr>\n      <th>L. Modrić</th>\n      <td>33</td>\n      <td>Real Madrid</td>\n    </tr>\n    <tr>\n      <th>M. Salah</th>\n      <td>27</td>\n      <td>Liverpool</td>\n    </tr>\n  </tbody>\n</table>\n</div>"
     },
     "execution_count": 140,
     "metadata": {},
     "output_type": "execute_result"
    }
   ],
   "source": [
    "df_players.loc['L. Messi': 'M. Salah', needed_info]"
   ],
   "metadata": {
    "collapsed": false
   }
  },
  {
   "cell_type": "code",
   "execution_count": 141,
   "outputs": [
    {
     "data": {
      "text/plain": "            age          club\nshort_name                   \nL. Messi     32  FC Barcelona\nM. Salah     27     Liverpool",
      "text/html": "<div>\n<style scoped>\n    .dataframe tbody tr th:only-of-type {\n        vertical-align: middle;\n    }\n\n    .dataframe tbody tr th {\n        vertical-align: top;\n    }\n\n    .dataframe thead th {\n        text-align: right;\n    }\n</style>\n<table border=\"1\" class=\"dataframe\">\n  <thead>\n    <tr style=\"text-align: right;\">\n      <th></th>\n      <th>age</th>\n      <th>club</th>\n    </tr>\n    <tr>\n      <th>short_name</th>\n      <th></th>\n      <th></th>\n    </tr>\n  </thead>\n  <tbody>\n    <tr>\n      <th>L. Messi</th>\n      <td>32</td>\n      <td>FC Barcelona</td>\n    </tr>\n    <tr>\n      <th>M. Salah</th>\n      <td>27</td>\n      <td>Liverpool</td>\n    </tr>\n  </tbody>\n</table>\n</div>"
     },
     "execution_count": 141,
     "metadata": {},
     "output_type": "execute_result"
    }
   ],
   "source": [
    "some_players = ['L. Messi', 'M. Salah']\n",
    "df_players.loc[some_players, needed_info]"
   ],
   "metadata": {
    "collapsed": false
   }
  },
  {
   "cell_type": "code",
   "execution_count": 142,
   "outputs": [],
   "source": [
    "condition = df_players['height_cm'] > 180\n",
    "columns = ['age', 'dob', 'height_cm','club']"
   ],
   "metadata": {
    "collapsed": false
   }
  },
  {
   "cell_type": "code",
   "execution_count": 143,
   "outputs": [
    {
     "data": {
      "text/plain": "                   age         dob  height_cm                           club\nshort_name                                                                  \nCristiano Ronaldo   34  1985-02-05        187                       Juventus\nJ. Oblak            26  1993-01-07        188                Atlético Madrid\nK. De Bruyne        28  1991-06-28        181                Manchester City\nM. ter Stegen       27  1992-04-30        187                   FC Barcelona\nV. van Dijk         27  1991-07-08        193                      Liverpool\n...                ...         ...        ...                            ...\nP. Martin           20  1999-01-05        188                   Waterford FC\nShao Shuai          22  1997-03-10        186               Beijing Renhe FC\nZhang Wei           19  2000-05-16        186         Hebei China Fortune FC\nWang Haijian        18  2000-08-02        185  Shanghai Greenland Shenhua FC\nPan Ximing          26  1993-01-11        182         Hebei China Fortune FC\n\n[9744 rows x 4 columns]",
      "text/html": "<div>\n<style scoped>\n    .dataframe tbody tr th:only-of-type {\n        vertical-align: middle;\n    }\n\n    .dataframe tbody tr th {\n        vertical-align: top;\n    }\n\n    .dataframe thead th {\n        text-align: right;\n    }\n</style>\n<table border=\"1\" class=\"dataframe\">\n  <thead>\n    <tr style=\"text-align: right;\">\n      <th></th>\n      <th>age</th>\n      <th>dob</th>\n      <th>height_cm</th>\n      <th>club</th>\n    </tr>\n    <tr>\n      <th>short_name</th>\n      <th></th>\n      <th></th>\n      <th></th>\n      <th></th>\n    </tr>\n  </thead>\n  <tbody>\n    <tr>\n      <th>Cristiano Ronaldo</th>\n      <td>34</td>\n      <td>1985-02-05</td>\n      <td>187</td>\n      <td>Juventus</td>\n    </tr>\n    <tr>\n      <th>J. Oblak</th>\n      <td>26</td>\n      <td>1993-01-07</td>\n      <td>188</td>\n      <td>Atlético Madrid</td>\n    </tr>\n    <tr>\n      <th>K. De Bruyne</th>\n      <td>28</td>\n      <td>1991-06-28</td>\n      <td>181</td>\n      <td>Manchester City</td>\n    </tr>\n    <tr>\n      <th>M. ter Stegen</th>\n      <td>27</td>\n      <td>1992-04-30</td>\n      <td>187</td>\n      <td>FC Barcelona</td>\n    </tr>\n    <tr>\n      <th>V. van Dijk</th>\n      <td>27</td>\n      <td>1991-07-08</td>\n      <td>193</td>\n      <td>Liverpool</td>\n    </tr>\n    <tr>\n      <th>...</th>\n      <td>...</td>\n      <td>...</td>\n      <td>...</td>\n      <td>...</td>\n    </tr>\n    <tr>\n      <th>P. Martin</th>\n      <td>20</td>\n      <td>1999-01-05</td>\n      <td>188</td>\n      <td>Waterford FC</td>\n    </tr>\n    <tr>\n      <th>Shao Shuai</th>\n      <td>22</td>\n      <td>1997-03-10</td>\n      <td>186</td>\n      <td>Beijing Renhe FC</td>\n    </tr>\n    <tr>\n      <th>Zhang Wei</th>\n      <td>19</td>\n      <td>2000-05-16</td>\n      <td>186</td>\n      <td>Hebei China Fortune FC</td>\n    </tr>\n    <tr>\n      <th>Wang Haijian</th>\n      <td>18</td>\n      <td>2000-08-02</td>\n      <td>185</td>\n      <td>Shanghai Greenland Shenhua FC</td>\n    </tr>\n    <tr>\n      <th>Pan Ximing</th>\n      <td>26</td>\n      <td>1993-01-11</td>\n      <td>182</td>\n      <td>Hebei China Fortune FC</td>\n    </tr>\n  </tbody>\n</table>\n<p>9744 rows × 4 columns</p>\n</div>"
     },
     "execution_count": 143,
     "metadata": {},
     "output_type": "execute_result"
    }
   ],
   "source": [
    "df_players.loc[condition, columns]"
   ],
   "metadata": {
    "collapsed": false
   }
  },
  {
   "cell_type": "code",
   "execution_count": 144,
   "outputs": [
    {
     "data": {
      "text/plain": "                                 long_name  age         dob  height_cm   \nshort_name                                                               \nH. Kane                         Harry Kane   25  1993-07-28        188  \\\nD. Alli                      Bamidele Alli   23  1996-04-11        188   \nK. Walker                      Kyle Walker   29  1990-05-28        183   \nM. Rashford                Marcus Rashford   21  1997-10-31        186   \nJ. Stones                      John Stones   25  1994-05-28        188   \n...                                    ...  ...         ...        ...   \nC. Painter                 Cameron Painter   17  2002-02-22        183   \nC. Pattison               Charlie Pattison   18  2000-12-28        185   \nG. Sykes-Kenworthy  George Sykes-Kenworthy   19  1999-10-01        182   \nC. Heath                      Connor Heath   18  2000-12-11        188   \nS. Cartwright            Samuel Cartwright   18  2000-07-08        185   \n\n                    weight_kg nationality                 club  \nshort_name                                                      \nH. Kane                    89     England    Tottenham Hotspur  \nD. Alli                    80     England    Tottenham Hotspur  \nK. Walker                  70     England      Manchester City  \nM. Rashford                70     England    Manchester United  \nJ. Stones                  70     England      Manchester City  \n...                       ...         ...                  ...  \nC. Painter                 75     England         Grimsby Town  \nC. Pattison                70     England   Milton Keynes Dons  \nG. Sykes-Kenworthy         78     England        Bradford City  \nC. Heath                   78     England      Crewe Alexandra  \nS. Cartwright              75     England  Peterborough United  \n\n[897 rows x 7 columns]",
      "text/html": "<div>\n<style scoped>\n    .dataframe tbody tr th:only-of-type {\n        vertical-align: middle;\n    }\n\n    .dataframe tbody tr th {\n        vertical-align: top;\n    }\n\n    .dataframe thead th {\n        text-align: right;\n    }\n</style>\n<table border=\"1\" class=\"dataframe\">\n  <thead>\n    <tr style=\"text-align: right;\">\n      <th></th>\n      <th>long_name</th>\n      <th>age</th>\n      <th>dob</th>\n      <th>height_cm</th>\n      <th>weight_kg</th>\n      <th>nationality</th>\n      <th>club</th>\n    </tr>\n    <tr>\n      <th>short_name</th>\n      <th></th>\n      <th></th>\n      <th></th>\n      <th></th>\n      <th></th>\n      <th></th>\n      <th></th>\n    </tr>\n  </thead>\n  <tbody>\n    <tr>\n      <th>H. Kane</th>\n      <td>Harry Kane</td>\n      <td>25</td>\n      <td>1993-07-28</td>\n      <td>188</td>\n      <td>89</td>\n      <td>England</td>\n      <td>Tottenham Hotspur</td>\n    </tr>\n    <tr>\n      <th>D. Alli</th>\n      <td>Bamidele Alli</td>\n      <td>23</td>\n      <td>1996-04-11</td>\n      <td>188</td>\n      <td>80</td>\n      <td>England</td>\n      <td>Tottenham Hotspur</td>\n    </tr>\n    <tr>\n      <th>K. Walker</th>\n      <td>Kyle Walker</td>\n      <td>29</td>\n      <td>1990-05-28</td>\n      <td>183</td>\n      <td>70</td>\n      <td>England</td>\n      <td>Manchester City</td>\n    </tr>\n    <tr>\n      <th>M. Rashford</th>\n      <td>Marcus Rashford</td>\n      <td>21</td>\n      <td>1997-10-31</td>\n      <td>186</td>\n      <td>70</td>\n      <td>England</td>\n      <td>Manchester United</td>\n    </tr>\n    <tr>\n      <th>J. Stones</th>\n      <td>John Stones</td>\n      <td>25</td>\n      <td>1994-05-28</td>\n      <td>188</td>\n      <td>70</td>\n      <td>England</td>\n      <td>Manchester City</td>\n    </tr>\n    <tr>\n      <th>...</th>\n      <td>...</td>\n      <td>...</td>\n      <td>...</td>\n      <td>...</td>\n      <td>...</td>\n      <td>...</td>\n      <td>...</td>\n    </tr>\n    <tr>\n      <th>C. Painter</th>\n      <td>Cameron Painter</td>\n      <td>17</td>\n      <td>2002-02-22</td>\n      <td>183</td>\n      <td>75</td>\n      <td>England</td>\n      <td>Grimsby Town</td>\n    </tr>\n    <tr>\n      <th>C. Pattison</th>\n      <td>Charlie Pattison</td>\n      <td>18</td>\n      <td>2000-12-28</td>\n      <td>185</td>\n      <td>70</td>\n      <td>England</td>\n      <td>Milton Keynes Dons</td>\n    </tr>\n    <tr>\n      <th>G. Sykes-Kenworthy</th>\n      <td>George Sykes-Kenworthy</td>\n      <td>19</td>\n      <td>1999-10-01</td>\n      <td>182</td>\n      <td>78</td>\n      <td>England</td>\n      <td>Bradford City</td>\n    </tr>\n    <tr>\n      <th>C. Heath</th>\n      <td>Connor Heath</td>\n      <td>18</td>\n      <td>2000-12-11</td>\n      <td>188</td>\n      <td>78</td>\n      <td>England</td>\n      <td>Crewe Alexandra</td>\n    </tr>\n    <tr>\n      <th>S. Cartwright</th>\n      <td>Samuel Cartwright</td>\n      <td>18</td>\n      <td>2000-07-08</td>\n      <td>185</td>\n      <td>75</td>\n      <td>England</td>\n      <td>Peterborough United</td>\n    </tr>\n  </tbody>\n</table>\n<p>897 rows × 7 columns</p>\n</div>"
     },
     "execution_count": 144,
     "metadata": {},
     "output_type": "execute_result"
    }
   ],
   "source": [
    "condition_of_height = df_players['height_cm'] > 180\n",
    "condition_of_nationality = df_players['nationality'] == 'England'\n",
    "\n",
    "df_players.loc[condition_of_height & condition_of_nationality]"
   ],
   "metadata": {
    "collapsed": false
   }
  },
  {
   "cell_type": "code",
   "execution_count": 145,
   "outputs": [
    {
     "data": {
      "text/plain": "                    age         dob  height_cm                 club\nshort_name                                                         \nH. Kane              25  1993-07-28        188    Tottenham Hotspur\nD. Alli              23  1996-04-11        188    Tottenham Hotspur\nK. Walker            29  1990-05-28        183      Manchester City\nM. Rashford          21  1997-10-31        186    Manchester United\nJ. Stones            25  1994-05-28        188      Manchester City\n...                 ...         ...        ...                  ...\nC. Painter           17  2002-02-22        183         Grimsby Town\nC. Pattison          18  2000-12-28        185   Milton Keynes Dons\nG. Sykes-Kenworthy   19  1999-10-01        182        Bradford City\nC. Heath             18  2000-12-11        188      Crewe Alexandra\nS. Cartwright        18  2000-07-08        185  Peterborough United\n\n[897 rows x 4 columns]",
      "text/html": "<div>\n<style scoped>\n    .dataframe tbody tr th:only-of-type {\n        vertical-align: middle;\n    }\n\n    .dataframe tbody tr th {\n        vertical-align: top;\n    }\n\n    .dataframe thead th {\n        text-align: right;\n    }\n</style>\n<table border=\"1\" class=\"dataframe\">\n  <thead>\n    <tr style=\"text-align: right;\">\n      <th></th>\n      <th>age</th>\n      <th>dob</th>\n      <th>height_cm</th>\n      <th>club</th>\n    </tr>\n    <tr>\n      <th>short_name</th>\n      <th></th>\n      <th></th>\n      <th></th>\n      <th></th>\n    </tr>\n  </thead>\n  <tbody>\n    <tr>\n      <th>H. Kane</th>\n      <td>25</td>\n      <td>1993-07-28</td>\n      <td>188</td>\n      <td>Tottenham Hotspur</td>\n    </tr>\n    <tr>\n      <th>D. Alli</th>\n      <td>23</td>\n      <td>1996-04-11</td>\n      <td>188</td>\n      <td>Tottenham Hotspur</td>\n    </tr>\n    <tr>\n      <th>K. Walker</th>\n      <td>29</td>\n      <td>1990-05-28</td>\n      <td>183</td>\n      <td>Manchester City</td>\n    </tr>\n    <tr>\n      <th>M. Rashford</th>\n      <td>21</td>\n      <td>1997-10-31</td>\n      <td>186</td>\n      <td>Manchester United</td>\n    </tr>\n    <tr>\n      <th>J. Stones</th>\n      <td>25</td>\n      <td>1994-05-28</td>\n      <td>188</td>\n      <td>Manchester City</td>\n    </tr>\n    <tr>\n      <th>...</th>\n      <td>...</td>\n      <td>...</td>\n      <td>...</td>\n      <td>...</td>\n    </tr>\n    <tr>\n      <th>C. Painter</th>\n      <td>17</td>\n      <td>2002-02-22</td>\n      <td>183</td>\n      <td>Grimsby Town</td>\n    </tr>\n    <tr>\n      <th>C. Pattison</th>\n      <td>18</td>\n      <td>2000-12-28</td>\n      <td>185</td>\n      <td>Milton Keynes Dons</td>\n    </tr>\n    <tr>\n      <th>G. Sykes-Kenworthy</th>\n      <td>19</td>\n      <td>1999-10-01</td>\n      <td>182</td>\n      <td>Bradford City</td>\n    </tr>\n    <tr>\n      <th>C. Heath</th>\n      <td>18</td>\n      <td>2000-12-11</td>\n      <td>188</td>\n      <td>Crewe Alexandra</td>\n    </tr>\n    <tr>\n      <th>S. Cartwright</th>\n      <td>18</td>\n      <td>2000-07-08</td>\n      <td>185</td>\n      <td>Peterborough United</td>\n    </tr>\n  </tbody>\n</table>\n<p>897 rows × 4 columns</p>\n</div>"
     },
     "execution_count": 145,
     "metadata": {},
     "output_type": "execute_result"
    }
   ],
   "source": [
    "\n",
    "df_players.loc[condition_of_height & condition_of_nationality, columns]"
   ],
   "metadata": {
    "collapsed": false
   }
  },
  {
   "cell_type": "code",
   "execution_count": 146,
   "outputs": [],
   "source": [
    "condition_of_argentina = df_players['nationality'] == \"Argentina\""
   ],
   "metadata": {
    "collapsed": false
   }
  },
  {
   "cell_type": "code",
   "execution_count": 147,
   "outputs": [
    {
     "data": {
      "text/plain": "short_name\nH. Kane          England\nR. Sterling      England\nJ. Sancho        England\nD. Alli          England\nK. Walker        England\n                  ...   \nN. Morley        England\nC. Heath         England\nS. Cartwright    England\nL. Offord        England\nM. Sagaf         England\nName: nationality, Length: 1667, dtype: object"
     },
     "execution_count": 147,
     "metadata": {},
     "output_type": "execute_result"
    }
   ],
   "source": [
    "df_players.loc[condition_of_nationality, 'nationality']"
   ],
   "metadata": {
    "collapsed": false
   }
  },
  {
   "cell_type": "code",
   "execution_count": 148,
   "outputs": [
    {
     "data": {
      "text/plain": "short_name\nL. Messi             Argentina\nCristiano Ronaldo     Portugal\nNeymar Jr               Brazil\nJ. Oblak              Slovenia\nE. Hazard              Belgium\n                       ...    \nShao Shuai            China PR\nXiao Mingjie          China PR\nZhang Wei             China PR\nWang Haijian          China PR\nPan Ximing            China PR\nName: nationality, Length: 18278, dtype: object"
     },
     "execution_count": 148,
     "metadata": {},
     "output_type": "execute_result"
    }
   ],
   "source": [
    "df_players['nationality']"
   ],
   "metadata": {
    "collapsed": false
   }
  },
  {
   "cell_type": "code",
   "execution_count": 149,
   "outputs": [
    {
     "data": {
      "text/plain": "                                             long_name  age         dob   \nshort_name                                                                \nL. Messi                Lionel Andrés Messi Cuccittini   32  1987-06-24  \\\nCristiano Ronaldo  Cristiano Ronaldo dos Santos Aveiro   34  1985-02-05   \nNeymar Jr                Neymar da Silva Santos Junior   27  1992-02-05   \nJ. Oblak                                     Jan Oblak   26  1993-01-07   \nE. Hazard                                  Eden Hazard   28  1991-01-07   \n...                                                ...  ...         ...   \nShao Shuai                                          邵帅   22  1997-03-10   \nXiao Mingjie                              Mingjie Xiao   22  1997-01-01   \nZhang Wei                                           张威   19  2000-05-16   \nWang Haijian                                       汪海健   18  2000-08-02   \nPan Ximing                                         潘喜明   26  1993-01-11   \n\n                   height_cm  weight_kg nationality   \nshort_name                                            \nL. Messi                 170         72   Argentina  \\\nCristiano Ronaldo        187         83    Portugal   \nNeymar Jr                175         68      Brazil   \nJ. Oblak                 188         87    Slovenia   \nE. Hazard                175         74     Belgium   \n...                      ...        ...         ...   \nShao Shuai               186         79    China PR   \nXiao Mingjie             177         66    China PR   \nZhang Wei                186         75    China PR   \nWang Haijian             185         74    China PR   \nPan Ximing               182         78    China PR   \n\n                                            club  \nshort_name                                        \nL. Messi                            FC Barcelona  \nCristiano Ronaldo                       Juventus  \nNeymar Jr                    Paris Saint-Germain  \nJ. Oblak                         Atlético Madrid  \nE. Hazard                            Real Madrid  \n...                                          ...  \nShao Shuai                      Beijing Renhe FC  \nXiao Mingjie                    Shanghai SIPG FC  \nZhang Wei                 Hebei China Fortune FC  \nWang Haijian       Shanghai Greenland Shenhua FC  \nPan Ximing                Hebei China Fortune FC  \n\n[18278 rows x 7 columns]",
      "text/html": "<div>\n<style scoped>\n    .dataframe tbody tr th:only-of-type {\n        vertical-align: middle;\n    }\n\n    .dataframe tbody tr th {\n        vertical-align: top;\n    }\n\n    .dataframe thead th {\n        text-align: right;\n    }\n</style>\n<table border=\"1\" class=\"dataframe\">\n  <thead>\n    <tr style=\"text-align: right;\">\n      <th></th>\n      <th>long_name</th>\n      <th>age</th>\n      <th>dob</th>\n      <th>height_cm</th>\n      <th>weight_kg</th>\n      <th>nationality</th>\n      <th>club</th>\n    </tr>\n    <tr>\n      <th>short_name</th>\n      <th></th>\n      <th></th>\n      <th></th>\n      <th></th>\n      <th></th>\n      <th></th>\n      <th></th>\n    </tr>\n  </thead>\n  <tbody>\n    <tr>\n      <th>L. Messi</th>\n      <td>Lionel Andrés Messi Cuccittini</td>\n      <td>32</td>\n      <td>1987-06-24</td>\n      <td>170</td>\n      <td>72</td>\n      <td>Argentina</td>\n      <td>FC Barcelona</td>\n    </tr>\n    <tr>\n      <th>Cristiano Ronaldo</th>\n      <td>Cristiano Ronaldo dos Santos Aveiro</td>\n      <td>34</td>\n      <td>1985-02-05</td>\n      <td>187</td>\n      <td>83</td>\n      <td>Portugal</td>\n      <td>Juventus</td>\n    </tr>\n    <tr>\n      <th>Neymar Jr</th>\n      <td>Neymar da Silva Santos Junior</td>\n      <td>27</td>\n      <td>1992-02-05</td>\n      <td>175</td>\n      <td>68</td>\n      <td>Brazil</td>\n      <td>Paris Saint-Germain</td>\n    </tr>\n    <tr>\n      <th>J. Oblak</th>\n      <td>Jan Oblak</td>\n      <td>26</td>\n      <td>1993-01-07</td>\n      <td>188</td>\n      <td>87</td>\n      <td>Slovenia</td>\n      <td>Atlético Madrid</td>\n    </tr>\n    <tr>\n      <th>E. Hazard</th>\n      <td>Eden Hazard</td>\n      <td>28</td>\n      <td>1991-01-07</td>\n      <td>175</td>\n      <td>74</td>\n      <td>Belgium</td>\n      <td>Real Madrid</td>\n    </tr>\n    <tr>\n      <th>...</th>\n      <td>...</td>\n      <td>...</td>\n      <td>...</td>\n      <td>...</td>\n      <td>...</td>\n      <td>...</td>\n      <td>...</td>\n    </tr>\n    <tr>\n      <th>Shao Shuai</th>\n      <td>邵帅</td>\n      <td>22</td>\n      <td>1997-03-10</td>\n      <td>186</td>\n      <td>79</td>\n      <td>China PR</td>\n      <td>Beijing Renhe FC</td>\n    </tr>\n    <tr>\n      <th>Xiao Mingjie</th>\n      <td>Mingjie Xiao</td>\n      <td>22</td>\n      <td>1997-01-01</td>\n      <td>177</td>\n      <td>66</td>\n      <td>China PR</td>\n      <td>Shanghai SIPG FC</td>\n    </tr>\n    <tr>\n      <th>Zhang Wei</th>\n      <td>张威</td>\n      <td>19</td>\n      <td>2000-05-16</td>\n      <td>186</td>\n      <td>75</td>\n      <td>China PR</td>\n      <td>Hebei China Fortune FC</td>\n    </tr>\n    <tr>\n      <th>Wang Haijian</th>\n      <td>汪海健</td>\n      <td>18</td>\n      <td>2000-08-02</td>\n      <td>185</td>\n      <td>74</td>\n      <td>China PR</td>\n      <td>Shanghai Greenland Shenhua FC</td>\n    </tr>\n    <tr>\n      <th>Pan Ximing</th>\n      <td>潘喜明</td>\n      <td>26</td>\n      <td>1993-01-11</td>\n      <td>182</td>\n      <td>78</td>\n      <td>China PR</td>\n      <td>Hebei China Fortune FC</td>\n    </tr>\n  </tbody>\n</table>\n<p>18278 rows × 7 columns</p>\n</div>"
     },
     "execution_count": 149,
     "metadata": {},
     "output_type": "execute_result"
    }
   ],
   "source": [
    "df_players"
   ],
   "metadata": {
    "collapsed": false
   }
  },
  {
   "cell_type": "code",
   "execution_count": 152,
   "outputs": [
    {
     "data": {
      "text/plain": "170"
     },
     "execution_count": 152,
     "metadata": {},
     "output_type": "execute_result"
    }
   ],
   "source": [
    "df_players.iloc[0, 3]"
   ],
   "metadata": {
    "collapsed": false
   }
  },
  {
   "cell_type": "code",
   "execution_count": 156,
   "outputs": [
    {
     "data": {
      "text/plain": "short_name\nL. Messi             170\nCristiano Ronaldo    187\nNeymar Jr            175\nJ. Oblak             188\nE. Hazard            175\n                    ... \nShao Shuai           186\nXiao Mingjie         177\nZhang Wei            186\nWang Haijian         185\nPan Ximing           182\nName: height_cm, Length: 18278, dtype: int64"
     },
     "execution_count": 156,
     "metadata": {},
     "output_type": "execute_result"
    }
   ],
   "source": [
    "df_players.iloc[:, 3]"
   ],
   "metadata": {
    "collapsed": false
   }
  },
  {
   "cell_type": "code",
   "execution_count": 157,
   "outputs": [
    {
     "data": {
      "text/plain": "long_name      Lionel Andrés Messi Cuccittini\nage                                        32\ndob                                1987-06-24\nheight_cm                                 170\nweight_kg                                  72\nnationality                         Argentina\nclub                             FC Barcelona\nName: L. Messi, dtype: object"
     },
     "execution_count": 157,
     "metadata": {},
     "output_type": "execute_result"
    }
   ],
   "source": [
    "df_players.iloc[0, :]"
   ],
   "metadata": {
    "collapsed": false
   }
  },
  {
   "cell_type": "code",
   "execution_count": null,
   "outputs": [],
   "source": [],
   "metadata": {
    "collapsed": false
   }
  }
 ],
 "metadata": {
  "kernelspec": {
   "display_name": "Python 3",
   "language": "python",
   "name": "python3"
  },
  "language_info": {
   "codemirror_mode": {
    "name": "ipython",
    "version": 2
   },
   "file_extension": ".py",
   "mimetype": "text/x-python",
   "name": "python",
   "nbconvert_exporter": "python",
   "pygments_lexer": "ipython2",
   "version": "2.7.6"
  }
 },
 "nbformat": 4,
 "nbformat_minor": 0
}
