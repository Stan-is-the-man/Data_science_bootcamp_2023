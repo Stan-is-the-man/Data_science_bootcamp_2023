{
 "cells": [
  {
   "cell_type": "code",
   "execution_count": 1,
   "metadata": {
    "collapsed": true
   },
   "outputs": [],
   "source": [
    "import numpy as np\n",
    "import pandas as pd"
   ]
  },
  {
   "cell_type": "code",
   "execution_count": 2,
   "outputs": [],
   "source": [
    "df_players = pd.read_csv('players_20.csv')"
   ],
   "metadata": {
    "collapsed": false
   }
  },
  {
   "cell_type": "code",
   "execution_count": 3,
   "outputs": [
    {
     "data": {
      "text/plain": "       sofifa_id                                         player_url   \n0         158023  https://sofifa.com/player/158023/lionel-messi/...  \\\n1          20801  https://sofifa.com/player/20801/c-ronaldo-dos-...   \n2         190871  https://sofifa.com/player/190871/neymar-da-sil...   \n3         200389  https://sofifa.com/player/200389/jan-oblak/20/...   \n4         183277  https://sofifa.com/player/183277/eden-hazard/2...   \n...          ...                                                ...   \n18273     245006  https://sofifa.com/player/245006/shuai-shao/20...   \n18274     250995  https://sofifa.com/player/250995/mingjie-xiao/...   \n18275     252332  https://sofifa.com/player/252332/wei-zhang/20/...   \n18276     251110  https://sofifa.com/player/251110/haijian-wang/...   \n18277     233449  https://sofifa.com/player/233449/ximing-pan/20...   \n\n              short_name                            long_name  age   \n0               L. Messi       Lionel Andrés Messi Cuccittini   32  \\\n1      Cristiano Ronaldo  Cristiano Ronaldo dos Santos Aveiro   34   \n2              Neymar Jr        Neymar da Silva Santos Junior   27   \n3               J. Oblak                            Jan Oblak   26   \n4              E. Hazard                          Eden Hazard   28   \n...                  ...                                  ...  ...   \n18273         Shao Shuai                                   邵帅   22   \n18274       Xiao Mingjie                         Mingjie Xiao   22   \n18275          Zhang Wei                                   张威   19   \n18276       Wang Haijian                                  汪海健   18   \n18277         Pan Ximing                                  潘喜明   26   \n\n              dob  height_cm  weight_kg nationality   \n0      1987-06-24        170         72   Argentina  \\\n1      1985-02-05        187         83    Portugal   \n2      1992-02-05        175         68      Brazil   \n3      1993-01-07        188         87    Slovenia   \n4      1991-01-07        175         74     Belgium   \n...           ...        ...        ...         ...   \n18273  1997-03-10        186         79    China PR   \n18274  1997-01-01        177         66    China PR   \n18275  2000-05-16        186         75    China PR   \n18276  2000-08-02        185         74    China PR   \n18277  1993-01-11        182         78    China PR   \n\n                                club  ...   lwb   ldm   cdm   rdm   rwb    lb   \n0                       FC Barcelona  ...  68+2  66+2  66+2  66+2  68+2  63+2  \\\n1                           Juventus  ...  65+3  61+3  61+3  61+3  65+3  61+3   \n2                Paris Saint-Germain  ...  66+3  61+3  61+3  61+3  66+3  61+3   \n3                    Atlético Madrid  ...   NaN   NaN   NaN   NaN   NaN   NaN   \n4                        Real Madrid  ...  66+3  63+3  63+3  63+3  66+3  61+3   \n...                              ...  ...   ...   ...   ...   ...   ...   ...   \n18273               Beijing Renhe FC  ...  43+2  42+2  42+2  42+2  43+2  45+2   \n18274               Shanghai SIPG FC  ...  44+2  43+2  43+2  43+2  44+2  46+2   \n18275         Hebei China Fortune FC  ...  47+2  49+2  49+2  49+2  47+2  47+2   \n18276  Shanghai Greenland Shenhua FC  ...  48+2  48+2  48+2  48+2  48+2  48+2   \n18277         Hebei China Fortune FC  ...  48+2  49+2  49+2  49+2  48+2  48+2   \n\n        lcb    cb   rcb    rb  \n0      52+2  52+2  52+2  63+2  \n1      53+3  53+3  53+3  61+3  \n2      46+3  46+3  46+3  61+3  \n3       NaN   NaN   NaN   NaN  \n4      49+3  49+3  49+3  61+3  \n...     ...   ...   ...   ...  \n18273  46+2  46+2  46+2  45+2  \n18274  47+2  47+2  47+2  46+2  \n18275  49+2  49+2  49+2  47+2  \n18276  49+2  49+2  49+2  48+2  \n18277  50+2  50+2  50+2  48+2  \n\n[18278 rows x 104 columns]",
      "text/html": "<div>\n<style scoped>\n    .dataframe tbody tr th:only-of-type {\n        vertical-align: middle;\n    }\n\n    .dataframe tbody tr th {\n        vertical-align: top;\n    }\n\n    .dataframe thead th {\n        text-align: right;\n    }\n</style>\n<table border=\"1\" class=\"dataframe\">\n  <thead>\n    <tr style=\"text-align: right;\">\n      <th></th>\n      <th>sofifa_id</th>\n      <th>player_url</th>\n      <th>short_name</th>\n      <th>long_name</th>\n      <th>age</th>\n      <th>dob</th>\n      <th>height_cm</th>\n      <th>weight_kg</th>\n      <th>nationality</th>\n      <th>club</th>\n      <th>...</th>\n      <th>lwb</th>\n      <th>ldm</th>\n      <th>cdm</th>\n      <th>rdm</th>\n      <th>rwb</th>\n      <th>lb</th>\n      <th>lcb</th>\n      <th>cb</th>\n      <th>rcb</th>\n      <th>rb</th>\n    </tr>\n  </thead>\n  <tbody>\n    <tr>\n      <th>0</th>\n      <td>158023</td>\n      <td>https://sofifa.com/player/158023/lionel-messi/...</td>\n      <td>L. Messi</td>\n      <td>Lionel Andrés Messi Cuccittini</td>\n      <td>32</td>\n      <td>1987-06-24</td>\n      <td>170</td>\n      <td>72</td>\n      <td>Argentina</td>\n      <td>FC Barcelona</td>\n      <td>...</td>\n      <td>68+2</td>\n      <td>66+2</td>\n      <td>66+2</td>\n      <td>66+2</td>\n      <td>68+2</td>\n      <td>63+2</td>\n      <td>52+2</td>\n      <td>52+2</td>\n      <td>52+2</td>\n      <td>63+2</td>\n    </tr>\n    <tr>\n      <th>1</th>\n      <td>20801</td>\n      <td>https://sofifa.com/player/20801/c-ronaldo-dos-...</td>\n      <td>Cristiano Ronaldo</td>\n      <td>Cristiano Ronaldo dos Santos Aveiro</td>\n      <td>34</td>\n      <td>1985-02-05</td>\n      <td>187</td>\n      <td>83</td>\n      <td>Portugal</td>\n      <td>Juventus</td>\n      <td>...</td>\n      <td>65+3</td>\n      <td>61+3</td>\n      <td>61+3</td>\n      <td>61+3</td>\n      <td>65+3</td>\n      <td>61+3</td>\n      <td>53+3</td>\n      <td>53+3</td>\n      <td>53+3</td>\n      <td>61+3</td>\n    </tr>\n    <tr>\n      <th>2</th>\n      <td>190871</td>\n      <td>https://sofifa.com/player/190871/neymar-da-sil...</td>\n      <td>Neymar Jr</td>\n      <td>Neymar da Silva Santos Junior</td>\n      <td>27</td>\n      <td>1992-02-05</td>\n      <td>175</td>\n      <td>68</td>\n      <td>Brazil</td>\n      <td>Paris Saint-Germain</td>\n      <td>...</td>\n      <td>66+3</td>\n      <td>61+3</td>\n      <td>61+3</td>\n      <td>61+3</td>\n      <td>66+3</td>\n      <td>61+3</td>\n      <td>46+3</td>\n      <td>46+3</td>\n      <td>46+3</td>\n      <td>61+3</td>\n    </tr>\n    <tr>\n      <th>3</th>\n      <td>200389</td>\n      <td>https://sofifa.com/player/200389/jan-oblak/20/...</td>\n      <td>J. Oblak</td>\n      <td>Jan Oblak</td>\n      <td>26</td>\n      <td>1993-01-07</td>\n      <td>188</td>\n      <td>87</td>\n      <td>Slovenia</td>\n      <td>Atlético Madrid</td>\n      <td>...</td>\n      <td>NaN</td>\n      <td>NaN</td>\n      <td>NaN</td>\n      <td>NaN</td>\n      <td>NaN</td>\n      <td>NaN</td>\n      <td>NaN</td>\n      <td>NaN</td>\n      <td>NaN</td>\n      <td>NaN</td>\n    </tr>\n    <tr>\n      <th>4</th>\n      <td>183277</td>\n      <td>https://sofifa.com/player/183277/eden-hazard/2...</td>\n      <td>E. Hazard</td>\n      <td>Eden Hazard</td>\n      <td>28</td>\n      <td>1991-01-07</td>\n      <td>175</td>\n      <td>74</td>\n      <td>Belgium</td>\n      <td>Real Madrid</td>\n      <td>...</td>\n      <td>66+3</td>\n      <td>63+3</td>\n      <td>63+3</td>\n      <td>63+3</td>\n      <td>66+3</td>\n      <td>61+3</td>\n      <td>49+3</td>\n      <td>49+3</td>\n      <td>49+3</td>\n      <td>61+3</td>\n    </tr>\n    <tr>\n      <th>...</th>\n      <td>...</td>\n      <td>...</td>\n      <td>...</td>\n      <td>...</td>\n      <td>...</td>\n      <td>...</td>\n      <td>...</td>\n      <td>...</td>\n      <td>...</td>\n      <td>...</td>\n      <td>...</td>\n      <td>...</td>\n      <td>...</td>\n      <td>...</td>\n      <td>...</td>\n      <td>...</td>\n      <td>...</td>\n      <td>...</td>\n      <td>...</td>\n      <td>...</td>\n      <td>...</td>\n    </tr>\n    <tr>\n      <th>18273</th>\n      <td>245006</td>\n      <td>https://sofifa.com/player/245006/shuai-shao/20...</td>\n      <td>Shao Shuai</td>\n      <td>邵帅</td>\n      <td>22</td>\n      <td>1997-03-10</td>\n      <td>186</td>\n      <td>79</td>\n      <td>China PR</td>\n      <td>Beijing Renhe FC</td>\n      <td>...</td>\n      <td>43+2</td>\n      <td>42+2</td>\n      <td>42+2</td>\n      <td>42+2</td>\n      <td>43+2</td>\n      <td>45+2</td>\n      <td>46+2</td>\n      <td>46+2</td>\n      <td>46+2</td>\n      <td>45+2</td>\n    </tr>\n    <tr>\n      <th>18274</th>\n      <td>250995</td>\n      <td>https://sofifa.com/player/250995/mingjie-xiao/...</td>\n      <td>Xiao Mingjie</td>\n      <td>Mingjie Xiao</td>\n      <td>22</td>\n      <td>1997-01-01</td>\n      <td>177</td>\n      <td>66</td>\n      <td>China PR</td>\n      <td>Shanghai SIPG FC</td>\n      <td>...</td>\n      <td>44+2</td>\n      <td>43+2</td>\n      <td>43+2</td>\n      <td>43+2</td>\n      <td>44+2</td>\n      <td>46+2</td>\n      <td>47+2</td>\n      <td>47+2</td>\n      <td>47+2</td>\n      <td>46+2</td>\n    </tr>\n    <tr>\n      <th>18275</th>\n      <td>252332</td>\n      <td>https://sofifa.com/player/252332/wei-zhang/20/...</td>\n      <td>Zhang Wei</td>\n      <td>张威</td>\n      <td>19</td>\n      <td>2000-05-16</td>\n      <td>186</td>\n      <td>75</td>\n      <td>China PR</td>\n      <td>Hebei China Fortune FC</td>\n      <td>...</td>\n      <td>47+2</td>\n      <td>49+2</td>\n      <td>49+2</td>\n      <td>49+2</td>\n      <td>47+2</td>\n      <td>47+2</td>\n      <td>49+2</td>\n      <td>49+2</td>\n      <td>49+2</td>\n      <td>47+2</td>\n    </tr>\n    <tr>\n      <th>18276</th>\n      <td>251110</td>\n      <td>https://sofifa.com/player/251110/haijian-wang/...</td>\n      <td>Wang Haijian</td>\n      <td>汪海健</td>\n      <td>18</td>\n      <td>2000-08-02</td>\n      <td>185</td>\n      <td>74</td>\n      <td>China PR</td>\n      <td>Shanghai Greenland Shenhua FC</td>\n      <td>...</td>\n      <td>48+2</td>\n      <td>48+2</td>\n      <td>48+2</td>\n      <td>48+2</td>\n      <td>48+2</td>\n      <td>48+2</td>\n      <td>49+2</td>\n      <td>49+2</td>\n      <td>49+2</td>\n      <td>48+2</td>\n    </tr>\n    <tr>\n      <th>18277</th>\n      <td>233449</td>\n      <td>https://sofifa.com/player/233449/ximing-pan/20...</td>\n      <td>Pan Ximing</td>\n      <td>潘喜明</td>\n      <td>26</td>\n      <td>1993-01-11</td>\n      <td>182</td>\n      <td>78</td>\n      <td>China PR</td>\n      <td>Hebei China Fortune FC</td>\n      <td>...</td>\n      <td>48+2</td>\n      <td>49+2</td>\n      <td>49+2</td>\n      <td>49+2</td>\n      <td>48+2</td>\n      <td>48+2</td>\n      <td>50+2</td>\n      <td>50+2</td>\n      <td>50+2</td>\n      <td>48+2</td>\n    </tr>\n  </tbody>\n</table>\n<p>18278 rows × 104 columns</p>\n</div>"
     },
     "execution_count": 3,
     "metadata": {},
     "output_type": "execute_result"
    }
   ],
   "source": [
    "df_players"
   ],
   "metadata": {
    "collapsed": false
   }
  },
  {
   "cell_type": "code",
   "execution_count": 4,
   "outputs": [],
   "source": [
    "df_players.set_index('short_name', inplace=True)"
   ],
   "metadata": {
    "collapsed": false
   }
  },
  {
   "cell_type": "code",
   "execution_count": 5,
   "outputs": [],
   "source": [
    "df_players = df_players[['long_name', 'age', 'dob', 'height_cm', 'weight_kg', 'nationality', 'club']]"
   ],
   "metadata": {
    "collapsed": false
   }
  },
  {
   "cell_type": "code",
   "execution_count": 6,
   "outputs": [
    {
     "data": {
      "text/plain": "                                             long_name  age         dob   \nshort_name                                                                \nL. Messi                Lionel Andrés Messi Cuccittini   32  1987-06-24  \\\nCristiano Ronaldo  Cristiano Ronaldo dos Santos Aveiro   34  1985-02-05   \nNeymar Jr                Neymar da Silva Santos Junior   27  1992-02-05   \nJ. Oblak                                     Jan Oblak   26  1993-01-07   \nE. Hazard                                  Eden Hazard   28  1991-01-07   \n...                                                ...  ...         ...   \nShao Shuai                                          邵帅   22  1997-03-10   \nXiao Mingjie                              Mingjie Xiao   22  1997-01-01   \nZhang Wei                                           张威   19  2000-05-16   \nWang Haijian                                       汪海健   18  2000-08-02   \nPan Ximing                                         潘喜明   26  1993-01-11   \n\n                   height_cm  weight_kg nationality   \nshort_name                                            \nL. Messi                 170         72   Argentina  \\\nCristiano Ronaldo        187         83    Portugal   \nNeymar Jr                175         68      Brazil   \nJ. Oblak                 188         87    Slovenia   \nE. Hazard                175         74     Belgium   \n...                      ...        ...         ...   \nShao Shuai               186         79    China PR   \nXiao Mingjie             177         66    China PR   \nZhang Wei                186         75    China PR   \nWang Haijian             185         74    China PR   \nPan Ximing               182         78    China PR   \n\n                                            club  \nshort_name                                        \nL. Messi                            FC Barcelona  \nCristiano Ronaldo                       Juventus  \nNeymar Jr                    Paris Saint-Germain  \nJ. Oblak                         Atlético Madrid  \nE. Hazard                            Real Madrid  \n...                                          ...  \nShao Shuai                      Beijing Renhe FC  \nXiao Mingjie                    Shanghai SIPG FC  \nZhang Wei                 Hebei China Fortune FC  \nWang Haijian       Shanghai Greenland Shenhua FC  \nPan Ximing                Hebei China Fortune FC  \n\n[18278 rows x 7 columns]",
      "text/html": "<div>\n<style scoped>\n    .dataframe tbody tr th:only-of-type {\n        vertical-align: middle;\n    }\n\n    .dataframe tbody tr th {\n        vertical-align: top;\n    }\n\n    .dataframe thead th {\n        text-align: right;\n    }\n</style>\n<table border=\"1\" class=\"dataframe\">\n  <thead>\n    <tr style=\"text-align: right;\">\n      <th></th>\n      <th>long_name</th>\n      <th>age</th>\n      <th>dob</th>\n      <th>height_cm</th>\n      <th>weight_kg</th>\n      <th>nationality</th>\n      <th>club</th>\n    </tr>\n    <tr>\n      <th>short_name</th>\n      <th></th>\n      <th></th>\n      <th></th>\n      <th></th>\n      <th></th>\n      <th></th>\n      <th></th>\n    </tr>\n  </thead>\n  <tbody>\n    <tr>\n      <th>L. Messi</th>\n      <td>Lionel Andrés Messi Cuccittini</td>\n      <td>32</td>\n      <td>1987-06-24</td>\n      <td>170</td>\n      <td>72</td>\n      <td>Argentina</td>\n      <td>FC Barcelona</td>\n    </tr>\n    <tr>\n      <th>Cristiano Ronaldo</th>\n      <td>Cristiano Ronaldo dos Santos Aveiro</td>\n      <td>34</td>\n      <td>1985-02-05</td>\n      <td>187</td>\n      <td>83</td>\n      <td>Portugal</td>\n      <td>Juventus</td>\n    </tr>\n    <tr>\n      <th>Neymar Jr</th>\n      <td>Neymar da Silva Santos Junior</td>\n      <td>27</td>\n      <td>1992-02-05</td>\n      <td>175</td>\n      <td>68</td>\n      <td>Brazil</td>\n      <td>Paris Saint-Germain</td>\n    </tr>\n    <tr>\n      <th>J. Oblak</th>\n      <td>Jan Oblak</td>\n      <td>26</td>\n      <td>1993-01-07</td>\n      <td>188</td>\n      <td>87</td>\n      <td>Slovenia</td>\n      <td>Atlético Madrid</td>\n    </tr>\n    <tr>\n      <th>E. Hazard</th>\n      <td>Eden Hazard</td>\n      <td>28</td>\n      <td>1991-01-07</td>\n      <td>175</td>\n      <td>74</td>\n      <td>Belgium</td>\n      <td>Real Madrid</td>\n    </tr>\n    <tr>\n      <th>...</th>\n      <td>...</td>\n      <td>...</td>\n      <td>...</td>\n      <td>...</td>\n      <td>...</td>\n      <td>...</td>\n      <td>...</td>\n    </tr>\n    <tr>\n      <th>Shao Shuai</th>\n      <td>邵帅</td>\n      <td>22</td>\n      <td>1997-03-10</td>\n      <td>186</td>\n      <td>79</td>\n      <td>China PR</td>\n      <td>Beijing Renhe FC</td>\n    </tr>\n    <tr>\n      <th>Xiao Mingjie</th>\n      <td>Mingjie Xiao</td>\n      <td>22</td>\n      <td>1997-01-01</td>\n      <td>177</td>\n      <td>66</td>\n      <td>China PR</td>\n      <td>Shanghai SIPG FC</td>\n    </tr>\n    <tr>\n      <th>Zhang Wei</th>\n      <td>张威</td>\n      <td>19</td>\n      <td>2000-05-16</td>\n      <td>186</td>\n      <td>75</td>\n      <td>China PR</td>\n      <td>Hebei China Fortune FC</td>\n    </tr>\n    <tr>\n      <th>Wang Haijian</th>\n      <td>汪海健</td>\n      <td>18</td>\n      <td>2000-08-02</td>\n      <td>185</td>\n      <td>74</td>\n      <td>China PR</td>\n      <td>Shanghai Greenland Shenhua FC</td>\n    </tr>\n    <tr>\n      <th>Pan Ximing</th>\n      <td>潘喜明</td>\n      <td>26</td>\n      <td>1993-01-11</td>\n      <td>182</td>\n      <td>78</td>\n      <td>China PR</td>\n      <td>Hebei China Fortune FC</td>\n    </tr>\n  </tbody>\n</table>\n<p>18278 rows × 7 columns</p>\n</div>"
     },
     "execution_count": 6,
     "metadata": {},
     "output_type": "execute_result"
    }
   ],
   "source": [
    "df_players"
   ],
   "metadata": {
    "collapsed": false
   }
  },
  {
   "cell_type": "code",
   "execution_count": 7,
   "outputs": [
    {
     "data": {
      "text/plain": "long_name      Lionel Andrés Messi Cuccittini\nage                                        32\ndob                                1987-06-24\nheight_cm                                 170\nweight_kg                                  72\nnationality                         Argentina\nclub                             FC Barcelona\nName: L. Messi, dtype: object"
     },
     "execution_count": 7,
     "metadata": {},
     "output_type": "execute_result"
    }
   ],
   "source": [
    "# get all data for Messi\n",
    "df_players.loc['L. Messi']"
   ],
   "metadata": {
    "collapsed": false
   }
  },
  {
   "cell_type": "code",
   "execution_count": 8,
   "outputs": [
    {
     "data": {
      "text/plain": "long_name      Lionel Andrés Messi Cuccittini\nage                                        32\ndob                                1987-06-24\nheight_cm                                 170\nweight_kg                                  72\nnationality                         Argentina\nclub                             FC Barcelona\nName: L. Messi, dtype: object"
     },
     "execution_count": 8,
     "metadata": {},
     "output_type": "execute_result"
    }
   ],
   "source": [
    "df_players.iloc[0]"
   ],
   "metadata": {
    "collapsed": false
   }
  },
  {
   "cell_type": "code",
   "execution_count": 9,
   "outputs": [
    {
     "data": {
      "text/plain": "32"
     },
     "execution_count": 9,
     "metadata": {},
     "output_type": "execute_result"
    }
   ],
   "source": [
    "df_players.loc['L. Messi', 'age']"
   ],
   "metadata": {
    "collapsed": false
   }
  },
  {
   "cell_type": "code",
   "execution_count": 10,
   "outputs": [
    {
     "data": {
      "text/plain": "32"
     },
     "execution_count": 10,
     "metadata": {},
     "output_type": "execute_result"
    }
   ],
   "source": [
    "df_players.iloc[0, 1]"
   ],
   "metadata": {
    "collapsed": false
   }
  },
  {
   "cell_type": "code",
   "execution_count": 11,
   "outputs": [
    {
     "data": {
      "text/plain": "'Argentina'"
     },
     "execution_count": 11,
     "metadata": {},
     "output_type": "execute_result"
    }
   ],
   "source": [
    "df_players.loc['L. Messi', 'nationality']"
   ],
   "metadata": {
    "collapsed": false
   }
  },
  {
   "cell_type": "code",
   "execution_count": 12,
   "outputs": [
    {
     "data": {
      "text/plain": "long_name      Lionel Andrés Messi Cuccittini\nage                                        32\ndob                                1987-06-24\nheight_cm                                 170\nweight_kg                                  72\nnationality                         Argentina\nclub                             FC Barcelona\nName: L. Messi, dtype: object"
     },
     "execution_count": 12,
     "metadata": {},
     "output_type": "execute_result"
    }
   ],
   "source": [
    "df_players.loc['L. Messi', :]"
   ],
   "metadata": {
    "collapsed": false
   }
  },
  {
   "cell_type": "code",
   "execution_count": 13,
   "outputs": [
    {
     "data": {
      "text/plain": "                                             long_name  age         dob   \nshort_name                                                                \nL. Messi                Lionel Andrés Messi Cuccittini   32  1987-06-24  \\\nCristiano Ronaldo  Cristiano Ronaldo dos Santos Aveiro   34  1985-02-05   \n\n                   height_cm  weight_kg nationality          club  \nshort_name                                                         \nL. Messi                 170         72   Argentina  FC Barcelona  \nCristiano Ronaldo        187         83    Portugal      Juventus  ",
      "text/html": "<div>\n<style scoped>\n    .dataframe tbody tr th:only-of-type {\n        vertical-align: middle;\n    }\n\n    .dataframe tbody tr th {\n        vertical-align: top;\n    }\n\n    .dataframe thead th {\n        text-align: right;\n    }\n</style>\n<table border=\"1\" class=\"dataframe\">\n  <thead>\n    <tr style=\"text-align: right;\">\n      <th></th>\n      <th>long_name</th>\n      <th>age</th>\n      <th>dob</th>\n      <th>height_cm</th>\n      <th>weight_kg</th>\n      <th>nationality</th>\n      <th>club</th>\n    </tr>\n    <tr>\n      <th>short_name</th>\n      <th></th>\n      <th></th>\n      <th></th>\n      <th></th>\n      <th></th>\n      <th></th>\n      <th></th>\n    </tr>\n  </thead>\n  <tbody>\n    <tr>\n      <th>L. Messi</th>\n      <td>Lionel Andrés Messi Cuccittini</td>\n      <td>32</td>\n      <td>1987-06-24</td>\n      <td>170</td>\n      <td>72</td>\n      <td>Argentina</td>\n      <td>FC Barcelona</td>\n    </tr>\n    <tr>\n      <th>Cristiano Ronaldo</th>\n      <td>Cristiano Ronaldo dos Santos Aveiro</td>\n      <td>34</td>\n      <td>1985-02-05</td>\n      <td>187</td>\n      <td>83</td>\n      <td>Portugal</td>\n      <td>Juventus</td>\n    </tr>\n  </tbody>\n</table>\n</div>"
     },
     "execution_count": 13,
     "metadata": {},
     "output_type": "execute_result"
    }
   ],
   "source": [
    "df_players.loc[['L. Messi', 'Cristiano Ronaldo']]"
   ],
   "metadata": {
    "collapsed": false
   }
  },
  {
   "cell_type": "code",
   "execution_count": 14,
   "outputs": [
    {
     "data": {
      "text/plain": "                   age         dob\nshort_name                        \nL. Messi            32  1987-06-24\nCristiano Ronaldo   34  1985-02-05",
      "text/html": "<div>\n<style scoped>\n    .dataframe tbody tr th:only-of-type {\n        vertical-align: middle;\n    }\n\n    .dataframe tbody tr th {\n        vertical-align: top;\n    }\n\n    .dataframe thead th {\n        text-align: right;\n    }\n</style>\n<table border=\"1\" class=\"dataframe\">\n  <thead>\n    <tr style=\"text-align: right;\">\n      <th></th>\n      <th>age</th>\n      <th>dob</th>\n    </tr>\n    <tr>\n      <th>short_name</th>\n      <th></th>\n      <th></th>\n    </tr>\n  </thead>\n  <tbody>\n    <tr>\n      <th>L. Messi</th>\n      <td>32</td>\n      <td>1987-06-24</td>\n    </tr>\n    <tr>\n      <th>Cristiano Ronaldo</th>\n      <td>34</td>\n      <td>1985-02-05</td>\n    </tr>\n  </tbody>\n</table>\n</div>"
     },
     "execution_count": 14,
     "metadata": {},
     "output_type": "execute_result"
    }
   ],
   "source": [
    "df_players.loc[['L. Messi', 'Cristiano Ronaldo'], ['age', 'dob']]"
   ],
   "metadata": {
    "collapsed": false
   }
  },
  {
   "cell_type": "code",
   "execution_count": 15,
   "outputs": [
    {
     "data": {
      "text/plain": "            age         dob\nshort_name                 \nL. Messi     32  1987-06-24",
      "text/html": "<div>\n<style scoped>\n    .dataframe tbody tr th:only-of-type {\n        vertical-align: middle;\n    }\n\n    .dataframe tbody tr th {\n        vertical-align: top;\n    }\n\n    .dataframe thead th {\n        text-align: right;\n    }\n</style>\n<table border=\"1\" class=\"dataframe\">\n  <thead>\n    <tr style=\"text-align: right;\">\n      <th></th>\n      <th>age</th>\n      <th>dob</th>\n    </tr>\n    <tr>\n      <th>short_name</th>\n      <th></th>\n      <th></th>\n    </tr>\n  </thead>\n  <tbody>\n    <tr>\n      <th>L. Messi</th>\n      <td>32</td>\n      <td>1987-06-24</td>\n    </tr>\n  </tbody>\n</table>\n</div>"
     },
     "execution_count": 15,
     "metadata": {},
     "output_type": "execute_result"
    }
   ],
   "source": [
    "df_players.loc[['L. Messi'], ['age', 'dob']]"
   ],
   "metadata": {
    "collapsed": false
   }
  },
  {
   "cell_type": "code",
   "execution_count": 16,
   "outputs": [
    {
     "data": {
      "text/plain": "                                             long_name  age         dob   \nshort_name                                                                \nL. Messi                Lionel Andrés Messi Cuccittini   32  1987-06-24  \\\nCristiano Ronaldo  Cristiano Ronaldo dos Santos Aveiro   34  1985-02-05   \nNeymar Jr                Neymar da Silva Santos Junior   27  1992-02-05   \nJ. Oblak                                     Jan Oblak   26  1993-01-07   \nE. Hazard                                  Eden Hazard   28  1991-01-07   \n...                                                ...  ...         ...   \nShao Shuai                                          邵帅   22  1997-03-10   \nXiao Mingjie                              Mingjie Xiao   22  1997-01-01   \nZhang Wei                                           张威   19  2000-05-16   \nWang Haijian                                       汪海健   18  2000-08-02   \nPan Ximing                                         潘喜明   26  1993-01-11   \n\n                   height_cm  weight_kg nationality   \nshort_name                                            \nL. Messi                 170         72   Argentina  \\\nCristiano Ronaldo        187         83    Portugal   \nNeymar Jr                175         68      Brazil   \nJ. Oblak                 188         87    Slovenia   \nE. Hazard                175         74     Belgium   \n...                      ...        ...         ...   \nShao Shuai               186         79    China PR   \nXiao Mingjie             177         66    China PR   \nZhang Wei                186         75    China PR   \nWang Haijian             185         74    China PR   \nPan Ximing               182         78    China PR   \n\n                                            club  \nshort_name                                        \nL. Messi                            FC Barcelona  \nCristiano Ronaldo                       Juventus  \nNeymar Jr                    Paris Saint-Germain  \nJ. Oblak                         Atlético Madrid  \nE. Hazard                            Real Madrid  \n...                                          ...  \nShao Shuai                      Beijing Renhe FC  \nXiao Mingjie                    Shanghai SIPG FC  \nZhang Wei                 Hebei China Fortune FC  \nWang Haijian       Shanghai Greenland Shenhua FC  \nPan Ximing                Hebei China Fortune FC  \n\n[18278 rows x 7 columns]",
      "text/html": "<div>\n<style scoped>\n    .dataframe tbody tr th:only-of-type {\n        vertical-align: middle;\n    }\n\n    .dataframe tbody tr th {\n        vertical-align: top;\n    }\n\n    .dataframe thead th {\n        text-align: right;\n    }\n</style>\n<table border=\"1\" class=\"dataframe\">\n  <thead>\n    <tr style=\"text-align: right;\">\n      <th></th>\n      <th>long_name</th>\n      <th>age</th>\n      <th>dob</th>\n      <th>height_cm</th>\n      <th>weight_kg</th>\n      <th>nationality</th>\n      <th>club</th>\n    </tr>\n    <tr>\n      <th>short_name</th>\n      <th></th>\n      <th></th>\n      <th></th>\n      <th></th>\n      <th></th>\n      <th></th>\n      <th></th>\n    </tr>\n  </thead>\n  <tbody>\n    <tr>\n      <th>L. Messi</th>\n      <td>Lionel Andrés Messi Cuccittini</td>\n      <td>32</td>\n      <td>1987-06-24</td>\n      <td>170</td>\n      <td>72</td>\n      <td>Argentina</td>\n      <td>FC Barcelona</td>\n    </tr>\n    <tr>\n      <th>Cristiano Ronaldo</th>\n      <td>Cristiano Ronaldo dos Santos Aveiro</td>\n      <td>34</td>\n      <td>1985-02-05</td>\n      <td>187</td>\n      <td>83</td>\n      <td>Portugal</td>\n      <td>Juventus</td>\n    </tr>\n    <tr>\n      <th>Neymar Jr</th>\n      <td>Neymar da Silva Santos Junior</td>\n      <td>27</td>\n      <td>1992-02-05</td>\n      <td>175</td>\n      <td>68</td>\n      <td>Brazil</td>\n      <td>Paris Saint-Germain</td>\n    </tr>\n    <tr>\n      <th>J. Oblak</th>\n      <td>Jan Oblak</td>\n      <td>26</td>\n      <td>1993-01-07</td>\n      <td>188</td>\n      <td>87</td>\n      <td>Slovenia</td>\n      <td>Atlético Madrid</td>\n    </tr>\n    <tr>\n      <th>E. Hazard</th>\n      <td>Eden Hazard</td>\n      <td>28</td>\n      <td>1991-01-07</td>\n      <td>175</td>\n      <td>74</td>\n      <td>Belgium</td>\n      <td>Real Madrid</td>\n    </tr>\n    <tr>\n      <th>...</th>\n      <td>...</td>\n      <td>...</td>\n      <td>...</td>\n      <td>...</td>\n      <td>...</td>\n      <td>...</td>\n      <td>...</td>\n    </tr>\n    <tr>\n      <th>Shao Shuai</th>\n      <td>邵帅</td>\n      <td>22</td>\n      <td>1997-03-10</td>\n      <td>186</td>\n      <td>79</td>\n      <td>China PR</td>\n      <td>Beijing Renhe FC</td>\n    </tr>\n    <tr>\n      <th>Xiao Mingjie</th>\n      <td>Mingjie Xiao</td>\n      <td>22</td>\n      <td>1997-01-01</td>\n      <td>177</td>\n      <td>66</td>\n      <td>China PR</td>\n      <td>Shanghai SIPG FC</td>\n    </tr>\n    <tr>\n      <th>Zhang Wei</th>\n      <td>张威</td>\n      <td>19</td>\n      <td>2000-05-16</td>\n      <td>186</td>\n      <td>75</td>\n      <td>China PR</td>\n      <td>Hebei China Fortune FC</td>\n    </tr>\n    <tr>\n      <th>Wang Haijian</th>\n      <td>汪海健</td>\n      <td>18</td>\n      <td>2000-08-02</td>\n      <td>185</td>\n      <td>74</td>\n      <td>China PR</td>\n      <td>Shanghai Greenland Shenhua FC</td>\n    </tr>\n    <tr>\n      <th>Pan Ximing</th>\n      <td>潘喜明</td>\n      <td>26</td>\n      <td>1993-01-11</td>\n      <td>182</td>\n      <td>78</td>\n      <td>China PR</td>\n      <td>Hebei China Fortune FC</td>\n    </tr>\n  </tbody>\n</table>\n<p>18278 rows × 7 columns</p>\n</div>"
     },
     "execution_count": 16,
     "metadata": {},
     "output_type": "execute_result"
    }
   ],
   "source": [
    "df_players"
   ],
   "metadata": {
    "collapsed": false
   }
  },
  {
   "cell_type": "code",
   "execution_count": 17,
   "outputs": [
    {
     "data": {
      "text/plain": "Index(['L. Messi', 'Cristiano Ronaldo', 'Neymar Jr', 'J. Oblak', 'E. Hazard',\n       'K. De Bruyne', 'M. ter Stegen', 'V. van Dijk', 'L. Modrić',\n       'M. Salah'],\n      dtype='object', name='short_name')"
     },
     "execution_count": 17,
     "metadata": {},
     "output_type": "execute_result"
    }
   ],
   "source": [
    "df_players.index[:10]"
   ],
   "metadata": {
    "collapsed": false
   }
  },
  {
   "cell_type": "code",
   "execution_count": 18,
   "outputs": [
    {
     "data": {
      "text/plain": "                                             long_name  age         dob   \nshort_name                                                                \nL. Messi                Lionel Andrés Messi Cuccittini   32  1987-06-24  \\\nCristiano Ronaldo  Cristiano Ronaldo dos Santos Aveiro   34  1985-02-05   \nNeymar Jr                Neymar da Silva Santos Junior   27  1992-02-05   \nJ. Oblak                                     Jan Oblak   26  1993-01-07   \nE. Hazard                                  Eden Hazard   28  1991-01-07   \nK. De Bruyne                           Kevin De Bruyne   28  1991-06-28   \nM. ter Stegen                    Marc-André ter Stegen   27  1992-04-30   \nV. van Dijk                            Virgil van Dijk   27  1991-07-08   \nL. Modrić                                  Luka Modrić   33  1985-09-09   \nM. Salah                          Mohamed  Salah Ghaly   27  1992-06-15   \n\n                   height_cm  weight_kg  nationality                 club  \nshort_name                                                                 \nL. Messi                 170         72    Argentina         FC Barcelona  \nCristiano Ronaldo        187         83     Portugal             Juventus  \nNeymar Jr                175         68       Brazil  Paris Saint-Germain  \nJ. Oblak                 188         87     Slovenia      Atlético Madrid  \nE. Hazard                175         74      Belgium          Real Madrid  \nK. De Bruyne             181         70      Belgium      Manchester City  \nM. ter Stegen            187         85      Germany         FC Barcelona  \nV. van Dijk              193         92  Netherlands            Liverpool  \nL. Modrić                172         66      Croatia          Real Madrid  \nM. Salah                 175         71        Egypt            Liverpool  ",
      "text/html": "<div>\n<style scoped>\n    .dataframe tbody tr th:only-of-type {\n        vertical-align: middle;\n    }\n\n    .dataframe tbody tr th {\n        vertical-align: top;\n    }\n\n    .dataframe thead th {\n        text-align: right;\n    }\n</style>\n<table border=\"1\" class=\"dataframe\">\n  <thead>\n    <tr style=\"text-align: right;\">\n      <th></th>\n      <th>long_name</th>\n      <th>age</th>\n      <th>dob</th>\n      <th>height_cm</th>\n      <th>weight_kg</th>\n      <th>nationality</th>\n      <th>club</th>\n    </tr>\n    <tr>\n      <th>short_name</th>\n      <th></th>\n      <th></th>\n      <th></th>\n      <th></th>\n      <th></th>\n      <th></th>\n      <th></th>\n    </tr>\n  </thead>\n  <tbody>\n    <tr>\n      <th>L. Messi</th>\n      <td>Lionel Andrés Messi Cuccittini</td>\n      <td>32</td>\n      <td>1987-06-24</td>\n      <td>170</td>\n      <td>72</td>\n      <td>Argentina</td>\n      <td>FC Barcelona</td>\n    </tr>\n    <tr>\n      <th>Cristiano Ronaldo</th>\n      <td>Cristiano Ronaldo dos Santos Aveiro</td>\n      <td>34</td>\n      <td>1985-02-05</td>\n      <td>187</td>\n      <td>83</td>\n      <td>Portugal</td>\n      <td>Juventus</td>\n    </tr>\n    <tr>\n      <th>Neymar Jr</th>\n      <td>Neymar da Silva Santos Junior</td>\n      <td>27</td>\n      <td>1992-02-05</td>\n      <td>175</td>\n      <td>68</td>\n      <td>Brazil</td>\n      <td>Paris Saint-Germain</td>\n    </tr>\n    <tr>\n      <th>J. Oblak</th>\n      <td>Jan Oblak</td>\n      <td>26</td>\n      <td>1993-01-07</td>\n      <td>188</td>\n      <td>87</td>\n      <td>Slovenia</td>\n      <td>Atlético Madrid</td>\n    </tr>\n    <tr>\n      <th>E. Hazard</th>\n      <td>Eden Hazard</td>\n      <td>28</td>\n      <td>1991-01-07</td>\n      <td>175</td>\n      <td>74</td>\n      <td>Belgium</td>\n      <td>Real Madrid</td>\n    </tr>\n    <tr>\n      <th>K. De Bruyne</th>\n      <td>Kevin De Bruyne</td>\n      <td>28</td>\n      <td>1991-06-28</td>\n      <td>181</td>\n      <td>70</td>\n      <td>Belgium</td>\n      <td>Manchester City</td>\n    </tr>\n    <tr>\n      <th>M. ter Stegen</th>\n      <td>Marc-André ter Stegen</td>\n      <td>27</td>\n      <td>1992-04-30</td>\n      <td>187</td>\n      <td>85</td>\n      <td>Germany</td>\n      <td>FC Barcelona</td>\n    </tr>\n    <tr>\n      <th>V. van Dijk</th>\n      <td>Virgil van Dijk</td>\n      <td>27</td>\n      <td>1991-07-08</td>\n      <td>193</td>\n      <td>92</td>\n      <td>Netherlands</td>\n      <td>Liverpool</td>\n    </tr>\n    <tr>\n      <th>L. Modrić</th>\n      <td>Luka Modrić</td>\n      <td>33</td>\n      <td>1985-09-09</td>\n      <td>172</td>\n      <td>66</td>\n      <td>Croatia</td>\n      <td>Real Madrid</td>\n    </tr>\n    <tr>\n      <th>M. Salah</th>\n      <td>Mohamed  Salah Ghaly</td>\n      <td>27</td>\n      <td>1992-06-15</td>\n      <td>175</td>\n      <td>71</td>\n      <td>Egypt</td>\n      <td>Liverpool</td>\n    </tr>\n  </tbody>\n</table>\n</div>"
     },
     "execution_count": 18,
     "metadata": {},
     "output_type": "execute_result"
    }
   ],
   "source": [
    "df_players.loc['L. Messi': 'M. Salah']"
   ],
   "metadata": {
    "collapsed": false
   }
  },
  {
   "cell_type": "code",
   "execution_count": 19,
   "outputs": [],
   "source": [
    "needed_info = ['age', 'club']"
   ],
   "metadata": {
    "collapsed": false
   }
  },
  {
   "cell_type": "code",
   "execution_count": 20,
   "outputs": [
    {
     "data": {
      "text/plain": "                   age                 club\nshort_name                                 \nL. Messi            32         FC Barcelona\nCristiano Ronaldo   34             Juventus\nNeymar Jr           27  Paris Saint-Germain\nJ. Oblak            26      Atlético Madrid\nE. Hazard           28          Real Madrid\nK. De Bruyne        28      Manchester City\nM. ter Stegen       27         FC Barcelona\nV. van Dijk         27            Liverpool\nL. Modrić           33          Real Madrid\nM. Salah            27            Liverpool",
      "text/html": "<div>\n<style scoped>\n    .dataframe tbody tr th:only-of-type {\n        vertical-align: middle;\n    }\n\n    .dataframe tbody tr th {\n        vertical-align: top;\n    }\n\n    .dataframe thead th {\n        text-align: right;\n    }\n</style>\n<table border=\"1\" class=\"dataframe\">\n  <thead>\n    <tr style=\"text-align: right;\">\n      <th></th>\n      <th>age</th>\n      <th>club</th>\n    </tr>\n    <tr>\n      <th>short_name</th>\n      <th></th>\n      <th></th>\n    </tr>\n  </thead>\n  <tbody>\n    <tr>\n      <th>L. Messi</th>\n      <td>32</td>\n      <td>FC Barcelona</td>\n    </tr>\n    <tr>\n      <th>Cristiano Ronaldo</th>\n      <td>34</td>\n      <td>Juventus</td>\n    </tr>\n    <tr>\n      <th>Neymar Jr</th>\n      <td>27</td>\n      <td>Paris Saint-Germain</td>\n    </tr>\n    <tr>\n      <th>J. Oblak</th>\n      <td>26</td>\n      <td>Atlético Madrid</td>\n    </tr>\n    <tr>\n      <th>E. Hazard</th>\n      <td>28</td>\n      <td>Real Madrid</td>\n    </tr>\n    <tr>\n      <th>K. De Bruyne</th>\n      <td>28</td>\n      <td>Manchester City</td>\n    </tr>\n    <tr>\n      <th>M. ter Stegen</th>\n      <td>27</td>\n      <td>FC Barcelona</td>\n    </tr>\n    <tr>\n      <th>V. van Dijk</th>\n      <td>27</td>\n      <td>Liverpool</td>\n    </tr>\n    <tr>\n      <th>L. Modrić</th>\n      <td>33</td>\n      <td>Real Madrid</td>\n    </tr>\n    <tr>\n      <th>M. Salah</th>\n      <td>27</td>\n      <td>Liverpool</td>\n    </tr>\n  </tbody>\n</table>\n</div>"
     },
     "execution_count": 20,
     "metadata": {},
     "output_type": "execute_result"
    }
   ],
   "source": [
    "df_players.loc['L. Messi': 'M. Salah', needed_info]"
   ],
   "metadata": {
    "collapsed": false
   }
  },
  {
   "cell_type": "code",
   "execution_count": 21,
   "outputs": [
    {
     "data": {
      "text/plain": "            age          club\nshort_name                   \nL. Messi     32  FC Barcelona\nM. Salah     27     Liverpool",
      "text/html": "<div>\n<style scoped>\n    .dataframe tbody tr th:only-of-type {\n        vertical-align: middle;\n    }\n\n    .dataframe tbody tr th {\n        vertical-align: top;\n    }\n\n    .dataframe thead th {\n        text-align: right;\n    }\n</style>\n<table border=\"1\" class=\"dataframe\">\n  <thead>\n    <tr style=\"text-align: right;\">\n      <th></th>\n      <th>age</th>\n      <th>club</th>\n    </tr>\n    <tr>\n      <th>short_name</th>\n      <th></th>\n      <th></th>\n    </tr>\n  </thead>\n  <tbody>\n    <tr>\n      <th>L. Messi</th>\n      <td>32</td>\n      <td>FC Barcelona</td>\n    </tr>\n    <tr>\n      <th>M. Salah</th>\n      <td>27</td>\n      <td>Liverpool</td>\n    </tr>\n  </tbody>\n</table>\n</div>"
     },
     "execution_count": 21,
     "metadata": {},
     "output_type": "execute_result"
    }
   ],
   "source": [
    "some_players = ['L. Messi', 'M. Salah']\n",
    "df_players.loc[some_players, needed_info]"
   ],
   "metadata": {
    "collapsed": false
   }
  },
  {
   "cell_type": "code",
   "execution_count": 22,
   "outputs": [],
   "source": [
    "condition = df_players['height_cm'] > 180\n",
    "columns = ['age', 'dob', 'height_cm', 'club']"
   ],
   "metadata": {
    "collapsed": false
   }
  },
  {
   "cell_type": "code",
   "execution_count": 23,
   "outputs": [
    {
     "data": {
      "text/plain": "                   age         dob  height_cm                           club\nshort_name                                                                  \nCristiano Ronaldo   34  1985-02-05        187                       Juventus\nJ. Oblak            26  1993-01-07        188                Atlético Madrid\nK. De Bruyne        28  1991-06-28        181                Manchester City\nM. ter Stegen       27  1992-04-30        187                   FC Barcelona\nV. van Dijk         27  1991-07-08        193                      Liverpool\n...                ...         ...        ...                            ...\nP. Martin           20  1999-01-05        188                   Waterford FC\nShao Shuai          22  1997-03-10        186               Beijing Renhe FC\nZhang Wei           19  2000-05-16        186         Hebei China Fortune FC\nWang Haijian        18  2000-08-02        185  Shanghai Greenland Shenhua FC\nPan Ximing          26  1993-01-11        182         Hebei China Fortune FC\n\n[9744 rows x 4 columns]",
      "text/html": "<div>\n<style scoped>\n    .dataframe tbody tr th:only-of-type {\n        vertical-align: middle;\n    }\n\n    .dataframe tbody tr th {\n        vertical-align: top;\n    }\n\n    .dataframe thead th {\n        text-align: right;\n    }\n</style>\n<table border=\"1\" class=\"dataframe\">\n  <thead>\n    <tr style=\"text-align: right;\">\n      <th></th>\n      <th>age</th>\n      <th>dob</th>\n      <th>height_cm</th>\n      <th>club</th>\n    </tr>\n    <tr>\n      <th>short_name</th>\n      <th></th>\n      <th></th>\n      <th></th>\n      <th></th>\n    </tr>\n  </thead>\n  <tbody>\n    <tr>\n      <th>Cristiano Ronaldo</th>\n      <td>34</td>\n      <td>1985-02-05</td>\n      <td>187</td>\n      <td>Juventus</td>\n    </tr>\n    <tr>\n      <th>J. Oblak</th>\n      <td>26</td>\n      <td>1993-01-07</td>\n      <td>188</td>\n      <td>Atlético Madrid</td>\n    </tr>\n    <tr>\n      <th>K. De Bruyne</th>\n      <td>28</td>\n      <td>1991-06-28</td>\n      <td>181</td>\n      <td>Manchester City</td>\n    </tr>\n    <tr>\n      <th>M. ter Stegen</th>\n      <td>27</td>\n      <td>1992-04-30</td>\n      <td>187</td>\n      <td>FC Barcelona</td>\n    </tr>\n    <tr>\n      <th>V. van Dijk</th>\n      <td>27</td>\n      <td>1991-07-08</td>\n      <td>193</td>\n      <td>Liverpool</td>\n    </tr>\n    <tr>\n      <th>...</th>\n      <td>...</td>\n      <td>...</td>\n      <td>...</td>\n      <td>...</td>\n    </tr>\n    <tr>\n      <th>P. Martin</th>\n      <td>20</td>\n      <td>1999-01-05</td>\n      <td>188</td>\n      <td>Waterford FC</td>\n    </tr>\n    <tr>\n      <th>Shao Shuai</th>\n      <td>22</td>\n      <td>1997-03-10</td>\n      <td>186</td>\n      <td>Beijing Renhe FC</td>\n    </tr>\n    <tr>\n      <th>Zhang Wei</th>\n      <td>19</td>\n      <td>2000-05-16</td>\n      <td>186</td>\n      <td>Hebei China Fortune FC</td>\n    </tr>\n    <tr>\n      <th>Wang Haijian</th>\n      <td>18</td>\n      <td>2000-08-02</td>\n      <td>185</td>\n      <td>Shanghai Greenland Shenhua FC</td>\n    </tr>\n    <tr>\n      <th>Pan Ximing</th>\n      <td>26</td>\n      <td>1993-01-11</td>\n      <td>182</td>\n      <td>Hebei China Fortune FC</td>\n    </tr>\n  </tbody>\n</table>\n<p>9744 rows × 4 columns</p>\n</div>"
     },
     "execution_count": 23,
     "metadata": {},
     "output_type": "execute_result"
    }
   ],
   "source": [
    "df_players.loc[condition, columns]"
   ],
   "metadata": {
    "collapsed": false
   }
  },
  {
   "cell_type": "code",
   "execution_count": 24,
   "outputs": [
    {
     "data": {
      "text/plain": "                                 long_name  age         dob  height_cm   \nshort_name                                                               \nH. Kane                         Harry Kane   25  1993-07-28        188  \\\nD. Alli                      Bamidele Alli   23  1996-04-11        188   \nK. Walker                      Kyle Walker   29  1990-05-28        183   \nM. Rashford                Marcus Rashford   21  1997-10-31        186   \nJ. Stones                      John Stones   25  1994-05-28        188   \n...                                    ...  ...         ...        ...   \nC. Painter                 Cameron Painter   17  2002-02-22        183   \nC. Pattison               Charlie Pattison   18  2000-12-28        185   \nG. Sykes-Kenworthy  George Sykes-Kenworthy   19  1999-10-01        182   \nC. Heath                      Connor Heath   18  2000-12-11        188   \nS. Cartwright            Samuel Cartwright   18  2000-07-08        185   \n\n                    weight_kg nationality                 club  \nshort_name                                                      \nH. Kane                    89     England    Tottenham Hotspur  \nD. Alli                    80     England    Tottenham Hotspur  \nK. Walker                  70     England      Manchester City  \nM. Rashford                70     England    Manchester United  \nJ. Stones                  70     England      Manchester City  \n...                       ...         ...                  ...  \nC. Painter                 75     England         Grimsby Town  \nC. Pattison                70     England   Milton Keynes Dons  \nG. Sykes-Kenworthy         78     England        Bradford City  \nC. Heath                   78     England      Crewe Alexandra  \nS. Cartwright              75     England  Peterborough United  \n\n[897 rows x 7 columns]",
      "text/html": "<div>\n<style scoped>\n    .dataframe tbody tr th:only-of-type {\n        vertical-align: middle;\n    }\n\n    .dataframe tbody tr th {\n        vertical-align: top;\n    }\n\n    .dataframe thead th {\n        text-align: right;\n    }\n</style>\n<table border=\"1\" class=\"dataframe\">\n  <thead>\n    <tr style=\"text-align: right;\">\n      <th></th>\n      <th>long_name</th>\n      <th>age</th>\n      <th>dob</th>\n      <th>height_cm</th>\n      <th>weight_kg</th>\n      <th>nationality</th>\n      <th>club</th>\n    </tr>\n    <tr>\n      <th>short_name</th>\n      <th></th>\n      <th></th>\n      <th></th>\n      <th></th>\n      <th></th>\n      <th></th>\n      <th></th>\n    </tr>\n  </thead>\n  <tbody>\n    <tr>\n      <th>H. Kane</th>\n      <td>Harry Kane</td>\n      <td>25</td>\n      <td>1993-07-28</td>\n      <td>188</td>\n      <td>89</td>\n      <td>England</td>\n      <td>Tottenham Hotspur</td>\n    </tr>\n    <tr>\n      <th>D. Alli</th>\n      <td>Bamidele Alli</td>\n      <td>23</td>\n      <td>1996-04-11</td>\n      <td>188</td>\n      <td>80</td>\n      <td>England</td>\n      <td>Tottenham Hotspur</td>\n    </tr>\n    <tr>\n      <th>K. Walker</th>\n      <td>Kyle Walker</td>\n      <td>29</td>\n      <td>1990-05-28</td>\n      <td>183</td>\n      <td>70</td>\n      <td>England</td>\n      <td>Manchester City</td>\n    </tr>\n    <tr>\n      <th>M. Rashford</th>\n      <td>Marcus Rashford</td>\n      <td>21</td>\n      <td>1997-10-31</td>\n      <td>186</td>\n      <td>70</td>\n      <td>England</td>\n      <td>Manchester United</td>\n    </tr>\n    <tr>\n      <th>J. Stones</th>\n      <td>John Stones</td>\n      <td>25</td>\n      <td>1994-05-28</td>\n      <td>188</td>\n      <td>70</td>\n      <td>England</td>\n      <td>Manchester City</td>\n    </tr>\n    <tr>\n      <th>...</th>\n      <td>...</td>\n      <td>...</td>\n      <td>...</td>\n      <td>...</td>\n      <td>...</td>\n      <td>...</td>\n      <td>...</td>\n    </tr>\n    <tr>\n      <th>C. Painter</th>\n      <td>Cameron Painter</td>\n      <td>17</td>\n      <td>2002-02-22</td>\n      <td>183</td>\n      <td>75</td>\n      <td>England</td>\n      <td>Grimsby Town</td>\n    </tr>\n    <tr>\n      <th>C. Pattison</th>\n      <td>Charlie Pattison</td>\n      <td>18</td>\n      <td>2000-12-28</td>\n      <td>185</td>\n      <td>70</td>\n      <td>England</td>\n      <td>Milton Keynes Dons</td>\n    </tr>\n    <tr>\n      <th>G. Sykes-Kenworthy</th>\n      <td>George Sykes-Kenworthy</td>\n      <td>19</td>\n      <td>1999-10-01</td>\n      <td>182</td>\n      <td>78</td>\n      <td>England</td>\n      <td>Bradford City</td>\n    </tr>\n    <tr>\n      <th>C. Heath</th>\n      <td>Connor Heath</td>\n      <td>18</td>\n      <td>2000-12-11</td>\n      <td>188</td>\n      <td>78</td>\n      <td>England</td>\n      <td>Crewe Alexandra</td>\n    </tr>\n    <tr>\n      <th>S. Cartwright</th>\n      <td>Samuel Cartwright</td>\n      <td>18</td>\n      <td>2000-07-08</td>\n      <td>185</td>\n      <td>75</td>\n      <td>England</td>\n      <td>Peterborough United</td>\n    </tr>\n  </tbody>\n</table>\n<p>897 rows × 7 columns</p>\n</div>"
     },
     "execution_count": 24,
     "metadata": {},
     "output_type": "execute_result"
    }
   ],
   "source": [
    "condition_of_height = df_players['height_cm'] > 180\n",
    "condition_of_nationality = df_players['nationality'] == 'England'\n",
    "\n",
    "df_players.loc[condition_of_height & condition_of_nationality]"
   ],
   "metadata": {
    "collapsed": false
   }
  },
  {
   "cell_type": "code",
   "execution_count": 25,
   "outputs": [
    {
     "data": {
      "text/plain": "                    age         dob  height_cm                 club\nshort_name                                                         \nH. Kane              25  1993-07-28        188    Tottenham Hotspur\nD. Alli              23  1996-04-11        188    Tottenham Hotspur\nK. Walker            29  1990-05-28        183      Manchester City\nM. Rashford          21  1997-10-31        186    Manchester United\nJ. Stones            25  1994-05-28        188      Manchester City\n...                 ...         ...        ...                  ...\nC. Painter           17  2002-02-22        183         Grimsby Town\nC. Pattison          18  2000-12-28        185   Milton Keynes Dons\nG. Sykes-Kenworthy   19  1999-10-01        182        Bradford City\nC. Heath             18  2000-12-11        188      Crewe Alexandra\nS. Cartwright        18  2000-07-08        185  Peterborough United\n\n[897 rows x 4 columns]",
      "text/html": "<div>\n<style scoped>\n    .dataframe tbody tr th:only-of-type {\n        vertical-align: middle;\n    }\n\n    .dataframe tbody tr th {\n        vertical-align: top;\n    }\n\n    .dataframe thead th {\n        text-align: right;\n    }\n</style>\n<table border=\"1\" class=\"dataframe\">\n  <thead>\n    <tr style=\"text-align: right;\">\n      <th></th>\n      <th>age</th>\n      <th>dob</th>\n      <th>height_cm</th>\n      <th>club</th>\n    </tr>\n    <tr>\n      <th>short_name</th>\n      <th></th>\n      <th></th>\n      <th></th>\n      <th></th>\n    </tr>\n  </thead>\n  <tbody>\n    <tr>\n      <th>H. Kane</th>\n      <td>25</td>\n      <td>1993-07-28</td>\n      <td>188</td>\n      <td>Tottenham Hotspur</td>\n    </tr>\n    <tr>\n      <th>D. Alli</th>\n      <td>23</td>\n      <td>1996-04-11</td>\n      <td>188</td>\n      <td>Tottenham Hotspur</td>\n    </tr>\n    <tr>\n      <th>K. Walker</th>\n      <td>29</td>\n      <td>1990-05-28</td>\n      <td>183</td>\n      <td>Manchester City</td>\n    </tr>\n    <tr>\n      <th>M. Rashford</th>\n      <td>21</td>\n      <td>1997-10-31</td>\n      <td>186</td>\n      <td>Manchester United</td>\n    </tr>\n    <tr>\n      <th>J. Stones</th>\n      <td>25</td>\n      <td>1994-05-28</td>\n      <td>188</td>\n      <td>Manchester City</td>\n    </tr>\n    <tr>\n      <th>...</th>\n      <td>...</td>\n      <td>...</td>\n      <td>...</td>\n      <td>...</td>\n    </tr>\n    <tr>\n      <th>C. Painter</th>\n      <td>17</td>\n      <td>2002-02-22</td>\n      <td>183</td>\n      <td>Grimsby Town</td>\n    </tr>\n    <tr>\n      <th>C. Pattison</th>\n      <td>18</td>\n      <td>2000-12-28</td>\n      <td>185</td>\n      <td>Milton Keynes Dons</td>\n    </tr>\n    <tr>\n      <th>G. Sykes-Kenworthy</th>\n      <td>19</td>\n      <td>1999-10-01</td>\n      <td>182</td>\n      <td>Bradford City</td>\n    </tr>\n    <tr>\n      <th>C. Heath</th>\n      <td>18</td>\n      <td>2000-12-11</td>\n      <td>188</td>\n      <td>Crewe Alexandra</td>\n    </tr>\n    <tr>\n      <th>S. Cartwright</th>\n      <td>18</td>\n      <td>2000-07-08</td>\n      <td>185</td>\n      <td>Peterborough United</td>\n    </tr>\n  </tbody>\n</table>\n<p>897 rows × 4 columns</p>\n</div>"
     },
     "execution_count": 25,
     "metadata": {},
     "output_type": "execute_result"
    }
   ],
   "source": [
    "\n",
    "df_players.loc[condition_of_height & condition_of_nationality, columns]"
   ],
   "metadata": {
    "collapsed": false
   }
  },
  {
   "cell_type": "code",
   "execution_count": 26,
   "outputs": [],
   "source": [
    "condition_of_argentina = df_players['nationality'] == \"Argentina\""
   ],
   "metadata": {
    "collapsed": false
   }
  },
  {
   "cell_type": "code",
   "execution_count": 27,
   "outputs": [
    {
     "data": {
      "text/plain": "short_name\nH. Kane          England\nR. Sterling      England\nJ. Sancho        England\nD. Alli          England\nK. Walker        England\n                  ...   \nN. Morley        England\nC. Heath         England\nS. Cartwright    England\nL. Offord        England\nM. Sagaf         England\nName: nationality, Length: 1667, dtype: object"
     },
     "execution_count": 27,
     "metadata": {},
     "output_type": "execute_result"
    }
   ],
   "source": [
    "df_players.loc[condition_of_nationality, 'nationality']"
   ],
   "metadata": {
    "collapsed": false
   }
  },
  {
   "cell_type": "code",
   "execution_count": 28,
   "outputs": [
    {
     "data": {
      "text/plain": "short_name\nL. Messi             Argentina\nCristiano Ronaldo     Portugal\nNeymar Jr               Brazil\nJ. Oblak              Slovenia\nE. Hazard              Belgium\n                       ...    \nShao Shuai            China PR\nXiao Mingjie          China PR\nZhang Wei             China PR\nWang Haijian          China PR\nPan Ximing            China PR\nName: nationality, Length: 18278, dtype: object"
     },
     "execution_count": 28,
     "metadata": {},
     "output_type": "execute_result"
    }
   ],
   "source": [
    "df_players['nationality']"
   ],
   "metadata": {
    "collapsed": false
   }
  },
  {
   "cell_type": "code",
   "execution_count": 29,
   "outputs": [
    {
     "data": {
      "text/plain": "                                             long_name  age         dob   \nshort_name                                                                \nL. Messi                Lionel Andrés Messi Cuccittini   32  1987-06-24  \\\nCristiano Ronaldo  Cristiano Ronaldo dos Santos Aveiro   34  1985-02-05   \nNeymar Jr                Neymar da Silva Santos Junior   27  1992-02-05   \nJ. Oblak                                     Jan Oblak   26  1993-01-07   \nE. Hazard                                  Eden Hazard   28  1991-01-07   \n...                                                ...  ...         ...   \nShao Shuai                                          邵帅   22  1997-03-10   \nXiao Mingjie                              Mingjie Xiao   22  1997-01-01   \nZhang Wei                                           张威   19  2000-05-16   \nWang Haijian                                       汪海健   18  2000-08-02   \nPan Ximing                                         潘喜明   26  1993-01-11   \n\n                   height_cm  weight_kg nationality   \nshort_name                                            \nL. Messi                 170         72   Argentina  \\\nCristiano Ronaldo        187         83    Portugal   \nNeymar Jr                175         68      Brazil   \nJ. Oblak                 188         87    Slovenia   \nE. Hazard                175         74     Belgium   \n...                      ...        ...         ...   \nShao Shuai               186         79    China PR   \nXiao Mingjie             177         66    China PR   \nZhang Wei                186         75    China PR   \nWang Haijian             185         74    China PR   \nPan Ximing               182         78    China PR   \n\n                                            club  \nshort_name                                        \nL. Messi                            FC Barcelona  \nCristiano Ronaldo                       Juventus  \nNeymar Jr                    Paris Saint-Germain  \nJ. Oblak                         Atlético Madrid  \nE. Hazard                            Real Madrid  \n...                                          ...  \nShao Shuai                      Beijing Renhe FC  \nXiao Mingjie                    Shanghai SIPG FC  \nZhang Wei                 Hebei China Fortune FC  \nWang Haijian       Shanghai Greenland Shenhua FC  \nPan Ximing                Hebei China Fortune FC  \n\n[18278 rows x 7 columns]",
      "text/html": "<div>\n<style scoped>\n    .dataframe tbody tr th:only-of-type {\n        vertical-align: middle;\n    }\n\n    .dataframe tbody tr th {\n        vertical-align: top;\n    }\n\n    .dataframe thead th {\n        text-align: right;\n    }\n</style>\n<table border=\"1\" class=\"dataframe\">\n  <thead>\n    <tr style=\"text-align: right;\">\n      <th></th>\n      <th>long_name</th>\n      <th>age</th>\n      <th>dob</th>\n      <th>height_cm</th>\n      <th>weight_kg</th>\n      <th>nationality</th>\n      <th>club</th>\n    </tr>\n    <tr>\n      <th>short_name</th>\n      <th></th>\n      <th></th>\n      <th></th>\n      <th></th>\n      <th></th>\n      <th></th>\n      <th></th>\n    </tr>\n  </thead>\n  <tbody>\n    <tr>\n      <th>L. Messi</th>\n      <td>Lionel Andrés Messi Cuccittini</td>\n      <td>32</td>\n      <td>1987-06-24</td>\n      <td>170</td>\n      <td>72</td>\n      <td>Argentina</td>\n      <td>FC Barcelona</td>\n    </tr>\n    <tr>\n      <th>Cristiano Ronaldo</th>\n      <td>Cristiano Ronaldo dos Santos Aveiro</td>\n      <td>34</td>\n      <td>1985-02-05</td>\n      <td>187</td>\n      <td>83</td>\n      <td>Portugal</td>\n      <td>Juventus</td>\n    </tr>\n    <tr>\n      <th>Neymar Jr</th>\n      <td>Neymar da Silva Santos Junior</td>\n      <td>27</td>\n      <td>1992-02-05</td>\n      <td>175</td>\n      <td>68</td>\n      <td>Brazil</td>\n      <td>Paris Saint-Germain</td>\n    </tr>\n    <tr>\n      <th>J. Oblak</th>\n      <td>Jan Oblak</td>\n      <td>26</td>\n      <td>1993-01-07</td>\n      <td>188</td>\n      <td>87</td>\n      <td>Slovenia</td>\n      <td>Atlético Madrid</td>\n    </tr>\n    <tr>\n      <th>E. Hazard</th>\n      <td>Eden Hazard</td>\n      <td>28</td>\n      <td>1991-01-07</td>\n      <td>175</td>\n      <td>74</td>\n      <td>Belgium</td>\n      <td>Real Madrid</td>\n    </tr>\n    <tr>\n      <th>...</th>\n      <td>...</td>\n      <td>...</td>\n      <td>...</td>\n      <td>...</td>\n      <td>...</td>\n      <td>...</td>\n      <td>...</td>\n    </tr>\n    <tr>\n      <th>Shao Shuai</th>\n      <td>邵帅</td>\n      <td>22</td>\n      <td>1997-03-10</td>\n      <td>186</td>\n      <td>79</td>\n      <td>China PR</td>\n      <td>Beijing Renhe FC</td>\n    </tr>\n    <tr>\n      <th>Xiao Mingjie</th>\n      <td>Mingjie Xiao</td>\n      <td>22</td>\n      <td>1997-01-01</td>\n      <td>177</td>\n      <td>66</td>\n      <td>China PR</td>\n      <td>Shanghai SIPG FC</td>\n    </tr>\n    <tr>\n      <th>Zhang Wei</th>\n      <td>张威</td>\n      <td>19</td>\n      <td>2000-05-16</td>\n      <td>186</td>\n      <td>75</td>\n      <td>China PR</td>\n      <td>Hebei China Fortune FC</td>\n    </tr>\n    <tr>\n      <th>Wang Haijian</th>\n      <td>汪海健</td>\n      <td>18</td>\n      <td>2000-08-02</td>\n      <td>185</td>\n      <td>74</td>\n      <td>China PR</td>\n      <td>Shanghai Greenland Shenhua FC</td>\n    </tr>\n    <tr>\n      <th>Pan Ximing</th>\n      <td>潘喜明</td>\n      <td>26</td>\n      <td>1993-01-11</td>\n      <td>182</td>\n      <td>78</td>\n      <td>China PR</td>\n      <td>Hebei China Fortune FC</td>\n    </tr>\n  </tbody>\n</table>\n<p>18278 rows × 7 columns</p>\n</div>"
     },
     "execution_count": 29,
     "metadata": {},
     "output_type": "execute_result"
    }
   ],
   "source": [
    "df_players"
   ],
   "metadata": {
    "collapsed": false
   }
  },
  {
   "cell_type": "code",
   "execution_count": 30,
   "outputs": [
    {
     "data": {
      "text/plain": "170"
     },
     "execution_count": 30,
     "metadata": {},
     "output_type": "execute_result"
    }
   ],
   "source": [
    "df_players.iloc[0, 3]"
   ],
   "metadata": {
    "collapsed": false
   }
  },
  {
   "cell_type": "code",
   "execution_count": 31,
   "outputs": [
    {
     "data": {
      "text/plain": "short_name\nL. Messi             170\nCristiano Ronaldo    187\nNeymar Jr            175\nJ. Oblak             188\nE. Hazard            175\n                    ... \nShao Shuai           186\nXiao Mingjie         177\nZhang Wei            186\nWang Haijian         185\nPan Ximing           182\nName: height_cm, Length: 18278, dtype: int64"
     },
     "execution_count": 31,
     "metadata": {},
     "output_type": "execute_result"
    }
   ],
   "source": [
    "df_players.iloc[:, 3]"
   ],
   "metadata": {
    "collapsed": false
   }
  },
  {
   "cell_type": "code",
   "execution_count": 32,
   "outputs": [
    {
     "data": {
      "text/plain": "long_name      Lionel Andrés Messi Cuccittini\nage                                        32\ndob                                1987-06-24\nheight_cm                                 170\nweight_kg                                  72\nnationality                         Argentina\nclub                             FC Barcelona\nName: L. Messi, dtype: object"
     },
     "execution_count": 32,
     "metadata": {},
     "output_type": "execute_result"
    }
   ],
   "source": [
    "df_players.iloc[0, :]"
   ],
   "metadata": {
    "collapsed": false
   }
  },
  {
   "cell_type": "code",
   "execution_count": 33,
   "outputs": [
    {
     "data": {
      "text/plain": "                                             long_name  age         dob   \nshort_name                                                                \nL. Messi                Lionel Andrés Messi Cuccittini   32  1987-06-24  \\\nCristiano Ronaldo  Cristiano Ronaldo dos Santos Aveiro   34  1985-02-05   \nNeymar Jr                Neymar da Silva Santos Junior   27  1992-02-05   \nJ. Oblak                                     Jan Oblak   26  1993-01-07   \nE. Hazard                                  Eden Hazard   28  1991-01-07   \n...                                                ...  ...         ...   \nShao Shuai                                          邵帅   22  1997-03-10   \nXiao Mingjie                              Mingjie Xiao   22  1997-01-01   \nZhang Wei                                           张威   19  2000-05-16   \nWang Haijian                                       汪海健   18  2000-08-02   \nPan Ximing                                         潘喜明   26  1993-01-11   \n\n                   height_cm  weight_kg nationality   \nshort_name                                            \nL. Messi                 170         72   Argentina  \\\nCristiano Ronaldo        187         83    Portugal   \nNeymar Jr                175         68      Brazil   \nJ. Oblak                 188         87    Slovenia   \nE. Hazard                175         74     Belgium   \n...                      ...        ...         ...   \nShao Shuai               186         79    China PR   \nXiao Mingjie             177         66    China PR   \nZhang Wei                186         75    China PR   \nWang Haijian             185         74    China PR   \nPan Ximing               182         78    China PR   \n\n                                            club  \nshort_name                                        \nL. Messi                            FC Barcelona  \nCristiano Ronaldo                       Juventus  \nNeymar Jr                    Paris Saint-Germain  \nJ. Oblak                         Atlético Madrid  \nE. Hazard                            Real Madrid  \n...                                          ...  \nShao Shuai                      Beijing Renhe FC  \nXiao Mingjie                    Shanghai SIPG FC  \nZhang Wei                 Hebei China Fortune FC  \nWang Haijian       Shanghai Greenland Shenhua FC  \nPan Ximing                Hebei China Fortune FC  \n\n[18278 rows x 7 columns]",
      "text/html": "<div>\n<style scoped>\n    .dataframe tbody tr th:only-of-type {\n        vertical-align: middle;\n    }\n\n    .dataframe tbody tr th {\n        vertical-align: top;\n    }\n\n    .dataframe thead th {\n        text-align: right;\n    }\n</style>\n<table border=\"1\" class=\"dataframe\">\n  <thead>\n    <tr style=\"text-align: right;\">\n      <th></th>\n      <th>long_name</th>\n      <th>age</th>\n      <th>dob</th>\n      <th>height_cm</th>\n      <th>weight_kg</th>\n      <th>nationality</th>\n      <th>club</th>\n    </tr>\n    <tr>\n      <th>short_name</th>\n      <th></th>\n      <th></th>\n      <th></th>\n      <th></th>\n      <th></th>\n      <th></th>\n      <th></th>\n    </tr>\n  </thead>\n  <tbody>\n    <tr>\n      <th>L. Messi</th>\n      <td>Lionel Andrés Messi Cuccittini</td>\n      <td>32</td>\n      <td>1987-06-24</td>\n      <td>170</td>\n      <td>72</td>\n      <td>Argentina</td>\n      <td>FC Barcelona</td>\n    </tr>\n    <tr>\n      <th>Cristiano Ronaldo</th>\n      <td>Cristiano Ronaldo dos Santos Aveiro</td>\n      <td>34</td>\n      <td>1985-02-05</td>\n      <td>187</td>\n      <td>83</td>\n      <td>Portugal</td>\n      <td>Juventus</td>\n    </tr>\n    <tr>\n      <th>Neymar Jr</th>\n      <td>Neymar da Silva Santos Junior</td>\n      <td>27</td>\n      <td>1992-02-05</td>\n      <td>175</td>\n      <td>68</td>\n      <td>Brazil</td>\n      <td>Paris Saint-Germain</td>\n    </tr>\n    <tr>\n      <th>J. Oblak</th>\n      <td>Jan Oblak</td>\n      <td>26</td>\n      <td>1993-01-07</td>\n      <td>188</td>\n      <td>87</td>\n      <td>Slovenia</td>\n      <td>Atlético Madrid</td>\n    </tr>\n    <tr>\n      <th>E. Hazard</th>\n      <td>Eden Hazard</td>\n      <td>28</td>\n      <td>1991-01-07</td>\n      <td>175</td>\n      <td>74</td>\n      <td>Belgium</td>\n      <td>Real Madrid</td>\n    </tr>\n    <tr>\n      <th>...</th>\n      <td>...</td>\n      <td>...</td>\n      <td>...</td>\n      <td>...</td>\n      <td>...</td>\n      <td>...</td>\n      <td>...</td>\n    </tr>\n    <tr>\n      <th>Shao Shuai</th>\n      <td>邵帅</td>\n      <td>22</td>\n      <td>1997-03-10</td>\n      <td>186</td>\n      <td>79</td>\n      <td>China PR</td>\n      <td>Beijing Renhe FC</td>\n    </tr>\n    <tr>\n      <th>Xiao Mingjie</th>\n      <td>Mingjie Xiao</td>\n      <td>22</td>\n      <td>1997-01-01</td>\n      <td>177</td>\n      <td>66</td>\n      <td>China PR</td>\n      <td>Shanghai SIPG FC</td>\n    </tr>\n    <tr>\n      <th>Zhang Wei</th>\n      <td>张威</td>\n      <td>19</td>\n      <td>2000-05-16</td>\n      <td>186</td>\n      <td>75</td>\n      <td>China PR</td>\n      <td>Hebei China Fortune FC</td>\n    </tr>\n    <tr>\n      <th>Wang Haijian</th>\n      <td>汪海健</td>\n      <td>18</td>\n      <td>2000-08-02</td>\n      <td>185</td>\n      <td>74</td>\n      <td>China PR</td>\n      <td>Shanghai Greenland Shenhua FC</td>\n    </tr>\n    <tr>\n      <th>Pan Ximing</th>\n      <td>潘喜明</td>\n      <td>26</td>\n      <td>1993-01-11</td>\n      <td>182</td>\n      <td>78</td>\n      <td>China PR</td>\n      <td>Hebei China Fortune FC</td>\n    </tr>\n  </tbody>\n</table>\n<p>18278 rows × 7 columns</p>\n</div>"
     },
     "execution_count": 33,
     "metadata": {},
     "output_type": "execute_result"
    }
   ],
   "source": [
    "df_players"
   ],
   "metadata": {
    "collapsed": false
   }
  },
  {
   "cell_type": "code",
   "execution_count": 34,
   "outputs": [],
   "source": [
    "# import numpy as np\n",
    "df_players.iloc[-1, :] = np.nan"
   ],
   "metadata": {
    "collapsed": false
   }
  },
  {
   "cell_type": "code",
   "execution_count": 35,
   "outputs": [
    {
     "data": {
      "text/plain": "                                             long_name   age         dob   \nshort_name                                                                 \nL. Messi                Lionel Andrés Messi Cuccittini  32.0  1987-06-24  \\\nCristiano Ronaldo  Cristiano Ronaldo dos Santos Aveiro  34.0  1985-02-05   \nNeymar Jr                Neymar da Silva Santos Junior  27.0  1992-02-05   \nJ. Oblak                                     Jan Oblak  26.0  1993-01-07   \nE. Hazard                                  Eden Hazard  28.0  1991-01-07   \n...                                                ...   ...         ...   \nShao Shuai                                          邵帅  22.0  1997-03-10   \nXiao Mingjie                              Mingjie Xiao  22.0  1997-01-01   \nZhang Wei                                           张威  19.0  2000-05-16   \nWang Haijian                                       汪海健  18.0  2000-08-02   \nPan Ximing                                         NaN   NaN         NaN   \n\n                   height_cm  weight_kg nationality   \nshort_name                                            \nL. Messi               170.0       72.0   Argentina  \\\nCristiano Ronaldo      187.0       83.0    Portugal   \nNeymar Jr              175.0       68.0      Brazil   \nJ. Oblak               188.0       87.0    Slovenia   \nE. Hazard              175.0       74.0     Belgium   \n...                      ...        ...         ...   \nShao Shuai             186.0       79.0    China PR   \nXiao Mingjie           177.0       66.0    China PR   \nZhang Wei              186.0       75.0    China PR   \nWang Haijian           185.0       74.0    China PR   \nPan Ximing               NaN        NaN         NaN   \n\n                                            club  \nshort_name                                        \nL. Messi                            FC Barcelona  \nCristiano Ronaldo                       Juventus  \nNeymar Jr                    Paris Saint-Germain  \nJ. Oblak                         Atlético Madrid  \nE. Hazard                            Real Madrid  \n...                                          ...  \nShao Shuai                      Beijing Renhe FC  \nXiao Mingjie                    Shanghai SIPG FC  \nZhang Wei                 Hebei China Fortune FC  \nWang Haijian       Shanghai Greenland Shenhua FC  \nPan Ximing                                   NaN  \n\n[18278 rows x 7 columns]",
      "text/html": "<div>\n<style scoped>\n    .dataframe tbody tr th:only-of-type {\n        vertical-align: middle;\n    }\n\n    .dataframe tbody tr th {\n        vertical-align: top;\n    }\n\n    .dataframe thead th {\n        text-align: right;\n    }\n</style>\n<table border=\"1\" class=\"dataframe\">\n  <thead>\n    <tr style=\"text-align: right;\">\n      <th></th>\n      <th>long_name</th>\n      <th>age</th>\n      <th>dob</th>\n      <th>height_cm</th>\n      <th>weight_kg</th>\n      <th>nationality</th>\n      <th>club</th>\n    </tr>\n    <tr>\n      <th>short_name</th>\n      <th></th>\n      <th></th>\n      <th></th>\n      <th></th>\n      <th></th>\n      <th></th>\n      <th></th>\n    </tr>\n  </thead>\n  <tbody>\n    <tr>\n      <th>L. Messi</th>\n      <td>Lionel Andrés Messi Cuccittini</td>\n      <td>32.0</td>\n      <td>1987-06-24</td>\n      <td>170.0</td>\n      <td>72.0</td>\n      <td>Argentina</td>\n      <td>FC Barcelona</td>\n    </tr>\n    <tr>\n      <th>Cristiano Ronaldo</th>\n      <td>Cristiano Ronaldo dos Santos Aveiro</td>\n      <td>34.0</td>\n      <td>1985-02-05</td>\n      <td>187.0</td>\n      <td>83.0</td>\n      <td>Portugal</td>\n      <td>Juventus</td>\n    </tr>\n    <tr>\n      <th>Neymar Jr</th>\n      <td>Neymar da Silva Santos Junior</td>\n      <td>27.0</td>\n      <td>1992-02-05</td>\n      <td>175.0</td>\n      <td>68.0</td>\n      <td>Brazil</td>\n      <td>Paris Saint-Germain</td>\n    </tr>\n    <tr>\n      <th>J. Oblak</th>\n      <td>Jan Oblak</td>\n      <td>26.0</td>\n      <td>1993-01-07</td>\n      <td>188.0</td>\n      <td>87.0</td>\n      <td>Slovenia</td>\n      <td>Atlético Madrid</td>\n    </tr>\n    <tr>\n      <th>E. Hazard</th>\n      <td>Eden Hazard</td>\n      <td>28.0</td>\n      <td>1991-01-07</td>\n      <td>175.0</td>\n      <td>74.0</td>\n      <td>Belgium</td>\n      <td>Real Madrid</td>\n    </tr>\n    <tr>\n      <th>...</th>\n      <td>...</td>\n      <td>...</td>\n      <td>...</td>\n      <td>...</td>\n      <td>...</td>\n      <td>...</td>\n      <td>...</td>\n    </tr>\n    <tr>\n      <th>Shao Shuai</th>\n      <td>邵帅</td>\n      <td>22.0</td>\n      <td>1997-03-10</td>\n      <td>186.0</td>\n      <td>79.0</td>\n      <td>China PR</td>\n      <td>Beijing Renhe FC</td>\n    </tr>\n    <tr>\n      <th>Xiao Mingjie</th>\n      <td>Mingjie Xiao</td>\n      <td>22.0</td>\n      <td>1997-01-01</td>\n      <td>177.0</td>\n      <td>66.0</td>\n      <td>China PR</td>\n      <td>Shanghai SIPG FC</td>\n    </tr>\n    <tr>\n      <th>Zhang Wei</th>\n      <td>张威</td>\n      <td>19.0</td>\n      <td>2000-05-16</td>\n      <td>186.0</td>\n      <td>75.0</td>\n      <td>China PR</td>\n      <td>Hebei China Fortune FC</td>\n    </tr>\n    <tr>\n      <th>Wang Haijian</th>\n      <td>汪海健</td>\n      <td>18.0</td>\n      <td>2000-08-02</td>\n      <td>185.0</td>\n      <td>74.0</td>\n      <td>China PR</td>\n      <td>Shanghai Greenland Shenhua FC</td>\n    </tr>\n    <tr>\n      <th>Pan Ximing</th>\n      <td>NaN</td>\n      <td>NaN</td>\n      <td>NaN</td>\n      <td>NaN</td>\n      <td>NaN</td>\n      <td>NaN</td>\n      <td>NaN</td>\n    </tr>\n  </tbody>\n</table>\n<p>18278 rows × 7 columns</p>\n</div>"
     },
     "execution_count": 35,
     "metadata": {},
     "output_type": "execute_result"
    }
   ],
   "source": [
    "df_players"
   ],
   "metadata": {
    "collapsed": false
   }
  },
  {
   "cell_type": "code",
   "execution_count": 36,
   "outputs": [
    {
     "data": {
      "text/plain": "                       long_name   age         dob  height_cm  weight_kg   \nshort_name                                                                 \nB. Foster             Ben Foster  36.0  1983-04-03      193.0       90.0  \\\nJ. Defoe          Jermain  Defoe  36.0  1982-10-07      171.0       65.0   \nP. Jagielka        Phil Jagielka  36.0  1982-08-17      180.0       87.0   \nL. Grant               Lee Grant  36.0  1983-01-27      193.0       83.0   \nJ. Coppinger     James Coppinger  38.0  1981-01-10      170.0       65.0   \nJ. Bothroyd         Jay Bothroyd  37.0  1982-05-07      190.0       89.0   \nA. Akinfenwa   Adebayo Akinfenwa  37.0  1982-05-10      178.0      110.0   \nL. Varney            Luke Varney  36.0  1982-09-28      180.0       70.0   \nD. Perkins         David Perkins  37.0  1982-06-21      168.0       76.0   \nN. Bishop            Neal Bishop  37.0  1981-08-07      186.0       81.0   \nP. Clarke           Peter Clarke  37.0  1982-01-03      183.0       83.0   \nA. Wilbraham     Aaron Wilbraham  39.0  1979-10-21      191.0       80.0   \nM. Richards        Marc Richards  36.0  1982-07-08      180.0       81.0   \nS. Bywater       Stephen Bywater  38.0  1981-06-07      185.0       81.0   \nC. Woodman    Craig Alan Woodman  36.0  1982-12-22      175.0       68.0   \nM. Rose             Michael Rose  36.0  1982-07-28      180.0       78.0   \nD. Bulman          Dannie Bulman  40.0  1979-01-24      175.0       75.0   \nJ. Ibehre            Jabo Ibehre  36.0  1983-01-28      194.0       92.0   \nS. Russell           Sam Russell  36.0  1982-10-04      183.0       70.0   \nK. Ellison         Kevin Ellison  40.0  1979-02-23      180.0       76.0   \nJ. McCombe        Jamie  McCombe  36.0  1983-01-01      196.0       79.0   \n\n             nationality                        club  \nshort_name                                            \nB. Foster        England                     Watford  \nJ. Defoe         England                  Rangers FC  \nP. Jagielka      England            Sheffield United  \nL. Grant         England           Manchester United  \nJ. Coppinger     England            Doncaster Rovers  \nJ. Bothroyd      England  Hokkaido Consadole Sapporo  \nA. Akinfenwa     England           Wycombe Wanderers  \nL. Varney        England             Cheltenham Town  \nD. Perkins       England             Tranmere Rovers  \nN. Bishop        England              Mansfield Town  \nP. Clarke        England              Fleetwood Town  \nA. Wilbraham     England                    Rochdale  \nM. Richards      England            Cambridge United  \nS. Bywater       England               Burton Albion  \nC. Woodman       England                 Exeter City  \nM. Rose          England           Macclesfield Town  \nD. Bulman        England                Crawley Town  \nJ. Ibehre        England            Cambridge United  \nS. Russell       England                Grimsby Town  \nK. Ellison       England                   Morecambe  \nJ. McCombe       England                Lincoln City  ",
      "text/html": "<div>\n<style scoped>\n    .dataframe tbody tr th:only-of-type {\n        vertical-align: middle;\n    }\n\n    .dataframe tbody tr th {\n        vertical-align: top;\n    }\n\n    .dataframe thead th {\n        text-align: right;\n    }\n</style>\n<table border=\"1\" class=\"dataframe\">\n  <thead>\n    <tr style=\"text-align: right;\">\n      <th></th>\n      <th>long_name</th>\n      <th>age</th>\n      <th>dob</th>\n      <th>height_cm</th>\n      <th>weight_kg</th>\n      <th>nationality</th>\n      <th>club</th>\n    </tr>\n    <tr>\n      <th>short_name</th>\n      <th></th>\n      <th></th>\n      <th></th>\n      <th></th>\n      <th></th>\n      <th></th>\n      <th></th>\n    </tr>\n  </thead>\n  <tbody>\n    <tr>\n      <th>B. Foster</th>\n      <td>Ben Foster</td>\n      <td>36.0</td>\n      <td>1983-04-03</td>\n      <td>193.0</td>\n      <td>90.0</td>\n      <td>England</td>\n      <td>Watford</td>\n    </tr>\n    <tr>\n      <th>J. Defoe</th>\n      <td>Jermain  Defoe</td>\n      <td>36.0</td>\n      <td>1982-10-07</td>\n      <td>171.0</td>\n      <td>65.0</td>\n      <td>England</td>\n      <td>Rangers FC</td>\n    </tr>\n    <tr>\n      <th>P. Jagielka</th>\n      <td>Phil Jagielka</td>\n      <td>36.0</td>\n      <td>1982-08-17</td>\n      <td>180.0</td>\n      <td>87.0</td>\n      <td>England</td>\n      <td>Sheffield United</td>\n    </tr>\n    <tr>\n      <th>L. Grant</th>\n      <td>Lee Grant</td>\n      <td>36.0</td>\n      <td>1983-01-27</td>\n      <td>193.0</td>\n      <td>83.0</td>\n      <td>England</td>\n      <td>Manchester United</td>\n    </tr>\n    <tr>\n      <th>J. Coppinger</th>\n      <td>James Coppinger</td>\n      <td>38.0</td>\n      <td>1981-01-10</td>\n      <td>170.0</td>\n      <td>65.0</td>\n      <td>England</td>\n      <td>Doncaster Rovers</td>\n    </tr>\n    <tr>\n      <th>J. Bothroyd</th>\n      <td>Jay Bothroyd</td>\n      <td>37.0</td>\n      <td>1982-05-07</td>\n      <td>190.0</td>\n      <td>89.0</td>\n      <td>England</td>\n      <td>Hokkaido Consadole Sapporo</td>\n    </tr>\n    <tr>\n      <th>A. Akinfenwa</th>\n      <td>Adebayo Akinfenwa</td>\n      <td>37.0</td>\n      <td>1982-05-10</td>\n      <td>178.0</td>\n      <td>110.0</td>\n      <td>England</td>\n      <td>Wycombe Wanderers</td>\n    </tr>\n    <tr>\n      <th>L. Varney</th>\n      <td>Luke Varney</td>\n      <td>36.0</td>\n      <td>1982-09-28</td>\n      <td>180.0</td>\n      <td>70.0</td>\n      <td>England</td>\n      <td>Cheltenham Town</td>\n    </tr>\n    <tr>\n      <th>D. Perkins</th>\n      <td>David Perkins</td>\n      <td>37.0</td>\n      <td>1982-06-21</td>\n      <td>168.0</td>\n      <td>76.0</td>\n      <td>England</td>\n      <td>Tranmere Rovers</td>\n    </tr>\n    <tr>\n      <th>N. Bishop</th>\n      <td>Neal Bishop</td>\n      <td>37.0</td>\n      <td>1981-08-07</td>\n      <td>186.0</td>\n      <td>81.0</td>\n      <td>England</td>\n      <td>Mansfield Town</td>\n    </tr>\n    <tr>\n      <th>P. Clarke</th>\n      <td>Peter Clarke</td>\n      <td>37.0</td>\n      <td>1982-01-03</td>\n      <td>183.0</td>\n      <td>83.0</td>\n      <td>England</td>\n      <td>Fleetwood Town</td>\n    </tr>\n    <tr>\n      <th>A. Wilbraham</th>\n      <td>Aaron Wilbraham</td>\n      <td>39.0</td>\n      <td>1979-10-21</td>\n      <td>191.0</td>\n      <td>80.0</td>\n      <td>England</td>\n      <td>Rochdale</td>\n    </tr>\n    <tr>\n      <th>M. Richards</th>\n      <td>Marc Richards</td>\n      <td>36.0</td>\n      <td>1982-07-08</td>\n      <td>180.0</td>\n      <td>81.0</td>\n      <td>England</td>\n      <td>Cambridge United</td>\n    </tr>\n    <tr>\n      <th>S. Bywater</th>\n      <td>Stephen Bywater</td>\n      <td>38.0</td>\n      <td>1981-06-07</td>\n      <td>185.0</td>\n      <td>81.0</td>\n      <td>England</td>\n      <td>Burton Albion</td>\n    </tr>\n    <tr>\n      <th>C. Woodman</th>\n      <td>Craig Alan Woodman</td>\n      <td>36.0</td>\n      <td>1982-12-22</td>\n      <td>175.0</td>\n      <td>68.0</td>\n      <td>England</td>\n      <td>Exeter City</td>\n    </tr>\n    <tr>\n      <th>M. Rose</th>\n      <td>Michael Rose</td>\n      <td>36.0</td>\n      <td>1982-07-28</td>\n      <td>180.0</td>\n      <td>78.0</td>\n      <td>England</td>\n      <td>Macclesfield Town</td>\n    </tr>\n    <tr>\n      <th>D. Bulman</th>\n      <td>Dannie Bulman</td>\n      <td>40.0</td>\n      <td>1979-01-24</td>\n      <td>175.0</td>\n      <td>75.0</td>\n      <td>England</td>\n      <td>Crawley Town</td>\n    </tr>\n    <tr>\n      <th>J. Ibehre</th>\n      <td>Jabo Ibehre</td>\n      <td>36.0</td>\n      <td>1983-01-28</td>\n      <td>194.0</td>\n      <td>92.0</td>\n      <td>England</td>\n      <td>Cambridge United</td>\n    </tr>\n    <tr>\n      <th>S. Russell</th>\n      <td>Sam Russell</td>\n      <td>36.0</td>\n      <td>1982-10-04</td>\n      <td>183.0</td>\n      <td>70.0</td>\n      <td>England</td>\n      <td>Grimsby Town</td>\n    </tr>\n    <tr>\n      <th>K. Ellison</th>\n      <td>Kevin Ellison</td>\n      <td>40.0</td>\n      <td>1979-02-23</td>\n      <td>180.0</td>\n      <td>76.0</td>\n      <td>England</td>\n      <td>Morecambe</td>\n    </tr>\n    <tr>\n      <th>J. McCombe</th>\n      <td>Jamie  McCombe</td>\n      <td>36.0</td>\n      <td>1983-01-01</td>\n      <td>196.0</td>\n      <td>79.0</td>\n      <td>England</td>\n      <td>Lincoln City</td>\n    </tr>\n  </tbody>\n</table>\n</div>"
     },
     "execution_count": 36,
     "metadata": {},
     "output_type": "execute_result"
    }
   ],
   "source": [
    "con1 = df_players['age'] > 35\n",
    "con2 = df_players['nationality'] == \"England\"\n",
    "df_players.loc[con1 & con2]"
   ],
   "metadata": {
    "collapsed": false
   }
  },
  {
   "cell_type": "code",
   "execution_count": 37,
   "outputs": [],
   "source": [
    "condition = df_players['height_cm'] > 200\n",
    "columns = ['age', 'height_cm', 'dob', 'weight']\n",
    "df_players.loc[condition, columns] = 0"
   ],
   "metadata": {
    "collapsed": false
   }
  },
  {
   "cell_type": "code",
   "execution_count": 38,
   "outputs": [
    {
     "data": {
      "text/plain": "                                             long_name   age         dob   \nshort_name                                                                 \nL. Messi                Lionel Andrés Messi Cuccittini  32.0  1987-06-24  \\\nCristiano Ronaldo  Cristiano Ronaldo dos Santos Aveiro  34.0  1985-02-05   \nNeymar Jr                Neymar da Silva Santos Junior  27.0  1992-02-05   \nJ. Oblak                                     Jan Oblak  26.0  1993-01-07   \nE. Hazard                                  Eden Hazard  28.0  1991-01-07   \n...                                                ...   ...         ...   \nShao Shuai                                          邵帅  22.0  1997-03-10   \nXiao Mingjie                              Mingjie Xiao  22.0  1997-01-01   \nZhang Wei                                           张威  19.0  2000-05-16   \nWang Haijian                                       汪海健  18.0  2000-08-02   \nPan Ximing                                         NaN   NaN         NaN   \n\n                   height_cm  weight_kg nationality   \nshort_name                                            \nL. Messi               170.0       72.0   Argentina  \\\nCristiano Ronaldo      187.0       83.0    Portugal   \nNeymar Jr              175.0       68.0      Brazil   \nJ. Oblak               188.0       87.0    Slovenia   \nE. Hazard              175.0       74.0     Belgium   \n...                      ...        ...         ...   \nShao Shuai             186.0       79.0    China PR   \nXiao Mingjie           177.0       66.0    China PR   \nZhang Wei              186.0       75.0    China PR   \nWang Haijian           185.0       74.0    China PR   \nPan Ximing               NaN        NaN         NaN   \n\n                                            club  weight  \nshort_name                                                \nL. Messi                            FC Barcelona     NaN  \nCristiano Ronaldo                       Juventus     NaN  \nNeymar Jr                    Paris Saint-Germain     NaN  \nJ. Oblak                         Atlético Madrid     NaN  \nE. Hazard                            Real Madrid     NaN  \n...                                          ...     ...  \nShao Shuai                      Beijing Renhe FC     NaN  \nXiao Mingjie                    Shanghai SIPG FC     NaN  \nZhang Wei                 Hebei China Fortune FC     NaN  \nWang Haijian       Shanghai Greenland Shenhua FC     NaN  \nPan Ximing                                   NaN     NaN  \n\n[18278 rows x 8 columns]",
      "text/html": "<div>\n<style scoped>\n    .dataframe tbody tr th:only-of-type {\n        vertical-align: middle;\n    }\n\n    .dataframe tbody tr th {\n        vertical-align: top;\n    }\n\n    .dataframe thead th {\n        text-align: right;\n    }\n</style>\n<table border=\"1\" class=\"dataframe\">\n  <thead>\n    <tr style=\"text-align: right;\">\n      <th></th>\n      <th>long_name</th>\n      <th>age</th>\n      <th>dob</th>\n      <th>height_cm</th>\n      <th>weight_kg</th>\n      <th>nationality</th>\n      <th>club</th>\n      <th>weight</th>\n    </tr>\n    <tr>\n      <th>short_name</th>\n      <th></th>\n      <th></th>\n      <th></th>\n      <th></th>\n      <th></th>\n      <th></th>\n      <th></th>\n      <th></th>\n    </tr>\n  </thead>\n  <tbody>\n    <tr>\n      <th>L. Messi</th>\n      <td>Lionel Andrés Messi Cuccittini</td>\n      <td>32.0</td>\n      <td>1987-06-24</td>\n      <td>170.0</td>\n      <td>72.0</td>\n      <td>Argentina</td>\n      <td>FC Barcelona</td>\n      <td>NaN</td>\n    </tr>\n    <tr>\n      <th>Cristiano Ronaldo</th>\n      <td>Cristiano Ronaldo dos Santos Aveiro</td>\n      <td>34.0</td>\n      <td>1985-02-05</td>\n      <td>187.0</td>\n      <td>83.0</td>\n      <td>Portugal</td>\n      <td>Juventus</td>\n      <td>NaN</td>\n    </tr>\n    <tr>\n      <th>Neymar Jr</th>\n      <td>Neymar da Silva Santos Junior</td>\n      <td>27.0</td>\n      <td>1992-02-05</td>\n      <td>175.0</td>\n      <td>68.0</td>\n      <td>Brazil</td>\n      <td>Paris Saint-Germain</td>\n      <td>NaN</td>\n    </tr>\n    <tr>\n      <th>J. Oblak</th>\n      <td>Jan Oblak</td>\n      <td>26.0</td>\n      <td>1993-01-07</td>\n      <td>188.0</td>\n      <td>87.0</td>\n      <td>Slovenia</td>\n      <td>Atlético Madrid</td>\n      <td>NaN</td>\n    </tr>\n    <tr>\n      <th>E. Hazard</th>\n      <td>Eden Hazard</td>\n      <td>28.0</td>\n      <td>1991-01-07</td>\n      <td>175.0</td>\n      <td>74.0</td>\n      <td>Belgium</td>\n      <td>Real Madrid</td>\n      <td>NaN</td>\n    </tr>\n    <tr>\n      <th>...</th>\n      <td>...</td>\n      <td>...</td>\n      <td>...</td>\n      <td>...</td>\n      <td>...</td>\n      <td>...</td>\n      <td>...</td>\n      <td>...</td>\n    </tr>\n    <tr>\n      <th>Shao Shuai</th>\n      <td>邵帅</td>\n      <td>22.0</td>\n      <td>1997-03-10</td>\n      <td>186.0</td>\n      <td>79.0</td>\n      <td>China PR</td>\n      <td>Beijing Renhe FC</td>\n      <td>NaN</td>\n    </tr>\n    <tr>\n      <th>Xiao Mingjie</th>\n      <td>Mingjie Xiao</td>\n      <td>22.0</td>\n      <td>1997-01-01</td>\n      <td>177.0</td>\n      <td>66.0</td>\n      <td>China PR</td>\n      <td>Shanghai SIPG FC</td>\n      <td>NaN</td>\n    </tr>\n    <tr>\n      <th>Zhang Wei</th>\n      <td>张威</td>\n      <td>19.0</td>\n      <td>2000-05-16</td>\n      <td>186.0</td>\n      <td>75.0</td>\n      <td>China PR</td>\n      <td>Hebei China Fortune FC</td>\n      <td>NaN</td>\n    </tr>\n    <tr>\n      <th>Wang Haijian</th>\n      <td>汪海健</td>\n      <td>18.0</td>\n      <td>2000-08-02</td>\n      <td>185.0</td>\n      <td>74.0</td>\n      <td>China PR</td>\n      <td>Shanghai Greenland Shenhua FC</td>\n      <td>NaN</td>\n    </tr>\n    <tr>\n      <th>Pan Ximing</th>\n      <td>NaN</td>\n      <td>NaN</td>\n      <td>NaN</td>\n      <td>NaN</td>\n      <td>NaN</td>\n      <td>NaN</td>\n      <td>NaN</td>\n      <td>NaN</td>\n    </tr>\n  </tbody>\n</table>\n<p>18278 rows × 8 columns</p>\n</div>"
     },
     "execution_count": 38,
     "metadata": {},
     "output_type": "execute_result"
    }
   ],
   "source": [
    "df_players"
   ],
   "metadata": {
    "collapsed": false
   }
  },
  {
   "cell_type": "code",
   "execution_count": 39,
   "outputs": [
    {
     "data": {
      "text/plain": "                                         long_name  age dob  height_cm   \nshort_name                                                               \nL. Kalinić                           Lovre Kalinić  0.0   0        0.0  \\\nF. Forster                          Fraser Forster  0.0   0        0.0   \nC. Pantilimon                    Costel Pantilimon  0.0   0        0.0   \nK. Letica                             Karlo Letica  0.0   0        0.0   \nP. Onuachu                      Paul Ebere Onuachu  0.0   0        0.0   \nH. Veerman                            Henk Veerman  0.0   0        0.0   \nV. Milinković-Savić         Vanja Milinković-Savić  0.0   0        0.0   \nL. Traoré                            Lacina Traoré  0.0   0        0.0   \nA. Vukotić                      Aleksandar Vukotić  0.0   0        0.0   \nA. Sjöberg                            Axel Sjöberg  0.0   0        0.0   \nK. Scherpen                         Kjell Scherpen  0.0   0        0.0   \nA. Ba                                    Abdoul Ba  0.0   0        0.0   \nS. Makienok          Simon Makienok Christoffersen  0.0   0        0.0   \nT. Holý                                 Tomáš Holý  0.0   0        0.0   \nE. Johansen                  Eirik Holmen Johansen  0.0   0        0.0   \nA. Chapman                           Aaron Chapman  0.0   0        0.0   \nM. Qvist                         Mikkel Mena Qvist  0.0   0        0.0   \nR. Laidlaw                            Ross Laidlaw  0.0   0        0.0   \nK. Athiu                               Kenny Athiu  0.0   0        0.0   \nS. Brolin                            Samuel Brolin  0.0   0        0.0   \nM. Casey                                Matt Casey  0.0   0        0.0   \nD. Thiam                               Demba Thiam  0.0   0        0.0   \n\n                     weight_kg     nationality                 club  weight  \nshort_name                                                                   \nL. Kalinić                99.0         Croatia          Aston Villa     0.0  \nF. Forster                93.0         England          Southampton     0.0  \nC. Pantilimon             96.0         Romania    Nottingham Forest     0.0  \nK. Letica                 96.0         Croatia       Club Brugge KV     0.0  \nP. Onuachu                82.0         Nigeria       FC Midtjylland     0.0  \nH. Veerman                90.0     Netherlands         FC St. Pauli     0.0  \nV. Milinković-Savić       92.0          Serbia    Standard de Liège     0.0  \nL. Traoré                 87.0     Ivory Coast             CFR Cluj     0.0  \nA. Vukotić                95.0          Serbia     Waasland-Beveren     0.0  \nA. Sjöberg                95.0          Sweden      Colorado Rapids     0.0  \nK. Scherpen               85.0     Netherlands                 Ajax     0.0  \nA. Ba                     94.0      Mauritania           AJ Auxerre     0.0  \nS. Makienok               94.0         Denmark           FC Utrecht     0.0  \nT. Holý                  102.0  Czech Republic         Ipswich Town     0.0  \nE. Johansen              102.0          Norway             SK Brann     0.0  \nA. Chapman                92.0         England  Peterborough United     0.0  \nM. Qvist                  94.0         Denmark           AC Horsens     0.0  \nR. Laidlaw                85.0        Scotland       Ross County FC     0.0  \nK. Athiu                  85.0     South Sudan    Melbourne Victory     0.0  \nS. Brolin                 85.0          Sweden                  AIK     0.0  \nM. Casey                  80.0         England           Portsmouth     0.0  \nD. Thiam                  87.0         Senegal                 SPAL     0.0  ",
      "text/html": "<div>\n<style scoped>\n    .dataframe tbody tr th:only-of-type {\n        vertical-align: middle;\n    }\n\n    .dataframe tbody tr th {\n        vertical-align: top;\n    }\n\n    .dataframe thead th {\n        text-align: right;\n    }\n</style>\n<table border=\"1\" class=\"dataframe\">\n  <thead>\n    <tr style=\"text-align: right;\">\n      <th></th>\n      <th>long_name</th>\n      <th>age</th>\n      <th>dob</th>\n      <th>height_cm</th>\n      <th>weight_kg</th>\n      <th>nationality</th>\n      <th>club</th>\n      <th>weight</th>\n    </tr>\n    <tr>\n      <th>short_name</th>\n      <th></th>\n      <th></th>\n      <th></th>\n      <th></th>\n      <th></th>\n      <th></th>\n      <th></th>\n      <th></th>\n    </tr>\n  </thead>\n  <tbody>\n    <tr>\n      <th>L. Kalinić</th>\n      <td>Lovre Kalinić</td>\n      <td>0.0</td>\n      <td>0</td>\n      <td>0.0</td>\n      <td>99.0</td>\n      <td>Croatia</td>\n      <td>Aston Villa</td>\n      <td>0.0</td>\n    </tr>\n    <tr>\n      <th>F. Forster</th>\n      <td>Fraser Forster</td>\n      <td>0.0</td>\n      <td>0</td>\n      <td>0.0</td>\n      <td>93.0</td>\n      <td>England</td>\n      <td>Southampton</td>\n      <td>0.0</td>\n    </tr>\n    <tr>\n      <th>C. Pantilimon</th>\n      <td>Costel Pantilimon</td>\n      <td>0.0</td>\n      <td>0</td>\n      <td>0.0</td>\n      <td>96.0</td>\n      <td>Romania</td>\n      <td>Nottingham Forest</td>\n      <td>0.0</td>\n    </tr>\n    <tr>\n      <th>K. Letica</th>\n      <td>Karlo Letica</td>\n      <td>0.0</td>\n      <td>0</td>\n      <td>0.0</td>\n      <td>96.0</td>\n      <td>Croatia</td>\n      <td>Club Brugge KV</td>\n      <td>0.0</td>\n    </tr>\n    <tr>\n      <th>P. Onuachu</th>\n      <td>Paul Ebere Onuachu</td>\n      <td>0.0</td>\n      <td>0</td>\n      <td>0.0</td>\n      <td>82.0</td>\n      <td>Nigeria</td>\n      <td>FC Midtjylland</td>\n      <td>0.0</td>\n    </tr>\n    <tr>\n      <th>H. Veerman</th>\n      <td>Henk Veerman</td>\n      <td>0.0</td>\n      <td>0</td>\n      <td>0.0</td>\n      <td>90.0</td>\n      <td>Netherlands</td>\n      <td>FC St. Pauli</td>\n      <td>0.0</td>\n    </tr>\n    <tr>\n      <th>V. Milinković-Savić</th>\n      <td>Vanja Milinković-Savić</td>\n      <td>0.0</td>\n      <td>0</td>\n      <td>0.0</td>\n      <td>92.0</td>\n      <td>Serbia</td>\n      <td>Standard de Liège</td>\n      <td>0.0</td>\n    </tr>\n    <tr>\n      <th>L. Traoré</th>\n      <td>Lacina Traoré</td>\n      <td>0.0</td>\n      <td>0</td>\n      <td>0.0</td>\n      <td>87.0</td>\n      <td>Ivory Coast</td>\n      <td>CFR Cluj</td>\n      <td>0.0</td>\n    </tr>\n    <tr>\n      <th>A. Vukotić</th>\n      <td>Aleksandar Vukotić</td>\n      <td>0.0</td>\n      <td>0</td>\n      <td>0.0</td>\n      <td>95.0</td>\n      <td>Serbia</td>\n      <td>Waasland-Beveren</td>\n      <td>0.0</td>\n    </tr>\n    <tr>\n      <th>A. Sjöberg</th>\n      <td>Axel Sjöberg</td>\n      <td>0.0</td>\n      <td>0</td>\n      <td>0.0</td>\n      <td>95.0</td>\n      <td>Sweden</td>\n      <td>Colorado Rapids</td>\n      <td>0.0</td>\n    </tr>\n    <tr>\n      <th>K. Scherpen</th>\n      <td>Kjell Scherpen</td>\n      <td>0.0</td>\n      <td>0</td>\n      <td>0.0</td>\n      <td>85.0</td>\n      <td>Netherlands</td>\n      <td>Ajax</td>\n      <td>0.0</td>\n    </tr>\n    <tr>\n      <th>A. Ba</th>\n      <td>Abdoul Ba</td>\n      <td>0.0</td>\n      <td>0</td>\n      <td>0.0</td>\n      <td>94.0</td>\n      <td>Mauritania</td>\n      <td>AJ Auxerre</td>\n      <td>0.0</td>\n    </tr>\n    <tr>\n      <th>S. Makienok</th>\n      <td>Simon Makienok Christoffersen</td>\n      <td>0.0</td>\n      <td>0</td>\n      <td>0.0</td>\n      <td>94.0</td>\n      <td>Denmark</td>\n      <td>FC Utrecht</td>\n      <td>0.0</td>\n    </tr>\n    <tr>\n      <th>T. Holý</th>\n      <td>Tomáš Holý</td>\n      <td>0.0</td>\n      <td>0</td>\n      <td>0.0</td>\n      <td>102.0</td>\n      <td>Czech Republic</td>\n      <td>Ipswich Town</td>\n      <td>0.0</td>\n    </tr>\n    <tr>\n      <th>E. Johansen</th>\n      <td>Eirik Holmen Johansen</td>\n      <td>0.0</td>\n      <td>0</td>\n      <td>0.0</td>\n      <td>102.0</td>\n      <td>Norway</td>\n      <td>SK Brann</td>\n      <td>0.0</td>\n    </tr>\n    <tr>\n      <th>A. Chapman</th>\n      <td>Aaron Chapman</td>\n      <td>0.0</td>\n      <td>0</td>\n      <td>0.0</td>\n      <td>92.0</td>\n      <td>England</td>\n      <td>Peterborough United</td>\n      <td>0.0</td>\n    </tr>\n    <tr>\n      <th>M. Qvist</th>\n      <td>Mikkel Mena Qvist</td>\n      <td>0.0</td>\n      <td>0</td>\n      <td>0.0</td>\n      <td>94.0</td>\n      <td>Denmark</td>\n      <td>AC Horsens</td>\n      <td>0.0</td>\n    </tr>\n    <tr>\n      <th>R. Laidlaw</th>\n      <td>Ross Laidlaw</td>\n      <td>0.0</td>\n      <td>0</td>\n      <td>0.0</td>\n      <td>85.0</td>\n      <td>Scotland</td>\n      <td>Ross County FC</td>\n      <td>0.0</td>\n    </tr>\n    <tr>\n      <th>K. Athiu</th>\n      <td>Kenny Athiu</td>\n      <td>0.0</td>\n      <td>0</td>\n      <td>0.0</td>\n      <td>85.0</td>\n      <td>South Sudan</td>\n      <td>Melbourne Victory</td>\n      <td>0.0</td>\n    </tr>\n    <tr>\n      <th>S. Brolin</th>\n      <td>Samuel Brolin</td>\n      <td>0.0</td>\n      <td>0</td>\n      <td>0.0</td>\n      <td>85.0</td>\n      <td>Sweden</td>\n      <td>AIK</td>\n      <td>0.0</td>\n    </tr>\n    <tr>\n      <th>M. Casey</th>\n      <td>Matt Casey</td>\n      <td>0.0</td>\n      <td>0</td>\n      <td>0.0</td>\n      <td>80.0</td>\n      <td>England</td>\n      <td>Portsmouth</td>\n      <td>0.0</td>\n    </tr>\n    <tr>\n      <th>D. Thiam</th>\n      <td>Demba Thiam</td>\n      <td>0.0</td>\n      <td>0</td>\n      <td>0.0</td>\n      <td>87.0</td>\n      <td>Senegal</td>\n      <td>SPAL</td>\n      <td>0.0</td>\n    </tr>\n  </tbody>\n</table>\n</div>"
     },
     "execution_count": 39,
     "metadata": {},
     "output_type": "execute_result"
    }
   ],
   "source": [
    "df_players.loc[condition]"
   ],
   "metadata": {
    "collapsed": false
   }
  },
  {
   "cell_type": "code",
   "execution_count": 40,
   "outputs": [],
   "source": [
    "df = pd.read_csv('players_20.csv')\n",
    "columns = ['short_name', 'long_name', 'age', 'height_cm', 'weight_kg', 'nationality', 'dob', 'club']\n",
    "df = df[columns]"
   ],
   "metadata": {
    "collapsed": false
   }
  },
  {
   "cell_type": "code",
   "execution_count": 41,
   "outputs": [],
   "source": [
    "df.set_index('short_name', inplace=True)"
   ],
   "metadata": {
    "collapsed": false
   }
  },
  {
   "cell_type": "code",
   "execution_count": 42,
   "outputs": [
    {
     "data": {
      "text/plain": "                                             long_name  age  height_cm   \nshort_name                                                               \nL. Messi                Lionel Andrés Messi Cuccittini   32        170  \\\nCristiano Ronaldo  Cristiano Ronaldo dos Santos Aveiro   34        187   \nNeymar Jr                Neymar da Silva Santos Junior   27        175   \nJ. Oblak                                     Jan Oblak   26        188   \nE. Hazard                                  Eden Hazard   28        175   \n...                                                ...  ...        ...   \nShao Shuai                                          邵帅   22        186   \nXiao Mingjie                              Mingjie Xiao   22        177   \nZhang Wei                                           张威   19        186   \nWang Haijian                                       汪海健   18        185   \nPan Ximing                                         潘喜明   26        182   \n\n                   weight_kg nationality         dob   \nshort_name                                             \nL. Messi                  72   Argentina  1987-06-24  \\\nCristiano Ronaldo         83    Portugal  1985-02-05   \nNeymar Jr                 68      Brazil  1992-02-05   \nJ. Oblak                  87    Slovenia  1993-01-07   \nE. Hazard                 74     Belgium  1991-01-07   \n...                      ...         ...         ...   \nShao Shuai                79    China PR  1997-03-10   \nXiao Mingjie              66    China PR  1997-01-01   \nZhang Wei                 75    China PR  2000-05-16   \nWang Haijian              74    China PR  2000-08-02   \nPan Ximing                78    China PR  1993-01-11   \n\n                                            club  \nshort_name                                        \nL. Messi                            FC Barcelona  \nCristiano Ronaldo                       Juventus  \nNeymar Jr                    Paris Saint-Germain  \nJ. Oblak                         Atlético Madrid  \nE. Hazard                            Real Madrid  \n...                                          ...  \nShao Shuai                      Beijing Renhe FC  \nXiao Mingjie                    Shanghai SIPG FC  \nZhang Wei                 Hebei China Fortune FC  \nWang Haijian       Shanghai Greenland Shenhua FC  \nPan Ximing                Hebei China Fortune FC  \n\n[18278 rows x 7 columns]",
      "text/html": "<div>\n<style scoped>\n    .dataframe tbody tr th:only-of-type {\n        vertical-align: middle;\n    }\n\n    .dataframe tbody tr th {\n        vertical-align: top;\n    }\n\n    .dataframe thead th {\n        text-align: right;\n    }\n</style>\n<table border=\"1\" class=\"dataframe\">\n  <thead>\n    <tr style=\"text-align: right;\">\n      <th></th>\n      <th>long_name</th>\n      <th>age</th>\n      <th>height_cm</th>\n      <th>weight_kg</th>\n      <th>nationality</th>\n      <th>dob</th>\n      <th>club</th>\n    </tr>\n    <tr>\n      <th>short_name</th>\n      <th></th>\n      <th></th>\n      <th></th>\n      <th></th>\n      <th></th>\n      <th></th>\n      <th></th>\n    </tr>\n  </thead>\n  <tbody>\n    <tr>\n      <th>L. Messi</th>\n      <td>Lionel Andrés Messi Cuccittini</td>\n      <td>32</td>\n      <td>170</td>\n      <td>72</td>\n      <td>Argentina</td>\n      <td>1987-06-24</td>\n      <td>FC Barcelona</td>\n    </tr>\n    <tr>\n      <th>Cristiano Ronaldo</th>\n      <td>Cristiano Ronaldo dos Santos Aveiro</td>\n      <td>34</td>\n      <td>187</td>\n      <td>83</td>\n      <td>Portugal</td>\n      <td>1985-02-05</td>\n      <td>Juventus</td>\n    </tr>\n    <tr>\n      <th>Neymar Jr</th>\n      <td>Neymar da Silva Santos Junior</td>\n      <td>27</td>\n      <td>175</td>\n      <td>68</td>\n      <td>Brazil</td>\n      <td>1992-02-05</td>\n      <td>Paris Saint-Germain</td>\n    </tr>\n    <tr>\n      <th>J. Oblak</th>\n      <td>Jan Oblak</td>\n      <td>26</td>\n      <td>188</td>\n      <td>87</td>\n      <td>Slovenia</td>\n      <td>1993-01-07</td>\n      <td>Atlético Madrid</td>\n    </tr>\n    <tr>\n      <th>E. Hazard</th>\n      <td>Eden Hazard</td>\n      <td>28</td>\n      <td>175</td>\n      <td>74</td>\n      <td>Belgium</td>\n      <td>1991-01-07</td>\n      <td>Real Madrid</td>\n    </tr>\n    <tr>\n      <th>...</th>\n      <td>...</td>\n      <td>...</td>\n      <td>...</td>\n      <td>...</td>\n      <td>...</td>\n      <td>...</td>\n      <td>...</td>\n    </tr>\n    <tr>\n      <th>Shao Shuai</th>\n      <td>邵帅</td>\n      <td>22</td>\n      <td>186</td>\n      <td>79</td>\n      <td>China PR</td>\n      <td>1997-03-10</td>\n      <td>Beijing Renhe FC</td>\n    </tr>\n    <tr>\n      <th>Xiao Mingjie</th>\n      <td>Mingjie Xiao</td>\n      <td>22</td>\n      <td>177</td>\n      <td>66</td>\n      <td>China PR</td>\n      <td>1997-01-01</td>\n      <td>Shanghai SIPG FC</td>\n    </tr>\n    <tr>\n      <th>Zhang Wei</th>\n      <td>张威</td>\n      <td>19</td>\n      <td>186</td>\n      <td>75</td>\n      <td>China PR</td>\n      <td>2000-05-16</td>\n      <td>Hebei China Fortune FC</td>\n    </tr>\n    <tr>\n      <th>Wang Haijian</th>\n      <td>汪海健</td>\n      <td>18</td>\n      <td>185</td>\n      <td>74</td>\n      <td>China PR</td>\n      <td>2000-08-02</td>\n      <td>Shanghai Greenland Shenhua FC</td>\n    </tr>\n    <tr>\n      <th>Pan Ximing</th>\n      <td>潘喜明</td>\n      <td>26</td>\n      <td>182</td>\n      <td>78</td>\n      <td>China PR</td>\n      <td>1993-01-11</td>\n      <td>Hebei China Fortune FC</td>\n    </tr>\n  </tbody>\n</table>\n<p>18278 rows × 7 columns</p>\n</div>"
     },
     "execution_count": 42,
     "metadata": {},
     "output_type": "execute_result"
    }
   ],
   "source": [
    "df"
   ],
   "metadata": {
    "collapsed": false
   }
  },
  {
   "cell_type": "code",
   "execution_count": 43,
   "outputs": [],
   "source": [
    "?"
   ],
   "metadata": {
    "collapsed": false
   }
  },
  {
   "cell_type": "code",
   "execution_count": 44,
   "outputs": [
    {
     "data": {
      "text/plain": "                                             long_name  age  height_cm   \nshort_name                                                               \nL. Messi                Lionel Andrés Messi Cuccittini   32        170  \\\nCristiano Ronaldo  Cristiano Ronaldo dos Santos Aveiro   34        187   \nNeymar Jr                Neymar da Silva Santos Junior   27        175   \nJ. Oblak                                     Jan Oblak   26        188   \nE. Hazard                                  Eden Hazard   28        175   \n...                                                ...  ...        ...   \nShao Shuai                                          邵帅   22        186   \nXiao Mingjie                              Mingjie Xiao   22        177   \nZhang Wei                                           张威   19        186   \nWang Haijian                                       汪海健   18        185   \nPan Ximing                                         潘喜明   26        182   \n\n                   weight_kg nationality         dob   \nshort_name                                             \nL. Messi                  72   Argentina  1987-06-24  \\\nCristiano Ronaldo         83    Portugal  1985-02-05   \nNeymar Jr                 68      Brazil  1992-02-05   \nJ. Oblak                  87    Slovenia  1993-01-07   \nE. Hazard                 74     Belgium  1991-01-07   \n...                      ...         ...         ...   \nShao Shuai                79    China PR  1997-03-10   \nXiao Mingjie              66    China PR  1997-01-01   \nZhang Wei                 75    China PR  2000-05-16   \nWang Haijian              74    China PR  2000-08-02   \nPan Ximing                78    China PR  1993-01-11   \n\n                                            club  \nshort_name                                        \nL. Messi                            FC Barcelona  \nCristiano Ronaldo                       Juventus  \nNeymar Jr                    Paris Saint-Germain  \nJ. Oblak                         Atlético Madrid  \nE. Hazard                            Real Madrid  \n...                                          ...  \nShao Shuai                      Beijing Renhe FC  \nXiao Mingjie                    Shanghai SIPG FC  \nZhang Wei                 Hebei China Fortune FC  \nWang Haijian       Shanghai Greenland Shenhua FC  \nPan Ximing                Hebei China Fortune FC  \n\n[18278 rows x 7 columns]",
      "text/html": "<div>\n<style scoped>\n    .dataframe tbody tr th:only-of-type {\n        vertical-align: middle;\n    }\n\n    .dataframe tbody tr th {\n        vertical-align: top;\n    }\n\n    .dataframe thead th {\n        text-align: right;\n    }\n</style>\n<table border=\"1\" class=\"dataframe\">\n  <thead>\n    <tr style=\"text-align: right;\">\n      <th></th>\n      <th>long_name</th>\n      <th>age</th>\n      <th>height_cm</th>\n      <th>weight_kg</th>\n      <th>nationality</th>\n      <th>dob</th>\n      <th>club</th>\n    </tr>\n    <tr>\n      <th>short_name</th>\n      <th></th>\n      <th></th>\n      <th></th>\n      <th></th>\n      <th></th>\n      <th></th>\n      <th></th>\n    </tr>\n  </thead>\n  <tbody>\n    <tr>\n      <th>L. Messi</th>\n      <td>Lionel Andrés Messi Cuccittini</td>\n      <td>32</td>\n      <td>170</td>\n      <td>72</td>\n      <td>Argentina</td>\n      <td>1987-06-24</td>\n      <td>FC Barcelona</td>\n    </tr>\n    <tr>\n      <th>Cristiano Ronaldo</th>\n      <td>Cristiano Ronaldo dos Santos Aveiro</td>\n      <td>34</td>\n      <td>187</td>\n      <td>83</td>\n      <td>Portugal</td>\n      <td>1985-02-05</td>\n      <td>Juventus</td>\n    </tr>\n    <tr>\n      <th>Neymar Jr</th>\n      <td>Neymar da Silva Santos Junior</td>\n      <td>27</td>\n      <td>175</td>\n      <td>68</td>\n      <td>Brazil</td>\n      <td>1992-02-05</td>\n      <td>Paris Saint-Germain</td>\n    </tr>\n    <tr>\n      <th>J. Oblak</th>\n      <td>Jan Oblak</td>\n      <td>26</td>\n      <td>188</td>\n      <td>87</td>\n      <td>Slovenia</td>\n      <td>1993-01-07</td>\n      <td>Atlético Madrid</td>\n    </tr>\n    <tr>\n      <th>E. Hazard</th>\n      <td>Eden Hazard</td>\n      <td>28</td>\n      <td>175</td>\n      <td>74</td>\n      <td>Belgium</td>\n      <td>1991-01-07</td>\n      <td>Real Madrid</td>\n    </tr>\n    <tr>\n      <th>...</th>\n      <td>...</td>\n      <td>...</td>\n      <td>...</td>\n      <td>...</td>\n      <td>...</td>\n      <td>...</td>\n      <td>...</td>\n    </tr>\n    <tr>\n      <th>Shao Shuai</th>\n      <td>邵帅</td>\n      <td>22</td>\n      <td>186</td>\n      <td>79</td>\n      <td>China PR</td>\n      <td>1997-03-10</td>\n      <td>Beijing Renhe FC</td>\n    </tr>\n    <tr>\n      <th>Xiao Mingjie</th>\n      <td>Mingjie Xiao</td>\n      <td>22</td>\n      <td>177</td>\n      <td>66</td>\n      <td>China PR</td>\n      <td>1997-01-01</td>\n      <td>Shanghai SIPG FC</td>\n    </tr>\n    <tr>\n      <th>Zhang Wei</th>\n      <td>张威</td>\n      <td>19</td>\n      <td>186</td>\n      <td>75</td>\n      <td>China PR</td>\n      <td>2000-05-16</td>\n      <td>Hebei China Fortune FC</td>\n    </tr>\n    <tr>\n      <th>Wang Haijian</th>\n      <td>汪海健</td>\n      <td>18</td>\n      <td>185</td>\n      <td>74</td>\n      <td>China PR</td>\n      <td>2000-08-02</td>\n      <td>Shanghai Greenland Shenhua FC</td>\n    </tr>\n    <tr>\n      <th>Pan Ximing</th>\n      <td>潘喜明</td>\n      <td>26</td>\n      <td>182</td>\n      <td>78</td>\n      <td>China PR</td>\n      <td>1993-01-11</td>\n      <td>Hebei China Fortune FC</td>\n    </tr>\n  </tbody>\n</table>\n<p>18278 rows × 7 columns</p>\n</div>"
     },
     "execution_count": 44,
     "metadata": {},
     "output_type": "execute_result"
    }
   ],
   "source": [
    "df"
   ],
   "metadata": {
    "collapsed": false
   }
  },
  {
   "cell_type": "code",
   "execution_count": 45,
   "outputs": [],
   "source": [
    "df.drop(index=['J. Oblak'], inplace=True)"
   ],
   "metadata": {
    "collapsed": false
   }
  },
  {
   "cell_type": "code",
   "execution_count": 46,
   "outputs": [],
   "source": [
    "# df"
   ],
   "metadata": {
    "collapsed": false
   }
  },
  {
   "cell_type": "code",
   "execution_count": 47,
   "outputs": [],
   "source": [
    "# df.drop(['dob', 'age'], axis=1, inplace=True)"
   ],
   "metadata": {
    "collapsed": false
   }
  },
  {
   "cell_type": "code",
   "execution_count": 48,
   "outputs": [],
   "source": [
    "df.drop(['E. Hazard', 'K. De Bruyne'], axis=0, inplace=True)"
   ],
   "metadata": {
    "collapsed": false
   }
  },
  {
   "cell_type": "code",
   "execution_count": 49,
   "outputs": [
    {
     "data": {
      "text/plain": "                                             long_name  age  height_cm   \nshort_name                                                               \nL. Messi                Lionel Andrés Messi Cuccittini   32        170  \\\nCristiano Ronaldo  Cristiano Ronaldo dos Santos Aveiro   34        187   \nNeymar Jr                Neymar da Silva Santos Junior   27        175   \nM. ter Stegen                    Marc-André ter Stegen   27        187   \nV. van Dijk                            Virgil van Dijk   27        193   \n...                                                ...  ...        ...   \nShao Shuai                                          邵帅   22        186   \nXiao Mingjie                              Mingjie Xiao   22        177   \nZhang Wei                                           张威   19        186   \nWang Haijian                                       汪海健   18        185   \nPan Ximing                                         潘喜明   26        182   \n\n                   weight_kg  nationality         dob   \nshort_name                                              \nL. Messi                  72    Argentina  1987-06-24  \\\nCristiano Ronaldo         83     Portugal  1985-02-05   \nNeymar Jr                 68       Brazil  1992-02-05   \nM. ter Stegen             85      Germany  1992-04-30   \nV. van Dijk               92  Netherlands  1991-07-08   \n...                      ...          ...         ...   \nShao Shuai                79     China PR  1997-03-10   \nXiao Mingjie              66     China PR  1997-01-01   \nZhang Wei                 75     China PR  2000-05-16   \nWang Haijian              74     China PR  2000-08-02   \nPan Ximing                78     China PR  1993-01-11   \n\n                                            club  \nshort_name                                        \nL. Messi                            FC Barcelona  \nCristiano Ronaldo                       Juventus  \nNeymar Jr                    Paris Saint-Germain  \nM. ter Stegen                       FC Barcelona  \nV. van Dijk                            Liverpool  \n...                                          ...  \nShao Shuai                      Beijing Renhe FC  \nXiao Mingjie                    Shanghai SIPG FC  \nZhang Wei                 Hebei China Fortune FC  \nWang Haijian       Shanghai Greenland Shenhua FC  \nPan Ximing                Hebei China Fortune FC  \n\n[18275 rows x 7 columns]",
      "text/html": "<div>\n<style scoped>\n    .dataframe tbody tr th:only-of-type {\n        vertical-align: middle;\n    }\n\n    .dataframe tbody tr th {\n        vertical-align: top;\n    }\n\n    .dataframe thead th {\n        text-align: right;\n    }\n</style>\n<table border=\"1\" class=\"dataframe\">\n  <thead>\n    <tr style=\"text-align: right;\">\n      <th></th>\n      <th>long_name</th>\n      <th>age</th>\n      <th>height_cm</th>\n      <th>weight_kg</th>\n      <th>nationality</th>\n      <th>dob</th>\n      <th>club</th>\n    </tr>\n    <tr>\n      <th>short_name</th>\n      <th></th>\n      <th></th>\n      <th></th>\n      <th></th>\n      <th></th>\n      <th></th>\n      <th></th>\n    </tr>\n  </thead>\n  <tbody>\n    <tr>\n      <th>L. Messi</th>\n      <td>Lionel Andrés Messi Cuccittini</td>\n      <td>32</td>\n      <td>170</td>\n      <td>72</td>\n      <td>Argentina</td>\n      <td>1987-06-24</td>\n      <td>FC Barcelona</td>\n    </tr>\n    <tr>\n      <th>Cristiano Ronaldo</th>\n      <td>Cristiano Ronaldo dos Santos Aveiro</td>\n      <td>34</td>\n      <td>187</td>\n      <td>83</td>\n      <td>Portugal</td>\n      <td>1985-02-05</td>\n      <td>Juventus</td>\n    </tr>\n    <tr>\n      <th>Neymar Jr</th>\n      <td>Neymar da Silva Santos Junior</td>\n      <td>27</td>\n      <td>175</td>\n      <td>68</td>\n      <td>Brazil</td>\n      <td>1992-02-05</td>\n      <td>Paris Saint-Germain</td>\n    </tr>\n    <tr>\n      <th>M. ter Stegen</th>\n      <td>Marc-André ter Stegen</td>\n      <td>27</td>\n      <td>187</td>\n      <td>85</td>\n      <td>Germany</td>\n      <td>1992-04-30</td>\n      <td>FC Barcelona</td>\n    </tr>\n    <tr>\n      <th>V. van Dijk</th>\n      <td>Virgil van Dijk</td>\n      <td>27</td>\n      <td>193</td>\n      <td>92</td>\n      <td>Netherlands</td>\n      <td>1991-07-08</td>\n      <td>Liverpool</td>\n    </tr>\n    <tr>\n      <th>...</th>\n      <td>...</td>\n      <td>...</td>\n      <td>...</td>\n      <td>...</td>\n      <td>...</td>\n      <td>...</td>\n      <td>...</td>\n    </tr>\n    <tr>\n      <th>Shao Shuai</th>\n      <td>邵帅</td>\n      <td>22</td>\n      <td>186</td>\n      <td>79</td>\n      <td>China PR</td>\n      <td>1997-03-10</td>\n      <td>Beijing Renhe FC</td>\n    </tr>\n    <tr>\n      <th>Xiao Mingjie</th>\n      <td>Mingjie Xiao</td>\n      <td>22</td>\n      <td>177</td>\n      <td>66</td>\n      <td>China PR</td>\n      <td>1997-01-01</td>\n      <td>Shanghai SIPG FC</td>\n    </tr>\n    <tr>\n      <th>Zhang Wei</th>\n      <td>张威</td>\n      <td>19</td>\n      <td>186</td>\n      <td>75</td>\n      <td>China PR</td>\n      <td>2000-05-16</td>\n      <td>Hebei China Fortune FC</td>\n    </tr>\n    <tr>\n      <th>Wang Haijian</th>\n      <td>汪海健</td>\n      <td>18</td>\n      <td>185</td>\n      <td>74</td>\n      <td>China PR</td>\n      <td>2000-08-02</td>\n      <td>Shanghai Greenland Shenhua FC</td>\n    </tr>\n    <tr>\n      <th>Pan Ximing</th>\n      <td>潘喜明</td>\n      <td>26</td>\n      <td>182</td>\n      <td>78</td>\n      <td>China PR</td>\n      <td>1993-01-11</td>\n      <td>Hebei China Fortune FC</td>\n    </tr>\n  </tbody>\n</table>\n<p>18275 rows × 7 columns</p>\n</div>"
     },
     "execution_count": 49,
     "metadata": {},
     "output_type": "execute_result"
    }
   ],
   "source": [
    "df"
   ],
   "metadata": {
    "collapsed": false
   }
  },
  {
   "cell_type": "code",
   "execution_count": 50,
   "outputs": [],
   "source": [
    "df['dob'] = 0"
   ],
   "metadata": {
    "collapsed": false
   }
  },
  {
   "cell_type": "code",
   "execution_count": 51,
   "outputs": [
    {
     "data": {
      "text/plain": "                                             long_name  age  height_cm   \nshort_name                                                               \nL. Messi                Lionel Andrés Messi Cuccittini   32        170  \\\nCristiano Ronaldo  Cristiano Ronaldo dos Santos Aveiro   34        187   \nNeymar Jr                Neymar da Silva Santos Junior   27        175   \nM. ter Stegen                    Marc-André ter Stegen   27        187   \nV. van Dijk                            Virgil van Dijk   27        193   \n...                                                ...  ...        ...   \nShao Shuai                                          邵帅   22        186   \nXiao Mingjie                              Mingjie Xiao   22        177   \nZhang Wei                                           张威   19        186   \nWang Haijian                                       汪海健   18        185   \nPan Ximing                                         潘喜明   26        182   \n\n                   weight_kg  nationality  dob                           club  \nshort_name                                                                     \nL. Messi                  72    Argentina    0                   FC Barcelona  \nCristiano Ronaldo         83     Portugal    0                       Juventus  \nNeymar Jr                 68       Brazil    0            Paris Saint-Germain  \nM. ter Stegen             85      Germany    0                   FC Barcelona  \nV. van Dijk               92  Netherlands    0                      Liverpool  \n...                      ...          ...  ...                            ...  \nShao Shuai                79     China PR    0               Beijing Renhe FC  \nXiao Mingjie              66     China PR    0               Shanghai SIPG FC  \nZhang Wei                 75     China PR    0         Hebei China Fortune FC  \nWang Haijian              74     China PR    0  Shanghai Greenland Shenhua FC  \nPan Ximing                78     China PR    0         Hebei China Fortune FC  \n\n[18275 rows x 7 columns]",
      "text/html": "<div>\n<style scoped>\n    .dataframe tbody tr th:only-of-type {\n        vertical-align: middle;\n    }\n\n    .dataframe tbody tr th {\n        vertical-align: top;\n    }\n\n    .dataframe thead th {\n        text-align: right;\n    }\n</style>\n<table border=\"1\" class=\"dataframe\">\n  <thead>\n    <tr style=\"text-align: right;\">\n      <th></th>\n      <th>long_name</th>\n      <th>age</th>\n      <th>height_cm</th>\n      <th>weight_kg</th>\n      <th>nationality</th>\n      <th>dob</th>\n      <th>club</th>\n    </tr>\n    <tr>\n      <th>short_name</th>\n      <th></th>\n      <th></th>\n      <th></th>\n      <th></th>\n      <th></th>\n      <th></th>\n      <th></th>\n    </tr>\n  </thead>\n  <tbody>\n    <tr>\n      <th>L. Messi</th>\n      <td>Lionel Andrés Messi Cuccittini</td>\n      <td>32</td>\n      <td>170</td>\n      <td>72</td>\n      <td>Argentina</td>\n      <td>0</td>\n      <td>FC Barcelona</td>\n    </tr>\n    <tr>\n      <th>Cristiano Ronaldo</th>\n      <td>Cristiano Ronaldo dos Santos Aveiro</td>\n      <td>34</td>\n      <td>187</td>\n      <td>83</td>\n      <td>Portugal</td>\n      <td>0</td>\n      <td>Juventus</td>\n    </tr>\n    <tr>\n      <th>Neymar Jr</th>\n      <td>Neymar da Silva Santos Junior</td>\n      <td>27</td>\n      <td>175</td>\n      <td>68</td>\n      <td>Brazil</td>\n      <td>0</td>\n      <td>Paris Saint-Germain</td>\n    </tr>\n    <tr>\n      <th>M. ter Stegen</th>\n      <td>Marc-André ter Stegen</td>\n      <td>27</td>\n      <td>187</td>\n      <td>85</td>\n      <td>Germany</td>\n      <td>0</td>\n      <td>FC Barcelona</td>\n    </tr>\n    <tr>\n      <th>V. van Dijk</th>\n      <td>Virgil van Dijk</td>\n      <td>27</td>\n      <td>193</td>\n      <td>92</td>\n      <td>Netherlands</td>\n      <td>0</td>\n      <td>Liverpool</td>\n    </tr>\n    <tr>\n      <th>...</th>\n      <td>...</td>\n      <td>...</td>\n      <td>...</td>\n      <td>...</td>\n      <td>...</td>\n      <td>...</td>\n      <td>...</td>\n    </tr>\n    <tr>\n      <th>Shao Shuai</th>\n      <td>邵帅</td>\n      <td>22</td>\n      <td>186</td>\n      <td>79</td>\n      <td>China PR</td>\n      <td>0</td>\n      <td>Beijing Renhe FC</td>\n    </tr>\n    <tr>\n      <th>Xiao Mingjie</th>\n      <td>Mingjie Xiao</td>\n      <td>22</td>\n      <td>177</td>\n      <td>66</td>\n      <td>China PR</td>\n      <td>0</td>\n      <td>Shanghai SIPG FC</td>\n    </tr>\n    <tr>\n      <th>Zhang Wei</th>\n      <td>张威</td>\n      <td>19</td>\n      <td>186</td>\n      <td>75</td>\n      <td>China PR</td>\n      <td>0</td>\n      <td>Hebei China Fortune FC</td>\n    </tr>\n    <tr>\n      <th>Wang Haijian</th>\n      <td>汪海健</td>\n      <td>18</td>\n      <td>185</td>\n      <td>74</td>\n      <td>China PR</td>\n      <td>0</td>\n      <td>Shanghai Greenland Shenhua FC</td>\n    </tr>\n    <tr>\n      <th>Pan Ximing</th>\n      <td>潘喜明</td>\n      <td>26</td>\n      <td>182</td>\n      <td>78</td>\n      <td>China PR</td>\n      <td>0</td>\n      <td>Hebei China Fortune FC</td>\n    </tr>\n  </tbody>\n</table>\n<p>18275 rows × 7 columns</p>\n</div>"
     },
     "execution_count": 51,
     "metadata": {},
     "output_type": "execute_result"
    }
   ],
   "source": [
    "df"
   ],
   "metadata": {
    "collapsed": false
   }
  },
  {
   "cell_type": "code",
   "execution_count": 52,
   "outputs": [],
   "source": [
    "df = pd.read_csv('players_20.csv')\n",
    "df.set_index('short_name', inplace=True)\n"
   ],
   "metadata": {
    "collapsed": false
   }
  },
  {
   "cell_type": "code",
   "execution_count": 53,
   "outputs": [],
   "source": [
    "columns = ['long_name', 'age', 'height_cm', 'weight_kg', 'nationality', 'dob', 'club']\n",
    "df = df[columns]"
   ],
   "metadata": {
    "collapsed": false
   }
  },
  {
   "cell_type": "code",
   "execution_count": 54,
   "outputs": [
    {
     "data": {
      "text/plain": "                                             long_name  age  height_cm   \nshort_name                                                               \nL. Messi                Lionel Andrés Messi Cuccittini   32        170  \\\nCristiano Ronaldo  Cristiano Ronaldo dos Santos Aveiro   34        187   \nNeymar Jr                Neymar da Silva Santos Junior   27        175   \nJ. Oblak                                     Jan Oblak   26        188   \nE. Hazard                                  Eden Hazard   28        175   \n...                                                ...  ...        ...   \nShao Shuai                                          邵帅   22        186   \nXiao Mingjie                              Mingjie Xiao   22        177   \nZhang Wei                                           张威   19        186   \nWang Haijian                                       汪海健   18        185   \nPan Ximing                                         潘喜明   26        182   \n\n                   weight_kg nationality         dob   \nshort_name                                             \nL. Messi                  72   Argentina  1987-06-24  \\\nCristiano Ronaldo         83    Portugal  1985-02-05   \nNeymar Jr                 68      Brazil  1992-02-05   \nJ. Oblak                  87    Slovenia  1993-01-07   \nE. Hazard                 74     Belgium  1991-01-07   \n...                      ...         ...         ...   \nShao Shuai                79    China PR  1997-03-10   \nXiao Mingjie              66    China PR  1997-01-01   \nZhang Wei                 75    China PR  2000-05-16   \nWang Haijian              74    China PR  2000-08-02   \nPan Ximing                78    China PR  1993-01-11   \n\n                                            club  \nshort_name                                        \nL. Messi                            FC Barcelona  \nCristiano Ronaldo                       Juventus  \nNeymar Jr                    Paris Saint-Germain  \nJ. Oblak                         Atlético Madrid  \nE. Hazard                            Real Madrid  \n...                                          ...  \nShao Shuai                      Beijing Renhe FC  \nXiao Mingjie                    Shanghai SIPG FC  \nZhang Wei                 Hebei China Fortune FC  \nWang Haijian       Shanghai Greenland Shenhua FC  \nPan Ximing                Hebei China Fortune FC  \n\n[18278 rows x 7 columns]",
      "text/html": "<div>\n<style scoped>\n    .dataframe tbody tr th:only-of-type {\n        vertical-align: middle;\n    }\n\n    .dataframe tbody tr th {\n        vertical-align: top;\n    }\n\n    .dataframe thead th {\n        text-align: right;\n    }\n</style>\n<table border=\"1\" class=\"dataframe\">\n  <thead>\n    <tr style=\"text-align: right;\">\n      <th></th>\n      <th>long_name</th>\n      <th>age</th>\n      <th>height_cm</th>\n      <th>weight_kg</th>\n      <th>nationality</th>\n      <th>dob</th>\n      <th>club</th>\n    </tr>\n    <tr>\n      <th>short_name</th>\n      <th></th>\n      <th></th>\n      <th></th>\n      <th></th>\n      <th></th>\n      <th></th>\n      <th></th>\n    </tr>\n  </thead>\n  <tbody>\n    <tr>\n      <th>L. Messi</th>\n      <td>Lionel Andrés Messi Cuccittini</td>\n      <td>32</td>\n      <td>170</td>\n      <td>72</td>\n      <td>Argentina</td>\n      <td>1987-06-24</td>\n      <td>FC Barcelona</td>\n    </tr>\n    <tr>\n      <th>Cristiano Ronaldo</th>\n      <td>Cristiano Ronaldo dos Santos Aveiro</td>\n      <td>34</td>\n      <td>187</td>\n      <td>83</td>\n      <td>Portugal</td>\n      <td>1985-02-05</td>\n      <td>Juventus</td>\n    </tr>\n    <tr>\n      <th>Neymar Jr</th>\n      <td>Neymar da Silva Santos Junior</td>\n      <td>27</td>\n      <td>175</td>\n      <td>68</td>\n      <td>Brazil</td>\n      <td>1992-02-05</td>\n      <td>Paris Saint-Germain</td>\n    </tr>\n    <tr>\n      <th>J. Oblak</th>\n      <td>Jan Oblak</td>\n      <td>26</td>\n      <td>188</td>\n      <td>87</td>\n      <td>Slovenia</td>\n      <td>1993-01-07</td>\n      <td>Atlético Madrid</td>\n    </tr>\n    <tr>\n      <th>E. Hazard</th>\n      <td>Eden Hazard</td>\n      <td>28</td>\n      <td>175</td>\n      <td>74</td>\n      <td>Belgium</td>\n      <td>1991-01-07</td>\n      <td>Real Madrid</td>\n    </tr>\n    <tr>\n      <th>...</th>\n      <td>...</td>\n      <td>...</td>\n      <td>...</td>\n      <td>...</td>\n      <td>...</td>\n      <td>...</td>\n      <td>...</td>\n    </tr>\n    <tr>\n      <th>Shao Shuai</th>\n      <td>邵帅</td>\n      <td>22</td>\n      <td>186</td>\n      <td>79</td>\n      <td>China PR</td>\n      <td>1997-03-10</td>\n      <td>Beijing Renhe FC</td>\n    </tr>\n    <tr>\n      <th>Xiao Mingjie</th>\n      <td>Mingjie Xiao</td>\n      <td>22</td>\n      <td>177</td>\n      <td>66</td>\n      <td>China PR</td>\n      <td>1997-01-01</td>\n      <td>Shanghai SIPG FC</td>\n    </tr>\n    <tr>\n      <th>Zhang Wei</th>\n      <td>张威</td>\n      <td>19</td>\n      <td>186</td>\n      <td>75</td>\n      <td>China PR</td>\n      <td>2000-05-16</td>\n      <td>Hebei China Fortune FC</td>\n    </tr>\n    <tr>\n      <th>Wang Haijian</th>\n      <td>汪海健</td>\n      <td>18</td>\n      <td>185</td>\n      <td>74</td>\n      <td>China PR</td>\n      <td>2000-08-02</td>\n      <td>Shanghai Greenland Shenhua FC</td>\n    </tr>\n    <tr>\n      <th>Pan Ximing</th>\n      <td>潘喜明</td>\n      <td>26</td>\n      <td>182</td>\n      <td>78</td>\n      <td>China PR</td>\n      <td>1993-01-11</td>\n      <td>Hebei China Fortune FC</td>\n    </tr>\n  </tbody>\n</table>\n<p>18278 rows × 7 columns</p>\n</div>"
     },
     "execution_count": 54,
     "metadata": {},
     "output_type": "execute_result"
    }
   ],
   "source": [
    "df"
   ],
   "metadata": {
    "collapsed": false
   }
  },
  {
   "cell_type": "code",
   "execution_count": 55,
   "outputs": [
    {
     "data": {
      "text/plain": "short_name\nM. Romeo        Antigua & Barbuda\nA. Rodríguez             Colombia\nH. Urrego                Colombia\nG. Sawyer                 England\nL. Butelle                 France\nM. Deman                  Belgium\nE. Cuello               Argentina\nYazalde             Guinea Bissau\nI. Bebou                     Togo\nC. Breadner              Scotland\nName: nationality, dtype: object"
     },
     "execution_count": 55,
     "metadata": {},
     "output_type": "execute_result"
    }
   ],
   "source": [
    "df['nationality'].sample(10)"
   ],
   "metadata": {
    "collapsed": false
   }
  },
  {
   "cell_type": "code",
   "execution_count": 56,
   "outputs": [
    {
     "data": {
      "text/plain": "                                             long_name  age  height_cm   \nshort_name                                                               \nL. Messi                Lionel Andrés Messi Cuccittini   32        170  \\\nCristiano Ronaldo  Cristiano Ronaldo dos Santos Aveiro   34        187   \nNeymar Jr                Neymar da Silva Santos Junior   27        175   \nJ. Oblak                                     Jan Oblak   26        188   \nE. Hazard                                  Eden Hazard   28        175   \n...                                                ...  ...        ...   \nShao Shuai                                          邵帅   22        186   \nXiao Mingjie                              Mingjie Xiao   22        177   \nZhang Wei                                           张威   19        186   \nWang Haijian                                       汪海健   18        185   \nPan Ximing                                         潘喜明   26        182   \n\n                   weight_kg nationality         dob   \nshort_name                                             \nL. Messi                  72   Argentina  1987-06-24  \\\nCristiano Ronaldo         83    Portugal  1985-02-05   \nNeymar Jr                 68      Brazil  1992-02-05   \nJ. Oblak                  87    Slovenia  1993-01-07   \nE. Hazard                 74     Belgium  1991-01-07   \n...                      ...         ...         ...   \nShao Shuai                79    China PR  1997-03-10   \nXiao Mingjie              66    China PR  1997-01-01   \nZhang Wei                 75    China PR  2000-05-16   \nWang Haijian              74    China PR  2000-08-02   \nPan Ximing                78    China PR  1993-01-11   \n\n                                            club  \nshort_name                                        \nL. Messi                            FC Barcelona  \nCristiano Ronaldo                       Juventus  \nNeymar Jr                    Paris Saint-Germain  \nJ. Oblak                         Atlético Madrid  \nE. Hazard                            Real Madrid  \n...                                          ...  \nShao Shuai                      Beijing Renhe FC  \nXiao Mingjie                    Shanghai SIPG FC  \nZhang Wei                 Hebei China Fortune FC  \nWang Haijian       Shanghai Greenland Shenhua FC  \nPan Ximing                Hebei China Fortune FC  \n\n[18278 rows x 7 columns]",
      "text/html": "<div>\n<style scoped>\n    .dataframe tbody tr th:only-of-type {\n        vertical-align: middle;\n    }\n\n    .dataframe tbody tr th {\n        vertical-align: top;\n    }\n\n    .dataframe thead th {\n        text-align: right;\n    }\n</style>\n<table border=\"1\" class=\"dataframe\">\n  <thead>\n    <tr style=\"text-align: right;\">\n      <th></th>\n      <th>long_name</th>\n      <th>age</th>\n      <th>height_cm</th>\n      <th>weight_kg</th>\n      <th>nationality</th>\n      <th>dob</th>\n      <th>club</th>\n    </tr>\n    <tr>\n      <th>short_name</th>\n      <th></th>\n      <th></th>\n      <th></th>\n      <th></th>\n      <th></th>\n      <th></th>\n      <th></th>\n    </tr>\n  </thead>\n  <tbody>\n    <tr>\n      <th>L. Messi</th>\n      <td>Lionel Andrés Messi Cuccittini</td>\n      <td>32</td>\n      <td>170</td>\n      <td>72</td>\n      <td>Argentina</td>\n      <td>1987-06-24</td>\n      <td>FC Barcelona</td>\n    </tr>\n    <tr>\n      <th>Cristiano Ronaldo</th>\n      <td>Cristiano Ronaldo dos Santos Aveiro</td>\n      <td>34</td>\n      <td>187</td>\n      <td>83</td>\n      <td>Portugal</td>\n      <td>1985-02-05</td>\n      <td>Juventus</td>\n    </tr>\n    <tr>\n      <th>Neymar Jr</th>\n      <td>Neymar da Silva Santos Junior</td>\n      <td>27</td>\n      <td>175</td>\n      <td>68</td>\n      <td>Brazil</td>\n      <td>1992-02-05</td>\n      <td>Paris Saint-Germain</td>\n    </tr>\n    <tr>\n      <th>J. Oblak</th>\n      <td>Jan Oblak</td>\n      <td>26</td>\n      <td>188</td>\n      <td>87</td>\n      <td>Slovenia</td>\n      <td>1993-01-07</td>\n      <td>Atlético Madrid</td>\n    </tr>\n    <tr>\n      <th>E. Hazard</th>\n      <td>Eden Hazard</td>\n      <td>28</td>\n      <td>175</td>\n      <td>74</td>\n      <td>Belgium</td>\n      <td>1991-01-07</td>\n      <td>Real Madrid</td>\n    </tr>\n    <tr>\n      <th>...</th>\n      <td>...</td>\n      <td>...</td>\n      <td>...</td>\n      <td>...</td>\n      <td>...</td>\n      <td>...</td>\n      <td>...</td>\n    </tr>\n    <tr>\n      <th>Shao Shuai</th>\n      <td>邵帅</td>\n      <td>22</td>\n      <td>186</td>\n      <td>79</td>\n      <td>China PR</td>\n      <td>1997-03-10</td>\n      <td>Beijing Renhe FC</td>\n    </tr>\n    <tr>\n      <th>Xiao Mingjie</th>\n      <td>Mingjie Xiao</td>\n      <td>22</td>\n      <td>177</td>\n      <td>66</td>\n      <td>China PR</td>\n      <td>1997-01-01</td>\n      <td>Shanghai SIPG FC</td>\n    </tr>\n    <tr>\n      <th>Zhang Wei</th>\n      <td>张威</td>\n      <td>19</td>\n      <td>186</td>\n      <td>75</td>\n      <td>China PR</td>\n      <td>2000-05-16</td>\n      <td>Hebei China Fortune FC</td>\n    </tr>\n    <tr>\n      <th>Wang Haijian</th>\n      <td>汪海健</td>\n      <td>18</td>\n      <td>185</td>\n      <td>74</td>\n      <td>China PR</td>\n      <td>2000-08-02</td>\n      <td>Shanghai Greenland Shenhua FC</td>\n    </tr>\n    <tr>\n      <th>Pan Ximing</th>\n      <td>潘喜明</td>\n      <td>26</td>\n      <td>182</td>\n      <td>78</td>\n      <td>China PR</td>\n      <td>1993-01-11</td>\n      <td>Hebei China Fortune FC</td>\n    </tr>\n  </tbody>\n</table>\n<p>18278 rows × 7 columns</p>\n</div>"
     },
     "execution_count": 56,
     "metadata": {},
     "output_type": "execute_result"
    }
   ],
   "source": [
    "df.sample(frac=2, replace=True)\n",
    "df"
   ],
   "metadata": {
    "collapsed": false
   }
  },
  {
   "cell_type": "code",
   "execution_count": 57,
   "outputs": [
    {
     "data": {
      "text/plain": "                                             long_name  age  height_cm   \nshort_name                                                               \nL. Messi                Lionel Andrés Messi Cuccittini   32        170  \\\nCristiano Ronaldo  Cristiano Ronaldo dos Santos Aveiro   34        187   \nNeymar Jr                Neymar da Silva Santos Junior   27        175   \nJ. Oblak                                     Jan Oblak   26        188   \nE. Hazard                                  Eden Hazard   28        175   \n...                                                ...  ...        ...   \nShao Shuai                                          邵帅   22        186   \nXiao Mingjie                              Mingjie Xiao   22        177   \nZhang Wei                                           张威   19        186   \nWang Haijian                                       汪海健   18        185   \nPan Ximing                                         潘喜明   26        182   \n\n                   weight_kg nationality         dob   \nshort_name                                             \nL. Messi                  72   Argentina  1987-06-24  \\\nCristiano Ronaldo         83    Portugal  1985-02-05   \nNeymar Jr                 68      Brazil  1992-02-05   \nJ. Oblak                  87    Slovenia  1993-01-07   \nE. Hazard                 74     Belgium  1991-01-07   \n...                      ...         ...         ...   \nShao Shuai                79    China PR  1997-03-10   \nXiao Mingjie              66    China PR  1997-01-01   \nZhang Wei                 75    China PR  2000-05-16   \nWang Haijian              74    China PR  2000-08-02   \nPan Ximing                78    China PR  1993-01-11   \n\n                                            club  \nshort_name                                        \nL. Messi                            FC Barcelona  \nCristiano Ronaldo                       Juventus  \nNeymar Jr                    Paris Saint-Germain  \nJ. Oblak                         Atlético Madrid  \nE. Hazard                            Real Madrid  \n...                                          ...  \nShao Shuai                      Beijing Renhe FC  \nXiao Mingjie                    Shanghai SIPG FC  \nZhang Wei                 Hebei China Fortune FC  \nWang Haijian       Shanghai Greenland Shenhua FC  \nPan Ximing                Hebei China Fortune FC  \n\n[18278 rows x 7 columns]",
      "text/html": "<div>\n<style scoped>\n    .dataframe tbody tr th:only-of-type {\n        vertical-align: middle;\n    }\n\n    .dataframe tbody tr th {\n        vertical-align: top;\n    }\n\n    .dataframe thead th {\n        text-align: right;\n    }\n</style>\n<table border=\"1\" class=\"dataframe\">\n  <thead>\n    <tr style=\"text-align: right;\">\n      <th></th>\n      <th>long_name</th>\n      <th>age</th>\n      <th>height_cm</th>\n      <th>weight_kg</th>\n      <th>nationality</th>\n      <th>dob</th>\n      <th>club</th>\n    </tr>\n    <tr>\n      <th>short_name</th>\n      <th></th>\n      <th></th>\n      <th></th>\n      <th></th>\n      <th></th>\n      <th></th>\n      <th></th>\n    </tr>\n  </thead>\n  <tbody>\n    <tr>\n      <th>L. Messi</th>\n      <td>Lionel Andrés Messi Cuccittini</td>\n      <td>32</td>\n      <td>170</td>\n      <td>72</td>\n      <td>Argentina</td>\n      <td>1987-06-24</td>\n      <td>FC Barcelona</td>\n    </tr>\n    <tr>\n      <th>Cristiano Ronaldo</th>\n      <td>Cristiano Ronaldo dos Santos Aveiro</td>\n      <td>34</td>\n      <td>187</td>\n      <td>83</td>\n      <td>Portugal</td>\n      <td>1985-02-05</td>\n      <td>Juventus</td>\n    </tr>\n    <tr>\n      <th>Neymar Jr</th>\n      <td>Neymar da Silva Santos Junior</td>\n      <td>27</td>\n      <td>175</td>\n      <td>68</td>\n      <td>Brazil</td>\n      <td>1992-02-05</td>\n      <td>Paris Saint-Germain</td>\n    </tr>\n    <tr>\n      <th>J. Oblak</th>\n      <td>Jan Oblak</td>\n      <td>26</td>\n      <td>188</td>\n      <td>87</td>\n      <td>Slovenia</td>\n      <td>1993-01-07</td>\n      <td>Atlético Madrid</td>\n    </tr>\n    <tr>\n      <th>E. Hazard</th>\n      <td>Eden Hazard</td>\n      <td>28</td>\n      <td>175</td>\n      <td>74</td>\n      <td>Belgium</td>\n      <td>1991-01-07</td>\n      <td>Real Madrid</td>\n    </tr>\n    <tr>\n      <th>...</th>\n      <td>...</td>\n      <td>...</td>\n      <td>...</td>\n      <td>...</td>\n      <td>...</td>\n      <td>...</td>\n      <td>...</td>\n    </tr>\n    <tr>\n      <th>Shao Shuai</th>\n      <td>邵帅</td>\n      <td>22</td>\n      <td>186</td>\n      <td>79</td>\n      <td>China PR</td>\n      <td>1997-03-10</td>\n      <td>Beijing Renhe FC</td>\n    </tr>\n    <tr>\n      <th>Xiao Mingjie</th>\n      <td>Mingjie Xiao</td>\n      <td>22</td>\n      <td>177</td>\n      <td>66</td>\n      <td>China PR</td>\n      <td>1997-01-01</td>\n      <td>Shanghai SIPG FC</td>\n    </tr>\n    <tr>\n      <th>Zhang Wei</th>\n      <td>张威</td>\n      <td>19</td>\n      <td>186</td>\n      <td>75</td>\n      <td>China PR</td>\n      <td>2000-05-16</td>\n      <td>Hebei China Fortune FC</td>\n    </tr>\n    <tr>\n      <th>Wang Haijian</th>\n      <td>汪海健</td>\n      <td>18</td>\n      <td>185</td>\n      <td>74</td>\n      <td>China PR</td>\n      <td>2000-08-02</td>\n      <td>Shanghai Greenland Shenhua FC</td>\n    </tr>\n    <tr>\n      <th>Pan Ximing</th>\n      <td>潘喜明</td>\n      <td>26</td>\n      <td>182</td>\n      <td>78</td>\n      <td>China PR</td>\n      <td>1993-01-11</td>\n      <td>Hebei China Fortune FC</td>\n    </tr>\n  </tbody>\n</table>\n<p>18278 rows × 7 columns</p>\n</div>"
     },
     "execution_count": 57,
     "metadata": {},
     "output_type": "execute_result"
    }
   ],
   "source": [
    "df"
   ],
   "metadata": {
    "collapsed": false
   }
  },
  {
   "cell_type": "code",
   "execution_count": 58,
   "outputs": [
    {
     "data": {
      "text/plain": "                                             long_name  age  height_cm   \nshort_name                                                               \nL. Messi                Lionel Andrés Messi Cuccittini   32        170  \\\nCristiano Ronaldo  Cristiano Ronaldo dos Santos Aveiro   34        187   \nNeymar Jr                Neymar da Silva Santos Junior   27        175   \nJ. Oblak                                     Jan Oblak   26        188   \nE. Hazard                                  Eden Hazard   28        175   \n...                                                ...  ...        ...   \nShao Shuai                                          邵帅   22        186   \nXiao Mingjie                              Mingjie Xiao   22        177   \nZhang Wei                                           张威   19        186   \nWang Haijian                                       汪海健   18        185   \nPan Ximing                                         潘喜明   26        182   \n\n                   weight_kg nationality         dob   \nshort_name                                             \nL. Messi                  72   Argentina  1987-06-24  \\\nCristiano Ronaldo         83    Portugal  1985-02-05   \nNeymar Jr                 68      Brazil  1992-02-05   \nJ. Oblak                  87    Slovenia  1993-01-07   \nE. Hazard                 74     Belgium  1991-01-07   \n...                      ...         ...         ...   \nShao Shuai                79    China PR  1997-03-10   \nXiao Mingjie              66    China PR  1997-01-01   \nZhang Wei                 75    China PR  2000-05-16   \nWang Haijian              74    China PR  2000-08-02   \nPan Ximing                78    China PR  1993-01-11   \n\n                                            club  \nshort_name                                        \nL. Messi                            FC Barcelona  \nCristiano Ronaldo                       Juventus  \nNeymar Jr                    Paris Saint-Germain  \nJ. Oblak                         Atlético Madrid  \nE. Hazard                            Real Madrid  \n...                                          ...  \nShao Shuai                      Beijing Renhe FC  \nXiao Mingjie                    Shanghai SIPG FC  \nZhang Wei                 Hebei China Fortune FC  \nWang Haijian       Shanghai Greenland Shenhua FC  \nPan Ximing                Hebei China Fortune FC  \n\n[18278 rows x 7 columns]",
      "text/html": "<div>\n<style scoped>\n    .dataframe tbody tr th:only-of-type {\n        vertical-align: middle;\n    }\n\n    .dataframe tbody tr th {\n        vertical-align: top;\n    }\n\n    .dataframe thead th {\n        text-align: right;\n    }\n</style>\n<table border=\"1\" class=\"dataframe\">\n  <thead>\n    <tr style=\"text-align: right;\">\n      <th></th>\n      <th>long_name</th>\n      <th>age</th>\n      <th>height_cm</th>\n      <th>weight_kg</th>\n      <th>nationality</th>\n      <th>dob</th>\n      <th>club</th>\n    </tr>\n    <tr>\n      <th>short_name</th>\n      <th></th>\n      <th></th>\n      <th></th>\n      <th></th>\n      <th></th>\n      <th></th>\n      <th></th>\n    </tr>\n  </thead>\n  <tbody>\n    <tr>\n      <th>L. Messi</th>\n      <td>Lionel Andrés Messi Cuccittini</td>\n      <td>32</td>\n      <td>170</td>\n      <td>72</td>\n      <td>Argentina</td>\n      <td>1987-06-24</td>\n      <td>FC Barcelona</td>\n    </tr>\n    <tr>\n      <th>Cristiano Ronaldo</th>\n      <td>Cristiano Ronaldo dos Santos Aveiro</td>\n      <td>34</td>\n      <td>187</td>\n      <td>83</td>\n      <td>Portugal</td>\n      <td>1985-02-05</td>\n      <td>Juventus</td>\n    </tr>\n    <tr>\n      <th>Neymar Jr</th>\n      <td>Neymar da Silva Santos Junior</td>\n      <td>27</td>\n      <td>175</td>\n      <td>68</td>\n      <td>Brazil</td>\n      <td>1992-02-05</td>\n      <td>Paris Saint-Germain</td>\n    </tr>\n    <tr>\n      <th>J. Oblak</th>\n      <td>Jan Oblak</td>\n      <td>26</td>\n      <td>188</td>\n      <td>87</td>\n      <td>Slovenia</td>\n      <td>1993-01-07</td>\n      <td>Atlético Madrid</td>\n    </tr>\n    <tr>\n      <th>E. Hazard</th>\n      <td>Eden Hazard</td>\n      <td>28</td>\n      <td>175</td>\n      <td>74</td>\n      <td>Belgium</td>\n      <td>1991-01-07</td>\n      <td>Real Madrid</td>\n    </tr>\n    <tr>\n      <th>...</th>\n      <td>...</td>\n      <td>...</td>\n      <td>...</td>\n      <td>...</td>\n      <td>...</td>\n      <td>...</td>\n      <td>...</td>\n    </tr>\n    <tr>\n      <th>Shao Shuai</th>\n      <td>邵帅</td>\n      <td>22</td>\n      <td>186</td>\n      <td>79</td>\n      <td>China PR</td>\n      <td>1997-03-10</td>\n      <td>Beijing Renhe FC</td>\n    </tr>\n    <tr>\n      <th>Xiao Mingjie</th>\n      <td>Mingjie Xiao</td>\n      <td>22</td>\n      <td>177</td>\n      <td>66</td>\n      <td>China PR</td>\n      <td>1997-01-01</td>\n      <td>Shanghai SIPG FC</td>\n    </tr>\n    <tr>\n      <th>Zhang Wei</th>\n      <td>张威</td>\n      <td>19</td>\n      <td>186</td>\n      <td>75</td>\n      <td>China PR</td>\n      <td>2000-05-16</td>\n      <td>Hebei China Fortune FC</td>\n    </tr>\n    <tr>\n      <th>Wang Haijian</th>\n      <td>汪海健</td>\n      <td>18</td>\n      <td>185</td>\n      <td>74</td>\n      <td>China PR</td>\n      <td>2000-08-02</td>\n      <td>Shanghai Greenland Shenhua FC</td>\n    </tr>\n    <tr>\n      <th>Pan Ximing</th>\n      <td>潘喜明</td>\n      <td>26</td>\n      <td>182</td>\n      <td>78</td>\n      <td>China PR</td>\n      <td>1993-01-11</td>\n      <td>Hebei China Fortune FC</td>\n    </tr>\n  </tbody>\n</table>\n<p>18278 rows × 7 columns</p>\n</div>"
     },
     "execution_count": 58,
     "metadata": {},
     "output_type": "execute_result"
    }
   ],
   "source": [
    "df"
   ],
   "metadata": {
    "collapsed": false
   }
  },
  {
   "cell_type": "code",
   "execution_count": 59,
   "outputs": [
    {
     "data": {
      "text/plain": "                         long_name  age  height_cm  weight_kg nationality   \nshort_name                                                                  \nZ. Ibrahimović  Zlatan Ibrahimović   37        195         95      Sweden  \\\n\n                       dob       club  \nshort_name                             \nZ. Ibrahimović  1981-10-03  LA Galaxy  ",
      "text/html": "<div>\n<style scoped>\n    .dataframe tbody tr th:only-of-type {\n        vertical-align: middle;\n    }\n\n    .dataframe tbody tr th {\n        vertical-align: top;\n    }\n\n    .dataframe thead th {\n        text-align: right;\n    }\n</style>\n<table border=\"1\" class=\"dataframe\">\n  <thead>\n    <tr style=\"text-align: right;\">\n      <th></th>\n      <th>long_name</th>\n      <th>age</th>\n      <th>height_cm</th>\n      <th>weight_kg</th>\n      <th>nationality</th>\n      <th>dob</th>\n      <th>club</th>\n    </tr>\n    <tr>\n      <th>short_name</th>\n      <th></th>\n      <th></th>\n      <th></th>\n      <th></th>\n      <th></th>\n      <th></th>\n      <th></th>\n    </tr>\n  </thead>\n  <tbody>\n    <tr>\n      <th>Z. Ibrahimović</th>\n      <td>Zlatan Ibrahimović</td>\n      <td>37</td>\n      <td>195</td>\n      <td>95</td>\n      <td>Sweden</td>\n      <td>1981-10-03</td>\n      <td>LA Galaxy</td>\n    </tr>\n  </tbody>\n</table>\n</div>"
     },
     "execution_count": 59,
     "metadata": {},
     "output_type": "execute_result"
    }
   ],
   "source": [
    "df.query('age > 36 and nationality==\"Sweden\" and height_cm>188')"
   ],
   "metadata": {
    "collapsed": false
   }
  },
  {
   "cell_type": "code",
   "execution_count": 60,
   "outputs": [
    {
     "data": {
      "text/plain": "                              long_name  age  height_cm  weight_kg   \nshort_name                                                           \nZ. Ibrahimović       Zlatan Ibrahimović   37        195         95  \\\nJ. Wiland                  Johan Wiland   38        188         78   \nS. Ishizaki     Stefan Daisuke Ishizaki   37        181         81   \n\n               nationality         dob         club  \nshort_name                                           \nZ. Ibrahimović      Sweden  1981-10-03    LA Galaxy  \nJ. Wiland           Sweden  1981-01-24  Hammarby IF  \nS. Ishizaki         Sweden  1982-05-15  IF Elfsborg  ",
      "text/html": "<div>\n<style scoped>\n    .dataframe tbody tr th:only-of-type {\n        vertical-align: middle;\n    }\n\n    .dataframe tbody tr th {\n        vertical-align: top;\n    }\n\n    .dataframe thead th {\n        text-align: right;\n    }\n</style>\n<table border=\"1\" class=\"dataframe\">\n  <thead>\n    <tr style=\"text-align: right;\">\n      <th></th>\n      <th>long_name</th>\n      <th>age</th>\n      <th>height_cm</th>\n      <th>weight_kg</th>\n      <th>nationality</th>\n      <th>dob</th>\n      <th>club</th>\n    </tr>\n    <tr>\n      <th>short_name</th>\n      <th></th>\n      <th></th>\n      <th></th>\n      <th></th>\n      <th></th>\n      <th></th>\n      <th></th>\n    </tr>\n  </thead>\n  <tbody>\n    <tr>\n      <th>Z. Ibrahimović</th>\n      <td>Zlatan Ibrahimović</td>\n      <td>37</td>\n      <td>195</td>\n      <td>95</td>\n      <td>Sweden</td>\n      <td>1981-10-03</td>\n      <td>LA Galaxy</td>\n    </tr>\n    <tr>\n      <th>J. Wiland</th>\n      <td>Johan Wiland</td>\n      <td>38</td>\n      <td>188</td>\n      <td>78</td>\n      <td>Sweden</td>\n      <td>1981-01-24</td>\n      <td>Hammarby IF</td>\n    </tr>\n    <tr>\n      <th>S. Ishizaki</th>\n      <td>Stefan Daisuke Ishizaki</td>\n      <td>37</td>\n      <td>181</td>\n      <td>81</td>\n      <td>Sweden</td>\n      <td>1982-05-15</td>\n      <td>IF Elfsborg</td>\n    </tr>\n  </tbody>\n</table>\n</div>"
     },
     "execution_count": 60,
     "metadata": {},
     "output_type": "execute_result"
    }
   ],
   "source": [
    "df.query('age > 36 and nationality==\"Sweden\" and height_cm>110 and age>=37')"
   ],
   "metadata": {
    "collapsed": false
   }
  },
  {
   "cell_type": "code",
   "execution_count": 61,
   "outputs": [
    {
     "data": {
      "text/plain": "                          long_name  age  height_cm  weight_kg   \nshort_name                                                       \nK. Mbappé             Kylian Mbappé   20        178         73  \\\nM. de Ligt         Matthijs de Ligt   19        189         89   \nG. Donnarumma  Gianluigi Donnarumma   20        196         90   \nF. de Jong          Frenkie de Jong   22        180         74   \nJ. Sancho              Jadon Sancho   19        180         76   \n...                             ...  ...        ...        ...   \nP. Martin               Paul Martin   20        188         84   \nShao Shuai                       邵帅   22        186         79   \nXiao Mingjie           Mingjie Xiao   22        177         66   \nZhang Wei                        张威   19        186         75   \nWang Haijian                    汪海健   18        185         74   \n\n                       nationality         dob                           club  \nshort_name                                                                     \nK. Mbappé                   France  1998-12-20            Paris Saint-Germain  \nM. de Ligt             Netherlands  1999-08-12                       Juventus  \nG. Donnarumma                Italy  1999-02-25                          Milan  \nF. de Jong             Netherlands  1997-05-12                   FC Barcelona  \nJ. Sancho                  England  2000-03-25              Borussia Dortmund  \n...                            ...         ...                            ...  \nP. Martin      Republic of Ireland  1999-01-05                   Waterford FC  \nShao Shuai                China PR  1997-03-10               Beijing Renhe FC  \nXiao Mingjie              China PR  1997-01-01               Shanghai SIPG FC  \nZhang Wei                 China PR  2000-05-16         Hebei China Fortune FC  \nWang Haijian              China PR  2000-08-02  Shanghai Greenland Shenhua FC  \n\n[5960 rows x 7 columns]",
      "text/html": "<div>\n<style scoped>\n    .dataframe tbody tr th:only-of-type {\n        vertical-align: middle;\n    }\n\n    .dataframe tbody tr th {\n        vertical-align: top;\n    }\n\n    .dataframe thead th {\n        text-align: right;\n    }\n</style>\n<table border=\"1\" class=\"dataframe\">\n  <thead>\n    <tr style=\"text-align: right;\">\n      <th></th>\n      <th>long_name</th>\n      <th>age</th>\n      <th>height_cm</th>\n      <th>weight_kg</th>\n      <th>nationality</th>\n      <th>dob</th>\n      <th>club</th>\n    </tr>\n    <tr>\n      <th>short_name</th>\n      <th></th>\n      <th></th>\n      <th></th>\n      <th></th>\n      <th></th>\n      <th></th>\n      <th></th>\n    </tr>\n  </thead>\n  <tbody>\n    <tr>\n      <th>K. Mbappé</th>\n      <td>Kylian Mbappé</td>\n      <td>20</td>\n      <td>178</td>\n      <td>73</td>\n      <td>France</td>\n      <td>1998-12-20</td>\n      <td>Paris Saint-Germain</td>\n    </tr>\n    <tr>\n      <th>M. de Ligt</th>\n      <td>Matthijs de Ligt</td>\n      <td>19</td>\n      <td>189</td>\n      <td>89</td>\n      <td>Netherlands</td>\n      <td>1999-08-12</td>\n      <td>Juventus</td>\n    </tr>\n    <tr>\n      <th>G. Donnarumma</th>\n      <td>Gianluigi Donnarumma</td>\n      <td>20</td>\n      <td>196</td>\n      <td>90</td>\n      <td>Italy</td>\n      <td>1999-02-25</td>\n      <td>Milan</td>\n    </tr>\n    <tr>\n      <th>F. de Jong</th>\n      <td>Frenkie de Jong</td>\n      <td>22</td>\n      <td>180</td>\n      <td>74</td>\n      <td>Netherlands</td>\n      <td>1997-05-12</td>\n      <td>FC Barcelona</td>\n    </tr>\n    <tr>\n      <th>J. Sancho</th>\n      <td>Jadon Sancho</td>\n      <td>19</td>\n      <td>180</td>\n      <td>76</td>\n      <td>England</td>\n      <td>2000-03-25</td>\n      <td>Borussia Dortmund</td>\n    </tr>\n    <tr>\n      <th>...</th>\n      <td>...</td>\n      <td>...</td>\n      <td>...</td>\n      <td>...</td>\n      <td>...</td>\n      <td>...</td>\n      <td>...</td>\n    </tr>\n    <tr>\n      <th>P. Martin</th>\n      <td>Paul Martin</td>\n      <td>20</td>\n      <td>188</td>\n      <td>84</td>\n      <td>Republic of Ireland</td>\n      <td>1999-01-05</td>\n      <td>Waterford FC</td>\n    </tr>\n    <tr>\n      <th>Shao Shuai</th>\n      <td>邵帅</td>\n      <td>22</td>\n      <td>186</td>\n      <td>79</td>\n      <td>China PR</td>\n      <td>1997-03-10</td>\n      <td>Beijing Renhe FC</td>\n    </tr>\n    <tr>\n      <th>Xiao Mingjie</th>\n      <td>Mingjie Xiao</td>\n      <td>22</td>\n      <td>177</td>\n      <td>66</td>\n      <td>China PR</td>\n      <td>1997-01-01</td>\n      <td>Shanghai SIPG FC</td>\n    </tr>\n    <tr>\n      <th>Zhang Wei</th>\n      <td>张威</td>\n      <td>19</td>\n      <td>186</td>\n      <td>75</td>\n      <td>China PR</td>\n      <td>2000-05-16</td>\n      <td>Hebei China Fortune FC</td>\n    </tr>\n    <tr>\n      <th>Wang Haijian</th>\n      <td>汪海健</td>\n      <td>18</td>\n      <td>185</td>\n      <td>74</td>\n      <td>China PR</td>\n      <td>2000-08-02</td>\n      <td>Shanghai Greenland Shenhua FC</td>\n    </tr>\n  </tbody>\n</table>\n<p>5960 rows × 7 columns</p>\n</div>"
     },
     "execution_count": 61,
     "metadata": {},
     "output_type": "execute_result"
    }
   ],
   "source": [
    "df.query(\"not age > 22\")"
   ],
   "metadata": {
    "collapsed": false
   }
  },
  {
   "cell_type": "code",
   "execution_count": 62,
   "outputs": [],
   "source": [
    "df['dob'] = df['dob'].astype('datetime64[ns]')"
   ],
   "metadata": {
    "collapsed": false
   }
  },
  {
   "cell_type": "code",
   "execution_count": 63,
   "outputs": [
    {
     "data": {
      "text/plain": "                                   long_name  age  height_cm  weight_kg   \nshort_name                                                                \nNeymar Jr      Neymar da Silva Santos Junior   27        175         68  \\\nJ. Oblak                           Jan Oblak   26        188         87   \nE. Hazard                        Eden Hazard   28        175         74   \nK. De Bruyne                 Kevin De Bruyne   28        181         70   \nM. ter Stegen          Marc-André ter Stegen   27        187         85   \n...                                      ...  ...        ...        ...   \nShao Shuai                                邵帅   22        186         79   \nXiao Mingjie                    Mingjie Xiao   22        177         66   \nZhang Wei                                 张威   19        186         75   \nWang Haijian                             汪海健   18        185         74   \nPan Ximing                               潘喜明   26        182         78   \n\n              nationality        dob                           club  \nshort_name                                                           \nNeymar Jr          Brazil 1992-02-05            Paris Saint-Germain  \nJ. Oblak         Slovenia 1993-01-07                Atlético Madrid  \nE. Hazard         Belgium 1991-01-07                    Real Madrid  \nK. De Bruyne      Belgium 1991-06-28                Manchester City  \nM. ter Stegen     Germany 1992-04-30                   FC Barcelona  \n...                   ...        ...                            ...  \nShao Shuai       China PR 1997-03-10               Beijing Renhe FC  \nXiao Mingjie     China PR 1997-01-01               Shanghai SIPG FC  \nZhang Wei        China PR 2000-05-16         Hebei China Fortune FC  \nWang Haijian     China PR 2000-08-02  Shanghai Greenland Shenhua FC  \nPan Ximing       China PR 1993-01-11         Hebei China Fortune FC  \n\n[13140 rows x 7 columns]",
      "text/html": "<div>\n<style scoped>\n    .dataframe tbody tr th:only-of-type {\n        vertical-align: middle;\n    }\n\n    .dataframe tbody tr th {\n        vertical-align: top;\n    }\n\n    .dataframe thead th {\n        text-align: right;\n    }\n</style>\n<table border=\"1\" class=\"dataframe\">\n  <thead>\n    <tr style=\"text-align: right;\">\n      <th></th>\n      <th>long_name</th>\n      <th>age</th>\n      <th>height_cm</th>\n      <th>weight_kg</th>\n      <th>nationality</th>\n      <th>dob</th>\n      <th>club</th>\n    </tr>\n    <tr>\n      <th>short_name</th>\n      <th></th>\n      <th></th>\n      <th></th>\n      <th></th>\n      <th></th>\n      <th></th>\n      <th></th>\n    </tr>\n  </thead>\n  <tbody>\n    <tr>\n      <th>Neymar Jr</th>\n      <td>Neymar da Silva Santos Junior</td>\n      <td>27</td>\n      <td>175</td>\n      <td>68</td>\n      <td>Brazil</td>\n      <td>1992-02-05</td>\n      <td>Paris Saint-Germain</td>\n    </tr>\n    <tr>\n      <th>J. Oblak</th>\n      <td>Jan Oblak</td>\n      <td>26</td>\n      <td>188</td>\n      <td>87</td>\n      <td>Slovenia</td>\n      <td>1993-01-07</td>\n      <td>Atlético Madrid</td>\n    </tr>\n    <tr>\n      <th>E. Hazard</th>\n      <td>Eden Hazard</td>\n      <td>28</td>\n      <td>175</td>\n      <td>74</td>\n      <td>Belgium</td>\n      <td>1991-01-07</td>\n      <td>Real Madrid</td>\n    </tr>\n    <tr>\n      <th>K. De Bruyne</th>\n      <td>Kevin De Bruyne</td>\n      <td>28</td>\n      <td>181</td>\n      <td>70</td>\n      <td>Belgium</td>\n      <td>1991-06-28</td>\n      <td>Manchester City</td>\n    </tr>\n    <tr>\n      <th>M. ter Stegen</th>\n      <td>Marc-André ter Stegen</td>\n      <td>27</td>\n      <td>187</td>\n      <td>85</td>\n      <td>Germany</td>\n      <td>1992-04-30</td>\n      <td>FC Barcelona</td>\n    </tr>\n    <tr>\n      <th>...</th>\n      <td>...</td>\n      <td>...</td>\n      <td>...</td>\n      <td>...</td>\n      <td>...</td>\n      <td>...</td>\n      <td>...</td>\n    </tr>\n    <tr>\n      <th>Shao Shuai</th>\n      <td>邵帅</td>\n      <td>22</td>\n      <td>186</td>\n      <td>79</td>\n      <td>China PR</td>\n      <td>1997-03-10</td>\n      <td>Beijing Renhe FC</td>\n    </tr>\n    <tr>\n      <th>Xiao Mingjie</th>\n      <td>Mingjie Xiao</td>\n      <td>22</td>\n      <td>177</td>\n      <td>66</td>\n      <td>China PR</td>\n      <td>1997-01-01</td>\n      <td>Shanghai SIPG FC</td>\n    </tr>\n    <tr>\n      <th>Zhang Wei</th>\n      <td>张威</td>\n      <td>19</td>\n      <td>186</td>\n      <td>75</td>\n      <td>China PR</td>\n      <td>2000-05-16</td>\n      <td>Hebei China Fortune FC</td>\n    </tr>\n    <tr>\n      <th>Wang Haijian</th>\n      <td>汪海健</td>\n      <td>18</td>\n      <td>185</td>\n      <td>74</td>\n      <td>China PR</td>\n      <td>2000-08-02</td>\n      <td>Shanghai Greenland Shenhua FC</td>\n    </tr>\n    <tr>\n      <th>Pan Ximing</th>\n      <td>潘喜明</td>\n      <td>26</td>\n      <td>182</td>\n      <td>78</td>\n      <td>China PR</td>\n      <td>1993-01-11</td>\n      <td>Hebei China Fortune FC</td>\n    </tr>\n  </tbody>\n</table>\n<p>13140 rows × 7 columns</p>\n</div>"
     },
     "execution_count": 63,
     "metadata": {},
     "output_type": "execute_result"
    }
   ],
   "source": [
    "df.query('dob.dt.year > 1990')"
   ],
   "metadata": {
    "collapsed": false
   }
  },
  {
   "cell_type": "code",
   "execution_count": 64,
   "outputs": [
    {
     "data": {
      "text/plain": "                     long_name  age  height_cm  weight_kg   \nshort_name                                                  \nK. Mbappé        Kylian Mbappé   20        178         73  \\\nR. Sterling    Raheem Sterling   24        170         69   \nH. Lloris          Hugo Lloris   32        188         82   \nK. Benzema       Karim Benzema   31        185         81   \nM. Hummels       Mats  Hummels   30        191         94   \n...                        ...  ...        ...        ...   \nK. Barker          Kyle Barker   18        176         71   \nC. Pattison   Charlie Pattison   18        185         70   \nC. Heath          Connor Heath   18        188         78   \nS. Callan          Sean Callan   19        182         80   \nF. Nevarez   Francisco Nevarez   18        178         69   \n\n                     nationality        dob                 club  \nshort_name                                                        \nK. Mbappé                 France 1998-12-20  Paris Saint-Germain  \nR. Sterling              England 1994-12-08      Manchester City  \nH. Lloris                 France 1986-12-26    Tottenham Hotspur  \nK. Benzema                France 1987-12-19          Real Madrid  \nM. Hummels               Germany 1988-12-16    Borussia Dortmund  \n...                          ...        ...                  ...  \nK. Barker                England 2000-12-16  Peterborough United  \nC. Pattison              England 2000-12-28   Milton Keynes Dons  \nC. Heath                 England 2000-12-11      Crewe Alexandra  \nS. Callan    Republic of Ireland 1999-12-14      Shamrock Rovers  \nF. Nevarez                Mexico 2000-12-03            FC Juárez  \n\n[1122 rows x 7 columns]",
      "text/html": "<div>\n<style scoped>\n    .dataframe tbody tr th:only-of-type {\n        vertical-align: middle;\n    }\n\n    .dataframe tbody tr th {\n        vertical-align: top;\n    }\n\n    .dataframe thead th {\n        text-align: right;\n    }\n</style>\n<table border=\"1\" class=\"dataframe\">\n  <thead>\n    <tr style=\"text-align: right;\">\n      <th></th>\n      <th>long_name</th>\n      <th>age</th>\n      <th>height_cm</th>\n      <th>weight_kg</th>\n      <th>nationality</th>\n      <th>dob</th>\n      <th>club</th>\n    </tr>\n    <tr>\n      <th>short_name</th>\n      <th></th>\n      <th></th>\n      <th></th>\n      <th></th>\n      <th></th>\n      <th></th>\n      <th></th>\n    </tr>\n  </thead>\n  <tbody>\n    <tr>\n      <th>K. Mbappé</th>\n      <td>Kylian Mbappé</td>\n      <td>20</td>\n      <td>178</td>\n      <td>73</td>\n      <td>France</td>\n      <td>1998-12-20</td>\n      <td>Paris Saint-Germain</td>\n    </tr>\n    <tr>\n      <th>R. Sterling</th>\n      <td>Raheem Sterling</td>\n      <td>24</td>\n      <td>170</td>\n      <td>69</td>\n      <td>England</td>\n      <td>1994-12-08</td>\n      <td>Manchester City</td>\n    </tr>\n    <tr>\n      <th>H. Lloris</th>\n      <td>Hugo Lloris</td>\n      <td>32</td>\n      <td>188</td>\n      <td>82</td>\n      <td>France</td>\n      <td>1986-12-26</td>\n      <td>Tottenham Hotspur</td>\n    </tr>\n    <tr>\n      <th>K. Benzema</th>\n      <td>Karim Benzema</td>\n      <td>31</td>\n      <td>185</td>\n      <td>81</td>\n      <td>France</td>\n      <td>1987-12-19</td>\n      <td>Real Madrid</td>\n    </tr>\n    <tr>\n      <th>M. Hummels</th>\n      <td>Mats  Hummels</td>\n      <td>30</td>\n      <td>191</td>\n      <td>94</td>\n      <td>Germany</td>\n      <td>1988-12-16</td>\n      <td>Borussia Dortmund</td>\n    </tr>\n    <tr>\n      <th>...</th>\n      <td>...</td>\n      <td>...</td>\n      <td>...</td>\n      <td>...</td>\n      <td>...</td>\n      <td>...</td>\n      <td>...</td>\n    </tr>\n    <tr>\n      <th>K. Barker</th>\n      <td>Kyle Barker</td>\n      <td>18</td>\n      <td>176</td>\n      <td>71</td>\n      <td>England</td>\n      <td>2000-12-16</td>\n      <td>Peterborough United</td>\n    </tr>\n    <tr>\n      <th>C. Pattison</th>\n      <td>Charlie Pattison</td>\n      <td>18</td>\n      <td>185</td>\n      <td>70</td>\n      <td>England</td>\n      <td>2000-12-28</td>\n      <td>Milton Keynes Dons</td>\n    </tr>\n    <tr>\n      <th>C. Heath</th>\n      <td>Connor Heath</td>\n      <td>18</td>\n      <td>188</td>\n      <td>78</td>\n      <td>England</td>\n      <td>2000-12-11</td>\n      <td>Crewe Alexandra</td>\n    </tr>\n    <tr>\n      <th>S. Callan</th>\n      <td>Sean Callan</td>\n      <td>19</td>\n      <td>182</td>\n      <td>80</td>\n      <td>Republic of Ireland</td>\n      <td>1999-12-14</td>\n      <td>Shamrock Rovers</td>\n    </tr>\n    <tr>\n      <th>F. Nevarez</th>\n      <td>Francisco Nevarez</td>\n      <td>18</td>\n      <td>178</td>\n      <td>69</td>\n      <td>Mexico</td>\n      <td>2000-12-03</td>\n      <td>FC Juárez</td>\n    </tr>\n  </tbody>\n</table>\n<p>1122 rows × 7 columns</p>\n</div>"
     },
     "execution_count": 64,
     "metadata": {},
     "output_type": "execute_result"
    }
   ],
   "source": [
    "df.query('dob.dt.month > 11')"
   ],
   "metadata": {
    "collapsed": false
   }
  },
  {
   "cell_type": "code",
   "execution_count": 65,
   "outputs": [
    {
     "data": {
      "text/plain": "                                    long_name  age  height_cm  weight_kg   \nshort_name                                                                 \nM. Reus                            Marco Reus   30        180         71  \\\nM. Rashford                   Marcus Rashford   21        186         70   \nD. Djené                 Djené Dakonam Ortega   27        178         72   \nF. Quagliarella            Fabio Quagliarella   36        180         79   \nN. Tagliafico    Nicolás Alejandro Tagliafico   26        172         65   \n...                                       ...  ...        ...        ...   \nE. Simonsen                   Emilio Simonsen   19        170         60   \nT. Brownsword                Tyler Brownsword   19        180         73   \nF. Beklevic                   Furkan Beklevic   20        182         73   \nS. Spasov                        Slavi Spasov   17        171         56   \nN. Fuentes                    Nicolás Fuentes   19        172         66   \n\n                nationality        dob               club  \nshort_name                                                 \nM. Reus             Germany 1989-05-31  Borussia Dortmund  \nM. Rashford         England 1997-10-31  Manchester United  \nD. Djené               Togo 1991-12-31          Getafe CF  \nF. Quagliarella       Italy 1983-01-31          Sampdoria  \nN. Tagliafico     Argentina 1992-08-31               Ajax  \n...                     ...        ...                ...  \nE. Simonsen         Denmark 1999-10-31          Lyngby BK  \nT. Brownsword       England 1999-12-31          Morecambe  \nF. Beklevic          Turkey 1999-01-31     MKE Ankaragücü  \nS. Spasov          Bulgaria 2001-12-31      Oxford United  \nN. Fuentes            Chile 1999-08-31     Unión Española  \n\n[302 rows x 7 columns]",
      "text/html": "<div>\n<style scoped>\n    .dataframe tbody tr th:only-of-type {\n        vertical-align: middle;\n    }\n\n    .dataframe tbody tr th {\n        vertical-align: top;\n    }\n\n    .dataframe thead th {\n        text-align: right;\n    }\n</style>\n<table border=\"1\" class=\"dataframe\">\n  <thead>\n    <tr style=\"text-align: right;\">\n      <th></th>\n      <th>long_name</th>\n      <th>age</th>\n      <th>height_cm</th>\n      <th>weight_kg</th>\n      <th>nationality</th>\n      <th>dob</th>\n      <th>club</th>\n    </tr>\n    <tr>\n      <th>short_name</th>\n      <th></th>\n      <th></th>\n      <th></th>\n      <th></th>\n      <th></th>\n      <th></th>\n      <th></th>\n    </tr>\n  </thead>\n  <tbody>\n    <tr>\n      <th>M. Reus</th>\n      <td>Marco Reus</td>\n      <td>30</td>\n      <td>180</td>\n      <td>71</td>\n      <td>Germany</td>\n      <td>1989-05-31</td>\n      <td>Borussia Dortmund</td>\n    </tr>\n    <tr>\n      <th>M. Rashford</th>\n      <td>Marcus Rashford</td>\n      <td>21</td>\n      <td>186</td>\n      <td>70</td>\n      <td>England</td>\n      <td>1997-10-31</td>\n      <td>Manchester United</td>\n    </tr>\n    <tr>\n      <th>D. Djené</th>\n      <td>Djené Dakonam Ortega</td>\n      <td>27</td>\n      <td>178</td>\n      <td>72</td>\n      <td>Togo</td>\n      <td>1991-12-31</td>\n      <td>Getafe CF</td>\n    </tr>\n    <tr>\n      <th>F. Quagliarella</th>\n      <td>Fabio Quagliarella</td>\n      <td>36</td>\n      <td>180</td>\n      <td>79</td>\n      <td>Italy</td>\n      <td>1983-01-31</td>\n      <td>Sampdoria</td>\n    </tr>\n    <tr>\n      <th>N. Tagliafico</th>\n      <td>Nicolás Alejandro Tagliafico</td>\n      <td>26</td>\n      <td>172</td>\n      <td>65</td>\n      <td>Argentina</td>\n      <td>1992-08-31</td>\n      <td>Ajax</td>\n    </tr>\n    <tr>\n      <th>...</th>\n      <td>...</td>\n      <td>...</td>\n      <td>...</td>\n      <td>...</td>\n      <td>...</td>\n      <td>...</td>\n      <td>...</td>\n    </tr>\n    <tr>\n      <th>E. Simonsen</th>\n      <td>Emilio Simonsen</td>\n      <td>19</td>\n      <td>170</td>\n      <td>60</td>\n      <td>Denmark</td>\n      <td>1999-10-31</td>\n      <td>Lyngby BK</td>\n    </tr>\n    <tr>\n      <th>T. Brownsword</th>\n      <td>Tyler Brownsword</td>\n      <td>19</td>\n      <td>180</td>\n      <td>73</td>\n      <td>England</td>\n      <td>1999-12-31</td>\n      <td>Morecambe</td>\n    </tr>\n    <tr>\n      <th>F. Beklevic</th>\n      <td>Furkan Beklevic</td>\n      <td>20</td>\n      <td>182</td>\n      <td>73</td>\n      <td>Turkey</td>\n      <td>1999-01-31</td>\n      <td>MKE Ankaragücü</td>\n    </tr>\n    <tr>\n      <th>S. Spasov</th>\n      <td>Slavi Spasov</td>\n      <td>17</td>\n      <td>171</td>\n      <td>56</td>\n      <td>Bulgaria</td>\n      <td>2001-12-31</td>\n      <td>Oxford United</td>\n    </tr>\n    <tr>\n      <th>N. Fuentes</th>\n      <td>Nicolás Fuentes</td>\n      <td>19</td>\n      <td>172</td>\n      <td>66</td>\n      <td>Chile</td>\n      <td>1999-08-31</td>\n      <td>Unión Española</td>\n    </tr>\n  </tbody>\n</table>\n<p>302 rows × 7 columns</p>\n</div>"
     },
     "execution_count": 65,
     "metadata": {},
     "output_type": "execute_result"
    }
   ],
   "source": [
    "df.query('dob.dt.day > 30')"
   ],
   "metadata": {
    "collapsed": false
   }
  },
  {
   "cell_type": "code",
   "execution_count": 66,
   "outputs": [],
   "source": [
    "df['dob'] = df['dob'].astype('datetime64[ns]')"
   ],
   "metadata": {
    "collapsed": false
   }
  },
  {
   "cell_type": "code",
   "execution_count": 67,
   "outputs": [
    {
     "data": {
      "text/plain": "                                             long_name  age  height_cm   \nshort_name                                                               \nL. Messi                Lionel Andrés Messi Cuccittini   32        170  \\\nCristiano Ronaldo  Cristiano Ronaldo dos Santos Aveiro   34        187   \nNeymar Jr                Neymar da Silva Santos Junior   27        175   \nJ. Oblak                                     Jan Oblak   26        188   \nE. Hazard                                  Eden Hazard   28        175   \n...                                                ...  ...        ...   \nShao Shuai                                          邵帅   22        186   \nXiao Mingjie                              Mingjie Xiao   22        177   \nZhang Wei                                           张威   19        186   \nWang Haijian                                       汪海健   18        185   \nPan Ximing                                         潘喜明   26        182   \n\n                   weight_kg nationality        dob   \nshort_name                                            \nL. Messi                  72   Argentina 1987-06-24  \\\nCristiano Ronaldo         83    Portugal 1985-02-05   \nNeymar Jr                 68      Brazil 1992-02-05   \nJ. Oblak                  87    Slovenia 1993-01-07   \nE. Hazard                 74     Belgium 1991-01-07   \n...                      ...         ...        ...   \nShao Shuai                79    China PR 1997-03-10   \nXiao Mingjie              66    China PR 1997-01-01   \nZhang Wei                 75    China PR 2000-05-16   \nWang Haijian              74    China PR 2000-08-02   \nPan Ximing                78    China PR 1993-01-11   \n\n                                            club  \nshort_name                                        \nL. Messi                            FC Barcelona  \nCristiano Ronaldo                       Juventus  \nNeymar Jr                    Paris Saint-Germain  \nJ. Oblak                         Atlético Madrid  \nE. Hazard                            Real Madrid  \n...                                          ...  \nShao Shuai                      Beijing Renhe FC  \nXiao Mingjie                    Shanghai SIPG FC  \nZhang Wei                 Hebei China Fortune FC  \nWang Haijian       Shanghai Greenland Shenhua FC  \nPan Ximing                Hebei China Fortune FC  \n\n[18278 rows x 7 columns]",
      "text/html": "<div>\n<style scoped>\n    .dataframe tbody tr th:only-of-type {\n        vertical-align: middle;\n    }\n\n    .dataframe tbody tr th {\n        vertical-align: top;\n    }\n\n    .dataframe thead th {\n        text-align: right;\n    }\n</style>\n<table border=\"1\" class=\"dataframe\">\n  <thead>\n    <tr style=\"text-align: right;\">\n      <th></th>\n      <th>long_name</th>\n      <th>age</th>\n      <th>height_cm</th>\n      <th>weight_kg</th>\n      <th>nationality</th>\n      <th>dob</th>\n      <th>club</th>\n    </tr>\n    <tr>\n      <th>short_name</th>\n      <th></th>\n      <th></th>\n      <th></th>\n      <th></th>\n      <th></th>\n      <th></th>\n      <th></th>\n    </tr>\n  </thead>\n  <tbody>\n    <tr>\n      <th>L. Messi</th>\n      <td>Lionel Andrés Messi Cuccittini</td>\n      <td>32</td>\n      <td>170</td>\n      <td>72</td>\n      <td>Argentina</td>\n      <td>1987-06-24</td>\n      <td>FC Barcelona</td>\n    </tr>\n    <tr>\n      <th>Cristiano Ronaldo</th>\n      <td>Cristiano Ronaldo dos Santos Aveiro</td>\n      <td>34</td>\n      <td>187</td>\n      <td>83</td>\n      <td>Portugal</td>\n      <td>1985-02-05</td>\n      <td>Juventus</td>\n    </tr>\n    <tr>\n      <th>Neymar Jr</th>\n      <td>Neymar da Silva Santos Junior</td>\n      <td>27</td>\n      <td>175</td>\n      <td>68</td>\n      <td>Brazil</td>\n      <td>1992-02-05</td>\n      <td>Paris Saint-Germain</td>\n    </tr>\n    <tr>\n      <th>J. Oblak</th>\n      <td>Jan Oblak</td>\n      <td>26</td>\n      <td>188</td>\n      <td>87</td>\n      <td>Slovenia</td>\n      <td>1993-01-07</td>\n      <td>Atlético Madrid</td>\n    </tr>\n    <tr>\n      <th>E. Hazard</th>\n      <td>Eden Hazard</td>\n      <td>28</td>\n      <td>175</td>\n      <td>74</td>\n      <td>Belgium</td>\n      <td>1991-01-07</td>\n      <td>Real Madrid</td>\n    </tr>\n    <tr>\n      <th>...</th>\n      <td>...</td>\n      <td>...</td>\n      <td>...</td>\n      <td>...</td>\n      <td>...</td>\n      <td>...</td>\n      <td>...</td>\n    </tr>\n    <tr>\n      <th>Shao Shuai</th>\n      <td>邵帅</td>\n      <td>22</td>\n      <td>186</td>\n      <td>79</td>\n      <td>China PR</td>\n      <td>1997-03-10</td>\n      <td>Beijing Renhe FC</td>\n    </tr>\n    <tr>\n      <th>Xiao Mingjie</th>\n      <td>Mingjie Xiao</td>\n      <td>22</td>\n      <td>177</td>\n      <td>66</td>\n      <td>China PR</td>\n      <td>1997-01-01</td>\n      <td>Shanghai SIPG FC</td>\n    </tr>\n    <tr>\n      <th>Zhang Wei</th>\n      <td>张威</td>\n      <td>19</td>\n      <td>186</td>\n      <td>75</td>\n      <td>China PR</td>\n      <td>2000-05-16</td>\n      <td>Hebei China Fortune FC</td>\n    </tr>\n    <tr>\n      <th>Wang Haijian</th>\n      <td>汪海健</td>\n      <td>18</td>\n      <td>185</td>\n      <td>74</td>\n      <td>China PR</td>\n      <td>2000-08-02</td>\n      <td>Shanghai Greenland Shenhua FC</td>\n    </tr>\n    <tr>\n      <th>Pan Ximing</th>\n      <td>潘喜明</td>\n      <td>26</td>\n      <td>182</td>\n      <td>78</td>\n      <td>China PR</td>\n      <td>1993-01-11</td>\n      <td>Hebei China Fortune FC</td>\n    </tr>\n  </tbody>\n</table>\n<p>18278 rows × 7 columns</p>\n</div>"
     },
     "execution_count": 67,
     "metadata": {},
     "output_type": "execute_result"
    }
   ],
   "source": [
    "df"
   ],
   "metadata": {
    "collapsed": false
   }
  },
  {
   "cell_type": "code",
   "execution_count": 68,
   "outputs": [
    {
     "data": {
      "text/plain": "long_name              object\nage                     int64\nheight_cm               int64\nweight_kg               int64\nnationality            object\ndob            datetime64[ns]\nclub                   object\ndtype: object"
     },
     "execution_count": 68,
     "metadata": {},
     "output_type": "execute_result"
    }
   ],
   "source": [
    "df.dtypes"
   ],
   "metadata": {
    "collapsed": false
   }
  },
  {
   "cell_type": "code",
   "execution_count": 69,
   "outputs": [
    {
     "data": {
      "text/plain": "                                   long_name  age  height_cm  weight_kg   \nshort_name                                                                \nNeymar Jr      Neymar da Silva Santos Junior   27        175         68  \\\nJ. Oblak                           Jan Oblak   26        188         87   \nE. Hazard                        Eden Hazard   28        175         74   \nK. De Bruyne                 Kevin De Bruyne   28        181         70   \nM. ter Stegen          Marc-André ter Stegen   27        187         85   \n...                                      ...  ...        ...        ...   \nShao Shuai                                邵帅   22        186         79   \nXiao Mingjie                    Mingjie Xiao   22        177         66   \nZhang Wei                                 张威   19        186         75   \nWang Haijian                             汪海健   18        185         74   \nPan Ximing                               潘喜明   26        182         78   \n\n              nationality        dob                           club  \nshort_name                                                           \nNeymar Jr          Brazil 1992-02-05            Paris Saint-Germain  \nJ. Oblak         Slovenia 1993-01-07                Atlético Madrid  \nE. Hazard         Belgium 1991-01-07                    Real Madrid  \nK. De Bruyne      Belgium 1991-06-28                Manchester City  \nM. ter Stegen     Germany 1992-04-30                   FC Barcelona  \n...                   ...        ...                            ...  \nShao Shuai       China PR 1997-03-10               Beijing Renhe FC  \nXiao Mingjie     China PR 1997-01-01               Shanghai SIPG FC  \nZhang Wei        China PR 2000-05-16         Hebei China Fortune FC  \nWang Haijian     China PR 2000-08-02  Shanghai Greenland Shenhua FC  \nPan Ximing       China PR 1993-01-11         Hebei China Fortune FC  \n\n[13140 rows x 7 columns]",
      "text/html": "<div>\n<style scoped>\n    .dataframe tbody tr th:only-of-type {\n        vertical-align: middle;\n    }\n\n    .dataframe tbody tr th {\n        vertical-align: top;\n    }\n\n    .dataframe thead th {\n        text-align: right;\n    }\n</style>\n<table border=\"1\" class=\"dataframe\">\n  <thead>\n    <tr style=\"text-align: right;\">\n      <th></th>\n      <th>long_name</th>\n      <th>age</th>\n      <th>height_cm</th>\n      <th>weight_kg</th>\n      <th>nationality</th>\n      <th>dob</th>\n      <th>club</th>\n    </tr>\n    <tr>\n      <th>short_name</th>\n      <th></th>\n      <th></th>\n      <th></th>\n      <th></th>\n      <th></th>\n      <th></th>\n      <th></th>\n    </tr>\n  </thead>\n  <tbody>\n    <tr>\n      <th>Neymar Jr</th>\n      <td>Neymar da Silva Santos Junior</td>\n      <td>27</td>\n      <td>175</td>\n      <td>68</td>\n      <td>Brazil</td>\n      <td>1992-02-05</td>\n      <td>Paris Saint-Germain</td>\n    </tr>\n    <tr>\n      <th>J. Oblak</th>\n      <td>Jan Oblak</td>\n      <td>26</td>\n      <td>188</td>\n      <td>87</td>\n      <td>Slovenia</td>\n      <td>1993-01-07</td>\n      <td>Atlético Madrid</td>\n    </tr>\n    <tr>\n      <th>E. Hazard</th>\n      <td>Eden Hazard</td>\n      <td>28</td>\n      <td>175</td>\n      <td>74</td>\n      <td>Belgium</td>\n      <td>1991-01-07</td>\n      <td>Real Madrid</td>\n    </tr>\n    <tr>\n      <th>K. De Bruyne</th>\n      <td>Kevin De Bruyne</td>\n      <td>28</td>\n      <td>181</td>\n      <td>70</td>\n      <td>Belgium</td>\n      <td>1991-06-28</td>\n      <td>Manchester City</td>\n    </tr>\n    <tr>\n      <th>M. ter Stegen</th>\n      <td>Marc-André ter Stegen</td>\n      <td>27</td>\n      <td>187</td>\n      <td>85</td>\n      <td>Germany</td>\n      <td>1992-04-30</td>\n      <td>FC Barcelona</td>\n    </tr>\n    <tr>\n      <th>...</th>\n      <td>...</td>\n      <td>...</td>\n      <td>...</td>\n      <td>...</td>\n      <td>...</td>\n      <td>...</td>\n      <td>...</td>\n    </tr>\n    <tr>\n      <th>Shao Shuai</th>\n      <td>邵帅</td>\n      <td>22</td>\n      <td>186</td>\n      <td>79</td>\n      <td>China PR</td>\n      <td>1997-03-10</td>\n      <td>Beijing Renhe FC</td>\n    </tr>\n    <tr>\n      <th>Xiao Mingjie</th>\n      <td>Mingjie Xiao</td>\n      <td>22</td>\n      <td>177</td>\n      <td>66</td>\n      <td>China PR</td>\n      <td>1997-01-01</td>\n      <td>Shanghai SIPG FC</td>\n    </tr>\n    <tr>\n      <th>Zhang Wei</th>\n      <td>张威</td>\n      <td>19</td>\n      <td>186</td>\n      <td>75</td>\n      <td>China PR</td>\n      <td>2000-05-16</td>\n      <td>Hebei China Fortune FC</td>\n    </tr>\n    <tr>\n      <th>Wang Haijian</th>\n      <td>汪海健</td>\n      <td>18</td>\n      <td>185</td>\n      <td>74</td>\n      <td>China PR</td>\n      <td>2000-08-02</td>\n      <td>Shanghai Greenland Shenhua FC</td>\n    </tr>\n    <tr>\n      <th>Pan Ximing</th>\n      <td>潘喜明</td>\n      <td>26</td>\n      <td>182</td>\n      <td>78</td>\n      <td>China PR</td>\n      <td>1993-01-11</td>\n      <td>Hebei China Fortune FC</td>\n    </tr>\n  </tbody>\n</table>\n<p>13140 rows × 7 columns</p>\n</div>"
     },
     "execution_count": 69,
     "metadata": {},
     "output_type": "execute_result"
    }
   ],
   "source": [
    "cond = df['dob'].dt.year > 1990\n",
    "df[cond]\n"
   ],
   "metadata": {
    "collapsed": false
   }
  },
  {
   "cell_type": "code",
   "execution_count": 70,
   "outputs": [],
   "source": [
    "df['any_data'] = df['age'].apply(np.sqrt)"
   ],
   "metadata": {
    "collapsed": false
   }
  },
  {
   "cell_type": "code",
   "execution_count": 71,
   "outputs": [],
   "source": [
    "def calculate_something(df):\n",
    "    return df['age'] * df['height_cm']"
   ],
   "metadata": {
    "collapsed": false
   }
  },
  {
   "cell_type": "code",
   "execution_count": 72,
   "outputs": [
    {
     "data": {
      "text/plain": "                                             long_name  age  height_cm   \nshort_name                                                               \nL. Messi                Lionel Andrés Messi Cuccittini   32        170  \\\nCristiano Ronaldo  Cristiano Ronaldo dos Santos Aveiro   34        187   \nNeymar Jr                Neymar da Silva Santos Junior   27        175   \nJ. Oblak                                     Jan Oblak   26        188   \nE. Hazard                                  Eden Hazard   28        175   \n...                                                ...  ...        ...   \nShao Shuai                                          邵帅   22        186   \nXiao Mingjie                              Mingjie Xiao   22        177   \nZhang Wei                                           张威   19        186   \nWang Haijian                                       汪海健   18        185   \nPan Ximing                                         潘喜明   26        182   \n\n                   weight_kg nationality        dob   \nshort_name                                            \nL. Messi                  72   Argentina 1987-06-24  \\\nCristiano Ronaldo         83    Portugal 1985-02-05   \nNeymar Jr                 68      Brazil 1992-02-05   \nJ. Oblak                  87    Slovenia 1993-01-07   \nE. Hazard                 74     Belgium 1991-01-07   \n...                      ...         ...        ...   \nShao Shuai                79    China PR 1997-03-10   \nXiao Mingjie              66    China PR 1997-01-01   \nZhang Wei                 75    China PR 2000-05-16   \nWang Haijian              74    China PR 2000-08-02   \nPan Ximing                78    China PR 1993-01-11   \n\n                                            club  any_data  data  \nshort_name                                                        \nL. Messi                            FC Barcelona  5.656854  5440  \nCristiano Ronaldo                       Juventus  5.830952  6358  \nNeymar Jr                    Paris Saint-Germain  5.196152  4725  \nJ. Oblak                         Atlético Madrid  5.099020  4888  \nE. Hazard                            Real Madrid  5.291503  4900  \n...                                          ...       ...   ...  \nShao Shuai                      Beijing Renhe FC  4.690416  4092  \nXiao Mingjie                    Shanghai SIPG FC  4.690416  3894  \nZhang Wei                 Hebei China Fortune FC  4.358899  3534  \nWang Haijian       Shanghai Greenland Shenhua FC  4.242641  3330  \nPan Ximing                Hebei China Fortune FC  5.099020  4732  \n\n[18278 rows x 9 columns]",
      "text/html": "<div>\n<style scoped>\n    .dataframe tbody tr th:only-of-type {\n        vertical-align: middle;\n    }\n\n    .dataframe tbody tr th {\n        vertical-align: top;\n    }\n\n    .dataframe thead th {\n        text-align: right;\n    }\n</style>\n<table border=\"1\" class=\"dataframe\">\n  <thead>\n    <tr style=\"text-align: right;\">\n      <th></th>\n      <th>long_name</th>\n      <th>age</th>\n      <th>height_cm</th>\n      <th>weight_kg</th>\n      <th>nationality</th>\n      <th>dob</th>\n      <th>club</th>\n      <th>any_data</th>\n      <th>data</th>\n    </tr>\n    <tr>\n      <th>short_name</th>\n      <th></th>\n      <th></th>\n      <th></th>\n      <th></th>\n      <th></th>\n      <th></th>\n      <th></th>\n      <th></th>\n      <th></th>\n    </tr>\n  </thead>\n  <tbody>\n    <tr>\n      <th>L. Messi</th>\n      <td>Lionel Andrés Messi Cuccittini</td>\n      <td>32</td>\n      <td>170</td>\n      <td>72</td>\n      <td>Argentina</td>\n      <td>1987-06-24</td>\n      <td>FC Barcelona</td>\n      <td>5.656854</td>\n      <td>5440</td>\n    </tr>\n    <tr>\n      <th>Cristiano Ronaldo</th>\n      <td>Cristiano Ronaldo dos Santos Aveiro</td>\n      <td>34</td>\n      <td>187</td>\n      <td>83</td>\n      <td>Portugal</td>\n      <td>1985-02-05</td>\n      <td>Juventus</td>\n      <td>5.830952</td>\n      <td>6358</td>\n    </tr>\n    <tr>\n      <th>Neymar Jr</th>\n      <td>Neymar da Silva Santos Junior</td>\n      <td>27</td>\n      <td>175</td>\n      <td>68</td>\n      <td>Brazil</td>\n      <td>1992-02-05</td>\n      <td>Paris Saint-Germain</td>\n      <td>5.196152</td>\n      <td>4725</td>\n    </tr>\n    <tr>\n      <th>J. Oblak</th>\n      <td>Jan Oblak</td>\n      <td>26</td>\n      <td>188</td>\n      <td>87</td>\n      <td>Slovenia</td>\n      <td>1993-01-07</td>\n      <td>Atlético Madrid</td>\n      <td>5.099020</td>\n      <td>4888</td>\n    </tr>\n    <tr>\n      <th>E. Hazard</th>\n      <td>Eden Hazard</td>\n      <td>28</td>\n      <td>175</td>\n      <td>74</td>\n      <td>Belgium</td>\n      <td>1991-01-07</td>\n      <td>Real Madrid</td>\n      <td>5.291503</td>\n      <td>4900</td>\n    </tr>\n    <tr>\n      <th>...</th>\n      <td>...</td>\n      <td>...</td>\n      <td>...</td>\n      <td>...</td>\n      <td>...</td>\n      <td>...</td>\n      <td>...</td>\n      <td>...</td>\n      <td>...</td>\n    </tr>\n    <tr>\n      <th>Shao Shuai</th>\n      <td>邵帅</td>\n      <td>22</td>\n      <td>186</td>\n      <td>79</td>\n      <td>China PR</td>\n      <td>1997-03-10</td>\n      <td>Beijing Renhe FC</td>\n      <td>4.690416</td>\n      <td>4092</td>\n    </tr>\n    <tr>\n      <th>Xiao Mingjie</th>\n      <td>Mingjie Xiao</td>\n      <td>22</td>\n      <td>177</td>\n      <td>66</td>\n      <td>China PR</td>\n      <td>1997-01-01</td>\n      <td>Shanghai SIPG FC</td>\n      <td>4.690416</td>\n      <td>3894</td>\n    </tr>\n    <tr>\n      <th>Zhang Wei</th>\n      <td>张威</td>\n      <td>19</td>\n      <td>186</td>\n      <td>75</td>\n      <td>China PR</td>\n      <td>2000-05-16</td>\n      <td>Hebei China Fortune FC</td>\n      <td>4.358899</td>\n      <td>3534</td>\n    </tr>\n    <tr>\n      <th>Wang Haijian</th>\n      <td>汪海健</td>\n      <td>18</td>\n      <td>185</td>\n      <td>74</td>\n      <td>China PR</td>\n      <td>2000-08-02</td>\n      <td>Shanghai Greenland Shenhua FC</td>\n      <td>4.242641</td>\n      <td>3330</td>\n    </tr>\n    <tr>\n      <th>Pan Ximing</th>\n      <td>潘喜明</td>\n      <td>26</td>\n      <td>182</td>\n      <td>78</td>\n      <td>China PR</td>\n      <td>1993-01-11</td>\n      <td>Hebei China Fortune FC</td>\n      <td>5.099020</td>\n      <td>4732</td>\n    </tr>\n  </tbody>\n</table>\n<p>18278 rows × 9 columns</p>\n</div>"
     },
     "execution_count": 72,
     "metadata": {},
     "output_type": "execute_result"
    }
   ],
   "source": [
    "df['data'] = df.apply(calculate_something, axis = 1)\n",
    "df"
   ],
   "metadata": {
    "collapsed": false
   }
  },
  {
   "cell_type": "code",
   "execution_count": 73,
   "outputs": [
    {
     "data": {
      "text/plain": "short_name\nL. Messi                  LIONEL ANDRÉS MESSI CUCCITTINI\nCristiano Ronaldo    CRISTIANO RONALDO DOS SANTOS AVEIRO\nNeymar Jr                  NEYMAR DA SILVA SANTOS JUNIOR\nJ. Oblak                                       JAN OBLAK\nE. Hazard                                    EDEN HAZARD\n                                    ...                 \nShao Shuai                                            邵帅\nXiao Mingjie                                MINGJIE XIAO\nZhang Wei                                             张威\nWang Haijian                                         汪海健\nPan Ximing                                           潘喜明\nName: long_name, Length: 18278, dtype: object"
     },
     "execution_count": 73,
     "metadata": {},
     "output_type": "execute_result"
    }
   ],
   "source": [
    "df['long_name'].str.upper()"
   ],
   "metadata": {
    "collapsed": false
   }
  },
  {
   "cell_type": "code",
   "execution_count": 74,
   "outputs": [
    {
     "data": {
      "text/plain": "short_name\nL. Messi                  lionel andrés messi cuccittini\nCristiano Ronaldo    cristiano ronaldo dos santos aveiro\nNeymar Jr                  neymar da silva santos junior\nJ. Oblak                                       jan oblak\nE. Hazard                                    eden hazard\n                                    ...                 \nShao Shuai                                            邵帅\nXiao Mingjie                                mingjie xiao\nZhang Wei                                             张威\nWang Haijian                                         汪海健\nPan Ximing                                           潘喜明\nName: long_name, Length: 18278, dtype: object"
     },
     "execution_count": 74,
     "metadata": {},
     "output_type": "execute_result"
    }
   ],
   "source": [
    "df['long_name'].apply(lambda x: x.lower())"
   ],
   "metadata": {
    "collapsed": false
   }
  },
  {
   "cell_type": "code",
   "execution_count": 74,
   "outputs": [],
   "source": [],
   "metadata": {
    "collapsed": false
   }
  },
  {
   "cell_type": "code",
   "execution_count": 75,
   "outputs": [],
   "source": [
    "df['any_data'] = df['any_data'].apply(lambda x: round(x, 2))"
   ],
   "metadata": {
    "collapsed": false
   }
  },
  {
   "cell_type": "code",
   "execution_count": 76,
   "outputs": [
    {
     "data": {
      "text/plain": "short_name\nL. Messi             6\nCristiano Ronaldo    6\nNeymar Jr            6\nJ. Oblak             6\nE. Hazard            6\n                    ..\nShao Shuai           5\nXiao Mingjie         5\nZhang Wei            5\nWang Haijian         5\nPan Ximing           6\nName: any_data, Length: 18278, dtype: int64"
     },
     "execution_count": 76,
     "metadata": {},
     "output_type": "execute_result"
    }
   ],
   "source": [
    "from math import ceil\n",
    "\n",
    "df['any_data'].apply(lambda x: ceil(x))"
   ],
   "metadata": {
    "collapsed": false
   }
  },
  {
   "cell_type": "code",
   "execution_count": 77,
   "outputs": [
    {
     "data": {
      "text/plain": "short_name\nL. Messi             5\nCristiano Ronaldo    5\nNeymar Jr            5\nJ. Oblak             5\nE. Hazard            5\n                    ..\nShao Shuai           4\nXiao Mingjie         4\nZhang Wei            4\nWang Haijian         4\nPan Ximing           5\nName: any_data, Length: 18278, dtype: int64"
     },
     "execution_count": 77,
     "metadata": {},
     "output_type": "execute_result"
    }
   ],
   "source": [
    "from math import floor\n",
    "\n",
    "df['any_data'].apply(lambda x: floor(x))"
   ],
   "metadata": {
    "collapsed": false
   }
  },
  {
   "cell_type": "code",
   "execution_count": 78,
   "outputs": [
    {
     "data": {
      "text/plain": "age                     32\ndob    1987-06-24 00:00:00\nName: L. Messi, dtype: object"
     },
     "execution_count": 78,
     "metadata": {},
     "output_type": "execute_result"
    }
   ],
   "source": [
    "df.loc['L. Messi', ['age', 'dob']]"
   ],
   "metadata": {
    "collapsed": false
   }
  },
  {
   "cell_type": "code",
   "execution_count": 79,
   "outputs": [],
   "source": [
    "df['dob'] = df['dob'].astype('string')"
   ],
   "metadata": {
    "collapsed": false
   }
  },
  {
   "cell_type": "code",
   "execution_count": 80,
   "outputs": [],
   "source": [
    "df['dob'] = df['dob'].apply(lambda x: x.split('-'))"
   ],
   "metadata": {
    "collapsed": false
   }
  },
  {
   "cell_type": "code",
   "execution_count": 81,
   "outputs": [
    {
     "data": {
      "text/plain": "short_name\nL. Messi             1987\nCristiano Ronaldo    1985\nNeymar Jr            1992\nJ. Oblak             1993\nE. Hazard            1991\n                     ... \nShao Shuai           1997\nXiao Mingjie         1997\nZhang Wei            2000\nWang Haijian         2000\nPan Ximing           1993\nName: dob, Length: 18278, dtype: object"
     },
     "execution_count": 81,
     "metadata": {},
     "output_type": "execute_result"
    }
   ],
   "source": [
    "df['dob'].apply(lambda x: x[0])"
   ],
   "metadata": {
    "collapsed": false
   }
  },
  {
   "cell_type": "code",
   "execution_count": 82,
   "outputs": [
    {
     "data": {
      "text/plain": "short_name\nL. Messi             06\nCristiano Ronaldo    02\nNeymar Jr            02\nJ. Oblak             01\nE. Hazard            01\n                     ..\nShao Shuai           03\nXiao Mingjie         01\nZhang Wei            05\nWang Haijian         08\nPan Ximing           01\nName: dob, Length: 18278, dtype: object"
     },
     "execution_count": 82,
     "metadata": {},
     "output_type": "execute_result"
    }
   ],
   "source": [
    "df['dob'].apply(lambda x: x[1])"
   ],
   "metadata": {
    "collapsed": false
   }
  },
  {
   "cell_type": "code",
   "execution_count": 83,
   "outputs": [
    {
     "data": {
      "text/plain": "long_name       object\nage              int64\nheight_cm        int64\nweight_kg        int64\nnationality     object\ndob             object\nclub            object\nany_data       float64\ndata             int64\ndtype: object"
     },
     "execution_count": 83,
     "metadata": {},
     "output_type": "execute_result"
    }
   ],
   "source": [
    "df.dtypes"
   ],
   "metadata": {
    "collapsed": false
   }
  },
  {
   "cell_type": "code",
   "execution_count": 84,
   "outputs": [
    {
     "data": {
      "text/plain": "short_name\nL. Messi                  Lionel Andrés Messi Cuccittini\nCristiano Ronaldo    Cristiano Ronaldo dos Santos Aveiro\nNeymar Jr                  Neymar da Silva Santos Junior\nJ. Oblak                                       Jan Oblak\nE. Hazard                                    Eden Hazard\n                                    ...                 \nShao Shuai                                            邵帅\nXiao Mingjie                                Mingjie Xiao\nZhang Wei                                             张威\nWang Haijian                                         汪海健\nPan Ximing                                           潘喜明\nName: long_name, Length: 18278, dtype: string"
     },
     "execution_count": 84,
     "metadata": {},
     "output_type": "execute_result"
    }
   ],
   "source": [
    "df['long_name'].astype('string')"
   ],
   "metadata": {
    "collapsed": false
   }
  },
  {
   "cell_type": "code",
   "execution_count": 85,
   "outputs": [
    {
     "data": {
      "text/plain": "short_name\nL. Messi                Lionel\nCristiano Ronaldo    Cristiano\nNeymar Jr               Neymar\nJ. Oblak                   Jan\nE. Hazard                 Eden\n                       ...    \nShao Shuai                  邵帅\nXiao Mingjie           Mingjie\nZhang Wei                   张威\nWang Haijian               汪海健\nPan Ximing                 潘喜明\nName: long_name, Length: 18278, dtype: object"
     },
     "execution_count": 85,
     "metadata": {},
     "output_type": "execute_result"
    }
   ],
   "source": [
    "df['long_name'].apply(lambda x: x.split(' ')[0])\n",
    "# df['first_name'] = df['long_name'].apply(lambda x: x[0])"
   ],
   "metadata": {
    "collapsed": false
   }
  },
  {
   "cell_type": "code",
   "execution_count": 86,
   "outputs": [],
   "source": [
    "df_deep_copy = df.copy()"
   ],
   "metadata": {
    "collapsed": false
   }
  },
  {
   "cell_type": "code",
   "execution_count": 87,
   "outputs": [
    {
     "data": {
      "text/plain": "                                             long_name  age  height_cm   \nshort_name                                                               \nL. Messi                Lionel Andrés Messi Cuccittini   32        170  \\\nCristiano Ronaldo  Cristiano Ronaldo dos Santos Aveiro   34        187   \nNeymar Jr                Neymar da Silva Santos Junior   27        175   \nJ. Oblak                                     Jan Oblak   26        188   \nE. Hazard                                  Eden Hazard   28        175   \n...                                                ...  ...        ...   \nShao Shuai                                          邵帅   22        186   \nXiao Mingjie                              Mingjie Xiao   22        177   \nZhang Wei                                           张威   19        186   \nWang Haijian                                       汪海健   18        185   \nPan Ximing                                         潘喜明   26        182   \n\n                   weight_kg nationality             dob   \nshort_name                                                 \nL. Messi                  72   Argentina  [1987, 06, 24]  \\\nCristiano Ronaldo         83    Portugal  [1985, 02, 05]   \nNeymar Jr                 68      Brazil  [1992, 02, 05]   \nJ. Oblak                  87    Slovenia  [1993, 01, 07]   \nE. Hazard                 74     Belgium  [1991, 01, 07]   \n...                      ...         ...             ...   \nShao Shuai                79    China PR  [1997, 03, 10]   \nXiao Mingjie              66    China PR  [1997, 01, 01]   \nZhang Wei                 75    China PR  [2000, 05, 16]   \nWang Haijian              74    China PR  [2000, 08, 02]   \nPan Ximing                78    China PR  [1993, 01, 11]   \n\n                                            club  any_data  data  \nshort_name                                                        \nL. Messi                            FC Barcelona      5.66  5440  \nCristiano Ronaldo                       Juventus      5.83  6358  \nNeymar Jr                    Paris Saint-Germain      5.20  4725  \nJ. Oblak                         Atlético Madrid      5.10  4888  \nE. Hazard                            Real Madrid      5.29  4900  \n...                                          ...       ...   ...  \nShao Shuai                      Beijing Renhe FC      4.69  4092  \nXiao Mingjie                    Shanghai SIPG FC      4.69  3894  \nZhang Wei                 Hebei China Fortune FC      4.36  3534  \nWang Haijian       Shanghai Greenland Shenhua FC      4.24  3330  \nPan Ximing                Hebei China Fortune FC      5.10  4732  \n\n[18278 rows x 9 columns]",
      "text/html": "<div>\n<style scoped>\n    .dataframe tbody tr th:only-of-type {\n        vertical-align: middle;\n    }\n\n    .dataframe tbody tr th {\n        vertical-align: top;\n    }\n\n    .dataframe thead th {\n        text-align: right;\n    }\n</style>\n<table border=\"1\" class=\"dataframe\">\n  <thead>\n    <tr style=\"text-align: right;\">\n      <th></th>\n      <th>long_name</th>\n      <th>age</th>\n      <th>height_cm</th>\n      <th>weight_kg</th>\n      <th>nationality</th>\n      <th>dob</th>\n      <th>club</th>\n      <th>any_data</th>\n      <th>data</th>\n    </tr>\n    <tr>\n      <th>short_name</th>\n      <th></th>\n      <th></th>\n      <th></th>\n      <th></th>\n      <th></th>\n      <th></th>\n      <th></th>\n      <th></th>\n      <th></th>\n    </tr>\n  </thead>\n  <tbody>\n    <tr>\n      <th>L. Messi</th>\n      <td>Lionel Andrés Messi Cuccittini</td>\n      <td>32</td>\n      <td>170</td>\n      <td>72</td>\n      <td>Argentina</td>\n      <td>[1987, 06, 24]</td>\n      <td>FC Barcelona</td>\n      <td>5.66</td>\n      <td>5440</td>\n    </tr>\n    <tr>\n      <th>Cristiano Ronaldo</th>\n      <td>Cristiano Ronaldo dos Santos Aveiro</td>\n      <td>34</td>\n      <td>187</td>\n      <td>83</td>\n      <td>Portugal</td>\n      <td>[1985, 02, 05]</td>\n      <td>Juventus</td>\n      <td>5.83</td>\n      <td>6358</td>\n    </tr>\n    <tr>\n      <th>Neymar Jr</th>\n      <td>Neymar da Silva Santos Junior</td>\n      <td>27</td>\n      <td>175</td>\n      <td>68</td>\n      <td>Brazil</td>\n      <td>[1992, 02, 05]</td>\n      <td>Paris Saint-Germain</td>\n      <td>5.20</td>\n      <td>4725</td>\n    </tr>\n    <tr>\n      <th>J. Oblak</th>\n      <td>Jan Oblak</td>\n      <td>26</td>\n      <td>188</td>\n      <td>87</td>\n      <td>Slovenia</td>\n      <td>[1993, 01, 07]</td>\n      <td>Atlético Madrid</td>\n      <td>5.10</td>\n      <td>4888</td>\n    </tr>\n    <tr>\n      <th>E. Hazard</th>\n      <td>Eden Hazard</td>\n      <td>28</td>\n      <td>175</td>\n      <td>74</td>\n      <td>Belgium</td>\n      <td>[1991, 01, 07]</td>\n      <td>Real Madrid</td>\n      <td>5.29</td>\n      <td>4900</td>\n    </tr>\n    <tr>\n      <th>...</th>\n      <td>...</td>\n      <td>...</td>\n      <td>...</td>\n      <td>...</td>\n      <td>...</td>\n      <td>...</td>\n      <td>...</td>\n      <td>...</td>\n      <td>...</td>\n    </tr>\n    <tr>\n      <th>Shao Shuai</th>\n      <td>邵帅</td>\n      <td>22</td>\n      <td>186</td>\n      <td>79</td>\n      <td>China PR</td>\n      <td>[1997, 03, 10]</td>\n      <td>Beijing Renhe FC</td>\n      <td>4.69</td>\n      <td>4092</td>\n    </tr>\n    <tr>\n      <th>Xiao Mingjie</th>\n      <td>Mingjie Xiao</td>\n      <td>22</td>\n      <td>177</td>\n      <td>66</td>\n      <td>China PR</td>\n      <td>[1997, 01, 01]</td>\n      <td>Shanghai SIPG FC</td>\n      <td>4.69</td>\n      <td>3894</td>\n    </tr>\n    <tr>\n      <th>Zhang Wei</th>\n      <td>张威</td>\n      <td>19</td>\n      <td>186</td>\n      <td>75</td>\n      <td>China PR</td>\n      <td>[2000, 05, 16]</td>\n      <td>Hebei China Fortune FC</td>\n      <td>4.36</td>\n      <td>3534</td>\n    </tr>\n    <tr>\n      <th>Wang Haijian</th>\n      <td>汪海健</td>\n      <td>18</td>\n      <td>185</td>\n      <td>74</td>\n      <td>China PR</td>\n      <td>[2000, 08, 02]</td>\n      <td>Shanghai Greenland Shenhua FC</td>\n      <td>4.24</td>\n      <td>3330</td>\n    </tr>\n    <tr>\n      <th>Pan Ximing</th>\n      <td>潘喜明</td>\n      <td>26</td>\n      <td>182</td>\n      <td>78</td>\n      <td>China PR</td>\n      <td>[1993, 01, 11]</td>\n      <td>Hebei China Fortune FC</td>\n      <td>5.10</td>\n      <td>4732</td>\n    </tr>\n  </tbody>\n</table>\n<p>18278 rows × 9 columns</p>\n</div>"
     },
     "execution_count": 87,
     "metadata": {},
     "output_type": "execute_result"
    }
   ],
   "source": [
    "df_deep_copy"
   ],
   "metadata": {
    "collapsed": false
   }
  },
  {
   "cell_type": "code",
   "execution_count": 88,
   "outputs": [],
   "source": [
    "df.loc['L. Messi', 'age'] = 100"
   ],
   "metadata": {
    "collapsed": false
   }
  },
  {
   "cell_type": "code",
   "execution_count": 89,
   "outputs": [
    {
     "data": {
      "text/plain": "                                             long_name  age  height_cm   \nshort_name                                                               \nL. Messi                Lionel Andrés Messi Cuccittini   32        170  \\\nCristiano Ronaldo  Cristiano Ronaldo dos Santos Aveiro   34        187   \nNeymar Jr                Neymar da Silva Santos Junior   27        175   \nJ. Oblak                                     Jan Oblak   26        188   \nE. Hazard                                  Eden Hazard   28        175   \n...                                                ...  ...        ...   \nShao Shuai                                          邵帅   22        186   \nXiao Mingjie                              Mingjie Xiao   22        177   \nZhang Wei                                           张威   19        186   \nWang Haijian                                       汪海健   18        185   \nPan Ximing                                         潘喜明   26        182   \n\n                   weight_kg nationality             dob   \nshort_name                                                 \nL. Messi                  72   Argentina  [1987, 06, 24]  \\\nCristiano Ronaldo         83    Portugal  [1985, 02, 05]   \nNeymar Jr                 68      Brazil  [1992, 02, 05]   \nJ. Oblak                  87    Slovenia  [1993, 01, 07]   \nE. Hazard                 74     Belgium  [1991, 01, 07]   \n...                      ...         ...             ...   \nShao Shuai                79    China PR  [1997, 03, 10]   \nXiao Mingjie              66    China PR  [1997, 01, 01]   \nZhang Wei                 75    China PR  [2000, 05, 16]   \nWang Haijian              74    China PR  [2000, 08, 02]   \nPan Ximing                78    China PR  [1993, 01, 11]   \n\n                                            club  any_data  data  \nshort_name                                                        \nL. Messi                            FC Barcelona      5.66  5440  \nCristiano Ronaldo                       Juventus      5.83  6358  \nNeymar Jr                    Paris Saint-Germain      5.20  4725  \nJ. Oblak                         Atlético Madrid      5.10  4888  \nE. Hazard                            Real Madrid      5.29  4900  \n...                                          ...       ...   ...  \nShao Shuai                      Beijing Renhe FC      4.69  4092  \nXiao Mingjie                    Shanghai SIPG FC      4.69  3894  \nZhang Wei                 Hebei China Fortune FC      4.36  3534  \nWang Haijian       Shanghai Greenland Shenhua FC      4.24  3330  \nPan Ximing                Hebei China Fortune FC      5.10  4732  \n\n[18278 rows x 9 columns]",
      "text/html": "<div>\n<style scoped>\n    .dataframe tbody tr th:only-of-type {\n        vertical-align: middle;\n    }\n\n    .dataframe tbody tr th {\n        vertical-align: top;\n    }\n\n    .dataframe thead th {\n        text-align: right;\n    }\n</style>\n<table border=\"1\" class=\"dataframe\">\n  <thead>\n    <tr style=\"text-align: right;\">\n      <th></th>\n      <th>long_name</th>\n      <th>age</th>\n      <th>height_cm</th>\n      <th>weight_kg</th>\n      <th>nationality</th>\n      <th>dob</th>\n      <th>club</th>\n      <th>any_data</th>\n      <th>data</th>\n    </tr>\n    <tr>\n      <th>short_name</th>\n      <th></th>\n      <th></th>\n      <th></th>\n      <th></th>\n      <th></th>\n      <th></th>\n      <th></th>\n      <th></th>\n      <th></th>\n    </tr>\n  </thead>\n  <tbody>\n    <tr>\n      <th>L. Messi</th>\n      <td>Lionel Andrés Messi Cuccittini</td>\n      <td>32</td>\n      <td>170</td>\n      <td>72</td>\n      <td>Argentina</td>\n      <td>[1987, 06, 24]</td>\n      <td>FC Barcelona</td>\n      <td>5.66</td>\n      <td>5440</td>\n    </tr>\n    <tr>\n      <th>Cristiano Ronaldo</th>\n      <td>Cristiano Ronaldo dos Santos Aveiro</td>\n      <td>34</td>\n      <td>187</td>\n      <td>83</td>\n      <td>Portugal</td>\n      <td>[1985, 02, 05]</td>\n      <td>Juventus</td>\n      <td>5.83</td>\n      <td>6358</td>\n    </tr>\n    <tr>\n      <th>Neymar Jr</th>\n      <td>Neymar da Silva Santos Junior</td>\n      <td>27</td>\n      <td>175</td>\n      <td>68</td>\n      <td>Brazil</td>\n      <td>[1992, 02, 05]</td>\n      <td>Paris Saint-Germain</td>\n      <td>5.20</td>\n      <td>4725</td>\n    </tr>\n    <tr>\n      <th>J. Oblak</th>\n      <td>Jan Oblak</td>\n      <td>26</td>\n      <td>188</td>\n      <td>87</td>\n      <td>Slovenia</td>\n      <td>[1993, 01, 07]</td>\n      <td>Atlético Madrid</td>\n      <td>5.10</td>\n      <td>4888</td>\n    </tr>\n    <tr>\n      <th>E. Hazard</th>\n      <td>Eden Hazard</td>\n      <td>28</td>\n      <td>175</td>\n      <td>74</td>\n      <td>Belgium</td>\n      <td>[1991, 01, 07]</td>\n      <td>Real Madrid</td>\n      <td>5.29</td>\n      <td>4900</td>\n    </tr>\n    <tr>\n      <th>...</th>\n      <td>...</td>\n      <td>...</td>\n      <td>...</td>\n      <td>...</td>\n      <td>...</td>\n      <td>...</td>\n      <td>...</td>\n      <td>...</td>\n      <td>...</td>\n    </tr>\n    <tr>\n      <th>Shao Shuai</th>\n      <td>邵帅</td>\n      <td>22</td>\n      <td>186</td>\n      <td>79</td>\n      <td>China PR</td>\n      <td>[1997, 03, 10]</td>\n      <td>Beijing Renhe FC</td>\n      <td>4.69</td>\n      <td>4092</td>\n    </tr>\n    <tr>\n      <th>Xiao Mingjie</th>\n      <td>Mingjie Xiao</td>\n      <td>22</td>\n      <td>177</td>\n      <td>66</td>\n      <td>China PR</td>\n      <td>[1997, 01, 01]</td>\n      <td>Shanghai SIPG FC</td>\n      <td>4.69</td>\n      <td>3894</td>\n    </tr>\n    <tr>\n      <th>Zhang Wei</th>\n      <td>张威</td>\n      <td>19</td>\n      <td>186</td>\n      <td>75</td>\n      <td>China PR</td>\n      <td>[2000, 05, 16]</td>\n      <td>Hebei China Fortune FC</td>\n      <td>4.36</td>\n      <td>3534</td>\n    </tr>\n    <tr>\n      <th>Wang Haijian</th>\n      <td>汪海健</td>\n      <td>18</td>\n      <td>185</td>\n      <td>74</td>\n      <td>China PR</td>\n      <td>[2000, 08, 02]</td>\n      <td>Shanghai Greenland Shenhua FC</td>\n      <td>4.24</td>\n      <td>3330</td>\n    </tr>\n    <tr>\n      <th>Pan Ximing</th>\n      <td>潘喜明</td>\n      <td>26</td>\n      <td>182</td>\n      <td>78</td>\n      <td>China PR</td>\n      <td>[1993, 01, 11]</td>\n      <td>Hebei China Fortune FC</td>\n      <td>5.10</td>\n      <td>4732</td>\n    </tr>\n  </tbody>\n</table>\n<p>18278 rows × 9 columns</p>\n</div>"
     },
     "execution_count": 89,
     "metadata": {},
     "output_type": "execute_result"
    }
   ],
   "source": [
    "df_deep_copy"
   ],
   "metadata": {
    "collapsed": false
   }
  },
  {
   "cell_type": "code",
   "execution_count": 90,
   "outputs": [],
   "source": [
    "df_shallow_copy = df.copy(deep = False)\n"
   ],
   "metadata": {
    "collapsed": false
   }
  },
  {
   "cell_type": "code",
   "execution_count": 91,
   "outputs": [],
   "source": [
    "df.loc['J. Oblak', 'age'] = 200"
   ],
   "metadata": {
    "collapsed": false
   }
  },
  {
   "cell_type": "code",
   "execution_count": 92,
   "outputs": [
    {
     "data": {
      "text/plain": "                                             long_name  age  height_cm   \nshort_name                                                               \nL. Messi                Lionel Andrés Messi Cuccittini  100        170  \\\nCristiano Ronaldo  Cristiano Ronaldo dos Santos Aveiro   34        187   \nNeymar Jr                Neymar da Silva Santos Junior   27        175   \nJ. Oblak                                     Jan Oblak  200        188   \nE. Hazard                                  Eden Hazard   28        175   \n...                                                ...  ...        ...   \nShao Shuai                                          邵帅   22        186   \nXiao Mingjie                              Mingjie Xiao   22        177   \nZhang Wei                                           张威   19        186   \nWang Haijian                                       汪海健   18        185   \nPan Ximing                                         潘喜明   26        182   \n\n                   weight_kg nationality             dob   \nshort_name                                                 \nL. Messi                  72   Argentina  [1987, 06, 24]  \\\nCristiano Ronaldo         83    Portugal  [1985, 02, 05]   \nNeymar Jr                 68      Brazil  [1992, 02, 05]   \nJ. Oblak                  87    Slovenia  [1993, 01, 07]   \nE. Hazard                 74     Belgium  [1991, 01, 07]   \n...                      ...         ...             ...   \nShao Shuai                79    China PR  [1997, 03, 10]   \nXiao Mingjie              66    China PR  [1997, 01, 01]   \nZhang Wei                 75    China PR  [2000, 05, 16]   \nWang Haijian              74    China PR  [2000, 08, 02]   \nPan Ximing                78    China PR  [1993, 01, 11]   \n\n                                            club  any_data  data  \nshort_name                                                        \nL. Messi                            FC Barcelona      5.66  5440  \nCristiano Ronaldo                       Juventus      5.83  6358  \nNeymar Jr                    Paris Saint-Germain      5.20  4725  \nJ. Oblak                         Atlético Madrid      5.10  4888  \nE. Hazard                            Real Madrid      5.29  4900  \n...                                          ...       ...   ...  \nShao Shuai                      Beijing Renhe FC      4.69  4092  \nXiao Mingjie                    Shanghai SIPG FC      4.69  3894  \nZhang Wei                 Hebei China Fortune FC      4.36  3534  \nWang Haijian       Shanghai Greenland Shenhua FC      4.24  3330  \nPan Ximing                Hebei China Fortune FC      5.10  4732  \n\n[18278 rows x 9 columns]",
      "text/html": "<div>\n<style scoped>\n    .dataframe tbody tr th:only-of-type {\n        vertical-align: middle;\n    }\n\n    .dataframe tbody tr th {\n        vertical-align: top;\n    }\n\n    .dataframe thead th {\n        text-align: right;\n    }\n</style>\n<table border=\"1\" class=\"dataframe\">\n  <thead>\n    <tr style=\"text-align: right;\">\n      <th></th>\n      <th>long_name</th>\n      <th>age</th>\n      <th>height_cm</th>\n      <th>weight_kg</th>\n      <th>nationality</th>\n      <th>dob</th>\n      <th>club</th>\n      <th>any_data</th>\n      <th>data</th>\n    </tr>\n    <tr>\n      <th>short_name</th>\n      <th></th>\n      <th></th>\n      <th></th>\n      <th></th>\n      <th></th>\n      <th></th>\n      <th></th>\n      <th></th>\n      <th></th>\n    </tr>\n  </thead>\n  <tbody>\n    <tr>\n      <th>L. Messi</th>\n      <td>Lionel Andrés Messi Cuccittini</td>\n      <td>100</td>\n      <td>170</td>\n      <td>72</td>\n      <td>Argentina</td>\n      <td>[1987, 06, 24]</td>\n      <td>FC Barcelona</td>\n      <td>5.66</td>\n      <td>5440</td>\n    </tr>\n    <tr>\n      <th>Cristiano Ronaldo</th>\n      <td>Cristiano Ronaldo dos Santos Aveiro</td>\n      <td>34</td>\n      <td>187</td>\n      <td>83</td>\n      <td>Portugal</td>\n      <td>[1985, 02, 05]</td>\n      <td>Juventus</td>\n      <td>5.83</td>\n      <td>6358</td>\n    </tr>\n    <tr>\n      <th>Neymar Jr</th>\n      <td>Neymar da Silva Santos Junior</td>\n      <td>27</td>\n      <td>175</td>\n      <td>68</td>\n      <td>Brazil</td>\n      <td>[1992, 02, 05]</td>\n      <td>Paris Saint-Germain</td>\n      <td>5.20</td>\n      <td>4725</td>\n    </tr>\n    <tr>\n      <th>J. Oblak</th>\n      <td>Jan Oblak</td>\n      <td>200</td>\n      <td>188</td>\n      <td>87</td>\n      <td>Slovenia</td>\n      <td>[1993, 01, 07]</td>\n      <td>Atlético Madrid</td>\n      <td>5.10</td>\n      <td>4888</td>\n    </tr>\n    <tr>\n      <th>E. Hazard</th>\n      <td>Eden Hazard</td>\n      <td>28</td>\n      <td>175</td>\n      <td>74</td>\n      <td>Belgium</td>\n      <td>[1991, 01, 07]</td>\n      <td>Real Madrid</td>\n      <td>5.29</td>\n      <td>4900</td>\n    </tr>\n    <tr>\n      <th>...</th>\n      <td>...</td>\n      <td>...</td>\n      <td>...</td>\n      <td>...</td>\n      <td>...</td>\n      <td>...</td>\n      <td>...</td>\n      <td>...</td>\n      <td>...</td>\n    </tr>\n    <tr>\n      <th>Shao Shuai</th>\n      <td>邵帅</td>\n      <td>22</td>\n      <td>186</td>\n      <td>79</td>\n      <td>China PR</td>\n      <td>[1997, 03, 10]</td>\n      <td>Beijing Renhe FC</td>\n      <td>4.69</td>\n      <td>4092</td>\n    </tr>\n    <tr>\n      <th>Xiao Mingjie</th>\n      <td>Mingjie Xiao</td>\n      <td>22</td>\n      <td>177</td>\n      <td>66</td>\n      <td>China PR</td>\n      <td>[1997, 01, 01]</td>\n      <td>Shanghai SIPG FC</td>\n      <td>4.69</td>\n      <td>3894</td>\n    </tr>\n    <tr>\n      <th>Zhang Wei</th>\n      <td>张威</td>\n      <td>19</td>\n      <td>186</td>\n      <td>75</td>\n      <td>China PR</td>\n      <td>[2000, 05, 16]</td>\n      <td>Hebei China Fortune FC</td>\n      <td>4.36</td>\n      <td>3534</td>\n    </tr>\n    <tr>\n      <th>Wang Haijian</th>\n      <td>汪海健</td>\n      <td>18</td>\n      <td>185</td>\n      <td>74</td>\n      <td>China PR</td>\n      <td>[2000, 08, 02]</td>\n      <td>Shanghai Greenland Shenhua FC</td>\n      <td>4.24</td>\n      <td>3330</td>\n    </tr>\n    <tr>\n      <th>Pan Ximing</th>\n      <td>潘喜明</td>\n      <td>26</td>\n      <td>182</td>\n      <td>78</td>\n      <td>China PR</td>\n      <td>[1993, 01, 11]</td>\n      <td>Hebei China Fortune FC</td>\n      <td>5.10</td>\n      <td>4732</td>\n    </tr>\n  </tbody>\n</table>\n<p>18278 rows × 9 columns</p>\n</div>"
     },
     "execution_count": 92,
     "metadata": {},
     "output_type": "execute_result"
    }
   ],
   "source": [
    "df_shallow_copy"
   ],
   "metadata": {
    "collapsed": false
   }
  },
  {
   "cell_type": "code",
   "execution_count": 93,
   "outputs": [
    {
     "data": {
      "text/plain": "                                             long_name   age         dob   \nshort_name                                                                 \nL. Messi                Lionel Andrés Messi Cuccittini  32.0  1987-06-24  \\\nCristiano Ronaldo  Cristiano Ronaldo dos Santos Aveiro  34.0  1985-02-05   \nNeymar Jr                Neymar da Silva Santos Junior  27.0  1992-02-05   \nJ. Oblak                                     Jan Oblak  26.0  1993-01-07   \nE. Hazard                                  Eden Hazard  28.0  1991-01-07   \nK. De Bruyne                           Kevin De Bruyne  28.0  1991-06-28   \nM. ter Stegen                    Marc-André ter Stegen  27.0  1992-04-30   \nV. van Dijk                            Virgil van Dijk  27.0  1991-07-08   \nL. Modrić                                  Luka Modrić  33.0  1985-09-09   \nM. Salah                          Mohamed  Salah Ghaly  27.0  1992-06-15   \n\n                   height_cm  weight_kg  nationality                 club   \nshort_name                                                                  \nL. Messi               170.0       72.0    Argentina         FC Barcelona  \\\nCristiano Ronaldo      187.0       83.0     Portugal             Juventus   \nNeymar Jr              175.0       68.0       Brazil  Paris Saint-Germain   \nJ. Oblak               188.0       87.0     Slovenia      Atlético Madrid   \nE. Hazard              175.0       74.0      Belgium          Real Madrid   \nK. De Bruyne           181.0       70.0      Belgium      Manchester City   \nM. ter Stegen          187.0       85.0      Germany         FC Barcelona   \nV. van Dijk            193.0       92.0  Netherlands            Liverpool   \nL. Modrić              172.0       66.0      Croatia          Real Madrid   \nM. Salah               175.0       71.0        Egypt            Liverpool   \n\n                   weight  \nshort_name                 \nL. Messi              NaN  \nCristiano Ronaldo     NaN  \nNeymar Jr             NaN  \nJ. Oblak              NaN  \nE. Hazard             NaN  \nK. De Bruyne          NaN  \nM. ter Stegen         NaN  \nV. van Dijk           NaN  \nL. Modrić             NaN  \nM. Salah              NaN  ",
      "text/html": "<div>\n<style scoped>\n    .dataframe tbody tr th:only-of-type {\n        vertical-align: middle;\n    }\n\n    .dataframe tbody tr th {\n        vertical-align: top;\n    }\n\n    .dataframe thead th {\n        text-align: right;\n    }\n</style>\n<table border=\"1\" class=\"dataframe\">\n  <thead>\n    <tr style=\"text-align: right;\">\n      <th></th>\n      <th>long_name</th>\n      <th>age</th>\n      <th>dob</th>\n      <th>height_cm</th>\n      <th>weight_kg</th>\n      <th>nationality</th>\n      <th>club</th>\n      <th>weight</th>\n    </tr>\n    <tr>\n      <th>short_name</th>\n      <th></th>\n      <th></th>\n      <th></th>\n      <th></th>\n      <th></th>\n      <th></th>\n      <th></th>\n      <th></th>\n    </tr>\n  </thead>\n  <tbody>\n    <tr>\n      <th>L. Messi</th>\n      <td>Lionel Andrés Messi Cuccittini</td>\n      <td>32.0</td>\n      <td>1987-06-24</td>\n      <td>170.0</td>\n      <td>72.0</td>\n      <td>Argentina</td>\n      <td>FC Barcelona</td>\n      <td>NaN</td>\n    </tr>\n    <tr>\n      <th>Cristiano Ronaldo</th>\n      <td>Cristiano Ronaldo dos Santos Aveiro</td>\n      <td>34.0</td>\n      <td>1985-02-05</td>\n      <td>187.0</td>\n      <td>83.0</td>\n      <td>Portugal</td>\n      <td>Juventus</td>\n      <td>NaN</td>\n    </tr>\n    <tr>\n      <th>Neymar Jr</th>\n      <td>Neymar da Silva Santos Junior</td>\n      <td>27.0</td>\n      <td>1992-02-05</td>\n      <td>175.0</td>\n      <td>68.0</td>\n      <td>Brazil</td>\n      <td>Paris Saint-Germain</td>\n      <td>NaN</td>\n    </tr>\n    <tr>\n      <th>J. Oblak</th>\n      <td>Jan Oblak</td>\n      <td>26.0</td>\n      <td>1993-01-07</td>\n      <td>188.0</td>\n      <td>87.0</td>\n      <td>Slovenia</td>\n      <td>Atlético Madrid</td>\n      <td>NaN</td>\n    </tr>\n    <tr>\n      <th>E. Hazard</th>\n      <td>Eden Hazard</td>\n      <td>28.0</td>\n      <td>1991-01-07</td>\n      <td>175.0</td>\n      <td>74.0</td>\n      <td>Belgium</td>\n      <td>Real Madrid</td>\n      <td>NaN</td>\n    </tr>\n    <tr>\n      <th>K. De Bruyne</th>\n      <td>Kevin De Bruyne</td>\n      <td>28.0</td>\n      <td>1991-06-28</td>\n      <td>181.0</td>\n      <td>70.0</td>\n      <td>Belgium</td>\n      <td>Manchester City</td>\n      <td>NaN</td>\n    </tr>\n    <tr>\n      <th>M. ter Stegen</th>\n      <td>Marc-André ter Stegen</td>\n      <td>27.0</td>\n      <td>1992-04-30</td>\n      <td>187.0</td>\n      <td>85.0</td>\n      <td>Germany</td>\n      <td>FC Barcelona</td>\n      <td>NaN</td>\n    </tr>\n    <tr>\n      <th>V. van Dijk</th>\n      <td>Virgil van Dijk</td>\n      <td>27.0</td>\n      <td>1991-07-08</td>\n      <td>193.0</td>\n      <td>92.0</td>\n      <td>Netherlands</td>\n      <td>Liverpool</td>\n      <td>NaN</td>\n    </tr>\n    <tr>\n      <th>L. Modrić</th>\n      <td>Luka Modrić</td>\n      <td>33.0</td>\n      <td>1985-09-09</td>\n      <td>172.0</td>\n      <td>66.0</td>\n      <td>Croatia</td>\n      <td>Real Madrid</td>\n      <td>NaN</td>\n    </tr>\n    <tr>\n      <th>M. Salah</th>\n      <td>Mohamed  Salah Ghaly</td>\n      <td>27.0</td>\n      <td>1992-06-15</td>\n      <td>175.0</td>\n      <td>71.0</td>\n      <td>Egypt</td>\n      <td>Liverpool</td>\n      <td>NaN</td>\n    </tr>\n  </tbody>\n</table>\n</div>"
     },
     "execution_count": 93,
     "metadata": {},
     "output_type": "execute_result"
    }
   ],
   "source": [
    "df_players.loc['L. Messi': 'M. Salah']"
   ],
   "metadata": {
    "collapsed": false
   }
  },
  {
   "cell_type": "code",
   "execution_count": 95,
   "outputs": [],
   "source": [
    "df_gdp = pd.read_csv('gdp.csv', encoding='unicode_escape')"
   ],
   "metadata": {
    "collapsed": false
   }
  },
  {
   "cell_type": "code",
   "execution_count": 96,
   "outputs": [
    {
     "data": {
      "text/plain": "      unid wbid      country  year        SES       gdppc  yrseduc  popshare\n0        4  AFG  Afghanistan  1970   3.474212   709.00000      NaN  0.003097\n1        4  AFG  Afghanistan  1920  26.968016   731.75677      NaN  0.003245\n2        4  AFG  Afghanistan  1990   1.269530   604.00000      NaN  0.002347\n3        4  AFG  Afghanistan  1960  15.763076   739.00000      NaN  0.003039\n4        4  AFG  Afghanistan  2000   2.061114   565.00000      NaN  0.003309\n...    ...  ...          ...   ...        ...         ...      ...       ...\n2081   716  ZWE     Zimbabwe  1940  52.746567   813.00000      NaN  0.001113\n2082   716  ZWE     Zimbabwe  2010  27.091389  1388.97300      NaN  0.002074\n2083   716  ZWE     Zimbabwe  1990  59.110970  2526.07230      NaN  0.002039\n2084   716  ZWE     Zimbabwe  1900  54.722645   601.00000      NaN  0.000996\n2085   716  ZWE     Zimbabwe  1960  53.811077   938.00000      NaN  0.001268\n\n[2086 rows x 8 columns]",
      "text/html": "<div>\n<style scoped>\n    .dataframe tbody tr th:only-of-type {\n        vertical-align: middle;\n    }\n\n    .dataframe tbody tr th {\n        vertical-align: top;\n    }\n\n    .dataframe thead th {\n        text-align: right;\n    }\n</style>\n<table border=\"1\" class=\"dataframe\">\n  <thead>\n    <tr style=\"text-align: right;\">\n      <th></th>\n      <th>unid</th>\n      <th>wbid</th>\n      <th>country</th>\n      <th>year</th>\n      <th>SES</th>\n      <th>gdppc</th>\n      <th>yrseduc</th>\n      <th>popshare</th>\n    </tr>\n  </thead>\n  <tbody>\n    <tr>\n      <th>0</th>\n      <td>4</td>\n      <td>AFG</td>\n      <td>Afghanistan</td>\n      <td>1970</td>\n      <td>3.474212</td>\n      <td>709.00000</td>\n      <td>NaN</td>\n      <td>0.003097</td>\n    </tr>\n    <tr>\n      <th>1</th>\n      <td>4</td>\n      <td>AFG</td>\n      <td>Afghanistan</td>\n      <td>1920</td>\n      <td>26.968016</td>\n      <td>731.75677</td>\n      <td>NaN</td>\n      <td>0.003245</td>\n    </tr>\n    <tr>\n      <th>2</th>\n      <td>4</td>\n      <td>AFG</td>\n      <td>Afghanistan</td>\n      <td>1990</td>\n      <td>1.269530</td>\n      <td>604.00000</td>\n      <td>NaN</td>\n      <td>0.002347</td>\n    </tr>\n    <tr>\n      <th>3</th>\n      <td>4</td>\n      <td>AFG</td>\n      <td>Afghanistan</td>\n      <td>1960</td>\n      <td>15.763076</td>\n      <td>739.00000</td>\n      <td>NaN</td>\n      <td>0.003039</td>\n    </tr>\n    <tr>\n      <th>4</th>\n      <td>4</td>\n      <td>AFG</td>\n      <td>Afghanistan</td>\n      <td>2000</td>\n      <td>2.061114</td>\n      <td>565.00000</td>\n      <td>NaN</td>\n      <td>0.003309</td>\n    </tr>\n    <tr>\n      <th>...</th>\n      <td>...</td>\n      <td>...</td>\n      <td>...</td>\n      <td>...</td>\n      <td>...</td>\n      <td>...</td>\n      <td>...</td>\n      <td>...</td>\n    </tr>\n    <tr>\n      <th>2081</th>\n      <td>716</td>\n      <td>ZWE</td>\n      <td>Zimbabwe</td>\n      <td>1940</td>\n      <td>52.746567</td>\n      <td>813.00000</td>\n      <td>NaN</td>\n      <td>0.001113</td>\n    </tr>\n    <tr>\n      <th>2082</th>\n      <td>716</td>\n      <td>ZWE</td>\n      <td>Zimbabwe</td>\n      <td>2010</td>\n      <td>27.091389</td>\n      <td>1388.97300</td>\n      <td>NaN</td>\n      <td>0.002074</td>\n    </tr>\n    <tr>\n      <th>2083</th>\n      <td>716</td>\n      <td>ZWE</td>\n      <td>Zimbabwe</td>\n      <td>1990</td>\n      <td>59.110970</td>\n      <td>2526.07230</td>\n      <td>NaN</td>\n      <td>0.002039</td>\n    </tr>\n    <tr>\n      <th>2084</th>\n      <td>716</td>\n      <td>ZWE</td>\n      <td>Zimbabwe</td>\n      <td>1900</td>\n      <td>54.722645</td>\n      <td>601.00000</td>\n      <td>NaN</td>\n      <td>0.000996</td>\n    </tr>\n    <tr>\n      <th>2085</th>\n      <td>716</td>\n      <td>ZWE</td>\n      <td>Zimbabwe</td>\n      <td>1960</td>\n      <td>53.811077</td>\n      <td>938.00000</td>\n      <td>NaN</td>\n      <td>0.001268</td>\n    </tr>\n  </tbody>\n</table>\n<p>2086 rows × 8 columns</p>\n</div>"
     },
     "execution_count": 96,
     "metadata": {},
     "output_type": "execute_result"
    }
   ],
   "source": [
    "df_gdp"
   ],
   "metadata": {
    "collapsed": false
   }
  },
  {
   "cell_type": "code",
   "execution_count": 98,
   "outputs": [
    {
     "data": {
      "text/plain": "country  Afghanistan     Albania      Algeria      Angola  Argentina   \nyear                                                                   \n1880       585.46509   522.00000    819.18604   533.66669   1731.500  \\\n1890       635.93024   598.00000    923.37207   567.33331   2152.000   \n1900       686.39532   685.00000   1027.55810   601.00000   2756.000   \n1910       736.86047   780.00000   1131.74410   628.69232   3822.000   \n1920       731.75677   861.31250   1201.21620   682.62964   3473.000   \n1930       702.83783   929.57141   1255.81080   747.81482   4080.000   \n1940       673.91895   965.28571   1310.40540   813.00000   4161.000   \n1950       645.00000  1001.00000   1365.00000  1052.00000   4987.000   \n1960       739.00000  1451.00000   2088.00000  1253.00000   5559.000   \n1970       709.00000  2004.00000   2249.00000  1768.00000   7302.000   \n1980       690.00000  2347.00000   3152.00000   961.00000   8206.000   \n1990       604.00000  4557.40820  10238.88400  4806.43020  10833.503   \n2000       565.00000  5470.01760  10211.10400  3831.00000  14924.374   \n2010      1662.80350  9927.17580  12898.29600  6492.17680  18794.270   \n\ncountry    Armenia  Australia    Austria      Bahrain  Bangladesh  ...   \nyear                                                               ...   \n1880     1041.0000   4285.000   2079.000    811.76746   566.66669  ...  \\\n1890     1139.0000   4458.000   2443.000    881.53491   587.33331  ...   \n1900     1237.0000   4013.000   2882.000    951.30231   608.00000  ...   \n1910     1430.0769   5210.000   3290.000   1021.06980   661.84613  ...   \n1920     1432.9333   4766.000   2412.000   1242.91890   651.89191  ...   \n1930     1448.0000   4708.000   3586.000   1529.94590   614.59460  ...   \n1940     2144.0000   6166.000   3959.000   1816.97300   577.29730  ...   \n1950     2841.0000   7412.000   3706.000   2104.00000   540.00000  ...   \n1960     3945.0000   8791.000   6519.000   2843.00000   545.00000  ...   \n1970     5575.0000  12024.000   9747.000   3788.00000   630.00000  ...   \n1980     6116.5884  14412.000  13759.000   4388.00000   549.00000  ...   \n1990     3735.5432  28572.076  31265.287  35112.55500  1290.43100  ...   \n2000     2918.5576  35244.504  38812.051  44791.52000  1645.71730  ...   \n2010     6507.9146  41363.215  43174.977  39912.69500  2451.30520  ...   \n\ncountry     Ukraine  United Arab Emirates  United Kingdom  United States   \nyear                                                                       \n1880      1041.0000             811.76746        3477.000       3184.000  \\\n1890      1139.0000             881.53491        4009.000       3392.000   \n1900      1237.0000             951.30231        4492.000       4091.000   \n1910      1430.0769            1021.06980        4611.000       4964.000   \n1920      1432.9333            3833.67580        4548.000       5552.000   \n1930      1448.0000            7821.78370        5441.000       6213.000   \n1940      2144.0000           11809.89200        6856.000       7010.000   \n1950      2841.0000           15798.00000        6939.000       9561.000   \n1960      3945.0000           22433.00000        8645.000      11328.000   \n1970      5575.0000           24552.00000       10767.000      15030.000   \n1980      5378.1763           27709.00000       12931.000      18577.000   \n1990     10463.9600          114518.83000       26769.357      37062.129   \n2000      4797.3804          107206.46000       32961.527      45986.051   \n2010      7824.4985           57406.73800       36195.867      49372.832   \n\ncountry     Uruguay  Venezuela     Vietnam       Yemen      Zambia    Zimbabwe  \nyear                                                                            \n1880      2082.0000    653.000   556.62793   811.76746   533.66669   533.66669  \n1890      2147.0000    737.000   608.25580   881.53491   567.33331   567.33331  \n1900      2219.0000    821.000   659.88373   951.30231   601.00000   601.00000  \n1910      3136.0000    886.000   711.51166  1021.06980   628.69232   628.69232  \n1920      2674.0000   1173.000   713.94592  1017.21620   682.62964   682.62964  \n1930      4301.0000   3444.000   695.29730   981.81079   747.81482   747.81482  \n1940      3661.0000   4045.000   676.64862   946.40540   813.00000   813.00000  \n1950      4659.0000   7462.000   658.00000   911.00000   661.00000   701.00000  \n1960      4960.0000   9646.000   799.00000   964.00000   960.00000   938.00000  \n1970      5184.0000  10672.000   735.00000  1230.00000  1073.00000  1282.00000  \n1980      6555.0000  10139.000   757.00000  2290.00000   911.00000  1295.00000  \n1990      9840.7266  14450.682  1501.13890  3353.78930  2308.60380  2526.07230  \n2000     12874.7760  14417.104  2649.71950  3911.21970  2092.25510  2521.34740  \n2010     17082.4100  16563.396  4486.26120  4481.55470  3263.39480  1388.97300  \n\n[14 rows x 149 columns]",
      "text/html": "<div>\n<style scoped>\n    .dataframe tbody tr th:only-of-type {\n        vertical-align: middle;\n    }\n\n    .dataframe tbody tr th {\n        vertical-align: top;\n    }\n\n    .dataframe thead th {\n        text-align: right;\n    }\n</style>\n<table border=\"1\" class=\"dataframe\">\n  <thead>\n    <tr style=\"text-align: right;\">\n      <th>country</th>\n      <th>Afghanistan</th>\n      <th>Albania</th>\n      <th>Algeria</th>\n      <th>Angola</th>\n      <th>Argentina</th>\n      <th>Armenia</th>\n      <th>Australia</th>\n      <th>Austria</th>\n      <th>Bahrain</th>\n      <th>Bangladesh</th>\n      <th>...</th>\n      <th>Ukraine</th>\n      <th>United Arab Emirates</th>\n      <th>United Kingdom</th>\n      <th>United States</th>\n      <th>Uruguay</th>\n      <th>Venezuela</th>\n      <th>Vietnam</th>\n      <th>Yemen</th>\n      <th>Zambia</th>\n      <th>Zimbabwe</th>\n    </tr>\n    <tr>\n      <th>year</th>\n      <th></th>\n      <th></th>\n      <th></th>\n      <th></th>\n      <th></th>\n      <th></th>\n      <th></th>\n      <th></th>\n      <th></th>\n      <th></th>\n      <th></th>\n      <th></th>\n      <th></th>\n      <th></th>\n      <th></th>\n      <th></th>\n      <th></th>\n      <th></th>\n      <th></th>\n      <th></th>\n      <th></th>\n    </tr>\n  </thead>\n  <tbody>\n    <tr>\n      <th>1880</th>\n      <td>585.46509</td>\n      <td>522.00000</td>\n      <td>819.18604</td>\n      <td>533.66669</td>\n      <td>1731.500</td>\n      <td>1041.0000</td>\n      <td>4285.000</td>\n      <td>2079.000</td>\n      <td>811.76746</td>\n      <td>566.66669</td>\n      <td>...</td>\n      <td>1041.0000</td>\n      <td>811.76746</td>\n      <td>3477.000</td>\n      <td>3184.000</td>\n      <td>2082.0000</td>\n      <td>653.000</td>\n      <td>556.62793</td>\n      <td>811.76746</td>\n      <td>533.66669</td>\n      <td>533.66669</td>\n    </tr>\n    <tr>\n      <th>1890</th>\n      <td>635.93024</td>\n      <td>598.00000</td>\n      <td>923.37207</td>\n      <td>567.33331</td>\n      <td>2152.000</td>\n      <td>1139.0000</td>\n      <td>4458.000</td>\n      <td>2443.000</td>\n      <td>881.53491</td>\n      <td>587.33331</td>\n      <td>...</td>\n      <td>1139.0000</td>\n      <td>881.53491</td>\n      <td>4009.000</td>\n      <td>3392.000</td>\n      <td>2147.0000</td>\n      <td>737.000</td>\n      <td>608.25580</td>\n      <td>881.53491</td>\n      <td>567.33331</td>\n      <td>567.33331</td>\n    </tr>\n    <tr>\n      <th>1900</th>\n      <td>686.39532</td>\n      <td>685.00000</td>\n      <td>1027.55810</td>\n      <td>601.00000</td>\n      <td>2756.000</td>\n      <td>1237.0000</td>\n      <td>4013.000</td>\n      <td>2882.000</td>\n      <td>951.30231</td>\n      <td>608.00000</td>\n      <td>...</td>\n      <td>1237.0000</td>\n      <td>951.30231</td>\n      <td>4492.000</td>\n      <td>4091.000</td>\n      <td>2219.0000</td>\n      <td>821.000</td>\n      <td>659.88373</td>\n      <td>951.30231</td>\n      <td>601.00000</td>\n      <td>601.00000</td>\n    </tr>\n    <tr>\n      <th>1910</th>\n      <td>736.86047</td>\n      <td>780.00000</td>\n      <td>1131.74410</td>\n      <td>628.69232</td>\n      <td>3822.000</td>\n      <td>1430.0769</td>\n      <td>5210.000</td>\n      <td>3290.000</td>\n      <td>1021.06980</td>\n      <td>661.84613</td>\n      <td>...</td>\n      <td>1430.0769</td>\n      <td>1021.06980</td>\n      <td>4611.000</td>\n      <td>4964.000</td>\n      <td>3136.0000</td>\n      <td>886.000</td>\n      <td>711.51166</td>\n      <td>1021.06980</td>\n      <td>628.69232</td>\n      <td>628.69232</td>\n    </tr>\n    <tr>\n      <th>1920</th>\n      <td>731.75677</td>\n      <td>861.31250</td>\n      <td>1201.21620</td>\n      <td>682.62964</td>\n      <td>3473.000</td>\n      <td>1432.9333</td>\n      <td>4766.000</td>\n      <td>2412.000</td>\n      <td>1242.91890</td>\n      <td>651.89191</td>\n      <td>...</td>\n      <td>1432.9333</td>\n      <td>3833.67580</td>\n      <td>4548.000</td>\n      <td>5552.000</td>\n      <td>2674.0000</td>\n      <td>1173.000</td>\n      <td>713.94592</td>\n      <td>1017.21620</td>\n      <td>682.62964</td>\n      <td>682.62964</td>\n    </tr>\n    <tr>\n      <th>1930</th>\n      <td>702.83783</td>\n      <td>929.57141</td>\n      <td>1255.81080</td>\n      <td>747.81482</td>\n      <td>4080.000</td>\n      <td>1448.0000</td>\n      <td>4708.000</td>\n      <td>3586.000</td>\n      <td>1529.94590</td>\n      <td>614.59460</td>\n      <td>...</td>\n      <td>1448.0000</td>\n      <td>7821.78370</td>\n      <td>5441.000</td>\n      <td>6213.000</td>\n      <td>4301.0000</td>\n      <td>3444.000</td>\n      <td>695.29730</td>\n      <td>981.81079</td>\n      <td>747.81482</td>\n      <td>747.81482</td>\n    </tr>\n    <tr>\n      <th>1940</th>\n      <td>673.91895</td>\n      <td>965.28571</td>\n      <td>1310.40540</td>\n      <td>813.00000</td>\n      <td>4161.000</td>\n      <td>2144.0000</td>\n      <td>6166.000</td>\n      <td>3959.000</td>\n      <td>1816.97300</td>\n      <td>577.29730</td>\n      <td>...</td>\n      <td>2144.0000</td>\n      <td>11809.89200</td>\n      <td>6856.000</td>\n      <td>7010.000</td>\n      <td>3661.0000</td>\n      <td>4045.000</td>\n      <td>676.64862</td>\n      <td>946.40540</td>\n      <td>813.00000</td>\n      <td>813.00000</td>\n    </tr>\n    <tr>\n      <th>1950</th>\n      <td>645.00000</td>\n      <td>1001.00000</td>\n      <td>1365.00000</td>\n      <td>1052.00000</td>\n      <td>4987.000</td>\n      <td>2841.0000</td>\n      <td>7412.000</td>\n      <td>3706.000</td>\n      <td>2104.00000</td>\n      <td>540.00000</td>\n      <td>...</td>\n      <td>2841.0000</td>\n      <td>15798.00000</td>\n      <td>6939.000</td>\n      <td>9561.000</td>\n      <td>4659.0000</td>\n      <td>7462.000</td>\n      <td>658.00000</td>\n      <td>911.00000</td>\n      <td>661.00000</td>\n      <td>701.00000</td>\n    </tr>\n    <tr>\n      <th>1960</th>\n      <td>739.00000</td>\n      <td>1451.00000</td>\n      <td>2088.00000</td>\n      <td>1253.00000</td>\n      <td>5559.000</td>\n      <td>3945.0000</td>\n      <td>8791.000</td>\n      <td>6519.000</td>\n      <td>2843.00000</td>\n      <td>545.00000</td>\n      <td>...</td>\n      <td>3945.0000</td>\n      <td>22433.00000</td>\n      <td>8645.000</td>\n      <td>11328.000</td>\n      <td>4960.0000</td>\n      <td>9646.000</td>\n      <td>799.00000</td>\n      <td>964.00000</td>\n      <td>960.00000</td>\n      <td>938.00000</td>\n    </tr>\n    <tr>\n      <th>1970</th>\n      <td>709.00000</td>\n      <td>2004.00000</td>\n      <td>2249.00000</td>\n      <td>1768.00000</td>\n      <td>7302.000</td>\n      <td>5575.0000</td>\n      <td>12024.000</td>\n      <td>9747.000</td>\n      <td>3788.00000</td>\n      <td>630.00000</td>\n      <td>...</td>\n      <td>5575.0000</td>\n      <td>24552.00000</td>\n      <td>10767.000</td>\n      <td>15030.000</td>\n      <td>5184.0000</td>\n      <td>10672.000</td>\n      <td>735.00000</td>\n      <td>1230.00000</td>\n      <td>1073.00000</td>\n      <td>1282.00000</td>\n    </tr>\n    <tr>\n      <th>1980</th>\n      <td>690.00000</td>\n      <td>2347.00000</td>\n      <td>3152.00000</td>\n      <td>961.00000</td>\n      <td>8206.000</td>\n      <td>6116.5884</td>\n      <td>14412.000</td>\n      <td>13759.000</td>\n      <td>4388.00000</td>\n      <td>549.00000</td>\n      <td>...</td>\n      <td>5378.1763</td>\n      <td>27709.00000</td>\n      <td>12931.000</td>\n      <td>18577.000</td>\n      <td>6555.0000</td>\n      <td>10139.000</td>\n      <td>757.00000</td>\n      <td>2290.00000</td>\n      <td>911.00000</td>\n      <td>1295.00000</td>\n    </tr>\n    <tr>\n      <th>1990</th>\n      <td>604.00000</td>\n      <td>4557.40820</td>\n      <td>10238.88400</td>\n      <td>4806.43020</td>\n      <td>10833.503</td>\n      <td>3735.5432</td>\n      <td>28572.076</td>\n      <td>31265.287</td>\n      <td>35112.55500</td>\n      <td>1290.43100</td>\n      <td>...</td>\n      <td>10463.9600</td>\n      <td>114518.83000</td>\n      <td>26769.357</td>\n      <td>37062.129</td>\n      <td>9840.7266</td>\n      <td>14450.682</td>\n      <td>1501.13890</td>\n      <td>3353.78930</td>\n      <td>2308.60380</td>\n      <td>2526.07230</td>\n    </tr>\n    <tr>\n      <th>2000</th>\n      <td>565.00000</td>\n      <td>5470.01760</td>\n      <td>10211.10400</td>\n      <td>3831.00000</td>\n      <td>14924.374</td>\n      <td>2918.5576</td>\n      <td>35244.504</td>\n      <td>38812.051</td>\n      <td>44791.52000</td>\n      <td>1645.71730</td>\n      <td>...</td>\n      <td>4797.3804</td>\n      <td>107206.46000</td>\n      <td>32961.527</td>\n      <td>45986.051</td>\n      <td>12874.7760</td>\n      <td>14417.104</td>\n      <td>2649.71950</td>\n      <td>3911.21970</td>\n      <td>2092.25510</td>\n      <td>2521.34740</td>\n    </tr>\n    <tr>\n      <th>2010</th>\n      <td>1662.80350</td>\n      <td>9927.17580</td>\n      <td>12898.29600</td>\n      <td>6492.17680</td>\n      <td>18794.270</td>\n      <td>6507.9146</td>\n      <td>41363.215</td>\n      <td>43174.977</td>\n      <td>39912.69500</td>\n      <td>2451.30520</td>\n      <td>...</td>\n      <td>7824.4985</td>\n      <td>57406.73800</td>\n      <td>36195.867</td>\n      <td>49372.832</td>\n      <td>17082.4100</td>\n      <td>16563.396</td>\n      <td>4486.26120</td>\n      <td>4481.55470</td>\n      <td>3263.39480</td>\n      <td>1388.97300</td>\n    </tr>\n  </tbody>\n</table>\n<p>14 rows × 149 columns</p>\n</div>"
     },
     "execution_count": 98,
     "metadata": {},
     "output_type": "execute_result"
    }
   ],
   "source": [
    "df_gdp.pivot(\n",
    "    index = 'year',\n",
    "    columns = 'country',\n",
    "    values = 'gdppc'\n",
    ")"
   ],
   "metadata": {
    "collapsed": false
   }
  },
  {
   "cell_type": "code",
   "execution_count": 100,
   "outputs": [
    {
     "data": {
      "text/plain": "year               1880        1890        1900        1910        1920   \ncountry                                                                   \nAfghanistan   585.46509   635.93024   686.39532   736.86047   731.75677  \\\nAlbania       522.00000   598.00000   685.00000   780.00000   861.31250   \nAlgeria       819.18604   923.37207  1027.55810  1131.74410  1201.21620   \nAngola        533.66669   567.33331   601.00000   628.69232   682.62964   \nArgentina    1731.50000  2152.00000  2756.00000  3822.00000  3473.00000   \n...                 ...         ...         ...         ...         ...   \nVenezuela     653.00000   737.00000   821.00000   886.00000  1173.00000   \nVietnam       556.62793   608.25580   659.88373   711.51166   713.94592   \nYemen         811.76746   881.53491   951.30231  1021.06980  1017.21620   \nZambia        533.66669   567.33331   601.00000   628.69232   682.62964   \nZimbabwe      533.66669   567.33331   601.00000   628.69232   682.62964   \n\nyear               1930        1940    1950    1960     1970     1980   \ncountry                                                                 \nAfghanistan   702.83783   673.91895   645.0   739.0    709.0    690.0  \\\nAlbania       929.57141   965.28571  1001.0  1451.0   2004.0   2347.0   \nAlgeria      1255.81080  1310.40540  1365.0  2088.0   2249.0   3152.0   \nAngola        747.81482   813.00000  1052.0  1253.0   1768.0    961.0   \nArgentina    4080.00000  4161.00000  4987.0  5559.0   7302.0   8206.0   \n...                 ...         ...     ...     ...      ...      ...   \nVenezuela    3444.00000  4045.00000  7462.0  9646.0  10672.0  10139.0   \nVietnam       695.29730   676.64862   658.0   799.0    735.0    757.0   \nYemen         981.81079   946.40540   911.0   964.0   1230.0   2290.0   \nZambia        747.81482   813.00000   661.0   960.0   1073.0    911.0   \nZimbabwe      747.81482   813.00000   701.0   938.0   1282.0   1295.0   \n\nyear               1990        2000        2010  \ncountry                                          \nAfghanistan    604.0000    565.0000   1662.8035  \nAlbania       4557.4082   5470.0176   9927.1758  \nAlgeria      10238.8840  10211.1040  12898.2960  \nAngola        4806.4302   3831.0000   6492.1768  \nArgentina    10833.5030  14924.3740  18794.2700  \n...                 ...         ...         ...  \nVenezuela    14450.6820  14417.1040  16563.3960  \nVietnam       1501.1389   2649.7195   4486.2612  \nYemen         3353.7893   3911.2197   4481.5547  \nZambia        2308.6038   2092.2551   3263.3948  \nZimbabwe      2526.0723   2521.3474   1388.9730  \n\n[149 rows x 14 columns]",
      "text/html": "<div>\n<style scoped>\n    .dataframe tbody tr th:only-of-type {\n        vertical-align: middle;\n    }\n\n    .dataframe tbody tr th {\n        vertical-align: top;\n    }\n\n    .dataframe thead th {\n        text-align: right;\n    }\n</style>\n<table border=\"1\" class=\"dataframe\">\n  <thead>\n    <tr style=\"text-align: right;\">\n      <th>year</th>\n      <th>1880</th>\n      <th>1890</th>\n      <th>1900</th>\n      <th>1910</th>\n      <th>1920</th>\n      <th>1930</th>\n      <th>1940</th>\n      <th>1950</th>\n      <th>1960</th>\n      <th>1970</th>\n      <th>1980</th>\n      <th>1990</th>\n      <th>2000</th>\n      <th>2010</th>\n    </tr>\n    <tr>\n      <th>country</th>\n      <th></th>\n      <th></th>\n      <th></th>\n      <th></th>\n      <th></th>\n      <th></th>\n      <th></th>\n      <th></th>\n      <th></th>\n      <th></th>\n      <th></th>\n      <th></th>\n      <th></th>\n      <th></th>\n    </tr>\n  </thead>\n  <tbody>\n    <tr>\n      <th>Afghanistan</th>\n      <td>585.46509</td>\n      <td>635.93024</td>\n      <td>686.39532</td>\n      <td>736.86047</td>\n      <td>731.75677</td>\n      <td>702.83783</td>\n      <td>673.91895</td>\n      <td>645.0</td>\n      <td>739.0</td>\n      <td>709.0</td>\n      <td>690.0</td>\n      <td>604.0000</td>\n      <td>565.0000</td>\n      <td>1662.8035</td>\n    </tr>\n    <tr>\n      <th>Albania</th>\n      <td>522.00000</td>\n      <td>598.00000</td>\n      <td>685.00000</td>\n      <td>780.00000</td>\n      <td>861.31250</td>\n      <td>929.57141</td>\n      <td>965.28571</td>\n      <td>1001.0</td>\n      <td>1451.0</td>\n      <td>2004.0</td>\n      <td>2347.0</td>\n      <td>4557.4082</td>\n      <td>5470.0176</td>\n      <td>9927.1758</td>\n    </tr>\n    <tr>\n      <th>Algeria</th>\n      <td>819.18604</td>\n      <td>923.37207</td>\n      <td>1027.55810</td>\n      <td>1131.74410</td>\n      <td>1201.21620</td>\n      <td>1255.81080</td>\n      <td>1310.40540</td>\n      <td>1365.0</td>\n      <td>2088.0</td>\n      <td>2249.0</td>\n      <td>3152.0</td>\n      <td>10238.8840</td>\n      <td>10211.1040</td>\n      <td>12898.2960</td>\n    </tr>\n    <tr>\n      <th>Angola</th>\n      <td>533.66669</td>\n      <td>567.33331</td>\n      <td>601.00000</td>\n      <td>628.69232</td>\n      <td>682.62964</td>\n      <td>747.81482</td>\n      <td>813.00000</td>\n      <td>1052.0</td>\n      <td>1253.0</td>\n      <td>1768.0</td>\n      <td>961.0</td>\n      <td>4806.4302</td>\n      <td>3831.0000</td>\n      <td>6492.1768</td>\n    </tr>\n    <tr>\n      <th>Argentina</th>\n      <td>1731.50000</td>\n      <td>2152.00000</td>\n      <td>2756.00000</td>\n      <td>3822.00000</td>\n      <td>3473.00000</td>\n      <td>4080.00000</td>\n      <td>4161.00000</td>\n      <td>4987.0</td>\n      <td>5559.0</td>\n      <td>7302.0</td>\n      <td>8206.0</td>\n      <td>10833.5030</td>\n      <td>14924.3740</td>\n      <td>18794.2700</td>\n    </tr>\n    <tr>\n      <th>...</th>\n      <td>...</td>\n      <td>...</td>\n      <td>...</td>\n      <td>...</td>\n      <td>...</td>\n      <td>...</td>\n      <td>...</td>\n      <td>...</td>\n      <td>...</td>\n      <td>...</td>\n      <td>...</td>\n      <td>...</td>\n      <td>...</td>\n      <td>...</td>\n    </tr>\n    <tr>\n      <th>Venezuela</th>\n      <td>653.00000</td>\n      <td>737.00000</td>\n      <td>821.00000</td>\n      <td>886.00000</td>\n      <td>1173.00000</td>\n      <td>3444.00000</td>\n      <td>4045.00000</td>\n      <td>7462.0</td>\n      <td>9646.0</td>\n      <td>10672.0</td>\n      <td>10139.0</td>\n      <td>14450.6820</td>\n      <td>14417.1040</td>\n      <td>16563.3960</td>\n    </tr>\n    <tr>\n      <th>Vietnam</th>\n      <td>556.62793</td>\n      <td>608.25580</td>\n      <td>659.88373</td>\n      <td>711.51166</td>\n      <td>713.94592</td>\n      <td>695.29730</td>\n      <td>676.64862</td>\n      <td>658.0</td>\n      <td>799.0</td>\n      <td>735.0</td>\n      <td>757.0</td>\n      <td>1501.1389</td>\n      <td>2649.7195</td>\n      <td>4486.2612</td>\n    </tr>\n    <tr>\n      <th>Yemen</th>\n      <td>811.76746</td>\n      <td>881.53491</td>\n      <td>951.30231</td>\n      <td>1021.06980</td>\n      <td>1017.21620</td>\n      <td>981.81079</td>\n      <td>946.40540</td>\n      <td>911.0</td>\n      <td>964.0</td>\n      <td>1230.0</td>\n      <td>2290.0</td>\n      <td>3353.7893</td>\n      <td>3911.2197</td>\n      <td>4481.5547</td>\n    </tr>\n    <tr>\n      <th>Zambia</th>\n      <td>533.66669</td>\n      <td>567.33331</td>\n      <td>601.00000</td>\n      <td>628.69232</td>\n      <td>682.62964</td>\n      <td>747.81482</td>\n      <td>813.00000</td>\n      <td>661.0</td>\n      <td>960.0</td>\n      <td>1073.0</td>\n      <td>911.0</td>\n      <td>2308.6038</td>\n      <td>2092.2551</td>\n      <td>3263.3948</td>\n    </tr>\n    <tr>\n      <th>Zimbabwe</th>\n      <td>533.66669</td>\n      <td>567.33331</td>\n      <td>601.00000</td>\n      <td>628.69232</td>\n      <td>682.62964</td>\n      <td>747.81482</td>\n      <td>813.00000</td>\n      <td>701.0</td>\n      <td>938.0</td>\n      <td>1282.0</td>\n      <td>1295.0</td>\n      <td>2526.0723</td>\n      <td>2521.3474</td>\n      <td>1388.9730</td>\n    </tr>\n  </tbody>\n</table>\n<p>149 rows × 14 columns</p>\n</div>"
     },
     "execution_count": 100,
     "metadata": {},
     "output_type": "execute_result"
    }
   ],
   "source": [
    "df_gdp.pivot(\n",
    "    index='country',\n",
    "    columns='year',\n",
    "    values='gdppc'\n",
    ")"
   ],
   "metadata": {
    "collapsed": false
   }
  },
  {
   "cell_type": "code",
   "execution_count": 102,
   "outputs": [
    {
     "data": {
      "text/plain": "      Invoice ID Branch       City Customer type  Gender   \n0    750-67-8428      A     Yangon        Member  Female  \\\n1    226-31-3081      C  Naypyitaw        Normal  Female   \n2    631-41-3108      A     Yangon        Normal    Male   \n3    123-19-1176      A     Yangon        Member    Male   \n4    373-73-7910      A     Yangon        Normal    Male   \n..           ...    ...        ...           ...     ...   \n995  233-67-5758      C  Naypyitaw        Normal    Male   \n996  303-96-2227      B   Mandalay        Normal  Female   \n997  727-02-1313      A     Yangon        Member    Male   \n998  347-56-2442      A     Yangon        Normal    Male   \n999  849-09-3807      A     Yangon        Member  Female   \n\n               Product line  Unit price  Quantity   Tax 5%      Total   \n0         Health and beauty       74.69         7  26.1415   548.9715  \\\n1    Electronic accessories       15.28         5   3.8200    80.2200   \n2        Home and lifestyle       46.33         7  16.2155   340.5255   \n3         Health and beauty       58.22         8  23.2880   489.0480   \n4         Sports and travel       86.31         7  30.2085   634.3785   \n..                      ...         ...       ...      ...        ...   \n995       Health and beauty       40.35         1   2.0175    42.3675   \n996      Home and lifestyle       97.38        10  48.6900  1022.4900   \n997      Food and beverages       31.84         1   1.5920    33.4320   \n998      Home and lifestyle       65.82         1   3.2910    69.1110   \n999     Fashion accessories       88.34         7  30.9190   649.2990   \n\n          Date      Time      Payment    cogs  gross margin percentage   \n0   2019-01-05  13:08:00      Ewallet  522.83                 4.761905  \\\n1   2019-03-08  10:29:00         Cash   76.40                 4.761905   \n2   2019-03-03  13:23:00  Credit card  324.31                 4.761905   \n3   2019-01-27  20:33:00      Ewallet  465.76                 4.761905   \n4   2019-02-08  10:37:00      Ewallet  604.17                 4.761905   \n..         ...       ...          ...     ...                      ...   \n995 2019-01-29  13:46:00      Ewallet   40.35                 4.761905   \n996 2019-03-02  17:16:00      Ewallet  973.80                 4.761905   \n997 2019-02-09  13:22:00         Cash   31.84                 4.761905   \n998 2019-02-22  15:33:00         Cash   65.82                 4.761905   \n999 2019-02-18  13:28:00         Cash  618.38                 4.761905   \n\n     gross income  Rating  \n0         26.1415     9.1  \n1          3.8200     9.6  \n2         16.2155     7.4  \n3         23.2880     8.4  \n4         30.2085     5.3  \n..            ...     ...  \n995        2.0175     6.2  \n996       48.6900     4.4  \n997        1.5920     7.7  \n998        3.2910     4.1  \n999       30.9190     6.6  \n\n[1000 rows x 17 columns]",
      "text/html": "<div>\n<style scoped>\n    .dataframe tbody tr th:only-of-type {\n        vertical-align: middle;\n    }\n\n    .dataframe tbody tr th {\n        vertical-align: top;\n    }\n\n    .dataframe thead th {\n        text-align: right;\n    }\n</style>\n<table border=\"1\" class=\"dataframe\">\n  <thead>\n    <tr style=\"text-align: right;\">\n      <th></th>\n      <th>Invoice ID</th>\n      <th>Branch</th>\n      <th>City</th>\n      <th>Customer type</th>\n      <th>Gender</th>\n      <th>Product line</th>\n      <th>Unit price</th>\n      <th>Quantity</th>\n      <th>Tax 5%</th>\n      <th>Total</th>\n      <th>Date</th>\n      <th>Time</th>\n      <th>Payment</th>\n      <th>cogs</th>\n      <th>gross margin percentage</th>\n      <th>gross income</th>\n      <th>Rating</th>\n    </tr>\n  </thead>\n  <tbody>\n    <tr>\n      <th>0</th>\n      <td>750-67-8428</td>\n      <td>A</td>\n      <td>Yangon</td>\n      <td>Member</td>\n      <td>Female</td>\n      <td>Health and beauty</td>\n      <td>74.69</td>\n      <td>7</td>\n      <td>26.1415</td>\n      <td>548.9715</td>\n      <td>2019-01-05</td>\n      <td>13:08:00</td>\n      <td>Ewallet</td>\n      <td>522.83</td>\n      <td>4.761905</td>\n      <td>26.1415</td>\n      <td>9.1</td>\n    </tr>\n    <tr>\n      <th>1</th>\n      <td>226-31-3081</td>\n      <td>C</td>\n      <td>Naypyitaw</td>\n      <td>Normal</td>\n      <td>Female</td>\n      <td>Electronic accessories</td>\n      <td>15.28</td>\n      <td>5</td>\n      <td>3.8200</td>\n      <td>80.2200</td>\n      <td>2019-03-08</td>\n      <td>10:29:00</td>\n      <td>Cash</td>\n      <td>76.40</td>\n      <td>4.761905</td>\n      <td>3.8200</td>\n      <td>9.6</td>\n    </tr>\n    <tr>\n      <th>2</th>\n      <td>631-41-3108</td>\n      <td>A</td>\n      <td>Yangon</td>\n      <td>Normal</td>\n      <td>Male</td>\n      <td>Home and lifestyle</td>\n      <td>46.33</td>\n      <td>7</td>\n      <td>16.2155</td>\n      <td>340.5255</td>\n      <td>2019-03-03</td>\n      <td>13:23:00</td>\n      <td>Credit card</td>\n      <td>324.31</td>\n      <td>4.761905</td>\n      <td>16.2155</td>\n      <td>7.4</td>\n    </tr>\n    <tr>\n      <th>3</th>\n      <td>123-19-1176</td>\n      <td>A</td>\n      <td>Yangon</td>\n      <td>Member</td>\n      <td>Male</td>\n      <td>Health and beauty</td>\n      <td>58.22</td>\n      <td>8</td>\n      <td>23.2880</td>\n      <td>489.0480</td>\n      <td>2019-01-27</td>\n      <td>20:33:00</td>\n      <td>Ewallet</td>\n      <td>465.76</td>\n      <td>4.761905</td>\n      <td>23.2880</td>\n      <td>8.4</td>\n    </tr>\n    <tr>\n      <th>4</th>\n      <td>373-73-7910</td>\n      <td>A</td>\n      <td>Yangon</td>\n      <td>Normal</td>\n      <td>Male</td>\n      <td>Sports and travel</td>\n      <td>86.31</td>\n      <td>7</td>\n      <td>30.2085</td>\n      <td>634.3785</td>\n      <td>2019-02-08</td>\n      <td>10:37:00</td>\n      <td>Ewallet</td>\n      <td>604.17</td>\n      <td>4.761905</td>\n      <td>30.2085</td>\n      <td>5.3</td>\n    </tr>\n    <tr>\n      <th>...</th>\n      <td>...</td>\n      <td>...</td>\n      <td>...</td>\n      <td>...</td>\n      <td>...</td>\n      <td>...</td>\n      <td>...</td>\n      <td>...</td>\n      <td>...</td>\n      <td>...</td>\n      <td>...</td>\n      <td>...</td>\n      <td>...</td>\n      <td>...</td>\n      <td>...</td>\n      <td>...</td>\n      <td>...</td>\n    </tr>\n    <tr>\n      <th>995</th>\n      <td>233-67-5758</td>\n      <td>C</td>\n      <td>Naypyitaw</td>\n      <td>Normal</td>\n      <td>Male</td>\n      <td>Health and beauty</td>\n      <td>40.35</td>\n      <td>1</td>\n      <td>2.0175</td>\n      <td>42.3675</td>\n      <td>2019-01-29</td>\n      <td>13:46:00</td>\n      <td>Ewallet</td>\n      <td>40.35</td>\n      <td>4.761905</td>\n      <td>2.0175</td>\n      <td>6.2</td>\n    </tr>\n    <tr>\n      <th>996</th>\n      <td>303-96-2227</td>\n      <td>B</td>\n      <td>Mandalay</td>\n      <td>Normal</td>\n      <td>Female</td>\n      <td>Home and lifestyle</td>\n      <td>97.38</td>\n      <td>10</td>\n      <td>48.6900</td>\n      <td>1022.4900</td>\n      <td>2019-03-02</td>\n      <td>17:16:00</td>\n      <td>Ewallet</td>\n      <td>973.80</td>\n      <td>4.761905</td>\n      <td>48.6900</td>\n      <td>4.4</td>\n    </tr>\n    <tr>\n      <th>997</th>\n      <td>727-02-1313</td>\n      <td>A</td>\n      <td>Yangon</td>\n      <td>Member</td>\n      <td>Male</td>\n      <td>Food and beverages</td>\n      <td>31.84</td>\n      <td>1</td>\n      <td>1.5920</td>\n      <td>33.4320</td>\n      <td>2019-02-09</td>\n      <td>13:22:00</td>\n      <td>Cash</td>\n      <td>31.84</td>\n      <td>4.761905</td>\n      <td>1.5920</td>\n      <td>7.7</td>\n    </tr>\n    <tr>\n      <th>998</th>\n      <td>347-56-2442</td>\n      <td>A</td>\n      <td>Yangon</td>\n      <td>Normal</td>\n      <td>Male</td>\n      <td>Home and lifestyle</td>\n      <td>65.82</td>\n      <td>1</td>\n      <td>3.2910</td>\n      <td>69.1110</td>\n      <td>2019-02-22</td>\n      <td>15:33:00</td>\n      <td>Cash</td>\n      <td>65.82</td>\n      <td>4.761905</td>\n      <td>3.2910</td>\n      <td>4.1</td>\n    </tr>\n    <tr>\n      <th>999</th>\n      <td>849-09-3807</td>\n      <td>A</td>\n      <td>Yangon</td>\n      <td>Member</td>\n      <td>Female</td>\n      <td>Fashion accessories</td>\n      <td>88.34</td>\n      <td>7</td>\n      <td>30.9190</td>\n      <td>649.2990</td>\n      <td>2019-02-18</td>\n      <td>13:28:00</td>\n      <td>Cash</td>\n      <td>618.38</td>\n      <td>4.761905</td>\n      <td>30.9190</td>\n      <td>6.6</td>\n    </tr>\n  </tbody>\n</table>\n<p>1000 rows × 17 columns</p>\n</div>"
     },
     "execution_count": 102,
     "metadata": {},
     "output_type": "execute_result"
    }
   ],
   "source": [
    "df_sales = pd.read_excel('supermarket_sales.xlsx')\n",
    "df_sales"
   ],
   "metadata": {
    "collapsed": false
   }
  },
  {
   "cell_type": "code",
   "execution_count": 107,
   "outputs": [
    {
     "data": {
      "text/plain": "        Quantity       Total\nGender                      \nFemale      2869  167882.925\nMale        2641  155083.824",
      "text/html": "<div>\n<style scoped>\n    .dataframe tbody tr th:only-of-type {\n        vertical-align: middle;\n    }\n\n    .dataframe tbody tr th {\n        vertical-align: top;\n    }\n\n    .dataframe thead th {\n        text-align: right;\n    }\n</style>\n<table border=\"1\" class=\"dataframe\">\n  <thead>\n    <tr style=\"text-align: right;\">\n      <th></th>\n      <th>Quantity</th>\n      <th>Total</th>\n    </tr>\n    <tr>\n      <th>Gender</th>\n      <th></th>\n      <th></th>\n    </tr>\n  </thead>\n  <tbody>\n    <tr>\n      <th>Female</th>\n      <td>2869</td>\n      <td>167882.925</td>\n    </tr>\n    <tr>\n      <th>Male</th>\n      <td>2641</td>\n      <td>155083.824</td>\n    </tr>\n  </tbody>\n</table>\n</div>"
     },
     "execution_count": 107,
     "metadata": {},
     "output_type": "execute_result"
    }
   ],
   "source": [
    "df_sales.pivot_table(\n",
    "    index = \"Gender\",\n",
    "    aggfunc= \"sum\",\n",
    "    values = [\"Quantity\", 'Total'],\n",
    "\n",
    ")"
   ],
   "metadata": {
    "collapsed": false
   }
  },
  {
   "cell_type": "code",
   "execution_count": 108,
   "outputs": [
    {
     "data": {
      "text/plain": "                           Quantity                                          \nProduct line Electronic accessories Fashion accessories Food and beverages   \nGender                                                                       \nFemale                          488                 530                514  \\\nMale                            483                 372                438   \n\n                                                                      \nProduct line Health and beauty Home and lifestyle Sports and travel   \nGender                                                                \nFemale                     343                498               496  \\\nMale                       511                413               424   \n\n                              Total                                          \nProduct line Electronic accessories Fashion accessories Food and beverages   \nGender                                                                       \nFemale                   27102.0225           30437.400         33170.9175  \\\nMale                     27235.5090           23868.495         22973.9265   \n\n                                                                     \nProduct line Health and beauty Home and lifestyle Sports and travel  \nGender                                                               \nFemale              18560.9865         30036.8775        28574.7210  \nMale                30632.7525         23825.0355        26548.1055  ",
      "text/html": "<div>\n<style scoped>\n    .dataframe tbody tr th:only-of-type {\n        vertical-align: middle;\n    }\n\n    .dataframe tbody tr th {\n        vertical-align: top;\n    }\n\n    .dataframe thead tr th {\n        text-align: left;\n    }\n\n    .dataframe thead tr:last-of-type th {\n        text-align: right;\n    }\n</style>\n<table border=\"1\" class=\"dataframe\">\n  <thead>\n    <tr>\n      <th></th>\n      <th colspan=\"6\" halign=\"left\">Quantity</th>\n      <th colspan=\"6\" halign=\"left\">Total</th>\n    </tr>\n    <tr>\n      <th>Product line</th>\n      <th>Electronic accessories</th>\n      <th>Fashion accessories</th>\n      <th>Food and beverages</th>\n      <th>Health and beauty</th>\n      <th>Home and lifestyle</th>\n      <th>Sports and travel</th>\n      <th>Electronic accessories</th>\n      <th>Fashion accessories</th>\n      <th>Food and beverages</th>\n      <th>Health and beauty</th>\n      <th>Home and lifestyle</th>\n      <th>Sports and travel</th>\n    </tr>\n    <tr>\n      <th>Gender</th>\n      <th></th>\n      <th></th>\n      <th></th>\n      <th></th>\n      <th></th>\n      <th></th>\n      <th></th>\n      <th></th>\n      <th></th>\n      <th></th>\n      <th></th>\n      <th></th>\n    </tr>\n  </thead>\n  <tbody>\n    <tr>\n      <th>Female</th>\n      <td>488</td>\n      <td>530</td>\n      <td>514</td>\n      <td>343</td>\n      <td>498</td>\n      <td>496</td>\n      <td>27102.0225</td>\n      <td>30437.400</td>\n      <td>33170.9175</td>\n      <td>18560.9865</td>\n      <td>30036.8775</td>\n      <td>28574.7210</td>\n    </tr>\n    <tr>\n      <th>Male</th>\n      <td>483</td>\n      <td>372</td>\n      <td>438</td>\n      <td>511</td>\n      <td>413</td>\n      <td>424</td>\n      <td>27235.5090</td>\n      <td>23868.495</td>\n      <td>22973.9265</td>\n      <td>30632.7525</td>\n      <td>23825.0355</td>\n      <td>26548.1055</td>\n    </tr>\n  </tbody>\n</table>\n</div>"
     },
     "execution_count": 108,
     "metadata": {},
     "output_type": "execute_result"
    }
   ],
   "source": [
    "df_sales.pivot_table(\n",
    "    index = \"Gender\",\n",
    "    columns = \"Product line\",\n",
    "    aggfunc= \"sum\",\n",
    "    values = [\"Quantity\", 'Total'],\n",
    "\n",
    ")"
   ],
   "metadata": {
    "collapsed": false
   }
  },
  {
   "cell_type": "code",
   "execution_count": null,
   "outputs": [],
   "source": [],
   "metadata": {
    "collapsed": false
   }
  }
 ],
 "metadata": {
  "kernelspec": {
   "display_name": "Python 3",
   "language": "python",
   "name": "python3"
  },
  "language_info": {
   "codemirror_mode": {
    "name": "ipython",
    "version": 2
   },
   "file_extension": ".py",
   "mimetype": "text/x-python",
   "name": "python",
   "nbconvert_exporter": "python",
   "pygments_lexer": "ipython2",
   "version": "2.7.6"
  }
 },
 "nbformat": 4,
 "nbformat_minor": 0
}
