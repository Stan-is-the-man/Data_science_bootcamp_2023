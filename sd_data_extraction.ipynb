{
 "cells": [
  {
   "cell_type": "code",
   "execution_count": 2,
   "metadata": {
    "collapsed": true
   },
   "outputs": [],
   "source": [
    "import numpy as np\n",
    "import pandas as pd"
   ]
  },
  {
   "cell_type": "code",
   "execution_count": 3,
   "outputs": [],
   "source": [
    "df_players = pd.read_csv('players_20.csv')"
   ],
   "metadata": {
    "collapsed": false
   }
  },
  {
   "cell_type": "code",
   "execution_count": 4,
   "outputs": [
    {
     "data": {
      "text/plain": "       sofifa_id                                         player_url   \n0         158023  https://sofifa.com/player/158023/lionel-messi/...  \\\n1          20801  https://sofifa.com/player/20801/c-ronaldo-dos-...   \n2         190871  https://sofifa.com/player/190871/neymar-da-sil...   \n3         200389  https://sofifa.com/player/200389/jan-oblak/20/...   \n4         183277  https://sofifa.com/player/183277/eden-hazard/2...   \n...          ...                                                ...   \n18273     245006  https://sofifa.com/player/245006/shuai-shao/20...   \n18274     250995  https://sofifa.com/player/250995/mingjie-xiao/...   \n18275     252332  https://sofifa.com/player/252332/wei-zhang/20/...   \n18276     251110  https://sofifa.com/player/251110/haijian-wang/...   \n18277     233449  https://sofifa.com/player/233449/ximing-pan/20...   \n\n              short_name                            long_name  age   \n0               L. Messi       Lionel Andrés Messi Cuccittini   32  \\\n1      Cristiano Ronaldo  Cristiano Ronaldo dos Santos Aveiro   34   \n2              Neymar Jr        Neymar da Silva Santos Junior   27   \n3               J. Oblak                            Jan Oblak   26   \n4              E. Hazard                          Eden Hazard   28   \n...                  ...                                  ...  ...   \n18273         Shao Shuai                                   邵帅   22   \n18274       Xiao Mingjie                         Mingjie Xiao   22   \n18275          Zhang Wei                                   张威   19   \n18276       Wang Haijian                                  汪海健   18   \n18277         Pan Ximing                                  潘喜明   26   \n\n              dob  height_cm  weight_kg nationality   \n0      1987-06-24        170         72   Argentina  \\\n1      1985-02-05        187         83    Portugal   \n2      1992-02-05        175         68      Brazil   \n3      1993-01-07        188         87    Slovenia   \n4      1991-01-07        175         74     Belgium   \n...           ...        ...        ...         ...   \n18273  1997-03-10        186         79    China PR   \n18274  1997-01-01        177         66    China PR   \n18275  2000-05-16        186         75    China PR   \n18276  2000-08-02        185         74    China PR   \n18277  1993-01-11        182         78    China PR   \n\n                                club  ...   lwb   ldm   cdm   rdm   rwb    lb   \n0                       FC Barcelona  ...  68+2  66+2  66+2  66+2  68+2  63+2  \\\n1                           Juventus  ...  65+3  61+3  61+3  61+3  65+3  61+3   \n2                Paris Saint-Germain  ...  66+3  61+3  61+3  61+3  66+3  61+3   \n3                    Atlético Madrid  ...   NaN   NaN   NaN   NaN   NaN   NaN   \n4                        Real Madrid  ...  66+3  63+3  63+3  63+3  66+3  61+3   \n...                              ...  ...   ...   ...   ...   ...   ...   ...   \n18273               Beijing Renhe FC  ...  43+2  42+2  42+2  42+2  43+2  45+2   \n18274               Shanghai SIPG FC  ...  44+2  43+2  43+2  43+2  44+2  46+2   \n18275         Hebei China Fortune FC  ...  47+2  49+2  49+2  49+2  47+2  47+2   \n18276  Shanghai Greenland Shenhua FC  ...  48+2  48+2  48+2  48+2  48+2  48+2   \n18277         Hebei China Fortune FC  ...  48+2  49+2  49+2  49+2  48+2  48+2   \n\n        lcb    cb   rcb    rb  \n0      52+2  52+2  52+2  63+2  \n1      53+3  53+3  53+3  61+3  \n2      46+3  46+3  46+3  61+3  \n3       NaN   NaN   NaN   NaN  \n4      49+3  49+3  49+3  61+3  \n...     ...   ...   ...   ...  \n18273  46+2  46+2  46+2  45+2  \n18274  47+2  47+2  47+2  46+2  \n18275  49+2  49+2  49+2  47+2  \n18276  49+2  49+2  49+2  48+2  \n18277  50+2  50+2  50+2  48+2  \n\n[18278 rows x 104 columns]",
      "text/html": "<div>\n<style scoped>\n    .dataframe tbody tr th:only-of-type {\n        vertical-align: middle;\n    }\n\n    .dataframe tbody tr th {\n        vertical-align: top;\n    }\n\n    .dataframe thead th {\n        text-align: right;\n    }\n</style>\n<table border=\"1\" class=\"dataframe\">\n  <thead>\n    <tr style=\"text-align: right;\">\n      <th></th>\n      <th>sofifa_id</th>\n      <th>player_url</th>\n      <th>short_name</th>\n      <th>long_name</th>\n      <th>age</th>\n      <th>dob</th>\n      <th>height_cm</th>\n      <th>weight_kg</th>\n      <th>nationality</th>\n      <th>club</th>\n      <th>...</th>\n      <th>lwb</th>\n      <th>ldm</th>\n      <th>cdm</th>\n      <th>rdm</th>\n      <th>rwb</th>\n      <th>lb</th>\n      <th>lcb</th>\n      <th>cb</th>\n      <th>rcb</th>\n      <th>rb</th>\n    </tr>\n  </thead>\n  <tbody>\n    <tr>\n      <th>0</th>\n      <td>158023</td>\n      <td>https://sofifa.com/player/158023/lionel-messi/...</td>\n      <td>L. Messi</td>\n      <td>Lionel Andrés Messi Cuccittini</td>\n      <td>32</td>\n      <td>1987-06-24</td>\n      <td>170</td>\n      <td>72</td>\n      <td>Argentina</td>\n      <td>FC Barcelona</td>\n      <td>...</td>\n      <td>68+2</td>\n      <td>66+2</td>\n      <td>66+2</td>\n      <td>66+2</td>\n      <td>68+2</td>\n      <td>63+2</td>\n      <td>52+2</td>\n      <td>52+2</td>\n      <td>52+2</td>\n      <td>63+2</td>\n    </tr>\n    <tr>\n      <th>1</th>\n      <td>20801</td>\n      <td>https://sofifa.com/player/20801/c-ronaldo-dos-...</td>\n      <td>Cristiano Ronaldo</td>\n      <td>Cristiano Ronaldo dos Santos Aveiro</td>\n      <td>34</td>\n      <td>1985-02-05</td>\n      <td>187</td>\n      <td>83</td>\n      <td>Portugal</td>\n      <td>Juventus</td>\n      <td>...</td>\n      <td>65+3</td>\n      <td>61+3</td>\n      <td>61+3</td>\n      <td>61+3</td>\n      <td>65+3</td>\n      <td>61+3</td>\n      <td>53+3</td>\n      <td>53+3</td>\n      <td>53+3</td>\n      <td>61+3</td>\n    </tr>\n    <tr>\n      <th>2</th>\n      <td>190871</td>\n      <td>https://sofifa.com/player/190871/neymar-da-sil...</td>\n      <td>Neymar Jr</td>\n      <td>Neymar da Silva Santos Junior</td>\n      <td>27</td>\n      <td>1992-02-05</td>\n      <td>175</td>\n      <td>68</td>\n      <td>Brazil</td>\n      <td>Paris Saint-Germain</td>\n      <td>...</td>\n      <td>66+3</td>\n      <td>61+3</td>\n      <td>61+3</td>\n      <td>61+3</td>\n      <td>66+3</td>\n      <td>61+3</td>\n      <td>46+3</td>\n      <td>46+3</td>\n      <td>46+3</td>\n      <td>61+3</td>\n    </tr>\n    <tr>\n      <th>3</th>\n      <td>200389</td>\n      <td>https://sofifa.com/player/200389/jan-oblak/20/...</td>\n      <td>J. Oblak</td>\n      <td>Jan Oblak</td>\n      <td>26</td>\n      <td>1993-01-07</td>\n      <td>188</td>\n      <td>87</td>\n      <td>Slovenia</td>\n      <td>Atlético Madrid</td>\n      <td>...</td>\n      <td>NaN</td>\n      <td>NaN</td>\n      <td>NaN</td>\n      <td>NaN</td>\n      <td>NaN</td>\n      <td>NaN</td>\n      <td>NaN</td>\n      <td>NaN</td>\n      <td>NaN</td>\n      <td>NaN</td>\n    </tr>\n    <tr>\n      <th>4</th>\n      <td>183277</td>\n      <td>https://sofifa.com/player/183277/eden-hazard/2...</td>\n      <td>E. Hazard</td>\n      <td>Eden Hazard</td>\n      <td>28</td>\n      <td>1991-01-07</td>\n      <td>175</td>\n      <td>74</td>\n      <td>Belgium</td>\n      <td>Real Madrid</td>\n      <td>...</td>\n      <td>66+3</td>\n      <td>63+3</td>\n      <td>63+3</td>\n      <td>63+3</td>\n      <td>66+3</td>\n      <td>61+3</td>\n      <td>49+3</td>\n      <td>49+3</td>\n      <td>49+3</td>\n      <td>61+3</td>\n    </tr>\n    <tr>\n      <th>...</th>\n      <td>...</td>\n      <td>...</td>\n      <td>...</td>\n      <td>...</td>\n      <td>...</td>\n      <td>...</td>\n      <td>...</td>\n      <td>...</td>\n      <td>...</td>\n      <td>...</td>\n      <td>...</td>\n      <td>...</td>\n      <td>...</td>\n      <td>...</td>\n      <td>...</td>\n      <td>...</td>\n      <td>...</td>\n      <td>...</td>\n      <td>...</td>\n      <td>...</td>\n      <td>...</td>\n    </tr>\n    <tr>\n      <th>18273</th>\n      <td>245006</td>\n      <td>https://sofifa.com/player/245006/shuai-shao/20...</td>\n      <td>Shao Shuai</td>\n      <td>邵帅</td>\n      <td>22</td>\n      <td>1997-03-10</td>\n      <td>186</td>\n      <td>79</td>\n      <td>China PR</td>\n      <td>Beijing Renhe FC</td>\n      <td>...</td>\n      <td>43+2</td>\n      <td>42+2</td>\n      <td>42+2</td>\n      <td>42+2</td>\n      <td>43+2</td>\n      <td>45+2</td>\n      <td>46+2</td>\n      <td>46+2</td>\n      <td>46+2</td>\n      <td>45+2</td>\n    </tr>\n    <tr>\n      <th>18274</th>\n      <td>250995</td>\n      <td>https://sofifa.com/player/250995/mingjie-xiao/...</td>\n      <td>Xiao Mingjie</td>\n      <td>Mingjie Xiao</td>\n      <td>22</td>\n      <td>1997-01-01</td>\n      <td>177</td>\n      <td>66</td>\n      <td>China PR</td>\n      <td>Shanghai SIPG FC</td>\n      <td>...</td>\n      <td>44+2</td>\n      <td>43+2</td>\n      <td>43+2</td>\n      <td>43+2</td>\n      <td>44+2</td>\n      <td>46+2</td>\n      <td>47+2</td>\n      <td>47+2</td>\n      <td>47+2</td>\n      <td>46+2</td>\n    </tr>\n    <tr>\n      <th>18275</th>\n      <td>252332</td>\n      <td>https://sofifa.com/player/252332/wei-zhang/20/...</td>\n      <td>Zhang Wei</td>\n      <td>张威</td>\n      <td>19</td>\n      <td>2000-05-16</td>\n      <td>186</td>\n      <td>75</td>\n      <td>China PR</td>\n      <td>Hebei China Fortune FC</td>\n      <td>...</td>\n      <td>47+2</td>\n      <td>49+2</td>\n      <td>49+2</td>\n      <td>49+2</td>\n      <td>47+2</td>\n      <td>47+2</td>\n      <td>49+2</td>\n      <td>49+2</td>\n      <td>49+2</td>\n      <td>47+2</td>\n    </tr>\n    <tr>\n      <th>18276</th>\n      <td>251110</td>\n      <td>https://sofifa.com/player/251110/haijian-wang/...</td>\n      <td>Wang Haijian</td>\n      <td>汪海健</td>\n      <td>18</td>\n      <td>2000-08-02</td>\n      <td>185</td>\n      <td>74</td>\n      <td>China PR</td>\n      <td>Shanghai Greenland Shenhua FC</td>\n      <td>...</td>\n      <td>48+2</td>\n      <td>48+2</td>\n      <td>48+2</td>\n      <td>48+2</td>\n      <td>48+2</td>\n      <td>48+2</td>\n      <td>49+2</td>\n      <td>49+2</td>\n      <td>49+2</td>\n      <td>48+2</td>\n    </tr>\n    <tr>\n      <th>18277</th>\n      <td>233449</td>\n      <td>https://sofifa.com/player/233449/ximing-pan/20...</td>\n      <td>Pan Ximing</td>\n      <td>潘喜明</td>\n      <td>26</td>\n      <td>1993-01-11</td>\n      <td>182</td>\n      <td>78</td>\n      <td>China PR</td>\n      <td>Hebei China Fortune FC</td>\n      <td>...</td>\n      <td>48+2</td>\n      <td>49+2</td>\n      <td>49+2</td>\n      <td>49+2</td>\n      <td>48+2</td>\n      <td>48+2</td>\n      <td>50+2</td>\n      <td>50+2</td>\n      <td>50+2</td>\n      <td>48+2</td>\n    </tr>\n  </tbody>\n</table>\n<p>18278 rows × 104 columns</p>\n</div>"
     },
     "execution_count": 4,
     "metadata": {},
     "output_type": "execute_result"
    }
   ],
   "source": [
    "df_players"
   ],
   "metadata": {
    "collapsed": false
   }
  },
  {
   "cell_type": "code",
   "execution_count": 5,
   "outputs": [],
   "source": [
    "df_players.set_index('short_name', inplace=True)"
   ],
   "metadata": {
    "collapsed": false
   }
  },
  {
   "cell_type": "code",
   "execution_count": 6,
   "outputs": [],
   "source": [
    "df_players = df_players[['long_name', 'age', 'dob', 'height_cm', 'weight_kg', 'nationality', 'club']]"
   ],
   "metadata": {
    "collapsed": false
   }
  },
  {
   "cell_type": "code",
   "execution_count": 7,
   "outputs": [
    {
     "data": {
      "text/plain": "                                             long_name  age         dob   \nshort_name                                                                \nL. Messi                Lionel Andrés Messi Cuccittini   32  1987-06-24  \\\nCristiano Ronaldo  Cristiano Ronaldo dos Santos Aveiro   34  1985-02-05   \nNeymar Jr                Neymar da Silva Santos Junior   27  1992-02-05   \nJ. Oblak                                     Jan Oblak   26  1993-01-07   \nE. Hazard                                  Eden Hazard   28  1991-01-07   \n...                                                ...  ...         ...   \nShao Shuai                                          邵帅   22  1997-03-10   \nXiao Mingjie                              Mingjie Xiao   22  1997-01-01   \nZhang Wei                                           张威   19  2000-05-16   \nWang Haijian                                       汪海健   18  2000-08-02   \nPan Ximing                                         潘喜明   26  1993-01-11   \n\n                   height_cm  weight_kg nationality   \nshort_name                                            \nL. Messi                 170         72   Argentina  \\\nCristiano Ronaldo        187         83    Portugal   \nNeymar Jr                175         68      Brazil   \nJ. Oblak                 188         87    Slovenia   \nE. Hazard                175         74     Belgium   \n...                      ...        ...         ...   \nShao Shuai               186         79    China PR   \nXiao Mingjie             177         66    China PR   \nZhang Wei                186         75    China PR   \nWang Haijian             185         74    China PR   \nPan Ximing               182         78    China PR   \n\n                                            club  \nshort_name                                        \nL. Messi                            FC Barcelona  \nCristiano Ronaldo                       Juventus  \nNeymar Jr                    Paris Saint-Germain  \nJ. Oblak                         Atlético Madrid  \nE. Hazard                            Real Madrid  \n...                                          ...  \nShao Shuai                      Beijing Renhe FC  \nXiao Mingjie                    Shanghai SIPG FC  \nZhang Wei                 Hebei China Fortune FC  \nWang Haijian       Shanghai Greenland Shenhua FC  \nPan Ximing                Hebei China Fortune FC  \n\n[18278 rows x 7 columns]",
      "text/html": "<div>\n<style scoped>\n    .dataframe tbody tr th:only-of-type {\n        vertical-align: middle;\n    }\n\n    .dataframe tbody tr th {\n        vertical-align: top;\n    }\n\n    .dataframe thead th {\n        text-align: right;\n    }\n</style>\n<table border=\"1\" class=\"dataframe\">\n  <thead>\n    <tr style=\"text-align: right;\">\n      <th></th>\n      <th>long_name</th>\n      <th>age</th>\n      <th>dob</th>\n      <th>height_cm</th>\n      <th>weight_kg</th>\n      <th>nationality</th>\n      <th>club</th>\n    </tr>\n    <tr>\n      <th>short_name</th>\n      <th></th>\n      <th></th>\n      <th></th>\n      <th></th>\n      <th></th>\n      <th></th>\n      <th></th>\n    </tr>\n  </thead>\n  <tbody>\n    <tr>\n      <th>L. Messi</th>\n      <td>Lionel Andrés Messi Cuccittini</td>\n      <td>32</td>\n      <td>1987-06-24</td>\n      <td>170</td>\n      <td>72</td>\n      <td>Argentina</td>\n      <td>FC Barcelona</td>\n    </tr>\n    <tr>\n      <th>Cristiano Ronaldo</th>\n      <td>Cristiano Ronaldo dos Santos Aveiro</td>\n      <td>34</td>\n      <td>1985-02-05</td>\n      <td>187</td>\n      <td>83</td>\n      <td>Portugal</td>\n      <td>Juventus</td>\n    </tr>\n    <tr>\n      <th>Neymar Jr</th>\n      <td>Neymar da Silva Santos Junior</td>\n      <td>27</td>\n      <td>1992-02-05</td>\n      <td>175</td>\n      <td>68</td>\n      <td>Brazil</td>\n      <td>Paris Saint-Germain</td>\n    </tr>\n    <tr>\n      <th>J. Oblak</th>\n      <td>Jan Oblak</td>\n      <td>26</td>\n      <td>1993-01-07</td>\n      <td>188</td>\n      <td>87</td>\n      <td>Slovenia</td>\n      <td>Atlético Madrid</td>\n    </tr>\n    <tr>\n      <th>E. Hazard</th>\n      <td>Eden Hazard</td>\n      <td>28</td>\n      <td>1991-01-07</td>\n      <td>175</td>\n      <td>74</td>\n      <td>Belgium</td>\n      <td>Real Madrid</td>\n    </tr>\n    <tr>\n      <th>...</th>\n      <td>...</td>\n      <td>...</td>\n      <td>...</td>\n      <td>...</td>\n      <td>...</td>\n      <td>...</td>\n      <td>...</td>\n    </tr>\n    <tr>\n      <th>Shao Shuai</th>\n      <td>邵帅</td>\n      <td>22</td>\n      <td>1997-03-10</td>\n      <td>186</td>\n      <td>79</td>\n      <td>China PR</td>\n      <td>Beijing Renhe FC</td>\n    </tr>\n    <tr>\n      <th>Xiao Mingjie</th>\n      <td>Mingjie Xiao</td>\n      <td>22</td>\n      <td>1997-01-01</td>\n      <td>177</td>\n      <td>66</td>\n      <td>China PR</td>\n      <td>Shanghai SIPG FC</td>\n    </tr>\n    <tr>\n      <th>Zhang Wei</th>\n      <td>张威</td>\n      <td>19</td>\n      <td>2000-05-16</td>\n      <td>186</td>\n      <td>75</td>\n      <td>China PR</td>\n      <td>Hebei China Fortune FC</td>\n    </tr>\n    <tr>\n      <th>Wang Haijian</th>\n      <td>汪海健</td>\n      <td>18</td>\n      <td>2000-08-02</td>\n      <td>185</td>\n      <td>74</td>\n      <td>China PR</td>\n      <td>Shanghai Greenland Shenhua FC</td>\n    </tr>\n    <tr>\n      <th>Pan Ximing</th>\n      <td>潘喜明</td>\n      <td>26</td>\n      <td>1993-01-11</td>\n      <td>182</td>\n      <td>78</td>\n      <td>China PR</td>\n      <td>Hebei China Fortune FC</td>\n    </tr>\n  </tbody>\n</table>\n<p>18278 rows × 7 columns</p>\n</div>"
     },
     "execution_count": 7,
     "metadata": {},
     "output_type": "execute_result"
    }
   ],
   "source": [
    "df_players"
   ],
   "metadata": {
    "collapsed": false
   }
  },
  {
   "cell_type": "code",
   "execution_count": 8,
   "outputs": [
    {
     "data": {
      "text/plain": "long_name      Lionel Andrés Messi Cuccittini\nage                                        32\ndob                                1987-06-24\nheight_cm                                 170\nweight_kg                                  72\nnationality                         Argentina\nclub                             FC Barcelona\nName: L. Messi, dtype: object"
     },
     "execution_count": 8,
     "metadata": {},
     "output_type": "execute_result"
    }
   ],
   "source": [
    "# get all data for Messi\n",
    "df_players.loc['L. Messi']"
   ],
   "metadata": {
    "collapsed": false
   }
  },
  {
   "cell_type": "code",
   "execution_count": 9,
   "outputs": [
    {
     "data": {
      "text/plain": "long_name      Lionel Andrés Messi Cuccittini\nage                                        32\ndob                                1987-06-24\nheight_cm                                 170\nweight_kg                                  72\nnationality                         Argentina\nclub                             FC Barcelona\nName: L. Messi, dtype: object"
     },
     "execution_count": 9,
     "metadata": {},
     "output_type": "execute_result"
    }
   ],
   "source": [
    "df_players.iloc[0]"
   ],
   "metadata": {
    "collapsed": false
   }
  },
  {
   "cell_type": "code",
   "execution_count": 10,
   "outputs": [
    {
     "data": {
      "text/plain": "32"
     },
     "execution_count": 10,
     "metadata": {},
     "output_type": "execute_result"
    }
   ],
   "source": [
    "df_players.loc['L. Messi', 'age']"
   ],
   "metadata": {
    "collapsed": false
   }
  },
  {
   "cell_type": "code",
   "execution_count": 11,
   "outputs": [
    {
     "data": {
      "text/plain": "32"
     },
     "execution_count": 11,
     "metadata": {},
     "output_type": "execute_result"
    }
   ],
   "source": [
    "df_players.iloc[0, 1]"
   ],
   "metadata": {
    "collapsed": false
   }
  },
  {
   "cell_type": "code",
   "execution_count": 12,
   "outputs": [
    {
     "data": {
      "text/plain": "'Argentina'"
     },
     "execution_count": 12,
     "metadata": {},
     "output_type": "execute_result"
    }
   ],
   "source": [
    "df_players.loc['L. Messi', 'nationality']"
   ],
   "metadata": {
    "collapsed": false
   }
  },
  {
   "cell_type": "code",
   "execution_count": 13,
   "outputs": [
    {
     "data": {
      "text/plain": "long_name      Lionel Andrés Messi Cuccittini\nage                                        32\ndob                                1987-06-24\nheight_cm                                 170\nweight_kg                                  72\nnationality                         Argentina\nclub                             FC Barcelona\nName: L. Messi, dtype: object"
     },
     "execution_count": 13,
     "metadata": {},
     "output_type": "execute_result"
    }
   ],
   "source": [
    "df_players.loc['L. Messi', :]"
   ],
   "metadata": {
    "collapsed": false
   }
  },
  {
   "cell_type": "code",
   "execution_count": 14,
   "outputs": [
    {
     "data": {
      "text/plain": "                                             long_name  age         dob   \nshort_name                                                                \nL. Messi                Lionel Andrés Messi Cuccittini   32  1987-06-24  \\\nCristiano Ronaldo  Cristiano Ronaldo dos Santos Aveiro   34  1985-02-05   \n\n                   height_cm  weight_kg nationality          club  \nshort_name                                                         \nL. Messi                 170         72   Argentina  FC Barcelona  \nCristiano Ronaldo        187         83    Portugal      Juventus  ",
      "text/html": "<div>\n<style scoped>\n    .dataframe tbody tr th:only-of-type {\n        vertical-align: middle;\n    }\n\n    .dataframe tbody tr th {\n        vertical-align: top;\n    }\n\n    .dataframe thead th {\n        text-align: right;\n    }\n</style>\n<table border=\"1\" class=\"dataframe\">\n  <thead>\n    <tr style=\"text-align: right;\">\n      <th></th>\n      <th>long_name</th>\n      <th>age</th>\n      <th>dob</th>\n      <th>height_cm</th>\n      <th>weight_kg</th>\n      <th>nationality</th>\n      <th>club</th>\n    </tr>\n    <tr>\n      <th>short_name</th>\n      <th></th>\n      <th></th>\n      <th></th>\n      <th></th>\n      <th></th>\n      <th></th>\n      <th></th>\n    </tr>\n  </thead>\n  <tbody>\n    <tr>\n      <th>L. Messi</th>\n      <td>Lionel Andrés Messi Cuccittini</td>\n      <td>32</td>\n      <td>1987-06-24</td>\n      <td>170</td>\n      <td>72</td>\n      <td>Argentina</td>\n      <td>FC Barcelona</td>\n    </tr>\n    <tr>\n      <th>Cristiano Ronaldo</th>\n      <td>Cristiano Ronaldo dos Santos Aveiro</td>\n      <td>34</td>\n      <td>1985-02-05</td>\n      <td>187</td>\n      <td>83</td>\n      <td>Portugal</td>\n      <td>Juventus</td>\n    </tr>\n  </tbody>\n</table>\n</div>"
     },
     "execution_count": 14,
     "metadata": {},
     "output_type": "execute_result"
    }
   ],
   "source": [
    "df_players.loc[['L. Messi', 'Cristiano Ronaldo']]"
   ],
   "metadata": {
    "collapsed": false
   }
  },
  {
   "cell_type": "code",
   "execution_count": 15,
   "outputs": [
    {
     "data": {
      "text/plain": "                   age         dob\nshort_name                        \nL. Messi            32  1987-06-24\nCristiano Ronaldo   34  1985-02-05",
      "text/html": "<div>\n<style scoped>\n    .dataframe tbody tr th:only-of-type {\n        vertical-align: middle;\n    }\n\n    .dataframe tbody tr th {\n        vertical-align: top;\n    }\n\n    .dataframe thead th {\n        text-align: right;\n    }\n</style>\n<table border=\"1\" class=\"dataframe\">\n  <thead>\n    <tr style=\"text-align: right;\">\n      <th></th>\n      <th>age</th>\n      <th>dob</th>\n    </tr>\n    <tr>\n      <th>short_name</th>\n      <th></th>\n      <th></th>\n    </tr>\n  </thead>\n  <tbody>\n    <tr>\n      <th>L. Messi</th>\n      <td>32</td>\n      <td>1987-06-24</td>\n    </tr>\n    <tr>\n      <th>Cristiano Ronaldo</th>\n      <td>34</td>\n      <td>1985-02-05</td>\n    </tr>\n  </tbody>\n</table>\n</div>"
     },
     "execution_count": 15,
     "metadata": {},
     "output_type": "execute_result"
    }
   ],
   "source": [
    "df_players.loc[['L. Messi', 'Cristiano Ronaldo'], ['age', 'dob']]"
   ],
   "metadata": {
    "collapsed": false
   }
  },
  {
   "cell_type": "code",
   "execution_count": 16,
   "outputs": [
    {
     "data": {
      "text/plain": "            age         dob\nshort_name                 \nL. Messi     32  1987-06-24",
      "text/html": "<div>\n<style scoped>\n    .dataframe tbody tr th:only-of-type {\n        vertical-align: middle;\n    }\n\n    .dataframe tbody tr th {\n        vertical-align: top;\n    }\n\n    .dataframe thead th {\n        text-align: right;\n    }\n</style>\n<table border=\"1\" class=\"dataframe\">\n  <thead>\n    <tr style=\"text-align: right;\">\n      <th></th>\n      <th>age</th>\n      <th>dob</th>\n    </tr>\n    <tr>\n      <th>short_name</th>\n      <th></th>\n      <th></th>\n    </tr>\n  </thead>\n  <tbody>\n    <tr>\n      <th>L. Messi</th>\n      <td>32</td>\n      <td>1987-06-24</td>\n    </tr>\n  </tbody>\n</table>\n</div>"
     },
     "execution_count": 16,
     "metadata": {},
     "output_type": "execute_result"
    }
   ],
   "source": [
    "df_players.loc[['L. Messi'], ['age', 'dob']]"
   ],
   "metadata": {
    "collapsed": false
   }
  },
  {
   "cell_type": "code",
   "execution_count": 17,
   "outputs": [
    {
     "data": {
      "text/plain": "                                             long_name  age         dob   \nshort_name                                                                \nL. Messi                Lionel Andrés Messi Cuccittini   32  1987-06-24  \\\nCristiano Ronaldo  Cristiano Ronaldo dos Santos Aveiro   34  1985-02-05   \nNeymar Jr                Neymar da Silva Santos Junior   27  1992-02-05   \nJ. Oblak                                     Jan Oblak   26  1993-01-07   \nE. Hazard                                  Eden Hazard   28  1991-01-07   \n...                                                ...  ...         ...   \nShao Shuai                                          邵帅   22  1997-03-10   \nXiao Mingjie                              Mingjie Xiao   22  1997-01-01   \nZhang Wei                                           张威   19  2000-05-16   \nWang Haijian                                       汪海健   18  2000-08-02   \nPan Ximing                                         潘喜明   26  1993-01-11   \n\n                   height_cm  weight_kg nationality   \nshort_name                                            \nL. Messi                 170         72   Argentina  \\\nCristiano Ronaldo        187         83    Portugal   \nNeymar Jr                175         68      Brazil   \nJ. Oblak                 188         87    Slovenia   \nE. Hazard                175         74     Belgium   \n...                      ...        ...         ...   \nShao Shuai               186         79    China PR   \nXiao Mingjie             177         66    China PR   \nZhang Wei                186         75    China PR   \nWang Haijian             185         74    China PR   \nPan Ximing               182         78    China PR   \n\n                                            club  \nshort_name                                        \nL. Messi                            FC Barcelona  \nCristiano Ronaldo                       Juventus  \nNeymar Jr                    Paris Saint-Germain  \nJ. Oblak                         Atlético Madrid  \nE. Hazard                            Real Madrid  \n...                                          ...  \nShao Shuai                      Beijing Renhe FC  \nXiao Mingjie                    Shanghai SIPG FC  \nZhang Wei                 Hebei China Fortune FC  \nWang Haijian       Shanghai Greenland Shenhua FC  \nPan Ximing                Hebei China Fortune FC  \n\n[18278 rows x 7 columns]",
      "text/html": "<div>\n<style scoped>\n    .dataframe tbody tr th:only-of-type {\n        vertical-align: middle;\n    }\n\n    .dataframe tbody tr th {\n        vertical-align: top;\n    }\n\n    .dataframe thead th {\n        text-align: right;\n    }\n</style>\n<table border=\"1\" class=\"dataframe\">\n  <thead>\n    <tr style=\"text-align: right;\">\n      <th></th>\n      <th>long_name</th>\n      <th>age</th>\n      <th>dob</th>\n      <th>height_cm</th>\n      <th>weight_kg</th>\n      <th>nationality</th>\n      <th>club</th>\n    </tr>\n    <tr>\n      <th>short_name</th>\n      <th></th>\n      <th></th>\n      <th></th>\n      <th></th>\n      <th></th>\n      <th></th>\n      <th></th>\n    </tr>\n  </thead>\n  <tbody>\n    <tr>\n      <th>L. Messi</th>\n      <td>Lionel Andrés Messi Cuccittini</td>\n      <td>32</td>\n      <td>1987-06-24</td>\n      <td>170</td>\n      <td>72</td>\n      <td>Argentina</td>\n      <td>FC Barcelona</td>\n    </tr>\n    <tr>\n      <th>Cristiano Ronaldo</th>\n      <td>Cristiano Ronaldo dos Santos Aveiro</td>\n      <td>34</td>\n      <td>1985-02-05</td>\n      <td>187</td>\n      <td>83</td>\n      <td>Portugal</td>\n      <td>Juventus</td>\n    </tr>\n    <tr>\n      <th>Neymar Jr</th>\n      <td>Neymar da Silva Santos Junior</td>\n      <td>27</td>\n      <td>1992-02-05</td>\n      <td>175</td>\n      <td>68</td>\n      <td>Brazil</td>\n      <td>Paris Saint-Germain</td>\n    </tr>\n    <tr>\n      <th>J. Oblak</th>\n      <td>Jan Oblak</td>\n      <td>26</td>\n      <td>1993-01-07</td>\n      <td>188</td>\n      <td>87</td>\n      <td>Slovenia</td>\n      <td>Atlético Madrid</td>\n    </tr>\n    <tr>\n      <th>E. Hazard</th>\n      <td>Eden Hazard</td>\n      <td>28</td>\n      <td>1991-01-07</td>\n      <td>175</td>\n      <td>74</td>\n      <td>Belgium</td>\n      <td>Real Madrid</td>\n    </tr>\n    <tr>\n      <th>...</th>\n      <td>...</td>\n      <td>...</td>\n      <td>...</td>\n      <td>...</td>\n      <td>...</td>\n      <td>...</td>\n      <td>...</td>\n    </tr>\n    <tr>\n      <th>Shao Shuai</th>\n      <td>邵帅</td>\n      <td>22</td>\n      <td>1997-03-10</td>\n      <td>186</td>\n      <td>79</td>\n      <td>China PR</td>\n      <td>Beijing Renhe FC</td>\n    </tr>\n    <tr>\n      <th>Xiao Mingjie</th>\n      <td>Mingjie Xiao</td>\n      <td>22</td>\n      <td>1997-01-01</td>\n      <td>177</td>\n      <td>66</td>\n      <td>China PR</td>\n      <td>Shanghai SIPG FC</td>\n    </tr>\n    <tr>\n      <th>Zhang Wei</th>\n      <td>张威</td>\n      <td>19</td>\n      <td>2000-05-16</td>\n      <td>186</td>\n      <td>75</td>\n      <td>China PR</td>\n      <td>Hebei China Fortune FC</td>\n    </tr>\n    <tr>\n      <th>Wang Haijian</th>\n      <td>汪海健</td>\n      <td>18</td>\n      <td>2000-08-02</td>\n      <td>185</td>\n      <td>74</td>\n      <td>China PR</td>\n      <td>Shanghai Greenland Shenhua FC</td>\n    </tr>\n    <tr>\n      <th>Pan Ximing</th>\n      <td>潘喜明</td>\n      <td>26</td>\n      <td>1993-01-11</td>\n      <td>182</td>\n      <td>78</td>\n      <td>China PR</td>\n      <td>Hebei China Fortune FC</td>\n    </tr>\n  </tbody>\n</table>\n<p>18278 rows × 7 columns</p>\n</div>"
     },
     "execution_count": 17,
     "metadata": {},
     "output_type": "execute_result"
    }
   ],
   "source": [
    "df_players"
   ],
   "metadata": {
    "collapsed": false
   }
  },
  {
   "cell_type": "code",
   "execution_count": 18,
   "outputs": [
    {
     "data": {
      "text/plain": "Index(['L. Messi', 'Cristiano Ronaldo', 'Neymar Jr', 'J. Oblak', 'E. Hazard',\n       'K. De Bruyne', 'M. ter Stegen', 'V. van Dijk', 'L. Modrić',\n       'M. Salah'],\n      dtype='object', name='short_name')"
     },
     "execution_count": 18,
     "metadata": {},
     "output_type": "execute_result"
    }
   ],
   "source": [
    "df_players.index[:10]"
   ],
   "metadata": {
    "collapsed": false
   }
  },
  {
   "cell_type": "code",
   "execution_count": 19,
   "outputs": [
    {
     "data": {
      "text/plain": "                                             long_name  age         dob   \nshort_name                                                                \nL. Messi                Lionel Andrés Messi Cuccittini   32  1987-06-24  \\\nCristiano Ronaldo  Cristiano Ronaldo dos Santos Aveiro   34  1985-02-05   \nNeymar Jr                Neymar da Silva Santos Junior   27  1992-02-05   \nJ. Oblak                                     Jan Oblak   26  1993-01-07   \nE. Hazard                                  Eden Hazard   28  1991-01-07   \nK. De Bruyne                           Kevin De Bruyne   28  1991-06-28   \nM. ter Stegen                    Marc-André ter Stegen   27  1992-04-30   \nV. van Dijk                            Virgil van Dijk   27  1991-07-08   \nL. Modrić                                  Luka Modrić   33  1985-09-09   \nM. Salah                          Mohamed  Salah Ghaly   27  1992-06-15   \n\n                   height_cm  weight_kg  nationality                 club  \nshort_name                                                                 \nL. Messi                 170         72    Argentina         FC Barcelona  \nCristiano Ronaldo        187         83     Portugal             Juventus  \nNeymar Jr                175         68       Brazil  Paris Saint-Germain  \nJ. Oblak                 188         87     Slovenia      Atlético Madrid  \nE. Hazard                175         74      Belgium          Real Madrid  \nK. De Bruyne             181         70      Belgium      Manchester City  \nM. ter Stegen            187         85      Germany         FC Barcelona  \nV. van Dijk              193         92  Netherlands            Liverpool  \nL. Modrić                172         66      Croatia          Real Madrid  \nM. Salah                 175         71        Egypt            Liverpool  ",
      "text/html": "<div>\n<style scoped>\n    .dataframe tbody tr th:only-of-type {\n        vertical-align: middle;\n    }\n\n    .dataframe tbody tr th {\n        vertical-align: top;\n    }\n\n    .dataframe thead th {\n        text-align: right;\n    }\n</style>\n<table border=\"1\" class=\"dataframe\">\n  <thead>\n    <tr style=\"text-align: right;\">\n      <th></th>\n      <th>long_name</th>\n      <th>age</th>\n      <th>dob</th>\n      <th>height_cm</th>\n      <th>weight_kg</th>\n      <th>nationality</th>\n      <th>club</th>\n    </tr>\n    <tr>\n      <th>short_name</th>\n      <th></th>\n      <th></th>\n      <th></th>\n      <th></th>\n      <th></th>\n      <th></th>\n      <th></th>\n    </tr>\n  </thead>\n  <tbody>\n    <tr>\n      <th>L. Messi</th>\n      <td>Lionel Andrés Messi Cuccittini</td>\n      <td>32</td>\n      <td>1987-06-24</td>\n      <td>170</td>\n      <td>72</td>\n      <td>Argentina</td>\n      <td>FC Barcelona</td>\n    </tr>\n    <tr>\n      <th>Cristiano Ronaldo</th>\n      <td>Cristiano Ronaldo dos Santos Aveiro</td>\n      <td>34</td>\n      <td>1985-02-05</td>\n      <td>187</td>\n      <td>83</td>\n      <td>Portugal</td>\n      <td>Juventus</td>\n    </tr>\n    <tr>\n      <th>Neymar Jr</th>\n      <td>Neymar da Silva Santos Junior</td>\n      <td>27</td>\n      <td>1992-02-05</td>\n      <td>175</td>\n      <td>68</td>\n      <td>Brazil</td>\n      <td>Paris Saint-Germain</td>\n    </tr>\n    <tr>\n      <th>J. Oblak</th>\n      <td>Jan Oblak</td>\n      <td>26</td>\n      <td>1993-01-07</td>\n      <td>188</td>\n      <td>87</td>\n      <td>Slovenia</td>\n      <td>Atlético Madrid</td>\n    </tr>\n    <tr>\n      <th>E. Hazard</th>\n      <td>Eden Hazard</td>\n      <td>28</td>\n      <td>1991-01-07</td>\n      <td>175</td>\n      <td>74</td>\n      <td>Belgium</td>\n      <td>Real Madrid</td>\n    </tr>\n    <tr>\n      <th>K. De Bruyne</th>\n      <td>Kevin De Bruyne</td>\n      <td>28</td>\n      <td>1991-06-28</td>\n      <td>181</td>\n      <td>70</td>\n      <td>Belgium</td>\n      <td>Manchester City</td>\n    </tr>\n    <tr>\n      <th>M. ter Stegen</th>\n      <td>Marc-André ter Stegen</td>\n      <td>27</td>\n      <td>1992-04-30</td>\n      <td>187</td>\n      <td>85</td>\n      <td>Germany</td>\n      <td>FC Barcelona</td>\n    </tr>\n    <tr>\n      <th>V. van Dijk</th>\n      <td>Virgil van Dijk</td>\n      <td>27</td>\n      <td>1991-07-08</td>\n      <td>193</td>\n      <td>92</td>\n      <td>Netherlands</td>\n      <td>Liverpool</td>\n    </tr>\n    <tr>\n      <th>L. Modrić</th>\n      <td>Luka Modrić</td>\n      <td>33</td>\n      <td>1985-09-09</td>\n      <td>172</td>\n      <td>66</td>\n      <td>Croatia</td>\n      <td>Real Madrid</td>\n    </tr>\n    <tr>\n      <th>M. Salah</th>\n      <td>Mohamed  Salah Ghaly</td>\n      <td>27</td>\n      <td>1992-06-15</td>\n      <td>175</td>\n      <td>71</td>\n      <td>Egypt</td>\n      <td>Liverpool</td>\n    </tr>\n  </tbody>\n</table>\n</div>"
     },
     "execution_count": 19,
     "metadata": {},
     "output_type": "execute_result"
    }
   ],
   "source": [
    "df_players.loc['L. Messi': 'M. Salah']"
   ],
   "metadata": {
    "collapsed": false
   }
  },
  {
   "cell_type": "code",
   "execution_count": 20,
   "outputs": [],
   "source": [
    "needed_info = ['age', 'club']"
   ],
   "metadata": {
    "collapsed": false
   }
  },
  {
   "cell_type": "code",
   "execution_count": 21,
   "outputs": [
    {
     "data": {
      "text/plain": "                   age                 club\nshort_name                                 \nL. Messi            32         FC Barcelona\nCristiano Ronaldo   34             Juventus\nNeymar Jr           27  Paris Saint-Germain\nJ. Oblak            26      Atlético Madrid\nE. Hazard           28          Real Madrid\nK. De Bruyne        28      Manchester City\nM. ter Stegen       27         FC Barcelona\nV. van Dijk         27            Liverpool\nL. Modrić           33          Real Madrid\nM. Salah            27            Liverpool",
      "text/html": "<div>\n<style scoped>\n    .dataframe tbody tr th:only-of-type {\n        vertical-align: middle;\n    }\n\n    .dataframe tbody tr th {\n        vertical-align: top;\n    }\n\n    .dataframe thead th {\n        text-align: right;\n    }\n</style>\n<table border=\"1\" class=\"dataframe\">\n  <thead>\n    <tr style=\"text-align: right;\">\n      <th></th>\n      <th>age</th>\n      <th>club</th>\n    </tr>\n    <tr>\n      <th>short_name</th>\n      <th></th>\n      <th></th>\n    </tr>\n  </thead>\n  <tbody>\n    <tr>\n      <th>L. Messi</th>\n      <td>32</td>\n      <td>FC Barcelona</td>\n    </tr>\n    <tr>\n      <th>Cristiano Ronaldo</th>\n      <td>34</td>\n      <td>Juventus</td>\n    </tr>\n    <tr>\n      <th>Neymar Jr</th>\n      <td>27</td>\n      <td>Paris Saint-Germain</td>\n    </tr>\n    <tr>\n      <th>J. Oblak</th>\n      <td>26</td>\n      <td>Atlético Madrid</td>\n    </tr>\n    <tr>\n      <th>E. Hazard</th>\n      <td>28</td>\n      <td>Real Madrid</td>\n    </tr>\n    <tr>\n      <th>K. De Bruyne</th>\n      <td>28</td>\n      <td>Manchester City</td>\n    </tr>\n    <tr>\n      <th>M. ter Stegen</th>\n      <td>27</td>\n      <td>FC Barcelona</td>\n    </tr>\n    <tr>\n      <th>V. van Dijk</th>\n      <td>27</td>\n      <td>Liverpool</td>\n    </tr>\n    <tr>\n      <th>L. Modrić</th>\n      <td>33</td>\n      <td>Real Madrid</td>\n    </tr>\n    <tr>\n      <th>M. Salah</th>\n      <td>27</td>\n      <td>Liverpool</td>\n    </tr>\n  </tbody>\n</table>\n</div>"
     },
     "execution_count": 21,
     "metadata": {},
     "output_type": "execute_result"
    }
   ],
   "source": [
    "df_players.loc['L. Messi': 'M. Salah', needed_info]"
   ],
   "metadata": {
    "collapsed": false
   }
  },
  {
   "cell_type": "code",
   "execution_count": 22,
   "outputs": [
    {
     "data": {
      "text/plain": "            age          club\nshort_name                   \nL. Messi     32  FC Barcelona\nM. Salah     27     Liverpool",
      "text/html": "<div>\n<style scoped>\n    .dataframe tbody tr th:only-of-type {\n        vertical-align: middle;\n    }\n\n    .dataframe tbody tr th {\n        vertical-align: top;\n    }\n\n    .dataframe thead th {\n        text-align: right;\n    }\n</style>\n<table border=\"1\" class=\"dataframe\">\n  <thead>\n    <tr style=\"text-align: right;\">\n      <th></th>\n      <th>age</th>\n      <th>club</th>\n    </tr>\n    <tr>\n      <th>short_name</th>\n      <th></th>\n      <th></th>\n    </tr>\n  </thead>\n  <tbody>\n    <tr>\n      <th>L. Messi</th>\n      <td>32</td>\n      <td>FC Barcelona</td>\n    </tr>\n    <tr>\n      <th>M. Salah</th>\n      <td>27</td>\n      <td>Liverpool</td>\n    </tr>\n  </tbody>\n</table>\n</div>"
     },
     "execution_count": 22,
     "metadata": {},
     "output_type": "execute_result"
    }
   ],
   "source": [
    "some_players = ['L. Messi', 'M. Salah']\n",
    "df_players.loc[some_players, needed_info]"
   ],
   "metadata": {
    "collapsed": false
   }
  },
  {
   "cell_type": "code",
   "execution_count": 23,
   "outputs": [],
   "source": [
    "condition = df_players['height_cm'] > 180\n",
    "columns = ['age', 'dob', 'height_cm', 'club']"
   ],
   "metadata": {
    "collapsed": false
   }
  },
  {
   "cell_type": "code",
   "execution_count": 24,
   "outputs": [
    {
     "data": {
      "text/plain": "                   age         dob  height_cm                           club\nshort_name                                                                  \nCristiano Ronaldo   34  1985-02-05        187                       Juventus\nJ. Oblak            26  1993-01-07        188                Atlético Madrid\nK. De Bruyne        28  1991-06-28        181                Manchester City\nM. ter Stegen       27  1992-04-30        187                   FC Barcelona\nV. van Dijk         27  1991-07-08        193                      Liverpool\n...                ...         ...        ...                            ...\nP. Martin           20  1999-01-05        188                   Waterford FC\nShao Shuai          22  1997-03-10        186               Beijing Renhe FC\nZhang Wei           19  2000-05-16        186         Hebei China Fortune FC\nWang Haijian        18  2000-08-02        185  Shanghai Greenland Shenhua FC\nPan Ximing          26  1993-01-11        182         Hebei China Fortune FC\n\n[9744 rows x 4 columns]",
      "text/html": "<div>\n<style scoped>\n    .dataframe tbody tr th:only-of-type {\n        vertical-align: middle;\n    }\n\n    .dataframe tbody tr th {\n        vertical-align: top;\n    }\n\n    .dataframe thead th {\n        text-align: right;\n    }\n</style>\n<table border=\"1\" class=\"dataframe\">\n  <thead>\n    <tr style=\"text-align: right;\">\n      <th></th>\n      <th>age</th>\n      <th>dob</th>\n      <th>height_cm</th>\n      <th>club</th>\n    </tr>\n    <tr>\n      <th>short_name</th>\n      <th></th>\n      <th></th>\n      <th></th>\n      <th></th>\n    </tr>\n  </thead>\n  <tbody>\n    <tr>\n      <th>Cristiano Ronaldo</th>\n      <td>34</td>\n      <td>1985-02-05</td>\n      <td>187</td>\n      <td>Juventus</td>\n    </tr>\n    <tr>\n      <th>J. Oblak</th>\n      <td>26</td>\n      <td>1993-01-07</td>\n      <td>188</td>\n      <td>Atlético Madrid</td>\n    </tr>\n    <tr>\n      <th>K. De Bruyne</th>\n      <td>28</td>\n      <td>1991-06-28</td>\n      <td>181</td>\n      <td>Manchester City</td>\n    </tr>\n    <tr>\n      <th>M. ter Stegen</th>\n      <td>27</td>\n      <td>1992-04-30</td>\n      <td>187</td>\n      <td>FC Barcelona</td>\n    </tr>\n    <tr>\n      <th>V. van Dijk</th>\n      <td>27</td>\n      <td>1991-07-08</td>\n      <td>193</td>\n      <td>Liverpool</td>\n    </tr>\n    <tr>\n      <th>...</th>\n      <td>...</td>\n      <td>...</td>\n      <td>...</td>\n      <td>...</td>\n    </tr>\n    <tr>\n      <th>P. Martin</th>\n      <td>20</td>\n      <td>1999-01-05</td>\n      <td>188</td>\n      <td>Waterford FC</td>\n    </tr>\n    <tr>\n      <th>Shao Shuai</th>\n      <td>22</td>\n      <td>1997-03-10</td>\n      <td>186</td>\n      <td>Beijing Renhe FC</td>\n    </tr>\n    <tr>\n      <th>Zhang Wei</th>\n      <td>19</td>\n      <td>2000-05-16</td>\n      <td>186</td>\n      <td>Hebei China Fortune FC</td>\n    </tr>\n    <tr>\n      <th>Wang Haijian</th>\n      <td>18</td>\n      <td>2000-08-02</td>\n      <td>185</td>\n      <td>Shanghai Greenland Shenhua FC</td>\n    </tr>\n    <tr>\n      <th>Pan Ximing</th>\n      <td>26</td>\n      <td>1993-01-11</td>\n      <td>182</td>\n      <td>Hebei China Fortune FC</td>\n    </tr>\n  </tbody>\n</table>\n<p>9744 rows × 4 columns</p>\n</div>"
     },
     "execution_count": 24,
     "metadata": {},
     "output_type": "execute_result"
    }
   ],
   "source": [
    "df_players.loc[condition, columns]"
   ],
   "metadata": {
    "collapsed": false
   }
  },
  {
   "cell_type": "code",
   "execution_count": 25,
   "outputs": [
    {
     "data": {
      "text/plain": "                                 long_name  age         dob  height_cm   \nshort_name                                                               \nH. Kane                         Harry Kane   25  1993-07-28        188  \\\nD. Alli                      Bamidele Alli   23  1996-04-11        188   \nK. Walker                      Kyle Walker   29  1990-05-28        183   \nM. Rashford                Marcus Rashford   21  1997-10-31        186   \nJ. Stones                      John Stones   25  1994-05-28        188   \n...                                    ...  ...         ...        ...   \nC. Painter                 Cameron Painter   17  2002-02-22        183   \nC. Pattison               Charlie Pattison   18  2000-12-28        185   \nG. Sykes-Kenworthy  George Sykes-Kenworthy   19  1999-10-01        182   \nC. Heath                      Connor Heath   18  2000-12-11        188   \nS. Cartwright            Samuel Cartwright   18  2000-07-08        185   \n\n                    weight_kg nationality                 club  \nshort_name                                                      \nH. Kane                    89     England    Tottenham Hotspur  \nD. Alli                    80     England    Tottenham Hotspur  \nK. Walker                  70     England      Manchester City  \nM. Rashford                70     England    Manchester United  \nJ. Stones                  70     England      Manchester City  \n...                       ...         ...                  ...  \nC. Painter                 75     England         Grimsby Town  \nC. Pattison                70     England   Milton Keynes Dons  \nG. Sykes-Kenworthy         78     England        Bradford City  \nC. Heath                   78     England      Crewe Alexandra  \nS. Cartwright              75     England  Peterborough United  \n\n[897 rows x 7 columns]",
      "text/html": "<div>\n<style scoped>\n    .dataframe tbody tr th:only-of-type {\n        vertical-align: middle;\n    }\n\n    .dataframe tbody tr th {\n        vertical-align: top;\n    }\n\n    .dataframe thead th {\n        text-align: right;\n    }\n</style>\n<table border=\"1\" class=\"dataframe\">\n  <thead>\n    <tr style=\"text-align: right;\">\n      <th></th>\n      <th>long_name</th>\n      <th>age</th>\n      <th>dob</th>\n      <th>height_cm</th>\n      <th>weight_kg</th>\n      <th>nationality</th>\n      <th>club</th>\n    </tr>\n    <tr>\n      <th>short_name</th>\n      <th></th>\n      <th></th>\n      <th></th>\n      <th></th>\n      <th></th>\n      <th></th>\n      <th></th>\n    </tr>\n  </thead>\n  <tbody>\n    <tr>\n      <th>H. Kane</th>\n      <td>Harry Kane</td>\n      <td>25</td>\n      <td>1993-07-28</td>\n      <td>188</td>\n      <td>89</td>\n      <td>England</td>\n      <td>Tottenham Hotspur</td>\n    </tr>\n    <tr>\n      <th>D. Alli</th>\n      <td>Bamidele Alli</td>\n      <td>23</td>\n      <td>1996-04-11</td>\n      <td>188</td>\n      <td>80</td>\n      <td>England</td>\n      <td>Tottenham Hotspur</td>\n    </tr>\n    <tr>\n      <th>K. Walker</th>\n      <td>Kyle Walker</td>\n      <td>29</td>\n      <td>1990-05-28</td>\n      <td>183</td>\n      <td>70</td>\n      <td>England</td>\n      <td>Manchester City</td>\n    </tr>\n    <tr>\n      <th>M. Rashford</th>\n      <td>Marcus Rashford</td>\n      <td>21</td>\n      <td>1997-10-31</td>\n      <td>186</td>\n      <td>70</td>\n      <td>England</td>\n      <td>Manchester United</td>\n    </tr>\n    <tr>\n      <th>J. Stones</th>\n      <td>John Stones</td>\n      <td>25</td>\n      <td>1994-05-28</td>\n      <td>188</td>\n      <td>70</td>\n      <td>England</td>\n      <td>Manchester City</td>\n    </tr>\n    <tr>\n      <th>...</th>\n      <td>...</td>\n      <td>...</td>\n      <td>...</td>\n      <td>...</td>\n      <td>...</td>\n      <td>...</td>\n      <td>...</td>\n    </tr>\n    <tr>\n      <th>C. Painter</th>\n      <td>Cameron Painter</td>\n      <td>17</td>\n      <td>2002-02-22</td>\n      <td>183</td>\n      <td>75</td>\n      <td>England</td>\n      <td>Grimsby Town</td>\n    </tr>\n    <tr>\n      <th>C. Pattison</th>\n      <td>Charlie Pattison</td>\n      <td>18</td>\n      <td>2000-12-28</td>\n      <td>185</td>\n      <td>70</td>\n      <td>England</td>\n      <td>Milton Keynes Dons</td>\n    </tr>\n    <tr>\n      <th>G. Sykes-Kenworthy</th>\n      <td>George Sykes-Kenworthy</td>\n      <td>19</td>\n      <td>1999-10-01</td>\n      <td>182</td>\n      <td>78</td>\n      <td>England</td>\n      <td>Bradford City</td>\n    </tr>\n    <tr>\n      <th>C. Heath</th>\n      <td>Connor Heath</td>\n      <td>18</td>\n      <td>2000-12-11</td>\n      <td>188</td>\n      <td>78</td>\n      <td>England</td>\n      <td>Crewe Alexandra</td>\n    </tr>\n    <tr>\n      <th>S. Cartwright</th>\n      <td>Samuel Cartwright</td>\n      <td>18</td>\n      <td>2000-07-08</td>\n      <td>185</td>\n      <td>75</td>\n      <td>England</td>\n      <td>Peterborough United</td>\n    </tr>\n  </tbody>\n</table>\n<p>897 rows × 7 columns</p>\n</div>"
     },
     "execution_count": 25,
     "metadata": {},
     "output_type": "execute_result"
    }
   ],
   "source": [
    "condition_of_height = df_players['height_cm'] > 180\n",
    "condition_of_nationality = df_players['nationality'] == 'England'\n",
    "\n",
    "df_players.loc[condition_of_height & condition_of_nationality]"
   ],
   "metadata": {
    "collapsed": false
   }
  },
  {
   "cell_type": "code",
   "execution_count": 26,
   "outputs": [
    {
     "data": {
      "text/plain": "                    age         dob  height_cm                 club\nshort_name                                                         \nH. Kane              25  1993-07-28        188    Tottenham Hotspur\nD. Alli              23  1996-04-11        188    Tottenham Hotspur\nK. Walker            29  1990-05-28        183      Manchester City\nM. Rashford          21  1997-10-31        186    Manchester United\nJ. Stones            25  1994-05-28        188      Manchester City\n...                 ...         ...        ...                  ...\nC. Painter           17  2002-02-22        183         Grimsby Town\nC. Pattison          18  2000-12-28        185   Milton Keynes Dons\nG. Sykes-Kenworthy   19  1999-10-01        182        Bradford City\nC. Heath             18  2000-12-11        188      Crewe Alexandra\nS. Cartwright        18  2000-07-08        185  Peterborough United\n\n[897 rows x 4 columns]",
      "text/html": "<div>\n<style scoped>\n    .dataframe tbody tr th:only-of-type {\n        vertical-align: middle;\n    }\n\n    .dataframe tbody tr th {\n        vertical-align: top;\n    }\n\n    .dataframe thead th {\n        text-align: right;\n    }\n</style>\n<table border=\"1\" class=\"dataframe\">\n  <thead>\n    <tr style=\"text-align: right;\">\n      <th></th>\n      <th>age</th>\n      <th>dob</th>\n      <th>height_cm</th>\n      <th>club</th>\n    </tr>\n    <tr>\n      <th>short_name</th>\n      <th></th>\n      <th></th>\n      <th></th>\n      <th></th>\n    </tr>\n  </thead>\n  <tbody>\n    <tr>\n      <th>H. Kane</th>\n      <td>25</td>\n      <td>1993-07-28</td>\n      <td>188</td>\n      <td>Tottenham Hotspur</td>\n    </tr>\n    <tr>\n      <th>D. Alli</th>\n      <td>23</td>\n      <td>1996-04-11</td>\n      <td>188</td>\n      <td>Tottenham Hotspur</td>\n    </tr>\n    <tr>\n      <th>K. Walker</th>\n      <td>29</td>\n      <td>1990-05-28</td>\n      <td>183</td>\n      <td>Manchester City</td>\n    </tr>\n    <tr>\n      <th>M. Rashford</th>\n      <td>21</td>\n      <td>1997-10-31</td>\n      <td>186</td>\n      <td>Manchester United</td>\n    </tr>\n    <tr>\n      <th>J. Stones</th>\n      <td>25</td>\n      <td>1994-05-28</td>\n      <td>188</td>\n      <td>Manchester City</td>\n    </tr>\n    <tr>\n      <th>...</th>\n      <td>...</td>\n      <td>...</td>\n      <td>...</td>\n      <td>...</td>\n    </tr>\n    <tr>\n      <th>C. Painter</th>\n      <td>17</td>\n      <td>2002-02-22</td>\n      <td>183</td>\n      <td>Grimsby Town</td>\n    </tr>\n    <tr>\n      <th>C. Pattison</th>\n      <td>18</td>\n      <td>2000-12-28</td>\n      <td>185</td>\n      <td>Milton Keynes Dons</td>\n    </tr>\n    <tr>\n      <th>G. Sykes-Kenworthy</th>\n      <td>19</td>\n      <td>1999-10-01</td>\n      <td>182</td>\n      <td>Bradford City</td>\n    </tr>\n    <tr>\n      <th>C. Heath</th>\n      <td>18</td>\n      <td>2000-12-11</td>\n      <td>188</td>\n      <td>Crewe Alexandra</td>\n    </tr>\n    <tr>\n      <th>S. Cartwright</th>\n      <td>18</td>\n      <td>2000-07-08</td>\n      <td>185</td>\n      <td>Peterborough United</td>\n    </tr>\n  </tbody>\n</table>\n<p>897 rows × 4 columns</p>\n</div>"
     },
     "execution_count": 26,
     "metadata": {},
     "output_type": "execute_result"
    }
   ],
   "source": [
    "\n",
    "df_players.loc[condition_of_height & condition_of_nationality, columns]"
   ],
   "metadata": {
    "collapsed": false
   }
  },
  {
   "cell_type": "code",
   "execution_count": 27,
   "outputs": [],
   "source": [
    "condition_of_argentina = df_players['nationality'] == \"Argentina\""
   ],
   "metadata": {
    "collapsed": false
   }
  },
  {
   "cell_type": "code",
   "execution_count": 28,
   "outputs": [
    {
     "data": {
      "text/plain": "short_name\nH. Kane          England\nR. Sterling      England\nJ. Sancho        England\nD. Alli          England\nK. Walker        England\n                  ...   \nN. Morley        England\nC. Heath         England\nS. Cartwright    England\nL. Offord        England\nM. Sagaf         England\nName: nationality, Length: 1667, dtype: object"
     },
     "execution_count": 28,
     "metadata": {},
     "output_type": "execute_result"
    }
   ],
   "source": [
    "df_players.loc[condition_of_nationality, 'nationality']"
   ],
   "metadata": {
    "collapsed": false
   }
  },
  {
   "cell_type": "code",
   "execution_count": 29,
   "outputs": [
    {
     "data": {
      "text/plain": "short_name\nL. Messi             Argentina\nCristiano Ronaldo     Portugal\nNeymar Jr               Brazil\nJ. Oblak              Slovenia\nE. Hazard              Belgium\n                       ...    \nShao Shuai            China PR\nXiao Mingjie          China PR\nZhang Wei             China PR\nWang Haijian          China PR\nPan Ximing            China PR\nName: nationality, Length: 18278, dtype: object"
     },
     "execution_count": 29,
     "metadata": {},
     "output_type": "execute_result"
    }
   ],
   "source": [
    "df_players['nationality']"
   ],
   "metadata": {
    "collapsed": false
   }
  },
  {
   "cell_type": "code",
   "execution_count": 30,
   "outputs": [
    {
     "data": {
      "text/plain": "                                             long_name  age         dob   \nshort_name                                                                \nL. Messi                Lionel Andrés Messi Cuccittini   32  1987-06-24  \\\nCristiano Ronaldo  Cristiano Ronaldo dos Santos Aveiro   34  1985-02-05   \nNeymar Jr                Neymar da Silva Santos Junior   27  1992-02-05   \nJ. Oblak                                     Jan Oblak   26  1993-01-07   \nE. Hazard                                  Eden Hazard   28  1991-01-07   \n...                                                ...  ...         ...   \nShao Shuai                                          邵帅   22  1997-03-10   \nXiao Mingjie                              Mingjie Xiao   22  1997-01-01   \nZhang Wei                                           张威   19  2000-05-16   \nWang Haijian                                       汪海健   18  2000-08-02   \nPan Ximing                                         潘喜明   26  1993-01-11   \n\n                   height_cm  weight_kg nationality   \nshort_name                                            \nL. Messi                 170         72   Argentina  \\\nCristiano Ronaldo        187         83    Portugal   \nNeymar Jr                175         68      Brazil   \nJ. Oblak                 188         87    Slovenia   \nE. Hazard                175         74     Belgium   \n...                      ...        ...         ...   \nShao Shuai               186         79    China PR   \nXiao Mingjie             177         66    China PR   \nZhang Wei                186         75    China PR   \nWang Haijian             185         74    China PR   \nPan Ximing               182         78    China PR   \n\n                                            club  \nshort_name                                        \nL. Messi                            FC Barcelona  \nCristiano Ronaldo                       Juventus  \nNeymar Jr                    Paris Saint-Germain  \nJ. Oblak                         Atlético Madrid  \nE. Hazard                            Real Madrid  \n...                                          ...  \nShao Shuai                      Beijing Renhe FC  \nXiao Mingjie                    Shanghai SIPG FC  \nZhang Wei                 Hebei China Fortune FC  \nWang Haijian       Shanghai Greenland Shenhua FC  \nPan Ximing                Hebei China Fortune FC  \n\n[18278 rows x 7 columns]",
      "text/html": "<div>\n<style scoped>\n    .dataframe tbody tr th:only-of-type {\n        vertical-align: middle;\n    }\n\n    .dataframe tbody tr th {\n        vertical-align: top;\n    }\n\n    .dataframe thead th {\n        text-align: right;\n    }\n</style>\n<table border=\"1\" class=\"dataframe\">\n  <thead>\n    <tr style=\"text-align: right;\">\n      <th></th>\n      <th>long_name</th>\n      <th>age</th>\n      <th>dob</th>\n      <th>height_cm</th>\n      <th>weight_kg</th>\n      <th>nationality</th>\n      <th>club</th>\n    </tr>\n    <tr>\n      <th>short_name</th>\n      <th></th>\n      <th></th>\n      <th></th>\n      <th></th>\n      <th></th>\n      <th></th>\n      <th></th>\n    </tr>\n  </thead>\n  <tbody>\n    <tr>\n      <th>L. Messi</th>\n      <td>Lionel Andrés Messi Cuccittini</td>\n      <td>32</td>\n      <td>1987-06-24</td>\n      <td>170</td>\n      <td>72</td>\n      <td>Argentina</td>\n      <td>FC Barcelona</td>\n    </tr>\n    <tr>\n      <th>Cristiano Ronaldo</th>\n      <td>Cristiano Ronaldo dos Santos Aveiro</td>\n      <td>34</td>\n      <td>1985-02-05</td>\n      <td>187</td>\n      <td>83</td>\n      <td>Portugal</td>\n      <td>Juventus</td>\n    </tr>\n    <tr>\n      <th>Neymar Jr</th>\n      <td>Neymar da Silva Santos Junior</td>\n      <td>27</td>\n      <td>1992-02-05</td>\n      <td>175</td>\n      <td>68</td>\n      <td>Brazil</td>\n      <td>Paris Saint-Germain</td>\n    </tr>\n    <tr>\n      <th>J. Oblak</th>\n      <td>Jan Oblak</td>\n      <td>26</td>\n      <td>1993-01-07</td>\n      <td>188</td>\n      <td>87</td>\n      <td>Slovenia</td>\n      <td>Atlético Madrid</td>\n    </tr>\n    <tr>\n      <th>E. Hazard</th>\n      <td>Eden Hazard</td>\n      <td>28</td>\n      <td>1991-01-07</td>\n      <td>175</td>\n      <td>74</td>\n      <td>Belgium</td>\n      <td>Real Madrid</td>\n    </tr>\n    <tr>\n      <th>...</th>\n      <td>...</td>\n      <td>...</td>\n      <td>...</td>\n      <td>...</td>\n      <td>...</td>\n      <td>...</td>\n      <td>...</td>\n    </tr>\n    <tr>\n      <th>Shao Shuai</th>\n      <td>邵帅</td>\n      <td>22</td>\n      <td>1997-03-10</td>\n      <td>186</td>\n      <td>79</td>\n      <td>China PR</td>\n      <td>Beijing Renhe FC</td>\n    </tr>\n    <tr>\n      <th>Xiao Mingjie</th>\n      <td>Mingjie Xiao</td>\n      <td>22</td>\n      <td>1997-01-01</td>\n      <td>177</td>\n      <td>66</td>\n      <td>China PR</td>\n      <td>Shanghai SIPG FC</td>\n    </tr>\n    <tr>\n      <th>Zhang Wei</th>\n      <td>张威</td>\n      <td>19</td>\n      <td>2000-05-16</td>\n      <td>186</td>\n      <td>75</td>\n      <td>China PR</td>\n      <td>Hebei China Fortune FC</td>\n    </tr>\n    <tr>\n      <th>Wang Haijian</th>\n      <td>汪海健</td>\n      <td>18</td>\n      <td>2000-08-02</td>\n      <td>185</td>\n      <td>74</td>\n      <td>China PR</td>\n      <td>Shanghai Greenland Shenhua FC</td>\n    </tr>\n    <tr>\n      <th>Pan Ximing</th>\n      <td>潘喜明</td>\n      <td>26</td>\n      <td>1993-01-11</td>\n      <td>182</td>\n      <td>78</td>\n      <td>China PR</td>\n      <td>Hebei China Fortune FC</td>\n    </tr>\n  </tbody>\n</table>\n<p>18278 rows × 7 columns</p>\n</div>"
     },
     "execution_count": 30,
     "metadata": {},
     "output_type": "execute_result"
    }
   ],
   "source": [
    "df_players"
   ],
   "metadata": {
    "collapsed": false
   }
  },
  {
   "cell_type": "code",
   "execution_count": 31,
   "outputs": [
    {
     "data": {
      "text/plain": "170"
     },
     "execution_count": 31,
     "metadata": {},
     "output_type": "execute_result"
    }
   ],
   "source": [
    "df_players.iloc[0, 3]"
   ],
   "metadata": {
    "collapsed": false
   }
  },
  {
   "cell_type": "code",
   "execution_count": 32,
   "outputs": [
    {
     "data": {
      "text/plain": "short_name\nL. Messi             170\nCristiano Ronaldo    187\nNeymar Jr            175\nJ. Oblak             188\nE. Hazard            175\n                    ... \nShao Shuai           186\nXiao Mingjie         177\nZhang Wei            186\nWang Haijian         185\nPan Ximing           182\nName: height_cm, Length: 18278, dtype: int64"
     },
     "execution_count": 32,
     "metadata": {},
     "output_type": "execute_result"
    }
   ],
   "source": [
    "df_players.iloc[:, 3]"
   ],
   "metadata": {
    "collapsed": false
   }
  },
  {
   "cell_type": "code",
   "execution_count": 33,
   "outputs": [
    {
     "data": {
      "text/plain": "long_name      Lionel Andrés Messi Cuccittini\nage                                        32\ndob                                1987-06-24\nheight_cm                                 170\nweight_kg                                  72\nnationality                         Argentina\nclub                             FC Barcelona\nName: L. Messi, dtype: object"
     },
     "execution_count": 33,
     "metadata": {},
     "output_type": "execute_result"
    }
   ],
   "source": [
    "df_players.iloc[0, :]"
   ],
   "metadata": {
    "collapsed": false
   }
  },
  {
   "cell_type": "code",
   "execution_count": 34,
   "outputs": [
    {
     "data": {
      "text/plain": "                                             long_name  age         dob   \nshort_name                                                                \nL. Messi                Lionel Andrés Messi Cuccittini   32  1987-06-24  \\\nCristiano Ronaldo  Cristiano Ronaldo dos Santos Aveiro   34  1985-02-05   \nNeymar Jr                Neymar da Silva Santos Junior   27  1992-02-05   \nJ. Oblak                                     Jan Oblak   26  1993-01-07   \nE. Hazard                                  Eden Hazard   28  1991-01-07   \n...                                                ...  ...         ...   \nShao Shuai                                          邵帅   22  1997-03-10   \nXiao Mingjie                              Mingjie Xiao   22  1997-01-01   \nZhang Wei                                           张威   19  2000-05-16   \nWang Haijian                                       汪海健   18  2000-08-02   \nPan Ximing                                         潘喜明   26  1993-01-11   \n\n                   height_cm  weight_kg nationality   \nshort_name                                            \nL. Messi                 170         72   Argentina  \\\nCristiano Ronaldo        187         83    Portugal   \nNeymar Jr                175         68      Brazil   \nJ. Oblak                 188         87    Slovenia   \nE. Hazard                175         74     Belgium   \n...                      ...        ...         ...   \nShao Shuai               186         79    China PR   \nXiao Mingjie             177         66    China PR   \nZhang Wei                186         75    China PR   \nWang Haijian             185         74    China PR   \nPan Ximing               182         78    China PR   \n\n                                            club  \nshort_name                                        \nL. Messi                            FC Barcelona  \nCristiano Ronaldo                       Juventus  \nNeymar Jr                    Paris Saint-Germain  \nJ. Oblak                         Atlético Madrid  \nE. Hazard                            Real Madrid  \n...                                          ...  \nShao Shuai                      Beijing Renhe FC  \nXiao Mingjie                    Shanghai SIPG FC  \nZhang Wei                 Hebei China Fortune FC  \nWang Haijian       Shanghai Greenland Shenhua FC  \nPan Ximing                Hebei China Fortune FC  \n\n[18278 rows x 7 columns]",
      "text/html": "<div>\n<style scoped>\n    .dataframe tbody tr th:only-of-type {\n        vertical-align: middle;\n    }\n\n    .dataframe tbody tr th {\n        vertical-align: top;\n    }\n\n    .dataframe thead th {\n        text-align: right;\n    }\n</style>\n<table border=\"1\" class=\"dataframe\">\n  <thead>\n    <tr style=\"text-align: right;\">\n      <th></th>\n      <th>long_name</th>\n      <th>age</th>\n      <th>dob</th>\n      <th>height_cm</th>\n      <th>weight_kg</th>\n      <th>nationality</th>\n      <th>club</th>\n    </tr>\n    <tr>\n      <th>short_name</th>\n      <th></th>\n      <th></th>\n      <th></th>\n      <th></th>\n      <th></th>\n      <th></th>\n      <th></th>\n    </tr>\n  </thead>\n  <tbody>\n    <tr>\n      <th>L. Messi</th>\n      <td>Lionel Andrés Messi Cuccittini</td>\n      <td>32</td>\n      <td>1987-06-24</td>\n      <td>170</td>\n      <td>72</td>\n      <td>Argentina</td>\n      <td>FC Barcelona</td>\n    </tr>\n    <tr>\n      <th>Cristiano Ronaldo</th>\n      <td>Cristiano Ronaldo dos Santos Aveiro</td>\n      <td>34</td>\n      <td>1985-02-05</td>\n      <td>187</td>\n      <td>83</td>\n      <td>Portugal</td>\n      <td>Juventus</td>\n    </tr>\n    <tr>\n      <th>Neymar Jr</th>\n      <td>Neymar da Silva Santos Junior</td>\n      <td>27</td>\n      <td>1992-02-05</td>\n      <td>175</td>\n      <td>68</td>\n      <td>Brazil</td>\n      <td>Paris Saint-Germain</td>\n    </tr>\n    <tr>\n      <th>J. Oblak</th>\n      <td>Jan Oblak</td>\n      <td>26</td>\n      <td>1993-01-07</td>\n      <td>188</td>\n      <td>87</td>\n      <td>Slovenia</td>\n      <td>Atlético Madrid</td>\n    </tr>\n    <tr>\n      <th>E. Hazard</th>\n      <td>Eden Hazard</td>\n      <td>28</td>\n      <td>1991-01-07</td>\n      <td>175</td>\n      <td>74</td>\n      <td>Belgium</td>\n      <td>Real Madrid</td>\n    </tr>\n    <tr>\n      <th>...</th>\n      <td>...</td>\n      <td>...</td>\n      <td>...</td>\n      <td>...</td>\n      <td>...</td>\n      <td>...</td>\n      <td>...</td>\n    </tr>\n    <tr>\n      <th>Shao Shuai</th>\n      <td>邵帅</td>\n      <td>22</td>\n      <td>1997-03-10</td>\n      <td>186</td>\n      <td>79</td>\n      <td>China PR</td>\n      <td>Beijing Renhe FC</td>\n    </tr>\n    <tr>\n      <th>Xiao Mingjie</th>\n      <td>Mingjie Xiao</td>\n      <td>22</td>\n      <td>1997-01-01</td>\n      <td>177</td>\n      <td>66</td>\n      <td>China PR</td>\n      <td>Shanghai SIPG FC</td>\n    </tr>\n    <tr>\n      <th>Zhang Wei</th>\n      <td>张威</td>\n      <td>19</td>\n      <td>2000-05-16</td>\n      <td>186</td>\n      <td>75</td>\n      <td>China PR</td>\n      <td>Hebei China Fortune FC</td>\n    </tr>\n    <tr>\n      <th>Wang Haijian</th>\n      <td>汪海健</td>\n      <td>18</td>\n      <td>2000-08-02</td>\n      <td>185</td>\n      <td>74</td>\n      <td>China PR</td>\n      <td>Shanghai Greenland Shenhua FC</td>\n    </tr>\n    <tr>\n      <th>Pan Ximing</th>\n      <td>潘喜明</td>\n      <td>26</td>\n      <td>1993-01-11</td>\n      <td>182</td>\n      <td>78</td>\n      <td>China PR</td>\n      <td>Hebei China Fortune FC</td>\n    </tr>\n  </tbody>\n</table>\n<p>18278 rows × 7 columns</p>\n</div>"
     },
     "execution_count": 34,
     "metadata": {},
     "output_type": "execute_result"
    }
   ],
   "source": [
    "df_players"
   ],
   "metadata": {
    "collapsed": false
   }
  },
  {
   "cell_type": "code",
   "execution_count": 38,
   "outputs": [],
   "source": [
    "# import numpy as np\n",
    "df_players.iloc[-1, :] = np.nan"
   ],
   "metadata": {
    "collapsed": false
   }
  },
  {
   "cell_type": "code",
   "execution_count": 40,
   "outputs": [
    {
     "data": {
      "text/plain": "                                             long_name   age         dob   \nshort_name                                                                 \nL. Messi                Lionel Andrés Messi Cuccittini  32.0  1987-06-24  \\\nCristiano Ronaldo  Cristiano Ronaldo dos Santos Aveiro  34.0  1985-02-05   \nNeymar Jr                Neymar da Silva Santos Junior  27.0  1992-02-05   \nJ. Oblak                                     Jan Oblak  26.0  1993-01-07   \nE. Hazard                                  Eden Hazard  28.0  1991-01-07   \n...                                                ...   ...         ...   \nShao Shuai                                          邵帅  22.0  1997-03-10   \nXiao Mingjie                              Mingjie Xiao  22.0  1997-01-01   \nZhang Wei                                           张威  19.0  2000-05-16   \nWang Haijian                                       汪海健  18.0  2000-08-02   \nPan Ximing                                         NaN   NaN         NaN   \n\n                   height_cm  weight_kg nationality   \nshort_name                                            \nL. Messi               170.0       72.0   Argentina  \\\nCristiano Ronaldo      187.0       83.0    Portugal   \nNeymar Jr              175.0       68.0      Brazil   \nJ. Oblak               188.0       87.0    Slovenia   \nE. Hazard              175.0       74.0     Belgium   \n...                      ...        ...         ...   \nShao Shuai             186.0       79.0    China PR   \nXiao Mingjie           177.0       66.0    China PR   \nZhang Wei              186.0       75.0    China PR   \nWang Haijian           185.0       74.0    China PR   \nPan Ximing               NaN        NaN         NaN   \n\n                                            club  \nshort_name                                        \nL. Messi                            FC Barcelona  \nCristiano Ronaldo                       Juventus  \nNeymar Jr                    Paris Saint-Germain  \nJ. Oblak                         Atlético Madrid  \nE. Hazard                            Real Madrid  \n...                                          ...  \nShao Shuai                      Beijing Renhe FC  \nXiao Mingjie                    Shanghai SIPG FC  \nZhang Wei                 Hebei China Fortune FC  \nWang Haijian       Shanghai Greenland Shenhua FC  \nPan Ximing                                   NaN  \n\n[18278 rows x 7 columns]",
      "text/html": "<div>\n<style scoped>\n    .dataframe tbody tr th:only-of-type {\n        vertical-align: middle;\n    }\n\n    .dataframe tbody tr th {\n        vertical-align: top;\n    }\n\n    .dataframe thead th {\n        text-align: right;\n    }\n</style>\n<table border=\"1\" class=\"dataframe\">\n  <thead>\n    <tr style=\"text-align: right;\">\n      <th></th>\n      <th>long_name</th>\n      <th>age</th>\n      <th>dob</th>\n      <th>height_cm</th>\n      <th>weight_kg</th>\n      <th>nationality</th>\n      <th>club</th>\n    </tr>\n    <tr>\n      <th>short_name</th>\n      <th></th>\n      <th></th>\n      <th></th>\n      <th></th>\n      <th></th>\n      <th></th>\n      <th></th>\n    </tr>\n  </thead>\n  <tbody>\n    <tr>\n      <th>L. Messi</th>\n      <td>Lionel Andrés Messi Cuccittini</td>\n      <td>32.0</td>\n      <td>1987-06-24</td>\n      <td>170.0</td>\n      <td>72.0</td>\n      <td>Argentina</td>\n      <td>FC Barcelona</td>\n    </tr>\n    <tr>\n      <th>Cristiano Ronaldo</th>\n      <td>Cristiano Ronaldo dos Santos Aveiro</td>\n      <td>34.0</td>\n      <td>1985-02-05</td>\n      <td>187.0</td>\n      <td>83.0</td>\n      <td>Portugal</td>\n      <td>Juventus</td>\n    </tr>\n    <tr>\n      <th>Neymar Jr</th>\n      <td>Neymar da Silva Santos Junior</td>\n      <td>27.0</td>\n      <td>1992-02-05</td>\n      <td>175.0</td>\n      <td>68.0</td>\n      <td>Brazil</td>\n      <td>Paris Saint-Germain</td>\n    </tr>\n    <tr>\n      <th>J. Oblak</th>\n      <td>Jan Oblak</td>\n      <td>26.0</td>\n      <td>1993-01-07</td>\n      <td>188.0</td>\n      <td>87.0</td>\n      <td>Slovenia</td>\n      <td>Atlético Madrid</td>\n    </tr>\n    <tr>\n      <th>E. Hazard</th>\n      <td>Eden Hazard</td>\n      <td>28.0</td>\n      <td>1991-01-07</td>\n      <td>175.0</td>\n      <td>74.0</td>\n      <td>Belgium</td>\n      <td>Real Madrid</td>\n    </tr>\n    <tr>\n      <th>...</th>\n      <td>...</td>\n      <td>...</td>\n      <td>...</td>\n      <td>...</td>\n      <td>...</td>\n      <td>...</td>\n      <td>...</td>\n    </tr>\n    <tr>\n      <th>Shao Shuai</th>\n      <td>邵帅</td>\n      <td>22.0</td>\n      <td>1997-03-10</td>\n      <td>186.0</td>\n      <td>79.0</td>\n      <td>China PR</td>\n      <td>Beijing Renhe FC</td>\n    </tr>\n    <tr>\n      <th>Xiao Mingjie</th>\n      <td>Mingjie Xiao</td>\n      <td>22.0</td>\n      <td>1997-01-01</td>\n      <td>177.0</td>\n      <td>66.0</td>\n      <td>China PR</td>\n      <td>Shanghai SIPG FC</td>\n    </tr>\n    <tr>\n      <th>Zhang Wei</th>\n      <td>张威</td>\n      <td>19.0</td>\n      <td>2000-05-16</td>\n      <td>186.0</td>\n      <td>75.0</td>\n      <td>China PR</td>\n      <td>Hebei China Fortune FC</td>\n    </tr>\n    <tr>\n      <th>Wang Haijian</th>\n      <td>汪海健</td>\n      <td>18.0</td>\n      <td>2000-08-02</td>\n      <td>185.0</td>\n      <td>74.0</td>\n      <td>China PR</td>\n      <td>Shanghai Greenland Shenhua FC</td>\n    </tr>\n    <tr>\n      <th>Pan Ximing</th>\n      <td>NaN</td>\n      <td>NaN</td>\n      <td>NaN</td>\n      <td>NaN</td>\n      <td>NaN</td>\n      <td>NaN</td>\n      <td>NaN</td>\n    </tr>\n  </tbody>\n</table>\n<p>18278 rows × 7 columns</p>\n</div>"
     },
     "execution_count": 40,
     "metadata": {},
     "output_type": "execute_result"
    }
   ],
   "source": [
    "df_players"
   ],
   "metadata": {
    "collapsed": false
   }
  },
  {
   "cell_type": "code",
   "execution_count": 42,
   "outputs": [
    {
     "data": {
      "text/plain": "                       long_name   age         dob  height_cm  weight_kg   \nshort_name                                                                 \nB. Foster             Ben Foster  36.0  1983-04-03      193.0       90.0  \\\nJ. Defoe          Jermain  Defoe  36.0  1982-10-07      171.0       65.0   \nP. Jagielka        Phil Jagielka  36.0  1982-08-17      180.0       87.0   \nL. Grant               Lee Grant  36.0  1983-01-27      193.0       83.0   \nJ. Coppinger     James Coppinger  38.0  1981-01-10      170.0       65.0   \nJ. Bothroyd         Jay Bothroyd  37.0  1982-05-07      190.0       89.0   \nA. Akinfenwa   Adebayo Akinfenwa  37.0  1982-05-10      178.0      110.0   \nL. Varney            Luke Varney  36.0  1982-09-28      180.0       70.0   \nD. Perkins         David Perkins  37.0  1982-06-21      168.0       76.0   \nN. Bishop            Neal Bishop  37.0  1981-08-07      186.0       81.0   \nP. Clarke           Peter Clarke  37.0  1982-01-03      183.0       83.0   \nA. Wilbraham     Aaron Wilbraham  39.0  1979-10-21      191.0       80.0   \nM. Richards        Marc Richards  36.0  1982-07-08      180.0       81.0   \nS. Bywater       Stephen Bywater  38.0  1981-06-07      185.0       81.0   \nC. Woodman    Craig Alan Woodman  36.0  1982-12-22      175.0       68.0   \nM. Rose             Michael Rose  36.0  1982-07-28      180.0       78.0   \nD. Bulman          Dannie Bulman  40.0  1979-01-24      175.0       75.0   \nJ. Ibehre            Jabo Ibehre  36.0  1983-01-28      194.0       92.0   \nS. Russell           Sam Russell  36.0  1982-10-04      183.0       70.0   \nK. Ellison         Kevin Ellison  40.0  1979-02-23      180.0       76.0   \nJ. McCombe        Jamie  McCombe  36.0  1983-01-01      196.0       79.0   \n\n             nationality                        club  \nshort_name                                            \nB. Foster        England                     Watford  \nJ. Defoe         England                  Rangers FC  \nP. Jagielka      England            Sheffield United  \nL. Grant         England           Manchester United  \nJ. Coppinger     England            Doncaster Rovers  \nJ. Bothroyd      England  Hokkaido Consadole Sapporo  \nA. Akinfenwa     England           Wycombe Wanderers  \nL. Varney        England             Cheltenham Town  \nD. Perkins       England             Tranmere Rovers  \nN. Bishop        England              Mansfield Town  \nP. Clarke        England              Fleetwood Town  \nA. Wilbraham     England                    Rochdale  \nM. Richards      England            Cambridge United  \nS. Bywater       England               Burton Albion  \nC. Woodman       England                 Exeter City  \nM. Rose          England           Macclesfield Town  \nD. Bulman        England                Crawley Town  \nJ. Ibehre        England            Cambridge United  \nS. Russell       England                Grimsby Town  \nK. Ellison       England                   Morecambe  \nJ. McCombe       England                Lincoln City  ",
      "text/html": "<div>\n<style scoped>\n    .dataframe tbody tr th:only-of-type {\n        vertical-align: middle;\n    }\n\n    .dataframe tbody tr th {\n        vertical-align: top;\n    }\n\n    .dataframe thead th {\n        text-align: right;\n    }\n</style>\n<table border=\"1\" class=\"dataframe\">\n  <thead>\n    <tr style=\"text-align: right;\">\n      <th></th>\n      <th>long_name</th>\n      <th>age</th>\n      <th>dob</th>\n      <th>height_cm</th>\n      <th>weight_kg</th>\n      <th>nationality</th>\n      <th>club</th>\n    </tr>\n    <tr>\n      <th>short_name</th>\n      <th></th>\n      <th></th>\n      <th></th>\n      <th></th>\n      <th></th>\n      <th></th>\n      <th></th>\n    </tr>\n  </thead>\n  <tbody>\n    <tr>\n      <th>B. Foster</th>\n      <td>Ben Foster</td>\n      <td>36.0</td>\n      <td>1983-04-03</td>\n      <td>193.0</td>\n      <td>90.0</td>\n      <td>England</td>\n      <td>Watford</td>\n    </tr>\n    <tr>\n      <th>J. Defoe</th>\n      <td>Jermain  Defoe</td>\n      <td>36.0</td>\n      <td>1982-10-07</td>\n      <td>171.0</td>\n      <td>65.0</td>\n      <td>England</td>\n      <td>Rangers FC</td>\n    </tr>\n    <tr>\n      <th>P. Jagielka</th>\n      <td>Phil Jagielka</td>\n      <td>36.0</td>\n      <td>1982-08-17</td>\n      <td>180.0</td>\n      <td>87.0</td>\n      <td>England</td>\n      <td>Sheffield United</td>\n    </tr>\n    <tr>\n      <th>L. Grant</th>\n      <td>Lee Grant</td>\n      <td>36.0</td>\n      <td>1983-01-27</td>\n      <td>193.0</td>\n      <td>83.0</td>\n      <td>England</td>\n      <td>Manchester United</td>\n    </tr>\n    <tr>\n      <th>J. Coppinger</th>\n      <td>James Coppinger</td>\n      <td>38.0</td>\n      <td>1981-01-10</td>\n      <td>170.0</td>\n      <td>65.0</td>\n      <td>England</td>\n      <td>Doncaster Rovers</td>\n    </tr>\n    <tr>\n      <th>J. Bothroyd</th>\n      <td>Jay Bothroyd</td>\n      <td>37.0</td>\n      <td>1982-05-07</td>\n      <td>190.0</td>\n      <td>89.0</td>\n      <td>England</td>\n      <td>Hokkaido Consadole Sapporo</td>\n    </tr>\n    <tr>\n      <th>A. Akinfenwa</th>\n      <td>Adebayo Akinfenwa</td>\n      <td>37.0</td>\n      <td>1982-05-10</td>\n      <td>178.0</td>\n      <td>110.0</td>\n      <td>England</td>\n      <td>Wycombe Wanderers</td>\n    </tr>\n    <tr>\n      <th>L. Varney</th>\n      <td>Luke Varney</td>\n      <td>36.0</td>\n      <td>1982-09-28</td>\n      <td>180.0</td>\n      <td>70.0</td>\n      <td>England</td>\n      <td>Cheltenham Town</td>\n    </tr>\n    <tr>\n      <th>D. Perkins</th>\n      <td>David Perkins</td>\n      <td>37.0</td>\n      <td>1982-06-21</td>\n      <td>168.0</td>\n      <td>76.0</td>\n      <td>England</td>\n      <td>Tranmere Rovers</td>\n    </tr>\n    <tr>\n      <th>N. Bishop</th>\n      <td>Neal Bishop</td>\n      <td>37.0</td>\n      <td>1981-08-07</td>\n      <td>186.0</td>\n      <td>81.0</td>\n      <td>England</td>\n      <td>Mansfield Town</td>\n    </tr>\n    <tr>\n      <th>P. Clarke</th>\n      <td>Peter Clarke</td>\n      <td>37.0</td>\n      <td>1982-01-03</td>\n      <td>183.0</td>\n      <td>83.0</td>\n      <td>England</td>\n      <td>Fleetwood Town</td>\n    </tr>\n    <tr>\n      <th>A. Wilbraham</th>\n      <td>Aaron Wilbraham</td>\n      <td>39.0</td>\n      <td>1979-10-21</td>\n      <td>191.0</td>\n      <td>80.0</td>\n      <td>England</td>\n      <td>Rochdale</td>\n    </tr>\n    <tr>\n      <th>M. Richards</th>\n      <td>Marc Richards</td>\n      <td>36.0</td>\n      <td>1982-07-08</td>\n      <td>180.0</td>\n      <td>81.0</td>\n      <td>England</td>\n      <td>Cambridge United</td>\n    </tr>\n    <tr>\n      <th>S. Bywater</th>\n      <td>Stephen Bywater</td>\n      <td>38.0</td>\n      <td>1981-06-07</td>\n      <td>185.0</td>\n      <td>81.0</td>\n      <td>England</td>\n      <td>Burton Albion</td>\n    </tr>\n    <tr>\n      <th>C. Woodman</th>\n      <td>Craig Alan Woodman</td>\n      <td>36.0</td>\n      <td>1982-12-22</td>\n      <td>175.0</td>\n      <td>68.0</td>\n      <td>England</td>\n      <td>Exeter City</td>\n    </tr>\n    <tr>\n      <th>M. Rose</th>\n      <td>Michael Rose</td>\n      <td>36.0</td>\n      <td>1982-07-28</td>\n      <td>180.0</td>\n      <td>78.0</td>\n      <td>England</td>\n      <td>Macclesfield Town</td>\n    </tr>\n    <tr>\n      <th>D. Bulman</th>\n      <td>Dannie Bulman</td>\n      <td>40.0</td>\n      <td>1979-01-24</td>\n      <td>175.0</td>\n      <td>75.0</td>\n      <td>England</td>\n      <td>Crawley Town</td>\n    </tr>\n    <tr>\n      <th>J. Ibehre</th>\n      <td>Jabo Ibehre</td>\n      <td>36.0</td>\n      <td>1983-01-28</td>\n      <td>194.0</td>\n      <td>92.0</td>\n      <td>England</td>\n      <td>Cambridge United</td>\n    </tr>\n    <tr>\n      <th>S. Russell</th>\n      <td>Sam Russell</td>\n      <td>36.0</td>\n      <td>1982-10-04</td>\n      <td>183.0</td>\n      <td>70.0</td>\n      <td>England</td>\n      <td>Grimsby Town</td>\n    </tr>\n    <tr>\n      <th>K. Ellison</th>\n      <td>Kevin Ellison</td>\n      <td>40.0</td>\n      <td>1979-02-23</td>\n      <td>180.0</td>\n      <td>76.0</td>\n      <td>England</td>\n      <td>Morecambe</td>\n    </tr>\n    <tr>\n      <th>J. McCombe</th>\n      <td>Jamie  McCombe</td>\n      <td>36.0</td>\n      <td>1983-01-01</td>\n      <td>196.0</td>\n      <td>79.0</td>\n      <td>England</td>\n      <td>Lincoln City</td>\n    </tr>\n  </tbody>\n</table>\n</div>"
     },
     "execution_count": 42,
     "metadata": {},
     "output_type": "execute_result"
    }
   ],
   "source": [
    "con1 = df_players['age'] > 35\n",
    "con2 = df_players['nationality'] == \"England\"\n",
    "df_players.loc[con1 & con2]"
   ],
   "metadata": {
    "collapsed": false
   }
  },
  {
   "cell_type": "code",
   "execution_count": 43,
   "outputs": [],
   "source": [
    "condition = df_players['height_cm'] > 200\n",
    "columns = ['age', 'height_cm', 'dob', 'weight']\n",
    "df_players.loc[condition, columns] = 0"
   ],
   "metadata": {
    "collapsed": false
   }
  },
  {
   "cell_type": "code",
   "execution_count": 44,
   "outputs": [
    {
     "data": {
      "text/plain": "                                             long_name   age         dob   \nshort_name                                                                 \nL. Messi                Lionel Andrés Messi Cuccittini  32.0  1987-06-24  \\\nCristiano Ronaldo  Cristiano Ronaldo dos Santos Aveiro  34.0  1985-02-05   \nNeymar Jr                Neymar da Silva Santos Junior  27.0  1992-02-05   \nJ. Oblak                                     Jan Oblak  26.0  1993-01-07   \nE. Hazard                                  Eden Hazard  28.0  1991-01-07   \n...                                                ...   ...         ...   \nShao Shuai                                          邵帅  22.0  1997-03-10   \nXiao Mingjie                              Mingjie Xiao  22.0  1997-01-01   \nZhang Wei                                           张威  19.0  2000-05-16   \nWang Haijian                                       汪海健  18.0  2000-08-02   \nPan Ximing                                         NaN   NaN         NaN   \n\n                   height_cm  weight_kg nationality   \nshort_name                                            \nL. Messi               170.0       72.0   Argentina  \\\nCristiano Ronaldo      187.0       83.0    Portugal   \nNeymar Jr              175.0       68.0      Brazil   \nJ. Oblak               188.0       87.0    Slovenia   \nE. Hazard              175.0       74.0     Belgium   \n...                      ...        ...         ...   \nShao Shuai             186.0       79.0    China PR   \nXiao Mingjie           177.0       66.0    China PR   \nZhang Wei              186.0       75.0    China PR   \nWang Haijian           185.0       74.0    China PR   \nPan Ximing               NaN        NaN         NaN   \n\n                                            club  weight  \nshort_name                                                \nL. Messi                            FC Barcelona     NaN  \nCristiano Ronaldo                       Juventus     NaN  \nNeymar Jr                    Paris Saint-Germain     NaN  \nJ. Oblak                         Atlético Madrid     NaN  \nE. Hazard                            Real Madrid     NaN  \n...                                          ...     ...  \nShao Shuai                      Beijing Renhe FC     NaN  \nXiao Mingjie                    Shanghai SIPG FC     NaN  \nZhang Wei                 Hebei China Fortune FC     NaN  \nWang Haijian       Shanghai Greenland Shenhua FC     NaN  \nPan Ximing                                   NaN     NaN  \n\n[18278 rows x 8 columns]",
      "text/html": "<div>\n<style scoped>\n    .dataframe tbody tr th:only-of-type {\n        vertical-align: middle;\n    }\n\n    .dataframe tbody tr th {\n        vertical-align: top;\n    }\n\n    .dataframe thead th {\n        text-align: right;\n    }\n</style>\n<table border=\"1\" class=\"dataframe\">\n  <thead>\n    <tr style=\"text-align: right;\">\n      <th></th>\n      <th>long_name</th>\n      <th>age</th>\n      <th>dob</th>\n      <th>height_cm</th>\n      <th>weight_kg</th>\n      <th>nationality</th>\n      <th>club</th>\n      <th>weight</th>\n    </tr>\n    <tr>\n      <th>short_name</th>\n      <th></th>\n      <th></th>\n      <th></th>\n      <th></th>\n      <th></th>\n      <th></th>\n      <th></th>\n      <th></th>\n    </tr>\n  </thead>\n  <tbody>\n    <tr>\n      <th>L. Messi</th>\n      <td>Lionel Andrés Messi Cuccittini</td>\n      <td>32.0</td>\n      <td>1987-06-24</td>\n      <td>170.0</td>\n      <td>72.0</td>\n      <td>Argentina</td>\n      <td>FC Barcelona</td>\n      <td>NaN</td>\n    </tr>\n    <tr>\n      <th>Cristiano Ronaldo</th>\n      <td>Cristiano Ronaldo dos Santos Aveiro</td>\n      <td>34.0</td>\n      <td>1985-02-05</td>\n      <td>187.0</td>\n      <td>83.0</td>\n      <td>Portugal</td>\n      <td>Juventus</td>\n      <td>NaN</td>\n    </tr>\n    <tr>\n      <th>Neymar Jr</th>\n      <td>Neymar da Silva Santos Junior</td>\n      <td>27.0</td>\n      <td>1992-02-05</td>\n      <td>175.0</td>\n      <td>68.0</td>\n      <td>Brazil</td>\n      <td>Paris Saint-Germain</td>\n      <td>NaN</td>\n    </tr>\n    <tr>\n      <th>J. Oblak</th>\n      <td>Jan Oblak</td>\n      <td>26.0</td>\n      <td>1993-01-07</td>\n      <td>188.0</td>\n      <td>87.0</td>\n      <td>Slovenia</td>\n      <td>Atlético Madrid</td>\n      <td>NaN</td>\n    </tr>\n    <tr>\n      <th>E. Hazard</th>\n      <td>Eden Hazard</td>\n      <td>28.0</td>\n      <td>1991-01-07</td>\n      <td>175.0</td>\n      <td>74.0</td>\n      <td>Belgium</td>\n      <td>Real Madrid</td>\n      <td>NaN</td>\n    </tr>\n    <tr>\n      <th>...</th>\n      <td>...</td>\n      <td>...</td>\n      <td>...</td>\n      <td>...</td>\n      <td>...</td>\n      <td>...</td>\n      <td>...</td>\n      <td>...</td>\n    </tr>\n    <tr>\n      <th>Shao Shuai</th>\n      <td>邵帅</td>\n      <td>22.0</td>\n      <td>1997-03-10</td>\n      <td>186.0</td>\n      <td>79.0</td>\n      <td>China PR</td>\n      <td>Beijing Renhe FC</td>\n      <td>NaN</td>\n    </tr>\n    <tr>\n      <th>Xiao Mingjie</th>\n      <td>Mingjie Xiao</td>\n      <td>22.0</td>\n      <td>1997-01-01</td>\n      <td>177.0</td>\n      <td>66.0</td>\n      <td>China PR</td>\n      <td>Shanghai SIPG FC</td>\n      <td>NaN</td>\n    </tr>\n    <tr>\n      <th>Zhang Wei</th>\n      <td>张威</td>\n      <td>19.0</td>\n      <td>2000-05-16</td>\n      <td>186.0</td>\n      <td>75.0</td>\n      <td>China PR</td>\n      <td>Hebei China Fortune FC</td>\n      <td>NaN</td>\n    </tr>\n    <tr>\n      <th>Wang Haijian</th>\n      <td>汪海健</td>\n      <td>18.0</td>\n      <td>2000-08-02</td>\n      <td>185.0</td>\n      <td>74.0</td>\n      <td>China PR</td>\n      <td>Shanghai Greenland Shenhua FC</td>\n      <td>NaN</td>\n    </tr>\n    <tr>\n      <th>Pan Ximing</th>\n      <td>NaN</td>\n      <td>NaN</td>\n      <td>NaN</td>\n      <td>NaN</td>\n      <td>NaN</td>\n      <td>NaN</td>\n      <td>NaN</td>\n      <td>NaN</td>\n    </tr>\n  </tbody>\n</table>\n<p>18278 rows × 8 columns</p>\n</div>"
     },
     "execution_count": 44,
     "metadata": {},
     "output_type": "execute_result"
    }
   ],
   "source": [
    "df_players"
   ],
   "metadata": {
    "collapsed": false
   }
  },
  {
   "cell_type": "code",
   "execution_count": 46,
   "outputs": [
    {
     "data": {
      "text/plain": "                                         long_name  age dob  height_cm   \nshort_name                                                               \nL. Kalinić                           Lovre Kalinić  0.0   0        0.0  \\\nF. Forster                          Fraser Forster  0.0   0        0.0   \nC. Pantilimon                    Costel Pantilimon  0.0   0        0.0   \nK. Letica                             Karlo Letica  0.0   0        0.0   \nP. Onuachu                      Paul Ebere Onuachu  0.0   0        0.0   \nH. Veerman                            Henk Veerman  0.0   0        0.0   \nV. Milinković-Savić         Vanja Milinković-Savić  0.0   0        0.0   \nL. Traoré                            Lacina Traoré  0.0   0        0.0   \nA. Vukotić                      Aleksandar Vukotić  0.0   0        0.0   \nA. Sjöberg                            Axel Sjöberg  0.0   0        0.0   \nK. Scherpen                         Kjell Scherpen  0.0   0        0.0   \nA. Ba                                    Abdoul Ba  0.0   0        0.0   \nS. Makienok          Simon Makienok Christoffersen  0.0   0        0.0   \nT. Holý                                 Tomáš Holý  0.0   0        0.0   \nE. Johansen                  Eirik Holmen Johansen  0.0   0        0.0   \nA. Chapman                           Aaron Chapman  0.0   0        0.0   \nM. Qvist                         Mikkel Mena Qvist  0.0   0        0.0   \nR. Laidlaw                            Ross Laidlaw  0.0   0        0.0   \nK. Athiu                               Kenny Athiu  0.0   0        0.0   \nS. Brolin                            Samuel Brolin  0.0   0        0.0   \nM. Casey                                Matt Casey  0.0   0        0.0   \nD. Thiam                               Demba Thiam  0.0   0        0.0   \n\n                     weight_kg     nationality                 club  weight  \nshort_name                                                                   \nL. Kalinić                99.0         Croatia          Aston Villa     0.0  \nF. Forster                93.0         England          Southampton     0.0  \nC. Pantilimon             96.0         Romania    Nottingham Forest     0.0  \nK. Letica                 96.0         Croatia       Club Brugge KV     0.0  \nP. Onuachu                82.0         Nigeria       FC Midtjylland     0.0  \nH. Veerman                90.0     Netherlands         FC St. Pauli     0.0  \nV. Milinković-Savić       92.0          Serbia    Standard de Liège     0.0  \nL. Traoré                 87.0     Ivory Coast             CFR Cluj     0.0  \nA. Vukotić                95.0          Serbia     Waasland-Beveren     0.0  \nA. Sjöberg                95.0          Sweden      Colorado Rapids     0.0  \nK. Scherpen               85.0     Netherlands                 Ajax     0.0  \nA. Ba                     94.0      Mauritania           AJ Auxerre     0.0  \nS. Makienok               94.0         Denmark           FC Utrecht     0.0  \nT. Holý                  102.0  Czech Republic         Ipswich Town     0.0  \nE. Johansen              102.0          Norway             SK Brann     0.0  \nA. Chapman                92.0         England  Peterborough United     0.0  \nM. Qvist                  94.0         Denmark           AC Horsens     0.0  \nR. Laidlaw                85.0        Scotland       Ross County FC     0.0  \nK. Athiu                  85.0     South Sudan    Melbourne Victory     0.0  \nS. Brolin                 85.0          Sweden                  AIK     0.0  \nM. Casey                  80.0         England           Portsmouth     0.0  \nD. Thiam                  87.0         Senegal                 SPAL     0.0  ",
      "text/html": "<div>\n<style scoped>\n    .dataframe tbody tr th:only-of-type {\n        vertical-align: middle;\n    }\n\n    .dataframe tbody tr th {\n        vertical-align: top;\n    }\n\n    .dataframe thead th {\n        text-align: right;\n    }\n</style>\n<table border=\"1\" class=\"dataframe\">\n  <thead>\n    <tr style=\"text-align: right;\">\n      <th></th>\n      <th>long_name</th>\n      <th>age</th>\n      <th>dob</th>\n      <th>height_cm</th>\n      <th>weight_kg</th>\n      <th>nationality</th>\n      <th>club</th>\n      <th>weight</th>\n    </tr>\n    <tr>\n      <th>short_name</th>\n      <th></th>\n      <th></th>\n      <th></th>\n      <th></th>\n      <th></th>\n      <th></th>\n      <th></th>\n      <th></th>\n    </tr>\n  </thead>\n  <tbody>\n    <tr>\n      <th>L. Kalinić</th>\n      <td>Lovre Kalinić</td>\n      <td>0.0</td>\n      <td>0</td>\n      <td>0.0</td>\n      <td>99.0</td>\n      <td>Croatia</td>\n      <td>Aston Villa</td>\n      <td>0.0</td>\n    </tr>\n    <tr>\n      <th>F. Forster</th>\n      <td>Fraser Forster</td>\n      <td>0.0</td>\n      <td>0</td>\n      <td>0.0</td>\n      <td>93.0</td>\n      <td>England</td>\n      <td>Southampton</td>\n      <td>0.0</td>\n    </tr>\n    <tr>\n      <th>C. Pantilimon</th>\n      <td>Costel Pantilimon</td>\n      <td>0.0</td>\n      <td>0</td>\n      <td>0.0</td>\n      <td>96.0</td>\n      <td>Romania</td>\n      <td>Nottingham Forest</td>\n      <td>0.0</td>\n    </tr>\n    <tr>\n      <th>K. Letica</th>\n      <td>Karlo Letica</td>\n      <td>0.0</td>\n      <td>0</td>\n      <td>0.0</td>\n      <td>96.0</td>\n      <td>Croatia</td>\n      <td>Club Brugge KV</td>\n      <td>0.0</td>\n    </tr>\n    <tr>\n      <th>P. Onuachu</th>\n      <td>Paul Ebere Onuachu</td>\n      <td>0.0</td>\n      <td>0</td>\n      <td>0.0</td>\n      <td>82.0</td>\n      <td>Nigeria</td>\n      <td>FC Midtjylland</td>\n      <td>0.0</td>\n    </tr>\n    <tr>\n      <th>H. Veerman</th>\n      <td>Henk Veerman</td>\n      <td>0.0</td>\n      <td>0</td>\n      <td>0.0</td>\n      <td>90.0</td>\n      <td>Netherlands</td>\n      <td>FC St. Pauli</td>\n      <td>0.0</td>\n    </tr>\n    <tr>\n      <th>V. Milinković-Savić</th>\n      <td>Vanja Milinković-Savić</td>\n      <td>0.0</td>\n      <td>0</td>\n      <td>0.0</td>\n      <td>92.0</td>\n      <td>Serbia</td>\n      <td>Standard de Liège</td>\n      <td>0.0</td>\n    </tr>\n    <tr>\n      <th>L. Traoré</th>\n      <td>Lacina Traoré</td>\n      <td>0.0</td>\n      <td>0</td>\n      <td>0.0</td>\n      <td>87.0</td>\n      <td>Ivory Coast</td>\n      <td>CFR Cluj</td>\n      <td>0.0</td>\n    </tr>\n    <tr>\n      <th>A. Vukotić</th>\n      <td>Aleksandar Vukotić</td>\n      <td>0.0</td>\n      <td>0</td>\n      <td>0.0</td>\n      <td>95.0</td>\n      <td>Serbia</td>\n      <td>Waasland-Beveren</td>\n      <td>0.0</td>\n    </tr>\n    <tr>\n      <th>A. Sjöberg</th>\n      <td>Axel Sjöberg</td>\n      <td>0.0</td>\n      <td>0</td>\n      <td>0.0</td>\n      <td>95.0</td>\n      <td>Sweden</td>\n      <td>Colorado Rapids</td>\n      <td>0.0</td>\n    </tr>\n    <tr>\n      <th>K. Scherpen</th>\n      <td>Kjell Scherpen</td>\n      <td>0.0</td>\n      <td>0</td>\n      <td>0.0</td>\n      <td>85.0</td>\n      <td>Netherlands</td>\n      <td>Ajax</td>\n      <td>0.0</td>\n    </tr>\n    <tr>\n      <th>A. Ba</th>\n      <td>Abdoul Ba</td>\n      <td>0.0</td>\n      <td>0</td>\n      <td>0.0</td>\n      <td>94.0</td>\n      <td>Mauritania</td>\n      <td>AJ Auxerre</td>\n      <td>0.0</td>\n    </tr>\n    <tr>\n      <th>S. Makienok</th>\n      <td>Simon Makienok Christoffersen</td>\n      <td>0.0</td>\n      <td>0</td>\n      <td>0.0</td>\n      <td>94.0</td>\n      <td>Denmark</td>\n      <td>FC Utrecht</td>\n      <td>0.0</td>\n    </tr>\n    <tr>\n      <th>T. Holý</th>\n      <td>Tomáš Holý</td>\n      <td>0.0</td>\n      <td>0</td>\n      <td>0.0</td>\n      <td>102.0</td>\n      <td>Czech Republic</td>\n      <td>Ipswich Town</td>\n      <td>0.0</td>\n    </tr>\n    <tr>\n      <th>E. Johansen</th>\n      <td>Eirik Holmen Johansen</td>\n      <td>0.0</td>\n      <td>0</td>\n      <td>0.0</td>\n      <td>102.0</td>\n      <td>Norway</td>\n      <td>SK Brann</td>\n      <td>0.0</td>\n    </tr>\n    <tr>\n      <th>A. Chapman</th>\n      <td>Aaron Chapman</td>\n      <td>0.0</td>\n      <td>0</td>\n      <td>0.0</td>\n      <td>92.0</td>\n      <td>England</td>\n      <td>Peterborough United</td>\n      <td>0.0</td>\n    </tr>\n    <tr>\n      <th>M. Qvist</th>\n      <td>Mikkel Mena Qvist</td>\n      <td>0.0</td>\n      <td>0</td>\n      <td>0.0</td>\n      <td>94.0</td>\n      <td>Denmark</td>\n      <td>AC Horsens</td>\n      <td>0.0</td>\n    </tr>\n    <tr>\n      <th>R. Laidlaw</th>\n      <td>Ross Laidlaw</td>\n      <td>0.0</td>\n      <td>0</td>\n      <td>0.0</td>\n      <td>85.0</td>\n      <td>Scotland</td>\n      <td>Ross County FC</td>\n      <td>0.0</td>\n    </tr>\n    <tr>\n      <th>K. Athiu</th>\n      <td>Kenny Athiu</td>\n      <td>0.0</td>\n      <td>0</td>\n      <td>0.0</td>\n      <td>85.0</td>\n      <td>South Sudan</td>\n      <td>Melbourne Victory</td>\n      <td>0.0</td>\n    </tr>\n    <tr>\n      <th>S. Brolin</th>\n      <td>Samuel Brolin</td>\n      <td>0.0</td>\n      <td>0</td>\n      <td>0.0</td>\n      <td>85.0</td>\n      <td>Sweden</td>\n      <td>AIK</td>\n      <td>0.0</td>\n    </tr>\n    <tr>\n      <th>M. Casey</th>\n      <td>Matt Casey</td>\n      <td>0.0</td>\n      <td>0</td>\n      <td>0.0</td>\n      <td>80.0</td>\n      <td>England</td>\n      <td>Portsmouth</td>\n      <td>0.0</td>\n    </tr>\n    <tr>\n      <th>D. Thiam</th>\n      <td>Demba Thiam</td>\n      <td>0.0</td>\n      <td>0</td>\n      <td>0.0</td>\n      <td>87.0</td>\n      <td>Senegal</td>\n      <td>SPAL</td>\n      <td>0.0</td>\n    </tr>\n  </tbody>\n</table>\n</div>"
     },
     "execution_count": 46,
     "metadata": {},
     "output_type": "execute_result"
    }
   ],
   "source": [
    "df_players.loc[condition]"
   ],
   "metadata": {
    "collapsed": false
   }
  },
  {
   "cell_type": "code",
   "execution_count": 55,
   "outputs": [],
   "source": [
    "df = pd.read_csv('players_20.csv')\n",
    "columns = ['short_name', 'long_name', 'age', 'height_cm', 'weight_kg', 'nationality', 'dob', 'club']\n",
    "df = df[columns]"
   ],
   "metadata": {
    "collapsed": false
   }
  },
  {
   "cell_type": "code",
   "execution_count": 57,
   "outputs": [],
   "source": [
    "df.set_index('short_name', inplace=True)"
   ],
   "metadata": {
    "collapsed": false
   }
  },
  {
   "cell_type": "code",
   "execution_count": 58,
   "outputs": [
    {
     "data": {
      "text/plain": "                                             long_name  age  height_cm   \nshort_name                                                               \nL. Messi                Lionel Andrés Messi Cuccittini   32        170  \\\nCristiano Ronaldo  Cristiano Ronaldo dos Santos Aveiro   34        187   \nNeymar Jr                Neymar da Silva Santos Junior   27        175   \nJ. Oblak                                     Jan Oblak   26        188   \nE. Hazard                                  Eden Hazard   28        175   \n...                                                ...  ...        ...   \nShao Shuai                                          邵帅   22        186   \nXiao Mingjie                              Mingjie Xiao   22        177   \nZhang Wei                                           张威   19        186   \nWang Haijian                                       汪海健   18        185   \nPan Ximing                                         潘喜明   26        182   \n\n                   weight_kg nationality         dob   \nshort_name                                             \nL. Messi                  72   Argentina  1987-06-24  \\\nCristiano Ronaldo         83    Portugal  1985-02-05   \nNeymar Jr                 68      Brazil  1992-02-05   \nJ. Oblak                  87    Slovenia  1993-01-07   \nE. Hazard                 74     Belgium  1991-01-07   \n...                      ...         ...         ...   \nShao Shuai                79    China PR  1997-03-10   \nXiao Mingjie              66    China PR  1997-01-01   \nZhang Wei                 75    China PR  2000-05-16   \nWang Haijian              74    China PR  2000-08-02   \nPan Ximing                78    China PR  1993-01-11   \n\n                                            club  \nshort_name                                        \nL. Messi                            FC Barcelona  \nCristiano Ronaldo                       Juventus  \nNeymar Jr                    Paris Saint-Germain  \nJ. Oblak                         Atlético Madrid  \nE. Hazard                            Real Madrid  \n...                                          ...  \nShao Shuai                      Beijing Renhe FC  \nXiao Mingjie                    Shanghai SIPG FC  \nZhang Wei                 Hebei China Fortune FC  \nWang Haijian       Shanghai Greenland Shenhua FC  \nPan Ximing                Hebei China Fortune FC  \n\n[18278 rows x 7 columns]",
      "text/html": "<div>\n<style scoped>\n    .dataframe tbody tr th:only-of-type {\n        vertical-align: middle;\n    }\n\n    .dataframe tbody tr th {\n        vertical-align: top;\n    }\n\n    .dataframe thead th {\n        text-align: right;\n    }\n</style>\n<table border=\"1\" class=\"dataframe\">\n  <thead>\n    <tr style=\"text-align: right;\">\n      <th></th>\n      <th>long_name</th>\n      <th>age</th>\n      <th>height_cm</th>\n      <th>weight_kg</th>\n      <th>nationality</th>\n      <th>dob</th>\n      <th>club</th>\n    </tr>\n    <tr>\n      <th>short_name</th>\n      <th></th>\n      <th></th>\n      <th></th>\n      <th></th>\n      <th></th>\n      <th></th>\n      <th></th>\n    </tr>\n  </thead>\n  <tbody>\n    <tr>\n      <th>L. Messi</th>\n      <td>Lionel Andrés Messi Cuccittini</td>\n      <td>32</td>\n      <td>170</td>\n      <td>72</td>\n      <td>Argentina</td>\n      <td>1987-06-24</td>\n      <td>FC Barcelona</td>\n    </tr>\n    <tr>\n      <th>Cristiano Ronaldo</th>\n      <td>Cristiano Ronaldo dos Santos Aveiro</td>\n      <td>34</td>\n      <td>187</td>\n      <td>83</td>\n      <td>Portugal</td>\n      <td>1985-02-05</td>\n      <td>Juventus</td>\n    </tr>\n    <tr>\n      <th>Neymar Jr</th>\n      <td>Neymar da Silva Santos Junior</td>\n      <td>27</td>\n      <td>175</td>\n      <td>68</td>\n      <td>Brazil</td>\n      <td>1992-02-05</td>\n      <td>Paris Saint-Germain</td>\n    </tr>\n    <tr>\n      <th>J. Oblak</th>\n      <td>Jan Oblak</td>\n      <td>26</td>\n      <td>188</td>\n      <td>87</td>\n      <td>Slovenia</td>\n      <td>1993-01-07</td>\n      <td>Atlético Madrid</td>\n    </tr>\n    <tr>\n      <th>E. Hazard</th>\n      <td>Eden Hazard</td>\n      <td>28</td>\n      <td>175</td>\n      <td>74</td>\n      <td>Belgium</td>\n      <td>1991-01-07</td>\n      <td>Real Madrid</td>\n    </tr>\n    <tr>\n      <th>...</th>\n      <td>...</td>\n      <td>...</td>\n      <td>...</td>\n      <td>...</td>\n      <td>...</td>\n      <td>...</td>\n      <td>...</td>\n    </tr>\n    <tr>\n      <th>Shao Shuai</th>\n      <td>邵帅</td>\n      <td>22</td>\n      <td>186</td>\n      <td>79</td>\n      <td>China PR</td>\n      <td>1997-03-10</td>\n      <td>Beijing Renhe FC</td>\n    </tr>\n    <tr>\n      <th>Xiao Mingjie</th>\n      <td>Mingjie Xiao</td>\n      <td>22</td>\n      <td>177</td>\n      <td>66</td>\n      <td>China PR</td>\n      <td>1997-01-01</td>\n      <td>Shanghai SIPG FC</td>\n    </tr>\n    <tr>\n      <th>Zhang Wei</th>\n      <td>张威</td>\n      <td>19</td>\n      <td>186</td>\n      <td>75</td>\n      <td>China PR</td>\n      <td>2000-05-16</td>\n      <td>Hebei China Fortune FC</td>\n    </tr>\n    <tr>\n      <th>Wang Haijian</th>\n      <td>汪海健</td>\n      <td>18</td>\n      <td>185</td>\n      <td>74</td>\n      <td>China PR</td>\n      <td>2000-08-02</td>\n      <td>Shanghai Greenland Shenhua FC</td>\n    </tr>\n    <tr>\n      <th>Pan Ximing</th>\n      <td>潘喜明</td>\n      <td>26</td>\n      <td>182</td>\n      <td>78</td>\n      <td>China PR</td>\n      <td>1993-01-11</td>\n      <td>Hebei China Fortune FC</td>\n    </tr>\n  </tbody>\n</table>\n<p>18278 rows × 7 columns</p>\n</div>"
     },
     "execution_count": 58,
     "metadata": {},
     "output_type": "execute_result"
    }
   ],
   "source": [
    "df"
   ],
   "metadata": {
    "collapsed": false
   }
  },
  {
   "cell_type": "code",
   "execution_count": 62,
   "outputs": [
    {
     "ename": "KeyError",
     "evalue": "\"['Neymar Jr'] not found in axis\"",
     "output_type": "error",
     "traceback": [
      "\u001B[1;31m---------------------------------------------------------------------------\u001B[0m",
      "\u001B[1;31mKeyError\u001B[0m                                  Traceback (most recent call last)",
      "Cell \u001B[1;32mIn[62], line 1\u001B[0m\n\u001B[1;32m----> 1\u001B[0m \u001B[43mdf\u001B[49m\u001B[38;5;241;43m.\u001B[39;49m\u001B[43mdrop\u001B[49m\u001B[43m(\u001B[49m\u001B[43mindex\u001B[49m\u001B[38;5;241;43m=\u001B[39;49m\u001B[43m[\u001B[49m\u001B[38;5;124;43m'\u001B[39;49m\u001B[38;5;124;43mNeymar Jr\u001B[39;49m\u001B[38;5;124;43m'\u001B[39;49m\u001B[43m]\u001B[49m\u001B[43m,\u001B[49m\u001B[43m \u001B[49m\u001B[43minplace\u001B[49m\u001B[38;5;241;43m=\u001B[39;49m\u001B[43m \u001B[49m\u001B[38;5;28;43;01mTrue\u001B[39;49;00m\u001B[43m)\u001B[49m\n",
      "File \u001B[1;32mC:\\Python Files\\Data_science_bootcamp_2023\\venv\\lib\\site-packages\\pandas\\core\\frame.py:5266\u001B[0m, in \u001B[0;36mDataFrame.drop\u001B[1;34m(self, labels, axis, index, columns, level, inplace, errors)\u001B[0m\n\u001B[0;32m   5118\u001B[0m \u001B[38;5;28;01mdef\u001B[39;00m \u001B[38;5;21mdrop\u001B[39m(\n\u001B[0;32m   5119\u001B[0m     \u001B[38;5;28mself\u001B[39m,\n\u001B[0;32m   5120\u001B[0m     labels: IndexLabel \u001B[38;5;241m=\u001B[39m \u001B[38;5;28;01mNone\u001B[39;00m,\n\u001B[1;32m   (...)\u001B[0m\n\u001B[0;32m   5127\u001B[0m     errors: IgnoreRaise \u001B[38;5;241m=\u001B[39m \u001B[38;5;124m\"\u001B[39m\u001B[38;5;124mraise\u001B[39m\u001B[38;5;124m\"\u001B[39m,\n\u001B[0;32m   5128\u001B[0m ) \u001B[38;5;241m-\u001B[39m\u001B[38;5;241m>\u001B[39m DataFrame \u001B[38;5;241m|\u001B[39m \u001B[38;5;28;01mNone\u001B[39;00m:\n\u001B[0;32m   5129\u001B[0m \u001B[38;5;250m    \u001B[39m\u001B[38;5;124;03m\"\"\"\u001B[39;00m\n\u001B[0;32m   5130\u001B[0m \u001B[38;5;124;03m    Drop specified labels from rows or columns.\u001B[39;00m\n\u001B[0;32m   5131\u001B[0m \n\u001B[1;32m   (...)\u001B[0m\n\u001B[0;32m   5264\u001B[0m \u001B[38;5;124;03m            weight  1.0     0.8\u001B[39;00m\n\u001B[0;32m   5265\u001B[0m \u001B[38;5;124;03m    \"\"\"\u001B[39;00m\n\u001B[1;32m-> 5266\u001B[0m     \u001B[38;5;28;01mreturn\u001B[39;00m \u001B[38;5;28;43msuper\u001B[39;49m\u001B[43m(\u001B[49m\u001B[43m)\u001B[49m\u001B[38;5;241;43m.\u001B[39;49m\u001B[43mdrop\u001B[49m\u001B[43m(\u001B[49m\n\u001B[0;32m   5267\u001B[0m \u001B[43m        \u001B[49m\u001B[43mlabels\u001B[49m\u001B[38;5;241;43m=\u001B[39;49m\u001B[43mlabels\u001B[49m\u001B[43m,\u001B[49m\n\u001B[0;32m   5268\u001B[0m \u001B[43m        \u001B[49m\u001B[43maxis\u001B[49m\u001B[38;5;241;43m=\u001B[39;49m\u001B[43maxis\u001B[49m\u001B[43m,\u001B[49m\n\u001B[0;32m   5269\u001B[0m \u001B[43m        \u001B[49m\u001B[43mindex\u001B[49m\u001B[38;5;241;43m=\u001B[39;49m\u001B[43mindex\u001B[49m\u001B[43m,\u001B[49m\n\u001B[0;32m   5270\u001B[0m \u001B[43m        \u001B[49m\u001B[43mcolumns\u001B[49m\u001B[38;5;241;43m=\u001B[39;49m\u001B[43mcolumns\u001B[49m\u001B[43m,\u001B[49m\n\u001B[0;32m   5271\u001B[0m \u001B[43m        \u001B[49m\u001B[43mlevel\u001B[49m\u001B[38;5;241;43m=\u001B[39;49m\u001B[43mlevel\u001B[49m\u001B[43m,\u001B[49m\n\u001B[0;32m   5272\u001B[0m \u001B[43m        \u001B[49m\u001B[43minplace\u001B[49m\u001B[38;5;241;43m=\u001B[39;49m\u001B[43minplace\u001B[49m\u001B[43m,\u001B[49m\n\u001B[0;32m   5273\u001B[0m \u001B[43m        \u001B[49m\u001B[43merrors\u001B[49m\u001B[38;5;241;43m=\u001B[39;49m\u001B[43merrors\u001B[49m\u001B[43m,\u001B[49m\n\u001B[0;32m   5274\u001B[0m \u001B[43m    \u001B[49m\u001B[43m)\u001B[49m\n",
      "File \u001B[1;32mC:\\Python Files\\Data_science_bootcamp_2023\\venv\\lib\\site-packages\\pandas\\core\\generic.py:4549\u001B[0m, in \u001B[0;36mNDFrame.drop\u001B[1;34m(self, labels, axis, index, columns, level, inplace, errors)\u001B[0m\n\u001B[0;32m   4547\u001B[0m \u001B[38;5;28;01mfor\u001B[39;00m axis, labels \u001B[38;5;129;01min\u001B[39;00m axes\u001B[38;5;241m.\u001B[39mitems():\n\u001B[0;32m   4548\u001B[0m     \u001B[38;5;28;01mif\u001B[39;00m labels \u001B[38;5;129;01mis\u001B[39;00m \u001B[38;5;129;01mnot\u001B[39;00m \u001B[38;5;28;01mNone\u001B[39;00m:\n\u001B[1;32m-> 4549\u001B[0m         obj \u001B[38;5;241m=\u001B[39m \u001B[43mobj\u001B[49m\u001B[38;5;241;43m.\u001B[39;49m\u001B[43m_drop_axis\u001B[49m\u001B[43m(\u001B[49m\u001B[43mlabels\u001B[49m\u001B[43m,\u001B[49m\u001B[43m \u001B[49m\u001B[43maxis\u001B[49m\u001B[43m,\u001B[49m\u001B[43m \u001B[49m\u001B[43mlevel\u001B[49m\u001B[38;5;241;43m=\u001B[39;49m\u001B[43mlevel\u001B[49m\u001B[43m,\u001B[49m\u001B[43m \u001B[49m\u001B[43merrors\u001B[49m\u001B[38;5;241;43m=\u001B[39;49m\u001B[43merrors\u001B[49m\u001B[43m)\u001B[49m\n\u001B[0;32m   4551\u001B[0m \u001B[38;5;28;01mif\u001B[39;00m inplace:\n\u001B[0;32m   4552\u001B[0m     \u001B[38;5;28mself\u001B[39m\u001B[38;5;241m.\u001B[39m_update_inplace(obj)\n",
      "File \u001B[1;32mC:\\Python Files\\Data_science_bootcamp_2023\\venv\\lib\\site-packages\\pandas\\core\\generic.py:4620\u001B[0m, in \u001B[0;36mNDFrame._drop_axis\u001B[1;34m(self, labels, axis, level, errors, only_slice)\u001B[0m\n\u001B[0;32m   4618\u001B[0m     labels_missing \u001B[38;5;241m=\u001B[39m (axis\u001B[38;5;241m.\u001B[39mget_indexer_for(labels) \u001B[38;5;241m==\u001B[39m \u001B[38;5;241m-\u001B[39m\u001B[38;5;241m1\u001B[39m)\u001B[38;5;241m.\u001B[39many()\n\u001B[0;32m   4619\u001B[0m     \u001B[38;5;28;01mif\u001B[39;00m errors \u001B[38;5;241m==\u001B[39m \u001B[38;5;124m\"\u001B[39m\u001B[38;5;124mraise\u001B[39m\u001B[38;5;124m\"\u001B[39m \u001B[38;5;129;01mand\u001B[39;00m labels_missing:\n\u001B[1;32m-> 4620\u001B[0m         \u001B[38;5;28;01mraise\u001B[39;00m \u001B[38;5;167;01mKeyError\u001B[39;00m(\u001B[38;5;124mf\u001B[39m\u001B[38;5;124m\"\u001B[39m\u001B[38;5;132;01m{\u001B[39;00mlabels\u001B[38;5;132;01m}\u001B[39;00m\u001B[38;5;124m not found in axis\u001B[39m\u001B[38;5;124m\"\u001B[39m)\n\u001B[0;32m   4622\u001B[0m \u001B[38;5;28;01mif\u001B[39;00m is_extension_array_dtype(mask\u001B[38;5;241m.\u001B[39mdtype):\n\u001B[0;32m   4623\u001B[0m     \u001B[38;5;66;03m# GH#45860\u001B[39;00m\n\u001B[0;32m   4624\u001B[0m     mask \u001B[38;5;241m=\u001B[39m mask\u001B[38;5;241m.\u001B[39mto_numpy(dtype\u001B[38;5;241m=\u001B[39m\u001B[38;5;28mbool\u001B[39m)\n",
      "\u001B[1;31mKeyError\u001B[0m: \"['Neymar Jr'] not found in axis\""
     ]
    }
   ],
   "source": [
    "?"
   ],
   "metadata": {
    "collapsed": false
   }
  },
  {
   "cell_type": "code",
   "execution_count": 63,
   "outputs": [
    {
     "data": {
      "text/plain": "                                             long_name  age  height_cm   \nshort_name                                                               \nL. Messi                Lionel Andrés Messi Cuccittini   32        170  \\\nCristiano Ronaldo  Cristiano Ronaldo dos Santos Aveiro   34        187   \nJ. Oblak                                     Jan Oblak   26        188   \nE. Hazard                                  Eden Hazard   28        175   \nK. De Bruyne                           Kevin De Bruyne   28        181   \n...                                                ...  ...        ...   \nShao Shuai                                          邵帅   22        186   \nXiao Mingjie                              Mingjie Xiao   22        177   \nZhang Wei                                           张威   19        186   \nWang Haijian                                       汪海健   18        185   \nPan Ximing                                         潘喜明   26        182   \n\n                   weight_kg nationality         dob   \nshort_name                                             \nL. Messi                  72   Argentina  1987-06-24  \\\nCristiano Ronaldo         83    Portugal  1985-02-05   \nJ. Oblak                  87    Slovenia  1993-01-07   \nE. Hazard                 74     Belgium  1991-01-07   \nK. De Bruyne              70     Belgium  1991-06-28   \n...                      ...         ...         ...   \nShao Shuai                79    China PR  1997-03-10   \nXiao Mingjie              66    China PR  1997-01-01   \nZhang Wei                 75    China PR  2000-05-16   \nWang Haijian              74    China PR  2000-08-02   \nPan Ximing                78    China PR  1993-01-11   \n\n                                            club  \nshort_name                                        \nL. Messi                            FC Barcelona  \nCristiano Ronaldo                       Juventus  \nJ. Oblak                         Atlético Madrid  \nE. Hazard                            Real Madrid  \nK. De Bruyne                     Manchester City  \n...                                          ...  \nShao Shuai                      Beijing Renhe FC  \nXiao Mingjie                    Shanghai SIPG FC  \nZhang Wei                 Hebei China Fortune FC  \nWang Haijian       Shanghai Greenland Shenhua FC  \nPan Ximing                Hebei China Fortune FC  \n\n[18277 rows x 7 columns]",
      "text/html": "<div>\n<style scoped>\n    .dataframe tbody tr th:only-of-type {\n        vertical-align: middle;\n    }\n\n    .dataframe tbody tr th {\n        vertical-align: top;\n    }\n\n    .dataframe thead th {\n        text-align: right;\n    }\n</style>\n<table border=\"1\" class=\"dataframe\">\n  <thead>\n    <tr style=\"text-align: right;\">\n      <th></th>\n      <th>long_name</th>\n      <th>age</th>\n      <th>height_cm</th>\n      <th>weight_kg</th>\n      <th>nationality</th>\n      <th>dob</th>\n      <th>club</th>\n    </tr>\n    <tr>\n      <th>short_name</th>\n      <th></th>\n      <th></th>\n      <th></th>\n      <th></th>\n      <th></th>\n      <th></th>\n      <th></th>\n    </tr>\n  </thead>\n  <tbody>\n    <tr>\n      <th>L. Messi</th>\n      <td>Lionel Andrés Messi Cuccittini</td>\n      <td>32</td>\n      <td>170</td>\n      <td>72</td>\n      <td>Argentina</td>\n      <td>1987-06-24</td>\n      <td>FC Barcelona</td>\n    </tr>\n    <tr>\n      <th>Cristiano Ronaldo</th>\n      <td>Cristiano Ronaldo dos Santos Aveiro</td>\n      <td>34</td>\n      <td>187</td>\n      <td>83</td>\n      <td>Portugal</td>\n      <td>1985-02-05</td>\n      <td>Juventus</td>\n    </tr>\n    <tr>\n      <th>J. Oblak</th>\n      <td>Jan Oblak</td>\n      <td>26</td>\n      <td>188</td>\n      <td>87</td>\n      <td>Slovenia</td>\n      <td>1993-01-07</td>\n      <td>Atlético Madrid</td>\n    </tr>\n    <tr>\n      <th>E. Hazard</th>\n      <td>Eden Hazard</td>\n      <td>28</td>\n      <td>175</td>\n      <td>74</td>\n      <td>Belgium</td>\n      <td>1991-01-07</td>\n      <td>Real Madrid</td>\n    </tr>\n    <tr>\n      <th>K. De Bruyne</th>\n      <td>Kevin De Bruyne</td>\n      <td>28</td>\n      <td>181</td>\n      <td>70</td>\n      <td>Belgium</td>\n      <td>1991-06-28</td>\n      <td>Manchester City</td>\n    </tr>\n    <tr>\n      <th>...</th>\n      <td>...</td>\n      <td>...</td>\n      <td>...</td>\n      <td>...</td>\n      <td>...</td>\n      <td>...</td>\n      <td>...</td>\n    </tr>\n    <tr>\n      <th>Shao Shuai</th>\n      <td>邵帅</td>\n      <td>22</td>\n      <td>186</td>\n      <td>79</td>\n      <td>China PR</td>\n      <td>1997-03-10</td>\n      <td>Beijing Renhe FC</td>\n    </tr>\n    <tr>\n      <th>Xiao Mingjie</th>\n      <td>Mingjie Xiao</td>\n      <td>22</td>\n      <td>177</td>\n      <td>66</td>\n      <td>China PR</td>\n      <td>1997-01-01</td>\n      <td>Shanghai SIPG FC</td>\n    </tr>\n    <tr>\n      <th>Zhang Wei</th>\n      <td>张威</td>\n      <td>19</td>\n      <td>186</td>\n      <td>75</td>\n      <td>China PR</td>\n      <td>2000-05-16</td>\n      <td>Hebei China Fortune FC</td>\n    </tr>\n    <tr>\n      <th>Wang Haijian</th>\n      <td>汪海健</td>\n      <td>18</td>\n      <td>185</td>\n      <td>74</td>\n      <td>China PR</td>\n      <td>2000-08-02</td>\n      <td>Shanghai Greenland Shenhua FC</td>\n    </tr>\n    <tr>\n      <th>Pan Ximing</th>\n      <td>潘喜明</td>\n      <td>26</td>\n      <td>182</td>\n      <td>78</td>\n      <td>China PR</td>\n      <td>1993-01-11</td>\n      <td>Hebei China Fortune FC</td>\n    </tr>\n  </tbody>\n</table>\n<p>18277 rows × 7 columns</p>\n</div>"
     },
     "execution_count": 63,
     "metadata": {},
     "output_type": "execute_result"
    }
   ],
   "source": [
    "df"
   ],
   "metadata": {
    "collapsed": false
   }
  },
  {
   "cell_type": "code",
   "execution_count": 69,
   "outputs": [],
   "source": [
    "df.drop(index=['J. Oblak'], inplace=True)"
   ],
   "metadata": {
    "collapsed": false
   }
  },
  {
   "cell_type": "code",
   "execution_count": 77,
   "outputs": [],
   "source": [
    "# df"
   ],
   "metadata": {
    "collapsed": false
   }
  },
  {
   "cell_type": "code",
   "execution_count": 73,
   "outputs": [
    {
     "ename": "KeyError",
     "evalue": "\"['dob', 'age'] not found in axis\"",
     "output_type": "error",
     "traceback": [
      "\u001B[1;31m---------------------------------------------------------------------------\u001B[0m",
      "\u001B[1;31mKeyError\u001B[0m                                  Traceback (most recent call last)",
      "Cell \u001B[1;32mIn[73], line 1\u001B[0m\n\u001B[1;32m----> 1\u001B[0m \u001B[43mdf\u001B[49m\u001B[38;5;241;43m.\u001B[39;49m\u001B[43mdrop\u001B[49m\u001B[43m(\u001B[49m\u001B[43m[\u001B[49m\u001B[38;5;124;43m'\u001B[39;49m\u001B[38;5;124;43mdob\u001B[39;49m\u001B[38;5;124;43m'\u001B[39;49m\u001B[43m,\u001B[49m\u001B[43m \u001B[49m\u001B[38;5;124;43m'\u001B[39;49m\u001B[38;5;124;43mage\u001B[39;49m\u001B[38;5;124;43m'\u001B[39;49m\u001B[43m]\u001B[49m\u001B[43m,\u001B[49m\u001B[43m \u001B[49m\u001B[43maxis\u001B[49m\u001B[43m \u001B[49m\u001B[38;5;241;43m=\u001B[39;49m\u001B[43m \u001B[49m\u001B[38;5;241;43m1\u001B[39;49m\u001B[43m,\u001B[49m\u001B[43m \u001B[49m\u001B[43minplace\u001B[49m\u001B[38;5;241;43m=\u001B[39;49m\u001B[43m \u001B[49m\u001B[38;5;28;43;01mTrue\u001B[39;49;00m\u001B[43m)\u001B[49m\n\u001B[0;32m      2\u001B[0m df\n",
      "File \u001B[1;32mC:\\Python Files\\Data_science_bootcamp_2023\\venv\\lib\\site-packages\\pandas\\core\\frame.py:5266\u001B[0m, in \u001B[0;36mDataFrame.drop\u001B[1;34m(self, labels, axis, index, columns, level, inplace, errors)\u001B[0m\n\u001B[0;32m   5118\u001B[0m \u001B[38;5;28;01mdef\u001B[39;00m \u001B[38;5;21mdrop\u001B[39m(\n\u001B[0;32m   5119\u001B[0m     \u001B[38;5;28mself\u001B[39m,\n\u001B[0;32m   5120\u001B[0m     labels: IndexLabel \u001B[38;5;241m=\u001B[39m \u001B[38;5;28;01mNone\u001B[39;00m,\n\u001B[1;32m   (...)\u001B[0m\n\u001B[0;32m   5127\u001B[0m     errors: IgnoreRaise \u001B[38;5;241m=\u001B[39m \u001B[38;5;124m\"\u001B[39m\u001B[38;5;124mraise\u001B[39m\u001B[38;5;124m\"\u001B[39m,\n\u001B[0;32m   5128\u001B[0m ) \u001B[38;5;241m-\u001B[39m\u001B[38;5;241m>\u001B[39m DataFrame \u001B[38;5;241m|\u001B[39m \u001B[38;5;28;01mNone\u001B[39;00m:\n\u001B[0;32m   5129\u001B[0m \u001B[38;5;250m    \u001B[39m\u001B[38;5;124;03m\"\"\"\u001B[39;00m\n\u001B[0;32m   5130\u001B[0m \u001B[38;5;124;03m    Drop specified labels from rows or columns.\u001B[39;00m\n\u001B[0;32m   5131\u001B[0m \n\u001B[1;32m   (...)\u001B[0m\n\u001B[0;32m   5264\u001B[0m \u001B[38;5;124;03m            weight  1.0     0.8\u001B[39;00m\n\u001B[0;32m   5265\u001B[0m \u001B[38;5;124;03m    \"\"\"\u001B[39;00m\n\u001B[1;32m-> 5266\u001B[0m     \u001B[38;5;28;01mreturn\u001B[39;00m \u001B[38;5;28;43msuper\u001B[39;49m\u001B[43m(\u001B[49m\u001B[43m)\u001B[49m\u001B[38;5;241;43m.\u001B[39;49m\u001B[43mdrop\u001B[49m\u001B[43m(\u001B[49m\n\u001B[0;32m   5267\u001B[0m \u001B[43m        \u001B[49m\u001B[43mlabels\u001B[49m\u001B[38;5;241;43m=\u001B[39;49m\u001B[43mlabels\u001B[49m\u001B[43m,\u001B[49m\n\u001B[0;32m   5268\u001B[0m \u001B[43m        \u001B[49m\u001B[43maxis\u001B[49m\u001B[38;5;241;43m=\u001B[39;49m\u001B[43maxis\u001B[49m\u001B[43m,\u001B[49m\n\u001B[0;32m   5269\u001B[0m \u001B[43m        \u001B[49m\u001B[43mindex\u001B[49m\u001B[38;5;241;43m=\u001B[39;49m\u001B[43mindex\u001B[49m\u001B[43m,\u001B[49m\n\u001B[0;32m   5270\u001B[0m \u001B[43m        \u001B[49m\u001B[43mcolumns\u001B[49m\u001B[38;5;241;43m=\u001B[39;49m\u001B[43mcolumns\u001B[49m\u001B[43m,\u001B[49m\n\u001B[0;32m   5271\u001B[0m \u001B[43m        \u001B[49m\u001B[43mlevel\u001B[49m\u001B[38;5;241;43m=\u001B[39;49m\u001B[43mlevel\u001B[49m\u001B[43m,\u001B[49m\n\u001B[0;32m   5272\u001B[0m \u001B[43m        \u001B[49m\u001B[43minplace\u001B[49m\u001B[38;5;241;43m=\u001B[39;49m\u001B[43minplace\u001B[49m\u001B[43m,\u001B[49m\n\u001B[0;32m   5273\u001B[0m \u001B[43m        \u001B[49m\u001B[43merrors\u001B[49m\u001B[38;5;241;43m=\u001B[39;49m\u001B[43merrors\u001B[49m\u001B[43m,\u001B[49m\n\u001B[0;32m   5274\u001B[0m \u001B[43m    \u001B[49m\u001B[43m)\u001B[49m\n",
      "File \u001B[1;32mC:\\Python Files\\Data_science_bootcamp_2023\\venv\\lib\\site-packages\\pandas\\core\\generic.py:4549\u001B[0m, in \u001B[0;36mNDFrame.drop\u001B[1;34m(self, labels, axis, index, columns, level, inplace, errors)\u001B[0m\n\u001B[0;32m   4547\u001B[0m \u001B[38;5;28;01mfor\u001B[39;00m axis, labels \u001B[38;5;129;01min\u001B[39;00m axes\u001B[38;5;241m.\u001B[39mitems():\n\u001B[0;32m   4548\u001B[0m     \u001B[38;5;28;01mif\u001B[39;00m labels \u001B[38;5;129;01mis\u001B[39;00m \u001B[38;5;129;01mnot\u001B[39;00m \u001B[38;5;28;01mNone\u001B[39;00m:\n\u001B[1;32m-> 4549\u001B[0m         obj \u001B[38;5;241m=\u001B[39m \u001B[43mobj\u001B[49m\u001B[38;5;241;43m.\u001B[39;49m\u001B[43m_drop_axis\u001B[49m\u001B[43m(\u001B[49m\u001B[43mlabels\u001B[49m\u001B[43m,\u001B[49m\u001B[43m \u001B[49m\u001B[43maxis\u001B[49m\u001B[43m,\u001B[49m\u001B[43m \u001B[49m\u001B[43mlevel\u001B[49m\u001B[38;5;241;43m=\u001B[39;49m\u001B[43mlevel\u001B[49m\u001B[43m,\u001B[49m\u001B[43m \u001B[49m\u001B[43merrors\u001B[49m\u001B[38;5;241;43m=\u001B[39;49m\u001B[43merrors\u001B[49m\u001B[43m)\u001B[49m\n\u001B[0;32m   4551\u001B[0m \u001B[38;5;28;01mif\u001B[39;00m inplace:\n\u001B[0;32m   4552\u001B[0m     \u001B[38;5;28mself\u001B[39m\u001B[38;5;241m.\u001B[39m_update_inplace(obj)\n",
      "File \u001B[1;32mC:\\Python Files\\Data_science_bootcamp_2023\\venv\\lib\\site-packages\\pandas\\core\\generic.py:4591\u001B[0m, in \u001B[0;36mNDFrame._drop_axis\u001B[1;34m(self, labels, axis, level, errors, only_slice)\u001B[0m\n\u001B[0;32m   4589\u001B[0m         new_axis \u001B[38;5;241m=\u001B[39m axis\u001B[38;5;241m.\u001B[39mdrop(labels, level\u001B[38;5;241m=\u001B[39mlevel, errors\u001B[38;5;241m=\u001B[39merrors)\n\u001B[0;32m   4590\u001B[0m     \u001B[38;5;28;01melse\u001B[39;00m:\n\u001B[1;32m-> 4591\u001B[0m         new_axis \u001B[38;5;241m=\u001B[39m \u001B[43maxis\u001B[49m\u001B[38;5;241;43m.\u001B[39;49m\u001B[43mdrop\u001B[49m\u001B[43m(\u001B[49m\u001B[43mlabels\u001B[49m\u001B[43m,\u001B[49m\u001B[43m \u001B[49m\u001B[43merrors\u001B[49m\u001B[38;5;241;43m=\u001B[39;49m\u001B[43merrors\u001B[49m\u001B[43m)\u001B[49m\n\u001B[0;32m   4592\u001B[0m     indexer \u001B[38;5;241m=\u001B[39m axis\u001B[38;5;241m.\u001B[39mget_indexer(new_axis)\n\u001B[0;32m   4594\u001B[0m \u001B[38;5;66;03m# Case for non-unique axis\u001B[39;00m\n\u001B[0;32m   4595\u001B[0m \u001B[38;5;28;01melse\u001B[39;00m:\n",
      "File \u001B[1;32mC:\\Python Files\\Data_science_bootcamp_2023\\venv\\lib\\site-packages\\pandas\\core\\indexes\\base.py:6696\u001B[0m, in \u001B[0;36mIndex.drop\u001B[1;34m(self, labels, errors)\u001B[0m\n\u001B[0;32m   6694\u001B[0m \u001B[38;5;28;01mif\u001B[39;00m mask\u001B[38;5;241m.\u001B[39many():\n\u001B[0;32m   6695\u001B[0m     \u001B[38;5;28;01mif\u001B[39;00m errors \u001B[38;5;241m!=\u001B[39m \u001B[38;5;124m\"\u001B[39m\u001B[38;5;124mignore\u001B[39m\u001B[38;5;124m\"\u001B[39m:\n\u001B[1;32m-> 6696\u001B[0m         \u001B[38;5;28;01mraise\u001B[39;00m \u001B[38;5;167;01mKeyError\u001B[39;00m(\u001B[38;5;124mf\u001B[39m\u001B[38;5;124m\"\u001B[39m\u001B[38;5;132;01m{\u001B[39;00m\u001B[38;5;28mlist\u001B[39m(labels[mask])\u001B[38;5;132;01m}\u001B[39;00m\u001B[38;5;124m not found in axis\u001B[39m\u001B[38;5;124m\"\u001B[39m)\n\u001B[0;32m   6697\u001B[0m     indexer \u001B[38;5;241m=\u001B[39m indexer[\u001B[38;5;241m~\u001B[39mmask]\n\u001B[0;32m   6698\u001B[0m \u001B[38;5;28;01mreturn\u001B[39;00m \u001B[38;5;28mself\u001B[39m\u001B[38;5;241m.\u001B[39mdelete(indexer)\n",
      "\u001B[1;31mKeyError\u001B[0m: \"['dob', 'age'] not found in axis\""
     ]
    }
   ],
   "source": [
    "# df.drop(['dob', 'age'], axis=1, inplace=True)"
   ],
   "metadata": {
    "collapsed": false
   }
  },
  {
   "cell_type": "code",
   "execution_count": 75,
   "outputs": [],
   "source": [
    "df.drop(['E. Hazard', 'K. De Bruyne'], axis=0, inplace=True)"
   ],
   "metadata": {
    "collapsed": false
   }
  },
  {
   "cell_type": "code",
   "execution_count": 76,
   "outputs": [
    {
     "data": {
      "text/plain": "                                             long_name  height_cm  weight_kg   \nshort_name                                                                     \nL. Messi                Lionel Andrés Messi Cuccittini        170         72  \\\nCristiano Ronaldo  Cristiano Ronaldo dos Santos Aveiro        187         83   \nM. ter Stegen                    Marc-André ter Stegen        187         85   \nV. van Dijk                            Virgil van Dijk        193         92   \nL. Modrić                                  Luka Modrić        172         66   \n...                                                ...        ...        ...   \nShao Shuai                                          邵帅        186         79   \nXiao Mingjie                              Mingjie Xiao        177         66   \nZhang Wei                                           张威        186         75   \nWang Haijian                                       汪海健        185         74   \nPan Ximing                                         潘喜明        182         78   \n\n                   nationality                           club  \nshort_name                                                     \nL. Messi             Argentina                   FC Barcelona  \nCristiano Ronaldo     Portugal                       Juventus  \nM. ter Stegen          Germany                   FC Barcelona  \nV. van Dijk        Netherlands                      Liverpool  \nL. Modrić              Croatia                    Real Madrid  \n...                        ...                            ...  \nShao Shuai            China PR               Beijing Renhe FC  \nXiao Mingjie          China PR               Shanghai SIPG FC  \nZhang Wei             China PR         Hebei China Fortune FC  \nWang Haijian          China PR  Shanghai Greenland Shenhua FC  \nPan Ximing            China PR         Hebei China Fortune FC  \n\n[18274 rows x 5 columns]",
      "text/html": "<div>\n<style scoped>\n    .dataframe tbody tr th:only-of-type {\n        vertical-align: middle;\n    }\n\n    .dataframe tbody tr th {\n        vertical-align: top;\n    }\n\n    .dataframe thead th {\n        text-align: right;\n    }\n</style>\n<table border=\"1\" class=\"dataframe\">\n  <thead>\n    <tr style=\"text-align: right;\">\n      <th></th>\n      <th>long_name</th>\n      <th>height_cm</th>\n      <th>weight_kg</th>\n      <th>nationality</th>\n      <th>club</th>\n    </tr>\n    <tr>\n      <th>short_name</th>\n      <th></th>\n      <th></th>\n      <th></th>\n      <th></th>\n      <th></th>\n    </tr>\n  </thead>\n  <tbody>\n    <tr>\n      <th>L. Messi</th>\n      <td>Lionel Andrés Messi Cuccittini</td>\n      <td>170</td>\n      <td>72</td>\n      <td>Argentina</td>\n      <td>FC Barcelona</td>\n    </tr>\n    <tr>\n      <th>Cristiano Ronaldo</th>\n      <td>Cristiano Ronaldo dos Santos Aveiro</td>\n      <td>187</td>\n      <td>83</td>\n      <td>Portugal</td>\n      <td>Juventus</td>\n    </tr>\n    <tr>\n      <th>M. ter Stegen</th>\n      <td>Marc-André ter Stegen</td>\n      <td>187</td>\n      <td>85</td>\n      <td>Germany</td>\n      <td>FC Barcelona</td>\n    </tr>\n    <tr>\n      <th>V. van Dijk</th>\n      <td>Virgil van Dijk</td>\n      <td>193</td>\n      <td>92</td>\n      <td>Netherlands</td>\n      <td>Liverpool</td>\n    </tr>\n    <tr>\n      <th>L. Modrić</th>\n      <td>Luka Modrić</td>\n      <td>172</td>\n      <td>66</td>\n      <td>Croatia</td>\n      <td>Real Madrid</td>\n    </tr>\n    <tr>\n      <th>...</th>\n      <td>...</td>\n      <td>...</td>\n      <td>...</td>\n      <td>...</td>\n      <td>...</td>\n    </tr>\n    <tr>\n      <th>Shao Shuai</th>\n      <td>邵帅</td>\n      <td>186</td>\n      <td>79</td>\n      <td>China PR</td>\n      <td>Beijing Renhe FC</td>\n    </tr>\n    <tr>\n      <th>Xiao Mingjie</th>\n      <td>Mingjie Xiao</td>\n      <td>177</td>\n      <td>66</td>\n      <td>China PR</td>\n      <td>Shanghai SIPG FC</td>\n    </tr>\n    <tr>\n      <th>Zhang Wei</th>\n      <td>张威</td>\n      <td>186</td>\n      <td>75</td>\n      <td>China PR</td>\n      <td>Hebei China Fortune FC</td>\n    </tr>\n    <tr>\n      <th>Wang Haijian</th>\n      <td>汪海健</td>\n      <td>185</td>\n      <td>74</td>\n      <td>China PR</td>\n      <td>Shanghai Greenland Shenhua FC</td>\n    </tr>\n    <tr>\n      <th>Pan Ximing</th>\n      <td>潘喜明</td>\n      <td>182</td>\n      <td>78</td>\n      <td>China PR</td>\n      <td>Hebei China Fortune FC</td>\n    </tr>\n  </tbody>\n</table>\n<p>18274 rows × 5 columns</p>\n</div>"
     },
     "execution_count": 76,
     "metadata": {},
     "output_type": "execute_result"
    }
   ],
   "source": [
    "df"
   ],
   "metadata": {
    "collapsed": false
   }
  },
  {
   "cell_type": "code",
   "execution_count": 78,
   "outputs": [],
   "source": [
    "df['dob'] = 0"
   ],
   "metadata": {
    "collapsed": false
   }
  },
  {
   "cell_type": "code",
   "execution_count": 79,
   "outputs": [
    {
     "data": {
      "text/plain": "                                             long_name  height_cm  weight_kg   \nshort_name                                                                     \nL. Messi                Lionel Andrés Messi Cuccittini        170         72  \\\nCristiano Ronaldo  Cristiano Ronaldo dos Santos Aveiro        187         83   \nM. ter Stegen                    Marc-André ter Stegen        187         85   \nV. van Dijk                            Virgil van Dijk        193         92   \nL. Modrić                                  Luka Modrić        172         66   \n...                                                ...        ...        ...   \nShao Shuai                                          邵帅        186         79   \nXiao Mingjie                              Mingjie Xiao        177         66   \nZhang Wei                                           张威        186         75   \nWang Haijian                                       汪海健        185         74   \nPan Ximing                                         潘喜明        182         78   \n\n                   nationality                           club  dob  \nshort_name                                                          \nL. Messi             Argentina                   FC Barcelona    0  \nCristiano Ronaldo     Portugal                       Juventus    0  \nM. ter Stegen          Germany                   FC Barcelona    0  \nV. van Dijk        Netherlands                      Liverpool    0  \nL. Modrić              Croatia                    Real Madrid    0  \n...                        ...                            ...  ...  \nShao Shuai            China PR               Beijing Renhe FC    0  \nXiao Mingjie          China PR               Shanghai SIPG FC    0  \nZhang Wei             China PR         Hebei China Fortune FC    0  \nWang Haijian          China PR  Shanghai Greenland Shenhua FC    0  \nPan Ximing            China PR         Hebei China Fortune FC    0  \n\n[18274 rows x 6 columns]",
      "text/html": "<div>\n<style scoped>\n    .dataframe tbody tr th:only-of-type {\n        vertical-align: middle;\n    }\n\n    .dataframe tbody tr th {\n        vertical-align: top;\n    }\n\n    .dataframe thead th {\n        text-align: right;\n    }\n</style>\n<table border=\"1\" class=\"dataframe\">\n  <thead>\n    <tr style=\"text-align: right;\">\n      <th></th>\n      <th>long_name</th>\n      <th>height_cm</th>\n      <th>weight_kg</th>\n      <th>nationality</th>\n      <th>club</th>\n      <th>dob</th>\n    </tr>\n    <tr>\n      <th>short_name</th>\n      <th></th>\n      <th></th>\n      <th></th>\n      <th></th>\n      <th></th>\n      <th></th>\n    </tr>\n  </thead>\n  <tbody>\n    <tr>\n      <th>L. Messi</th>\n      <td>Lionel Andrés Messi Cuccittini</td>\n      <td>170</td>\n      <td>72</td>\n      <td>Argentina</td>\n      <td>FC Barcelona</td>\n      <td>0</td>\n    </tr>\n    <tr>\n      <th>Cristiano Ronaldo</th>\n      <td>Cristiano Ronaldo dos Santos Aveiro</td>\n      <td>187</td>\n      <td>83</td>\n      <td>Portugal</td>\n      <td>Juventus</td>\n      <td>0</td>\n    </tr>\n    <tr>\n      <th>M. ter Stegen</th>\n      <td>Marc-André ter Stegen</td>\n      <td>187</td>\n      <td>85</td>\n      <td>Germany</td>\n      <td>FC Barcelona</td>\n      <td>0</td>\n    </tr>\n    <tr>\n      <th>V. van Dijk</th>\n      <td>Virgil van Dijk</td>\n      <td>193</td>\n      <td>92</td>\n      <td>Netherlands</td>\n      <td>Liverpool</td>\n      <td>0</td>\n    </tr>\n    <tr>\n      <th>L. Modrić</th>\n      <td>Luka Modrić</td>\n      <td>172</td>\n      <td>66</td>\n      <td>Croatia</td>\n      <td>Real Madrid</td>\n      <td>0</td>\n    </tr>\n    <tr>\n      <th>...</th>\n      <td>...</td>\n      <td>...</td>\n      <td>...</td>\n      <td>...</td>\n      <td>...</td>\n      <td>...</td>\n    </tr>\n    <tr>\n      <th>Shao Shuai</th>\n      <td>邵帅</td>\n      <td>186</td>\n      <td>79</td>\n      <td>China PR</td>\n      <td>Beijing Renhe FC</td>\n      <td>0</td>\n    </tr>\n    <tr>\n      <th>Xiao Mingjie</th>\n      <td>Mingjie Xiao</td>\n      <td>177</td>\n      <td>66</td>\n      <td>China PR</td>\n      <td>Shanghai SIPG FC</td>\n      <td>0</td>\n    </tr>\n    <tr>\n      <th>Zhang Wei</th>\n      <td>张威</td>\n      <td>186</td>\n      <td>75</td>\n      <td>China PR</td>\n      <td>Hebei China Fortune FC</td>\n      <td>0</td>\n    </tr>\n    <tr>\n      <th>Wang Haijian</th>\n      <td>汪海健</td>\n      <td>185</td>\n      <td>74</td>\n      <td>China PR</td>\n      <td>Shanghai Greenland Shenhua FC</td>\n      <td>0</td>\n    </tr>\n    <tr>\n      <th>Pan Ximing</th>\n      <td>潘喜明</td>\n      <td>182</td>\n      <td>78</td>\n      <td>China PR</td>\n      <td>Hebei China Fortune FC</td>\n      <td>0</td>\n    </tr>\n  </tbody>\n</table>\n<p>18274 rows × 6 columns</p>\n</div>"
     },
     "execution_count": 79,
     "metadata": {},
     "output_type": "execute_result"
    }
   ],
   "source": [
    "df"
   ],
   "metadata": {
    "collapsed": false
   }
  },
  {
   "cell_type": "code",
   "execution_count": null,
   "outputs": [],
   "source": [],
   "metadata": {
    "collapsed": false
   }
  }
 ],
 "metadata": {
  "kernelspec": {
   "display_name": "Python 3",
   "language": "python",
   "name": "python3"
  },
  "language_info": {
   "codemirror_mode": {
    "name": "ipython",
    "version": 2
   },
   "file_extension": ".py",
   "mimetype": "text/x-python",
   "name": "python",
   "nbconvert_exporter": "python",
   "pygments_lexer": "ipython2",
   "version": "2.7.6"
  }
 },
 "nbformat": 4,
 "nbformat_minor": 0
}
