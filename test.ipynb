{
 "cells": [
  {
   "cell_type": "code",
   "execution_count": 1,
   "outputs": [],
   "source": [
    "import random\n",
    "\n",
    "import pandas as pd"
   ],
   "metadata": {
    "collapsed": false
   }
  },
  {
   "cell_type": "code",
   "execution_count": 2,
   "metadata": {
    "collapsed": true
   },
   "outputs": [
    {
     "name": "stdout",
     "output_type": "stream",
     "text": [
      "   var1  var2  has_duplicates\n",
      "0     1    10           False\n",
      "1     2    20           False\n",
      "2     3    30           False\n",
      "3     4    20            True\n",
      "4     5    40           False\n",
      "5     5    10            True\n"
     ]
    }
   ],
   "source": [
    "# 21\n",
    "# Write a piece of code that checks if the values of var2 in DataFrame df have duplicates;\n",
    "# result to be stored as a variable in the same df.\n",
    "\n",
    "dff = pd.DataFrame({\n",
    "    'var1': [1, 2, 3, 4, 5, 5],\n",
    "    'var2': [10, 20, 30, 20, 40, 10]\n",
    "})\n",
    "\n",
    "# Check for duplicates and store the result\n",
    "dff['has_duplicates'] = dff.duplicated(subset='var2')\n",
    "\n",
    "# Print the modified DataFrame\n",
    "print(dff)"
   ]
  },
  {
   "cell_type": "code",
   "execution_count": 3,
   "outputs": [
    {
     "name": "stdout",
     "output_type": "stream",
     "text": [
      "  First_Name  Variable1   Name  Variable2 match_flag\n",
      "0       John       10.0   John      100.0         ab\n",
      "1      Alice       20.0  Alice      200.0         ab\n",
      "2        Bob       30.0    NaN        NaN          a\n",
      "3       Jane       40.0    NaN        NaN          a\n",
      "4        NaN        NaN    Tom      300.0          b\n",
      "5        NaN        NaN  Jerry      400.0          b\n"
     ]
    }
   ],
   "source": [
    "# 22\n",
    "# You have 2 DataFrames: df1 and df2. Create df3 by merging them\n",
    "# - based on variables ['First_Name'] in df1 and ['Name'] in df2;\n",
    "# - take all observations, even if they don’t have a match;\n",
    "# - create a variable \"match_flag\" that shows which dataframe the row comes from (e.g. only from a/only from b/from both ab).\n",
    "\n",
    "import pandas as pd\n",
    "\n",
    "# Sample DataFrames\n",
    "df1 = pd.DataFrame({\n",
    "    'First_Name': ['John', 'Alice', 'Bob', 'Jane'],\n",
    "    'Variable1': [10, 20, 30, 40]\n",
    "})\n",
    "\n",
    "df2 = pd.DataFrame({\n",
    "    'Name': ['John', 'Alice', 'Tom', 'Jerry'],\n",
    "    'Variable2': [100, 200, 300, 400]\n",
    "})\n",
    "\n",
    "# Merge df1 and df2 on specific variables\n",
    "df3 = pd.merge(df1, df2, left_on='First_Name', right_on='Name', how='outer')\n",
    "\n",
    "# Create match_flag column\n",
    "df3['match_flag'] = df3.apply(lambda row: 'a' if pd.notnull(row['First_Name']) and pd.isnull(row['Name'])\n",
    "                                else 'b' if pd.isnull(row['First_Name']) and pd.notnull(row['Name'])\n",
    "                                else 'ab', axis=1)\n",
    "\n",
    "print(df3)\n",
    "# Drop the redundant 'Name' column\n",
    "# df3.drop('Name', axis=1, inplace=True)\n",
    "#\n",
    "# # Print the merged DataFrame (df3)\n",
    "# print(df3)\n"
   ],
   "metadata": {
    "collapsed": false
   }
  },
  {
   "cell_type": "code",
   "execution_count": 4,
   "outputs": [
    {
     "name": "stdout",
     "output_type": "stream",
     "text": [
      "  Customer ID Marital status  Annual income\n",
      "0        C001        Married          50000\n",
      "2        C003         Single          70000\n",
      "4        C005         Single          80000\n"
     ]
    }
   ],
   "source": [
    "# 23\n",
    "# Create a DataFrame df2 that takes all rows from DataFrame df1 where variable \"Sample\" has value\n",
    "# \"development\". Take only columns \"Customer ID\", \"Marital status\" and \"Annual income\"\n",
    "\n",
    "\n",
    "# Sample DataFrame df1\n",
    "df1 = pd.DataFrame({\n",
    "    'Customer ID': ['C001', 'C002', 'C003', 'C004', 'C005'],\n",
    "    'Sample': ['development', 'test', 'development', 'test', 'development'],\n",
    "    'Marital status': ['Married', 'Single', 'Single', 'Married', 'Single'],\n",
    "    'Annual income': [50000, 60000, 70000, 55000, 80000]\n",
    "})\n",
    "\n",
    "# Select rows based on \"Sample\" value and specific columns\n",
    "df2 = df1[df1['Sample'] == 'development'][['Customer ID', 'Marital status', 'Annual income']]\n",
    "\n",
    "# Print the resulting DataFrame (df2)\n",
    "print(df2)\n"
   ],
   "metadata": {
    "collapsed": false
   }
  },
  {
   "cell_type": "code",
   "execution_count": 5,
   "outputs": [],
   "source": [
    "import numpy as np\n",
    "\n",
    "data = np.array([[1, 4], [2, 5], [3, 6]])"
   ],
   "metadata": {
    "collapsed": false
   }
  },
  {
   "cell_type": "code",
   "execution_count": 6,
   "outputs": [
    {
     "data": {
      "text/plain": "      col1  col2\nrow      1     4\nrow2     2     5\nrow3     3     6",
      "text/html": "<div>\n<style scoped>\n    .dataframe tbody tr th:only-of-type {\n        vertical-align: middle;\n    }\n\n    .dataframe tbody tr th {\n        vertical-align: top;\n    }\n\n    .dataframe thead th {\n        text-align: right;\n    }\n</style>\n<table border=\"1\" class=\"dataframe\">\n  <thead>\n    <tr style=\"text-align: right;\">\n      <th></th>\n      <th>col1</th>\n      <th>col2</th>\n    </tr>\n  </thead>\n  <tbody>\n    <tr>\n      <th>row</th>\n      <td>1</td>\n      <td>4</td>\n    </tr>\n    <tr>\n      <th>row2</th>\n      <td>2</td>\n      <td>5</td>\n    </tr>\n    <tr>\n      <th>row3</th>\n      <td>3</td>\n      <td>6</td>\n    </tr>\n  </tbody>\n</table>\n</div>"
     },
     "execution_count": 6,
     "metadata": {},
     "output_type": "execute_result"
    }
   ],
   "source": [
    "df = pd.DataFrame(data, columns = ['col1', 'col2'], index=['row','row2', 'row3'])\n",
    "df"
   ],
   "metadata": {
    "collapsed": false
   }
  },
  {
   "cell_type": "code",
   "execution_count": 7,
   "outputs": [
    {
     "data": {
      "text/plain": "3"
     },
     "execution_count": 7,
     "metadata": {},
     "output_type": "execute_result"
    }
   ],
   "source": [
    "len(df)"
   ],
   "metadata": {
    "collapsed": false
   }
  },
  {
   "cell_type": "code",
   "execution_count": 8,
   "outputs": [
    {
     "data": {
      "text/plain": "2"
     },
     "execution_count": 8,
     "metadata": {},
     "output_type": "execute_result"
    }
   ],
   "source": [
    "len(df.columns)"
   ],
   "metadata": {
    "collapsed": false
   }
  },
  {
   "cell_type": "code",
   "execution_count": 11,
   "outputs": [
    {
     "data": {
      "text/plain": "                                                  Name   \n0                        10-Day Green Smoothie Cleanse  \\\n1                                    11/22/63: A Novel   \n2              12 Rules for Life: An Antidote to Chaos   \n3                               1984 (Signet Classics)   \n4    5,000 Awesome Facts (About Everything!) (Natio...   \n..                                                 ...   \n545       Wrecking Ball (Diary of a Wimpy Kid Book 14)   \n546  You Are a Badass: How to Stop Doubting Your Gr...   \n547  You Are a Badass: How to Stop Doubting Your Gr...   \n548  You Are a Badass: How to Stop Doubting Your Gr...   \n549  You Are a Badass: How to Stop Doubting Your Gr...   \n\n                       Author  User Rating  Reviews  Price  Year        Genre  \n0                    JJ Smith          4.7    17350      8  2016  Non Fiction  \n1                Stephen King          4.6     2052     22  2011      Fiction  \n2          Jordan B. Peterson          4.7    18979     15  2018  Non Fiction  \n3               George Orwell          4.7    21424      6  2017      Fiction  \n4    National Geographic Kids          4.8     7665     12  2019  Non Fiction  \n..                        ...          ...      ...    ...   ...          ...  \n545               Jeff Kinney          4.9     9413      8  2019      Fiction  \n546               Jen Sincero          4.7    14331      8  2016  Non Fiction  \n547               Jen Sincero          4.7    14331      8  2017  Non Fiction  \n548               Jen Sincero          4.7    14331      8  2018  Non Fiction  \n549               Jen Sincero          4.7    14331      8  2019  Non Fiction  \n\n[550 rows x 7 columns]",
      "text/html": "<div>\n<style scoped>\n    .dataframe tbody tr th:only-of-type {\n        vertical-align: middle;\n    }\n\n    .dataframe tbody tr th {\n        vertical-align: top;\n    }\n\n    .dataframe thead th {\n        text-align: right;\n    }\n</style>\n<table border=\"1\" class=\"dataframe\">\n  <thead>\n    <tr style=\"text-align: right;\">\n      <th></th>\n      <th>Name</th>\n      <th>Author</th>\n      <th>User Rating</th>\n      <th>Reviews</th>\n      <th>Price</th>\n      <th>Year</th>\n      <th>Genre</th>\n    </tr>\n  </thead>\n  <tbody>\n    <tr>\n      <th>0</th>\n      <td>10-Day Green Smoothie Cleanse</td>\n      <td>JJ Smith</td>\n      <td>4.7</td>\n      <td>17350</td>\n      <td>8</td>\n      <td>2016</td>\n      <td>Non Fiction</td>\n    </tr>\n    <tr>\n      <th>1</th>\n      <td>11/22/63: A Novel</td>\n      <td>Stephen King</td>\n      <td>4.6</td>\n      <td>2052</td>\n      <td>22</td>\n      <td>2011</td>\n      <td>Fiction</td>\n    </tr>\n    <tr>\n      <th>2</th>\n      <td>12 Rules for Life: An Antidote to Chaos</td>\n      <td>Jordan B. Peterson</td>\n      <td>4.7</td>\n      <td>18979</td>\n      <td>15</td>\n      <td>2018</td>\n      <td>Non Fiction</td>\n    </tr>\n    <tr>\n      <th>3</th>\n      <td>1984 (Signet Classics)</td>\n      <td>George Orwell</td>\n      <td>4.7</td>\n      <td>21424</td>\n      <td>6</td>\n      <td>2017</td>\n      <td>Fiction</td>\n    </tr>\n    <tr>\n      <th>4</th>\n      <td>5,000 Awesome Facts (About Everything!) (Natio...</td>\n      <td>National Geographic Kids</td>\n      <td>4.8</td>\n      <td>7665</td>\n      <td>12</td>\n      <td>2019</td>\n      <td>Non Fiction</td>\n    </tr>\n    <tr>\n      <th>...</th>\n      <td>...</td>\n      <td>...</td>\n      <td>...</td>\n      <td>...</td>\n      <td>...</td>\n      <td>...</td>\n      <td>...</td>\n    </tr>\n    <tr>\n      <th>545</th>\n      <td>Wrecking Ball (Diary of a Wimpy Kid Book 14)</td>\n      <td>Jeff Kinney</td>\n      <td>4.9</td>\n      <td>9413</td>\n      <td>8</td>\n      <td>2019</td>\n      <td>Fiction</td>\n    </tr>\n    <tr>\n      <th>546</th>\n      <td>You Are a Badass: How to Stop Doubting Your Gr...</td>\n      <td>Jen Sincero</td>\n      <td>4.7</td>\n      <td>14331</td>\n      <td>8</td>\n      <td>2016</td>\n      <td>Non Fiction</td>\n    </tr>\n    <tr>\n      <th>547</th>\n      <td>You Are a Badass: How to Stop Doubting Your Gr...</td>\n      <td>Jen Sincero</td>\n      <td>4.7</td>\n      <td>14331</td>\n      <td>8</td>\n      <td>2017</td>\n      <td>Non Fiction</td>\n    </tr>\n    <tr>\n      <th>548</th>\n      <td>You Are a Badass: How to Stop Doubting Your Gr...</td>\n      <td>Jen Sincero</td>\n      <td>4.7</td>\n      <td>14331</td>\n      <td>8</td>\n      <td>2018</td>\n      <td>Non Fiction</td>\n    </tr>\n    <tr>\n      <th>549</th>\n      <td>You Are a Badass: How to Stop Doubting Your Gr...</td>\n      <td>Jen Sincero</td>\n      <td>4.7</td>\n      <td>14331</td>\n      <td>8</td>\n      <td>2019</td>\n      <td>Non Fiction</td>\n    </tr>\n  </tbody>\n</table>\n<p>550 rows × 7 columns</p>\n</div>"
     },
     "execution_count": 11,
     "metadata": {},
     "output_type": "execute_result"
    }
   ],
   "source": [
    "df_amazon = pd.read_csv('data_files/bestsellers+with+categories.csv')\n",
    "df_amazon"
   ],
   "metadata": {
    "collapsed": false
   }
  },
  {
   "cell_type": "code",
   "execution_count": 12,
   "outputs": [
    {
     "data": {
      "text/plain": "(550, 7)"
     },
     "execution_count": 12,
     "metadata": {},
     "output_type": "execute_result"
    }
   ],
   "source": [
    "df_amazon.shape"
   ],
   "metadata": {
    "collapsed": false
   }
  },
  {
   "cell_type": "code",
   "execution_count": 13,
   "outputs": [
    {
     "data": {
      "text/plain": "Name            object\nAuthor          object\nUser Rating    float64\nReviews          int64\nPrice            int64\nYear             int64\nGenre           object\ndtype: object"
     },
     "execution_count": 13,
     "metadata": {},
     "output_type": "execute_result"
    }
   ],
   "source": [
    "df_amazon.dtypes"
   ],
   "metadata": {
    "collapsed": false
   }
  },
  {
   "cell_type": "code",
   "execution_count": 16,
   "outputs": [
    {
     "data": {
      "text/plain": "                                                  Name       Author   \n545       Wrecking Ball (Diary of a Wimpy Kid Book 14)  Jeff Kinney  \\\n546  You Are a Badass: How to Stop Doubting Your Gr...  Jen Sincero   \n547  You Are a Badass: How to Stop Doubting Your Gr...  Jen Sincero   \n548  You Are a Badass: How to Stop Doubting Your Gr...  Jen Sincero   \n549  You Are a Badass: How to Stop Doubting Your Gr...  Jen Sincero   \n\n     User Rating  Reviews  Price  Year        Genre  \n545          4.9     9413      8  2019      Fiction  \n546          4.7    14331      8  2016  Non Fiction  \n547          4.7    14331      8  2017  Non Fiction  \n548          4.7    14331      8  2018  Non Fiction  \n549          4.7    14331      8  2019  Non Fiction  ",
      "text/html": "<div>\n<style scoped>\n    .dataframe tbody tr th:only-of-type {\n        vertical-align: middle;\n    }\n\n    .dataframe tbody tr th {\n        vertical-align: top;\n    }\n\n    .dataframe thead th {\n        text-align: right;\n    }\n</style>\n<table border=\"1\" class=\"dataframe\">\n  <thead>\n    <tr style=\"text-align: right;\">\n      <th></th>\n      <th>Name</th>\n      <th>Author</th>\n      <th>User Rating</th>\n      <th>Reviews</th>\n      <th>Price</th>\n      <th>Year</th>\n      <th>Genre</th>\n    </tr>\n  </thead>\n  <tbody>\n    <tr>\n      <th>545</th>\n      <td>Wrecking Ball (Diary of a Wimpy Kid Book 14)</td>\n      <td>Jeff Kinney</td>\n      <td>4.9</td>\n      <td>9413</td>\n      <td>8</td>\n      <td>2019</td>\n      <td>Fiction</td>\n    </tr>\n    <tr>\n      <th>546</th>\n      <td>You Are a Badass: How to Stop Doubting Your Gr...</td>\n      <td>Jen Sincero</td>\n      <td>4.7</td>\n      <td>14331</td>\n      <td>8</td>\n      <td>2016</td>\n      <td>Non Fiction</td>\n    </tr>\n    <tr>\n      <th>547</th>\n      <td>You Are a Badass: How to Stop Doubting Your Gr...</td>\n      <td>Jen Sincero</td>\n      <td>4.7</td>\n      <td>14331</td>\n      <td>8</td>\n      <td>2017</td>\n      <td>Non Fiction</td>\n    </tr>\n    <tr>\n      <th>548</th>\n      <td>You Are a Badass: How to Stop Doubting Your Gr...</td>\n      <td>Jen Sincero</td>\n      <td>4.7</td>\n      <td>14331</td>\n      <td>8</td>\n      <td>2018</td>\n      <td>Non Fiction</td>\n    </tr>\n    <tr>\n      <th>549</th>\n      <td>You Are a Badass: How to Stop Doubting Your Gr...</td>\n      <td>Jen Sincero</td>\n      <td>4.7</td>\n      <td>14331</td>\n      <td>8</td>\n      <td>2019</td>\n      <td>Non Fiction</td>\n    </tr>\n  </tbody>\n</table>\n</div>"
     },
     "execution_count": 16,
     "metadata": {},
     "output_type": "execute_result"
    }
   ],
   "source": [
    "df_amazon.tail()"
   ],
   "metadata": {
    "collapsed": false
   }
  },
  {
   "cell_type": "code",
   "execution_count": 17,
   "outputs": [
    {
     "data": {
      "text/plain": "                                                Name   \n0                      10-Day Green Smoothie Cleanse  \\\n1                                  11/22/63: A Novel   \n2            12 Rules for Life: An Antidote to Chaos   \n3                             1984 (Signet Classics)   \n4  5,000 Awesome Facts (About Everything!) (Natio...   \n\n                     Author  User Rating  Reviews  Price  Year        Genre  \n0                  JJ Smith          4.7    17350      8  2016  Non Fiction  \n1              Stephen King          4.6     2052     22  2011      Fiction  \n2        Jordan B. Peterson          4.7    18979     15  2018  Non Fiction  \n3             George Orwell          4.7    21424      6  2017      Fiction  \n4  National Geographic Kids          4.8     7665     12  2019  Non Fiction  ",
      "text/html": "<div>\n<style scoped>\n    .dataframe tbody tr th:only-of-type {\n        vertical-align: middle;\n    }\n\n    .dataframe tbody tr th {\n        vertical-align: top;\n    }\n\n    .dataframe thead th {\n        text-align: right;\n    }\n</style>\n<table border=\"1\" class=\"dataframe\">\n  <thead>\n    <tr style=\"text-align: right;\">\n      <th></th>\n      <th>Name</th>\n      <th>Author</th>\n      <th>User Rating</th>\n      <th>Reviews</th>\n      <th>Price</th>\n      <th>Year</th>\n      <th>Genre</th>\n    </tr>\n  </thead>\n  <tbody>\n    <tr>\n      <th>0</th>\n      <td>10-Day Green Smoothie Cleanse</td>\n      <td>JJ Smith</td>\n      <td>4.7</td>\n      <td>17350</td>\n      <td>8</td>\n      <td>2016</td>\n      <td>Non Fiction</td>\n    </tr>\n    <tr>\n      <th>1</th>\n      <td>11/22/63: A Novel</td>\n      <td>Stephen King</td>\n      <td>4.6</td>\n      <td>2052</td>\n      <td>22</td>\n      <td>2011</td>\n      <td>Fiction</td>\n    </tr>\n    <tr>\n      <th>2</th>\n      <td>12 Rules for Life: An Antidote to Chaos</td>\n      <td>Jordan B. Peterson</td>\n      <td>4.7</td>\n      <td>18979</td>\n      <td>15</td>\n      <td>2018</td>\n      <td>Non Fiction</td>\n    </tr>\n    <tr>\n      <th>3</th>\n      <td>1984 (Signet Classics)</td>\n      <td>George Orwell</td>\n      <td>4.7</td>\n      <td>21424</td>\n      <td>6</td>\n      <td>2017</td>\n      <td>Fiction</td>\n    </tr>\n    <tr>\n      <th>4</th>\n      <td>5,000 Awesome Facts (About Everything!) (Natio...</td>\n      <td>National Geographic Kids</td>\n      <td>4.8</td>\n      <td>7665</td>\n      <td>12</td>\n      <td>2019</td>\n      <td>Non Fiction</td>\n    </tr>\n  </tbody>\n</table>\n</div>"
     },
     "execution_count": 17,
     "metadata": {},
     "output_type": "execute_result"
    }
   ],
   "source": [
    "df_amazon.head()"
   ],
   "metadata": {
    "collapsed": false
   }
  },
  {
   "cell_type": "code",
   "execution_count": 27,
   "outputs": [
    {
     "data": {
      "text/plain": "array([  1,   2,   3,   4,   5,   6,   7,   8,   9,  10,  11,  12,  13,\n        14,  15,  16,  17,  18,  19,  20,  21,  22,  23,  24,  25,  26,\n        27,  28,  29,  30,  31,  32,  33,  34,  35,  36,  37,  38,  39,\n        40,  41,  42,  43,  44,  45,  46,  47,  48,  49,  50,  51,  52,\n        53,  54,  55,  56,  57,  58,  59,  60,  61,  62,  63,  64,  65,\n        66,  67,  68,  69,  70,  71,  72,  73,  74,  75,  76,  77,  78,\n        79,  80,  81,  82,  83,  84,  85,  86,  87,  88,  89,  90,  91,\n        92,  93,  94,  95,  96,  97,  98,  99, 100, 101, 102, 103, 104,\n       105, 106, 107, 108, 109, 110, 111, 112, 113, 114, 115, 116, 117,\n       118, 119, 120, 121, 122, 123, 124, 125, 126, 127, 128, 129, 130,\n       131, 132, 133, 134, 135, 136, 137, 138, 139, 140, 141, 142, 143,\n       144, 145, 146, 147, 148, 149, 150, 151, 152, 153, 154, 155, 156,\n       157, 158, 159, 160, 161, 162, 163, 164, 165, 166, 167, 168, 169,\n       170, 171, 172, 173, 174, 175, 176, 177, 178, 179, 180, 181, 182,\n       183, 184, 185, 186, 187, 188, 189, 190, 191, 192, 193, 194, 195,\n       196, 197, 198, 199, 200, 201, 202, 203, 204, 205, 206, 207, 208,\n       209, 210, 211, 212, 213, 214, 215, 216, 217, 218, 219, 220, 221,\n       222, 223, 224, 225, 226, 227, 228, 229, 230, 231, 232, 233, 234,\n       235, 236, 237, 238, 239, 240, 241, 242, 243, 244, 245, 246, 247,\n       248, 249, 250, 251, 252, 253, 254, 255, 256, 257, 258, 259, 260,\n       261, 262, 263, 264, 265, 266, 267, 268, 269, 270, 271, 272, 273,\n       274, 275, 276, 277, 278, 279, 280, 281, 282, 283, 284, 285, 286,\n       287, 288, 289, 290, 291, 292, 293, 294, 295, 296, 297, 298, 299,\n       300, 301, 302, 303, 304, 305, 306, 307, 308, 309, 310, 311, 312,\n       313, 314, 315, 316, 317, 318, 319, 320, 321, 322, 323, 324, 325,\n       326, 327, 328, 329, 330, 331, 332, 333, 334, 335, 336, 337, 338,\n       339, 340, 341, 342, 343, 344, 345, 346, 347, 348, 349, 350, 351,\n       352, 353, 354, 355, 356, 357, 358, 359, 360, 361, 362, 363, 364,\n       365, 366, 367, 368, 369, 370, 371, 372, 373, 374, 375, 376, 377,\n       378, 379, 380, 381, 382, 383, 384, 385, 386, 387, 388, 389, 390,\n       391, 392, 393, 394, 395, 396, 397, 398, 399, 400, 401, 402, 403,\n       404, 405, 406, 407, 408, 409, 410, 411, 412, 413, 414, 415, 416,\n       417, 418, 419, 420, 421, 422, 423, 424, 425, 426, 427, 428, 429,\n       430, 431, 432, 433, 434, 435, 436, 437, 438, 439, 440, 441, 442,\n       443, 444, 445, 446, 447, 448, 449, 450, 451, 452, 453, 454, 455,\n       456, 457, 458, 459, 460, 461, 462, 463, 464, 465, 466, 467, 468,\n       469, 470, 471, 472, 473, 474, 475, 476, 477, 478, 479, 480, 481,\n       482, 483, 484, 485, 486, 487, 488, 489, 490, 491, 492, 493, 494,\n       495, 496, 497, 498, 499, 500, 501, 502, 503, 504, 505, 506, 507,\n       508, 509, 510, 511, 512, 513, 514, 515, 516, 517, 518, 519, 520,\n       521, 522, 523, 524, 525, 526, 527, 528, 529, 530, 531, 532, 533,\n       534, 535, 536, 537, 538, 539, 540, 541, 542, 543, 544, 545, 546,\n       547, 548, 549, 550])"
     },
     "execution_count": 27,
     "metadata": {},
     "output_type": "execute_result"
    }
   ],
   "source": [
    "arr = np.arange(1, 551)\n",
    "arr"
   ],
   "metadata": {
    "collapsed": false
   }
  },
  {
   "cell_type": "code",
   "execution_count": 28,
   "outputs": [
    {
     "data": {
      "text/plain": "array([207, 416, 117, 243, 494, 488, 304, 227, 466, 457, 388,  99, 402,\n       104, 417, 166, 481, 362,  87, 135, 254, 392,  75, 454, 511, 265,\n       462, 129, 190, 255, 500, 160, 478, 317, 331, 336, 502, 525, 279,\n       191, 204,  60, 357, 381, 384,  91,  24, 421, 272, 351, 131, 244,\n       273, 240, 193, 420, 250, 344, 234, 222,  40, 543, 248,  64,  32,\n        50,  21, 490, 359, 531, 367,   5, 326, 413,  34, 215, 153,  84,\n       537, 356, 164,  88, 415, 154,   3,  53, 448, 389, 100, 126, 424,\n       372, 289, 533, 495,  43,  58, 423,  76, 305,  77, 352, 270,  18,\n       534, 261,  47, 365, 429, 447, 237, 532, 321, 316, 233, 156,  93,\n        94, 186, 144, 368, 177, 458, 223, 197,   6, 515, 118, 143, 170,\n       114, 386,   2, 180, 123, 266,  80, 314, 505, 496, 235, 464, 349,\n       328, 510, 547, 396, 145, 232, 456,  37, 110,   4, 475, 341, 150,\n       162, 507, 102, 449, 520, 169, 477, 366, 444, 113, 277, 522, 268,\n        48, 327, 152, 306,  66, 410,  86, 161, 385, 211, 441, 535, 147,\n       303, 176, 538,  85, 487, 288, 347, 124, 546, 219, 158, 127,  30,\n        92, 479, 361, 342, 192, 319, 436, 119, 252,  96,  78, 506, 275,\n       509, 283,  20, 550,  81, 504, 148, 189, 325, 524, 221, 482, 391,\n       181, 141,  15, 291, 267, 171, 422, 369, 231, 465, 260, 374, 446,\n       320, 149,  90, 309,  26, 115, 472, 297, 497, 403,  36, 242, 377,\n        95, 264,  28, 116, 210, 253, 173, 125, 508,  54, 521, 340, 259,\n       501, 271, 455,   8,  13,  98, 400, 350,  61, 133, 208, 527, 544,\n       445, 183, 296, 247, 278,  82,  52, 136, 375, 333, 355, 295, 157,\n       310,  73, 138, 528, 440, 301, 541, 491, 236, 363, 380, 165,  16,\n       414, 343, 107, 200, 282, 463, 298, 379, 376, 348, 324,  97, 218,\n        67, 474, 196,  19,  49, 174, 378, 202,  35, 453, 549, 214,  51,\n         9, 358, 364, 540, 308, 434, 371, 101, 307, 353,  39, 205, 216,\n       387, 483, 486, 485, 111, 175, 431, 529, 432, 195, 338, 418, 274,\n       140, 398, 299, 476,  56, 311, 443,  22, 132, 185,  57, 206, 473,\n       245, 182, 492, 530, 390, 258, 335, 142, 293,  31, 467, 249, 313,\n       339,   7, 220, 397, 545, 442,  89, 330,  12, 179, 302,  41, 286,\n        25,  27, 412, 122, 427, 163, 229, 228, 470, 383,  79, 519, 395,\n       225, 290,  38,  68, 459,  69,  71, 512,  23,  42, 103, 503, 437,\n       121, 284,  55, 460,  45, 256,  11, 217, 452, 238,  29, 213, 318,\n       139, 516, 262, 209, 184, 172, 480, 542, 287, 263, 178, 224,  65,\n       499, 408, 285, 137, 109, 203, 450, 526, 334, 382, 399, 518, 419,\n       188, 281, 360, 112,  44,   1, 345,  72, 105, 523, 425, 513, 292,\n       134,  63, 433, 155, 405, 120, 322, 246, 280, 168,  70, 194, 151,\n        59, 469, 300, 493, 198, 294,  46, 329, 230,  17, 393, 276, 406,\n       514, 130, 106, 471,  14, 548, 435, 370, 407, 315, 489, 394, 239,\n        83, 332, 241, 201, 269, 401, 226, 498, 461, 167, 430, 484, 536,\n       323, 438, 404, 411, 409, 337, 439, 354, 517, 199, 251, 187, 212,\n        33,  62, 426, 539, 159,  74, 451, 257, 108, 428, 468, 373, 128,\n        10, 146, 312, 346])"
     },
     "execution_count": 28,
     "metadata": {},
     "output_type": "execute_result"
    }
   ],
   "source": [
    "import random\n",
    "random.shuffle(arr)\n",
    "arr"
   ],
   "metadata": {
    "collapsed": false
   }
  },
  {
   "cell_type": "code",
   "execution_count": 29,
   "outputs": [],
   "source": [
    "df_amazon['Critic Rating'] = arr"
   ],
   "metadata": {
    "collapsed": false
   }
  },
  {
   "cell_type": "code",
   "execution_count": 30,
   "outputs": [
    {
     "data": {
      "text/plain": "                                                  Name   \n0                        10-Day Green Smoothie Cleanse  \\\n1                                    11/22/63: A Novel   \n2              12 Rules for Life: An Antidote to Chaos   \n3                               1984 (Signet Classics)   \n4    5,000 Awesome Facts (About Everything!) (Natio...   \n..                                                 ...   \n545       Wrecking Ball (Diary of a Wimpy Kid Book 14)   \n546  You Are a Badass: How to Stop Doubting Your Gr...   \n547  You Are a Badass: How to Stop Doubting Your Gr...   \n548  You Are a Badass: How to Stop Doubting Your Gr...   \n549  You Are a Badass: How to Stop Doubting Your Gr...   \n\n                       Author  User Rating  Reviews  Price  Year        Genre   \n0                    JJ Smith          4.7    17350      8  2016  Non Fiction  \\\n1                Stephen King          4.6     2052     22  2011      Fiction   \n2          Jordan B. Peterson          4.7    18979     15  2018  Non Fiction   \n3               George Orwell          4.7    21424      6  2017      Fiction   \n4    National Geographic Kids          4.8     7665     12  2019  Non Fiction   \n..                        ...          ...      ...    ...   ...          ...   \n545               Jeff Kinney          4.9     9413      8  2019      Fiction   \n546               Jen Sincero          4.7    14331      8  2016  Non Fiction   \n547               Jen Sincero          4.7    14331      8  2017  Non Fiction   \n548               Jen Sincero          4.7    14331      8  2018  Non Fiction   \n549               Jen Sincero          4.7    14331      8  2019  Non Fiction   \n\n     Critic Rating  \n0              207  \n1              416  \n2              117  \n3              243  \n4              494  \n..             ...  \n545            128  \n546             10  \n547            146  \n548            312  \n549            346  \n\n[550 rows x 8 columns]",
      "text/html": "<div>\n<style scoped>\n    .dataframe tbody tr th:only-of-type {\n        vertical-align: middle;\n    }\n\n    .dataframe tbody tr th {\n        vertical-align: top;\n    }\n\n    .dataframe thead th {\n        text-align: right;\n    }\n</style>\n<table border=\"1\" class=\"dataframe\">\n  <thead>\n    <tr style=\"text-align: right;\">\n      <th></th>\n      <th>Name</th>\n      <th>Author</th>\n      <th>User Rating</th>\n      <th>Reviews</th>\n      <th>Price</th>\n      <th>Year</th>\n      <th>Genre</th>\n      <th>Critic Rating</th>\n    </tr>\n  </thead>\n  <tbody>\n    <tr>\n      <th>0</th>\n      <td>10-Day Green Smoothie Cleanse</td>\n      <td>JJ Smith</td>\n      <td>4.7</td>\n      <td>17350</td>\n      <td>8</td>\n      <td>2016</td>\n      <td>Non Fiction</td>\n      <td>207</td>\n    </tr>\n    <tr>\n      <th>1</th>\n      <td>11/22/63: A Novel</td>\n      <td>Stephen King</td>\n      <td>4.6</td>\n      <td>2052</td>\n      <td>22</td>\n      <td>2011</td>\n      <td>Fiction</td>\n      <td>416</td>\n    </tr>\n    <tr>\n      <th>2</th>\n      <td>12 Rules for Life: An Antidote to Chaos</td>\n      <td>Jordan B. Peterson</td>\n      <td>4.7</td>\n      <td>18979</td>\n      <td>15</td>\n      <td>2018</td>\n      <td>Non Fiction</td>\n      <td>117</td>\n    </tr>\n    <tr>\n      <th>3</th>\n      <td>1984 (Signet Classics)</td>\n      <td>George Orwell</td>\n      <td>4.7</td>\n      <td>21424</td>\n      <td>6</td>\n      <td>2017</td>\n      <td>Fiction</td>\n      <td>243</td>\n    </tr>\n    <tr>\n      <th>4</th>\n      <td>5,000 Awesome Facts (About Everything!) (Natio...</td>\n      <td>National Geographic Kids</td>\n      <td>4.8</td>\n      <td>7665</td>\n      <td>12</td>\n      <td>2019</td>\n      <td>Non Fiction</td>\n      <td>494</td>\n    </tr>\n    <tr>\n      <th>...</th>\n      <td>...</td>\n      <td>...</td>\n      <td>...</td>\n      <td>...</td>\n      <td>...</td>\n      <td>...</td>\n      <td>...</td>\n      <td>...</td>\n    </tr>\n    <tr>\n      <th>545</th>\n      <td>Wrecking Ball (Diary of a Wimpy Kid Book 14)</td>\n      <td>Jeff Kinney</td>\n      <td>4.9</td>\n      <td>9413</td>\n      <td>8</td>\n      <td>2019</td>\n      <td>Fiction</td>\n      <td>128</td>\n    </tr>\n    <tr>\n      <th>546</th>\n      <td>You Are a Badass: How to Stop Doubting Your Gr...</td>\n      <td>Jen Sincero</td>\n      <td>4.7</td>\n      <td>14331</td>\n      <td>8</td>\n      <td>2016</td>\n      <td>Non Fiction</td>\n      <td>10</td>\n    </tr>\n    <tr>\n      <th>547</th>\n      <td>You Are a Badass: How to Stop Doubting Your Gr...</td>\n      <td>Jen Sincero</td>\n      <td>4.7</td>\n      <td>14331</td>\n      <td>8</td>\n      <td>2017</td>\n      <td>Non Fiction</td>\n      <td>146</td>\n    </tr>\n    <tr>\n      <th>548</th>\n      <td>You Are a Badass: How to Stop Doubting Your Gr...</td>\n      <td>Jen Sincero</td>\n      <td>4.7</td>\n      <td>14331</td>\n      <td>8</td>\n      <td>2018</td>\n      <td>Non Fiction</td>\n      <td>312</td>\n    </tr>\n    <tr>\n      <th>549</th>\n      <td>You Are a Badass: How to Stop Doubting Your Gr...</td>\n      <td>Jen Sincero</td>\n      <td>4.7</td>\n      <td>14331</td>\n      <td>8</td>\n      <td>2019</td>\n      <td>Non Fiction</td>\n      <td>346</td>\n    </tr>\n  </tbody>\n</table>\n<p>550 rows × 8 columns</p>\n</div>"
     },
     "execution_count": 30,
     "metadata": {},
     "output_type": "execute_result"
    }
   ],
   "source": [
    "df_amazon"
   ],
   "metadata": {
    "collapsed": false
   }
  },
  {
   "cell_type": "code",
   "execution_count": 31,
   "outputs": [
    {
     "data": {
      "text/plain": "Index(['Name', 'Author', 'User Rating', 'Reviews', 'Price', 'Year', 'Genre',\n       'Critic Rating'],\n      dtype='object')"
     },
     "execution_count": 31,
     "metadata": {},
     "output_type": "execute_result"
    }
   ],
   "source": [
    "df_amazon.columns"
   ],
   "metadata": {
    "collapsed": false
   }
  },
  {
   "cell_type": "code",
   "execution_count": 33,
   "outputs": [
    {
     "data": {
      "text/plain": "                                                  Name   \n0                        10-Day Green Smoothie Cleanse  \\\n1                                    11/22/63: A Novel   \n2              12 Rules for Life: An Antidote to Chaos   \n3                               1984 (Signet Classics)   \n4    5,000 Awesome Facts (About Everything!) (Natio...   \n..                                                 ...   \n545       Wrecking Ball (Diary of a Wimpy Kid Book 14)   \n546  You Are a Badass: How to Stop Doubting Your Gr...   \n547  You Are a Badass: How to Stop Doubting Your Gr...   \n548  You Are a Badass: How to Stop Doubting Your Gr...   \n549  You Are a Badass: How to Stop Doubting Your Gr...   \n\n                       Author  User Rating  Reviews  Price  Year        Genre   \n0                    JJ Smith          4.7    17350      8  2016  Non Fiction  \\\n1                Stephen King          4.6     2052     22  2011      Fiction   \n2          Jordan B. Peterson          4.7    18979     15  2018  Non Fiction   \n3               George Orwell          4.7    21424      6  2017      Fiction   \n4    National Geographic Kids          4.8     7665     12  2019  Non Fiction   \n..                        ...          ...      ...    ...   ...          ...   \n545               Jeff Kinney          4.9     9413      8  2019      Fiction   \n546               Jen Sincero          4.7    14331      8  2016  Non Fiction   \n547               Jen Sincero          4.7    14331      8  2017  Non Fiction   \n548               Jen Sincero          4.7    14331      8  2018  Non Fiction   \n549               Jen Sincero          4.7    14331      8  2019  Non Fiction   \n\n     Critic Rating  Average Rating  \n0              207          105.85  \n1              416          210.30  \n2              117           60.85  \n3              243          123.85  \n4              494          249.40  \n..             ...             ...  \n545            128           66.45  \n546             10            7.35  \n547            146           75.35  \n548            312          158.35  \n549            346          175.35  \n\n[550 rows x 9 columns]",
      "text/html": "<div>\n<style scoped>\n    .dataframe tbody tr th:only-of-type {\n        vertical-align: middle;\n    }\n\n    .dataframe tbody tr th {\n        vertical-align: top;\n    }\n\n    .dataframe thead th {\n        text-align: right;\n    }\n</style>\n<table border=\"1\" class=\"dataframe\">\n  <thead>\n    <tr style=\"text-align: right;\">\n      <th></th>\n      <th>Name</th>\n      <th>Author</th>\n      <th>User Rating</th>\n      <th>Reviews</th>\n      <th>Price</th>\n      <th>Year</th>\n      <th>Genre</th>\n      <th>Critic Rating</th>\n      <th>Average Rating</th>\n    </tr>\n  </thead>\n  <tbody>\n    <tr>\n      <th>0</th>\n      <td>10-Day Green Smoothie Cleanse</td>\n      <td>JJ Smith</td>\n      <td>4.7</td>\n      <td>17350</td>\n      <td>8</td>\n      <td>2016</td>\n      <td>Non Fiction</td>\n      <td>207</td>\n      <td>105.85</td>\n    </tr>\n    <tr>\n      <th>1</th>\n      <td>11/22/63: A Novel</td>\n      <td>Stephen King</td>\n      <td>4.6</td>\n      <td>2052</td>\n      <td>22</td>\n      <td>2011</td>\n      <td>Fiction</td>\n      <td>416</td>\n      <td>210.30</td>\n    </tr>\n    <tr>\n      <th>2</th>\n      <td>12 Rules for Life: An Antidote to Chaos</td>\n      <td>Jordan B. Peterson</td>\n      <td>4.7</td>\n      <td>18979</td>\n      <td>15</td>\n      <td>2018</td>\n      <td>Non Fiction</td>\n      <td>117</td>\n      <td>60.85</td>\n    </tr>\n    <tr>\n      <th>3</th>\n      <td>1984 (Signet Classics)</td>\n      <td>George Orwell</td>\n      <td>4.7</td>\n      <td>21424</td>\n      <td>6</td>\n      <td>2017</td>\n      <td>Fiction</td>\n      <td>243</td>\n      <td>123.85</td>\n    </tr>\n    <tr>\n      <th>4</th>\n      <td>5,000 Awesome Facts (About Everything!) (Natio...</td>\n      <td>National Geographic Kids</td>\n      <td>4.8</td>\n      <td>7665</td>\n      <td>12</td>\n      <td>2019</td>\n      <td>Non Fiction</td>\n      <td>494</td>\n      <td>249.40</td>\n    </tr>\n    <tr>\n      <th>...</th>\n      <td>...</td>\n      <td>...</td>\n      <td>...</td>\n      <td>...</td>\n      <td>...</td>\n      <td>...</td>\n      <td>...</td>\n      <td>...</td>\n      <td>...</td>\n    </tr>\n    <tr>\n      <th>545</th>\n      <td>Wrecking Ball (Diary of a Wimpy Kid Book 14)</td>\n      <td>Jeff Kinney</td>\n      <td>4.9</td>\n      <td>9413</td>\n      <td>8</td>\n      <td>2019</td>\n      <td>Fiction</td>\n      <td>128</td>\n      <td>66.45</td>\n    </tr>\n    <tr>\n      <th>546</th>\n      <td>You Are a Badass: How to Stop Doubting Your Gr...</td>\n      <td>Jen Sincero</td>\n      <td>4.7</td>\n      <td>14331</td>\n      <td>8</td>\n      <td>2016</td>\n      <td>Non Fiction</td>\n      <td>10</td>\n      <td>7.35</td>\n    </tr>\n    <tr>\n      <th>547</th>\n      <td>You Are a Badass: How to Stop Doubting Your Gr...</td>\n      <td>Jen Sincero</td>\n      <td>4.7</td>\n      <td>14331</td>\n      <td>8</td>\n      <td>2017</td>\n      <td>Non Fiction</td>\n      <td>146</td>\n      <td>75.35</td>\n    </tr>\n    <tr>\n      <th>548</th>\n      <td>You Are a Badass: How to Stop Doubting Your Gr...</td>\n      <td>Jen Sincero</td>\n      <td>4.7</td>\n      <td>14331</td>\n      <td>8</td>\n      <td>2018</td>\n      <td>Non Fiction</td>\n      <td>312</td>\n      <td>158.35</td>\n    </tr>\n    <tr>\n      <th>549</th>\n      <td>You Are a Badass: How to Stop Doubting Your Gr...</td>\n      <td>Jen Sincero</td>\n      <td>4.7</td>\n      <td>14331</td>\n      <td>8</td>\n      <td>2019</td>\n      <td>Non Fiction</td>\n      <td>346</td>\n      <td>175.35</td>\n    </tr>\n  </tbody>\n</table>\n<p>550 rows × 9 columns</p>\n</div>"
     },
     "execution_count": 33,
     "metadata": {},
     "output_type": "execute_result"
    }
   ],
   "source": [
    "df_amazon['Average Rating'] = (df_amazon['User Rating'] + df_amazon['Critic Rating'])/2\n",
    "df_amazon"
   ],
   "metadata": {
    "collapsed": false
   }
  },
  {
   "cell_type": "code",
   "execution_count": 34,
   "outputs": [
    {
     "data": {
      "text/plain": "                                                  Name   \n0                        10-Day Green Smoothie Cleanse  \\\n1                                    11/22/63: A Novel   \n2              12 Rules for Life: An Antidote to Chaos   \n3                               1984 (Signet Classics)   \n4    5,000 Awesome Facts (About Everything!) (Natio...   \n..                                                 ...   \n545       Wrecking Ball (Diary of a Wimpy Kid Book 14)   \n546  You Are a Badass: How to Stop Doubting Your Gr...   \n547  You Are a Badass: How to Stop Doubting Your Gr...   \n548  You Are a Badass: How to Stop Doubting Your Gr...   \n549  You Are a Badass: How to Stop Doubting Your Gr...   \n\n                       Author  User Rating  Reviews  Price  Year        Genre   \n0                    JJ Smith          4.7    17350      8  2016  Non Fiction  \\\n1                Stephen King          4.6     2052     22  2011      Fiction   \n2          Jordan B. Peterson          4.7    18979     15  2018  Non Fiction   \n3               George Orwell          4.7    21424      6  2017      Fiction   \n4    National Geographic Kids          4.8     7665     12  2019  Non Fiction   \n..                        ...          ...      ...    ...   ...          ...   \n545               Jeff Kinney          4.9     9413      8  2019      Fiction   \n546               Jen Sincero          4.7    14331      8  2016  Non Fiction   \n547               Jen Sincero          4.7    14331      8  2017  Non Fiction   \n548               Jen Sincero          4.7    14331      8  2018  Non Fiction   \n549               Jen Sincero          4.7    14331      8  2019  Non Fiction   \n\n     Critic Rating  Average Rating  \n0              207           105.8  \n1              416           210.3  \n2              117            60.8  \n3              243           123.8  \n4              494           249.4  \n..             ...             ...  \n545            128            66.4  \n546             10             7.4  \n547            146            75.4  \n548            312           158.4  \n549            346           175.4  \n\n[550 rows x 9 columns]",
      "text/html": "<div>\n<style scoped>\n    .dataframe tbody tr th:only-of-type {\n        vertical-align: middle;\n    }\n\n    .dataframe tbody tr th {\n        vertical-align: top;\n    }\n\n    .dataframe thead th {\n        text-align: right;\n    }\n</style>\n<table border=\"1\" class=\"dataframe\">\n  <thead>\n    <tr style=\"text-align: right;\">\n      <th></th>\n      <th>Name</th>\n      <th>Author</th>\n      <th>User Rating</th>\n      <th>Reviews</th>\n      <th>Price</th>\n      <th>Year</th>\n      <th>Genre</th>\n      <th>Critic Rating</th>\n      <th>Average Rating</th>\n    </tr>\n  </thead>\n  <tbody>\n    <tr>\n      <th>0</th>\n      <td>10-Day Green Smoothie Cleanse</td>\n      <td>JJ Smith</td>\n      <td>4.7</td>\n      <td>17350</td>\n      <td>8</td>\n      <td>2016</td>\n      <td>Non Fiction</td>\n      <td>207</td>\n      <td>105.8</td>\n    </tr>\n    <tr>\n      <th>1</th>\n      <td>11/22/63: A Novel</td>\n      <td>Stephen King</td>\n      <td>4.6</td>\n      <td>2052</td>\n      <td>22</td>\n      <td>2011</td>\n      <td>Fiction</td>\n      <td>416</td>\n      <td>210.3</td>\n    </tr>\n    <tr>\n      <th>2</th>\n      <td>12 Rules for Life: An Antidote to Chaos</td>\n      <td>Jordan B. Peterson</td>\n      <td>4.7</td>\n      <td>18979</td>\n      <td>15</td>\n      <td>2018</td>\n      <td>Non Fiction</td>\n      <td>117</td>\n      <td>60.8</td>\n    </tr>\n    <tr>\n      <th>3</th>\n      <td>1984 (Signet Classics)</td>\n      <td>George Orwell</td>\n      <td>4.7</td>\n      <td>21424</td>\n      <td>6</td>\n      <td>2017</td>\n      <td>Fiction</td>\n      <td>243</td>\n      <td>123.8</td>\n    </tr>\n    <tr>\n      <th>4</th>\n      <td>5,000 Awesome Facts (About Everything!) (Natio...</td>\n      <td>National Geographic Kids</td>\n      <td>4.8</td>\n      <td>7665</td>\n      <td>12</td>\n      <td>2019</td>\n      <td>Non Fiction</td>\n      <td>494</td>\n      <td>249.4</td>\n    </tr>\n    <tr>\n      <th>...</th>\n      <td>...</td>\n      <td>...</td>\n      <td>...</td>\n      <td>...</td>\n      <td>...</td>\n      <td>...</td>\n      <td>...</td>\n      <td>...</td>\n      <td>...</td>\n    </tr>\n    <tr>\n      <th>545</th>\n      <td>Wrecking Ball (Diary of a Wimpy Kid Book 14)</td>\n      <td>Jeff Kinney</td>\n      <td>4.9</td>\n      <td>9413</td>\n      <td>8</td>\n      <td>2019</td>\n      <td>Fiction</td>\n      <td>128</td>\n      <td>66.4</td>\n    </tr>\n    <tr>\n      <th>546</th>\n      <td>You Are a Badass: How to Stop Doubting Your Gr...</td>\n      <td>Jen Sincero</td>\n      <td>4.7</td>\n      <td>14331</td>\n      <td>8</td>\n      <td>2016</td>\n      <td>Non Fiction</td>\n      <td>10</td>\n      <td>7.4</td>\n    </tr>\n    <tr>\n      <th>547</th>\n      <td>You Are a Badass: How to Stop Doubting Your Gr...</td>\n      <td>Jen Sincero</td>\n      <td>4.7</td>\n      <td>14331</td>\n      <td>8</td>\n      <td>2017</td>\n      <td>Non Fiction</td>\n      <td>146</td>\n      <td>75.4</td>\n    </tr>\n    <tr>\n      <th>548</th>\n      <td>You Are a Badass: How to Stop Doubting Your Gr...</td>\n      <td>Jen Sincero</td>\n      <td>4.7</td>\n      <td>14331</td>\n      <td>8</td>\n      <td>2018</td>\n      <td>Non Fiction</td>\n      <td>312</td>\n      <td>158.4</td>\n    </tr>\n    <tr>\n      <th>549</th>\n      <td>You Are a Badass: How to Stop Doubting Your Gr...</td>\n      <td>Jen Sincero</td>\n      <td>4.7</td>\n      <td>14331</td>\n      <td>8</td>\n      <td>2019</td>\n      <td>Non Fiction</td>\n      <td>346</td>\n      <td>175.4</td>\n    </tr>\n  </tbody>\n</table>\n<p>550 rows × 9 columns</p>\n</div>"
     },
     "execution_count": 34,
     "metadata": {},
     "output_type": "execute_result"
    }
   ],
   "source": [
    "df_amazon.round(1)"
   ],
   "metadata": {
    "collapsed": false
   }
  },
  {
   "cell_type": "code",
   "execution_count": 35,
   "outputs": [
    {
     "data": {
      "text/plain": "Genre\nNon Fiction    310\nFiction        240\nName: count, dtype: int64"
     },
     "execution_count": 35,
     "metadata": {},
     "output_type": "execute_result"
    }
   ],
   "source": [
    "df_amazon['Genre'].value_counts()"
   ],
   "metadata": {
    "collapsed": false
   }
  },
  {
   "cell_type": "code",
   "execution_count": 36,
   "outputs": [
    {
     "data": {
      "text/plain": "Genre\nNon Fiction    0.563636\nFiction        0.436364\nName: proportion, dtype: float64"
     },
     "execution_count": 36,
     "metadata": {},
     "output_type": "execute_result"
    }
   ],
   "source": [
    "df_amazon['Genre'].value_counts(normalize=True)"
   ],
   "metadata": {
    "collapsed": false
   }
  },
  {
   "cell_type": "code",
   "execution_count": 37,
   "outputs": [],
   "source": [
    "df_amazon.rename(columns={'User Rating':'UR',\n",
    "                         'Critic Rating':'CR',\n",
    "                         'Average Rating':'AR'}, inplace=True)"
   ],
   "metadata": {
    "collapsed": false
   }
  },
  {
   "cell_type": "code",
   "execution_count": 38,
   "outputs": [
    {
     "data": {
      "text/plain": "                                                  Name   \n0                        10-Day Green Smoothie Cleanse  \\\n1                                    11/22/63: A Novel   \n2              12 Rules for Life: An Antidote to Chaos   \n3                               1984 (Signet Classics)   \n4    5,000 Awesome Facts (About Everything!) (Natio...   \n..                                                 ...   \n545       Wrecking Ball (Diary of a Wimpy Kid Book 14)   \n546  You Are a Badass: How to Stop Doubting Your Gr...   \n547  You Are a Badass: How to Stop Doubting Your Gr...   \n548  You Are a Badass: How to Stop Doubting Your Gr...   \n549  You Are a Badass: How to Stop Doubting Your Gr...   \n\n                       Author   UR  Reviews  Price  Year        Genre   CR   \n0                    JJ Smith  4.7    17350      8  2016  Non Fiction  207  \\\n1                Stephen King  4.6     2052     22  2011      Fiction  416   \n2          Jordan B. Peterson  4.7    18979     15  2018  Non Fiction  117   \n3               George Orwell  4.7    21424      6  2017      Fiction  243   \n4    National Geographic Kids  4.8     7665     12  2019  Non Fiction  494   \n..                        ...  ...      ...    ...   ...          ...  ...   \n545               Jeff Kinney  4.9     9413      8  2019      Fiction  128   \n546               Jen Sincero  4.7    14331      8  2016  Non Fiction   10   \n547               Jen Sincero  4.7    14331      8  2017  Non Fiction  146   \n548               Jen Sincero  4.7    14331      8  2018  Non Fiction  312   \n549               Jen Sincero  4.7    14331      8  2019  Non Fiction  346   \n\n         AR  \n0    105.85  \n1    210.30  \n2     60.85  \n3    123.85  \n4    249.40  \n..      ...  \n545   66.45  \n546    7.35  \n547   75.35  \n548  158.35  \n549  175.35  \n\n[550 rows x 9 columns]",
      "text/html": "<div>\n<style scoped>\n    .dataframe tbody tr th:only-of-type {\n        vertical-align: middle;\n    }\n\n    .dataframe tbody tr th {\n        vertical-align: top;\n    }\n\n    .dataframe thead th {\n        text-align: right;\n    }\n</style>\n<table border=\"1\" class=\"dataframe\">\n  <thead>\n    <tr style=\"text-align: right;\">\n      <th></th>\n      <th>Name</th>\n      <th>Author</th>\n      <th>UR</th>\n      <th>Reviews</th>\n      <th>Price</th>\n      <th>Year</th>\n      <th>Genre</th>\n      <th>CR</th>\n      <th>AR</th>\n    </tr>\n  </thead>\n  <tbody>\n    <tr>\n      <th>0</th>\n      <td>10-Day Green Smoothie Cleanse</td>\n      <td>JJ Smith</td>\n      <td>4.7</td>\n      <td>17350</td>\n      <td>8</td>\n      <td>2016</td>\n      <td>Non Fiction</td>\n      <td>207</td>\n      <td>105.85</td>\n    </tr>\n    <tr>\n      <th>1</th>\n      <td>11/22/63: A Novel</td>\n      <td>Stephen King</td>\n      <td>4.6</td>\n      <td>2052</td>\n      <td>22</td>\n      <td>2011</td>\n      <td>Fiction</td>\n      <td>416</td>\n      <td>210.30</td>\n    </tr>\n    <tr>\n      <th>2</th>\n      <td>12 Rules for Life: An Antidote to Chaos</td>\n      <td>Jordan B. Peterson</td>\n      <td>4.7</td>\n      <td>18979</td>\n      <td>15</td>\n      <td>2018</td>\n      <td>Non Fiction</td>\n      <td>117</td>\n      <td>60.85</td>\n    </tr>\n    <tr>\n      <th>3</th>\n      <td>1984 (Signet Classics)</td>\n      <td>George Orwell</td>\n      <td>4.7</td>\n      <td>21424</td>\n      <td>6</td>\n      <td>2017</td>\n      <td>Fiction</td>\n      <td>243</td>\n      <td>123.85</td>\n    </tr>\n    <tr>\n      <th>4</th>\n      <td>5,000 Awesome Facts (About Everything!) (Natio...</td>\n      <td>National Geographic Kids</td>\n      <td>4.8</td>\n      <td>7665</td>\n      <td>12</td>\n      <td>2019</td>\n      <td>Non Fiction</td>\n      <td>494</td>\n      <td>249.40</td>\n    </tr>\n    <tr>\n      <th>...</th>\n      <td>...</td>\n      <td>...</td>\n      <td>...</td>\n      <td>...</td>\n      <td>...</td>\n      <td>...</td>\n      <td>...</td>\n      <td>...</td>\n      <td>...</td>\n    </tr>\n    <tr>\n      <th>545</th>\n      <td>Wrecking Ball (Diary of a Wimpy Kid Book 14)</td>\n      <td>Jeff Kinney</td>\n      <td>4.9</td>\n      <td>9413</td>\n      <td>8</td>\n      <td>2019</td>\n      <td>Fiction</td>\n      <td>128</td>\n      <td>66.45</td>\n    </tr>\n    <tr>\n      <th>546</th>\n      <td>You Are a Badass: How to Stop Doubting Your Gr...</td>\n      <td>Jen Sincero</td>\n      <td>4.7</td>\n      <td>14331</td>\n      <td>8</td>\n      <td>2016</td>\n      <td>Non Fiction</td>\n      <td>10</td>\n      <td>7.35</td>\n    </tr>\n    <tr>\n      <th>547</th>\n      <td>You Are a Badass: How to Stop Doubting Your Gr...</td>\n      <td>Jen Sincero</td>\n      <td>4.7</td>\n      <td>14331</td>\n      <td>8</td>\n      <td>2017</td>\n      <td>Non Fiction</td>\n      <td>146</td>\n      <td>75.35</td>\n    </tr>\n    <tr>\n      <th>548</th>\n      <td>You Are a Badass: How to Stop Doubting Your Gr...</td>\n      <td>Jen Sincero</td>\n      <td>4.7</td>\n      <td>14331</td>\n      <td>8</td>\n      <td>2018</td>\n      <td>Non Fiction</td>\n      <td>312</td>\n      <td>158.35</td>\n    </tr>\n    <tr>\n      <th>549</th>\n      <td>You Are a Badass: How to Stop Doubting Your Gr...</td>\n      <td>Jen Sincero</td>\n      <td>4.7</td>\n      <td>14331</td>\n      <td>8</td>\n      <td>2019</td>\n      <td>Non Fiction</td>\n      <td>346</td>\n      <td>175.35</td>\n    </tr>\n  </tbody>\n</table>\n<p>550 rows × 9 columns</p>\n</div>"
     },
     "execution_count": 38,
     "metadata": {},
     "output_type": "execute_result"
    }
   ],
   "source": [
    "df_amazon"
   ],
   "metadata": {
    "collapsed": false
   }
  },
  {
   "cell_type": "code",
   "execution_count": 41,
   "outputs": [
    {
     "data": {
      "text/plain": "                                                  Name          Author   UR   \n190  Jesus Calling: Enjoying Peace in His Presence ...     Sarah Young  4.9  \\\n289  Rush Revere and the First Patriots: Time-Trave...   Rush Limbaugh  4.9   \n157  Harry Potter and the Sorcerer's Stone: The Ill...    J.K. Rowling  4.9   \n219                                  Little Blue Truck  Alice Schertle  4.9   \n153  Harry Potter and the Chamber of Secrets: The I...    J.K. Rowling  4.9   \n..                                                 ...             ...  ...   \n22                                           Allegiant   Veronica Roth  3.9   \n107  Fifty Shades of Grey: Book One of the Fifty Sh...       E L James  3.8   \n106  Fifty Shades of Grey: Book One of the Fifty Sh...       E L James  3.8   \n132                         Go Set a Watchman: A Novel      Harper Lee  3.6   \n353                                 The Casual Vacancy    J.K. Rowling  3.3   \n\n     Reviews  Price  Year        Genre   CR      AR  \n190    19576      8  2014  Non Fiction  546  275.45  \n289     3836     12  2014      Fiction  528  266.45  \n157    10052     22  2016      Fiction  507  255.95  \n219     1884      0  2014      Fiction  482  243.45  \n153    19622     30  2016      Fiction  475  239.95  \n..       ...    ...   ...          ...  ...     ...  \n22      6310     13  2013      Fiction   75   39.45  \n107    47265     14  2013      Fiction  365  184.40  \n106    47265     14  2012      Fiction   47   25.40  \n132    14982     19  2015      Fiction    2    2.80  \n353     9372     12  2012      Fiction  299  151.15  \n\n[550 rows x 9 columns]",
      "text/html": "<div>\n<style scoped>\n    .dataframe tbody tr th:only-of-type {\n        vertical-align: middle;\n    }\n\n    .dataframe tbody tr th {\n        vertical-align: top;\n    }\n\n    .dataframe thead th {\n        text-align: right;\n    }\n</style>\n<table border=\"1\" class=\"dataframe\">\n  <thead>\n    <tr style=\"text-align: right;\">\n      <th></th>\n      <th>Name</th>\n      <th>Author</th>\n      <th>UR</th>\n      <th>Reviews</th>\n      <th>Price</th>\n      <th>Year</th>\n      <th>Genre</th>\n      <th>CR</th>\n      <th>AR</th>\n    </tr>\n  </thead>\n  <tbody>\n    <tr>\n      <th>190</th>\n      <td>Jesus Calling: Enjoying Peace in His Presence ...</td>\n      <td>Sarah Young</td>\n      <td>4.9</td>\n      <td>19576</td>\n      <td>8</td>\n      <td>2014</td>\n      <td>Non Fiction</td>\n      <td>546</td>\n      <td>275.45</td>\n    </tr>\n    <tr>\n      <th>289</th>\n      <td>Rush Revere and the First Patriots: Time-Trave...</td>\n      <td>Rush Limbaugh</td>\n      <td>4.9</td>\n      <td>3836</td>\n      <td>12</td>\n      <td>2014</td>\n      <td>Fiction</td>\n      <td>528</td>\n      <td>266.45</td>\n    </tr>\n    <tr>\n      <th>157</th>\n      <td>Harry Potter and the Sorcerer's Stone: The Ill...</td>\n      <td>J.K. Rowling</td>\n      <td>4.9</td>\n      <td>10052</td>\n      <td>22</td>\n      <td>2016</td>\n      <td>Fiction</td>\n      <td>507</td>\n      <td>255.95</td>\n    </tr>\n    <tr>\n      <th>219</th>\n      <td>Little Blue Truck</td>\n      <td>Alice Schertle</td>\n      <td>4.9</td>\n      <td>1884</td>\n      <td>0</td>\n      <td>2014</td>\n      <td>Fiction</td>\n      <td>482</td>\n      <td>243.45</td>\n    </tr>\n    <tr>\n      <th>153</th>\n      <td>Harry Potter and the Chamber of Secrets: The I...</td>\n      <td>J.K. Rowling</td>\n      <td>4.9</td>\n      <td>19622</td>\n      <td>30</td>\n      <td>2016</td>\n      <td>Fiction</td>\n      <td>475</td>\n      <td>239.95</td>\n    </tr>\n    <tr>\n      <th>...</th>\n      <td>...</td>\n      <td>...</td>\n      <td>...</td>\n      <td>...</td>\n      <td>...</td>\n      <td>...</td>\n      <td>...</td>\n      <td>...</td>\n      <td>...</td>\n    </tr>\n    <tr>\n      <th>22</th>\n      <td>Allegiant</td>\n      <td>Veronica Roth</td>\n      <td>3.9</td>\n      <td>6310</td>\n      <td>13</td>\n      <td>2013</td>\n      <td>Fiction</td>\n      <td>75</td>\n      <td>39.45</td>\n    </tr>\n    <tr>\n      <th>107</th>\n      <td>Fifty Shades of Grey: Book One of the Fifty Sh...</td>\n      <td>E L James</td>\n      <td>3.8</td>\n      <td>47265</td>\n      <td>14</td>\n      <td>2013</td>\n      <td>Fiction</td>\n      <td>365</td>\n      <td>184.40</td>\n    </tr>\n    <tr>\n      <th>106</th>\n      <td>Fifty Shades of Grey: Book One of the Fifty Sh...</td>\n      <td>E L James</td>\n      <td>3.8</td>\n      <td>47265</td>\n      <td>14</td>\n      <td>2012</td>\n      <td>Fiction</td>\n      <td>47</td>\n      <td>25.40</td>\n    </tr>\n    <tr>\n      <th>132</th>\n      <td>Go Set a Watchman: A Novel</td>\n      <td>Harper Lee</td>\n      <td>3.6</td>\n      <td>14982</td>\n      <td>19</td>\n      <td>2015</td>\n      <td>Fiction</td>\n      <td>2</td>\n      <td>2.80</td>\n    </tr>\n    <tr>\n      <th>353</th>\n      <td>The Casual Vacancy</td>\n      <td>J.K. Rowling</td>\n      <td>3.3</td>\n      <td>9372</td>\n      <td>12</td>\n      <td>2012</td>\n      <td>Fiction</td>\n      <td>299</td>\n      <td>151.15</td>\n    </tr>\n  </tbody>\n</table>\n<p>550 rows × 9 columns</p>\n</div>"
     },
     "execution_count": 41,
     "metadata": {},
     "output_type": "execute_result"
    }
   ],
   "source": [
    "df_amazon.sort_values(['UR', 'CR'], ascending= False, inplace=True)\n",
    "df_amazon"
   ],
   "metadata": {
    "collapsed": false
   }
  },
  {
   "cell_type": "code",
   "execution_count": 6,
   "outputs": [
    {
     "data": {
      "text/plain": "   laptop_ID Company      Product   TypeName  Inches   \n0          1   Apple  MacBook Pro  Ultrabook    13.3  \\\n1          2   Apple  Macbook Air  Ultrabook    13.3   \n2          3      HP       250 G6   Notebook    15.6   \n\n                     ScreenResolution                         Cpu  Ram   \n0  IPS Panel Retina Display 2560x1600        Intel Core i5 2.3GHz  8GB  \\\n1                            1440x900        Intel Core i5 1.8GHz  8GB   \n2                   Full HD 1920x1080  Intel Core i5 7200U 2.5GHz  8GB   \n\n                Memory                           Gpu  OpSys  Weight   \n0            128GB SSD  Intel Iris Plus Graphics 640  macOS  1.37kg  \\\n1  128GB Flash Storage        Intel HD Graphics 6000  macOS  1.34kg   \n2            256GB SSD         Intel HD Graphics 620  No OS  1.86kg   \n\n   Price_euros  \n0      1339.69  \n1       898.94  \n2       575.00  ",
      "text/html": "<div>\n<style scoped>\n    .dataframe tbody tr th:only-of-type {\n        vertical-align: middle;\n    }\n\n    .dataframe tbody tr th {\n        vertical-align: top;\n    }\n\n    .dataframe thead th {\n        text-align: right;\n    }\n</style>\n<table border=\"1\" class=\"dataframe\">\n  <thead>\n    <tr style=\"text-align: right;\">\n      <th></th>\n      <th>laptop_ID</th>\n      <th>Company</th>\n      <th>Product</th>\n      <th>TypeName</th>\n      <th>Inches</th>\n      <th>ScreenResolution</th>\n      <th>Cpu</th>\n      <th>Ram</th>\n      <th>Memory</th>\n      <th>Gpu</th>\n      <th>OpSys</th>\n      <th>Weight</th>\n      <th>Price_euros</th>\n    </tr>\n  </thead>\n  <tbody>\n    <tr>\n      <th>0</th>\n      <td>1</td>\n      <td>Apple</td>\n      <td>MacBook Pro</td>\n      <td>Ultrabook</td>\n      <td>13.3</td>\n      <td>IPS Panel Retina Display 2560x1600</td>\n      <td>Intel Core i5 2.3GHz</td>\n      <td>8GB</td>\n      <td>128GB SSD</td>\n      <td>Intel Iris Plus Graphics 640</td>\n      <td>macOS</td>\n      <td>1.37kg</td>\n      <td>1339.69</td>\n    </tr>\n    <tr>\n      <th>1</th>\n      <td>2</td>\n      <td>Apple</td>\n      <td>Macbook Air</td>\n      <td>Ultrabook</td>\n      <td>13.3</td>\n      <td>1440x900</td>\n      <td>Intel Core i5 1.8GHz</td>\n      <td>8GB</td>\n      <td>128GB Flash Storage</td>\n      <td>Intel HD Graphics 6000</td>\n      <td>macOS</td>\n      <td>1.34kg</td>\n      <td>898.94</td>\n    </tr>\n    <tr>\n      <th>2</th>\n      <td>3</td>\n      <td>HP</td>\n      <td>250 G6</td>\n      <td>Notebook</td>\n      <td>15.6</td>\n      <td>Full HD 1920x1080</td>\n      <td>Intel Core i5 7200U 2.5GHz</td>\n      <td>8GB</td>\n      <td>256GB SSD</td>\n      <td>Intel HD Graphics 620</td>\n      <td>No OS</td>\n      <td>1.86kg</td>\n      <td>575.00</td>\n    </tr>\n  </tbody>\n</table>\n</div>"
     },
     "execution_count": 6,
     "metadata": {},
     "output_type": "execute_result"
    }
   ],
   "source": [
    "import pandas as pd\n",
    "\n",
    "df_laptops = pd.read_csv('data_files/laptop_price.csv', encoding='unicode_escape')\n",
    "df_laptops.head(3)"
   ],
   "metadata": {
    "collapsed": false
   }
  },
  {
   "cell_type": "code",
   "execution_count": 7,
   "outputs": [
    {
     "data": {
      "text/plain": "      laptop_ID Company                                    Product   \n0             1   Apple                                MacBook Pro  \\\n1             2   Apple                                Macbook Air   \n3             4   Apple                                MacBook Pro   \n4             5   Apple                                MacBook Pro   \n5             6    Acer                                   Aspire 3   \n...         ...     ...                                        ...   \n1297       1315    Asus  X556UJ-XO044T (i7-6500U/4GB/500GB/GeForce   \n1298       1316  Lenovo                             Yoga 500-14ISK   \n1299       1317  Lenovo                             Yoga 900-13ISK   \n1300       1318  Lenovo                         IdeaPad 100S-14IBR   \n1302       1320    Asus        X553SA-XX031T (N3050/4GB/500GB/W10)   \n\n                TypeName  Inches                            ScreenResolution   \n0              Ultrabook    13.3          IPS Panel Retina Display 2560x1600  \\\n1              Ultrabook    13.3                                    1440x900   \n3              Ultrabook    15.4          IPS Panel Retina Display 2880x1800   \n4              Ultrabook    13.3          IPS Panel Retina Display 2560x1600   \n5               Notebook    15.6                                    1366x768   \n...                  ...     ...                                         ...   \n1297            Notebook    15.6                                    1366x768   \n1298  2 in 1 Convertible    14.0   IPS Panel Full HD / Touchscreen 1920x1080   \n1299  2 in 1 Convertible    13.3  IPS Panel Quad HD+ / Touchscreen 3200x1800   \n1300            Notebook    14.0                                    1366x768   \n1302            Notebook    15.6                                    1366x768   \n\n                                       Cpu   Ram               Memory   \n0                     Intel Core i5 2.3GHz   8GB            128GB SSD  \\\n1                     Intel Core i5 1.8GHz   8GB  128GB Flash Storage   \n3                     Intel Core i7 2.7GHz  16GB            512GB SSD   \n4                     Intel Core i5 3.1GHz   8GB            256GB SSD   \n5                  AMD A9-Series 9420 3GHz   4GB            500GB HDD   \n...                                    ...   ...                  ...   \n1297            Intel Core i7 6500U 2.5GHz   4GB            500GB HDD   \n1298            Intel Core i7 6500U 2.5GHz   4GB            128GB SSD   \n1299            Intel Core i7 6500U 2.5GHz  16GB            512GB SSD   \n1300  Intel Celeron Dual Core N3050 1.6GHz   2GB   64GB Flash Storage   \n1302  Intel Celeron Dual Core N3050 1.6GHz   4GB            500GB HDD   \n\n                               Gpu       OpSys  Weight  Price_euros  \n0     Intel Iris Plus Graphics 640       macOS  1.37kg      1339.69  \n1           Intel HD Graphics 6000       macOS  1.34kg       898.94  \n3               AMD Radeon Pro 455       macOS  1.83kg      2537.45  \n4     Intel Iris Plus Graphics 650       macOS  1.37kg      1803.60  \n5                    AMD Radeon R5  Windows 10   2.1kg       400.00  \n...                            ...         ...     ...          ...  \n1297           Nvidia GeForce 920M  Windows 10   2.2kg       720.32  \n1298         Intel HD Graphics 520  Windows 10   1.8kg       638.00  \n1299         Intel HD Graphics 520  Windows 10   1.3kg      1499.00  \n1300             Intel HD Graphics  Windows 10   1.5kg       229.00  \n1302             Intel HD Graphics  Windows 10   2.2kg       369.00  \n\n[1029 rows x 13 columns]",
      "text/html": "<div>\n<style scoped>\n    .dataframe tbody tr th:only-of-type {\n        vertical-align: middle;\n    }\n\n    .dataframe tbody tr th {\n        vertical-align: top;\n    }\n\n    .dataframe thead th {\n        text-align: right;\n    }\n</style>\n<table border=\"1\" class=\"dataframe\">\n  <thead>\n    <tr style=\"text-align: right;\">\n      <th></th>\n      <th>laptop_ID</th>\n      <th>Company</th>\n      <th>Product</th>\n      <th>TypeName</th>\n      <th>Inches</th>\n      <th>ScreenResolution</th>\n      <th>Cpu</th>\n      <th>Ram</th>\n      <th>Memory</th>\n      <th>Gpu</th>\n      <th>OpSys</th>\n      <th>Weight</th>\n      <th>Price_euros</th>\n    </tr>\n  </thead>\n  <tbody>\n    <tr>\n      <th>0</th>\n      <td>1</td>\n      <td>Apple</td>\n      <td>MacBook Pro</td>\n      <td>Ultrabook</td>\n      <td>13.3</td>\n      <td>IPS Panel Retina Display 2560x1600</td>\n      <td>Intel Core i5 2.3GHz</td>\n      <td>8GB</td>\n      <td>128GB SSD</td>\n      <td>Intel Iris Plus Graphics 640</td>\n      <td>macOS</td>\n      <td>1.37kg</td>\n      <td>1339.69</td>\n    </tr>\n    <tr>\n      <th>1</th>\n      <td>2</td>\n      <td>Apple</td>\n      <td>Macbook Air</td>\n      <td>Ultrabook</td>\n      <td>13.3</td>\n      <td>1440x900</td>\n      <td>Intel Core i5 1.8GHz</td>\n      <td>8GB</td>\n      <td>128GB Flash Storage</td>\n      <td>Intel HD Graphics 6000</td>\n      <td>macOS</td>\n      <td>1.34kg</td>\n      <td>898.94</td>\n    </tr>\n    <tr>\n      <th>3</th>\n      <td>4</td>\n      <td>Apple</td>\n      <td>MacBook Pro</td>\n      <td>Ultrabook</td>\n      <td>15.4</td>\n      <td>IPS Panel Retina Display 2880x1800</td>\n      <td>Intel Core i7 2.7GHz</td>\n      <td>16GB</td>\n      <td>512GB SSD</td>\n      <td>AMD Radeon Pro 455</td>\n      <td>macOS</td>\n      <td>1.83kg</td>\n      <td>2537.45</td>\n    </tr>\n    <tr>\n      <th>4</th>\n      <td>5</td>\n      <td>Apple</td>\n      <td>MacBook Pro</td>\n      <td>Ultrabook</td>\n      <td>13.3</td>\n      <td>IPS Panel Retina Display 2560x1600</td>\n      <td>Intel Core i5 3.1GHz</td>\n      <td>8GB</td>\n      <td>256GB SSD</td>\n      <td>Intel Iris Plus Graphics 650</td>\n      <td>macOS</td>\n      <td>1.37kg</td>\n      <td>1803.60</td>\n    </tr>\n    <tr>\n      <th>5</th>\n      <td>6</td>\n      <td>Acer</td>\n      <td>Aspire 3</td>\n      <td>Notebook</td>\n      <td>15.6</td>\n      <td>1366x768</td>\n      <td>AMD A9-Series 9420 3GHz</td>\n      <td>4GB</td>\n      <td>500GB HDD</td>\n      <td>AMD Radeon R5</td>\n      <td>Windows 10</td>\n      <td>2.1kg</td>\n      <td>400.00</td>\n    </tr>\n    <tr>\n      <th>...</th>\n      <td>...</td>\n      <td>...</td>\n      <td>...</td>\n      <td>...</td>\n      <td>...</td>\n      <td>...</td>\n      <td>...</td>\n      <td>...</td>\n      <td>...</td>\n      <td>...</td>\n      <td>...</td>\n      <td>...</td>\n      <td>...</td>\n    </tr>\n    <tr>\n      <th>1297</th>\n      <td>1315</td>\n      <td>Asus</td>\n      <td>X556UJ-XO044T (i7-6500U/4GB/500GB/GeForce</td>\n      <td>Notebook</td>\n      <td>15.6</td>\n      <td>1366x768</td>\n      <td>Intel Core i7 6500U 2.5GHz</td>\n      <td>4GB</td>\n      <td>500GB HDD</td>\n      <td>Nvidia GeForce 920M</td>\n      <td>Windows 10</td>\n      <td>2.2kg</td>\n      <td>720.32</td>\n    </tr>\n    <tr>\n      <th>1298</th>\n      <td>1316</td>\n      <td>Lenovo</td>\n      <td>Yoga 500-14ISK</td>\n      <td>2 in 1 Convertible</td>\n      <td>14.0</td>\n      <td>IPS Panel Full HD / Touchscreen 1920x1080</td>\n      <td>Intel Core i7 6500U 2.5GHz</td>\n      <td>4GB</td>\n      <td>128GB SSD</td>\n      <td>Intel HD Graphics 520</td>\n      <td>Windows 10</td>\n      <td>1.8kg</td>\n      <td>638.00</td>\n    </tr>\n    <tr>\n      <th>1299</th>\n      <td>1317</td>\n      <td>Lenovo</td>\n      <td>Yoga 900-13ISK</td>\n      <td>2 in 1 Convertible</td>\n      <td>13.3</td>\n      <td>IPS Panel Quad HD+ / Touchscreen 3200x1800</td>\n      <td>Intel Core i7 6500U 2.5GHz</td>\n      <td>16GB</td>\n      <td>512GB SSD</td>\n      <td>Intel HD Graphics 520</td>\n      <td>Windows 10</td>\n      <td>1.3kg</td>\n      <td>1499.00</td>\n    </tr>\n    <tr>\n      <th>1300</th>\n      <td>1318</td>\n      <td>Lenovo</td>\n      <td>IdeaPad 100S-14IBR</td>\n      <td>Notebook</td>\n      <td>14.0</td>\n      <td>1366x768</td>\n      <td>Intel Celeron Dual Core N3050 1.6GHz</td>\n      <td>2GB</td>\n      <td>64GB Flash Storage</td>\n      <td>Intel HD Graphics</td>\n      <td>Windows 10</td>\n      <td>1.5kg</td>\n      <td>229.00</td>\n    </tr>\n    <tr>\n      <th>1302</th>\n      <td>1320</td>\n      <td>Asus</td>\n      <td>X553SA-XX031T (N3050/4GB/500GB/W10)</td>\n      <td>Notebook</td>\n      <td>15.6</td>\n      <td>1366x768</td>\n      <td>Intel Celeron Dual Core N3050 1.6GHz</td>\n      <td>4GB</td>\n      <td>500GB HDD</td>\n      <td>Intel HD Graphics</td>\n      <td>Windows 10</td>\n      <td>2.2kg</td>\n      <td>369.00</td>\n    </tr>\n  </tbody>\n</table>\n<p>1029 rows × 13 columns</p>\n</div>"
     },
     "execution_count": 7,
     "metadata": {},
     "output_type": "execute_result"
    }
   ],
   "source": [
    "df_laptops[df_laptops[\"Company\"] != 'HP']"
   ],
   "metadata": {
    "collapsed": false
   }
  },
  {
   "cell_type": "code",
   "execution_count": 9,
   "outputs": [
    {
     "data": {
      "text/plain": "Company\nLenovo       297\nDell         297\nAsus         158\nAcer         103\nMSI           54\nToshiba       48\nApple         21\nSamsung        9\nMediacom       7\nRazer          7\nMicrosoft      6\nVero           4\nXiaomi         4\nChuwi          3\nFujitsu        3\nGoogle         3\nLG             3\nHuawei         2\nName: count, dtype: int64"
     },
     "execution_count": 9,
     "metadata": {},
     "output_type": "execute_result"
    }
   ],
   "source": [
    "df_laptops[df_laptops[\"Company\"] != 'HP'].value_counts('Company')"
   ],
   "metadata": {
    "collapsed": false
   }
  },
  {
   "cell_type": "code",
   "execution_count": 12,
   "outputs": [
    {
     "data": {
      "text/plain": "      laptop_ID Company        Product   TypeName  Inches   \n3             4   Apple    MacBook Pro  Ultrabook    15.4  \\\n6             7   Apple    MacBook Pro  Ultrabook    15.4   \n12           13   Apple    MacBook Pro  Ultrabook    15.4   \n17           18   Apple    MacBook Pro  Ultrabook    15.4   \n58           59     MSI     GS73VR 7RG     Gaming    17.3   \n...         ...     ...            ...        ...     ...   \n1203       1221    Dell         XPS 13  Ultrabook    13.3   \n1209       1227    Asus      Rog Strix     Gaming    15.6   \n1231       1249   Razer      Blade Pro     Gaming    14.0   \n1236       1254      HP  EliteBook 840  Ultrabook    14.0   \n1247       1265    Asus    Rog GL502VS     Gaming    15.6   \n\n                        ScreenResolution                          Cpu   Ram   \n3     IPS Panel Retina Display 2880x1800         Intel Core i7 2.7GHz  16GB  \\\n6     IPS Panel Retina Display 2880x1800         Intel Core i7 2.2GHz  16GB   \n12    IPS Panel Retina Display 2880x1800         Intel Core i7 2.8GHz  16GB   \n17    IPS Panel Retina Display 2880x1800         Intel Core i7 2.9GHz  16GB   \n58                     Full HD 1920x1080  Intel Core i7 7700HQ 2.8GHz  16GB   \n...                                  ...                          ...   ...   \n1203    Quad HD+ / Touchscreen 3200x1800   Intel Core i7 7500U 2.7GHz  16GB   \n1209                   Full HD 1920x1080  Intel Core i7 7700HQ 2.8GHz  16GB   \n1231                   Full HD 1920x1080  Intel Core i7 7700HQ 2.8GHz  16GB   \n1236                           2560x1440   Intel Core i7 6500U 2.5GHz   8GB   \n1247         IPS Panel Full HD 1920x1080  Intel Core i7 6700HQ 2.6GHz  16GB   \n\n                    Memory                      Gpu       OpSys  Weight   \n3                512GB SSD       AMD Radeon Pro 455       macOS  1.83kg  \\\n6      256GB Flash Storage  Intel Iris Pro Graphics    Mac OS X  2.04kg   \n12               256GB SSD       AMD Radeon Pro 555       macOS  1.83kg   \n17               512GB SSD       AMD Radeon Pro 560       macOS  1.83kg   \n58    256GB SSD +  2TB HDD  Nvidia GeForce GTX 1070  Windows 10  2.43kg   \n...                    ...                      ...         ...     ...   \n1203             512GB SSD    Intel HD Graphics 620  Windows 10   1.2kg   \n1209  256GB SSD +  1TB HDD  Nvidia GeForce GTX 1070  Windows 10   2.2kg   \n1231               1TB SSD  Nvidia GeForce GTX 1060  Windows 10  1.95kg   \n1236             256GB SSD    Intel HD Graphics 520   Windows 7  1.54kg   \n1247  256GB SSD +  1TB HDD  Nvidia GeForce GTX 1070  Windows 10  2.34kg   \n\n      Price_euros  \n3         2537.45  \n6         2139.97  \n12        2439.97  \n17        2858.00  \n58        2449.00  \n...           ...  \n1203      2680.00  \n1209      2449.00  \n1231      3499.00  \n1236      2198.19  \n1247      2325.00  \n\n[137 rows x 13 columns]",
      "text/html": "<div>\n<style scoped>\n    .dataframe tbody tr th:only-of-type {\n        vertical-align: middle;\n    }\n\n    .dataframe tbody tr th {\n        vertical-align: top;\n    }\n\n    .dataframe thead th {\n        text-align: right;\n    }\n</style>\n<table border=\"1\" class=\"dataframe\">\n  <thead>\n    <tr style=\"text-align: right;\">\n      <th></th>\n      <th>laptop_ID</th>\n      <th>Company</th>\n      <th>Product</th>\n      <th>TypeName</th>\n      <th>Inches</th>\n      <th>ScreenResolution</th>\n      <th>Cpu</th>\n      <th>Ram</th>\n      <th>Memory</th>\n      <th>Gpu</th>\n      <th>OpSys</th>\n      <th>Weight</th>\n      <th>Price_euros</th>\n    </tr>\n  </thead>\n  <tbody>\n    <tr>\n      <th>3</th>\n      <td>4</td>\n      <td>Apple</td>\n      <td>MacBook Pro</td>\n      <td>Ultrabook</td>\n      <td>15.4</td>\n      <td>IPS Panel Retina Display 2880x1800</td>\n      <td>Intel Core i7 2.7GHz</td>\n      <td>16GB</td>\n      <td>512GB SSD</td>\n      <td>AMD Radeon Pro 455</td>\n      <td>macOS</td>\n      <td>1.83kg</td>\n      <td>2537.45</td>\n    </tr>\n    <tr>\n      <th>6</th>\n      <td>7</td>\n      <td>Apple</td>\n      <td>MacBook Pro</td>\n      <td>Ultrabook</td>\n      <td>15.4</td>\n      <td>IPS Panel Retina Display 2880x1800</td>\n      <td>Intel Core i7 2.2GHz</td>\n      <td>16GB</td>\n      <td>256GB Flash Storage</td>\n      <td>Intel Iris Pro Graphics</td>\n      <td>Mac OS X</td>\n      <td>2.04kg</td>\n      <td>2139.97</td>\n    </tr>\n    <tr>\n      <th>12</th>\n      <td>13</td>\n      <td>Apple</td>\n      <td>MacBook Pro</td>\n      <td>Ultrabook</td>\n      <td>15.4</td>\n      <td>IPS Panel Retina Display 2880x1800</td>\n      <td>Intel Core i7 2.8GHz</td>\n      <td>16GB</td>\n      <td>256GB SSD</td>\n      <td>AMD Radeon Pro 555</td>\n      <td>macOS</td>\n      <td>1.83kg</td>\n      <td>2439.97</td>\n    </tr>\n    <tr>\n      <th>17</th>\n      <td>18</td>\n      <td>Apple</td>\n      <td>MacBook Pro</td>\n      <td>Ultrabook</td>\n      <td>15.4</td>\n      <td>IPS Panel Retina Display 2880x1800</td>\n      <td>Intel Core i7 2.9GHz</td>\n      <td>16GB</td>\n      <td>512GB SSD</td>\n      <td>AMD Radeon Pro 560</td>\n      <td>macOS</td>\n      <td>1.83kg</td>\n      <td>2858.00</td>\n    </tr>\n    <tr>\n      <th>58</th>\n      <td>59</td>\n      <td>MSI</td>\n      <td>GS73VR 7RG</td>\n      <td>Gaming</td>\n      <td>17.3</td>\n      <td>Full HD 1920x1080</td>\n      <td>Intel Core i7 7700HQ 2.8GHz</td>\n      <td>16GB</td>\n      <td>256GB SSD +  2TB HDD</td>\n      <td>Nvidia GeForce GTX 1070</td>\n      <td>Windows 10</td>\n      <td>2.43kg</td>\n      <td>2449.00</td>\n    </tr>\n    <tr>\n      <th>...</th>\n      <td>...</td>\n      <td>...</td>\n      <td>...</td>\n      <td>...</td>\n      <td>...</td>\n      <td>...</td>\n      <td>...</td>\n      <td>...</td>\n      <td>...</td>\n      <td>...</td>\n      <td>...</td>\n      <td>...</td>\n      <td>...</td>\n    </tr>\n    <tr>\n      <th>1203</th>\n      <td>1221</td>\n      <td>Dell</td>\n      <td>XPS 13</td>\n      <td>Ultrabook</td>\n      <td>13.3</td>\n      <td>Quad HD+ / Touchscreen 3200x1800</td>\n      <td>Intel Core i7 7500U 2.7GHz</td>\n      <td>16GB</td>\n      <td>512GB SSD</td>\n      <td>Intel HD Graphics 620</td>\n      <td>Windows 10</td>\n      <td>1.2kg</td>\n      <td>2680.00</td>\n    </tr>\n    <tr>\n      <th>1209</th>\n      <td>1227</td>\n      <td>Asus</td>\n      <td>Rog Strix</td>\n      <td>Gaming</td>\n      <td>15.6</td>\n      <td>Full HD 1920x1080</td>\n      <td>Intel Core i7 7700HQ 2.8GHz</td>\n      <td>16GB</td>\n      <td>256GB SSD +  1TB HDD</td>\n      <td>Nvidia GeForce GTX 1070</td>\n      <td>Windows 10</td>\n      <td>2.2kg</td>\n      <td>2449.00</td>\n    </tr>\n    <tr>\n      <th>1231</th>\n      <td>1249</td>\n      <td>Razer</td>\n      <td>Blade Pro</td>\n      <td>Gaming</td>\n      <td>14.0</td>\n      <td>Full HD 1920x1080</td>\n      <td>Intel Core i7 7700HQ 2.8GHz</td>\n      <td>16GB</td>\n      <td>1TB SSD</td>\n      <td>Nvidia GeForce GTX 1060</td>\n      <td>Windows 10</td>\n      <td>1.95kg</td>\n      <td>3499.00</td>\n    </tr>\n    <tr>\n      <th>1236</th>\n      <td>1254</td>\n      <td>HP</td>\n      <td>EliteBook 840</td>\n      <td>Ultrabook</td>\n      <td>14.0</td>\n      <td>2560x1440</td>\n      <td>Intel Core i7 6500U 2.5GHz</td>\n      <td>8GB</td>\n      <td>256GB SSD</td>\n      <td>Intel HD Graphics 520</td>\n      <td>Windows 7</td>\n      <td>1.54kg</td>\n      <td>2198.19</td>\n    </tr>\n    <tr>\n      <th>1247</th>\n      <td>1265</td>\n      <td>Asus</td>\n      <td>Rog GL502VS</td>\n      <td>Gaming</td>\n      <td>15.6</td>\n      <td>IPS Panel Full HD 1920x1080</td>\n      <td>Intel Core i7 6700HQ 2.6GHz</td>\n      <td>16GB</td>\n      <td>256GB SSD +  1TB HDD</td>\n      <td>Nvidia GeForce GTX 1070</td>\n      <td>Windows 10</td>\n      <td>2.34kg</td>\n      <td>2325.00</td>\n    </tr>\n  </tbody>\n</table>\n<p>137 rows × 13 columns</p>\n</div>"
     },
     "execution_count": 12,
     "metadata": {},
     "output_type": "execute_result"
    }
   ],
   "source": [
    "df_laptops[df_laptops[\"Price_euros\"] > 2000]"
   ],
   "metadata": {
    "collapsed": false
   }
  },
  {
   "cell_type": "code",
   "execution_count": 17,
   "outputs": [],
   "source": [
    "import numpy as np\n"
   ],
   "metadata": {
    "collapsed": false
   }
  },
  {
   "cell_type": "code",
   "execution_count": 18,
   "outputs": [],
   "source": [
    "df_laptops['screen_size'] = np.where(df_laptops['Inches'] >15, \"Big\", 'Small')"
   ],
   "metadata": {
    "collapsed": false
   }
  },
  {
   "cell_type": "code",
   "execution_count": 19,
   "outputs": [
    {
     "data": {
      "text/plain": "      laptop_ID Company                              Product   \n0             1   Apple                          MacBook Pro  \\\n1             2   Apple                          Macbook Air   \n2             3      HP                               250 G6   \n3             4   Apple                          MacBook Pro   \n4             5   Apple                          MacBook Pro   \n...         ...     ...                                  ...   \n1298       1316  Lenovo                       Yoga 500-14ISK   \n1299       1317  Lenovo                       Yoga 900-13ISK   \n1300       1318  Lenovo                   IdeaPad 100S-14IBR   \n1301       1319      HP  15-AC110nv (i7-6500U/6GB/1TB/Radeon   \n1302       1320    Asus  X553SA-XX031T (N3050/4GB/500GB/W10)   \n\n                TypeName  Inches                            ScreenResolution   \n0              Ultrabook    13.3          IPS Panel Retina Display 2560x1600  \\\n1              Ultrabook    13.3                                    1440x900   \n2               Notebook    15.6                           Full HD 1920x1080   \n3              Ultrabook    15.4          IPS Panel Retina Display 2880x1800   \n4              Ultrabook    13.3          IPS Panel Retina Display 2560x1600   \n...                  ...     ...                                         ...   \n1298  2 in 1 Convertible    14.0   IPS Panel Full HD / Touchscreen 1920x1080   \n1299  2 in 1 Convertible    13.3  IPS Panel Quad HD+ / Touchscreen 3200x1800   \n1300            Notebook    14.0                                    1366x768   \n1301            Notebook    15.6                                    1366x768   \n1302            Notebook    15.6                                    1366x768   \n\n                                       Cpu   Ram               Memory   \n0                     Intel Core i5 2.3GHz   8GB            128GB SSD  \\\n1                     Intel Core i5 1.8GHz   8GB  128GB Flash Storage   \n2               Intel Core i5 7200U 2.5GHz   8GB            256GB SSD   \n3                     Intel Core i7 2.7GHz  16GB            512GB SSD   \n4                     Intel Core i5 3.1GHz   8GB            256GB SSD   \n...                                    ...   ...                  ...   \n1298            Intel Core i7 6500U 2.5GHz   4GB            128GB SSD   \n1299            Intel Core i7 6500U 2.5GHz  16GB            512GB SSD   \n1300  Intel Celeron Dual Core N3050 1.6GHz   2GB   64GB Flash Storage   \n1301            Intel Core i7 6500U 2.5GHz   6GB              1TB HDD   \n1302  Intel Celeron Dual Core N3050 1.6GHz   4GB            500GB HDD   \n\n                               Gpu       OpSys  Weight  Price_euros   \n0     Intel Iris Plus Graphics 640       macOS  1.37kg      1339.69  \\\n1           Intel HD Graphics 6000       macOS  1.34kg       898.94   \n2            Intel HD Graphics 620       No OS  1.86kg       575.00   \n3               AMD Radeon Pro 455       macOS  1.83kg      2537.45   \n4     Intel Iris Plus Graphics 650       macOS  1.37kg      1803.60   \n...                            ...         ...     ...          ...   \n1298         Intel HD Graphics 520  Windows 10   1.8kg       638.00   \n1299         Intel HD Graphics 520  Windows 10   1.3kg      1499.00   \n1300             Intel HD Graphics  Windows 10   1.5kg       229.00   \n1301            AMD Radeon R5 M330  Windows 10  2.19kg       764.00   \n1302             Intel HD Graphics  Windows 10   2.2kg       369.00   \n\n     screen_size  \n0          Small  \n1          Small  \n2            Big  \n3            Big  \n4          Small  \n...          ...  \n1298       Small  \n1299       Small  \n1300       Small  \n1301         Big  \n1302         Big  \n\n[1303 rows x 14 columns]",
      "text/html": "<div>\n<style scoped>\n    .dataframe tbody tr th:only-of-type {\n        vertical-align: middle;\n    }\n\n    .dataframe tbody tr th {\n        vertical-align: top;\n    }\n\n    .dataframe thead th {\n        text-align: right;\n    }\n</style>\n<table border=\"1\" class=\"dataframe\">\n  <thead>\n    <tr style=\"text-align: right;\">\n      <th></th>\n      <th>laptop_ID</th>\n      <th>Company</th>\n      <th>Product</th>\n      <th>TypeName</th>\n      <th>Inches</th>\n      <th>ScreenResolution</th>\n      <th>Cpu</th>\n      <th>Ram</th>\n      <th>Memory</th>\n      <th>Gpu</th>\n      <th>OpSys</th>\n      <th>Weight</th>\n      <th>Price_euros</th>\n      <th>screen_size</th>\n    </tr>\n  </thead>\n  <tbody>\n    <tr>\n      <th>0</th>\n      <td>1</td>\n      <td>Apple</td>\n      <td>MacBook Pro</td>\n      <td>Ultrabook</td>\n      <td>13.3</td>\n      <td>IPS Panel Retina Display 2560x1600</td>\n      <td>Intel Core i5 2.3GHz</td>\n      <td>8GB</td>\n      <td>128GB SSD</td>\n      <td>Intel Iris Plus Graphics 640</td>\n      <td>macOS</td>\n      <td>1.37kg</td>\n      <td>1339.69</td>\n      <td>Small</td>\n    </tr>\n    <tr>\n      <th>1</th>\n      <td>2</td>\n      <td>Apple</td>\n      <td>Macbook Air</td>\n      <td>Ultrabook</td>\n      <td>13.3</td>\n      <td>1440x900</td>\n      <td>Intel Core i5 1.8GHz</td>\n      <td>8GB</td>\n      <td>128GB Flash Storage</td>\n      <td>Intel HD Graphics 6000</td>\n      <td>macOS</td>\n      <td>1.34kg</td>\n      <td>898.94</td>\n      <td>Small</td>\n    </tr>\n    <tr>\n      <th>2</th>\n      <td>3</td>\n      <td>HP</td>\n      <td>250 G6</td>\n      <td>Notebook</td>\n      <td>15.6</td>\n      <td>Full HD 1920x1080</td>\n      <td>Intel Core i5 7200U 2.5GHz</td>\n      <td>8GB</td>\n      <td>256GB SSD</td>\n      <td>Intel HD Graphics 620</td>\n      <td>No OS</td>\n      <td>1.86kg</td>\n      <td>575.00</td>\n      <td>Big</td>\n    </tr>\n    <tr>\n      <th>3</th>\n      <td>4</td>\n      <td>Apple</td>\n      <td>MacBook Pro</td>\n      <td>Ultrabook</td>\n      <td>15.4</td>\n      <td>IPS Panel Retina Display 2880x1800</td>\n      <td>Intel Core i7 2.7GHz</td>\n      <td>16GB</td>\n      <td>512GB SSD</td>\n      <td>AMD Radeon Pro 455</td>\n      <td>macOS</td>\n      <td>1.83kg</td>\n      <td>2537.45</td>\n      <td>Big</td>\n    </tr>\n    <tr>\n      <th>4</th>\n      <td>5</td>\n      <td>Apple</td>\n      <td>MacBook Pro</td>\n      <td>Ultrabook</td>\n      <td>13.3</td>\n      <td>IPS Panel Retina Display 2560x1600</td>\n      <td>Intel Core i5 3.1GHz</td>\n      <td>8GB</td>\n      <td>256GB SSD</td>\n      <td>Intel Iris Plus Graphics 650</td>\n      <td>macOS</td>\n      <td>1.37kg</td>\n      <td>1803.60</td>\n      <td>Small</td>\n    </tr>\n    <tr>\n      <th>...</th>\n      <td>...</td>\n      <td>...</td>\n      <td>...</td>\n      <td>...</td>\n      <td>...</td>\n      <td>...</td>\n      <td>...</td>\n      <td>...</td>\n      <td>...</td>\n      <td>...</td>\n      <td>...</td>\n      <td>...</td>\n      <td>...</td>\n      <td>...</td>\n    </tr>\n    <tr>\n      <th>1298</th>\n      <td>1316</td>\n      <td>Lenovo</td>\n      <td>Yoga 500-14ISK</td>\n      <td>2 in 1 Convertible</td>\n      <td>14.0</td>\n      <td>IPS Panel Full HD / Touchscreen 1920x1080</td>\n      <td>Intel Core i7 6500U 2.5GHz</td>\n      <td>4GB</td>\n      <td>128GB SSD</td>\n      <td>Intel HD Graphics 520</td>\n      <td>Windows 10</td>\n      <td>1.8kg</td>\n      <td>638.00</td>\n      <td>Small</td>\n    </tr>\n    <tr>\n      <th>1299</th>\n      <td>1317</td>\n      <td>Lenovo</td>\n      <td>Yoga 900-13ISK</td>\n      <td>2 in 1 Convertible</td>\n      <td>13.3</td>\n      <td>IPS Panel Quad HD+ / Touchscreen 3200x1800</td>\n      <td>Intel Core i7 6500U 2.5GHz</td>\n      <td>16GB</td>\n      <td>512GB SSD</td>\n      <td>Intel HD Graphics 520</td>\n      <td>Windows 10</td>\n      <td>1.3kg</td>\n      <td>1499.00</td>\n      <td>Small</td>\n    </tr>\n    <tr>\n      <th>1300</th>\n      <td>1318</td>\n      <td>Lenovo</td>\n      <td>IdeaPad 100S-14IBR</td>\n      <td>Notebook</td>\n      <td>14.0</td>\n      <td>1366x768</td>\n      <td>Intel Celeron Dual Core N3050 1.6GHz</td>\n      <td>2GB</td>\n      <td>64GB Flash Storage</td>\n      <td>Intel HD Graphics</td>\n      <td>Windows 10</td>\n      <td>1.5kg</td>\n      <td>229.00</td>\n      <td>Small</td>\n    </tr>\n    <tr>\n      <th>1301</th>\n      <td>1319</td>\n      <td>HP</td>\n      <td>15-AC110nv (i7-6500U/6GB/1TB/Radeon</td>\n      <td>Notebook</td>\n      <td>15.6</td>\n      <td>1366x768</td>\n      <td>Intel Core i7 6500U 2.5GHz</td>\n      <td>6GB</td>\n      <td>1TB HDD</td>\n      <td>AMD Radeon R5 M330</td>\n      <td>Windows 10</td>\n      <td>2.19kg</td>\n      <td>764.00</td>\n      <td>Big</td>\n    </tr>\n    <tr>\n      <th>1302</th>\n      <td>1320</td>\n      <td>Asus</td>\n      <td>X553SA-XX031T (N3050/4GB/500GB/W10)</td>\n      <td>Notebook</td>\n      <td>15.6</td>\n      <td>1366x768</td>\n      <td>Intel Celeron Dual Core N3050 1.6GHz</td>\n      <td>4GB</td>\n      <td>500GB HDD</td>\n      <td>Intel HD Graphics</td>\n      <td>Windows 10</td>\n      <td>2.2kg</td>\n      <td>369.00</td>\n      <td>Big</td>\n    </tr>\n  </tbody>\n</table>\n<p>1303 rows × 14 columns</p>\n</div>"
     },
     "execution_count": 19,
     "metadata": {},
     "output_type": "execute_result"
    }
   ],
   "source": [
    "df_laptops"
   ],
   "metadata": {
    "collapsed": false
   }
  },
  {
   "cell_type": "code",
   "execution_count": 21,
   "outputs": [
    {
     "data": {
      "text/plain": "      laptop_ID Company                              Product   \n0             1   Apple                          MacBook Pro  \\\n1             2   Apple                          Macbook Air   \n2             3      HP                               250 G6   \n3             4   Apple                          MacBook Pro   \n4             5   Apple                          MacBook Pro   \n...         ...     ...                                  ...   \n1298       1316  Lenovo                       Yoga 500-14ISK   \n1299       1317  Lenovo                       Yoga 900-13ISK   \n1300       1318  Lenovo                   IdeaPad 100S-14IBR   \n1301       1319      HP  15-AC110nv (i7-6500U/6GB/1TB/Radeon   \n1302       1320    Asus  X553SA-XX031T (N3050/4GB/500GB/W10)   \n\n                TypeName  Inches                            ScreenResolution   \n0              Ultrabook    13.3          IPS Panel Retina Display 2560x1600  \\\n1              Ultrabook    13.3                                    1440x900   \n2               Notebook    15.6                           Full HD 1920x1080   \n3              Ultrabook    15.4          IPS Panel Retina Display 2880x1800   \n4              Ultrabook    13.3          IPS Panel Retina Display 2560x1600   \n...                  ...     ...                                         ...   \n1298  2 in 1 Convertible    14.0   IPS Panel Full HD / Touchscreen 1920x1080   \n1299  2 in 1 Convertible    13.3  IPS Panel Quad HD+ / Touchscreen 3200x1800   \n1300            Notebook    14.0                                    1366x768   \n1301            Notebook    15.6                                    1366x768   \n1302            Notebook    15.6                                    1366x768   \n\n                                       Cpu   Ram               Memory   \n0                     Intel Core i5 2.3GHz   8GB            128GB SSD  \\\n1                     Intel Core i5 1.8GHz   8GB  128GB Flash Storage   \n2               Intel Core i5 7200U 2.5GHz   8GB            256GB SSD   \n3                     Intel Core i7 2.7GHz  16GB            512GB SSD   \n4                     Intel Core i5 3.1GHz   8GB            256GB SSD   \n...                                    ...   ...                  ...   \n1298            Intel Core i7 6500U 2.5GHz   4GB            128GB SSD   \n1299            Intel Core i7 6500U 2.5GHz  16GB            512GB SSD   \n1300  Intel Celeron Dual Core N3050 1.6GHz   2GB   64GB Flash Storage   \n1301            Intel Core i7 6500U 2.5GHz   6GB              1TB HDD   \n1302  Intel Celeron Dual Core N3050 1.6GHz   4GB            500GB HDD   \n\n                               Gpu       OpSys  Weight  Price_euros   \n0     Intel Iris Plus Graphics 640       macOS  1.37kg      1339.69  \\\n1           Intel HD Graphics 6000       macOS  1.34kg       898.94   \n2            Intel HD Graphics 620       No OS  1.86kg       575.00   \n3               AMD Radeon Pro 455       macOS  1.83kg      2537.45   \n4     Intel Iris Plus Graphics 650       macOS  1.37kg      1803.60   \n...                            ...         ...     ...          ...   \n1298         Intel HD Graphics 520  Windows 10   1.8kg       638.00   \n1299         Intel HD Graphics 520  Windows 10   1.3kg      1499.00   \n1300             Intel HD Graphics  Windows 10   1.5kg       229.00   \n1301            AMD Radeon R5 M330  Windows 10  2.19kg       764.00   \n1302             Intel HD Graphics  Windows 10   2.2kg       369.00   \n\n     screen_size    Ram Tier  \n0          Small    Low  Ram  \n1          Small    Low  Ram  \n2            Big    Low  Ram  \n3            Big  Enough Ram  \n4          Small    Low  Ram  \n...          ...         ...  \n1298       Small    Low  Ram  \n1299       Small  Enough Ram  \n1300       Small    Low  Ram  \n1301         Big    Low  Ram  \n1302         Big    Low  Ram  \n\n[1303 rows x 15 columns]",
      "text/html": "<div>\n<style scoped>\n    .dataframe tbody tr th:only-of-type {\n        vertical-align: middle;\n    }\n\n    .dataframe tbody tr th {\n        vertical-align: top;\n    }\n\n    .dataframe thead th {\n        text-align: right;\n    }\n</style>\n<table border=\"1\" class=\"dataframe\">\n  <thead>\n    <tr style=\"text-align: right;\">\n      <th></th>\n      <th>laptop_ID</th>\n      <th>Company</th>\n      <th>Product</th>\n      <th>TypeName</th>\n      <th>Inches</th>\n      <th>ScreenResolution</th>\n      <th>Cpu</th>\n      <th>Ram</th>\n      <th>Memory</th>\n      <th>Gpu</th>\n      <th>OpSys</th>\n      <th>Weight</th>\n      <th>Price_euros</th>\n      <th>screen_size</th>\n      <th>Ram Tier</th>\n    </tr>\n  </thead>\n  <tbody>\n    <tr>\n      <th>0</th>\n      <td>1</td>\n      <td>Apple</td>\n      <td>MacBook Pro</td>\n      <td>Ultrabook</td>\n      <td>13.3</td>\n      <td>IPS Panel Retina Display 2560x1600</td>\n      <td>Intel Core i5 2.3GHz</td>\n      <td>8GB</td>\n      <td>128GB SSD</td>\n      <td>Intel Iris Plus Graphics 640</td>\n      <td>macOS</td>\n      <td>1.37kg</td>\n      <td>1339.69</td>\n      <td>Small</td>\n      <td>Low  Ram</td>\n    </tr>\n    <tr>\n      <th>1</th>\n      <td>2</td>\n      <td>Apple</td>\n      <td>Macbook Air</td>\n      <td>Ultrabook</td>\n      <td>13.3</td>\n      <td>1440x900</td>\n      <td>Intel Core i5 1.8GHz</td>\n      <td>8GB</td>\n      <td>128GB Flash Storage</td>\n      <td>Intel HD Graphics 6000</td>\n      <td>macOS</td>\n      <td>1.34kg</td>\n      <td>898.94</td>\n      <td>Small</td>\n      <td>Low  Ram</td>\n    </tr>\n    <tr>\n      <th>2</th>\n      <td>3</td>\n      <td>HP</td>\n      <td>250 G6</td>\n      <td>Notebook</td>\n      <td>15.6</td>\n      <td>Full HD 1920x1080</td>\n      <td>Intel Core i5 7200U 2.5GHz</td>\n      <td>8GB</td>\n      <td>256GB SSD</td>\n      <td>Intel HD Graphics 620</td>\n      <td>No OS</td>\n      <td>1.86kg</td>\n      <td>575.00</td>\n      <td>Big</td>\n      <td>Low  Ram</td>\n    </tr>\n    <tr>\n      <th>3</th>\n      <td>4</td>\n      <td>Apple</td>\n      <td>MacBook Pro</td>\n      <td>Ultrabook</td>\n      <td>15.4</td>\n      <td>IPS Panel Retina Display 2880x1800</td>\n      <td>Intel Core i7 2.7GHz</td>\n      <td>16GB</td>\n      <td>512GB SSD</td>\n      <td>AMD Radeon Pro 455</td>\n      <td>macOS</td>\n      <td>1.83kg</td>\n      <td>2537.45</td>\n      <td>Big</td>\n      <td>Enough Ram</td>\n    </tr>\n    <tr>\n      <th>4</th>\n      <td>5</td>\n      <td>Apple</td>\n      <td>MacBook Pro</td>\n      <td>Ultrabook</td>\n      <td>13.3</td>\n      <td>IPS Panel Retina Display 2560x1600</td>\n      <td>Intel Core i5 3.1GHz</td>\n      <td>8GB</td>\n      <td>256GB SSD</td>\n      <td>Intel Iris Plus Graphics 650</td>\n      <td>macOS</td>\n      <td>1.37kg</td>\n      <td>1803.60</td>\n      <td>Small</td>\n      <td>Low  Ram</td>\n    </tr>\n    <tr>\n      <th>...</th>\n      <td>...</td>\n      <td>...</td>\n      <td>...</td>\n      <td>...</td>\n      <td>...</td>\n      <td>...</td>\n      <td>...</td>\n      <td>...</td>\n      <td>...</td>\n      <td>...</td>\n      <td>...</td>\n      <td>...</td>\n      <td>...</td>\n      <td>...</td>\n      <td>...</td>\n    </tr>\n    <tr>\n      <th>1298</th>\n      <td>1316</td>\n      <td>Lenovo</td>\n      <td>Yoga 500-14ISK</td>\n      <td>2 in 1 Convertible</td>\n      <td>14.0</td>\n      <td>IPS Panel Full HD / Touchscreen 1920x1080</td>\n      <td>Intel Core i7 6500U 2.5GHz</td>\n      <td>4GB</td>\n      <td>128GB SSD</td>\n      <td>Intel HD Graphics 520</td>\n      <td>Windows 10</td>\n      <td>1.8kg</td>\n      <td>638.00</td>\n      <td>Small</td>\n      <td>Low  Ram</td>\n    </tr>\n    <tr>\n      <th>1299</th>\n      <td>1317</td>\n      <td>Lenovo</td>\n      <td>Yoga 900-13ISK</td>\n      <td>2 in 1 Convertible</td>\n      <td>13.3</td>\n      <td>IPS Panel Quad HD+ / Touchscreen 3200x1800</td>\n      <td>Intel Core i7 6500U 2.5GHz</td>\n      <td>16GB</td>\n      <td>512GB SSD</td>\n      <td>Intel HD Graphics 520</td>\n      <td>Windows 10</td>\n      <td>1.3kg</td>\n      <td>1499.00</td>\n      <td>Small</td>\n      <td>Enough Ram</td>\n    </tr>\n    <tr>\n      <th>1300</th>\n      <td>1318</td>\n      <td>Lenovo</td>\n      <td>IdeaPad 100S-14IBR</td>\n      <td>Notebook</td>\n      <td>14.0</td>\n      <td>1366x768</td>\n      <td>Intel Celeron Dual Core N3050 1.6GHz</td>\n      <td>2GB</td>\n      <td>64GB Flash Storage</td>\n      <td>Intel HD Graphics</td>\n      <td>Windows 10</td>\n      <td>1.5kg</td>\n      <td>229.00</td>\n      <td>Small</td>\n      <td>Low  Ram</td>\n    </tr>\n    <tr>\n      <th>1301</th>\n      <td>1319</td>\n      <td>HP</td>\n      <td>15-AC110nv (i7-6500U/6GB/1TB/Radeon</td>\n      <td>Notebook</td>\n      <td>15.6</td>\n      <td>1366x768</td>\n      <td>Intel Core i7 6500U 2.5GHz</td>\n      <td>6GB</td>\n      <td>1TB HDD</td>\n      <td>AMD Radeon R5 M330</td>\n      <td>Windows 10</td>\n      <td>2.19kg</td>\n      <td>764.00</td>\n      <td>Big</td>\n      <td>Low  Ram</td>\n    </tr>\n    <tr>\n      <th>1302</th>\n      <td>1320</td>\n      <td>Asus</td>\n      <td>X553SA-XX031T (N3050/4GB/500GB/W10)</td>\n      <td>Notebook</td>\n      <td>15.6</td>\n      <td>1366x768</td>\n      <td>Intel Celeron Dual Core N3050 1.6GHz</td>\n      <td>4GB</td>\n      <td>500GB HDD</td>\n      <td>Intel HD Graphics</td>\n      <td>Windows 10</td>\n      <td>2.2kg</td>\n      <td>369.00</td>\n      <td>Big</td>\n      <td>Low  Ram</td>\n    </tr>\n  </tbody>\n</table>\n<p>1303 rows × 15 columns</p>\n</div>"
     },
     "execution_count": 21,
     "metadata": {},
     "output_type": "execute_result"
    }
   ],
   "source": [
    "df_laptops['Ram Tier'] = np.where(df_laptops['Ram'] == '16GB', 'Enough Ram', 'Low  Ram')\n",
    "df_laptops"
   ],
   "metadata": {
    "collapsed": false
   }
  },
  {
   "cell_type": "code",
   "execution_count": null,
   "outputs": [],
   "source": [],
   "metadata": {
    "collapsed": false
   }
  }
 ],
 "metadata": {
  "kernelspec": {
   "display_name": "Python 3",
   "language": "python",
   "name": "python3"
  },
  "language_info": {
   "codemirror_mode": {
    "name": "ipython",
    "version": 2
   },
   "file_extension": ".py",
   "mimetype": "text/x-python",
   "name": "python",
   "nbconvert_exporter": "python",
   "pygments_lexer": "ipython2",
   "version": "2.7.6"
  }
 },
 "nbformat": 4,
 "nbformat_minor": 0
}
