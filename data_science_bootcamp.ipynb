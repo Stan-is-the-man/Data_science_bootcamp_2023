{
 "cells": [
  {
   "cell_type": "code",
   "execution_count": null,
   "id": "12bfb7a9",
   "metadata": {},
   "outputs": [],
   "source": [
    "import pandas as pd\n",
    "import numpy as np"
   ]
  },
  {
   "cell_type": "markdown",
   "id": "850c587b",
   "metadata": {},
   "source": [
    "# Creating a dataframe form an array"
   ]
  },
  {
   "cell_type": "code",
   "execution_count": null,
   "id": "ac963576",
   "metadata": {},
   "outputs": [],
   "source": [
    "# create an array\n",
    "data = np.array([[1, 2], [3, 4], [5, 6]])\n",
    "data"
   ]
  },
  {
   "cell_type": "code",
   "execution_count": null,
   "outputs": [],
   "source": [
    "#  create a dataframe with custom row and col names from NUMPY array\n",
    "df = pd.DataFrame(data, index=['row1', 'row2', 'row3'], columns=['col1', 'col2'])\n",
    "df"
   ],
   "metadata": {
    "collapsed": false
   }
  },
  {
   "cell_type": "code",
   "execution_count": null,
   "outputs": [],
   "source": [
    "#  create a dataframe with custom row and col names from NUMPY array\n",
    "data = ([[1, 2, 10], [3, 4, 20], [5, 6, 20]])\n",
    "df = pd.DataFrame(data, index=['row1', 'row2', 'row3'], columns=['col1', 'col2', 'col3'])\n",
    "df"
   ],
   "metadata": {
    "collapsed": false
   }
  },
  {
   "cell_type": "code",
   "execution_count": null,
   "outputs": [],
   "source": [
    "# create a dataframe from dictionary\n",
    "state = ['California', 'Colorado', 'Connecticut']\n",
    "population = [3000, 50000, 79999]\n",
    "data = {\"States\": state,\n",
    "        \"population\": population}\n",
    "df = pd.DataFrame(data)\n",
    "df"
   ],
   "metadata": {
    "collapsed": false
   }
  },
  {
   "cell_type": "markdown",
   "source": [],
   "metadata": {
    "collapsed": false
   }
  },
  {
   "cell_type": "code",
   "execution_count": null,
   "outputs": [],
   "source": [
    "# create a dataframe from CSV file\n",
    "df_exams = pd.read_csv('StudentsPerformance.csv')\n",
    "df_exams.head()"
   ],
   "metadata": {
    "collapsed": false
   }
  },
  {
   "cell_type": "code",
   "execution_count": null,
   "outputs": [],
   "source": [
    "# returns number of rows and cols\n",
    "df_exams.shape"
   ],
   "metadata": {
    "collapsed": false
   }
  },
  {
   "cell_type": "code",
   "execution_count": null,
   "outputs": [],
   "source": [
    "# display N-rows\n",
    "pd.set_option('display.max_rows', 1000)\n",
    "df_exams.columns"
   ],
   "metadata": {
    "collapsed": false
   }
  },
  {
   "cell_type": "code",
   "execution_count": null,
   "outputs": [],
   "source": [
    "len(df_exams)"
   ],
   "metadata": {
    "collapsed": false
   }
  },
  {
   "cell_type": "code",
   "execution_count": null,
   "outputs": [],
   "source": [
    "max(df_exams['math score'])"
   ],
   "metadata": {
    "collapsed": false
   }
  },
  {
   "cell_type": "code",
   "execution_count": null,
   "outputs": [],
   "source": [
    "min(df_exams['math score'])"
   ],
   "metadata": {
    "collapsed": false
   }
  },
  {
   "cell_type": "code",
   "execution_count": null,
   "outputs": [],
   "source": [
    "len(df_exams['math score'])"
   ],
   "metadata": {
    "collapsed": false
   }
  },
  {
   "cell_type": "code",
   "execution_count": null,
   "outputs": [],
   "source": [
    "type(df_exams['math score'])"
   ],
   "metadata": {
    "collapsed": false
   }
  },
  {
   "cell_type": "code",
   "execution_count": null,
   "outputs": [],
   "source": [
    "df_exams[['math score', 'lunch', 'gender']]"
   ],
   "metadata": {
    "collapsed": false
   }
  },
  {
   "cell_type": "code",
   "execution_count": null,
   "outputs": [],
   "source": [
    "type(df_exams[['gender', 'math score']])"
   ],
   "metadata": {
    "collapsed": false
   }
  },
  {
   "cell_type": "code",
   "execution_count": 76,
   "outputs": [
    {
     "data": {
      "text/plain": "     language score\n731               0\n921               1\n739               2\n662               3\n714               4\n469               5\n855               6\n336               7\n940               8\n269               9\n201              10\n482              11\n40               12\n916              13\n994              14\n176              15\n603              16\n489              17\n542              18\n833              19\n300              20\n652              21\n359              22\n794              23\n825              24\n209              25\n674              26\n840              27\n308              28\n29               29\n63               30\n183              31\n738              32\n520              33\n204              34\n638              35\n418              36\n394              37\n363              38\n68               39\n904              40\n843              41\n4                42\n182              43\n941              44\n145              45\n907              46\n796              47\n667              48\n170              49\n301              50\n848              51\n483              52\n807              53\n186              54\n8                55\n528              56\n127              57\n7                58\n190              59\n374              60\n397              61\n537              62\n830              63\n956              64\n43               65\n730              66\n959              67\n76               68\n136              69\n439              70\n480              71\n60               72\n811              73\n628              74\n588              75\n412              76\n466              77\n616              78\n496              79\n146              80\n706              81\n660              82\n964              83\n500              84\n800              85\n803              86\n492              87\n862              88\n451              89\n297              90\n258              91\n596              92\n44               93\n805              94\n991              95\n316              96\n51               97\n614              98\n672              99\n208             100\n715             101\n648             102\n86              103\n34              104\n846             105\n474             106\n265             107\n942             108\n948             109\n30              110\n768             111\n59              112\n125             113\n12              114\n530             115\n950             116\n772             117\n962             118\n880             119\n411             120\n508             121\n169             122\n913             123\n257             124\n92              125\n132             126\n711             127\n45              128\n42              129\n661             130\n741             131\n917             132\n389             133\n630             134\n246             135\n358             136\n331             137\n659             138\n349             139\n227             140\n861             141\n151             142\n138             143\n104             144\n623             145\n254             146\n407             147\n342             148\n100             149\n926             150\n664             151\n445             152\n683             153\n450             154\n306             155\n52              156\n579             157\n215             158\n156             159\n749             160\n375             161\n111             162\n789             163\n377             164\n626             165\n779             166\n965             167\n444             168\n539             169\n245             170\n232             171\n13              172\n937             173\n65              174\n383             175\n573             176\n786             177\n567             178\n491             179\n424             180\n77              181\n18              182\n470             183\n713             184\n456             185\n751             186\n250             187\n572             188\n883             189\n159             190\n216             191\n684             192\n770             193\n26              194\n337             195\n251             196\n688             197\n576             198\n853             199\n131             200\n191             201\n285             202\n531             203\n585             204\n832             205\n548             206\n850             207\n405             208\n312             209\n569             210\n621             211\n366             212\n625             213\n776             214\n536             215\n540             216\n685             217\n281             218\n918             219\n299             220\n680             221\n371             222\n666             223\n346             224\n760             225\n945             226\n499             227\n512             228\n654             229\n554             230\n149             231\n535             232\n205             233\n33              234\n998             235\n5               236\n977             237\n594             238\n895             239\n550             240\n95              241\n967             242\n328             243\n643             244\n716             245\n637             246\n592             247\n551             248\n84              249\n544             250\n475             251\n764             252\n490             253\n526             254\n28              255\n640             256\n698             257\n972             258\n766             259\n37              260\n911             261\n696             262\n259             263\n816             264\n813             265\n522             266\n184             267\n495             268\n898             269\n931             270\n647             271\n902             272\n99              273\n717             274\n872             275\n750             276\n758             277\n36              278\n119             279\n341             280\n984             281\n546             282\n694             283\n255             284\n162             285\n968             286\n718             287\n207             288\n72              289\n67              290\n587             291\n555             292\n66              293\n453             294\n975             295\n858             296\n559             297\n468             298\n421             299\n992             300\n23              301\n728             302\n909             303\n404             304\n80              305\n577             306\n88              307\n295             308\n21              309\n223             310\n167             311\n256             312\n422             313\n783             314\n348             315\n189             316\n110             317\n620             318\n438             319\n514             320\n709             321\n38              322\n973             323\n609             324\n759             325\n886             326\n356             327\n601             328\n116             329\n177             330\n505             331\n340             332\n952             333\n153             334\n785             335\n22              336\n228             337\n845             338\n673             339\n503             340\n396             341\n815             342\n987             343\n195             344\n387             345\n903             346\n69              347\n827             348\n532             349\n687             350\n571             351\n238             352\n734             353\n386             354\n185             355\n355             356\n847             357\n388             358\n657             359\n801             360\n305             361\n599             362\n413             363\n326             364\n543             365\n949             366\n403             367\n117             368\n754             369\n720             370\n222             371\n578             372\n955             373\n226             374\n780             375\n89              376\n431             377\n180             378\n868             379\n699             380\n268             381\n231             382\n518             383\n73              384\n712             385\n814             386\n282             387\n925             388\n697             389\n529             390\n464             391\n165             392\n958             393\n765             394\n556             395\n792             396\n103             397\n221             398\n663             399\n787             400\n649             401\n133             402\n679             403\n580             404\n854             405\n755             406\n2               407\n658             408\n303             409\n272             410\n552             411\n908             412\n454             413\n102             414\n597             415\n11              416\n314             417\n565             418\n427             419\n812             420\n398             421\n642             422\n507             423\n486             424\n692             425\n293             426\n278             427\n889             428\n961             429\n485             430\n600             431\n212             432\n283             433\n774             434\n582             435\n175             436\n313             437\n263             438\n324             439\n401             440\n211             441\n632             442\n237             443\n613             444\n879             445\n360             446\n264             447\n452             448\n134             449\n311             450\n849             451\n35              452\n549             453\n24              454\n946             455\n971             456\n650             457\n591             458\n494             459\n410             460\n617             461\n284             462\n593             463\n56              464\n335             465\n793             466\n756             467\n213             468\n506             469\n888             470\n87              471\n547             472\n392             473\n733             474\n271             475\n32              476\n347             477\n129             478\n447             479\n727             480\n939             481\n380             482\n329             483\n996             484\n471             485\n242             486\n561             487\n980             488\n315             489\n318             490\n350             491\n158             492\n700             493\n882             494\n646             495\n484             496\n527             497\n294             498\n379             499\n481             500\n235             501\n875             502\n878             503\n408             504\n317             505\n429             506\n515             507\n566             508\n541             509\n154             510\n748             511\n983             512\n881             513\n333             514\n608             515\n838             516\n91              517\n395             518\n16              519\n753             520\n669             521\n353             522\n922             523\n463             524\n799             525\n954             526\n951             527\n198             528\n837             529\n982             530\n892             531\n538             532\n497             533\n442             534\n863             535\n653             536\n545             537\n762             538\n761             539\n810             540\n777             541\n769             542\n174             543\n981             544\n788             545\n936             546\n372             547\n48              548\n771             549\n979             550\n61              551\n437             552\n406             553\n385             554\n737             555\n719             556\n248             557\n128             558\n920             559\n166             560\n636             561\n78              562\n262             563\n332             564\n828             565\n702             566\n583             567\n488             568\n934             569\n944             570\n280             571\n627             572\n791             573\n604             574\n644             575\n870             576\n835             577\n885             578\n919             579\n763             580\n302             581\n345             582\n877             583\n841             584\n947             585\n75              586\n31              587\n148             588\n668             589\n362             590\n457             591\n370             592\n270             593\n707             594\n352             595\n818             596\n15              597\n493             598\n419             599\n479             600\n757             601\n824             602\n622             603\n460             604\n369             605\n108             606\n553             607\n665             608\n276             609\n744             610\n896             611\n343             612\n686             613\n465             614\n746             615\n436             616\n645             617\n519             618\n290             619\n778             620\n188             621\n126             622\n986             623\n732             624\n782             625\n449             626\n275             627\n107             628\n229             629\n206             630\n708             631\n988             632\n682             633\n200             634\n701             635\n705             636\n277             637\n178             638\n743             639\n969             640\n966             641\n279             642\n953             643\n230             644\n240             645\n74              646\n513             647\n122             648\n502             649\n477             650\n584             651\n960             652\n864             653\n194             654\n856             655\n575             656\n55              657\n511             658\n354             659\n790             660\n210             661\n409             662\n887             663\n338             664\n970             665\n441             666\n58              667\n322             668\n106             669\n558             670\n894             671\n775             672\n990             673\n83              674\n181             675\n639             676\n1               677\n25              678\n291             679\n586             680\n434             681\n822             682\n225             683\n382             684\n974             685\n914             686\n915             687\n839             688\n97              689\n976             690\n114             691\n376             692\n924             693\n504             694\n476             695\n806             696\n704             697\n141             698\n361             699\n261             700\n244             701\n742             702\n286             703\n510             704\n368             705\n455             706\n933             707\n390             708\n307             709\n498             710\n462             711\n797             712\n443             713\n260             714\n598             715\n689             716\n417             717\n448             718\n327             719\n821             720\n938             721\n163             722\n49              723\n400             724\n381             725\n804             726\n735             727\n416             728\n81              729\n695             730\n873             731\n834             732\n564             733\n399             734\n57              735\n168             736\n891             737\n173             738\n233             739\n467             740\n820             741\n819             742\n602             743\n852             744\n367             745\n722             746\n130             747\n164             748\n860             749\n725             750\n589             751\n656             752\n62              753\n560             754\n610             755\n54              756\n809             757\n817             758\n420             759\n414             760\n27              761\n557             762\n606             763\n524             764\n590             765\n224             766\n963             767\n574             768\n517             769\n319             770\n161             771\n415             772\n624             773\n197             774\n521             775\n147             776\n993             777\n534             778\n533             779\n842             780\n140             781\n893             782\n523             783\n859             784\n402             785\n928             786\n53              787\n901             788\n929             789\n423             790\n217             791\n137             792\n220             793\n721             794\n831             795\n214             796\n472             797\n155             798\n581             799\n595             800\n562             801\n357             802\n876             803\n152             804\n298             805\n113             806\n473             807\n79              808\n98              809\n501             810\n0               811\n239             812\n826             813\n219             814\n365             815\n736             816\n943             817\n905             818\n10              819\n426             820\n196             821\n611             822\n607             823\n115             824\n373             825\n866             826\n234             827\n253             828\n747             829\n364             830\n203             831\n808             832\n64              833\n440             834\n14              835\n243             836\n47              837\n17              838\n525             839\n288             840\n105             841\n678             842\n871             843\n459             844\n857             845\n433             846\n651             847\n629             848\n120             849\n985             850\n655             851\n930             852\n563             853\n323             854\n20              855\n478             856\n82              857\n428             858\n157             859\n690             860\n795             861\n615             862\n836             863\n906             864\n274             865\n46              866\n568             867\n218             868\n897             869\n932             870\n618             871\n999             872\n570             873\n41              874\n641             875\n304             876\n784             877\n94              878\n691             879\n320             880\n874             881\n384             882\n430             883\n612             884\n677             885\n605             886\n867             887\n118             888\n726             889\n339             890\n247             891\n292             892\n187             893\n752             894\n236             895\n330             896\n865             897\n773             898\n458             899\n150             900\n85              901\n321             902\n192             903\n723             904\n767             905\n798             906\n781             907\n96              908\n745             909\n9               910\n199             911\n671             912\n631             913\n3               914\n71              915\n869             916\n273             917\n844             918\n676             919\n39              920\n310             921\n325             922\n432             923\n252             924\n634             925\n241             926\n900             927\n635             928\n109             929\n740             930\n193             931\n19              932\n93              933\n135             934\n899             935\n112             936\n139             937\n90              938\n633             939\n121             940\n123             941\n378             942\n978             943\n851             944\n509             945\n6               946\n724             947\n461             948\n160             949\n957             950\n249             951\n890             952\n266             953\n309             954\n884             955\n172             956\n425             957\n693             958\n70              959\n823             960\n710             961\n997             962\n619             963\n351             964\n516             965\n202             966\n989             967\n101             968\n143             969\n393             970\n171             971\n675             972\n334             973\n995             974\n802             975\n179             976\n829             977\n910             978\n912             979\n927             980\n681             981\n446             982\n935             983\n487             984\n124             985\n142             986\n435             987\n287             988\n923             989\n703             990\n50              991\n344             992\n391             993\n296             994\n144             995\n289             996\n670             997\n729             998\n267             999",
      "text/html": "<div>\n<style scoped>\n    .dataframe tbody tr th:only-of-type {\n        vertical-align: middle;\n    }\n\n    .dataframe tbody tr th {\n        vertical-align: top;\n    }\n\n    .dataframe thead th {\n        text-align: right;\n    }\n</style>\n<table border=\"1\" class=\"dataframe\">\n  <thead>\n    <tr style=\"text-align: right;\">\n      <th></th>\n      <th>language score</th>\n    </tr>\n  </thead>\n  <tbody>\n    <tr>\n      <th>731</th>\n      <td>0</td>\n    </tr>\n    <tr>\n      <th>921</th>\n      <td>1</td>\n    </tr>\n    <tr>\n      <th>739</th>\n      <td>2</td>\n    </tr>\n    <tr>\n      <th>662</th>\n      <td>3</td>\n    </tr>\n    <tr>\n      <th>714</th>\n      <td>4</td>\n    </tr>\n    <tr>\n      <th>469</th>\n      <td>5</td>\n    </tr>\n    <tr>\n      <th>855</th>\n      <td>6</td>\n    </tr>\n    <tr>\n      <th>336</th>\n      <td>7</td>\n    </tr>\n    <tr>\n      <th>940</th>\n      <td>8</td>\n    </tr>\n    <tr>\n      <th>269</th>\n      <td>9</td>\n    </tr>\n    <tr>\n      <th>201</th>\n      <td>10</td>\n    </tr>\n    <tr>\n      <th>482</th>\n      <td>11</td>\n    </tr>\n    <tr>\n      <th>40</th>\n      <td>12</td>\n    </tr>\n    <tr>\n      <th>916</th>\n      <td>13</td>\n    </tr>\n    <tr>\n      <th>994</th>\n      <td>14</td>\n    </tr>\n    <tr>\n      <th>176</th>\n      <td>15</td>\n    </tr>\n    <tr>\n      <th>603</th>\n      <td>16</td>\n    </tr>\n    <tr>\n      <th>489</th>\n      <td>17</td>\n    </tr>\n    <tr>\n      <th>542</th>\n      <td>18</td>\n    </tr>\n    <tr>\n      <th>833</th>\n      <td>19</td>\n    </tr>\n    <tr>\n      <th>300</th>\n      <td>20</td>\n    </tr>\n    <tr>\n      <th>652</th>\n      <td>21</td>\n    </tr>\n    <tr>\n      <th>359</th>\n      <td>22</td>\n    </tr>\n    <tr>\n      <th>794</th>\n      <td>23</td>\n    </tr>\n    <tr>\n      <th>825</th>\n      <td>24</td>\n    </tr>\n    <tr>\n      <th>209</th>\n      <td>25</td>\n    </tr>\n    <tr>\n      <th>674</th>\n      <td>26</td>\n    </tr>\n    <tr>\n      <th>840</th>\n      <td>27</td>\n    </tr>\n    <tr>\n      <th>308</th>\n      <td>28</td>\n    </tr>\n    <tr>\n      <th>29</th>\n      <td>29</td>\n    </tr>\n    <tr>\n      <th>63</th>\n      <td>30</td>\n    </tr>\n    <tr>\n      <th>183</th>\n      <td>31</td>\n    </tr>\n    <tr>\n      <th>738</th>\n      <td>32</td>\n    </tr>\n    <tr>\n      <th>520</th>\n      <td>33</td>\n    </tr>\n    <tr>\n      <th>204</th>\n      <td>34</td>\n    </tr>\n    <tr>\n      <th>638</th>\n      <td>35</td>\n    </tr>\n    <tr>\n      <th>418</th>\n      <td>36</td>\n    </tr>\n    <tr>\n      <th>394</th>\n      <td>37</td>\n    </tr>\n    <tr>\n      <th>363</th>\n      <td>38</td>\n    </tr>\n    <tr>\n      <th>68</th>\n      <td>39</td>\n    </tr>\n    <tr>\n      <th>904</th>\n      <td>40</td>\n    </tr>\n    <tr>\n      <th>843</th>\n      <td>41</td>\n    </tr>\n    <tr>\n      <th>4</th>\n      <td>42</td>\n    </tr>\n    <tr>\n      <th>182</th>\n      <td>43</td>\n    </tr>\n    <tr>\n      <th>941</th>\n      <td>44</td>\n    </tr>\n    <tr>\n      <th>145</th>\n      <td>45</td>\n    </tr>\n    <tr>\n      <th>907</th>\n      <td>46</td>\n    </tr>\n    <tr>\n      <th>796</th>\n      <td>47</td>\n    </tr>\n    <tr>\n      <th>667</th>\n      <td>48</td>\n    </tr>\n    <tr>\n      <th>170</th>\n      <td>49</td>\n    </tr>\n    <tr>\n      <th>301</th>\n      <td>50</td>\n    </tr>\n    <tr>\n      <th>848</th>\n      <td>51</td>\n    </tr>\n    <tr>\n      <th>483</th>\n      <td>52</td>\n    </tr>\n    <tr>\n      <th>807</th>\n      <td>53</td>\n    </tr>\n    <tr>\n      <th>186</th>\n      <td>54</td>\n    </tr>\n    <tr>\n      <th>8</th>\n      <td>55</td>\n    </tr>\n    <tr>\n      <th>528</th>\n      <td>56</td>\n    </tr>\n    <tr>\n      <th>127</th>\n      <td>57</td>\n    </tr>\n    <tr>\n      <th>7</th>\n      <td>58</td>\n    </tr>\n    <tr>\n      <th>190</th>\n      <td>59</td>\n    </tr>\n    <tr>\n      <th>374</th>\n      <td>60</td>\n    </tr>\n    <tr>\n      <th>397</th>\n      <td>61</td>\n    </tr>\n    <tr>\n      <th>537</th>\n      <td>62</td>\n    </tr>\n    <tr>\n      <th>830</th>\n      <td>63</td>\n    </tr>\n    <tr>\n      <th>956</th>\n      <td>64</td>\n    </tr>\n    <tr>\n      <th>43</th>\n      <td>65</td>\n    </tr>\n    <tr>\n      <th>730</th>\n      <td>66</td>\n    </tr>\n    <tr>\n      <th>959</th>\n      <td>67</td>\n    </tr>\n    <tr>\n      <th>76</th>\n      <td>68</td>\n    </tr>\n    <tr>\n      <th>136</th>\n      <td>69</td>\n    </tr>\n    <tr>\n      <th>439</th>\n      <td>70</td>\n    </tr>\n    <tr>\n      <th>480</th>\n      <td>71</td>\n    </tr>\n    <tr>\n      <th>60</th>\n      <td>72</td>\n    </tr>\n    <tr>\n      <th>811</th>\n      <td>73</td>\n    </tr>\n    <tr>\n      <th>628</th>\n      <td>74</td>\n    </tr>\n    <tr>\n      <th>588</th>\n      <td>75</td>\n    </tr>\n    <tr>\n      <th>412</th>\n      <td>76</td>\n    </tr>\n    <tr>\n      <th>466</th>\n      <td>77</td>\n    </tr>\n    <tr>\n      <th>616</th>\n      <td>78</td>\n    </tr>\n    <tr>\n      <th>496</th>\n      <td>79</td>\n    </tr>\n    <tr>\n      <th>146</th>\n      <td>80</td>\n    </tr>\n    <tr>\n      <th>706</th>\n      <td>81</td>\n    </tr>\n    <tr>\n      <th>660</th>\n      <td>82</td>\n    </tr>\n    <tr>\n      <th>964</th>\n      <td>83</td>\n    </tr>\n    <tr>\n      <th>500</th>\n      <td>84</td>\n    </tr>\n    <tr>\n      <th>800</th>\n      <td>85</td>\n    </tr>\n    <tr>\n      <th>803</th>\n      <td>86</td>\n    </tr>\n    <tr>\n      <th>492</th>\n      <td>87</td>\n    </tr>\n    <tr>\n      <th>862</th>\n      <td>88</td>\n    </tr>\n    <tr>\n      <th>451</th>\n      <td>89</td>\n    </tr>\n    <tr>\n      <th>297</th>\n      <td>90</td>\n    </tr>\n    <tr>\n      <th>258</th>\n      <td>91</td>\n    </tr>\n    <tr>\n      <th>596</th>\n      <td>92</td>\n    </tr>\n    <tr>\n      <th>44</th>\n      <td>93</td>\n    </tr>\n    <tr>\n      <th>805</th>\n      <td>94</td>\n    </tr>\n    <tr>\n      <th>991</th>\n      <td>95</td>\n    </tr>\n    <tr>\n      <th>316</th>\n      <td>96</td>\n    </tr>\n    <tr>\n      <th>51</th>\n      <td>97</td>\n    </tr>\n    <tr>\n      <th>614</th>\n      <td>98</td>\n    </tr>\n    <tr>\n      <th>672</th>\n      <td>99</td>\n    </tr>\n    <tr>\n      <th>208</th>\n      <td>100</td>\n    </tr>\n    <tr>\n      <th>715</th>\n      <td>101</td>\n    </tr>\n    <tr>\n      <th>648</th>\n      <td>102</td>\n    </tr>\n    <tr>\n      <th>86</th>\n      <td>103</td>\n    </tr>\n    <tr>\n      <th>34</th>\n      <td>104</td>\n    </tr>\n    <tr>\n      <th>846</th>\n      <td>105</td>\n    </tr>\n    <tr>\n      <th>474</th>\n      <td>106</td>\n    </tr>\n    <tr>\n      <th>265</th>\n      <td>107</td>\n    </tr>\n    <tr>\n      <th>942</th>\n      <td>108</td>\n    </tr>\n    <tr>\n      <th>948</th>\n      <td>109</td>\n    </tr>\n    <tr>\n      <th>30</th>\n      <td>110</td>\n    </tr>\n    <tr>\n      <th>768</th>\n      <td>111</td>\n    </tr>\n    <tr>\n      <th>59</th>\n      <td>112</td>\n    </tr>\n    <tr>\n      <th>125</th>\n      <td>113</td>\n    </tr>\n    <tr>\n      <th>12</th>\n      <td>114</td>\n    </tr>\n    <tr>\n      <th>530</th>\n      <td>115</td>\n    </tr>\n    <tr>\n      <th>950</th>\n      <td>116</td>\n    </tr>\n    <tr>\n      <th>772</th>\n      <td>117</td>\n    </tr>\n    <tr>\n      <th>962</th>\n      <td>118</td>\n    </tr>\n    <tr>\n      <th>880</th>\n      <td>119</td>\n    </tr>\n    <tr>\n      <th>411</th>\n      <td>120</td>\n    </tr>\n    <tr>\n      <th>508</th>\n      <td>121</td>\n    </tr>\n    <tr>\n      <th>169</th>\n      <td>122</td>\n    </tr>\n    <tr>\n      <th>913</th>\n      <td>123</td>\n    </tr>\n    <tr>\n      <th>257</th>\n      <td>124</td>\n    </tr>\n    <tr>\n      <th>92</th>\n      <td>125</td>\n    </tr>\n    <tr>\n      <th>132</th>\n      <td>126</td>\n    </tr>\n    <tr>\n      <th>711</th>\n      <td>127</td>\n    </tr>\n    <tr>\n      <th>45</th>\n      <td>128</td>\n    </tr>\n    <tr>\n      <th>42</th>\n      <td>129</td>\n    </tr>\n    <tr>\n      <th>661</th>\n      <td>130</td>\n    </tr>\n    <tr>\n      <th>741</th>\n      <td>131</td>\n    </tr>\n    <tr>\n      <th>917</th>\n      <td>132</td>\n    </tr>\n    <tr>\n      <th>389</th>\n      <td>133</td>\n    </tr>\n    <tr>\n      <th>630</th>\n      <td>134</td>\n    </tr>\n    <tr>\n      <th>246</th>\n      <td>135</td>\n    </tr>\n    <tr>\n      <th>358</th>\n      <td>136</td>\n    </tr>\n    <tr>\n      <th>331</th>\n      <td>137</td>\n    </tr>\n    <tr>\n      <th>659</th>\n      <td>138</td>\n    </tr>\n    <tr>\n      <th>349</th>\n      <td>139</td>\n    </tr>\n    <tr>\n      <th>227</th>\n      <td>140</td>\n    </tr>\n    <tr>\n      <th>861</th>\n      <td>141</td>\n    </tr>\n    <tr>\n      <th>151</th>\n      <td>142</td>\n    </tr>\n    <tr>\n      <th>138</th>\n      <td>143</td>\n    </tr>\n    <tr>\n      <th>104</th>\n      <td>144</td>\n    </tr>\n    <tr>\n      <th>623</th>\n      <td>145</td>\n    </tr>\n    <tr>\n      <th>254</th>\n      <td>146</td>\n    </tr>\n    <tr>\n      <th>407</th>\n      <td>147</td>\n    </tr>\n    <tr>\n      <th>342</th>\n      <td>148</td>\n    </tr>\n    <tr>\n      <th>100</th>\n      <td>149</td>\n    </tr>\n    <tr>\n      <th>926</th>\n      <td>150</td>\n    </tr>\n    <tr>\n      <th>664</th>\n      <td>151</td>\n    </tr>\n    <tr>\n      <th>445</th>\n      <td>152</td>\n    </tr>\n    <tr>\n      <th>683</th>\n      <td>153</td>\n    </tr>\n    <tr>\n      <th>450</th>\n      <td>154</td>\n    </tr>\n    <tr>\n      <th>306</th>\n      <td>155</td>\n    </tr>\n    <tr>\n      <th>52</th>\n      <td>156</td>\n    </tr>\n    <tr>\n      <th>579</th>\n      <td>157</td>\n    </tr>\n    <tr>\n      <th>215</th>\n      <td>158</td>\n    </tr>\n    <tr>\n      <th>156</th>\n      <td>159</td>\n    </tr>\n    <tr>\n      <th>749</th>\n      <td>160</td>\n    </tr>\n    <tr>\n      <th>375</th>\n      <td>161</td>\n    </tr>\n    <tr>\n      <th>111</th>\n      <td>162</td>\n    </tr>\n    <tr>\n      <th>789</th>\n      <td>163</td>\n    </tr>\n    <tr>\n      <th>377</th>\n      <td>164</td>\n    </tr>\n    <tr>\n      <th>626</th>\n      <td>165</td>\n    </tr>\n    <tr>\n      <th>779</th>\n      <td>166</td>\n    </tr>\n    <tr>\n      <th>965</th>\n      <td>167</td>\n    </tr>\n    <tr>\n      <th>444</th>\n      <td>168</td>\n    </tr>\n    <tr>\n      <th>539</th>\n      <td>169</td>\n    </tr>\n    <tr>\n      <th>245</th>\n      <td>170</td>\n    </tr>\n    <tr>\n      <th>232</th>\n      <td>171</td>\n    </tr>\n    <tr>\n      <th>13</th>\n      <td>172</td>\n    </tr>\n    <tr>\n      <th>937</th>\n      <td>173</td>\n    </tr>\n    <tr>\n      <th>65</th>\n      <td>174</td>\n    </tr>\n    <tr>\n      <th>383</th>\n      <td>175</td>\n    </tr>\n    <tr>\n      <th>573</th>\n      <td>176</td>\n    </tr>\n    <tr>\n      <th>786</th>\n      <td>177</td>\n    </tr>\n    <tr>\n      <th>567</th>\n      <td>178</td>\n    </tr>\n    <tr>\n      <th>491</th>\n      <td>179</td>\n    </tr>\n    <tr>\n      <th>424</th>\n      <td>180</td>\n    </tr>\n    <tr>\n      <th>77</th>\n      <td>181</td>\n    </tr>\n    <tr>\n      <th>18</th>\n      <td>182</td>\n    </tr>\n    <tr>\n      <th>470</th>\n      <td>183</td>\n    </tr>\n    <tr>\n      <th>713</th>\n      <td>184</td>\n    </tr>\n    <tr>\n      <th>456</th>\n      <td>185</td>\n    </tr>\n    <tr>\n      <th>751</th>\n      <td>186</td>\n    </tr>\n    <tr>\n      <th>250</th>\n      <td>187</td>\n    </tr>\n    <tr>\n      <th>572</th>\n      <td>188</td>\n    </tr>\n    <tr>\n      <th>883</th>\n      <td>189</td>\n    </tr>\n    <tr>\n      <th>159</th>\n      <td>190</td>\n    </tr>\n    <tr>\n      <th>216</th>\n      <td>191</td>\n    </tr>\n    <tr>\n      <th>684</th>\n      <td>192</td>\n    </tr>\n    <tr>\n      <th>770</th>\n      <td>193</td>\n    </tr>\n    <tr>\n      <th>26</th>\n      <td>194</td>\n    </tr>\n    <tr>\n      <th>337</th>\n      <td>195</td>\n    </tr>\n    <tr>\n      <th>251</th>\n      <td>196</td>\n    </tr>\n    <tr>\n      <th>688</th>\n      <td>197</td>\n    </tr>\n    <tr>\n      <th>576</th>\n      <td>198</td>\n    </tr>\n    <tr>\n      <th>853</th>\n      <td>199</td>\n    </tr>\n    <tr>\n      <th>131</th>\n      <td>200</td>\n    </tr>\n    <tr>\n      <th>191</th>\n      <td>201</td>\n    </tr>\n    <tr>\n      <th>285</th>\n      <td>202</td>\n    </tr>\n    <tr>\n      <th>531</th>\n      <td>203</td>\n    </tr>\n    <tr>\n      <th>585</th>\n      <td>204</td>\n    </tr>\n    <tr>\n      <th>832</th>\n      <td>205</td>\n    </tr>\n    <tr>\n      <th>548</th>\n      <td>206</td>\n    </tr>\n    <tr>\n      <th>850</th>\n      <td>207</td>\n    </tr>\n    <tr>\n      <th>405</th>\n      <td>208</td>\n    </tr>\n    <tr>\n      <th>312</th>\n      <td>209</td>\n    </tr>\n    <tr>\n      <th>569</th>\n      <td>210</td>\n    </tr>\n    <tr>\n      <th>621</th>\n      <td>211</td>\n    </tr>\n    <tr>\n      <th>366</th>\n      <td>212</td>\n    </tr>\n    <tr>\n      <th>625</th>\n      <td>213</td>\n    </tr>\n    <tr>\n      <th>776</th>\n      <td>214</td>\n    </tr>\n    <tr>\n      <th>536</th>\n      <td>215</td>\n    </tr>\n    <tr>\n      <th>540</th>\n      <td>216</td>\n    </tr>\n    <tr>\n      <th>685</th>\n      <td>217</td>\n    </tr>\n    <tr>\n      <th>281</th>\n      <td>218</td>\n    </tr>\n    <tr>\n      <th>918</th>\n      <td>219</td>\n    </tr>\n    <tr>\n      <th>299</th>\n      <td>220</td>\n    </tr>\n    <tr>\n      <th>680</th>\n      <td>221</td>\n    </tr>\n    <tr>\n      <th>371</th>\n      <td>222</td>\n    </tr>\n    <tr>\n      <th>666</th>\n      <td>223</td>\n    </tr>\n    <tr>\n      <th>346</th>\n      <td>224</td>\n    </tr>\n    <tr>\n      <th>760</th>\n      <td>225</td>\n    </tr>\n    <tr>\n      <th>945</th>\n      <td>226</td>\n    </tr>\n    <tr>\n      <th>499</th>\n      <td>227</td>\n    </tr>\n    <tr>\n      <th>512</th>\n      <td>228</td>\n    </tr>\n    <tr>\n      <th>654</th>\n      <td>229</td>\n    </tr>\n    <tr>\n      <th>554</th>\n      <td>230</td>\n    </tr>\n    <tr>\n      <th>149</th>\n      <td>231</td>\n    </tr>\n    <tr>\n      <th>535</th>\n      <td>232</td>\n    </tr>\n    <tr>\n      <th>205</th>\n      <td>233</td>\n    </tr>\n    <tr>\n      <th>33</th>\n      <td>234</td>\n    </tr>\n    <tr>\n      <th>998</th>\n      <td>235</td>\n    </tr>\n    <tr>\n      <th>5</th>\n      <td>236</td>\n    </tr>\n    <tr>\n      <th>977</th>\n      <td>237</td>\n    </tr>\n    <tr>\n      <th>594</th>\n      <td>238</td>\n    </tr>\n    <tr>\n      <th>895</th>\n      <td>239</td>\n    </tr>\n    <tr>\n      <th>550</th>\n      <td>240</td>\n    </tr>\n    <tr>\n      <th>95</th>\n      <td>241</td>\n    </tr>\n    <tr>\n      <th>967</th>\n      <td>242</td>\n    </tr>\n    <tr>\n      <th>328</th>\n      <td>243</td>\n    </tr>\n    <tr>\n      <th>643</th>\n      <td>244</td>\n    </tr>\n    <tr>\n      <th>716</th>\n      <td>245</td>\n    </tr>\n    <tr>\n      <th>637</th>\n      <td>246</td>\n    </tr>\n    <tr>\n      <th>592</th>\n      <td>247</td>\n    </tr>\n    <tr>\n      <th>551</th>\n      <td>248</td>\n    </tr>\n    <tr>\n      <th>84</th>\n      <td>249</td>\n    </tr>\n    <tr>\n      <th>544</th>\n      <td>250</td>\n    </tr>\n    <tr>\n      <th>475</th>\n      <td>251</td>\n    </tr>\n    <tr>\n      <th>764</th>\n      <td>252</td>\n    </tr>\n    <tr>\n      <th>490</th>\n      <td>253</td>\n    </tr>\n    <tr>\n      <th>526</th>\n      <td>254</td>\n    </tr>\n    <tr>\n      <th>28</th>\n      <td>255</td>\n    </tr>\n    <tr>\n      <th>640</th>\n      <td>256</td>\n    </tr>\n    <tr>\n      <th>698</th>\n      <td>257</td>\n    </tr>\n    <tr>\n      <th>972</th>\n      <td>258</td>\n    </tr>\n    <tr>\n      <th>766</th>\n      <td>259</td>\n    </tr>\n    <tr>\n      <th>37</th>\n      <td>260</td>\n    </tr>\n    <tr>\n      <th>911</th>\n      <td>261</td>\n    </tr>\n    <tr>\n      <th>696</th>\n      <td>262</td>\n    </tr>\n    <tr>\n      <th>259</th>\n      <td>263</td>\n    </tr>\n    <tr>\n      <th>816</th>\n      <td>264</td>\n    </tr>\n    <tr>\n      <th>813</th>\n      <td>265</td>\n    </tr>\n    <tr>\n      <th>522</th>\n      <td>266</td>\n    </tr>\n    <tr>\n      <th>184</th>\n      <td>267</td>\n    </tr>\n    <tr>\n      <th>495</th>\n      <td>268</td>\n    </tr>\n    <tr>\n      <th>898</th>\n      <td>269</td>\n    </tr>\n    <tr>\n      <th>931</th>\n      <td>270</td>\n    </tr>\n    <tr>\n      <th>647</th>\n      <td>271</td>\n    </tr>\n    <tr>\n      <th>902</th>\n      <td>272</td>\n    </tr>\n    <tr>\n      <th>99</th>\n      <td>273</td>\n    </tr>\n    <tr>\n      <th>717</th>\n      <td>274</td>\n    </tr>\n    <tr>\n      <th>872</th>\n      <td>275</td>\n    </tr>\n    <tr>\n      <th>750</th>\n      <td>276</td>\n    </tr>\n    <tr>\n      <th>758</th>\n      <td>277</td>\n    </tr>\n    <tr>\n      <th>36</th>\n      <td>278</td>\n    </tr>\n    <tr>\n      <th>119</th>\n      <td>279</td>\n    </tr>\n    <tr>\n      <th>341</th>\n      <td>280</td>\n    </tr>\n    <tr>\n      <th>984</th>\n      <td>281</td>\n    </tr>\n    <tr>\n      <th>546</th>\n      <td>282</td>\n    </tr>\n    <tr>\n      <th>694</th>\n      <td>283</td>\n    </tr>\n    <tr>\n      <th>255</th>\n      <td>284</td>\n    </tr>\n    <tr>\n      <th>162</th>\n      <td>285</td>\n    </tr>\n    <tr>\n      <th>968</th>\n      <td>286</td>\n    </tr>\n    <tr>\n      <th>718</th>\n      <td>287</td>\n    </tr>\n    <tr>\n      <th>207</th>\n      <td>288</td>\n    </tr>\n    <tr>\n      <th>72</th>\n      <td>289</td>\n    </tr>\n    <tr>\n      <th>67</th>\n      <td>290</td>\n    </tr>\n    <tr>\n      <th>587</th>\n      <td>291</td>\n    </tr>\n    <tr>\n      <th>555</th>\n      <td>292</td>\n    </tr>\n    <tr>\n      <th>66</th>\n      <td>293</td>\n    </tr>\n    <tr>\n      <th>453</th>\n      <td>294</td>\n    </tr>\n    <tr>\n      <th>975</th>\n      <td>295</td>\n    </tr>\n    <tr>\n      <th>858</th>\n      <td>296</td>\n    </tr>\n    <tr>\n      <th>559</th>\n      <td>297</td>\n    </tr>\n    <tr>\n      <th>468</th>\n      <td>298</td>\n    </tr>\n    <tr>\n      <th>421</th>\n      <td>299</td>\n    </tr>\n    <tr>\n      <th>992</th>\n      <td>300</td>\n    </tr>\n    <tr>\n      <th>23</th>\n      <td>301</td>\n    </tr>\n    <tr>\n      <th>728</th>\n      <td>302</td>\n    </tr>\n    <tr>\n      <th>909</th>\n      <td>303</td>\n    </tr>\n    <tr>\n      <th>404</th>\n      <td>304</td>\n    </tr>\n    <tr>\n      <th>80</th>\n      <td>305</td>\n    </tr>\n    <tr>\n      <th>577</th>\n      <td>306</td>\n    </tr>\n    <tr>\n      <th>88</th>\n      <td>307</td>\n    </tr>\n    <tr>\n      <th>295</th>\n      <td>308</td>\n    </tr>\n    <tr>\n      <th>21</th>\n      <td>309</td>\n    </tr>\n    <tr>\n      <th>223</th>\n      <td>310</td>\n    </tr>\n    <tr>\n      <th>167</th>\n      <td>311</td>\n    </tr>\n    <tr>\n      <th>256</th>\n      <td>312</td>\n    </tr>\n    <tr>\n      <th>422</th>\n      <td>313</td>\n    </tr>\n    <tr>\n      <th>783</th>\n      <td>314</td>\n    </tr>\n    <tr>\n      <th>348</th>\n      <td>315</td>\n    </tr>\n    <tr>\n      <th>189</th>\n      <td>316</td>\n    </tr>\n    <tr>\n      <th>110</th>\n      <td>317</td>\n    </tr>\n    <tr>\n      <th>620</th>\n      <td>318</td>\n    </tr>\n    <tr>\n      <th>438</th>\n      <td>319</td>\n    </tr>\n    <tr>\n      <th>514</th>\n      <td>320</td>\n    </tr>\n    <tr>\n      <th>709</th>\n      <td>321</td>\n    </tr>\n    <tr>\n      <th>38</th>\n      <td>322</td>\n    </tr>\n    <tr>\n      <th>973</th>\n      <td>323</td>\n    </tr>\n    <tr>\n      <th>609</th>\n      <td>324</td>\n    </tr>\n    <tr>\n      <th>759</th>\n      <td>325</td>\n    </tr>\n    <tr>\n      <th>886</th>\n      <td>326</td>\n    </tr>\n    <tr>\n      <th>356</th>\n      <td>327</td>\n    </tr>\n    <tr>\n      <th>601</th>\n      <td>328</td>\n    </tr>\n    <tr>\n      <th>116</th>\n      <td>329</td>\n    </tr>\n    <tr>\n      <th>177</th>\n      <td>330</td>\n    </tr>\n    <tr>\n      <th>505</th>\n      <td>331</td>\n    </tr>\n    <tr>\n      <th>340</th>\n      <td>332</td>\n    </tr>\n    <tr>\n      <th>952</th>\n      <td>333</td>\n    </tr>\n    <tr>\n      <th>153</th>\n      <td>334</td>\n    </tr>\n    <tr>\n      <th>785</th>\n      <td>335</td>\n    </tr>\n    <tr>\n      <th>22</th>\n      <td>336</td>\n    </tr>\n    <tr>\n      <th>228</th>\n      <td>337</td>\n    </tr>\n    <tr>\n      <th>845</th>\n      <td>338</td>\n    </tr>\n    <tr>\n      <th>673</th>\n      <td>339</td>\n    </tr>\n    <tr>\n      <th>503</th>\n      <td>340</td>\n    </tr>\n    <tr>\n      <th>396</th>\n      <td>341</td>\n    </tr>\n    <tr>\n      <th>815</th>\n      <td>342</td>\n    </tr>\n    <tr>\n      <th>987</th>\n      <td>343</td>\n    </tr>\n    <tr>\n      <th>195</th>\n      <td>344</td>\n    </tr>\n    <tr>\n      <th>387</th>\n      <td>345</td>\n    </tr>\n    <tr>\n      <th>903</th>\n      <td>346</td>\n    </tr>\n    <tr>\n      <th>69</th>\n      <td>347</td>\n    </tr>\n    <tr>\n      <th>827</th>\n      <td>348</td>\n    </tr>\n    <tr>\n      <th>532</th>\n      <td>349</td>\n    </tr>\n    <tr>\n      <th>687</th>\n      <td>350</td>\n    </tr>\n    <tr>\n      <th>571</th>\n      <td>351</td>\n    </tr>\n    <tr>\n      <th>238</th>\n      <td>352</td>\n    </tr>\n    <tr>\n      <th>734</th>\n      <td>353</td>\n    </tr>\n    <tr>\n      <th>386</th>\n      <td>354</td>\n    </tr>\n    <tr>\n      <th>185</th>\n      <td>355</td>\n    </tr>\n    <tr>\n      <th>355</th>\n      <td>356</td>\n    </tr>\n    <tr>\n      <th>847</th>\n      <td>357</td>\n    </tr>\n    <tr>\n      <th>388</th>\n      <td>358</td>\n    </tr>\n    <tr>\n      <th>657</th>\n      <td>359</td>\n    </tr>\n    <tr>\n      <th>801</th>\n      <td>360</td>\n    </tr>\n    <tr>\n      <th>305</th>\n      <td>361</td>\n    </tr>\n    <tr>\n      <th>599</th>\n      <td>362</td>\n    </tr>\n    <tr>\n      <th>413</th>\n      <td>363</td>\n    </tr>\n    <tr>\n      <th>326</th>\n      <td>364</td>\n    </tr>\n    <tr>\n      <th>543</th>\n      <td>365</td>\n    </tr>\n    <tr>\n      <th>949</th>\n      <td>366</td>\n    </tr>\n    <tr>\n      <th>403</th>\n      <td>367</td>\n    </tr>\n    <tr>\n      <th>117</th>\n      <td>368</td>\n    </tr>\n    <tr>\n      <th>754</th>\n      <td>369</td>\n    </tr>\n    <tr>\n      <th>720</th>\n      <td>370</td>\n    </tr>\n    <tr>\n      <th>222</th>\n      <td>371</td>\n    </tr>\n    <tr>\n      <th>578</th>\n      <td>372</td>\n    </tr>\n    <tr>\n      <th>955</th>\n      <td>373</td>\n    </tr>\n    <tr>\n      <th>226</th>\n      <td>374</td>\n    </tr>\n    <tr>\n      <th>780</th>\n      <td>375</td>\n    </tr>\n    <tr>\n      <th>89</th>\n      <td>376</td>\n    </tr>\n    <tr>\n      <th>431</th>\n      <td>377</td>\n    </tr>\n    <tr>\n      <th>180</th>\n      <td>378</td>\n    </tr>\n    <tr>\n      <th>868</th>\n      <td>379</td>\n    </tr>\n    <tr>\n      <th>699</th>\n      <td>380</td>\n    </tr>\n    <tr>\n      <th>268</th>\n      <td>381</td>\n    </tr>\n    <tr>\n      <th>231</th>\n      <td>382</td>\n    </tr>\n    <tr>\n      <th>518</th>\n      <td>383</td>\n    </tr>\n    <tr>\n      <th>73</th>\n      <td>384</td>\n    </tr>\n    <tr>\n      <th>712</th>\n      <td>385</td>\n    </tr>\n    <tr>\n      <th>814</th>\n      <td>386</td>\n    </tr>\n    <tr>\n      <th>282</th>\n      <td>387</td>\n    </tr>\n    <tr>\n      <th>925</th>\n      <td>388</td>\n    </tr>\n    <tr>\n      <th>697</th>\n      <td>389</td>\n    </tr>\n    <tr>\n      <th>529</th>\n      <td>390</td>\n    </tr>\n    <tr>\n      <th>464</th>\n      <td>391</td>\n    </tr>\n    <tr>\n      <th>165</th>\n      <td>392</td>\n    </tr>\n    <tr>\n      <th>958</th>\n      <td>393</td>\n    </tr>\n    <tr>\n      <th>765</th>\n      <td>394</td>\n    </tr>\n    <tr>\n      <th>556</th>\n      <td>395</td>\n    </tr>\n    <tr>\n      <th>792</th>\n      <td>396</td>\n    </tr>\n    <tr>\n      <th>103</th>\n      <td>397</td>\n    </tr>\n    <tr>\n      <th>221</th>\n      <td>398</td>\n    </tr>\n    <tr>\n      <th>663</th>\n      <td>399</td>\n    </tr>\n    <tr>\n      <th>787</th>\n      <td>400</td>\n    </tr>\n    <tr>\n      <th>649</th>\n      <td>401</td>\n    </tr>\n    <tr>\n      <th>133</th>\n      <td>402</td>\n    </tr>\n    <tr>\n      <th>679</th>\n      <td>403</td>\n    </tr>\n    <tr>\n      <th>580</th>\n      <td>404</td>\n    </tr>\n    <tr>\n      <th>854</th>\n      <td>405</td>\n    </tr>\n    <tr>\n      <th>755</th>\n      <td>406</td>\n    </tr>\n    <tr>\n      <th>2</th>\n      <td>407</td>\n    </tr>\n    <tr>\n      <th>658</th>\n      <td>408</td>\n    </tr>\n    <tr>\n      <th>303</th>\n      <td>409</td>\n    </tr>\n    <tr>\n      <th>272</th>\n      <td>410</td>\n    </tr>\n    <tr>\n      <th>552</th>\n      <td>411</td>\n    </tr>\n    <tr>\n      <th>908</th>\n      <td>412</td>\n    </tr>\n    <tr>\n      <th>454</th>\n      <td>413</td>\n    </tr>\n    <tr>\n      <th>102</th>\n      <td>414</td>\n    </tr>\n    <tr>\n      <th>597</th>\n      <td>415</td>\n    </tr>\n    <tr>\n      <th>11</th>\n      <td>416</td>\n    </tr>\n    <tr>\n      <th>314</th>\n      <td>417</td>\n    </tr>\n    <tr>\n      <th>565</th>\n      <td>418</td>\n    </tr>\n    <tr>\n      <th>427</th>\n      <td>419</td>\n    </tr>\n    <tr>\n      <th>812</th>\n      <td>420</td>\n    </tr>\n    <tr>\n      <th>398</th>\n      <td>421</td>\n    </tr>\n    <tr>\n      <th>642</th>\n      <td>422</td>\n    </tr>\n    <tr>\n      <th>507</th>\n      <td>423</td>\n    </tr>\n    <tr>\n      <th>486</th>\n      <td>424</td>\n    </tr>\n    <tr>\n      <th>692</th>\n      <td>425</td>\n    </tr>\n    <tr>\n      <th>293</th>\n      <td>426</td>\n    </tr>\n    <tr>\n      <th>278</th>\n      <td>427</td>\n    </tr>\n    <tr>\n      <th>889</th>\n      <td>428</td>\n    </tr>\n    <tr>\n      <th>961</th>\n      <td>429</td>\n    </tr>\n    <tr>\n      <th>485</th>\n      <td>430</td>\n    </tr>\n    <tr>\n      <th>600</th>\n      <td>431</td>\n    </tr>\n    <tr>\n      <th>212</th>\n      <td>432</td>\n    </tr>\n    <tr>\n      <th>283</th>\n      <td>433</td>\n    </tr>\n    <tr>\n      <th>774</th>\n      <td>434</td>\n    </tr>\n    <tr>\n      <th>582</th>\n      <td>435</td>\n    </tr>\n    <tr>\n      <th>175</th>\n      <td>436</td>\n    </tr>\n    <tr>\n      <th>313</th>\n      <td>437</td>\n    </tr>\n    <tr>\n      <th>263</th>\n      <td>438</td>\n    </tr>\n    <tr>\n      <th>324</th>\n      <td>439</td>\n    </tr>\n    <tr>\n      <th>401</th>\n      <td>440</td>\n    </tr>\n    <tr>\n      <th>211</th>\n      <td>441</td>\n    </tr>\n    <tr>\n      <th>632</th>\n      <td>442</td>\n    </tr>\n    <tr>\n      <th>237</th>\n      <td>443</td>\n    </tr>\n    <tr>\n      <th>613</th>\n      <td>444</td>\n    </tr>\n    <tr>\n      <th>879</th>\n      <td>445</td>\n    </tr>\n    <tr>\n      <th>360</th>\n      <td>446</td>\n    </tr>\n    <tr>\n      <th>264</th>\n      <td>447</td>\n    </tr>\n    <tr>\n      <th>452</th>\n      <td>448</td>\n    </tr>\n    <tr>\n      <th>134</th>\n      <td>449</td>\n    </tr>\n    <tr>\n      <th>311</th>\n      <td>450</td>\n    </tr>\n    <tr>\n      <th>849</th>\n      <td>451</td>\n    </tr>\n    <tr>\n      <th>35</th>\n      <td>452</td>\n    </tr>\n    <tr>\n      <th>549</th>\n      <td>453</td>\n    </tr>\n    <tr>\n      <th>24</th>\n      <td>454</td>\n    </tr>\n    <tr>\n      <th>946</th>\n      <td>455</td>\n    </tr>\n    <tr>\n      <th>971</th>\n      <td>456</td>\n    </tr>\n    <tr>\n      <th>650</th>\n      <td>457</td>\n    </tr>\n    <tr>\n      <th>591</th>\n      <td>458</td>\n    </tr>\n    <tr>\n      <th>494</th>\n      <td>459</td>\n    </tr>\n    <tr>\n      <th>410</th>\n      <td>460</td>\n    </tr>\n    <tr>\n      <th>617</th>\n      <td>461</td>\n    </tr>\n    <tr>\n      <th>284</th>\n      <td>462</td>\n    </tr>\n    <tr>\n      <th>593</th>\n      <td>463</td>\n    </tr>\n    <tr>\n      <th>56</th>\n      <td>464</td>\n    </tr>\n    <tr>\n      <th>335</th>\n      <td>465</td>\n    </tr>\n    <tr>\n      <th>793</th>\n      <td>466</td>\n    </tr>\n    <tr>\n      <th>756</th>\n      <td>467</td>\n    </tr>\n    <tr>\n      <th>213</th>\n      <td>468</td>\n    </tr>\n    <tr>\n      <th>506</th>\n      <td>469</td>\n    </tr>\n    <tr>\n      <th>888</th>\n      <td>470</td>\n    </tr>\n    <tr>\n      <th>87</th>\n      <td>471</td>\n    </tr>\n    <tr>\n      <th>547</th>\n      <td>472</td>\n    </tr>\n    <tr>\n      <th>392</th>\n      <td>473</td>\n    </tr>\n    <tr>\n      <th>733</th>\n      <td>474</td>\n    </tr>\n    <tr>\n      <th>271</th>\n      <td>475</td>\n    </tr>\n    <tr>\n      <th>32</th>\n      <td>476</td>\n    </tr>\n    <tr>\n      <th>347</th>\n      <td>477</td>\n    </tr>\n    <tr>\n      <th>129</th>\n      <td>478</td>\n    </tr>\n    <tr>\n      <th>447</th>\n      <td>479</td>\n    </tr>\n    <tr>\n      <th>727</th>\n      <td>480</td>\n    </tr>\n    <tr>\n      <th>939</th>\n      <td>481</td>\n    </tr>\n    <tr>\n      <th>380</th>\n      <td>482</td>\n    </tr>\n    <tr>\n      <th>329</th>\n      <td>483</td>\n    </tr>\n    <tr>\n      <th>996</th>\n      <td>484</td>\n    </tr>\n    <tr>\n      <th>471</th>\n      <td>485</td>\n    </tr>\n    <tr>\n      <th>242</th>\n      <td>486</td>\n    </tr>\n    <tr>\n      <th>561</th>\n      <td>487</td>\n    </tr>\n    <tr>\n      <th>980</th>\n      <td>488</td>\n    </tr>\n    <tr>\n      <th>315</th>\n      <td>489</td>\n    </tr>\n    <tr>\n      <th>318</th>\n      <td>490</td>\n    </tr>\n    <tr>\n      <th>350</th>\n      <td>491</td>\n    </tr>\n    <tr>\n      <th>158</th>\n      <td>492</td>\n    </tr>\n    <tr>\n      <th>700</th>\n      <td>493</td>\n    </tr>\n    <tr>\n      <th>882</th>\n      <td>494</td>\n    </tr>\n    <tr>\n      <th>646</th>\n      <td>495</td>\n    </tr>\n    <tr>\n      <th>484</th>\n      <td>496</td>\n    </tr>\n    <tr>\n      <th>527</th>\n      <td>497</td>\n    </tr>\n    <tr>\n      <th>294</th>\n      <td>498</td>\n    </tr>\n    <tr>\n      <th>379</th>\n      <td>499</td>\n    </tr>\n    <tr>\n      <th>481</th>\n      <td>500</td>\n    </tr>\n    <tr>\n      <th>235</th>\n      <td>501</td>\n    </tr>\n    <tr>\n      <th>875</th>\n      <td>502</td>\n    </tr>\n    <tr>\n      <th>878</th>\n      <td>503</td>\n    </tr>\n    <tr>\n      <th>408</th>\n      <td>504</td>\n    </tr>\n    <tr>\n      <th>317</th>\n      <td>505</td>\n    </tr>\n    <tr>\n      <th>429</th>\n      <td>506</td>\n    </tr>\n    <tr>\n      <th>515</th>\n      <td>507</td>\n    </tr>\n    <tr>\n      <th>566</th>\n      <td>508</td>\n    </tr>\n    <tr>\n      <th>541</th>\n      <td>509</td>\n    </tr>\n    <tr>\n      <th>154</th>\n      <td>510</td>\n    </tr>\n    <tr>\n      <th>748</th>\n      <td>511</td>\n    </tr>\n    <tr>\n      <th>983</th>\n      <td>512</td>\n    </tr>\n    <tr>\n      <th>881</th>\n      <td>513</td>\n    </tr>\n    <tr>\n      <th>333</th>\n      <td>514</td>\n    </tr>\n    <tr>\n      <th>608</th>\n      <td>515</td>\n    </tr>\n    <tr>\n      <th>838</th>\n      <td>516</td>\n    </tr>\n    <tr>\n      <th>91</th>\n      <td>517</td>\n    </tr>\n    <tr>\n      <th>395</th>\n      <td>518</td>\n    </tr>\n    <tr>\n      <th>16</th>\n      <td>519</td>\n    </tr>\n    <tr>\n      <th>753</th>\n      <td>520</td>\n    </tr>\n    <tr>\n      <th>669</th>\n      <td>521</td>\n    </tr>\n    <tr>\n      <th>353</th>\n      <td>522</td>\n    </tr>\n    <tr>\n      <th>922</th>\n      <td>523</td>\n    </tr>\n    <tr>\n      <th>463</th>\n      <td>524</td>\n    </tr>\n    <tr>\n      <th>799</th>\n      <td>525</td>\n    </tr>\n    <tr>\n      <th>954</th>\n      <td>526</td>\n    </tr>\n    <tr>\n      <th>951</th>\n      <td>527</td>\n    </tr>\n    <tr>\n      <th>198</th>\n      <td>528</td>\n    </tr>\n    <tr>\n      <th>837</th>\n      <td>529</td>\n    </tr>\n    <tr>\n      <th>982</th>\n      <td>530</td>\n    </tr>\n    <tr>\n      <th>892</th>\n      <td>531</td>\n    </tr>\n    <tr>\n      <th>538</th>\n      <td>532</td>\n    </tr>\n    <tr>\n      <th>497</th>\n      <td>533</td>\n    </tr>\n    <tr>\n      <th>442</th>\n      <td>534</td>\n    </tr>\n    <tr>\n      <th>863</th>\n      <td>535</td>\n    </tr>\n    <tr>\n      <th>653</th>\n      <td>536</td>\n    </tr>\n    <tr>\n      <th>545</th>\n      <td>537</td>\n    </tr>\n    <tr>\n      <th>762</th>\n      <td>538</td>\n    </tr>\n    <tr>\n      <th>761</th>\n      <td>539</td>\n    </tr>\n    <tr>\n      <th>810</th>\n      <td>540</td>\n    </tr>\n    <tr>\n      <th>777</th>\n      <td>541</td>\n    </tr>\n    <tr>\n      <th>769</th>\n      <td>542</td>\n    </tr>\n    <tr>\n      <th>174</th>\n      <td>543</td>\n    </tr>\n    <tr>\n      <th>981</th>\n      <td>544</td>\n    </tr>\n    <tr>\n      <th>788</th>\n      <td>545</td>\n    </tr>\n    <tr>\n      <th>936</th>\n      <td>546</td>\n    </tr>\n    <tr>\n      <th>372</th>\n      <td>547</td>\n    </tr>\n    <tr>\n      <th>48</th>\n      <td>548</td>\n    </tr>\n    <tr>\n      <th>771</th>\n      <td>549</td>\n    </tr>\n    <tr>\n      <th>979</th>\n      <td>550</td>\n    </tr>\n    <tr>\n      <th>61</th>\n      <td>551</td>\n    </tr>\n    <tr>\n      <th>437</th>\n      <td>552</td>\n    </tr>\n    <tr>\n      <th>406</th>\n      <td>553</td>\n    </tr>\n    <tr>\n      <th>385</th>\n      <td>554</td>\n    </tr>\n    <tr>\n      <th>737</th>\n      <td>555</td>\n    </tr>\n    <tr>\n      <th>719</th>\n      <td>556</td>\n    </tr>\n    <tr>\n      <th>248</th>\n      <td>557</td>\n    </tr>\n    <tr>\n      <th>128</th>\n      <td>558</td>\n    </tr>\n    <tr>\n      <th>920</th>\n      <td>559</td>\n    </tr>\n    <tr>\n      <th>166</th>\n      <td>560</td>\n    </tr>\n    <tr>\n      <th>636</th>\n      <td>561</td>\n    </tr>\n    <tr>\n      <th>78</th>\n      <td>562</td>\n    </tr>\n    <tr>\n      <th>262</th>\n      <td>563</td>\n    </tr>\n    <tr>\n      <th>332</th>\n      <td>564</td>\n    </tr>\n    <tr>\n      <th>828</th>\n      <td>565</td>\n    </tr>\n    <tr>\n      <th>702</th>\n      <td>566</td>\n    </tr>\n    <tr>\n      <th>583</th>\n      <td>567</td>\n    </tr>\n    <tr>\n      <th>488</th>\n      <td>568</td>\n    </tr>\n    <tr>\n      <th>934</th>\n      <td>569</td>\n    </tr>\n    <tr>\n      <th>944</th>\n      <td>570</td>\n    </tr>\n    <tr>\n      <th>280</th>\n      <td>571</td>\n    </tr>\n    <tr>\n      <th>627</th>\n      <td>572</td>\n    </tr>\n    <tr>\n      <th>791</th>\n      <td>573</td>\n    </tr>\n    <tr>\n      <th>604</th>\n      <td>574</td>\n    </tr>\n    <tr>\n      <th>644</th>\n      <td>575</td>\n    </tr>\n    <tr>\n      <th>870</th>\n      <td>576</td>\n    </tr>\n    <tr>\n      <th>835</th>\n      <td>577</td>\n    </tr>\n    <tr>\n      <th>885</th>\n      <td>578</td>\n    </tr>\n    <tr>\n      <th>919</th>\n      <td>579</td>\n    </tr>\n    <tr>\n      <th>763</th>\n      <td>580</td>\n    </tr>\n    <tr>\n      <th>302</th>\n      <td>581</td>\n    </tr>\n    <tr>\n      <th>345</th>\n      <td>582</td>\n    </tr>\n    <tr>\n      <th>877</th>\n      <td>583</td>\n    </tr>\n    <tr>\n      <th>841</th>\n      <td>584</td>\n    </tr>\n    <tr>\n      <th>947</th>\n      <td>585</td>\n    </tr>\n    <tr>\n      <th>75</th>\n      <td>586</td>\n    </tr>\n    <tr>\n      <th>31</th>\n      <td>587</td>\n    </tr>\n    <tr>\n      <th>148</th>\n      <td>588</td>\n    </tr>\n    <tr>\n      <th>668</th>\n      <td>589</td>\n    </tr>\n    <tr>\n      <th>362</th>\n      <td>590</td>\n    </tr>\n    <tr>\n      <th>457</th>\n      <td>591</td>\n    </tr>\n    <tr>\n      <th>370</th>\n      <td>592</td>\n    </tr>\n    <tr>\n      <th>270</th>\n      <td>593</td>\n    </tr>\n    <tr>\n      <th>707</th>\n      <td>594</td>\n    </tr>\n    <tr>\n      <th>352</th>\n      <td>595</td>\n    </tr>\n    <tr>\n      <th>818</th>\n      <td>596</td>\n    </tr>\n    <tr>\n      <th>15</th>\n      <td>597</td>\n    </tr>\n    <tr>\n      <th>493</th>\n      <td>598</td>\n    </tr>\n    <tr>\n      <th>419</th>\n      <td>599</td>\n    </tr>\n    <tr>\n      <th>479</th>\n      <td>600</td>\n    </tr>\n    <tr>\n      <th>757</th>\n      <td>601</td>\n    </tr>\n    <tr>\n      <th>824</th>\n      <td>602</td>\n    </tr>\n    <tr>\n      <th>622</th>\n      <td>603</td>\n    </tr>\n    <tr>\n      <th>460</th>\n      <td>604</td>\n    </tr>\n    <tr>\n      <th>369</th>\n      <td>605</td>\n    </tr>\n    <tr>\n      <th>108</th>\n      <td>606</td>\n    </tr>\n    <tr>\n      <th>553</th>\n      <td>607</td>\n    </tr>\n    <tr>\n      <th>665</th>\n      <td>608</td>\n    </tr>\n    <tr>\n      <th>276</th>\n      <td>609</td>\n    </tr>\n    <tr>\n      <th>744</th>\n      <td>610</td>\n    </tr>\n    <tr>\n      <th>896</th>\n      <td>611</td>\n    </tr>\n    <tr>\n      <th>343</th>\n      <td>612</td>\n    </tr>\n    <tr>\n      <th>686</th>\n      <td>613</td>\n    </tr>\n    <tr>\n      <th>465</th>\n      <td>614</td>\n    </tr>\n    <tr>\n      <th>746</th>\n      <td>615</td>\n    </tr>\n    <tr>\n      <th>436</th>\n      <td>616</td>\n    </tr>\n    <tr>\n      <th>645</th>\n      <td>617</td>\n    </tr>\n    <tr>\n      <th>519</th>\n      <td>618</td>\n    </tr>\n    <tr>\n      <th>290</th>\n      <td>619</td>\n    </tr>\n    <tr>\n      <th>778</th>\n      <td>620</td>\n    </tr>\n    <tr>\n      <th>188</th>\n      <td>621</td>\n    </tr>\n    <tr>\n      <th>126</th>\n      <td>622</td>\n    </tr>\n    <tr>\n      <th>986</th>\n      <td>623</td>\n    </tr>\n    <tr>\n      <th>732</th>\n      <td>624</td>\n    </tr>\n    <tr>\n      <th>782</th>\n      <td>625</td>\n    </tr>\n    <tr>\n      <th>449</th>\n      <td>626</td>\n    </tr>\n    <tr>\n      <th>275</th>\n      <td>627</td>\n    </tr>\n    <tr>\n      <th>107</th>\n      <td>628</td>\n    </tr>\n    <tr>\n      <th>229</th>\n      <td>629</td>\n    </tr>\n    <tr>\n      <th>206</th>\n      <td>630</td>\n    </tr>\n    <tr>\n      <th>708</th>\n      <td>631</td>\n    </tr>\n    <tr>\n      <th>988</th>\n      <td>632</td>\n    </tr>\n    <tr>\n      <th>682</th>\n      <td>633</td>\n    </tr>\n    <tr>\n      <th>200</th>\n      <td>634</td>\n    </tr>\n    <tr>\n      <th>701</th>\n      <td>635</td>\n    </tr>\n    <tr>\n      <th>705</th>\n      <td>636</td>\n    </tr>\n    <tr>\n      <th>277</th>\n      <td>637</td>\n    </tr>\n    <tr>\n      <th>178</th>\n      <td>638</td>\n    </tr>\n    <tr>\n      <th>743</th>\n      <td>639</td>\n    </tr>\n    <tr>\n      <th>969</th>\n      <td>640</td>\n    </tr>\n    <tr>\n      <th>966</th>\n      <td>641</td>\n    </tr>\n    <tr>\n      <th>279</th>\n      <td>642</td>\n    </tr>\n    <tr>\n      <th>953</th>\n      <td>643</td>\n    </tr>\n    <tr>\n      <th>230</th>\n      <td>644</td>\n    </tr>\n    <tr>\n      <th>240</th>\n      <td>645</td>\n    </tr>\n    <tr>\n      <th>74</th>\n      <td>646</td>\n    </tr>\n    <tr>\n      <th>513</th>\n      <td>647</td>\n    </tr>\n    <tr>\n      <th>122</th>\n      <td>648</td>\n    </tr>\n    <tr>\n      <th>502</th>\n      <td>649</td>\n    </tr>\n    <tr>\n      <th>477</th>\n      <td>650</td>\n    </tr>\n    <tr>\n      <th>584</th>\n      <td>651</td>\n    </tr>\n    <tr>\n      <th>960</th>\n      <td>652</td>\n    </tr>\n    <tr>\n      <th>864</th>\n      <td>653</td>\n    </tr>\n    <tr>\n      <th>194</th>\n      <td>654</td>\n    </tr>\n    <tr>\n      <th>856</th>\n      <td>655</td>\n    </tr>\n    <tr>\n      <th>575</th>\n      <td>656</td>\n    </tr>\n    <tr>\n      <th>55</th>\n      <td>657</td>\n    </tr>\n    <tr>\n      <th>511</th>\n      <td>658</td>\n    </tr>\n    <tr>\n      <th>354</th>\n      <td>659</td>\n    </tr>\n    <tr>\n      <th>790</th>\n      <td>660</td>\n    </tr>\n    <tr>\n      <th>210</th>\n      <td>661</td>\n    </tr>\n    <tr>\n      <th>409</th>\n      <td>662</td>\n    </tr>\n    <tr>\n      <th>887</th>\n      <td>663</td>\n    </tr>\n    <tr>\n      <th>338</th>\n      <td>664</td>\n    </tr>\n    <tr>\n      <th>970</th>\n      <td>665</td>\n    </tr>\n    <tr>\n      <th>441</th>\n      <td>666</td>\n    </tr>\n    <tr>\n      <th>58</th>\n      <td>667</td>\n    </tr>\n    <tr>\n      <th>322</th>\n      <td>668</td>\n    </tr>\n    <tr>\n      <th>106</th>\n      <td>669</td>\n    </tr>\n    <tr>\n      <th>558</th>\n      <td>670</td>\n    </tr>\n    <tr>\n      <th>894</th>\n      <td>671</td>\n    </tr>\n    <tr>\n      <th>775</th>\n      <td>672</td>\n    </tr>\n    <tr>\n      <th>990</th>\n      <td>673</td>\n    </tr>\n    <tr>\n      <th>83</th>\n      <td>674</td>\n    </tr>\n    <tr>\n      <th>181</th>\n      <td>675</td>\n    </tr>\n    <tr>\n      <th>639</th>\n      <td>676</td>\n    </tr>\n    <tr>\n      <th>1</th>\n      <td>677</td>\n    </tr>\n    <tr>\n      <th>25</th>\n      <td>678</td>\n    </tr>\n    <tr>\n      <th>291</th>\n      <td>679</td>\n    </tr>\n    <tr>\n      <th>586</th>\n      <td>680</td>\n    </tr>\n    <tr>\n      <th>434</th>\n      <td>681</td>\n    </tr>\n    <tr>\n      <th>822</th>\n      <td>682</td>\n    </tr>\n    <tr>\n      <th>225</th>\n      <td>683</td>\n    </tr>\n    <tr>\n      <th>382</th>\n      <td>684</td>\n    </tr>\n    <tr>\n      <th>974</th>\n      <td>685</td>\n    </tr>\n    <tr>\n      <th>914</th>\n      <td>686</td>\n    </tr>\n    <tr>\n      <th>915</th>\n      <td>687</td>\n    </tr>\n    <tr>\n      <th>839</th>\n      <td>688</td>\n    </tr>\n    <tr>\n      <th>97</th>\n      <td>689</td>\n    </tr>\n    <tr>\n      <th>976</th>\n      <td>690</td>\n    </tr>\n    <tr>\n      <th>114</th>\n      <td>691</td>\n    </tr>\n    <tr>\n      <th>376</th>\n      <td>692</td>\n    </tr>\n    <tr>\n      <th>924</th>\n      <td>693</td>\n    </tr>\n    <tr>\n      <th>504</th>\n      <td>694</td>\n    </tr>\n    <tr>\n      <th>476</th>\n      <td>695</td>\n    </tr>\n    <tr>\n      <th>806</th>\n      <td>696</td>\n    </tr>\n    <tr>\n      <th>704</th>\n      <td>697</td>\n    </tr>\n    <tr>\n      <th>141</th>\n      <td>698</td>\n    </tr>\n    <tr>\n      <th>361</th>\n      <td>699</td>\n    </tr>\n    <tr>\n      <th>261</th>\n      <td>700</td>\n    </tr>\n    <tr>\n      <th>244</th>\n      <td>701</td>\n    </tr>\n    <tr>\n      <th>742</th>\n      <td>702</td>\n    </tr>\n    <tr>\n      <th>286</th>\n      <td>703</td>\n    </tr>\n    <tr>\n      <th>510</th>\n      <td>704</td>\n    </tr>\n    <tr>\n      <th>368</th>\n      <td>705</td>\n    </tr>\n    <tr>\n      <th>455</th>\n      <td>706</td>\n    </tr>\n    <tr>\n      <th>933</th>\n      <td>707</td>\n    </tr>\n    <tr>\n      <th>390</th>\n      <td>708</td>\n    </tr>\n    <tr>\n      <th>307</th>\n      <td>709</td>\n    </tr>\n    <tr>\n      <th>498</th>\n      <td>710</td>\n    </tr>\n    <tr>\n      <th>462</th>\n      <td>711</td>\n    </tr>\n    <tr>\n      <th>797</th>\n      <td>712</td>\n    </tr>\n    <tr>\n      <th>443</th>\n      <td>713</td>\n    </tr>\n    <tr>\n      <th>260</th>\n      <td>714</td>\n    </tr>\n    <tr>\n      <th>598</th>\n      <td>715</td>\n    </tr>\n    <tr>\n      <th>689</th>\n      <td>716</td>\n    </tr>\n    <tr>\n      <th>417</th>\n      <td>717</td>\n    </tr>\n    <tr>\n      <th>448</th>\n      <td>718</td>\n    </tr>\n    <tr>\n      <th>327</th>\n      <td>719</td>\n    </tr>\n    <tr>\n      <th>821</th>\n      <td>720</td>\n    </tr>\n    <tr>\n      <th>938</th>\n      <td>721</td>\n    </tr>\n    <tr>\n      <th>163</th>\n      <td>722</td>\n    </tr>\n    <tr>\n      <th>49</th>\n      <td>723</td>\n    </tr>\n    <tr>\n      <th>400</th>\n      <td>724</td>\n    </tr>\n    <tr>\n      <th>381</th>\n      <td>725</td>\n    </tr>\n    <tr>\n      <th>804</th>\n      <td>726</td>\n    </tr>\n    <tr>\n      <th>735</th>\n      <td>727</td>\n    </tr>\n    <tr>\n      <th>416</th>\n      <td>728</td>\n    </tr>\n    <tr>\n      <th>81</th>\n      <td>729</td>\n    </tr>\n    <tr>\n      <th>695</th>\n      <td>730</td>\n    </tr>\n    <tr>\n      <th>873</th>\n      <td>731</td>\n    </tr>\n    <tr>\n      <th>834</th>\n      <td>732</td>\n    </tr>\n    <tr>\n      <th>564</th>\n      <td>733</td>\n    </tr>\n    <tr>\n      <th>399</th>\n      <td>734</td>\n    </tr>\n    <tr>\n      <th>57</th>\n      <td>735</td>\n    </tr>\n    <tr>\n      <th>168</th>\n      <td>736</td>\n    </tr>\n    <tr>\n      <th>891</th>\n      <td>737</td>\n    </tr>\n    <tr>\n      <th>173</th>\n      <td>738</td>\n    </tr>\n    <tr>\n      <th>233</th>\n      <td>739</td>\n    </tr>\n    <tr>\n      <th>467</th>\n      <td>740</td>\n    </tr>\n    <tr>\n      <th>820</th>\n      <td>741</td>\n    </tr>\n    <tr>\n      <th>819</th>\n      <td>742</td>\n    </tr>\n    <tr>\n      <th>602</th>\n      <td>743</td>\n    </tr>\n    <tr>\n      <th>852</th>\n      <td>744</td>\n    </tr>\n    <tr>\n      <th>367</th>\n      <td>745</td>\n    </tr>\n    <tr>\n      <th>722</th>\n      <td>746</td>\n    </tr>\n    <tr>\n      <th>130</th>\n      <td>747</td>\n    </tr>\n    <tr>\n      <th>164</th>\n      <td>748</td>\n    </tr>\n    <tr>\n      <th>860</th>\n      <td>749</td>\n    </tr>\n    <tr>\n      <th>725</th>\n      <td>750</td>\n    </tr>\n    <tr>\n      <th>589</th>\n      <td>751</td>\n    </tr>\n    <tr>\n      <th>656</th>\n      <td>752</td>\n    </tr>\n    <tr>\n      <th>62</th>\n      <td>753</td>\n    </tr>\n    <tr>\n      <th>560</th>\n      <td>754</td>\n    </tr>\n    <tr>\n      <th>610</th>\n      <td>755</td>\n    </tr>\n    <tr>\n      <th>54</th>\n      <td>756</td>\n    </tr>\n    <tr>\n      <th>809</th>\n      <td>757</td>\n    </tr>\n    <tr>\n      <th>817</th>\n      <td>758</td>\n    </tr>\n    <tr>\n      <th>420</th>\n      <td>759</td>\n    </tr>\n    <tr>\n      <th>414</th>\n      <td>760</td>\n    </tr>\n    <tr>\n      <th>27</th>\n      <td>761</td>\n    </tr>\n    <tr>\n      <th>557</th>\n      <td>762</td>\n    </tr>\n    <tr>\n      <th>606</th>\n      <td>763</td>\n    </tr>\n    <tr>\n      <th>524</th>\n      <td>764</td>\n    </tr>\n    <tr>\n      <th>590</th>\n      <td>765</td>\n    </tr>\n    <tr>\n      <th>224</th>\n      <td>766</td>\n    </tr>\n    <tr>\n      <th>963</th>\n      <td>767</td>\n    </tr>\n    <tr>\n      <th>574</th>\n      <td>768</td>\n    </tr>\n    <tr>\n      <th>517</th>\n      <td>769</td>\n    </tr>\n    <tr>\n      <th>319</th>\n      <td>770</td>\n    </tr>\n    <tr>\n      <th>161</th>\n      <td>771</td>\n    </tr>\n    <tr>\n      <th>415</th>\n      <td>772</td>\n    </tr>\n    <tr>\n      <th>624</th>\n      <td>773</td>\n    </tr>\n    <tr>\n      <th>197</th>\n      <td>774</td>\n    </tr>\n    <tr>\n      <th>521</th>\n      <td>775</td>\n    </tr>\n    <tr>\n      <th>147</th>\n      <td>776</td>\n    </tr>\n    <tr>\n      <th>993</th>\n      <td>777</td>\n    </tr>\n    <tr>\n      <th>534</th>\n      <td>778</td>\n    </tr>\n    <tr>\n      <th>533</th>\n      <td>779</td>\n    </tr>\n    <tr>\n      <th>842</th>\n      <td>780</td>\n    </tr>\n    <tr>\n      <th>140</th>\n      <td>781</td>\n    </tr>\n    <tr>\n      <th>893</th>\n      <td>782</td>\n    </tr>\n    <tr>\n      <th>523</th>\n      <td>783</td>\n    </tr>\n    <tr>\n      <th>859</th>\n      <td>784</td>\n    </tr>\n    <tr>\n      <th>402</th>\n      <td>785</td>\n    </tr>\n    <tr>\n      <th>928</th>\n      <td>786</td>\n    </tr>\n    <tr>\n      <th>53</th>\n      <td>787</td>\n    </tr>\n    <tr>\n      <th>901</th>\n      <td>788</td>\n    </tr>\n    <tr>\n      <th>929</th>\n      <td>789</td>\n    </tr>\n    <tr>\n      <th>423</th>\n      <td>790</td>\n    </tr>\n    <tr>\n      <th>217</th>\n      <td>791</td>\n    </tr>\n    <tr>\n      <th>137</th>\n      <td>792</td>\n    </tr>\n    <tr>\n      <th>220</th>\n      <td>793</td>\n    </tr>\n    <tr>\n      <th>721</th>\n      <td>794</td>\n    </tr>\n    <tr>\n      <th>831</th>\n      <td>795</td>\n    </tr>\n    <tr>\n      <th>214</th>\n      <td>796</td>\n    </tr>\n    <tr>\n      <th>472</th>\n      <td>797</td>\n    </tr>\n    <tr>\n      <th>155</th>\n      <td>798</td>\n    </tr>\n    <tr>\n      <th>581</th>\n      <td>799</td>\n    </tr>\n    <tr>\n      <th>595</th>\n      <td>800</td>\n    </tr>\n    <tr>\n      <th>562</th>\n      <td>801</td>\n    </tr>\n    <tr>\n      <th>357</th>\n      <td>802</td>\n    </tr>\n    <tr>\n      <th>876</th>\n      <td>803</td>\n    </tr>\n    <tr>\n      <th>152</th>\n      <td>804</td>\n    </tr>\n    <tr>\n      <th>298</th>\n      <td>805</td>\n    </tr>\n    <tr>\n      <th>113</th>\n      <td>806</td>\n    </tr>\n    <tr>\n      <th>473</th>\n      <td>807</td>\n    </tr>\n    <tr>\n      <th>79</th>\n      <td>808</td>\n    </tr>\n    <tr>\n      <th>98</th>\n      <td>809</td>\n    </tr>\n    <tr>\n      <th>501</th>\n      <td>810</td>\n    </tr>\n    <tr>\n      <th>0</th>\n      <td>811</td>\n    </tr>\n    <tr>\n      <th>239</th>\n      <td>812</td>\n    </tr>\n    <tr>\n      <th>826</th>\n      <td>813</td>\n    </tr>\n    <tr>\n      <th>219</th>\n      <td>814</td>\n    </tr>\n    <tr>\n      <th>365</th>\n      <td>815</td>\n    </tr>\n    <tr>\n      <th>736</th>\n      <td>816</td>\n    </tr>\n    <tr>\n      <th>943</th>\n      <td>817</td>\n    </tr>\n    <tr>\n      <th>905</th>\n      <td>818</td>\n    </tr>\n    <tr>\n      <th>10</th>\n      <td>819</td>\n    </tr>\n    <tr>\n      <th>426</th>\n      <td>820</td>\n    </tr>\n    <tr>\n      <th>196</th>\n      <td>821</td>\n    </tr>\n    <tr>\n      <th>611</th>\n      <td>822</td>\n    </tr>\n    <tr>\n      <th>607</th>\n      <td>823</td>\n    </tr>\n    <tr>\n      <th>115</th>\n      <td>824</td>\n    </tr>\n    <tr>\n      <th>373</th>\n      <td>825</td>\n    </tr>\n    <tr>\n      <th>866</th>\n      <td>826</td>\n    </tr>\n    <tr>\n      <th>234</th>\n      <td>827</td>\n    </tr>\n    <tr>\n      <th>253</th>\n      <td>828</td>\n    </tr>\n    <tr>\n      <th>747</th>\n      <td>829</td>\n    </tr>\n    <tr>\n      <th>364</th>\n      <td>830</td>\n    </tr>\n    <tr>\n      <th>203</th>\n      <td>831</td>\n    </tr>\n    <tr>\n      <th>808</th>\n      <td>832</td>\n    </tr>\n    <tr>\n      <th>64</th>\n      <td>833</td>\n    </tr>\n    <tr>\n      <th>440</th>\n      <td>834</td>\n    </tr>\n    <tr>\n      <th>14</th>\n      <td>835</td>\n    </tr>\n    <tr>\n      <th>243</th>\n      <td>836</td>\n    </tr>\n    <tr>\n      <th>47</th>\n      <td>837</td>\n    </tr>\n    <tr>\n      <th>17</th>\n      <td>838</td>\n    </tr>\n    <tr>\n      <th>525</th>\n      <td>839</td>\n    </tr>\n    <tr>\n      <th>288</th>\n      <td>840</td>\n    </tr>\n    <tr>\n      <th>105</th>\n      <td>841</td>\n    </tr>\n    <tr>\n      <th>678</th>\n      <td>842</td>\n    </tr>\n    <tr>\n      <th>871</th>\n      <td>843</td>\n    </tr>\n    <tr>\n      <th>459</th>\n      <td>844</td>\n    </tr>\n    <tr>\n      <th>857</th>\n      <td>845</td>\n    </tr>\n    <tr>\n      <th>433</th>\n      <td>846</td>\n    </tr>\n    <tr>\n      <th>651</th>\n      <td>847</td>\n    </tr>\n    <tr>\n      <th>629</th>\n      <td>848</td>\n    </tr>\n    <tr>\n      <th>120</th>\n      <td>849</td>\n    </tr>\n    <tr>\n      <th>985</th>\n      <td>850</td>\n    </tr>\n    <tr>\n      <th>655</th>\n      <td>851</td>\n    </tr>\n    <tr>\n      <th>930</th>\n      <td>852</td>\n    </tr>\n    <tr>\n      <th>563</th>\n      <td>853</td>\n    </tr>\n    <tr>\n      <th>323</th>\n      <td>854</td>\n    </tr>\n    <tr>\n      <th>20</th>\n      <td>855</td>\n    </tr>\n    <tr>\n      <th>478</th>\n      <td>856</td>\n    </tr>\n    <tr>\n      <th>82</th>\n      <td>857</td>\n    </tr>\n    <tr>\n      <th>428</th>\n      <td>858</td>\n    </tr>\n    <tr>\n      <th>157</th>\n      <td>859</td>\n    </tr>\n    <tr>\n      <th>690</th>\n      <td>860</td>\n    </tr>\n    <tr>\n      <th>795</th>\n      <td>861</td>\n    </tr>\n    <tr>\n      <th>615</th>\n      <td>862</td>\n    </tr>\n    <tr>\n      <th>836</th>\n      <td>863</td>\n    </tr>\n    <tr>\n      <th>906</th>\n      <td>864</td>\n    </tr>\n    <tr>\n      <th>274</th>\n      <td>865</td>\n    </tr>\n    <tr>\n      <th>46</th>\n      <td>866</td>\n    </tr>\n    <tr>\n      <th>568</th>\n      <td>867</td>\n    </tr>\n    <tr>\n      <th>218</th>\n      <td>868</td>\n    </tr>\n    <tr>\n      <th>897</th>\n      <td>869</td>\n    </tr>\n    <tr>\n      <th>932</th>\n      <td>870</td>\n    </tr>\n    <tr>\n      <th>618</th>\n      <td>871</td>\n    </tr>\n    <tr>\n      <th>999</th>\n      <td>872</td>\n    </tr>\n    <tr>\n      <th>570</th>\n      <td>873</td>\n    </tr>\n    <tr>\n      <th>41</th>\n      <td>874</td>\n    </tr>\n    <tr>\n      <th>641</th>\n      <td>875</td>\n    </tr>\n    <tr>\n      <th>304</th>\n      <td>876</td>\n    </tr>\n    <tr>\n      <th>784</th>\n      <td>877</td>\n    </tr>\n    <tr>\n      <th>94</th>\n      <td>878</td>\n    </tr>\n    <tr>\n      <th>691</th>\n      <td>879</td>\n    </tr>\n    <tr>\n      <th>320</th>\n      <td>880</td>\n    </tr>\n    <tr>\n      <th>874</th>\n      <td>881</td>\n    </tr>\n    <tr>\n      <th>384</th>\n      <td>882</td>\n    </tr>\n    <tr>\n      <th>430</th>\n      <td>883</td>\n    </tr>\n    <tr>\n      <th>612</th>\n      <td>884</td>\n    </tr>\n    <tr>\n      <th>677</th>\n      <td>885</td>\n    </tr>\n    <tr>\n      <th>605</th>\n      <td>886</td>\n    </tr>\n    <tr>\n      <th>867</th>\n      <td>887</td>\n    </tr>\n    <tr>\n      <th>118</th>\n      <td>888</td>\n    </tr>\n    <tr>\n      <th>726</th>\n      <td>889</td>\n    </tr>\n    <tr>\n      <th>339</th>\n      <td>890</td>\n    </tr>\n    <tr>\n      <th>247</th>\n      <td>891</td>\n    </tr>\n    <tr>\n      <th>292</th>\n      <td>892</td>\n    </tr>\n    <tr>\n      <th>187</th>\n      <td>893</td>\n    </tr>\n    <tr>\n      <th>752</th>\n      <td>894</td>\n    </tr>\n    <tr>\n      <th>236</th>\n      <td>895</td>\n    </tr>\n    <tr>\n      <th>330</th>\n      <td>896</td>\n    </tr>\n    <tr>\n      <th>865</th>\n      <td>897</td>\n    </tr>\n    <tr>\n      <th>773</th>\n      <td>898</td>\n    </tr>\n    <tr>\n      <th>458</th>\n      <td>899</td>\n    </tr>\n    <tr>\n      <th>150</th>\n      <td>900</td>\n    </tr>\n    <tr>\n      <th>85</th>\n      <td>901</td>\n    </tr>\n    <tr>\n      <th>321</th>\n      <td>902</td>\n    </tr>\n    <tr>\n      <th>192</th>\n      <td>903</td>\n    </tr>\n    <tr>\n      <th>723</th>\n      <td>904</td>\n    </tr>\n    <tr>\n      <th>767</th>\n      <td>905</td>\n    </tr>\n    <tr>\n      <th>798</th>\n      <td>906</td>\n    </tr>\n    <tr>\n      <th>781</th>\n      <td>907</td>\n    </tr>\n    <tr>\n      <th>96</th>\n      <td>908</td>\n    </tr>\n    <tr>\n      <th>745</th>\n      <td>909</td>\n    </tr>\n    <tr>\n      <th>9</th>\n      <td>910</td>\n    </tr>\n    <tr>\n      <th>199</th>\n      <td>911</td>\n    </tr>\n    <tr>\n      <th>671</th>\n      <td>912</td>\n    </tr>\n    <tr>\n      <th>631</th>\n      <td>913</td>\n    </tr>\n    <tr>\n      <th>3</th>\n      <td>914</td>\n    </tr>\n    <tr>\n      <th>71</th>\n      <td>915</td>\n    </tr>\n    <tr>\n      <th>869</th>\n      <td>916</td>\n    </tr>\n    <tr>\n      <th>273</th>\n      <td>917</td>\n    </tr>\n    <tr>\n      <th>844</th>\n      <td>918</td>\n    </tr>\n    <tr>\n      <th>676</th>\n      <td>919</td>\n    </tr>\n    <tr>\n      <th>39</th>\n      <td>920</td>\n    </tr>\n    <tr>\n      <th>310</th>\n      <td>921</td>\n    </tr>\n    <tr>\n      <th>325</th>\n      <td>922</td>\n    </tr>\n    <tr>\n      <th>432</th>\n      <td>923</td>\n    </tr>\n    <tr>\n      <th>252</th>\n      <td>924</td>\n    </tr>\n    <tr>\n      <th>634</th>\n      <td>925</td>\n    </tr>\n    <tr>\n      <th>241</th>\n      <td>926</td>\n    </tr>\n    <tr>\n      <th>900</th>\n      <td>927</td>\n    </tr>\n    <tr>\n      <th>635</th>\n      <td>928</td>\n    </tr>\n    <tr>\n      <th>109</th>\n      <td>929</td>\n    </tr>\n    <tr>\n      <th>740</th>\n      <td>930</td>\n    </tr>\n    <tr>\n      <th>193</th>\n      <td>931</td>\n    </tr>\n    <tr>\n      <th>19</th>\n      <td>932</td>\n    </tr>\n    <tr>\n      <th>93</th>\n      <td>933</td>\n    </tr>\n    <tr>\n      <th>135</th>\n      <td>934</td>\n    </tr>\n    <tr>\n      <th>899</th>\n      <td>935</td>\n    </tr>\n    <tr>\n      <th>112</th>\n      <td>936</td>\n    </tr>\n    <tr>\n      <th>139</th>\n      <td>937</td>\n    </tr>\n    <tr>\n      <th>90</th>\n      <td>938</td>\n    </tr>\n    <tr>\n      <th>633</th>\n      <td>939</td>\n    </tr>\n    <tr>\n      <th>121</th>\n      <td>940</td>\n    </tr>\n    <tr>\n      <th>123</th>\n      <td>941</td>\n    </tr>\n    <tr>\n      <th>378</th>\n      <td>942</td>\n    </tr>\n    <tr>\n      <th>978</th>\n      <td>943</td>\n    </tr>\n    <tr>\n      <th>851</th>\n      <td>944</td>\n    </tr>\n    <tr>\n      <th>509</th>\n      <td>945</td>\n    </tr>\n    <tr>\n      <th>6</th>\n      <td>946</td>\n    </tr>\n    <tr>\n      <th>724</th>\n      <td>947</td>\n    </tr>\n    <tr>\n      <th>461</th>\n      <td>948</td>\n    </tr>\n    <tr>\n      <th>160</th>\n      <td>949</td>\n    </tr>\n    <tr>\n      <th>957</th>\n      <td>950</td>\n    </tr>\n    <tr>\n      <th>249</th>\n      <td>951</td>\n    </tr>\n    <tr>\n      <th>890</th>\n      <td>952</td>\n    </tr>\n    <tr>\n      <th>266</th>\n      <td>953</td>\n    </tr>\n    <tr>\n      <th>309</th>\n      <td>954</td>\n    </tr>\n    <tr>\n      <th>884</th>\n      <td>955</td>\n    </tr>\n    <tr>\n      <th>172</th>\n      <td>956</td>\n    </tr>\n    <tr>\n      <th>425</th>\n      <td>957</td>\n    </tr>\n    <tr>\n      <th>693</th>\n      <td>958</td>\n    </tr>\n    <tr>\n      <th>70</th>\n      <td>959</td>\n    </tr>\n    <tr>\n      <th>823</th>\n      <td>960</td>\n    </tr>\n    <tr>\n      <th>710</th>\n      <td>961</td>\n    </tr>\n    <tr>\n      <th>997</th>\n      <td>962</td>\n    </tr>\n    <tr>\n      <th>619</th>\n      <td>963</td>\n    </tr>\n    <tr>\n      <th>351</th>\n      <td>964</td>\n    </tr>\n    <tr>\n      <th>516</th>\n      <td>965</td>\n    </tr>\n    <tr>\n      <th>202</th>\n      <td>966</td>\n    </tr>\n    <tr>\n      <th>989</th>\n      <td>967</td>\n    </tr>\n    <tr>\n      <th>101</th>\n      <td>968</td>\n    </tr>\n    <tr>\n      <th>143</th>\n      <td>969</td>\n    </tr>\n    <tr>\n      <th>393</th>\n      <td>970</td>\n    </tr>\n    <tr>\n      <th>171</th>\n      <td>971</td>\n    </tr>\n    <tr>\n      <th>675</th>\n      <td>972</td>\n    </tr>\n    <tr>\n      <th>334</th>\n      <td>973</td>\n    </tr>\n    <tr>\n      <th>995</th>\n      <td>974</td>\n    </tr>\n    <tr>\n      <th>802</th>\n      <td>975</td>\n    </tr>\n    <tr>\n      <th>179</th>\n      <td>976</td>\n    </tr>\n    <tr>\n      <th>829</th>\n      <td>977</td>\n    </tr>\n    <tr>\n      <th>910</th>\n      <td>978</td>\n    </tr>\n    <tr>\n      <th>912</th>\n      <td>979</td>\n    </tr>\n    <tr>\n      <th>927</th>\n      <td>980</td>\n    </tr>\n    <tr>\n      <th>681</th>\n      <td>981</td>\n    </tr>\n    <tr>\n      <th>446</th>\n      <td>982</td>\n    </tr>\n    <tr>\n      <th>935</th>\n      <td>983</td>\n    </tr>\n    <tr>\n      <th>487</th>\n      <td>984</td>\n    </tr>\n    <tr>\n      <th>124</th>\n      <td>985</td>\n    </tr>\n    <tr>\n      <th>142</th>\n      <td>986</td>\n    </tr>\n    <tr>\n      <th>435</th>\n      <td>987</td>\n    </tr>\n    <tr>\n      <th>287</th>\n      <td>988</td>\n    </tr>\n    <tr>\n      <th>923</th>\n      <td>989</td>\n    </tr>\n    <tr>\n      <th>703</th>\n      <td>990</td>\n    </tr>\n    <tr>\n      <th>50</th>\n      <td>991</td>\n    </tr>\n    <tr>\n      <th>344</th>\n      <td>992</td>\n    </tr>\n    <tr>\n      <th>391</th>\n      <td>993</td>\n    </tr>\n    <tr>\n      <th>296</th>\n      <td>994</td>\n    </tr>\n    <tr>\n      <th>144</th>\n      <td>995</td>\n    </tr>\n    <tr>\n      <th>289</th>\n      <td>996</td>\n    </tr>\n    <tr>\n      <th>670</th>\n      <td>997</td>\n    </tr>\n    <tr>\n      <th>729</th>\n      <td>998</td>\n    </tr>\n    <tr>\n      <th>267</th>\n      <td>999</td>\n    </tr>\n  </tbody>\n</table>\n</div>"
     },
     "execution_count": 76,
     "metadata": {},
     "output_type": "execute_result"
    }
   ],
   "source": [
    "language_acore = np.arange(0, 1000)\n",
    "df_exams['language score'] = language_acore\n",
    "df_exams[['language score']]"
   ],
   "metadata": {
    "collapsed": false
   }
  },
  {
   "cell_type": "code",
   "execution_count": null,
   "outputs": [],
   "source": [
    "random_language_acore = np.random.randint(1, 150, size=1000)\n",
    "df_exams['language score'] = random_language_acore\n",
    "random_language_acore"
   ],
   "metadata": {
    "collapsed": false
   }
  },
  {
   "cell_type": "code",
   "execution_count": null,
   "outputs": [],
   "source": [
    "random_language_score = np.random.randint(1, 150, size=1000)\n",
    "a = pd.Series(random_language_score)\n",
    "a"
   ],
   "metadata": {
    "collapsed": false
   }
  },
  {
   "cell_type": "code",
   "execution_count": null,
   "outputs": [],
   "source": [
    "language_score = np.arange(0, 1000)\n",
    "language_score"
   ],
   "metadata": {
    "collapsed": false
   }
  },
  {
   "cell_type": "code",
   "execution_count": null,
   "outputs": [],
   "source": [
    "# assign()\n",
    "array1 = np.arange(0, 1000)\n",
    "array2 = np.random.randint(1, 100, size=1000)\n",
    "series1 = pd.Series(array1)\n",
    "series2 = pd.Series(array2)\n",
    "df_exams = df_exams.assign(score1=series1, score2=series2)  # overwrite\n",
    "df_exams.head()"
   ],
   "metadata": {
    "collapsed": false
   }
  },
  {
   "cell_type": "code",
   "execution_count": 77,
   "outputs": [
    {
     "ename": "ValueError",
     "evalue": "cannot insert test, already exists",
     "output_type": "error",
     "traceback": [
      "\u001B[1;31m---------------------------------------------------------------------------\u001B[0m",
      "\u001B[1;31mValueError\u001B[0m                                Traceback (most recent call last)",
      "Cell \u001B[1;32mIn[77], line 1\u001B[0m\n\u001B[1;32m----> 1\u001B[0m \u001B[43mdf_exams\u001B[49m\u001B[38;5;241;43m.\u001B[39;49m\u001B[43minsert\u001B[49m\u001B[43m(\u001B[49m\u001B[38;5;241;43m1\u001B[39;49m\u001B[43m,\u001B[49m\u001B[43m \u001B[49m\u001B[38;5;124;43m'\u001B[39;49m\u001B[38;5;124;43mtest\u001B[39;49m\u001B[38;5;124;43m'\u001B[39;49m\u001B[43m,\u001B[49m\u001B[43m \u001B[49m\u001B[43mseries1\u001B[49m\u001B[43m)\u001B[49m\n\u001B[0;32m      2\u001B[0m df_exams\n",
      "File \u001B[1;32mC:\\Python Files\\Data_science_bootcamp_2023\\venv\\lib\\site-packages\\pandas\\core\\frame.py:4780\u001B[0m, in \u001B[0;36mDataFrame.insert\u001B[1;34m(self, loc, column, value, allow_duplicates)\u001B[0m\n\u001B[0;32m   4774\u001B[0m     \u001B[38;5;28;01mraise\u001B[39;00m \u001B[38;5;167;01mValueError\u001B[39;00m(\n\u001B[0;32m   4775\u001B[0m         \u001B[38;5;124m\"\u001B[39m\u001B[38;5;124mCannot specify \u001B[39m\u001B[38;5;124m'\u001B[39m\u001B[38;5;124mallow_duplicates=True\u001B[39m\u001B[38;5;124m'\u001B[39m\u001B[38;5;124m when \u001B[39m\u001B[38;5;124m\"\u001B[39m\n\u001B[0;32m   4776\u001B[0m         \u001B[38;5;124m\"\u001B[39m\u001B[38;5;124m'\u001B[39m\u001B[38;5;124mself.flags.allows_duplicate_labels\u001B[39m\u001B[38;5;124m'\u001B[39m\u001B[38;5;124m is False.\u001B[39m\u001B[38;5;124m\"\u001B[39m\n\u001B[0;32m   4777\u001B[0m     )\n\u001B[0;32m   4778\u001B[0m \u001B[38;5;28;01mif\u001B[39;00m \u001B[38;5;129;01mnot\u001B[39;00m allow_duplicates \u001B[38;5;129;01mand\u001B[39;00m column \u001B[38;5;129;01min\u001B[39;00m \u001B[38;5;28mself\u001B[39m\u001B[38;5;241m.\u001B[39mcolumns:\n\u001B[0;32m   4779\u001B[0m     \u001B[38;5;66;03m# Should this be a different kind of error??\u001B[39;00m\n\u001B[1;32m-> 4780\u001B[0m     \u001B[38;5;28;01mraise\u001B[39;00m \u001B[38;5;167;01mValueError\u001B[39;00m(\u001B[38;5;124mf\u001B[39m\u001B[38;5;124m\"\u001B[39m\u001B[38;5;124mcannot insert \u001B[39m\u001B[38;5;132;01m{\u001B[39;00mcolumn\u001B[38;5;132;01m}\u001B[39;00m\u001B[38;5;124m, already exists\u001B[39m\u001B[38;5;124m\"\u001B[39m)\n\u001B[0;32m   4781\u001B[0m \u001B[38;5;28;01mif\u001B[39;00m \u001B[38;5;129;01mnot\u001B[39;00m \u001B[38;5;28misinstance\u001B[39m(loc, \u001B[38;5;28mint\u001B[39m):\n\u001B[0;32m   4782\u001B[0m     \u001B[38;5;28;01mraise\u001B[39;00m \u001B[38;5;167;01mTypeError\u001B[39;00m(\u001B[38;5;124m\"\u001B[39m\u001B[38;5;124mloc must be int\u001B[39m\u001B[38;5;124m\"\u001B[39m)\n",
      "\u001B[1;31mValueError\u001B[0m: cannot insert test, already exists"
     ]
    }
   ],
   "source": [
    "df_exams.insert(1, 'test', series1)\n",
    "df_exams"
   ],
   "metadata": {
    "collapsed": false
   }
  },
  {
   "cell_type": "code",
   "execution_count": null,
   "outputs": [],
   "source": [
    "df_exams[['test', 'gender']]"
   ],
   "metadata": {
    "collapsed": false
   }
  },
  {
   "cell_type": "code",
   "execution_count": null,
   "outputs": [],
   "source": [
    "df_exams['math score'].sum()\n",
    "df_exams['math score'].count()\n",
    "df_exams['math score'].min()\n",
    "df_exams['math score'].max()\n",
    "df_exams['math score'].mean()\n",
    "df_exams['math score'].mode()"
   ],
   "metadata": {
    "collapsed": false
   }
  },
  {
   "cell_type": "code",
   "execution_count": null,
   "outputs": [],
   "source": [
    "df_exams['sum of 3 math sores'] = df_exams['math score'] + df_exams['reading score'] + df_exams['writing score']\n",
    "df_exams['avg sum of 3 math sores'] = (df_exams['math score'] + df_exams['reading score'] + df_exams[\n",
    "    'writing score']) / 3\n",
    "df_exams['avg sum of 3 math sores'].round(2)\n"
   ],
   "metadata": {
    "collapsed": false
   }
  },
  {
   "cell_type": "code",
   "execution_count": null,
   "outputs": [],
   "source": [
    "df_exams"
   ],
   "metadata": {
    "collapsed": false
   }
  },
  {
   "cell_type": "code",
   "execution_count": null,
   "outputs": [],
   "source": [],
   "metadata": {
    "collapsed": false
   }
  },
  {
   "cell_type": "code",
   "execution_count": null,
   "outputs": [],
   "source": [
    "df_exams['parental level of education'].value_counts()"
   ],
   "metadata": {
    "collapsed": false
   }
  },
  {
   "cell_type": "code",
   "execution_count": null,
   "outputs": [],
   "source": [
    "df_exams['parental level of education'].value_counts(normalize=True).round(2)"
   ],
   "metadata": {
    "collapsed": false
   }
  },
  {
   "cell_type": "code",
   "execution_count": null,
   "outputs": [],
   "source": [
    "df_exams.value_counts()"
   ],
   "metadata": {
    "collapsed": false
   }
  },
  {
   "cell_type": "code",
   "execution_count": null,
   "outputs": [],
   "source": [
    "df_exams.sort_values(['math score', 'reading score'], ascending=False)"
   ],
   "metadata": {
    "collapsed": false
   }
  },
  {
   "cell_type": "code",
   "execution_count": null,
   "outputs": [],
   "source": [
    "df_exams.sort_values('parental level of education', ascending=True, key=lambda col: col.str.len())"
   ],
   "metadata": {
    "collapsed": false
   }
  },
  {
   "cell_type": "code",
   "execution_count": null,
   "outputs": [],
   "source": [
    "df_exams.sort_values('parental level of education', ascending=True, key=lambda col: col.str.len())"
   ],
   "metadata": {
    "collapsed": false
   }
  },
  {
   "cell_type": "code",
   "execution_count": null,
   "outputs": [],
   "source": [
    "import numpy as np\n",
    "import random\n",
    "\n",
    "new_index = np.arange(0, 1000)\n",
    "random.shuffle(new_index)\n",
    "new_index"
   ],
   "metadata": {
    "collapsed": false
   }
  },
  {
   "cell_type": "code",
   "execution_count": null,
   "outputs": [],
   "source": [
    "df_exams['new index'] = new_index\n",
    "df_exams.set_index(new_index, inplace=True)\n",
    "df_exams.sort_index(ascending=True)\n",
    "df_exams"
   ],
   "metadata": {
    "collapsed": false
   }
  },
  {
   "cell_type": "code",
   "execution_count": null,
   "outputs": [],
   "source": [
    "df_exams.rename(columns={\n",
    "    'gender': 'Gender',\n",
    "    'parental level of education': 'Parental level of education'\n",
    "},\n",
    "    inplace=True)\n",
    "df_exams.rename(columns={'lunch': 'Lunch'}, inplace=True)\n",
    "df_exams"
   ],
   "metadata": {
    "collapsed": false
   }
  },
  {
   "cell_type": "code",
   "execution_count": null,
   "outputs": [],
   "source": [
    "df_exams.value_counts('Lunch')"
   ],
   "metadata": {
    "collapsed": false
   }
  },
  {
   "cell_type": "code",
   "execution_count": null,
   "outputs": [],
   "source": [],
   "metadata": {
    "collapsed": false
   }
  }
 ],
 "metadata": {
  "kernelspec": {
   "display_name": "Python 3 (ipykernel)",
   "language": "python",
   "name": "python3"
  },
  "language_info": {
   "codemirror_mode": {
    "name": "ipython",
    "version": 3
   },
   "file_extension": ".py",
   "mimetype": "text/x-python",
   "name": "python",
   "nbconvert_exporter": "python",
   "pygments_lexer": "ipython3",
   "version": "3.10.9"
  }
 },
 "nbformat": 4,
 "nbformat_minor": 5
}
