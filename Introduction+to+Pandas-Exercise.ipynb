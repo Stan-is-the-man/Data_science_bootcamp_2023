{
 "cells": [
  {
   "cell_type": "code",
   "execution_count": 2,
   "id": "2bac431d",
   "metadata": {},
   "outputs": [],
   "source": [
    "import pandas as pd"
   ]
  },
  {
   "cell_type": "code",
   "execution_count": 3,
   "id": "730ef2aa",
   "metadata": {},
   "outputs": [],
   "source": [
    "# Optional: use the pd.set_option() to display all rows in a dataframe by default\n"
   ]
  },
  {
   "cell_type": "markdown",
   "id": "05c7ec54",
   "metadata": {},
   "source": [
    "# Create a DataFrame"
   ]
  },
  {
   "cell_type": "code",
   "execution_count": 4,
   "id": "cfb39f8c",
   "metadata": {},
   "outputs": [
    {
     "data": {
      "text/plain": "                                                  Name   \n0                        10-Day Green Smoothie Cleanse  \\\n1                                    11/22/63: A Novel   \n2              12 Rules for Life: An Antidote to Chaos   \n3                               1984 (Signet Classics)   \n4    5,000 Awesome Facts (About Everything!) (Natio...   \n..                                                 ...   \n545       Wrecking Ball (Diary of a Wimpy Kid Book 14)   \n546  You Are a Badass: How to Stop Doubting Your Gr...   \n547  You Are a Badass: How to Stop Doubting Your Gr...   \n548  You Are a Badass: How to Stop Doubting Your Gr...   \n549  You Are a Badass: How to Stop Doubting Your Gr...   \n\n                       Author  User Rating  Reviews  Price  Year        Genre  \n0                    JJ Smith          4.7    17350      8  2016  Non Fiction  \n1                Stephen King          4.6     2052     22  2011      Fiction  \n2          Jordan B. Peterson          4.7    18979     15  2018  Non Fiction  \n3               George Orwell          4.7    21424      6  2017      Fiction  \n4    National Geographic Kids          4.8     7665     12  2019  Non Fiction  \n..                        ...          ...      ...    ...   ...          ...  \n545               Jeff Kinney          4.9     9413      8  2019      Fiction  \n546               Jen Sincero          4.7    14331      8  2016  Non Fiction  \n547               Jen Sincero          4.7    14331      8  2017  Non Fiction  \n548               Jen Sincero          4.7    14331      8  2018  Non Fiction  \n549               Jen Sincero          4.7    14331      8  2019  Non Fiction  \n\n[550 rows x 7 columns]",
      "text/html": "<div>\n<style scoped>\n    .dataframe tbody tr th:only-of-type {\n        vertical-align: middle;\n    }\n\n    .dataframe tbody tr th {\n        vertical-align: top;\n    }\n\n    .dataframe thead th {\n        text-align: right;\n    }\n</style>\n<table border=\"1\" class=\"dataframe\">\n  <thead>\n    <tr style=\"text-align: right;\">\n      <th></th>\n      <th>Name</th>\n      <th>Author</th>\n      <th>User Rating</th>\n      <th>Reviews</th>\n      <th>Price</th>\n      <th>Year</th>\n      <th>Genre</th>\n    </tr>\n  </thead>\n  <tbody>\n    <tr>\n      <th>0</th>\n      <td>10-Day Green Smoothie Cleanse</td>\n      <td>JJ Smith</td>\n      <td>4.7</td>\n      <td>17350</td>\n      <td>8</td>\n      <td>2016</td>\n      <td>Non Fiction</td>\n    </tr>\n    <tr>\n      <th>1</th>\n      <td>11/22/63: A Novel</td>\n      <td>Stephen King</td>\n      <td>4.6</td>\n      <td>2052</td>\n      <td>22</td>\n      <td>2011</td>\n      <td>Fiction</td>\n    </tr>\n    <tr>\n      <th>2</th>\n      <td>12 Rules for Life: An Antidote to Chaos</td>\n      <td>Jordan B. Peterson</td>\n      <td>4.7</td>\n      <td>18979</td>\n      <td>15</td>\n      <td>2018</td>\n      <td>Non Fiction</td>\n    </tr>\n    <tr>\n      <th>3</th>\n      <td>1984 (Signet Classics)</td>\n      <td>George Orwell</td>\n      <td>4.7</td>\n      <td>21424</td>\n      <td>6</td>\n      <td>2017</td>\n      <td>Fiction</td>\n    </tr>\n    <tr>\n      <th>4</th>\n      <td>5,000 Awesome Facts (About Everything!) (Natio...</td>\n      <td>National Geographic Kids</td>\n      <td>4.8</td>\n      <td>7665</td>\n      <td>12</td>\n      <td>2019</td>\n      <td>Non Fiction</td>\n    </tr>\n    <tr>\n      <th>...</th>\n      <td>...</td>\n      <td>...</td>\n      <td>...</td>\n      <td>...</td>\n      <td>...</td>\n      <td>...</td>\n      <td>...</td>\n    </tr>\n    <tr>\n      <th>545</th>\n      <td>Wrecking Ball (Diary of a Wimpy Kid Book 14)</td>\n      <td>Jeff Kinney</td>\n      <td>4.9</td>\n      <td>9413</td>\n      <td>8</td>\n      <td>2019</td>\n      <td>Fiction</td>\n    </tr>\n    <tr>\n      <th>546</th>\n      <td>You Are a Badass: How to Stop Doubting Your Gr...</td>\n      <td>Jen Sincero</td>\n      <td>4.7</td>\n      <td>14331</td>\n      <td>8</td>\n      <td>2016</td>\n      <td>Non Fiction</td>\n    </tr>\n    <tr>\n      <th>547</th>\n      <td>You Are a Badass: How to Stop Doubting Your Gr...</td>\n      <td>Jen Sincero</td>\n      <td>4.7</td>\n      <td>14331</td>\n      <td>8</td>\n      <td>2017</td>\n      <td>Non Fiction</td>\n    </tr>\n    <tr>\n      <th>548</th>\n      <td>You Are a Badass: How to Stop Doubting Your Gr...</td>\n      <td>Jen Sincero</td>\n      <td>4.7</td>\n      <td>14331</td>\n      <td>8</td>\n      <td>2018</td>\n      <td>Non Fiction</td>\n    </tr>\n    <tr>\n      <th>549</th>\n      <td>You Are a Badass: How to Stop Doubting Your Gr...</td>\n      <td>Jen Sincero</td>\n      <td>4.7</td>\n      <td>14331</td>\n      <td>8</td>\n      <td>2019</td>\n      <td>Non Fiction</td>\n    </tr>\n  </tbody>\n</table>\n<p>550 rows × 7 columns</p>\n</div>"
     },
     "execution_count": 4,
     "metadata": {},
     "output_type": "execute_result"
    }
   ],
   "source": [
    "# read the \"bestsellers with categories\" csv file (Dataset on Amazon's Top 50 bestselling books from 2009 to 2019.)\n",
    "df_amazon_bestsellers = pd.read_csv('bestsellers+with+categories.csv')\n",
    "df_amazon_bestsellers"
   ]
  },
  {
   "cell_type": "code",
   "execution_count": 21,
   "id": "618209c8",
   "metadata": {
    "scrolled": true
   },
   "outputs": [
    {
     "data": {
      "text/plain": "(550, 7)"
     },
     "execution_count": 21,
     "metadata": {},
     "output_type": "execute_result"
    }
   ],
   "source": [
    "# get access to the shape attribute\n",
    "df_amazon_bestsellers.shape"
   ]
  },
  {
   "cell_type": "code",
   "execution_count": 23,
   "id": "3acde70f",
   "metadata": {},
   "outputs": [
    {
     "data": {
      "text/plain": "Name            object\nAuthor          object\nUser Rating    float64\nReviews          int64\nPrice            int64\nYear             int64\nGenre           object\ndtype: object"
     },
     "execution_count": 23,
     "metadata": {},
     "output_type": "execute_result"
    }
   ],
   "source": [
    "# find the data types of each column\n",
    "df_amazon_bestsellers.dtypes"
   ]
  },
  {
   "cell_type": "markdown",
   "id": "7f15b10b",
   "metadata": {},
   "source": [
    "# Disaplying a DataFrame"
   ]
  },
  {
   "cell_type": "code",
   "execution_count": 24,
   "id": "ef6b8d45",
   "metadata": {
    "scrolled": true
   },
   "outputs": [
    {
     "data": {
      "text/plain": "                                                Name   \n0                      10-Day Green Smoothie Cleanse  \\\n1                                  11/22/63: A Novel   \n2            12 Rules for Life: An Antidote to Chaos   \n3                             1984 (Signet Classics)   \n4  5,000 Awesome Facts (About Everything!) (Natio...   \n\n                     Author  User Rating  Reviews  Price  Year        Genre  \n0                  JJ Smith          4.7    17350      8  2016  Non Fiction  \n1              Stephen King          4.6     2052     22  2011      Fiction  \n2        Jordan B. Peterson          4.7    18979     15  2018  Non Fiction  \n3             George Orwell          4.7    21424      6  2017      Fiction  \n4  National Geographic Kids          4.8     7665     12  2019  Non Fiction  ",
      "text/html": "<div>\n<style scoped>\n    .dataframe tbody tr th:only-of-type {\n        vertical-align: middle;\n    }\n\n    .dataframe tbody tr th {\n        vertical-align: top;\n    }\n\n    .dataframe thead th {\n        text-align: right;\n    }\n</style>\n<table border=\"1\" class=\"dataframe\">\n  <thead>\n    <tr style=\"text-align: right;\">\n      <th></th>\n      <th>Name</th>\n      <th>Author</th>\n      <th>User Rating</th>\n      <th>Reviews</th>\n      <th>Price</th>\n      <th>Year</th>\n      <th>Genre</th>\n    </tr>\n  </thead>\n  <tbody>\n    <tr>\n      <th>0</th>\n      <td>10-Day Green Smoothie Cleanse</td>\n      <td>JJ Smith</td>\n      <td>4.7</td>\n      <td>17350</td>\n      <td>8</td>\n      <td>2016</td>\n      <td>Non Fiction</td>\n    </tr>\n    <tr>\n      <th>1</th>\n      <td>11/22/63: A Novel</td>\n      <td>Stephen King</td>\n      <td>4.6</td>\n      <td>2052</td>\n      <td>22</td>\n      <td>2011</td>\n      <td>Fiction</td>\n    </tr>\n    <tr>\n      <th>2</th>\n      <td>12 Rules for Life: An Antidote to Chaos</td>\n      <td>Jordan B. Peterson</td>\n      <td>4.7</td>\n      <td>18979</td>\n      <td>15</td>\n      <td>2018</td>\n      <td>Non Fiction</td>\n    </tr>\n    <tr>\n      <th>3</th>\n      <td>1984 (Signet Classics)</td>\n      <td>George Orwell</td>\n      <td>4.7</td>\n      <td>21424</td>\n      <td>6</td>\n      <td>2017</td>\n      <td>Fiction</td>\n    </tr>\n    <tr>\n      <th>4</th>\n      <td>5,000 Awesome Facts (About Everything!) (Natio...</td>\n      <td>National Geographic Kids</td>\n      <td>4.8</td>\n      <td>7665</td>\n      <td>12</td>\n      <td>2019</td>\n      <td>Non Fiction</td>\n    </tr>\n  </tbody>\n</table>\n</div>"
     },
     "execution_count": 24,
     "metadata": {},
     "output_type": "execute_result"
    }
   ],
   "source": [
    "# show first 5 rows in a dataframe\n",
    "df_amazon_bestsellers.head()"
   ]
  },
  {
   "cell_type": "code",
   "execution_count": 26,
   "id": "a3da1b0a",
   "metadata": {},
   "outputs": [
    {
     "data": {
      "text/plain": "       User Rating       Reviews       Price         Year\ncount   550.000000    550.000000  550.000000   550.000000\nmean      4.618364  11953.281818   13.100000  2014.000000\nstd       0.226980  11731.132017   10.842262     3.165156\nmin       3.300000     37.000000    0.000000  2009.000000\n25%       4.500000   4058.000000    7.000000  2011.000000\n50%       4.700000   8580.000000   11.000000  2014.000000\n75%       4.800000  17253.250000   16.000000  2017.000000\nmax       4.900000  87841.000000  105.000000  2019.000000",
      "text/html": "<div>\n<style scoped>\n    .dataframe tbody tr th:only-of-type {\n        vertical-align: middle;\n    }\n\n    .dataframe tbody tr th {\n        vertical-align: top;\n    }\n\n    .dataframe thead th {\n        text-align: right;\n    }\n</style>\n<table border=\"1\" class=\"dataframe\">\n  <thead>\n    <tr style=\"text-align: right;\">\n      <th></th>\n      <th>User Rating</th>\n      <th>Reviews</th>\n      <th>Price</th>\n      <th>Year</th>\n    </tr>\n  </thead>\n  <tbody>\n    <tr>\n      <th>count</th>\n      <td>550.000000</td>\n      <td>550.000000</td>\n      <td>550.000000</td>\n      <td>550.000000</td>\n    </tr>\n    <tr>\n      <th>mean</th>\n      <td>4.618364</td>\n      <td>11953.281818</td>\n      <td>13.100000</td>\n      <td>2014.000000</td>\n    </tr>\n    <tr>\n      <th>std</th>\n      <td>0.226980</td>\n      <td>11731.132017</td>\n      <td>10.842262</td>\n      <td>3.165156</td>\n    </tr>\n    <tr>\n      <th>min</th>\n      <td>3.300000</td>\n      <td>37.000000</td>\n      <td>0.000000</td>\n      <td>2009.000000</td>\n    </tr>\n    <tr>\n      <th>25%</th>\n      <td>4.500000</td>\n      <td>4058.000000</td>\n      <td>7.000000</td>\n      <td>2011.000000</td>\n    </tr>\n    <tr>\n      <th>50%</th>\n      <td>4.700000</td>\n      <td>8580.000000</td>\n      <td>11.000000</td>\n      <td>2014.000000</td>\n    </tr>\n    <tr>\n      <th>75%</th>\n      <td>4.800000</td>\n      <td>17253.250000</td>\n      <td>16.000000</td>\n      <td>2017.000000</td>\n    </tr>\n    <tr>\n      <th>max</th>\n      <td>4.900000</td>\n      <td>87841.000000</td>\n      <td>105.000000</td>\n      <td>2019.000000</td>\n    </tr>\n  </tbody>\n</table>\n</div>"
     },
     "execution_count": 26,
     "metadata": {},
     "output_type": "execute_result"
    }
   ],
   "source": [
    "# describe basic statistics of the dataframe (mean, std, min, max)\n",
    "df_amazon_bestsellers.describe()"
   ]
  },
  {
   "cell_type": "markdown",
   "id": "51f4d331",
   "metadata": {},
   "source": [
    "# Add a new Column with an array"
   ]
  },
  {
   "cell_type": "code",
   "execution_count": 36,
   "id": "94c526df",
   "metadata": {},
   "outputs": [
    {
     "data": {
      "text/plain": "                                                  Name   \n0                        10-Day Green Smoothie Cleanse  \\\n1                                    11/22/63: A Novel   \n2              12 Rules for Life: An Antidote to Chaos   \n3                               1984 (Signet Classics)   \n4    5,000 Awesome Facts (About Everything!) (Natio...   \n..                                                 ...   \n545       Wrecking Ball (Diary of a Wimpy Kid Book 14)   \n546  You Are a Badass: How to Stop Doubting Your Gr...   \n547  You Are a Badass: How to Stop Doubting Your Gr...   \n548  You Are a Badass: How to Stop Doubting Your Gr...   \n549  You Are a Badass: How to Stop Doubting Your Gr...   \n\n                       Author  User Rating  Reviews  Price  Year        Genre   \n0                    JJ Smith          4.7    17350      8  2016  Non Fiction  \\\n1                Stephen King          4.6     2052     22  2011      Fiction   \n2          Jordan B. Peterson          4.7    18979     15  2018  Non Fiction   \n3               George Orwell          4.7    21424      6  2017      Fiction   \n4    National Geographic Kids          4.8     7665     12  2019  Non Fiction   \n..                        ...          ...      ...    ...   ...          ...   \n545               Jeff Kinney          4.9     9413      8  2019      Fiction   \n546               Jen Sincero          4.7    14331      8  2016  Non Fiction   \n547               Jen Sincero          4.7    14331      8  2017  Non Fiction   \n548               Jen Sincero          4.7    14331      8  2018  Non Fiction   \n549               Jen Sincero          4.7    14331      8  2019  Non Fiction   \n\n     Critic Rating  \n0                2  \n1                2  \n2                2  \n3                2  \n4                2  \n..             ...  \n545              2  \n546              2  \n547              3  \n548              3  \n549              1  \n\n[550 rows x 8 columns]",
      "text/html": "<div>\n<style scoped>\n    .dataframe tbody tr th:only-of-type {\n        vertical-align: middle;\n    }\n\n    .dataframe tbody tr th {\n        vertical-align: top;\n    }\n\n    .dataframe thead th {\n        text-align: right;\n    }\n</style>\n<table border=\"1\" class=\"dataframe\">\n  <thead>\n    <tr style=\"text-align: right;\">\n      <th></th>\n      <th>Name</th>\n      <th>Author</th>\n      <th>User Rating</th>\n      <th>Reviews</th>\n      <th>Price</th>\n      <th>Year</th>\n      <th>Genre</th>\n      <th>Critic Rating</th>\n    </tr>\n  </thead>\n  <tbody>\n    <tr>\n      <th>0</th>\n      <td>10-Day Green Smoothie Cleanse</td>\n      <td>JJ Smith</td>\n      <td>4.7</td>\n      <td>17350</td>\n      <td>8</td>\n      <td>2016</td>\n      <td>Non Fiction</td>\n      <td>2</td>\n    </tr>\n    <tr>\n      <th>1</th>\n      <td>11/22/63: A Novel</td>\n      <td>Stephen King</td>\n      <td>4.6</td>\n      <td>2052</td>\n      <td>22</td>\n      <td>2011</td>\n      <td>Fiction</td>\n      <td>2</td>\n    </tr>\n    <tr>\n      <th>2</th>\n      <td>12 Rules for Life: An Antidote to Chaos</td>\n      <td>Jordan B. Peterson</td>\n      <td>4.7</td>\n      <td>18979</td>\n      <td>15</td>\n      <td>2018</td>\n      <td>Non Fiction</td>\n      <td>2</td>\n    </tr>\n    <tr>\n      <th>3</th>\n      <td>1984 (Signet Classics)</td>\n      <td>George Orwell</td>\n      <td>4.7</td>\n      <td>21424</td>\n      <td>6</td>\n      <td>2017</td>\n      <td>Fiction</td>\n      <td>2</td>\n    </tr>\n    <tr>\n      <th>4</th>\n      <td>5,000 Awesome Facts (About Everything!) (Natio...</td>\n      <td>National Geographic Kids</td>\n      <td>4.8</td>\n      <td>7665</td>\n      <td>12</td>\n      <td>2019</td>\n      <td>Non Fiction</td>\n      <td>2</td>\n    </tr>\n    <tr>\n      <th>...</th>\n      <td>...</td>\n      <td>...</td>\n      <td>...</td>\n      <td>...</td>\n      <td>...</td>\n      <td>...</td>\n      <td>...</td>\n      <td>...</td>\n    </tr>\n    <tr>\n      <th>545</th>\n      <td>Wrecking Ball (Diary of a Wimpy Kid Book 14)</td>\n      <td>Jeff Kinney</td>\n      <td>4.9</td>\n      <td>9413</td>\n      <td>8</td>\n      <td>2019</td>\n      <td>Fiction</td>\n      <td>2</td>\n    </tr>\n    <tr>\n      <th>546</th>\n      <td>You Are a Badass: How to Stop Doubting Your Gr...</td>\n      <td>Jen Sincero</td>\n      <td>4.7</td>\n      <td>14331</td>\n      <td>8</td>\n      <td>2016</td>\n      <td>Non Fiction</td>\n      <td>2</td>\n    </tr>\n    <tr>\n      <th>547</th>\n      <td>You Are a Badass: How to Stop Doubting Your Gr...</td>\n      <td>Jen Sincero</td>\n      <td>4.7</td>\n      <td>14331</td>\n      <td>8</td>\n      <td>2017</td>\n      <td>Non Fiction</td>\n      <td>3</td>\n    </tr>\n    <tr>\n      <th>548</th>\n      <td>You Are a Badass: How to Stop Doubting Your Gr...</td>\n      <td>Jen Sincero</td>\n      <td>4.7</td>\n      <td>14331</td>\n      <td>8</td>\n      <td>2018</td>\n      <td>Non Fiction</td>\n      <td>3</td>\n    </tr>\n    <tr>\n      <th>549</th>\n      <td>You Are a Badass: How to Stop Doubting Your Gr...</td>\n      <td>Jen Sincero</td>\n      <td>4.7</td>\n      <td>14331</td>\n      <td>8</td>\n      <td>2019</td>\n      <td>Non Fiction</td>\n      <td>1</td>\n    </tr>\n  </tbody>\n</table>\n<p>550 rows × 8 columns</p>\n</div>"
     },
     "execution_count": 36,
     "metadata": {},
     "output_type": "execute_result"
    }
   ],
   "source": [
    "\n",
    "# Your task is to create a column named 'Critic Rating' that should have random integer numbers between 1 and 4\n",
    "\n",
    "# 1. import numpy and create 550 random integer numbers between 1 and 4\n",
    "import numpy as np\n",
    "\n",
    "random_ratings = np.random.randint(1, 4, 550)  #(low, high, size)\n",
    "\n",
    "# 2. add new 'Critic Rating' column to dataframe using the random numbers created\n",
    "df_amazon_bestsellers['Critic Rating'] = random_ratings\n",
    "df_amazon_bestsellers\n",
    "\n",
    "# Note the random numbers in this new 'Critic Rating' column will be different between your solution and mine, but we'll focus only on the code, in this section."
   ]
  },
  {
   "cell_type": "code",
   "execution_count": 37,
   "id": "af7cec1e",
   "metadata": {},
   "outputs": [
    {
     "data": {
      "text/plain": "                                                Name   \n0                      10-Day Green Smoothie Cleanse  \\\n1                                  11/22/63: A Novel   \n2            12 Rules for Life: An Antidote to Chaos   \n3                             1984 (Signet Classics)   \n4  5,000 Awesome Facts (About Everything!) (Natio...   \n\n                     Author  User Rating  Reviews  Price  Year        Genre   \n0                  JJ Smith          4.7    17350      8  2016  Non Fiction  \\\n1              Stephen King          4.6     2052     22  2011      Fiction   \n2        Jordan B. Peterson          4.7    18979     15  2018  Non Fiction   \n3             George Orwell          4.7    21424      6  2017      Fiction   \n4  National Geographic Kids          4.8     7665     12  2019  Non Fiction   \n\n   Critic Rating  \n0              2  \n1              2  \n2              2  \n3              2  \n4              2  ",
      "text/html": "<div>\n<style scoped>\n    .dataframe tbody tr th:only-of-type {\n        vertical-align: middle;\n    }\n\n    .dataframe tbody tr th {\n        vertical-align: top;\n    }\n\n    .dataframe thead th {\n        text-align: right;\n    }\n</style>\n<table border=\"1\" class=\"dataframe\">\n  <thead>\n    <tr style=\"text-align: right;\">\n      <th></th>\n      <th>Name</th>\n      <th>Author</th>\n      <th>User Rating</th>\n      <th>Reviews</th>\n      <th>Price</th>\n      <th>Year</th>\n      <th>Genre</th>\n      <th>Critic Rating</th>\n    </tr>\n  </thead>\n  <tbody>\n    <tr>\n      <th>0</th>\n      <td>10-Day Green Smoothie Cleanse</td>\n      <td>JJ Smith</td>\n      <td>4.7</td>\n      <td>17350</td>\n      <td>8</td>\n      <td>2016</td>\n      <td>Non Fiction</td>\n      <td>2</td>\n    </tr>\n    <tr>\n      <th>1</th>\n      <td>11/22/63: A Novel</td>\n      <td>Stephen King</td>\n      <td>4.6</td>\n      <td>2052</td>\n      <td>22</td>\n      <td>2011</td>\n      <td>Fiction</td>\n      <td>2</td>\n    </tr>\n    <tr>\n      <th>2</th>\n      <td>12 Rules for Life: An Antidote to Chaos</td>\n      <td>Jordan B. Peterson</td>\n      <td>4.7</td>\n      <td>18979</td>\n      <td>15</td>\n      <td>2018</td>\n      <td>Non Fiction</td>\n      <td>2</td>\n    </tr>\n    <tr>\n      <th>3</th>\n      <td>1984 (Signet Classics)</td>\n      <td>George Orwell</td>\n      <td>4.7</td>\n      <td>21424</td>\n      <td>6</td>\n      <td>2017</td>\n      <td>Fiction</td>\n      <td>2</td>\n    </tr>\n    <tr>\n      <th>4</th>\n      <td>5,000 Awesome Facts (About Everything!) (Natio...</td>\n      <td>National Geographic Kids</td>\n      <td>4.8</td>\n      <td>7665</td>\n      <td>12</td>\n      <td>2019</td>\n      <td>Non Fiction</td>\n      <td>2</td>\n    </tr>\n  </tbody>\n</table>\n</div>"
     },
     "execution_count": 37,
     "metadata": {},
     "output_type": "execute_result"
    }
   ],
   "source": [
    "# show first 5 rows\n",
    "df_amazon_bestsellers.head()\n"
   ]
  },
  {
   "cell_type": "markdown",
   "id": "822167f7",
   "metadata": {},
   "source": [
    "# Basic Attributes, Methods and Functions"
   ]
  },
  {
   "cell_type": "code",
   "execution_count": 11,
   "id": "3b8dfa8e",
   "metadata": {},
   "outputs": [],
   "source": [
    "# get access to the columns attribute\n"
   ]
  },
  {
   "cell_type": "markdown",
   "id": "6fe2c5f5",
   "metadata": {},
   "source": [
    "# Selecting Two or More Columns from a Dataframe"
   ]
  },
  {
   "cell_type": "code",
   "execution_count": 49,
   "id": "1690dbfe",
   "metadata": {},
   "outputs": [
    {
     "data": {
      "text/plain": "                                                  Name   \n0                        10-Day Green Smoothie Cleanse  \\\n1                                    11/22/63: A Novel   \n2              12 Rules for Life: An Antidote to Chaos   \n3                               1984 (Signet Classics)   \n4    5,000 Awesome Facts (About Everything!) (Natio...   \n..                                                 ...   \n545       Wrecking Ball (Diary of a Wimpy Kid Book 14)   \n546  You Are a Badass: How to Stop Doubting Your Gr...   \n547  You Are a Badass: How to Stop Doubting Your Gr...   \n548  You Are a Badass: How to Stop Doubting Your Gr...   \n549  You Are a Badass: How to Stop Doubting Your Gr...   \n\n                       Author  User Rating  Critic Rating  Reviews  Price   \n0                    JJ Smith          4.7              2    17350      8  \\\n1                Stephen King          4.6              2     2052     22   \n2          Jordan B. Peterson          4.7              2    18979     15   \n3               George Orwell          4.7              2    21424      6   \n4    National Geographic Kids          4.8              2     7665     12   \n..                        ...          ...            ...      ...    ...   \n545               Jeff Kinney          4.9              2     9413      8   \n546               Jen Sincero          4.7              2    14331      8   \n547               Jen Sincero          4.7              3    14331      8   \n548               Jen Sincero          4.7              3    14331      8   \n549               Jen Sincero          4.7              1    14331      8   \n\n     Year        Genre  \n0    2016  Non Fiction  \n1    2011      Fiction  \n2    2018  Non Fiction  \n3    2017      Fiction  \n4    2019  Non Fiction  \n..    ...          ...  \n545  2019      Fiction  \n546  2016  Non Fiction  \n547  2017  Non Fiction  \n548  2018  Non Fiction  \n549  2019  Non Fiction  \n\n[550 rows x 8 columns]",
      "text/html": "<div>\n<style scoped>\n    .dataframe tbody tr th:only-of-type {\n        vertical-align: middle;\n    }\n\n    .dataframe tbody tr th {\n        vertical-align: top;\n    }\n\n    .dataframe thead th {\n        text-align: right;\n    }\n</style>\n<table border=\"1\" class=\"dataframe\">\n  <thead>\n    <tr style=\"text-align: right;\">\n      <th></th>\n      <th>Name</th>\n      <th>Author</th>\n      <th>User Rating</th>\n      <th>Critic Rating</th>\n      <th>Reviews</th>\n      <th>Price</th>\n      <th>Year</th>\n      <th>Genre</th>\n    </tr>\n  </thead>\n  <tbody>\n    <tr>\n      <th>0</th>\n      <td>10-Day Green Smoothie Cleanse</td>\n      <td>JJ Smith</td>\n      <td>4.7</td>\n      <td>2</td>\n      <td>17350</td>\n      <td>8</td>\n      <td>2016</td>\n      <td>Non Fiction</td>\n    </tr>\n    <tr>\n      <th>1</th>\n      <td>11/22/63: A Novel</td>\n      <td>Stephen King</td>\n      <td>4.6</td>\n      <td>2</td>\n      <td>2052</td>\n      <td>22</td>\n      <td>2011</td>\n      <td>Fiction</td>\n    </tr>\n    <tr>\n      <th>2</th>\n      <td>12 Rules for Life: An Antidote to Chaos</td>\n      <td>Jordan B. Peterson</td>\n      <td>4.7</td>\n      <td>2</td>\n      <td>18979</td>\n      <td>15</td>\n      <td>2018</td>\n      <td>Non Fiction</td>\n    </tr>\n    <tr>\n      <th>3</th>\n      <td>1984 (Signet Classics)</td>\n      <td>George Orwell</td>\n      <td>4.7</td>\n      <td>2</td>\n      <td>21424</td>\n      <td>6</td>\n      <td>2017</td>\n      <td>Fiction</td>\n    </tr>\n    <tr>\n      <th>4</th>\n      <td>5,000 Awesome Facts (About Everything!) (Natio...</td>\n      <td>National Geographic Kids</td>\n      <td>4.8</td>\n      <td>2</td>\n      <td>7665</td>\n      <td>12</td>\n      <td>2019</td>\n      <td>Non Fiction</td>\n    </tr>\n    <tr>\n      <th>...</th>\n      <td>...</td>\n      <td>...</td>\n      <td>...</td>\n      <td>...</td>\n      <td>...</td>\n      <td>...</td>\n      <td>...</td>\n      <td>...</td>\n    </tr>\n    <tr>\n      <th>545</th>\n      <td>Wrecking Ball (Diary of a Wimpy Kid Book 14)</td>\n      <td>Jeff Kinney</td>\n      <td>4.9</td>\n      <td>2</td>\n      <td>9413</td>\n      <td>8</td>\n      <td>2019</td>\n      <td>Fiction</td>\n    </tr>\n    <tr>\n      <th>546</th>\n      <td>You Are a Badass: How to Stop Doubting Your Gr...</td>\n      <td>Jen Sincero</td>\n      <td>4.7</td>\n      <td>2</td>\n      <td>14331</td>\n      <td>8</td>\n      <td>2016</td>\n      <td>Non Fiction</td>\n    </tr>\n    <tr>\n      <th>547</th>\n      <td>You Are a Badass: How to Stop Doubting Your Gr...</td>\n      <td>Jen Sincero</td>\n      <td>4.7</td>\n      <td>3</td>\n      <td>14331</td>\n      <td>8</td>\n      <td>2017</td>\n      <td>Non Fiction</td>\n    </tr>\n    <tr>\n      <th>548</th>\n      <td>You Are a Badass: How to Stop Doubting Your Gr...</td>\n      <td>Jen Sincero</td>\n      <td>4.7</td>\n      <td>3</td>\n      <td>14331</td>\n      <td>8</td>\n      <td>2018</td>\n      <td>Non Fiction</td>\n    </tr>\n    <tr>\n      <th>549</th>\n      <td>You Are a Badass: How to Stop Doubting Your Gr...</td>\n      <td>Jen Sincero</td>\n      <td>4.7</td>\n      <td>1</td>\n      <td>14331</td>\n      <td>8</td>\n      <td>2019</td>\n      <td>Non Fiction</td>\n    </tr>\n  </tbody>\n</table>\n<p>550 rows × 8 columns</p>\n</div>"
     },
     "execution_count": 49,
     "metadata": {},
     "output_type": "execute_result"
    }
   ],
   "source": [
    "# move the new 'Critic Rating' column between the columns \"User Rating\" and \"Reviews\" Then update the dataframe\n",
    "df_amazon_bestsellers = df_amazon_bestsellers[['Name', 'Author', 'User Rating', 'Critic Rating', 'Reviews', 'Price', 'Year', 'Genre']]\n",
    "df_amazon_bestsellers\n",
    "# Tip: Copy and paste the column names obtained with the columns attribute and then rearrange elements using [[]]\n"
   ]
  },
  {
   "cell_type": "code",
   "execution_count": 50,
   "id": "4a294c74",
   "metadata": {},
   "outputs": [
    {
     "data": {
      "text/plain": "                                                Name   \n0                      10-Day Green Smoothie Cleanse  \\\n1                                  11/22/63: A Novel   \n2            12 Rules for Life: An Antidote to Chaos   \n3                             1984 (Signet Classics)   \n4  5,000 Awesome Facts (About Everything!) (Natio...   \n\n                     Author  User Rating  Critic Rating  Reviews  Price  Year   \n0                  JJ Smith          4.7              2    17350      8  2016  \\\n1              Stephen King          4.6              2     2052     22  2011   \n2        Jordan B. Peterson          4.7              2    18979     15  2018   \n3             George Orwell          4.7              2    21424      6  2017   \n4  National Geographic Kids          4.8              2     7665     12  2019   \n\n         Genre  \n0  Non Fiction  \n1      Fiction  \n2  Non Fiction  \n3      Fiction  \n4  Non Fiction  ",
      "text/html": "<div>\n<style scoped>\n    .dataframe tbody tr th:only-of-type {\n        vertical-align: middle;\n    }\n\n    .dataframe tbody tr th {\n        vertical-align: top;\n    }\n\n    .dataframe thead th {\n        text-align: right;\n    }\n</style>\n<table border=\"1\" class=\"dataframe\">\n  <thead>\n    <tr style=\"text-align: right;\">\n      <th></th>\n      <th>Name</th>\n      <th>Author</th>\n      <th>User Rating</th>\n      <th>Critic Rating</th>\n      <th>Reviews</th>\n      <th>Price</th>\n      <th>Year</th>\n      <th>Genre</th>\n    </tr>\n  </thead>\n  <tbody>\n    <tr>\n      <th>0</th>\n      <td>10-Day Green Smoothie Cleanse</td>\n      <td>JJ Smith</td>\n      <td>4.7</td>\n      <td>2</td>\n      <td>17350</td>\n      <td>8</td>\n      <td>2016</td>\n      <td>Non Fiction</td>\n    </tr>\n    <tr>\n      <th>1</th>\n      <td>11/22/63: A Novel</td>\n      <td>Stephen King</td>\n      <td>4.6</td>\n      <td>2</td>\n      <td>2052</td>\n      <td>22</td>\n      <td>2011</td>\n      <td>Fiction</td>\n    </tr>\n    <tr>\n      <th>2</th>\n      <td>12 Rules for Life: An Antidote to Chaos</td>\n      <td>Jordan B. Peterson</td>\n      <td>4.7</td>\n      <td>2</td>\n      <td>18979</td>\n      <td>15</td>\n      <td>2018</td>\n      <td>Non Fiction</td>\n    </tr>\n    <tr>\n      <th>3</th>\n      <td>1984 (Signet Classics)</td>\n      <td>George Orwell</td>\n      <td>4.7</td>\n      <td>2</td>\n      <td>21424</td>\n      <td>6</td>\n      <td>2017</td>\n      <td>Fiction</td>\n    </tr>\n    <tr>\n      <th>4</th>\n      <td>5,000 Awesome Facts (About Everything!) (Natio...</td>\n      <td>National Geographic Kids</td>\n      <td>4.8</td>\n      <td>2</td>\n      <td>7665</td>\n      <td>12</td>\n      <td>2019</td>\n      <td>Non Fiction</td>\n    </tr>\n  </tbody>\n</table>\n</div>"
     },
     "execution_count": 50,
     "metadata": {},
     "output_type": "execute_result"
    }
   ],
   "source": [
    "# show first 5 rows\n",
    "df_amazon_bestsellers.head()"
   ]
  },
  {
   "cell_type": "markdown",
   "id": "fedaf280",
   "metadata": {},
   "source": [
    "# Operations on Dataframes"
   ]
  },
  {
   "cell_type": "code",
   "execution_count": 14,
   "id": "da1c2205",
   "metadata": {},
   "outputs": [],
   "source": [
    "# create a column named \"Average Rating\" by using the following formula: Average Rating = (User Rating + Critic Rating)/2\n"
   ]
  },
  {
   "cell_type": "code",
   "execution_count": 15,
   "id": "ab6c226b",
   "metadata": {},
   "outputs": [],
   "source": [
    "# use the round function to round the values of the dataframe to 1 decimal and update the dataframe\n"
   ]
  },
  {
   "cell_type": "markdown",
   "id": "5142f8af",
   "metadata": {},
   "source": [
    "# Value Counts"
   ]
  },
  {
   "cell_type": "code",
   "execution_count": 16,
   "id": "a3a1e3fc",
   "metadata": {},
   "outputs": [],
   "source": [
    "# count elements in \"Genre\" column by category and return the relative frequency \n"
   ]
  },
  {
   "cell_type": "markdown",
   "id": "13ff41dd",
   "metadata": {},
   "source": [
    "# Rename Columns"
   ]
  },
  {
   "cell_type": "code",
   "execution_count": 17,
   "id": "f86a8194",
   "metadata": {},
   "outputs": [],
   "source": [
    "# rename columns \"User Rating,\" \"Critic Rating\" and \"Average Rating\" to \"UR,\" \"CR\" and \"AR\" then update the dataframe with the inplace paraneter\n"
   ]
  },
  {
   "cell_type": "code",
   "execution_count": 18,
   "id": "3df4c15c",
   "metadata": {},
   "outputs": [],
   "source": [
    "# show first 5 rows\n"
   ]
  },
  {
   "cell_type": "code",
   "execution_count": 19,
   "id": "474246ef",
   "metadata": {},
   "outputs": [],
   "source": [
    "# select only \"Name\", \"Author\", \"UR\", \"CR\", \"AR\" and \"Year\" columns and update dataframe\n"
   ]
  },
  {
   "cell_type": "markdown",
   "id": "6c458cf9",
   "metadata": {},
   "source": [
    "# Sort a dataframe"
   ]
  },
  {
   "cell_type": "code",
   "execution_count": 20,
   "id": "50a7d2a8",
   "metadata": {},
   "outputs": [],
   "source": [
    "# sort the dataframe descending by \"UR\" and \"CR\"\n"
   ]
  }
 ],
 "metadata": {
  "kernelspec": {
   "display_name": "Python 3",
   "language": "python",
   "name": "python3"
  },
  "language_info": {
   "codemirror_mode": {
    "name": "ipython",
    "version": 3
   },
   "file_extension": ".py",
   "mimetype": "text/x-python",
   "name": "python",
   "nbconvert_exporter": "python",
   "pygments_lexer": "ipython3",
   "version": "3.8.8"
  },
  "toc": {
   "base_numbering": 1,
   "nav_menu": {},
   "number_sections": true,
   "sideBar": true,
   "skip_h1_title": false,
   "title_cell": "Table of Contents",
   "title_sidebar": "Contents",
   "toc_cell": false,
   "toc_position": {},
   "toc_section_display": true,
   "toc_window_display": false
  }
 },
 "nbformat": 4,
 "nbformat_minor": 5
}
