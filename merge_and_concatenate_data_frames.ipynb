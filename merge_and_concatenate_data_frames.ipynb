{
 "cells": [
  {
   "cell_type": "code",
   "execution_count": 5,
   "metadata": {
    "collapsed": true
   },
   "outputs": [
    {
     "data": {
      "text/plain": "      imdb_title_id                           title   \n0         tt0000009                      Miss Jerry  \\\n1         tt0000574     The Story of the Kelly Gang   \n2         tt0001892                  Den sorte drøm   \n3         tt0002101                       Cleopatra   \n4         tt0002130                       L'Inferno   \n...             ...                             ...   \n85850     tt9908390                         Le lion   \n85851     tt9911196  De Beentjes van Sint-Hildegard   \n85852     tt9911774       Padmavyuhathile Abhimanyu   \n85853     tt9914286               Sokagin Çocuklari   \n85854     tt9914942      La vida sense la Sara Amat   \n\n                       original_title  year date_published   \n0                          Miss Jerry  1894     1894-10-09  \\\n1         The Story of the Kelly Gang  1906     1906-12-26   \n2                      Den sorte drøm  1911     1911-08-19   \n3                           Cleopatra  1912     1912-11-13   \n4                           L'Inferno  1911     1911-03-06   \n...                               ...   ...            ...   \n85850                         Le lion  2020     2020-01-29   \n85851  De Beentjes van Sint-Hildegard  2020     2020-02-13   \n85852       Padmavyuhathile Abhimanyu  2019     2019-03-08   \n85853               Sokagin Çocuklari  2019     2019-03-15   \n85854      La vida sense la Sara Amat  2019     2020-02-05   \n\n                           genre  duration           country       language   \n0                        Romance        45               USA            NaN  \\\n1        Biography, Crime, Drama        70         Australia            NaN   \n2                          Drama        53  Germany, Denmark            NaN   \n3                 Drama, History       100               USA        English   \n4      Adventure, Drama, Fantasy        68             Italy        Italian   \n...                          ...       ...               ...            ...   \n85850                     Comedy        95   France, Belgium         French   \n85851              Comedy, Drama       103       Netherlands  German, Dutch   \n85852                      Drama       130             India      Malayalam   \n85853              Drama, Family        98            Turkey        Turkish   \n85854                      Drama        74             Spain        Catalan   \n\n                                  director  ...   \n0                          Alexander Black  ...  \\\n1                             Charles Tait  ...   \n2                                Urban Gad  ...   \n3                       Charles L. Gaskill  ...   \n4      Francesco Bertolini, Adolfo Padovan  ...   \n...                                    ...  ...   \n85850               Ludovic Colbeau-Justin  ...   \n85851                      Johan Nijenhuis  ...   \n85852                      Vineesh Aaradya  ...   \n85853                    Ahmet Faik Akinci  ...   \n85854                            Laura Jou  ...   \n\n                                                  actors   \n0      Blanche Bayliss, William Courtenay, Chauncey D...  \\\n1      Elizabeth Tait, John Tait, Norman Campbell, Be...   \n2      Asta Nielsen, Valdemar Psilander, Gunnar Helse...   \n3      Helen Gardner, Pearl Sindelar, Miss Fielding, ...   \n4      Salvatore Papa, Arturo Pirovano, Giuseppe de L...   \n...                                                  ...   \n85850  Dany Boon, Philippe Katerine, Anne Serra, Samu...   \n85851  Herman Finkers, Johanna ter Steege, Leonie ter...   \n85852  Anoop Chandran, Indrans, Sona Nair, Simon Brit...   \n85853  Ahmet Faik Akinci, Belma Mamati, Metin Keçeci,...   \n85854  Maria Morera Colomer, Biel Rossell Pelfort, Is...   \n\n                                             description avg_vote votes   \n0      The adventures of a female reporter in the 1890s.      5.9   154  \\\n1      True story of notorious Australian outlaw Ned ...      6.1   589   \n2      Two men of high rank are both wooing the beaut...      5.8   188   \n3      The fabled queen of Egypt's affair with Roman ...      5.2   446   \n4      Loosely adapted from Dante's Divine Comedy and...      7.0  2237   \n...                                                  ...      ...   ...   \n85850  A psychiatric hospital patient pretends to be ...      5.3   398   \n85851  A middle-aged veterinary surgeon believes his ...      7.7   724   \n85852                                                NaN      7.9   265   \n85853                                                NaN      6.4   194   \n85854  Pep, a 13-year-old boy, is in love with a girl...      6.7   102   \n\n        budget  usa_gross_income worlwide_gross_income metascore   \n0          NaN               NaN                   NaN       NaN  \\\n1       $ 2250               NaN                   NaN       NaN   \n2          NaN               NaN                   NaN       NaN   \n3      $ 45000               NaN                   NaN       NaN   \n4          NaN               NaN                   NaN       NaN   \n...        ...               ...                   ...       ...   \n85850      NaN               NaN             $ 3507171       NaN   \n85851      NaN               NaN             $ 7299062       NaN   \n85852      NaN               NaN                   NaN       NaN   \n85853      NaN               NaN                $ 2833       NaN   \n85854      NaN               NaN               $ 59794       NaN   \n\n      reviews_from_users  reviews_from_critics  \n0                    1.0                   2.0  \n1                    7.0                   7.0  \n2                    5.0                   2.0  \n3                   25.0                   3.0  \n4                   31.0                  14.0  \n...                  ...                   ...  \n85850                NaN                   4.0  \n85851                6.0                   4.0  \n85852                NaN                   NaN  \n85853                NaN                   NaN  \n85854                NaN                   2.0  \n\n[85855 rows x 22 columns]",
      "text/html": "<div>\n<style scoped>\n    .dataframe tbody tr th:only-of-type {\n        vertical-align: middle;\n    }\n\n    .dataframe tbody tr th {\n        vertical-align: top;\n    }\n\n    .dataframe thead th {\n        text-align: right;\n    }\n</style>\n<table border=\"1\" class=\"dataframe\">\n  <thead>\n    <tr style=\"text-align: right;\">\n      <th></th>\n      <th>imdb_title_id</th>\n      <th>title</th>\n      <th>original_title</th>\n      <th>year</th>\n      <th>date_published</th>\n      <th>genre</th>\n      <th>duration</th>\n      <th>country</th>\n      <th>language</th>\n      <th>director</th>\n      <th>...</th>\n      <th>actors</th>\n      <th>description</th>\n      <th>avg_vote</th>\n      <th>votes</th>\n      <th>budget</th>\n      <th>usa_gross_income</th>\n      <th>worlwide_gross_income</th>\n      <th>metascore</th>\n      <th>reviews_from_users</th>\n      <th>reviews_from_critics</th>\n    </tr>\n  </thead>\n  <tbody>\n    <tr>\n      <th>0</th>\n      <td>tt0000009</td>\n      <td>Miss Jerry</td>\n      <td>Miss Jerry</td>\n      <td>1894</td>\n      <td>1894-10-09</td>\n      <td>Romance</td>\n      <td>45</td>\n      <td>USA</td>\n      <td>NaN</td>\n      <td>Alexander Black</td>\n      <td>...</td>\n      <td>Blanche Bayliss, William Courtenay, Chauncey D...</td>\n      <td>The adventures of a female reporter in the 1890s.</td>\n      <td>5.9</td>\n      <td>154</td>\n      <td>NaN</td>\n      <td>NaN</td>\n      <td>NaN</td>\n      <td>NaN</td>\n      <td>1.0</td>\n      <td>2.0</td>\n    </tr>\n    <tr>\n      <th>1</th>\n      <td>tt0000574</td>\n      <td>The Story of the Kelly Gang</td>\n      <td>The Story of the Kelly Gang</td>\n      <td>1906</td>\n      <td>1906-12-26</td>\n      <td>Biography, Crime, Drama</td>\n      <td>70</td>\n      <td>Australia</td>\n      <td>NaN</td>\n      <td>Charles Tait</td>\n      <td>...</td>\n      <td>Elizabeth Tait, John Tait, Norman Campbell, Be...</td>\n      <td>True story of notorious Australian outlaw Ned ...</td>\n      <td>6.1</td>\n      <td>589</td>\n      <td>$ 2250</td>\n      <td>NaN</td>\n      <td>NaN</td>\n      <td>NaN</td>\n      <td>7.0</td>\n      <td>7.0</td>\n    </tr>\n    <tr>\n      <th>2</th>\n      <td>tt0001892</td>\n      <td>Den sorte drøm</td>\n      <td>Den sorte drøm</td>\n      <td>1911</td>\n      <td>1911-08-19</td>\n      <td>Drama</td>\n      <td>53</td>\n      <td>Germany, Denmark</td>\n      <td>NaN</td>\n      <td>Urban Gad</td>\n      <td>...</td>\n      <td>Asta Nielsen, Valdemar Psilander, Gunnar Helse...</td>\n      <td>Two men of high rank are both wooing the beaut...</td>\n      <td>5.8</td>\n      <td>188</td>\n      <td>NaN</td>\n      <td>NaN</td>\n      <td>NaN</td>\n      <td>NaN</td>\n      <td>5.0</td>\n      <td>2.0</td>\n    </tr>\n    <tr>\n      <th>3</th>\n      <td>tt0002101</td>\n      <td>Cleopatra</td>\n      <td>Cleopatra</td>\n      <td>1912</td>\n      <td>1912-11-13</td>\n      <td>Drama, History</td>\n      <td>100</td>\n      <td>USA</td>\n      <td>English</td>\n      <td>Charles L. Gaskill</td>\n      <td>...</td>\n      <td>Helen Gardner, Pearl Sindelar, Miss Fielding, ...</td>\n      <td>The fabled queen of Egypt's affair with Roman ...</td>\n      <td>5.2</td>\n      <td>446</td>\n      <td>$ 45000</td>\n      <td>NaN</td>\n      <td>NaN</td>\n      <td>NaN</td>\n      <td>25.0</td>\n      <td>3.0</td>\n    </tr>\n    <tr>\n      <th>4</th>\n      <td>tt0002130</td>\n      <td>L'Inferno</td>\n      <td>L'Inferno</td>\n      <td>1911</td>\n      <td>1911-03-06</td>\n      <td>Adventure, Drama, Fantasy</td>\n      <td>68</td>\n      <td>Italy</td>\n      <td>Italian</td>\n      <td>Francesco Bertolini, Adolfo Padovan</td>\n      <td>...</td>\n      <td>Salvatore Papa, Arturo Pirovano, Giuseppe de L...</td>\n      <td>Loosely adapted from Dante's Divine Comedy and...</td>\n      <td>7.0</td>\n      <td>2237</td>\n      <td>NaN</td>\n      <td>NaN</td>\n      <td>NaN</td>\n      <td>NaN</td>\n      <td>31.0</td>\n      <td>14.0</td>\n    </tr>\n    <tr>\n      <th>...</th>\n      <td>...</td>\n      <td>...</td>\n      <td>...</td>\n      <td>...</td>\n      <td>...</td>\n      <td>...</td>\n      <td>...</td>\n      <td>...</td>\n      <td>...</td>\n      <td>...</td>\n      <td>...</td>\n      <td>...</td>\n      <td>...</td>\n      <td>...</td>\n      <td>...</td>\n      <td>...</td>\n      <td>...</td>\n      <td>...</td>\n      <td>...</td>\n      <td>...</td>\n      <td>...</td>\n    </tr>\n    <tr>\n      <th>85850</th>\n      <td>tt9908390</td>\n      <td>Le lion</td>\n      <td>Le lion</td>\n      <td>2020</td>\n      <td>2020-01-29</td>\n      <td>Comedy</td>\n      <td>95</td>\n      <td>France, Belgium</td>\n      <td>French</td>\n      <td>Ludovic Colbeau-Justin</td>\n      <td>...</td>\n      <td>Dany Boon, Philippe Katerine, Anne Serra, Samu...</td>\n      <td>A psychiatric hospital patient pretends to be ...</td>\n      <td>5.3</td>\n      <td>398</td>\n      <td>NaN</td>\n      <td>NaN</td>\n      <td>$ 3507171</td>\n      <td>NaN</td>\n      <td>NaN</td>\n      <td>4.0</td>\n    </tr>\n    <tr>\n      <th>85851</th>\n      <td>tt9911196</td>\n      <td>De Beentjes van Sint-Hildegard</td>\n      <td>De Beentjes van Sint-Hildegard</td>\n      <td>2020</td>\n      <td>2020-02-13</td>\n      <td>Comedy, Drama</td>\n      <td>103</td>\n      <td>Netherlands</td>\n      <td>German, Dutch</td>\n      <td>Johan Nijenhuis</td>\n      <td>...</td>\n      <td>Herman Finkers, Johanna ter Steege, Leonie ter...</td>\n      <td>A middle-aged veterinary surgeon believes his ...</td>\n      <td>7.7</td>\n      <td>724</td>\n      <td>NaN</td>\n      <td>NaN</td>\n      <td>$ 7299062</td>\n      <td>NaN</td>\n      <td>6.0</td>\n      <td>4.0</td>\n    </tr>\n    <tr>\n      <th>85852</th>\n      <td>tt9911774</td>\n      <td>Padmavyuhathile Abhimanyu</td>\n      <td>Padmavyuhathile Abhimanyu</td>\n      <td>2019</td>\n      <td>2019-03-08</td>\n      <td>Drama</td>\n      <td>130</td>\n      <td>India</td>\n      <td>Malayalam</td>\n      <td>Vineesh Aaradya</td>\n      <td>...</td>\n      <td>Anoop Chandran, Indrans, Sona Nair, Simon Brit...</td>\n      <td>NaN</td>\n      <td>7.9</td>\n      <td>265</td>\n      <td>NaN</td>\n      <td>NaN</td>\n      <td>NaN</td>\n      <td>NaN</td>\n      <td>NaN</td>\n      <td>NaN</td>\n    </tr>\n    <tr>\n      <th>85853</th>\n      <td>tt9914286</td>\n      <td>Sokagin Çocuklari</td>\n      <td>Sokagin Çocuklari</td>\n      <td>2019</td>\n      <td>2019-03-15</td>\n      <td>Drama, Family</td>\n      <td>98</td>\n      <td>Turkey</td>\n      <td>Turkish</td>\n      <td>Ahmet Faik Akinci</td>\n      <td>...</td>\n      <td>Ahmet Faik Akinci, Belma Mamati, Metin Keçeci,...</td>\n      <td>NaN</td>\n      <td>6.4</td>\n      <td>194</td>\n      <td>NaN</td>\n      <td>NaN</td>\n      <td>$ 2833</td>\n      <td>NaN</td>\n      <td>NaN</td>\n      <td>NaN</td>\n    </tr>\n    <tr>\n      <th>85854</th>\n      <td>tt9914942</td>\n      <td>La vida sense la Sara Amat</td>\n      <td>La vida sense la Sara Amat</td>\n      <td>2019</td>\n      <td>2020-02-05</td>\n      <td>Drama</td>\n      <td>74</td>\n      <td>Spain</td>\n      <td>Catalan</td>\n      <td>Laura Jou</td>\n      <td>...</td>\n      <td>Maria Morera Colomer, Biel Rossell Pelfort, Is...</td>\n      <td>Pep, a 13-year-old boy, is in love with a girl...</td>\n      <td>6.7</td>\n      <td>102</td>\n      <td>NaN</td>\n      <td>NaN</td>\n      <td>$ 59794</td>\n      <td>NaN</td>\n      <td>NaN</td>\n      <td>2.0</td>\n    </tr>\n  </tbody>\n</table>\n<p>85855 rows × 22 columns</p>\n</div>"
     },
     "execution_count": 5,
     "metadata": {},
     "output_type": "execute_result"
    }
   ],
   "source": [
    "import pandas as pd\n",
    "\n",
    "df_movies = pd.read_csv('data_files/IMDb movies.csv', low_memory=False)\n",
    "df_movies"
   ]
  },
  {
   "cell_type": "code",
   "execution_count": 6,
   "outputs": [],
   "source": [
    "df_ratings = pd.read_csv('data_files/IMDb ratings.csv')"
   ],
   "metadata": {
    "collapsed": false
   }
  },
  {
   "cell_type": "code",
   "execution_count": 7,
   "outputs": [
    {
     "data": {
      "text/plain": "      imdb_title_id  weighted_average_vote  total_votes  mean_vote   \n0         tt0000009                    5.9          154        5.9  \\\n1         tt0000574                    6.1          589        6.3   \n2         tt0001892                    5.8          188        6.0   \n3         tt0002101                    5.2          446        5.3   \n4         tt0002130                    7.0         2237        6.9   \n...             ...                    ...          ...        ...   \n85850     tt9908390                    5.3          398        5.5   \n85851     tt9911196                    7.7          724        7.9   \n85852     tt9911774                    7.9          265        7.8   \n85853     tt9914286                    6.4          194        9.4   \n85854     tt9914942                    6.7          102        6.8   \n\n       median_vote  votes_10  votes_9  votes_8  votes_7  votes_6  ...   \n0              6.0        12        4       10       43       28  ...  \\\n1              6.0        57       18       58      137      139  ...   \n2              6.0         6        6       17       44       52  ...   \n3              5.0        15        8       16       62       98  ...   \n4              7.0       210      225      436      641      344  ...   \n...            ...       ...      ...      ...      ...      ...  ...   \n85850          6.0        13        9       26       65      104  ...   \n85851          8.0        65      139      288      170       42  ...   \n85852          8.0        63       29       61       61       31  ...   \n85853         10.0       176        0        2        2        1  ...   \n85854          7.0         4        4       21       35       27  ...   \n\n       females_30age_avg_vote  females_30age_votes  females_45age_avg_vote   \n0                         5.7                 13.0                     4.5  \\\n1                         6.2                 23.0                     6.6   \n2                         5.8                  4.0                     6.8   \n3                         5.5                 14.0                     6.1   \n4                         7.3                 82.0                     7.4   \n...                       ...                  ...                     ...   \n85850                     5.7                 11.0                     5.0   \n85851                     8.0                 47.0                     7.3   \n85852                     NaN                  NaN                     NaN   \n85853                     NaN                  NaN                     7.0   \n85854                     6.8                  4.0                     7.5   \n\n       females_45age_votes  top1000_voters_rating  top1000_voters_votes   \n0                      4.0                    5.7                  34.0  \\\n1                     14.0                    6.4                  66.0   \n2                      7.0                    5.4                  32.0   \n3                     21.0                    4.9                  57.0   \n4                     77.0                    6.9                 139.0   \n...                    ...                    ...                   ...   \n85850                  2.0                    5.5                  12.0   \n85851                 30.0                    7.0                   6.0   \n85852                  NaN                    1.0                   1.0   \n85853                  1.0                    4.0                   3.0   \n85854                  4.0                    7.0                   4.0   \n\n       us_voters_rating  us_voters_votes  non_us_voters_rating   \n0                   6.4             51.0                   6.0  \\\n1                   6.0             96.0                   6.2   \n2                   6.2             31.0                   5.9   \n3                   5.5            207.0                   4.7   \n4                   7.0            488.0                   7.0   \n...                 ...              ...                   ...   \n85850               6.3             22.0                   5.3   \n85851               6.8             13.0                   7.7   \n85852               NaN              NaN                   2.0   \n85853               1.7              5.0                   5.8   \n85854               6.7             13.0                   6.7   \n\n       non_us_voters_votes  \n0                     70.0  \n1                    331.0  \n2                    123.0  \n3                    105.0  \n4                   1166.0  \n...                    ...  \n85850                214.0  \n85851                388.0  \n85852                  2.0  \n85853                  5.0  \n85854                 60.0  \n\n[85855 rows x 49 columns]",
      "text/html": "<div>\n<style scoped>\n    .dataframe tbody tr th:only-of-type {\n        vertical-align: middle;\n    }\n\n    .dataframe tbody tr th {\n        vertical-align: top;\n    }\n\n    .dataframe thead th {\n        text-align: right;\n    }\n</style>\n<table border=\"1\" class=\"dataframe\">\n  <thead>\n    <tr style=\"text-align: right;\">\n      <th></th>\n      <th>imdb_title_id</th>\n      <th>weighted_average_vote</th>\n      <th>total_votes</th>\n      <th>mean_vote</th>\n      <th>median_vote</th>\n      <th>votes_10</th>\n      <th>votes_9</th>\n      <th>votes_8</th>\n      <th>votes_7</th>\n      <th>votes_6</th>\n      <th>...</th>\n      <th>females_30age_avg_vote</th>\n      <th>females_30age_votes</th>\n      <th>females_45age_avg_vote</th>\n      <th>females_45age_votes</th>\n      <th>top1000_voters_rating</th>\n      <th>top1000_voters_votes</th>\n      <th>us_voters_rating</th>\n      <th>us_voters_votes</th>\n      <th>non_us_voters_rating</th>\n      <th>non_us_voters_votes</th>\n    </tr>\n  </thead>\n  <tbody>\n    <tr>\n      <th>0</th>\n      <td>tt0000009</td>\n      <td>5.9</td>\n      <td>154</td>\n      <td>5.9</td>\n      <td>6.0</td>\n      <td>12</td>\n      <td>4</td>\n      <td>10</td>\n      <td>43</td>\n      <td>28</td>\n      <td>...</td>\n      <td>5.7</td>\n      <td>13.0</td>\n      <td>4.5</td>\n      <td>4.0</td>\n      <td>5.7</td>\n      <td>34.0</td>\n      <td>6.4</td>\n      <td>51.0</td>\n      <td>6.0</td>\n      <td>70.0</td>\n    </tr>\n    <tr>\n      <th>1</th>\n      <td>tt0000574</td>\n      <td>6.1</td>\n      <td>589</td>\n      <td>6.3</td>\n      <td>6.0</td>\n      <td>57</td>\n      <td>18</td>\n      <td>58</td>\n      <td>137</td>\n      <td>139</td>\n      <td>...</td>\n      <td>6.2</td>\n      <td>23.0</td>\n      <td>6.6</td>\n      <td>14.0</td>\n      <td>6.4</td>\n      <td>66.0</td>\n      <td>6.0</td>\n      <td>96.0</td>\n      <td>6.2</td>\n      <td>331.0</td>\n    </tr>\n    <tr>\n      <th>2</th>\n      <td>tt0001892</td>\n      <td>5.8</td>\n      <td>188</td>\n      <td>6.0</td>\n      <td>6.0</td>\n      <td>6</td>\n      <td>6</td>\n      <td>17</td>\n      <td>44</td>\n      <td>52</td>\n      <td>...</td>\n      <td>5.8</td>\n      <td>4.0</td>\n      <td>6.8</td>\n      <td>7.0</td>\n      <td>5.4</td>\n      <td>32.0</td>\n      <td>6.2</td>\n      <td>31.0</td>\n      <td>5.9</td>\n      <td>123.0</td>\n    </tr>\n    <tr>\n      <th>3</th>\n      <td>tt0002101</td>\n      <td>5.2</td>\n      <td>446</td>\n      <td>5.3</td>\n      <td>5.0</td>\n      <td>15</td>\n      <td>8</td>\n      <td>16</td>\n      <td>62</td>\n      <td>98</td>\n      <td>...</td>\n      <td>5.5</td>\n      <td>14.0</td>\n      <td>6.1</td>\n      <td>21.0</td>\n      <td>4.9</td>\n      <td>57.0</td>\n      <td>5.5</td>\n      <td>207.0</td>\n      <td>4.7</td>\n      <td>105.0</td>\n    </tr>\n    <tr>\n      <th>4</th>\n      <td>tt0002130</td>\n      <td>7.0</td>\n      <td>2237</td>\n      <td>6.9</td>\n      <td>7.0</td>\n      <td>210</td>\n      <td>225</td>\n      <td>436</td>\n      <td>641</td>\n      <td>344</td>\n      <td>...</td>\n      <td>7.3</td>\n      <td>82.0</td>\n      <td>7.4</td>\n      <td>77.0</td>\n      <td>6.9</td>\n      <td>139.0</td>\n      <td>7.0</td>\n      <td>488.0</td>\n      <td>7.0</td>\n      <td>1166.0</td>\n    </tr>\n    <tr>\n      <th>...</th>\n      <td>...</td>\n      <td>...</td>\n      <td>...</td>\n      <td>...</td>\n      <td>...</td>\n      <td>...</td>\n      <td>...</td>\n      <td>...</td>\n      <td>...</td>\n      <td>...</td>\n      <td>...</td>\n      <td>...</td>\n      <td>...</td>\n      <td>...</td>\n      <td>...</td>\n      <td>...</td>\n      <td>...</td>\n      <td>...</td>\n      <td>...</td>\n      <td>...</td>\n      <td>...</td>\n    </tr>\n    <tr>\n      <th>85850</th>\n      <td>tt9908390</td>\n      <td>5.3</td>\n      <td>398</td>\n      <td>5.5</td>\n      <td>6.0</td>\n      <td>13</td>\n      <td>9</td>\n      <td>26</td>\n      <td>65</td>\n      <td>104</td>\n      <td>...</td>\n      <td>5.7</td>\n      <td>11.0</td>\n      <td>5.0</td>\n      <td>2.0</td>\n      <td>5.5</td>\n      <td>12.0</td>\n      <td>6.3</td>\n      <td>22.0</td>\n      <td>5.3</td>\n      <td>214.0</td>\n    </tr>\n    <tr>\n      <th>85851</th>\n      <td>tt9911196</td>\n      <td>7.7</td>\n      <td>724</td>\n      <td>7.9</td>\n      <td>8.0</td>\n      <td>65</td>\n      <td>139</td>\n      <td>288</td>\n      <td>170</td>\n      <td>42</td>\n      <td>...</td>\n      <td>8.0</td>\n      <td>47.0</td>\n      <td>7.3</td>\n      <td>30.0</td>\n      <td>7.0</td>\n      <td>6.0</td>\n      <td>6.8</td>\n      <td>13.0</td>\n      <td>7.7</td>\n      <td>388.0</td>\n    </tr>\n    <tr>\n      <th>85852</th>\n      <td>tt9911774</td>\n      <td>7.9</td>\n      <td>265</td>\n      <td>7.8</td>\n      <td>8.0</td>\n      <td>63</td>\n      <td>29</td>\n      <td>61</td>\n      <td>61</td>\n      <td>31</td>\n      <td>...</td>\n      <td>NaN</td>\n      <td>NaN</td>\n      <td>NaN</td>\n      <td>NaN</td>\n      <td>1.0</td>\n      <td>1.0</td>\n      <td>NaN</td>\n      <td>NaN</td>\n      <td>2.0</td>\n      <td>2.0</td>\n    </tr>\n    <tr>\n      <th>85853</th>\n      <td>tt9914286</td>\n      <td>6.4</td>\n      <td>194</td>\n      <td>9.4</td>\n      <td>10.0</td>\n      <td>176</td>\n      <td>0</td>\n      <td>2</td>\n      <td>2</td>\n      <td>1</td>\n      <td>...</td>\n      <td>NaN</td>\n      <td>NaN</td>\n      <td>7.0</td>\n      <td>1.0</td>\n      <td>4.0</td>\n      <td>3.0</td>\n      <td>1.7</td>\n      <td>5.0</td>\n      <td>5.8</td>\n      <td>5.0</td>\n    </tr>\n    <tr>\n      <th>85854</th>\n      <td>tt9914942</td>\n      <td>6.7</td>\n      <td>102</td>\n      <td>6.8</td>\n      <td>7.0</td>\n      <td>4</td>\n      <td>4</td>\n      <td>21</td>\n      <td>35</td>\n      <td>27</td>\n      <td>...</td>\n      <td>6.8</td>\n      <td>4.0</td>\n      <td>7.5</td>\n      <td>4.0</td>\n      <td>7.0</td>\n      <td>4.0</td>\n      <td>6.7</td>\n      <td>13.0</td>\n      <td>6.7</td>\n      <td>60.0</td>\n    </tr>\n  </tbody>\n</table>\n<p>85855 rows × 49 columns</p>\n</div>"
     },
     "execution_count": 7,
     "metadata": {},
     "output_type": "execute_result"
    }
   ],
   "source": [
    "df_ratings"
   ],
   "metadata": {
    "collapsed": false
   }
  },
  {
   "cell_type": "code",
   "execution_count": 8,
   "outputs": [
    {
     "data": {
      "text/plain": "Index(['imdb_title_id', 'title', 'original_title', 'year', 'date_published',\n       'genre', 'duration', 'country', 'language', 'director', 'writer',\n       'production_company', 'actors', 'description', 'avg_vote', 'votes',\n       'budget', 'usa_gross_income', 'worlwide_gross_income', 'metascore',\n       'reviews_from_users', 'reviews_from_critics'],\n      dtype='object')"
     },
     "execution_count": 8,
     "metadata": {},
     "output_type": "execute_result"
    }
   ],
   "source": [
    "df_movies.columns"
   ],
   "metadata": {
    "collapsed": false
   }
  },
  {
   "cell_type": "code",
   "execution_count": 9,
   "outputs": [],
   "source": [
    "df_movies = df_movies[['imdb_title_id', 'title', 'year', 'genre', 'country']]\n",
    "df_ratings = df_ratings[['imdb_title_id', 'total_votes', 'mean_vote']]"
   ],
   "metadata": {
    "collapsed": false
   }
  },
  {
   "cell_type": "code",
   "execution_count": 10,
   "outputs": [
    {
     "data": {
      "text/plain": "      imdb_title_id                           title  year   \n0         tt0000009                      Miss Jerry  1894  \\\n1         tt0000574     The Story of the Kelly Gang  1906   \n2         tt0001892                  Den sorte drøm  1911   \n3         tt0002101                       Cleopatra  1912   \n4         tt0002130                       L'Inferno  1911   \n...             ...                             ...   ...   \n85850     tt9908390                         Le lion  2020   \n85851     tt9911196  De Beentjes van Sint-Hildegard  2020   \n85852     tt9911774       Padmavyuhathile Abhimanyu  2019   \n85853     tt9914286               Sokagin Çocuklari  2019   \n85854     tt9914942      La vida sense la Sara Amat  2019   \n\n                           genre           country  \n0                        Romance               USA  \n1        Biography, Crime, Drama         Australia  \n2                          Drama  Germany, Denmark  \n3                 Drama, History               USA  \n4      Adventure, Drama, Fantasy             Italy  \n...                          ...               ...  \n85850                     Comedy   France, Belgium  \n85851              Comedy, Drama       Netherlands  \n85852                      Drama             India  \n85853              Drama, Family            Turkey  \n85854                      Drama             Spain  \n\n[85855 rows x 5 columns]",
      "text/html": "<div>\n<style scoped>\n    .dataframe tbody tr th:only-of-type {\n        vertical-align: middle;\n    }\n\n    .dataframe tbody tr th {\n        vertical-align: top;\n    }\n\n    .dataframe thead th {\n        text-align: right;\n    }\n</style>\n<table border=\"1\" class=\"dataframe\">\n  <thead>\n    <tr style=\"text-align: right;\">\n      <th></th>\n      <th>imdb_title_id</th>\n      <th>title</th>\n      <th>year</th>\n      <th>genre</th>\n      <th>country</th>\n    </tr>\n  </thead>\n  <tbody>\n    <tr>\n      <th>0</th>\n      <td>tt0000009</td>\n      <td>Miss Jerry</td>\n      <td>1894</td>\n      <td>Romance</td>\n      <td>USA</td>\n    </tr>\n    <tr>\n      <th>1</th>\n      <td>tt0000574</td>\n      <td>The Story of the Kelly Gang</td>\n      <td>1906</td>\n      <td>Biography, Crime, Drama</td>\n      <td>Australia</td>\n    </tr>\n    <tr>\n      <th>2</th>\n      <td>tt0001892</td>\n      <td>Den sorte drøm</td>\n      <td>1911</td>\n      <td>Drama</td>\n      <td>Germany, Denmark</td>\n    </tr>\n    <tr>\n      <th>3</th>\n      <td>tt0002101</td>\n      <td>Cleopatra</td>\n      <td>1912</td>\n      <td>Drama, History</td>\n      <td>USA</td>\n    </tr>\n    <tr>\n      <th>4</th>\n      <td>tt0002130</td>\n      <td>L'Inferno</td>\n      <td>1911</td>\n      <td>Adventure, Drama, Fantasy</td>\n      <td>Italy</td>\n    </tr>\n    <tr>\n      <th>...</th>\n      <td>...</td>\n      <td>...</td>\n      <td>...</td>\n      <td>...</td>\n      <td>...</td>\n    </tr>\n    <tr>\n      <th>85850</th>\n      <td>tt9908390</td>\n      <td>Le lion</td>\n      <td>2020</td>\n      <td>Comedy</td>\n      <td>France, Belgium</td>\n    </tr>\n    <tr>\n      <th>85851</th>\n      <td>tt9911196</td>\n      <td>De Beentjes van Sint-Hildegard</td>\n      <td>2020</td>\n      <td>Comedy, Drama</td>\n      <td>Netherlands</td>\n    </tr>\n    <tr>\n      <th>85852</th>\n      <td>tt9911774</td>\n      <td>Padmavyuhathile Abhimanyu</td>\n      <td>2019</td>\n      <td>Drama</td>\n      <td>India</td>\n    </tr>\n    <tr>\n      <th>85853</th>\n      <td>tt9914286</td>\n      <td>Sokagin Çocuklari</td>\n      <td>2019</td>\n      <td>Drama, Family</td>\n      <td>Turkey</td>\n    </tr>\n    <tr>\n      <th>85854</th>\n      <td>tt9914942</td>\n      <td>La vida sense la Sara Amat</td>\n      <td>2019</td>\n      <td>Drama</td>\n      <td>Spain</td>\n    </tr>\n  </tbody>\n</table>\n<p>85855 rows × 5 columns</p>\n</div>"
     },
     "execution_count": 10,
     "metadata": {},
     "output_type": "execute_result"
    }
   ],
   "source": [
    "df_movies"
   ],
   "metadata": {
    "collapsed": false
   }
  },
  {
   "cell_type": "code",
   "execution_count": 11,
   "outputs": [
    {
     "data": {
      "text/plain": "      imdb_title_id  total_votes  mean_vote\n0         tt0000009          154        5.9\n1         tt0000574          589        6.3\n2         tt0001892          188        6.0\n3         tt0002101          446        5.3\n4         tt0002130         2237        6.9\n...             ...          ...        ...\n85850     tt9908390          398        5.5\n85851     tt9911196          724        7.9\n85852     tt9911774          265        7.8\n85853     tt9914286          194        9.4\n85854     tt9914942          102        6.8\n\n[85855 rows x 3 columns]",
      "text/html": "<div>\n<style scoped>\n    .dataframe tbody tr th:only-of-type {\n        vertical-align: middle;\n    }\n\n    .dataframe tbody tr th {\n        vertical-align: top;\n    }\n\n    .dataframe thead th {\n        text-align: right;\n    }\n</style>\n<table border=\"1\" class=\"dataframe\">\n  <thead>\n    <tr style=\"text-align: right;\">\n      <th></th>\n      <th>imdb_title_id</th>\n      <th>total_votes</th>\n      <th>mean_vote</th>\n    </tr>\n  </thead>\n  <tbody>\n    <tr>\n      <th>0</th>\n      <td>tt0000009</td>\n      <td>154</td>\n      <td>5.9</td>\n    </tr>\n    <tr>\n      <th>1</th>\n      <td>tt0000574</td>\n      <td>589</td>\n      <td>6.3</td>\n    </tr>\n    <tr>\n      <th>2</th>\n      <td>tt0001892</td>\n      <td>188</td>\n      <td>6.0</td>\n    </tr>\n    <tr>\n      <th>3</th>\n      <td>tt0002101</td>\n      <td>446</td>\n      <td>5.3</td>\n    </tr>\n    <tr>\n      <th>4</th>\n      <td>tt0002130</td>\n      <td>2237</td>\n      <td>6.9</td>\n    </tr>\n    <tr>\n      <th>...</th>\n      <td>...</td>\n      <td>...</td>\n      <td>...</td>\n    </tr>\n    <tr>\n      <th>85850</th>\n      <td>tt9908390</td>\n      <td>398</td>\n      <td>5.5</td>\n    </tr>\n    <tr>\n      <th>85851</th>\n      <td>tt9911196</td>\n      <td>724</td>\n      <td>7.9</td>\n    </tr>\n    <tr>\n      <th>85852</th>\n      <td>tt9911774</td>\n      <td>265</td>\n      <td>7.8</td>\n    </tr>\n    <tr>\n      <th>85853</th>\n      <td>tt9914286</td>\n      <td>194</td>\n      <td>9.4</td>\n    </tr>\n    <tr>\n      <th>85854</th>\n      <td>tt9914942</td>\n      <td>102</td>\n      <td>6.8</td>\n    </tr>\n  </tbody>\n</table>\n<p>85855 rows × 3 columns</p>\n</div>"
     },
     "execution_count": 11,
     "metadata": {},
     "output_type": "execute_result"
    }
   ],
   "source": [
    "df_ratings"
   ],
   "metadata": {
    "collapsed": false
   }
  },
  {
   "cell_type": "markdown",
   "source": [],
   "metadata": {
    "collapsed": false
   }
  },
  {
   "cell_type": "code",
   "execution_count": 12,
   "outputs": [
    {
     "data": {
      "text/plain": "      imdb_title_id                       title  year   \n46709     tt0436721                 Ri ri ye ye  2004  \\\n41435     tt0308290           Fung hung bei Cup  2002   \n22099     tt0089671                 Nattseilere  1986   \n69185     tt2941274                  Sari siyah  2013   \n54378     tt1131743                    Necrosis  2009   \n...             ...                         ...   ...   \n51366     tt0905372                     La cosa  2011   \n5899      tt0040559  La macchina ammazzacattivi  1952   \n58224     tt1447508               Peepli [Live]  2010   \n27504     tt0107618             Vendetta eterna  1993   \n18362     tt0077304      Il gatto e il canarino  1978   \n\n                         genre          country  \n46709                    Drama    China, France  \n41435                   Comedy        Hong Kong  \n22099         Adventure, Drama           Norway  \n69185      Drama, History, War           Turkey  \n54378         Horror, Thriller              USA  \n...                        ...              ...  \n51366  Horror, Mystery, Sci-Fi  Canada, USA, UK  \n5899           Comedy, Fantasy            Italy  \n58224            Comedy, Drama            India  \n27504                   Horror              USA  \n18362  Comedy, Mystery, Horror               UK  \n\n[42928 rows x 5 columns]",
      "text/html": "<div>\n<style scoped>\n    .dataframe tbody tr th:only-of-type {\n        vertical-align: middle;\n    }\n\n    .dataframe tbody tr th {\n        vertical-align: top;\n    }\n\n    .dataframe thead th {\n        text-align: right;\n    }\n</style>\n<table border=\"1\" class=\"dataframe\">\n  <thead>\n    <tr style=\"text-align: right;\">\n      <th></th>\n      <th>imdb_title_id</th>\n      <th>title</th>\n      <th>year</th>\n      <th>genre</th>\n      <th>country</th>\n    </tr>\n  </thead>\n  <tbody>\n    <tr>\n      <th>46709</th>\n      <td>tt0436721</td>\n      <td>Ri ri ye ye</td>\n      <td>2004</td>\n      <td>Drama</td>\n      <td>China, France</td>\n    </tr>\n    <tr>\n      <th>41435</th>\n      <td>tt0308290</td>\n      <td>Fung hung bei Cup</td>\n      <td>2002</td>\n      <td>Comedy</td>\n      <td>Hong Kong</td>\n    </tr>\n    <tr>\n      <th>22099</th>\n      <td>tt0089671</td>\n      <td>Nattseilere</td>\n      <td>1986</td>\n      <td>Adventure, Drama</td>\n      <td>Norway</td>\n    </tr>\n    <tr>\n      <th>69185</th>\n      <td>tt2941274</td>\n      <td>Sari siyah</td>\n      <td>2013</td>\n      <td>Drama, History, War</td>\n      <td>Turkey</td>\n    </tr>\n    <tr>\n      <th>54378</th>\n      <td>tt1131743</td>\n      <td>Necrosis</td>\n      <td>2009</td>\n      <td>Horror, Thriller</td>\n      <td>USA</td>\n    </tr>\n    <tr>\n      <th>...</th>\n      <td>...</td>\n      <td>...</td>\n      <td>...</td>\n      <td>...</td>\n      <td>...</td>\n    </tr>\n    <tr>\n      <th>51366</th>\n      <td>tt0905372</td>\n      <td>La cosa</td>\n      <td>2011</td>\n      <td>Horror, Mystery, Sci-Fi</td>\n      <td>Canada, USA, UK</td>\n    </tr>\n    <tr>\n      <th>5899</th>\n      <td>tt0040559</td>\n      <td>La macchina ammazzacattivi</td>\n      <td>1952</td>\n      <td>Comedy, Fantasy</td>\n      <td>Italy</td>\n    </tr>\n    <tr>\n      <th>58224</th>\n      <td>tt1447508</td>\n      <td>Peepli [Live]</td>\n      <td>2010</td>\n      <td>Comedy, Drama</td>\n      <td>India</td>\n    </tr>\n    <tr>\n      <th>27504</th>\n      <td>tt0107618</td>\n      <td>Vendetta eterna</td>\n      <td>1993</td>\n      <td>Horror</td>\n      <td>USA</td>\n    </tr>\n    <tr>\n      <th>18362</th>\n      <td>tt0077304</td>\n      <td>Il gatto e il canarino</td>\n      <td>1978</td>\n      <td>Comedy, Mystery, Horror</td>\n      <td>UK</td>\n    </tr>\n  </tbody>\n</table>\n<p>42928 rows × 5 columns</p>\n</div>"
     },
     "execution_count": 12,
     "metadata": {},
     "output_type": "execute_result"
    }
   ],
   "source": [
    "df_sample = df_movies.sample(frac=0.5)\n",
    "df_sample"
   ],
   "metadata": {
    "collapsed": false
   }
  },
  {
   "cell_type": "code",
   "execution_count": 13,
   "outputs": [
    {
     "name": "stdout",
     "output_type": "stream",
     "text": [
      "(42928, 5)\n",
      "(85855, 5)\n"
     ]
    }
   ],
   "source": [
    "print(df_sample.shape)\n",
    "print(df_movies.shape)"
   ],
   "metadata": {
    "collapsed": false
   }
  },
  {
   "cell_type": "code",
   "execution_count": 14,
   "outputs": [
    {
     "data": {
      "text/plain": "(128783, 5)"
     },
     "execution_count": 14,
     "metadata": {},
     "output_type": "execute_result"
    }
   ],
   "source": [
    "df_concat = pd.concat([df_movies, df_sample])\n",
    "df_concat.shape"
   ],
   "metadata": {
    "collapsed": false
   }
  },
  {
   "cell_type": "code",
   "execution_count": 15,
   "outputs": [
    {
     "data": {
      "text/plain": "                                        title  year   \nimdb_title_id                                         \ntt0000009                          Miss Jerry  1894  \\\ntt0000574         The Story of the Kelly Gang  1906   \ntt0001892                      Den sorte drøm  1911   \ntt0002101                           Cleopatra  1912   \ntt0002130                           L'Inferno  1911   \n...                                       ...   ...   \ntt9908390                             Le lion  2020   \ntt9911196      De Beentjes van Sint-Hildegard  2020   \ntt9911774           Padmavyuhathile Abhimanyu  2019   \ntt9914286                   Sokagin Çocuklari  2019   \ntt9914942          La vida sense la Sara Amat  2019   \n\n                                   genre           country  \nimdb_title_id                                               \ntt0000009                        Romance               USA  \ntt0000574        Biography, Crime, Drama         Australia  \ntt0001892                          Drama  Germany, Denmark  \ntt0002101                 Drama, History               USA  \ntt0002130      Adventure, Drama, Fantasy             Italy  \n...                                  ...               ...  \ntt9908390                         Comedy   France, Belgium  \ntt9911196                  Comedy, Drama       Netherlands  \ntt9911774                          Drama             India  \ntt9914286                  Drama, Family            Turkey  \ntt9914942                          Drama             Spain  \n\n[85855 rows x 4 columns]",
      "text/html": "<div>\n<style scoped>\n    .dataframe tbody tr th:only-of-type {\n        vertical-align: middle;\n    }\n\n    .dataframe tbody tr th {\n        vertical-align: top;\n    }\n\n    .dataframe thead th {\n        text-align: right;\n    }\n</style>\n<table border=\"1\" class=\"dataframe\">\n  <thead>\n    <tr style=\"text-align: right;\">\n      <th></th>\n      <th>title</th>\n      <th>year</th>\n      <th>genre</th>\n      <th>country</th>\n    </tr>\n    <tr>\n      <th>imdb_title_id</th>\n      <th></th>\n      <th></th>\n      <th></th>\n      <th></th>\n    </tr>\n  </thead>\n  <tbody>\n    <tr>\n      <th>tt0000009</th>\n      <td>Miss Jerry</td>\n      <td>1894</td>\n      <td>Romance</td>\n      <td>USA</td>\n    </tr>\n    <tr>\n      <th>tt0000574</th>\n      <td>The Story of the Kelly Gang</td>\n      <td>1906</td>\n      <td>Biography, Crime, Drama</td>\n      <td>Australia</td>\n    </tr>\n    <tr>\n      <th>tt0001892</th>\n      <td>Den sorte drøm</td>\n      <td>1911</td>\n      <td>Drama</td>\n      <td>Germany, Denmark</td>\n    </tr>\n    <tr>\n      <th>tt0002101</th>\n      <td>Cleopatra</td>\n      <td>1912</td>\n      <td>Drama, History</td>\n      <td>USA</td>\n    </tr>\n    <tr>\n      <th>tt0002130</th>\n      <td>L'Inferno</td>\n      <td>1911</td>\n      <td>Adventure, Drama, Fantasy</td>\n      <td>Italy</td>\n    </tr>\n    <tr>\n      <th>...</th>\n      <td>...</td>\n      <td>...</td>\n      <td>...</td>\n      <td>...</td>\n    </tr>\n    <tr>\n      <th>tt9908390</th>\n      <td>Le lion</td>\n      <td>2020</td>\n      <td>Comedy</td>\n      <td>France, Belgium</td>\n    </tr>\n    <tr>\n      <th>tt9911196</th>\n      <td>De Beentjes van Sint-Hildegard</td>\n      <td>2020</td>\n      <td>Comedy, Drama</td>\n      <td>Netherlands</td>\n    </tr>\n    <tr>\n      <th>tt9911774</th>\n      <td>Padmavyuhathile Abhimanyu</td>\n      <td>2019</td>\n      <td>Drama</td>\n      <td>India</td>\n    </tr>\n    <tr>\n      <th>tt9914286</th>\n      <td>Sokagin Çocuklari</td>\n      <td>2019</td>\n      <td>Drama, Family</td>\n      <td>Turkey</td>\n    </tr>\n    <tr>\n      <th>tt9914942</th>\n      <td>La vida sense la Sara Amat</td>\n      <td>2019</td>\n      <td>Drama</td>\n      <td>Spain</td>\n    </tr>\n  </tbody>\n</table>\n<p>85855 rows × 4 columns</p>\n</div>"
     },
     "execution_count": 15,
     "metadata": {},
     "output_type": "execute_result"
    }
   ],
   "source": [
    "df_movies.set_index('imdb_title_id', inplace=True)\n",
    "df_ratings.set_index('imdb_title_id', inplace=True)\n",
    "df_movies"
   ],
   "metadata": {
    "collapsed": false
   }
  },
  {
   "cell_type": "code",
   "execution_count": 16,
   "outputs": [
    {
     "data": {
      "text/plain": "                                     title  year                      genre   \nimdb_title_id                                                                 \ntt0000009                       Miss Jerry  1894                    Romance  \\\ntt0000574      The Story of the Kelly Gang  1906    Biography, Crime, Drama   \ntt0001892                   Den sorte drøm  1911                      Drama   \ntt0002101                        Cleopatra  1912             Drama, History   \ntt0002130                        L'Inferno  1911  Adventure, Drama, Fantasy   \n...                                    ...   ...                        ...   \ntt9908390                              NaN   NaN                        NaN   \ntt9911196                              NaN   NaN                        NaN   \ntt9911774                              NaN   NaN                        NaN   \ntt9914286                              NaN   NaN                        NaN   \ntt9914942                              NaN   NaN                        NaN   \n\n                        country  total_votes  mean_vote  \nimdb_title_id                                            \ntt0000009                   USA          NaN        NaN  \ntt0000574             Australia          NaN        NaN  \ntt0001892      Germany, Denmark          NaN        NaN  \ntt0002101                   USA          NaN        NaN  \ntt0002130                 Italy          NaN        NaN  \n...                         ...          ...        ...  \ntt9908390                   NaN        398.0        5.5  \ntt9911196                   NaN        724.0        7.9  \ntt9911774                   NaN        265.0        7.8  \ntt9914286                   NaN        194.0        9.4  \ntt9914942                   NaN        102.0        6.8  \n\n[171710 rows x 6 columns]",
      "text/html": "<div>\n<style scoped>\n    .dataframe tbody tr th:only-of-type {\n        vertical-align: middle;\n    }\n\n    .dataframe tbody tr th {\n        vertical-align: top;\n    }\n\n    .dataframe thead th {\n        text-align: right;\n    }\n</style>\n<table border=\"1\" class=\"dataframe\">\n  <thead>\n    <tr style=\"text-align: right;\">\n      <th></th>\n      <th>title</th>\n      <th>year</th>\n      <th>genre</th>\n      <th>country</th>\n      <th>total_votes</th>\n      <th>mean_vote</th>\n    </tr>\n    <tr>\n      <th>imdb_title_id</th>\n      <th></th>\n      <th></th>\n      <th></th>\n      <th></th>\n      <th></th>\n      <th></th>\n    </tr>\n  </thead>\n  <tbody>\n    <tr>\n      <th>tt0000009</th>\n      <td>Miss Jerry</td>\n      <td>1894</td>\n      <td>Romance</td>\n      <td>USA</td>\n      <td>NaN</td>\n      <td>NaN</td>\n    </tr>\n    <tr>\n      <th>tt0000574</th>\n      <td>The Story of the Kelly Gang</td>\n      <td>1906</td>\n      <td>Biography, Crime, Drama</td>\n      <td>Australia</td>\n      <td>NaN</td>\n      <td>NaN</td>\n    </tr>\n    <tr>\n      <th>tt0001892</th>\n      <td>Den sorte drøm</td>\n      <td>1911</td>\n      <td>Drama</td>\n      <td>Germany, Denmark</td>\n      <td>NaN</td>\n      <td>NaN</td>\n    </tr>\n    <tr>\n      <th>tt0002101</th>\n      <td>Cleopatra</td>\n      <td>1912</td>\n      <td>Drama, History</td>\n      <td>USA</td>\n      <td>NaN</td>\n      <td>NaN</td>\n    </tr>\n    <tr>\n      <th>tt0002130</th>\n      <td>L'Inferno</td>\n      <td>1911</td>\n      <td>Adventure, Drama, Fantasy</td>\n      <td>Italy</td>\n      <td>NaN</td>\n      <td>NaN</td>\n    </tr>\n    <tr>\n      <th>...</th>\n      <td>...</td>\n      <td>...</td>\n      <td>...</td>\n      <td>...</td>\n      <td>...</td>\n      <td>...</td>\n    </tr>\n    <tr>\n      <th>tt9908390</th>\n      <td>NaN</td>\n      <td>NaN</td>\n      <td>NaN</td>\n      <td>NaN</td>\n      <td>398.0</td>\n      <td>5.5</td>\n    </tr>\n    <tr>\n      <th>tt9911196</th>\n      <td>NaN</td>\n      <td>NaN</td>\n      <td>NaN</td>\n      <td>NaN</td>\n      <td>724.0</td>\n      <td>7.9</td>\n    </tr>\n    <tr>\n      <th>tt9911774</th>\n      <td>NaN</td>\n      <td>NaN</td>\n      <td>NaN</td>\n      <td>NaN</td>\n      <td>265.0</td>\n      <td>7.8</td>\n    </tr>\n    <tr>\n      <th>tt9914286</th>\n      <td>NaN</td>\n      <td>NaN</td>\n      <td>NaN</td>\n      <td>NaN</td>\n      <td>194.0</td>\n      <td>9.4</td>\n    </tr>\n    <tr>\n      <th>tt9914942</th>\n      <td>NaN</td>\n      <td>NaN</td>\n      <td>NaN</td>\n      <td>NaN</td>\n      <td>102.0</td>\n      <td>6.8</td>\n    </tr>\n  </tbody>\n</table>\n<p>171710 rows × 6 columns</p>\n</div>"
     },
     "execution_count": 16,
     "metadata": {},
     "output_type": "execute_result"
    }
   ],
   "source": [
    "df_concat_horiz = pd.concat([df_movies, df_ratings])\n",
    "df_concat_horiz"
   ],
   "metadata": {
    "collapsed": false
   }
  },
  {
   "cell_type": "code",
   "execution_count": 17,
   "outputs": [
    {
     "data": {
      "text/plain": "                                        title  year   \nimdb_title_id                                         \ntt0000009                          Miss Jerry  1894  \\\ntt0000574         The Story of the Kelly Gang  1906   \ntt0001892                      Den sorte drøm  1911   \ntt0002101                           Cleopatra  1912   \ntt0002130                           L'Inferno  1911   \n...                                       ...   ...   \ntt9908390                             Le lion  2020   \ntt9911196      De Beentjes van Sint-Hildegard  2020   \ntt9911774           Padmavyuhathile Abhimanyu  2019   \ntt9914286                   Sokagin Çocuklari  2019   \ntt9914942          La vida sense la Sara Amat  2019   \n\n                                   genre           country  \nimdb_title_id                                               \ntt0000009                        Romance               USA  \ntt0000574        Biography, Crime, Drama         Australia  \ntt0001892                          Drama  Germany, Denmark  \ntt0002101                 Drama, History               USA  \ntt0002130      Adventure, Drama, Fantasy             Italy  \n...                                  ...               ...  \ntt9908390                         Comedy   France, Belgium  \ntt9911196                  Comedy, Drama       Netherlands  \ntt9911774                          Drama             India  \ntt9914286                  Drama, Family            Turkey  \ntt9914942                          Drama             Spain  \n\n[85855 rows x 4 columns]",
      "text/html": "<div>\n<style scoped>\n    .dataframe tbody tr th:only-of-type {\n        vertical-align: middle;\n    }\n\n    .dataframe tbody tr th {\n        vertical-align: top;\n    }\n\n    .dataframe thead th {\n        text-align: right;\n    }\n</style>\n<table border=\"1\" class=\"dataframe\">\n  <thead>\n    <tr style=\"text-align: right;\">\n      <th></th>\n      <th>title</th>\n      <th>year</th>\n      <th>genre</th>\n      <th>country</th>\n    </tr>\n    <tr>\n      <th>imdb_title_id</th>\n      <th></th>\n      <th></th>\n      <th></th>\n      <th></th>\n    </tr>\n  </thead>\n  <tbody>\n    <tr>\n      <th>tt0000009</th>\n      <td>Miss Jerry</td>\n      <td>1894</td>\n      <td>Romance</td>\n      <td>USA</td>\n    </tr>\n    <tr>\n      <th>tt0000574</th>\n      <td>The Story of the Kelly Gang</td>\n      <td>1906</td>\n      <td>Biography, Crime, Drama</td>\n      <td>Australia</td>\n    </tr>\n    <tr>\n      <th>tt0001892</th>\n      <td>Den sorte drøm</td>\n      <td>1911</td>\n      <td>Drama</td>\n      <td>Germany, Denmark</td>\n    </tr>\n    <tr>\n      <th>tt0002101</th>\n      <td>Cleopatra</td>\n      <td>1912</td>\n      <td>Drama, History</td>\n      <td>USA</td>\n    </tr>\n    <tr>\n      <th>tt0002130</th>\n      <td>L'Inferno</td>\n      <td>1911</td>\n      <td>Adventure, Drama, Fantasy</td>\n      <td>Italy</td>\n    </tr>\n    <tr>\n      <th>...</th>\n      <td>...</td>\n      <td>...</td>\n      <td>...</td>\n      <td>...</td>\n    </tr>\n    <tr>\n      <th>tt9908390</th>\n      <td>Le lion</td>\n      <td>2020</td>\n      <td>Comedy</td>\n      <td>France, Belgium</td>\n    </tr>\n    <tr>\n      <th>tt9911196</th>\n      <td>De Beentjes van Sint-Hildegard</td>\n      <td>2020</td>\n      <td>Comedy, Drama</td>\n      <td>Netherlands</td>\n    </tr>\n    <tr>\n      <th>tt9911774</th>\n      <td>Padmavyuhathile Abhimanyu</td>\n      <td>2019</td>\n      <td>Drama</td>\n      <td>India</td>\n    </tr>\n    <tr>\n      <th>tt9914286</th>\n      <td>Sokagin Çocuklari</td>\n      <td>2019</td>\n      <td>Drama, Family</td>\n      <td>Turkey</td>\n    </tr>\n    <tr>\n      <th>tt9914942</th>\n      <td>La vida sense la Sara Amat</td>\n      <td>2019</td>\n      <td>Drama</td>\n      <td>Spain</td>\n    </tr>\n  </tbody>\n</table>\n<p>85855 rows × 4 columns</p>\n</div>"
     },
     "execution_count": 17,
     "metadata": {},
     "output_type": "execute_result"
    }
   ],
   "source": [
    "df_movies"
   ],
   "metadata": {
    "collapsed": false
   }
  },
  {
   "cell_type": "code",
   "execution_count": 18,
   "outputs": [
    {
     "data": {
      "text/plain": "               total_votes  mean_vote\nimdb_title_id                        \ntt0000009              154        5.9\ntt0000574              589        6.3\ntt0001892              188        6.0\ntt0002101              446        5.3\ntt0002130             2237        6.9\n...                    ...        ...\ntt9908390              398        5.5\ntt9911196              724        7.9\ntt9911774              265        7.8\ntt9914286              194        9.4\ntt9914942              102        6.8\n\n[85855 rows x 2 columns]",
      "text/html": "<div>\n<style scoped>\n    .dataframe tbody tr th:only-of-type {\n        vertical-align: middle;\n    }\n\n    .dataframe tbody tr th {\n        vertical-align: top;\n    }\n\n    .dataframe thead th {\n        text-align: right;\n    }\n</style>\n<table border=\"1\" class=\"dataframe\">\n  <thead>\n    <tr style=\"text-align: right;\">\n      <th></th>\n      <th>total_votes</th>\n      <th>mean_vote</th>\n    </tr>\n    <tr>\n      <th>imdb_title_id</th>\n      <th></th>\n      <th></th>\n    </tr>\n  </thead>\n  <tbody>\n    <tr>\n      <th>tt0000009</th>\n      <td>154</td>\n      <td>5.9</td>\n    </tr>\n    <tr>\n      <th>tt0000574</th>\n      <td>589</td>\n      <td>6.3</td>\n    </tr>\n    <tr>\n      <th>tt0001892</th>\n      <td>188</td>\n      <td>6.0</td>\n    </tr>\n    <tr>\n      <th>tt0002101</th>\n      <td>446</td>\n      <td>5.3</td>\n    </tr>\n    <tr>\n      <th>tt0002130</th>\n      <td>2237</td>\n      <td>6.9</td>\n    </tr>\n    <tr>\n      <th>...</th>\n      <td>...</td>\n      <td>...</td>\n    </tr>\n    <tr>\n      <th>tt9908390</th>\n      <td>398</td>\n      <td>5.5</td>\n    </tr>\n    <tr>\n      <th>tt9911196</th>\n      <td>724</td>\n      <td>7.9</td>\n    </tr>\n    <tr>\n      <th>tt9911774</th>\n      <td>265</td>\n      <td>7.8</td>\n    </tr>\n    <tr>\n      <th>tt9914286</th>\n      <td>194</td>\n      <td>9.4</td>\n    </tr>\n    <tr>\n      <th>tt9914942</th>\n      <td>102</td>\n      <td>6.8</td>\n    </tr>\n  </tbody>\n</table>\n<p>85855 rows × 2 columns</p>\n</div>"
     },
     "execution_count": 18,
     "metadata": {},
     "output_type": "execute_result"
    }
   ],
   "source": [
    "df_ratings"
   ],
   "metadata": {
    "collapsed": false
   }
  },
  {
   "cell_type": "code",
   "execution_count": 19,
   "outputs": [
    {
     "data": {
      "text/plain": "                                        title  year   \nimdb_title_id                                         \ntt0000009                          Miss Jerry  1894  \\\ntt0000574         The Story of the Kelly Gang  1906   \ntt0001892                      Den sorte drøm  1911   \ntt0002101                           Cleopatra  1912   \ntt0002130                           L'Inferno  1911   \n...                                       ...   ...   \ntt9908390                             Le lion  2020   \ntt9911196      De Beentjes van Sint-Hildegard  2020   \ntt9911774           Padmavyuhathile Abhimanyu  2019   \ntt9914286                   Sokagin Çocuklari  2019   \ntt9914942          La vida sense la Sara Amat  2019   \n\n                                   genre           country  total_votes   \nimdb_title_id                                                             \ntt0000009                        Romance               USA          154  \\\ntt0000574        Biography, Crime, Drama         Australia          589   \ntt0001892                          Drama  Germany, Denmark          188   \ntt0002101                 Drama, History               USA          446   \ntt0002130      Adventure, Drama, Fantasy             Italy         2237   \n...                                  ...               ...          ...   \ntt9908390                         Comedy   France, Belgium          398   \ntt9911196                  Comedy, Drama       Netherlands          724   \ntt9911774                          Drama             India          265   \ntt9914286                  Drama, Family            Turkey          194   \ntt9914942                          Drama             Spain          102   \n\n               mean_vote  \nimdb_title_id             \ntt0000009            5.9  \ntt0000574            6.3  \ntt0001892            6.0  \ntt0002101            5.3  \ntt0002130            6.9  \n...                  ...  \ntt9908390            5.5  \ntt9911196            7.9  \ntt9911774            7.8  \ntt9914286            9.4  \ntt9914942            6.8  \n\n[85855 rows x 6 columns]",
      "text/html": "<div>\n<style scoped>\n    .dataframe tbody tr th:only-of-type {\n        vertical-align: middle;\n    }\n\n    .dataframe tbody tr th {\n        vertical-align: top;\n    }\n\n    .dataframe thead th {\n        text-align: right;\n    }\n</style>\n<table border=\"1\" class=\"dataframe\">\n  <thead>\n    <tr style=\"text-align: right;\">\n      <th></th>\n      <th>title</th>\n      <th>year</th>\n      <th>genre</th>\n      <th>country</th>\n      <th>total_votes</th>\n      <th>mean_vote</th>\n    </tr>\n    <tr>\n      <th>imdb_title_id</th>\n      <th></th>\n      <th></th>\n      <th></th>\n      <th></th>\n      <th></th>\n      <th></th>\n    </tr>\n  </thead>\n  <tbody>\n    <tr>\n      <th>tt0000009</th>\n      <td>Miss Jerry</td>\n      <td>1894</td>\n      <td>Romance</td>\n      <td>USA</td>\n      <td>154</td>\n      <td>5.9</td>\n    </tr>\n    <tr>\n      <th>tt0000574</th>\n      <td>The Story of the Kelly Gang</td>\n      <td>1906</td>\n      <td>Biography, Crime, Drama</td>\n      <td>Australia</td>\n      <td>589</td>\n      <td>6.3</td>\n    </tr>\n    <tr>\n      <th>tt0001892</th>\n      <td>Den sorte drøm</td>\n      <td>1911</td>\n      <td>Drama</td>\n      <td>Germany, Denmark</td>\n      <td>188</td>\n      <td>6.0</td>\n    </tr>\n    <tr>\n      <th>tt0002101</th>\n      <td>Cleopatra</td>\n      <td>1912</td>\n      <td>Drama, History</td>\n      <td>USA</td>\n      <td>446</td>\n      <td>5.3</td>\n    </tr>\n    <tr>\n      <th>tt0002130</th>\n      <td>L'Inferno</td>\n      <td>1911</td>\n      <td>Adventure, Drama, Fantasy</td>\n      <td>Italy</td>\n      <td>2237</td>\n      <td>6.9</td>\n    </tr>\n    <tr>\n      <th>...</th>\n      <td>...</td>\n      <td>...</td>\n      <td>...</td>\n      <td>...</td>\n      <td>...</td>\n      <td>...</td>\n    </tr>\n    <tr>\n      <th>tt9908390</th>\n      <td>Le lion</td>\n      <td>2020</td>\n      <td>Comedy</td>\n      <td>France, Belgium</td>\n      <td>398</td>\n      <td>5.5</td>\n    </tr>\n    <tr>\n      <th>tt9911196</th>\n      <td>De Beentjes van Sint-Hildegard</td>\n      <td>2020</td>\n      <td>Comedy, Drama</td>\n      <td>Netherlands</td>\n      <td>724</td>\n      <td>7.9</td>\n    </tr>\n    <tr>\n      <th>tt9911774</th>\n      <td>Padmavyuhathile Abhimanyu</td>\n      <td>2019</td>\n      <td>Drama</td>\n      <td>India</td>\n      <td>265</td>\n      <td>7.8</td>\n    </tr>\n    <tr>\n      <th>tt9914286</th>\n      <td>Sokagin Çocuklari</td>\n      <td>2019</td>\n      <td>Drama, Family</td>\n      <td>Turkey</td>\n      <td>194</td>\n      <td>9.4</td>\n    </tr>\n    <tr>\n      <th>tt9914942</th>\n      <td>La vida sense la Sara Amat</td>\n      <td>2019</td>\n      <td>Drama</td>\n      <td>Spain</td>\n      <td>102</td>\n      <td>6.8</td>\n    </tr>\n  </tbody>\n</table>\n<p>85855 rows × 6 columns</p>\n</div>"
     },
     "execution_count": 19,
     "metadata": {},
     "output_type": "execute_result"
    }
   ],
   "source": [
    "df_inner_join = df_movies.merge(df_ratings, on='imdb_title_id', how='inner')\n",
    "df_inner_join"
   ],
   "metadata": {
    "collapsed": false
   }
  },
  {
   "cell_type": "code",
   "execution_count": 20,
   "outputs": [
    {
     "data": {
      "text/plain": "(85855, 6)"
     },
     "execution_count": 20,
     "metadata": {},
     "output_type": "execute_result"
    }
   ],
   "source": [
    "df_inner_join.shape"
   ],
   "metadata": {
    "collapsed": false
   }
  },
  {
   "cell_type": "code",
   "execution_count": 21,
   "outputs": [
    {
     "data": {
      "text/plain": "(85855, 4)"
     },
     "execution_count": 21,
     "metadata": {},
     "output_type": "execute_result"
    }
   ],
   "source": [
    "df_movies.shape"
   ],
   "metadata": {
    "collapsed": false
   }
  },
  {
   "cell_type": "code",
   "execution_count": 36,
   "outputs": [
    {
     "data": {
      "text/plain": "Empty DataFrame\nColumns: [title, year, genre, country, total_votes, mean_vote, _merge]\nIndex: []",
      "text/html": "<div>\n<style scoped>\n    .dataframe tbody tr th:only-of-type {\n        vertical-align: middle;\n    }\n\n    .dataframe tbody tr th {\n        vertical-align: top;\n    }\n\n    .dataframe thead th {\n        text-align: right;\n    }\n</style>\n<table border=\"1\" class=\"dataframe\">\n  <thead>\n    <tr style=\"text-align: right;\">\n      <th></th>\n      <th>title</th>\n      <th>year</th>\n      <th>genre</th>\n      <th>country</th>\n      <th>total_votes</th>\n      <th>mean_vote</th>\n      <th>_merge</th>\n    </tr>\n    <tr>\n      <th>imdb_title_id</th>\n      <th></th>\n      <th></th>\n      <th></th>\n      <th></th>\n      <th></th>\n      <th></th>\n      <th></th>\n    </tr>\n  </thead>\n  <tbody>\n  </tbody>\n</table>\n</div>"
     },
     "execution_count": 36,
     "metadata": {},
     "output_type": "execute_result"
    }
   ],
   "source": [
    "df_full_outer_join = df_movies.merge(df_ratings, on='imdb_title_id', how='outer', indicator=True)\n",
    "df_full_outer_join.query(\"_merge=='left_only' or _merge=='right_only'\")"
   ],
   "metadata": {
    "collapsed": false
   }
  },
  {
   "cell_type": "code",
   "execution_count": 46,
   "outputs": [],
   "source": [
    "df_sample_2 = df_movies.sample(frac=0.5)"
   ],
   "metadata": {
    "collapsed": false
   }
  },
  {
   "cell_type": "code",
   "execution_count": 47,
   "outputs": [
    {
     "data": {
      "text/plain": "                                           title  year   \nimdb_title_id                                            \ntt0132502           The Secret Laughter of Women  1999  \\\ntt2800356      Benoît Brisefer: Les taxis rouges  2014   \ntt2636488                           Hello Carter  2013   \ntt0092926                            Dragon Hunt  1990   \ntt2341766                        Nautanki Saala!  2013   \n...                                          ...   ...   \ntt7935392                                  Limbo  2019   \ntt3924144                                 OzLand  2014   \ntt3044448                                  Jaanu  2012   \ntt0432432                               Rag Tale  2005   \ntt2038245                              Alzheimer  2011   \n\n                                   genre              country  \nimdb_title_id                                                  \ntt0132502         Comedy, Drama, Romance  UK, Canada, Nigeria  \ntt2800356      Adventure, Comedy, Family      France, Belgium  \ntt2636488                  Comedy, Drama                   UK  \ntt0092926                         Action               Canada  \ntt2341766                         Comedy                India  \n...                                  ...                  ...  \ntt7935392          Comedy, Drama, Horror                  USA  \ntt3924144         Drama, Fantasy, Sci-Fi                  USA  \ntt3044448         Action, Drama, Romance                India  \ntt0432432         Comedy, Romance, Drama       UK, Luxembourg  \ntt2038245         Drama, Family, Mystery                 Iran  \n\n[42928 rows x 4 columns]",
      "text/html": "<div>\n<style scoped>\n    .dataframe tbody tr th:only-of-type {\n        vertical-align: middle;\n    }\n\n    .dataframe tbody tr th {\n        vertical-align: top;\n    }\n\n    .dataframe thead th {\n        text-align: right;\n    }\n</style>\n<table border=\"1\" class=\"dataframe\">\n  <thead>\n    <tr style=\"text-align: right;\">\n      <th></th>\n      <th>title</th>\n      <th>year</th>\n      <th>genre</th>\n      <th>country</th>\n    </tr>\n    <tr>\n      <th>imdb_title_id</th>\n      <th></th>\n      <th></th>\n      <th></th>\n      <th></th>\n    </tr>\n  </thead>\n  <tbody>\n    <tr>\n      <th>tt0132502</th>\n      <td>The Secret Laughter of Women</td>\n      <td>1999</td>\n      <td>Comedy, Drama, Romance</td>\n      <td>UK, Canada, Nigeria</td>\n    </tr>\n    <tr>\n      <th>tt2800356</th>\n      <td>Benoît Brisefer: Les taxis rouges</td>\n      <td>2014</td>\n      <td>Adventure, Comedy, Family</td>\n      <td>France, Belgium</td>\n    </tr>\n    <tr>\n      <th>tt2636488</th>\n      <td>Hello Carter</td>\n      <td>2013</td>\n      <td>Comedy, Drama</td>\n      <td>UK</td>\n    </tr>\n    <tr>\n      <th>tt0092926</th>\n      <td>Dragon Hunt</td>\n      <td>1990</td>\n      <td>Action</td>\n      <td>Canada</td>\n    </tr>\n    <tr>\n      <th>tt2341766</th>\n      <td>Nautanki Saala!</td>\n      <td>2013</td>\n      <td>Comedy</td>\n      <td>India</td>\n    </tr>\n    <tr>\n      <th>...</th>\n      <td>...</td>\n      <td>...</td>\n      <td>...</td>\n      <td>...</td>\n    </tr>\n    <tr>\n      <th>tt7935392</th>\n      <td>Limbo</td>\n      <td>2019</td>\n      <td>Comedy, Drama, Horror</td>\n      <td>USA</td>\n    </tr>\n    <tr>\n      <th>tt3924144</th>\n      <td>OzLand</td>\n      <td>2014</td>\n      <td>Drama, Fantasy, Sci-Fi</td>\n      <td>USA</td>\n    </tr>\n    <tr>\n      <th>tt3044448</th>\n      <td>Jaanu</td>\n      <td>2012</td>\n      <td>Action, Drama, Romance</td>\n      <td>India</td>\n    </tr>\n    <tr>\n      <th>tt0432432</th>\n      <td>Rag Tale</td>\n      <td>2005</td>\n      <td>Comedy, Romance, Drama</td>\n      <td>UK, Luxembourg</td>\n    </tr>\n    <tr>\n      <th>tt2038245</th>\n      <td>Alzheimer</td>\n      <td>2011</td>\n      <td>Drama, Family, Mystery</td>\n      <td>Iran</td>\n    </tr>\n  </tbody>\n</table>\n<p>42928 rows × 4 columns</p>\n</div>"
     },
     "execution_count": 47,
     "metadata": {},
     "output_type": "execute_result"
    }
   ],
   "source": [
    "df_sample_2"
   ],
   "metadata": {
    "collapsed": false
   }
  },
  {
   "cell_type": "code",
   "execution_count": 49,
   "outputs": [
    {
     "data": {
      "text/plain": "                                           title  year   \nimdb_title_id                                            \ntt0132502           The Secret Laughter of Women  1999  \\\ntt2800356      Benoît Brisefer: Les taxis rouges  2014   \ntt2636488                           Hello Carter  2013   \ntt0092926                            Dragon Hunt  1990   \ntt2341766                        Nautanki Saala!  2013   \n...                                          ...   ...   \ntt7935392                                  Limbo  2019   \ntt3924144                                 OzLand  2014   \ntt3044448                                  Jaanu  2012   \ntt0432432                               Rag Tale  2005   \ntt2038245                              Alzheimer  2011   \n\n                                   genre              country  total_votes   \nimdb_title_id                                                                \ntt0132502         Comedy, Drama, Romance  UK, Canada, Nigeria          621  \\\ntt2800356      Adventure, Comedy, Family      France, Belgium          141   \ntt2636488                  Comedy, Drama                   UK          312   \ntt0092926                         Action               Canada          172   \ntt2341766                         Comedy                India         4087   \n...                                  ...                  ...          ...   \ntt7935392          Comedy, Drama, Horror                  USA          304   \ntt3924144         Drama, Fantasy, Sci-Fi                  USA          442   \ntt3044448         Action, Drama, Romance                India          163   \ntt0432432         Comedy, Romance, Drama       UK, Luxembourg          332   \ntt2038245         Drama, Family, Mystery                 Iran          283   \n\n               mean_vote  \nimdb_title_id             \ntt0132502            6.6  \ntt2800356            4.9  \ntt2636488            6.2  \ntt0092926            3.0  \ntt2341766            6.1  \n...                  ...  \ntt7935392            5.3  \ntt3924144            6.3  \ntt3044448            6.6  \ntt0432432            4.3  \ntt2038245            5.5  \n\n[42928 rows x 6 columns]",
      "text/html": "<div>\n<style scoped>\n    .dataframe tbody tr th:only-of-type {\n        vertical-align: middle;\n    }\n\n    .dataframe tbody tr th {\n        vertical-align: top;\n    }\n\n    .dataframe thead th {\n        text-align: right;\n    }\n</style>\n<table border=\"1\" class=\"dataframe\">\n  <thead>\n    <tr style=\"text-align: right;\">\n      <th></th>\n      <th>title</th>\n      <th>year</th>\n      <th>genre</th>\n      <th>country</th>\n      <th>total_votes</th>\n      <th>mean_vote</th>\n    </tr>\n    <tr>\n      <th>imdb_title_id</th>\n      <th></th>\n      <th></th>\n      <th></th>\n      <th></th>\n      <th></th>\n      <th></th>\n    </tr>\n  </thead>\n  <tbody>\n    <tr>\n      <th>tt0132502</th>\n      <td>The Secret Laughter of Women</td>\n      <td>1999</td>\n      <td>Comedy, Drama, Romance</td>\n      <td>UK, Canada, Nigeria</td>\n      <td>621</td>\n      <td>6.6</td>\n    </tr>\n    <tr>\n      <th>tt2800356</th>\n      <td>Benoît Brisefer: Les taxis rouges</td>\n      <td>2014</td>\n      <td>Adventure, Comedy, Family</td>\n      <td>France, Belgium</td>\n      <td>141</td>\n      <td>4.9</td>\n    </tr>\n    <tr>\n      <th>tt2636488</th>\n      <td>Hello Carter</td>\n      <td>2013</td>\n      <td>Comedy, Drama</td>\n      <td>UK</td>\n      <td>312</td>\n      <td>6.2</td>\n    </tr>\n    <tr>\n      <th>tt0092926</th>\n      <td>Dragon Hunt</td>\n      <td>1990</td>\n      <td>Action</td>\n      <td>Canada</td>\n      <td>172</td>\n      <td>3.0</td>\n    </tr>\n    <tr>\n      <th>tt2341766</th>\n      <td>Nautanki Saala!</td>\n      <td>2013</td>\n      <td>Comedy</td>\n      <td>India</td>\n      <td>4087</td>\n      <td>6.1</td>\n    </tr>\n    <tr>\n      <th>...</th>\n      <td>...</td>\n      <td>...</td>\n      <td>...</td>\n      <td>...</td>\n      <td>...</td>\n      <td>...</td>\n    </tr>\n    <tr>\n      <th>tt7935392</th>\n      <td>Limbo</td>\n      <td>2019</td>\n      <td>Comedy, Drama, Horror</td>\n      <td>USA</td>\n      <td>304</td>\n      <td>5.3</td>\n    </tr>\n    <tr>\n      <th>tt3924144</th>\n      <td>OzLand</td>\n      <td>2014</td>\n      <td>Drama, Fantasy, Sci-Fi</td>\n      <td>USA</td>\n      <td>442</td>\n      <td>6.3</td>\n    </tr>\n    <tr>\n      <th>tt3044448</th>\n      <td>Jaanu</td>\n      <td>2012</td>\n      <td>Action, Drama, Romance</td>\n      <td>India</td>\n      <td>163</td>\n      <td>6.6</td>\n    </tr>\n    <tr>\n      <th>tt0432432</th>\n      <td>Rag Tale</td>\n      <td>2005</td>\n      <td>Comedy, Romance, Drama</td>\n      <td>UK, Luxembourg</td>\n      <td>332</td>\n      <td>4.3</td>\n    </tr>\n    <tr>\n      <th>tt2038245</th>\n      <td>Alzheimer</td>\n      <td>2011</td>\n      <td>Drama, Family, Mystery</td>\n      <td>Iran</td>\n      <td>283</td>\n      <td>5.5</td>\n    </tr>\n  </tbody>\n</table>\n<p>42928 rows × 6 columns</p>\n</div>"
     },
     "execution_count": 49,
     "metadata": {},
     "output_type": "execute_result"
    }
   ],
   "source": [
    "df_left_2 = df_sample_2.merge(df_ratings, on='imdb_title_id', how='left')\n",
    "df_left_2"
   ],
   "metadata": {
    "collapsed": false
   }
  },
  {
   "cell_type": "code",
   "execution_count": 62,
   "outputs": [
    {
     "data": {
      "text/plain": "      imdb_title_id                           title  year   \n0         tt0000009                      Miss Jerry  1894  \\\n1         tt0000574     The Story of the Kelly Gang  1906   \n2         tt0001892                  Den sorte drøm  1911   \n3         tt0002101                       Cleopatra  1912   \n4         tt0002130                       L'Inferno  1911   \n...             ...                             ...   ...   \n85850     tt9908390                         Le lion  2020   \n85851     tt9911196  De Beentjes van Sint-Hildegard  2020   \n85852     tt9911774       Padmavyuhathile Abhimanyu  2019   \n85853     tt9914286               Sokagin Çocuklari  2019   \n85854     tt9914942      La vida sense la Sara Amat  2019   \n\n                           genre           country  \n0                        Romance               USA  \n1        Biography, Crime, Drama         Australia  \n2                          Drama  Germany, Denmark  \n3                 Drama, History               USA  \n4      Adventure, Drama, Fantasy             Italy  \n...                          ...               ...  \n85850                     Comedy   France, Belgium  \n85851              Comedy, Drama       Netherlands  \n85852                      Drama             India  \n85853              Drama, Family            Turkey  \n85854                      Drama             Spain  \n\n[85855 rows x 5 columns]",
      "text/html": "<div>\n<style scoped>\n    .dataframe tbody tr th:only-of-type {\n        vertical-align: middle;\n    }\n\n    .dataframe tbody tr th {\n        vertical-align: top;\n    }\n\n    .dataframe thead th {\n        text-align: right;\n    }\n</style>\n<table border=\"1\" class=\"dataframe\">\n  <thead>\n    <tr style=\"text-align: right;\">\n      <th></th>\n      <th>imdb_title_id</th>\n      <th>title</th>\n      <th>year</th>\n      <th>genre</th>\n      <th>country</th>\n    </tr>\n  </thead>\n  <tbody>\n    <tr>\n      <th>0</th>\n      <td>tt0000009</td>\n      <td>Miss Jerry</td>\n      <td>1894</td>\n      <td>Romance</td>\n      <td>USA</td>\n    </tr>\n    <tr>\n      <th>1</th>\n      <td>tt0000574</td>\n      <td>The Story of the Kelly Gang</td>\n      <td>1906</td>\n      <td>Biography, Crime, Drama</td>\n      <td>Australia</td>\n    </tr>\n    <tr>\n      <th>2</th>\n      <td>tt0001892</td>\n      <td>Den sorte drøm</td>\n      <td>1911</td>\n      <td>Drama</td>\n      <td>Germany, Denmark</td>\n    </tr>\n    <tr>\n      <th>3</th>\n      <td>tt0002101</td>\n      <td>Cleopatra</td>\n      <td>1912</td>\n      <td>Drama, History</td>\n      <td>USA</td>\n    </tr>\n    <tr>\n      <th>4</th>\n      <td>tt0002130</td>\n      <td>L'Inferno</td>\n      <td>1911</td>\n      <td>Adventure, Drama, Fantasy</td>\n      <td>Italy</td>\n    </tr>\n    <tr>\n      <th>...</th>\n      <td>...</td>\n      <td>...</td>\n      <td>...</td>\n      <td>...</td>\n      <td>...</td>\n    </tr>\n    <tr>\n      <th>85850</th>\n      <td>tt9908390</td>\n      <td>Le lion</td>\n      <td>2020</td>\n      <td>Comedy</td>\n      <td>France, Belgium</td>\n    </tr>\n    <tr>\n      <th>85851</th>\n      <td>tt9911196</td>\n      <td>De Beentjes van Sint-Hildegard</td>\n      <td>2020</td>\n      <td>Comedy, Drama</td>\n      <td>Netherlands</td>\n    </tr>\n    <tr>\n      <th>85852</th>\n      <td>tt9911774</td>\n      <td>Padmavyuhathile Abhimanyu</td>\n      <td>2019</td>\n      <td>Drama</td>\n      <td>India</td>\n    </tr>\n    <tr>\n      <th>85853</th>\n      <td>tt9914286</td>\n      <td>Sokagin Çocuklari</td>\n      <td>2019</td>\n      <td>Drama, Family</td>\n      <td>Turkey</td>\n    </tr>\n    <tr>\n      <th>85854</th>\n      <td>tt9914942</td>\n      <td>La vida sense la Sara Amat</td>\n      <td>2019</td>\n      <td>Drama</td>\n      <td>Spain</td>\n    </tr>\n  </tbody>\n</table>\n<p>85855 rows × 5 columns</p>\n</div>"
     },
     "execution_count": 62,
     "metadata": {},
     "output_type": "execute_result"
    }
   ],
   "source": [
    "df_movies_2 = pd.read_csv('data_files/IMDb movies.csv', low_memory=False)\n",
    "df_movies_2 = df_movies_2[['imdb_title_id', 'title', 'year', 'genre', 'country']]\n",
    "df_movies_2"
   ],
   "metadata": {
    "collapsed": false
   }
  },
  {
   "cell_type": "code",
   "execution_count": 63,
   "outputs": [],
   "source": [
    "for index in range(0,1000):\n",
    "    df_movies_2.loc[index, 'imdb_title_id'] = 'tt1234567890'"
   ],
   "metadata": {
    "collapsed": false
   }
  },
  {
   "cell_type": "code",
   "execution_count": 70,
   "outputs": [
    {
     "data": {
      "text/plain": "    imdb_title_id                        title  year   \n0    tt1234567890                   Miss Jerry  1894  \\\n1    tt1234567890  The Story of the Kelly Gang  1906   \n2    tt1234567890               Den sorte drøm  1911   \n3    tt1234567890                    Cleopatra  1912   \n4    tt1234567890                    L'Inferno  1911   \n..            ...                          ...   ...   \n995  tt1234567890            Agente segreto Z1  1930   \n996  tt1234567890                   Tom Sawyer  1930   \n997  tt1234567890               Tonka Sibenice  1930   \n998  tt1234567890                    Top Speed  1930   \n999  tt1234567890             True to the Navy  1930   \n\n                         genre                  country  total_votes   \n0                      Romance                      USA          NaN  \\\n1      Biography, Crime, Drama                Australia          NaN   \n2                        Drama         Germany, Denmark          NaN   \n3               Drama, History                      USA          NaN   \n4    Adventure, Drama, Fantasy                    Italy          NaN   \n..                         ...                      ...          ...   \n995                      Drama                      USA          NaN   \n996   Adventure, Comedy, Drama                      USA          NaN   \n997                      Drama  Czechoslovakia, Germany          NaN   \n998   Comedy, Musical, Romance                      USA          NaN   \n999    Action, Comedy, Romance                      USA          NaN   \n\n     mean_vote     _merge  \n0          NaN  left_only  \n1          NaN  left_only  \n2          NaN  left_only  \n3          NaN  left_only  \n4          NaN  left_only  \n..         ...        ...  \n995        NaN  left_only  \n996        NaN  left_only  \n997        NaN  left_only  \n998        NaN  left_only  \n999        NaN  left_only  \n\n[1000 rows x 8 columns]",
      "text/html": "<div>\n<style scoped>\n    .dataframe tbody tr th:only-of-type {\n        vertical-align: middle;\n    }\n\n    .dataframe tbody tr th {\n        vertical-align: top;\n    }\n\n    .dataframe thead th {\n        text-align: right;\n    }\n</style>\n<table border=\"1\" class=\"dataframe\">\n  <thead>\n    <tr style=\"text-align: right;\">\n      <th></th>\n      <th>imdb_title_id</th>\n      <th>title</th>\n      <th>year</th>\n      <th>genre</th>\n      <th>country</th>\n      <th>total_votes</th>\n      <th>mean_vote</th>\n      <th>_merge</th>\n    </tr>\n  </thead>\n  <tbody>\n    <tr>\n      <th>0</th>\n      <td>tt1234567890</td>\n      <td>Miss Jerry</td>\n      <td>1894</td>\n      <td>Romance</td>\n      <td>USA</td>\n      <td>NaN</td>\n      <td>NaN</td>\n      <td>left_only</td>\n    </tr>\n    <tr>\n      <th>1</th>\n      <td>tt1234567890</td>\n      <td>The Story of the Kelly Gang</td>\n      <td>1906</td>\n      <td>Biography, Crime, Drama</td>\n      <td>Australia</td>\n      <td>NaN</td>\n      <td>NaN</td>\n      <td>left_only</td>\n    </tr>\n    <tr>\n      <th>2</th>\n      <td>tt1234567890</td>\n      <td>Den sorte drøm</td>\n      <td>1911</td>\n      <td>Drama</td>\n      <td>Germany, Denmark</td>\n      <td>NaN</td>\n      <td>NaN</td>\n      <td>left_only</td>\n    </tr>\n    <tr>\n      <th>3</th>\n      <td>tt1234567890</td>\n      <td>Cleopatra</td>\n      <td>1912</td>\n      <td>Drama, History</td>\n      <td>USA</td>\n      <td>NaN</td>\n      <td>NaN</td>\n      <td>left_only</td>\n    </tr>\n    <tr>\n      <th>4</th>\n      <td>tt1234567890</td>\n      <td>L'Inferno</td>\n      <td>1911</td>\n      <td>Adventure, Drama, Fantasy</td>\n      <td>Italy</td>\n      <td>NaN</td>\n      <td>NaN</td>\n      <td>left_only</td>\n    </tr>\n    <tr>\n      <th>...</th>\n      <td>...</td>\n      <td>...</td>\n      <td>...</td>\n      <td>...</td>\n      <td>...</td>\n      <td>...</td>\n      <td>...</td>\n      <td>...</td>\n    </tr>\n    <tr>\n      <th>995</th>\n      <td>tt1234567890</td>\n      <td>Agente segreto Z1</td>\n      <td>1930</td>\n      <td>Drama</td>\n      <td>USA</td>\n      <td>NaN</td>\n      <td>NaN</td>\n      <td>left_only</td>\n    </tr>\n    <tr>\n      <th>996</th>\n      <td>tt1234567890</td>\n      <td>Tom Sawyer</td>\n      <td>1930</td>\n      <td>Adventure, Comedy, Drama</td>\n      <td>USA</td>\n      <td>NaN</td>\n      <td>NaN</td>\n      <td>left_only</td>\n    </tr>\n    <tr>\n      <th>997</th>\n      <td>tt1234567890</td>\n      <td>Tonka Sibenice</td>\n      <td>1930</td>\n      <td>Drama</td>\n      <td>Czechoslovakia, Germany</td>\n      <td>NaN</td>\n      <td>NaN</td>\n      <td>left_only</td>\n    </tr>\n    <tr>\n      <th>998</th>\n      <td>tt1234567890</td>\n      <td>Top Speed</td>\n      <td>1930</td>\n      <td>Comedy, Musical, Romance</td>\n      <td>USA</td>\n      <td>NaN</td>\n      <td>NaN</td>\n      <td>left_only</td>\n    </tr>\n    <tr>\n      <th>999</th>\n      <td>tt1234567890</td>\n      <td>True to the Navy</td>\n      <td>1930</td>\n      <td>Action, Comedy, Romance</td>\n      <td>USA</td>\n      <td>NaN</td>\n      <td>NaN</td>\n      <td>left_only</td>\n    </tr>\n  </tbody>\n</table>\n<p>1000 rows × 8 columns</p>\n</div>"
     },
     "execution_count": 70,
     "metadata": {},
     "output_type": "execute_result"
    }
   ],
   "source": [
    "df_movies_2.merge(df_ratings,on = 'imdb_title_id', how = 'outer', indicator=True).query(\"_merge=='left_only'\")"
   ],
   "metadata": {
    "collapsed": false
   }
  },
  {
   "cell_type": "code",
   "execution_count": 71,
   "outputs": [
    {
     "data": {
      "text/plain": "(85855, 5)"
     },
     "execution_count": 71,
     "metadata": {},
     "output_type": "execute_result"
    }
   ],
   "source": [
    "df_movies_2.shape"
   ],
   "metadata": {
    "collapsed": false
   }
  },
  {
   "cell_type": "code",
   "execution_count": null,
   "outputs": [],
   "source": [],
   "metadata": {
    "collapsed": false
   }
  }
 ],
 "metadata": {
  "kernelspec": {
   "display_name": "Python 3",
   "language": "python",
   "name": "python3"
  },
  "language_info": {
   "codemirror_mode": {
    "name": "ipython",
    "version": 2
   },
   "file_extension": ".py",
   "mimetype": "text/x-python",
   "name": "python",
   "nbconvert_exporter": "python",
   "pygments_lexer": "ipython2",
   "version": "2.7.6"
  }
 },
 "nbformat": 4,
 "nbformat_minor": 0
}
